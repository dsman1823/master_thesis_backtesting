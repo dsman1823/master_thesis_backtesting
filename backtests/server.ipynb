{
 "cells": [
  {
   "cell_type": "markdown",
   "id": "a388c7d0",
   "metadata": {},
   "source": [
    "# This notebook provides portfolio weights based on the historical data to the backtesting notebook"
   ]
  },
  {
   "cell_type": "code",
   "execution_count": null,
   "id": "04a4ce3b",
   "metadata": {},
   "outputs": [],
   "source": [
    "!pip uninstall deepdowmine -y\n",
    "!pip install git+https://github.com/dsman1823/deepdowmine.git"
   ]
  },
  {
   "cell_type": "code",
   "execution_count": 1,
   "id": "9b37e532",
   "metadata": {},
   "outputs": [],
   "source": [
    "import torch\n",
    "\n",
    "import pandas as pd\n",
    "import numpy as np\n",
    "\n",
    "from datetime import datetime \n",
    "from deepdowmine.nn import LinearNetMine, UpdNumericalMarkowitzWithShorting, UpdLinearNetMine, UpdDenseNet, UpdUpdLinearNetMine\n",
    "from deepdowmine.nn import DenseNetMinVar, ConvNetFullOpti, ConvNetMinVar, RnnNetMinVar, LstmNetMinVar, RnnNetFullOpti\n",
    "from deepdowmine.nn import LstmNetFullOpti, DenseNetFullOpti2, DenseNetMinVar2, RnnNetMinVar2, RnnNetFullOpti2, ConvNetMinVar2\n",
    "from dateutil.relativedelta import relativedelta\n",
    "from datetime import datetime, date"
   ]
  },
  {
   "cell_type": "code",
   "execution_count": 2,
   "id": "78fd3bba",
   "metadata": {},
   "outputs": [],
   "source": [
    "RETS_FILE_PATH = 'historical_returns.csv'\n",
    "\n",
    "\n",
    "\n",
    "loockback, gap, horizon = 50, 0, 5\n",
    "n_assets = 5\n",
    "loockback = 50\n"
   ]
  },
  {
   "cell_type": "markdown",
   "id": "6c88f90a",
   "metadata": {},
   "source": [
    "## Load NN from dict"
   ]
  },
  {
   "cell_type": "code",
   "execution_count": 3,
   "id": "36a91bae",
   "metadata": {},
   "outputs": [],
   "source": [
    "LINEAR_NET_OSHARPE_FILE_PATH = r'./NNs/linear_net_50x5_sharpe.pth' # LinearNetMine with ordinary Sharpe cost"
   ]
  },
  {
   "cell_type": "code",
   "execution_count": 4,
   "id": "7a634b07",
   "metadata": {},
   "outputs": [],
   "source": [
    "# years parameter reprsenets amount of years after the backtest stasrt: the model dowloaded is the the model trained \n",
    "# on the period (train_start, back_test_start + years) \n",
    "\n",
    "\n",
    "# LinearNetMine with ordinary sharpe cost function\n",
    "def load_linear_net_osharpe(years=0):\n",
    "    network = LinearNetMine(1, loockback, n_assets, p=0.5)\n",
    "    network.load_state_dict(torch.load(fr'./NNs/linear_net_50x5_sharpe_{years}.pth'))\n",
    "    print(fr'./NNs/linear_net_50x5_sharpe_{years}.pth')\n",
    "    return network.eval()\n",
    "    "
   ]
  },
  {
   "cell_type": "code",
   "execution_count": 5,
   "id": "fd38307d",
   "metadata": {},
   "outputs": [],
   "source": [
    "def load_dense_net(years=0):\n",
    "    network = UpdLinearNetMine(1, loockback, n_assets, p=0.5)\n",
    "    network.load_state_dict(torch.load(fr'./NNs/dense_{years}.pth'))\n",
    "    print(fr'dense_{years}.pth')\n",
    "    return network.eval()"
   ]
  },
  {
   "cell_type": "markdown",
   "id": "a0c6d5c7",
   "metadata": {},
   "source": [
    "## Core functions"
   ]
  },
  {
   "cell_type": "code",
   "execution_count": 6,
   "id": "9b0ed9ac",
   "metadata": {},
   "outputs": [],
   "source": [
    "def transform_rets_to_NN_input(rets):\n",
    "    # tranform (loockback, n_assets) df into (1, 1, loockback, n_assets)=(sample_size, n_channels, loockback, n_assets) tensor \n",
    "    returns_np = rets.to_numpy()\n",
    "\n",
    "    # Add the required dimensions: (n_samples, n_channels, lookback, n_assets)\n",
    "    returns_np_expanded = np.expand_dims(returns_np, axis=0)  # Adds n_samples dimension\n",
    "    returns_np_expanded = np.expand_dims(returns_np_expanded, axis=0)  \n",
    "    return torch.from_numpy(returns_np_expanded).float()\n",
    "\n",
    "def weights_from_NN(rets, network):\n",
    "    X = transform_rets_to_NN_input(rets)\n",
    "    return network(X).detach().numpy()[0]\n",
    "\n",
    "# method is a function, used for obtaining the returns\n",
    "def get_weights(method):\n",
    "    rets = pd.read_csv(RETS_FILE_PATH, index_col=0)\n",
    "    return method(rets)"
   ]
  },
  {
   "cell_type": "markdown",
   "id": "7d65c2c4",
   "metadata": {},
   "source": [
    "## NNs and related methods\n",
    "\n",
    "\n",
    "### NNs\n",
    "\n",
    "networks[i] method is trained on (train_start, backtest_start + i years) data interval"
   ]
  },
  {
   "cell_type": "code",
   "execution_count": 7,
   "id": "87ac6576",
   "metadata": {},
   "outputs": [
    {
     "name": "stdout",
     "output_type": "stream",
     "text": [
      "./NNs/linear_net_50x5_sharpe_0.pth\n",
      "./NNs/linear_net_50x5_sharpe_1.pth\n",
      "./NNs/linear_net_50x5_sharpe_2.pth\n",
      "dense_0.pth\n",
      "dense_1.pth\n",
      "dense_2.pth\n"
     ]
    }
   ],
   "source": [
    "years = [0, 1, 2]#, 1, 2]\n",
    "\n",
    "linear_osharpe_networks = [load_linear_net_osharpe(years=i) for i in years]\n",
    "dense_networks = [load_dense_net(years=i) for i in years]"
   ]
  },
  {
   "cell_type": "markdown",
   "id": "db5b112d",
   "metadata": {},
   "source": [
    "### methods"
   ]
  },
  {
   "cell_type": "code",
   "execution_count": 8,
   "id": "728b35c5",
   "metadata": {},
   "outputs": [
    {
     "data": {
      "text/plain": [
       "tensor([ 0.0484,  0.0029, -0.0442], grad_fn=<SliceBackward0>)"
      ]
     },
     "execution_count": 8,
     "metadata": {},
     "output_type": "execute_result"
    }
   ],
   "source": [
    "dense_networks[1].linear0.bias[0:3]"
   ]
  },
  {
   "cell_type": "code",
   "execution_count": 9,
   "id": "35739537",
   "metadata": {},
   "outputs": [
    {
     "data": {
      "text/plain": [
       "tensor([ 0.0484,  0.0029, -0.0442], grad_fn=<SliceBackward0>)"
      ]
     },
     "execution_count": 9,
     "metadata": {},
     "output_type": "execute_result"
    }
   ],
   "source": [
    "dense_networks[2].linear0.bias[0:3]"
   ]
  },
  {
   "cell_type": "code",
   "execution_count": 10,
   "id": "28670905",
   "metadata": {},
   "outputs": [],
   "source": [
    "# note the format of lambda \n",
    "linear_osharpe_methods = [lambda r, i=i: weights_from_NN(r, linear_osharpe_networks[i]) for i in years] \n",
    "dense_methods = [lambda r, i=i: weights_from_NN(r, dense_networks[i]) for i in years] \n"
   ]
  },
  {
   "cell_type": "code",
   "execution_count": 11,
   "id": "7045f79e",
   "metadata": {},
   "outputs": [
    {
     "data": {
      "text/plain": [
       "[array([0.01819081, 0.24908274, 0.29753768, 0.41258937, 0.0225994 ],\n",
       "       dtype=float32),\n",
       " array([-0.03791929,  0.1064674 ,  0.4017897 ,  0.46670547,  0.06295667],\n",
       "       dtype=float32),\n",
       " array([-0.03175861,  0.18791872,  0.14897145,  0.48070765,  0.21416074],\n",
       "       dtype=float32)]"
      ]
     },
     "execution_count": 11,
     "metadata": {},
     "output_type": "execute_result"
    }
   ],
   "source": [
    "[get_weights(dense_methods[i]) for i in years]"
   ]
  },
  {
   "cell_type": "markdown",
   "id": "e7fae4ce",
   "metadata": {},
   "source": [
    "# Server"
   ]
  },
  {
   "cell_type": "code",
   "execution_count": 12,
   "id": "be630bfa",
   "metadata": {},
   "outputs": [],
   "source": [
    "\n",
    "\n",
    "# RETRAINING_DATE2018 = date(2018, 12, 15)\n",
    "# RETRAINING_DATE2019 = date(2019, 12, 15)\n",
    "\n",
    "RETRAINING_DATE1 = date(2021, 12, 15)\n",
    "RETRAINING_DATE2 = date(2022, 12, 15)"
   ]
  },
  {
   "cell_type": "code",
   "execution_count": 13,
   "id": "62cc3389",
   "metadata": {},
   "outputs": [],
   "source": [
    "from flask import Flask, request, jsonify\n",
    "from flask_cors import CORS \n",
    "\n",
    "import numpy as np\n",
    "\n",
    "app = Flask(__name__)\n",
    "CORS(app)  # Enable CORS for your Flask app\n",
    "\n",
    "markers = {}\n",
    "markers['net_initialized'] = False\n",
    "\n",
    "@app.route('/get_weights', methods=['GET'])\n",
    "def get_request():\n",
    "    # Extract date string from the query parameters\n",
    "    date_str = request.args.get('date', None)\n",
    "    \n",
    "    # Simple validation to check if date is provided\n",
    "    if not date_str:\n",
    "        return jsonify({\"error\": \"Missing date parameter\"}), 400\n",
    "\n",
    "    # Try to convert the date string to a datetime object\n",
    "    try:\n",
    "        # Note that now we're only parsing the date, not the time\n",
    "        date = datetime.strptime(date_str, \"%Y-%m-%d\").date()\n",
    "    except ValueError:\n",
    "        # If there is an error in parsing the date, return an error message\n",
    "        return jsonify({\"error\": \"Invalid date format. Please use YYYY-MM-DD format.\"}), 400\n",
    "    \n",
    "    years_plus = 0\n",
    "    network = ConvNetMinVar2(1, 50, 5, .15, 1)\n",
    "    network.load_state_dict(torch.load(fr'./NNs/trained_on_new_data/conv/min_var_0.pth'))\n",
    "\n",
    "    \n",
    "    if date < RETRAINING_DATE1:\n",
    "        print(0)\n",
    "    if RETRAINING_DATE1 < date < RETRAINING_DATE2:\n",
    "        print('1')\n",
    "        network = ConvNetMinVar2(1, 50, 5, .15, 1)\n",
    "        network.load_state_dict(torch.load(fr'./NNs/trained_on_new_data/conv/min_var_1.pth'))\n",
    "    if RETRAINING_DATE2 < date:\n",
    "        print('2')\n",
    "        network = ConvNetMinVar2(1, 50, 5, .15, 1)\n",
    "        network.load_state_dict(torch.load(fr'./NNs/trained_on_new_data/conv/min_var_2.pth'))\n",
    "\n",
    "    rets = pd.read_csv(RETS_FILE_PATH, index_col=0)\n",
    "    X = transform_rets_to_NN_input(rets)\n",
    "    weights = network.eval()(X).detach().numpy()[0].tolist()\n",
    "    \n",
    "        \n",
    "    #weights = weights_from_NN(rets, linear_osharpe_networks[0]).tolist()\n",
    "    #print(weights)\n",
    "    # Return the vector as JSON, using the string representation of the date for simplicity\n",
    "    print(date)\n",
    "    print(weights)\n",
    "    return jsonify({'weights': weights})\n"
   ]
  },
  {
   "cell_type": "code",
   "execution_count": null,
   "id": "ed150707",
   "metadata": {},
   "outputs": [
    {
     "name": "stdout",
     "output_type": "stream",
     "text": [
      " * Serving Flask app '__main__'\n",
      " * Debug mode: off\n"
     ]
    },
    {
     "name": "stderr",
     "output_type": "stream",
     "text": [
      "WARNING: This is a development server. Do not use it in a production deployment. Use a production WSGI server instead.\n",
      " * Running on http://127.0.0.1:5000\n",
      "Press CTRL+C to quit\n",
      "127.0.0.1 - - [07/Apr/2024 00:48:00] \"GET /get_weights?date=2020-12-21 HTTP/1.1\" 200 -\n"
     ]
    },
    {
     "name": "stdout",
     "output_type": "stream",
     "text": [
      "0\n",
      "2020-12-21\n",
      "[-0.3147144913673401, 0.9999938607215881, -0.19605451822280884, 0.48103758692741394, 0.029737472534179688]\n"
     ]
    },
    {
     "name": "stderr",
     "output_type": "stream",
     "text": [
      "127.0.0.1 - - [07/Apr/2024 00:48:02] \"GET /get_weights?date=2020-12-28 HTTP/1.1\" 200 -\n"
     ]
    },
    {
     "name": "stdout",
     "output_type": "stream",
     "text": [
      "0\n",
      "2020-12-28\n",
      "[0.06423242390155792, 0.201311394572258, -0.22191432118415833, 0.9754660129547119, -0.019095532596111298]\n"
     ]
    },
    {
     "name": "stderr",
     "output_type": "stream",
     "text": [
      "127.0.0.1 - - [07/Apr/2024 00:48:04] \"GET /get_weights?date=2021-01-04 HTTP/1.1\" 200 -\n"
     ]
    },
    {
     "name": "stdout",
     "output_type": "stream",
     "text": [
      "0\n",
      "2021-01-04\n",
      "[0.18179692327976227, 0.1357293576002121, 0.33061423897743225, 0.798307478427887, -0.44644805788993835]\n"
     ]
    },
    {
     "name": "stderr",
     "output_type": "stream",
     "text": [
      "127.0.0.1 - - [07/Apr/2024 00:48:07] \"GET /get_weights?date=2021-01-11 HTTP/1.1\" 200 -\n"
     ]
    },
    {
     "name": "stdout",
     "output_type": "stream",
     "text": [
      "0\n",
      "2021-01-11\n",
      "[-0.16662244498729706, 0.09917405247688293, 0.05370962247252464, 0.8366597294807434, 0.17707905173301697]\n"
     ]
    },
    {
     "name": "stderr",
     "output_type": "stream",
     "text": [
      "127.0.0.1 - - [07/Apr/2024 00:48:09] \"GET /get_weights?date=2021-01-19 HTTP/1.1\" 200 -\n"
     ]
    },
    {
     "name": "stdout",
     "output_type": "stream",
     "text": [
      "0\n",
      "2021-01-19\n",
      "[-0.1374533474445343, 0.22342228889465332, 0.1632424145936966, 0.9999035000801086, -0.24911491572856903]\n"
     ]
    },
    {
     "name": "stderr",
     "output_type": "stream",
     "text": [
      "127.0.0.1 - - [07/Apr/2024 00:48:11] \"GET /get_weights?date=2021-01-25 HTTP/1.1\" 200 -\n"
     ]
    },
    {
     "name": "stdout",
     "output_type": "stream",
     "text": [
      "0\n",
      "2021-01-25\n",
      "[-0.25585636496543884, 0.2912152111530304, 0.2894293963909149, 0.5518965125083923, 0.12331523001194]\n"
     ]
    },
    {
     "name": "stderr",
     "output_type": "stream",
     "text": [
      "127.0.0.1 - - [07/Apr/2024 00:48:13] \"GET /get_weights?date=2021-02-01 HTTP/1.1\" 200 -\n"
     ]
    },
    {
     "name": "stdout",
     "output_type": "stream",
     "text": [
      "0\n",
      "2021-02-01\n",
      "[-0.2723153829574585, 0.3272469937801361, 0.029797865077853203, 0.5646688342094421, 0.3506016731262207]\n"
     ]
    },
    {
     "name": "stderr",
     "output_type": "stream",
     "text": [
      "127.0.0.1 - - [07/Apr/2024 00:48:15] \"GET /get_weights?date=2021-02-08 HTTP/1.1\" 200 -\n"
     ]
    },
    {
     "name": "stdout",
     "output_type": "stream",
     "text": [
      "0\n",
      "2021-02-08\n",
      "[-0.11866391450166702, 0.5451988577842712, 0.06536330282688141, 0.24601788818836212, 0.26208382844924927]\n"
     ]
    },
    {
     "name": "stderr",
     "output_type": "stream",
     "text": [
      "127.0.0.1 - - [07/Apr/2024 00:48:18] \"GET /get_weights?date=2021-02-16 HTTP/1.1\" 200 -\n"
     ]
    },
    {
     "name": "stdout",
     "output_type": "stream",
     "text": [
      "0\n",
      "2021-02-16\n",
      "[-0.12957122921943665, 0.7911673188209534, 0.09300418943166733, 0.5898680090904236, -0.34446826577186584]\n"
     ]
    },
    {
     "name": "stderr",
     "output_type": "stream",
     "text": [
      "127.0.0.1 - - [07/Apr/2024 00:48:20] \"GET /get_weights?date=2021-02-22 HTTP/1.1\" 200 -\n"
     ]
    },
    {
     "name": "stdout",
     "output_type": "stream",
     "text": [
      "0\n",
      "2021-02-22\n",
      "[-0.42432379722595215, 0.9159971475601196, -0.11018963158130646, 0.2456529438495636, 0.37286338210105896]\n"
     ]
    },
    {
     "name": "stderr",
     "output_type": "stream",
     "text": [
      "127.0.0.1 - - [07/Apr/2024 00:48:22] \"GET /get_weights?date=2021-03-01 HTTP/1.1\" 200 -\n"
     ]
    },
    {
     "name": "stdout",
     "output_type": "stream",
     "text": [
      "0\n",
      "2021-03-01\n",
      "[-0.026561491191387177, 0.3810127079486847, 0.5477799773216248, 0.22807033360004425, -0.1303015798330307]\n"
     ]
    },
    {
     "name": "stderr",
     "output_type": "stream",
     "text": [
      "127.0.0.1 - - [07/Apr/2024 00:48:25] \"GET /get_weights?date=2021-03-08 HTTP/1.1\" 200 -\n"
     ]
    },
    {
     "name": "stdout",
     "output_type": "stream",
     "text": [
      "0\n",
      "2021-03-08\n",
      "[-0.19879041612148285, 0.5054277181625366, -0.08919543027877808, 0.9999956488609314, -0.2174374908208847]\n"
     ]
    },
    {
     "name": "stderr",
     "output_type": "stream",
     "text": [
      "127.0.0.1 - - [07/Apr/2024 00:48:27] \"GET /get_weights?date=2021-03-15 HTTP/1.1\" 200 -\n"
     ]
    },
    {
     "name": "stdout",
     "output_type": "stream",
     "text": [
      "0\n",
      "2021-03-15\n",
      "[0.04918297380208969, 0.27705448865890503, -0.21363525092601776, 0.8059545755386353, 0.08144319802522659]\n"
     ]
    },
    {
     "name": "stderr",
     "output_type": "stream",
     "text": [
      "127.0.0.1 - - [07/Apr/2024 00:48:29] \"GET /get_weights?date=2021-03-22 HTTP/1.1\" 200 -\n"
     ]
    },
    {
     "name": "stdout",
     "output_type": "stream",
     "text": [
      "0\n",
      "2021-03-22\n",
      "[0.02269219420850277, 0.6027089357376099, 0.1265539526939392, 0.3133399486541748, -0.06529504805803299]\n"
     ]
    },
    {
     "name": "stderr",
     "output_type": "stream",
     "text": [
      "127.0.0.1 - - [07/Apr/2024 00:48:31] \"GET /get_weights?date=2021-03-29 HTTP/1.1\" 200 -\n"
     ]
    },
    {
     "name": "stdout",
     "output_type": "stream",
     "text": [
      "0\n",
      "2021-03-29\n",
      "[0.08491352945566177, 0.5950033068656921, -0.08246291428804398, 0.1606120616197586, 0.2419339120388031]\n"
     ]
    },
    {
     "name": "stderr",
     "output_type": "stream",
     "text": [
      "127.0.0.1 - - [07/Apr/2024 00:48:33] \"GET /get_weights?date=2021-04-05 HTTP/1.1\" 200 -\n"
     ]
    },
    {
     "name": "stdout",
     "output_type": "stream",
     "text": [
      "0\n",
      "2021-04-05\n",
      "[-0.4729097783565521, -0.0090608736500144, 0.6356179118156433, 0.6963991522789001, 0.14995354413986206]\n"
     ]
    },
    {
     "name": "stderr",
     "output_type": "stream",
     "text": [
      "127.0.0.1 - - [07/Apr/2024 00:48:35] \"GET /get_weights?date=2021-04-12 HTTP/1.1\" 200 -\n"
     ]
    },
    {
     "name": "stdout",
     "output_type": "stream",
     "text": [
      "0\n",
      "2021-04-12\n",
      "[-0.25317350029945374, 0.5603227615356445, -0.003766682930290699, 0.6039935350418091, 0.0926237404346466]\n"
     ]
    },
    {
     "name": "stderr",
     "output_type": "stream",
     "text": [
      "127.0.0.1 - - [07/Apr/2024 00:48:38] \"GET /get_weights?date=2021-04-19 HTTP/1.1\" 200 -\n"
     ]
    },
    {
     "name": "stdout",
     "output_type": "stream",
     "text": [
      "0\n",
      "2021-04-19\n",
      "[0.3004234731197357, 0.6256570219993591, 0.09286171942949295, 0.0924074575304985, -0.11134964972734451]\n"
     ]
    },
    {
     "name": "stderr",
     "output_type": "stream",
     "text": [
      "127.0.0.1 - - [07/Apr/2024 00:48:40] \"GET /get_weights?date=2021-04-26 HTTP/1.1\" 200 -\n"
     ]
    },
    {
     "name": "stdout",
     "output_type": "stream",
     "text": [
      "0\n",
      "2021-04-26\n",
      "[-0.5857607126235962, 0.9826666712760925, -0.004996011033654213, 0.2388898879289627, 0.36920008063316345]\n"
     ]
    },
    {
     "name": "stderr",
     "output_type": "stream",
     "text": [
      "127.0.0.1 - - [07/Apr/2024 00:48:42] \"GET /get_weights?date=2021-05-03 HTTP/1.1\" 200 -\n"
     ]
    },
    {
     "name": "stdout",
     "output_type": "stream",
     "text": [
      "0\n",
      "2021-05-03\n",
      "[-0.03444073721766472, 0.5652098059654236, 0.45819246768951416, 0.2629270553588867, -0.2518886625766754]\n"
     ]
    },
    {
     "name": "stderr",
     "output_type": "stream",
     "text": [
      "127.0.0.1 - - [07/Apr/2024 00:48:44] \"GET /get_weights?date=2021-05-10 HTTP/1.1\" 200 -\n"
     ]
    },
    {
     "name": "stdout",
     "output_type": "stream",
     "text": [
      "0\n",
      "2021-05-10\n",
      "[-0.3469972312450409, 0.5906282663345337, 0.26601290702819824, 0.4155421853065491, 0.0748138576745987]\n"
     ]
    },
    {
     "name": "stderr",
     "output_type": "stream",
     "text": [
      "127.0.0.1 - - [07/Apr/2024 00:48:46] \"GET /get_weights?date=2021-05-17 HTTP/1.1\" 200 -\n"
     ]
    },
    {
     "name": "stdout",
     "output_type": "stream",
     "text": [
      "0\n",
      "2021-05-17\n",
      "[-0.34618043899536133, 1.0000230073928833, 0.2668156027793884, 0.060626715421676636, 0.018714874982833862]\n"
     ]
    },
    {
     "name": "stderr",
     "output_type": "stream",
     "text": [
      "127.0.0.1 - - [07/Apr/2024 00:48:49] \"GET /get_weights?date=2021-05-24 HTTP/1.1\" 200 -\n"
     ]
    },
    {
     "name": "stdout",
     "output_type": "stream",
     "text": [
      "0\n",
      "2021-05-24\n",
      "[-0.3538849353790283, 0.4314286708831787, -0.0038659425918012857, 0.5572905540466309, 0.3690316081047058]\n"
     ]
    },
    {
     "name": "stderr",
     "output_type": "stream",
     "text": [
      "127.0.0.1 - - [07/Apr/2024 00:48:51] \"GET /get_weights?date=2021-06-01 HTTP/1.1\" 200 -\n"
     ]
    },
    {
     "name": "stdout",
     "output_type": "stream",
     "text": [
      "0\n",
      "2021-06-01\n",
      "[-0.2371480017900467, 0.6115019917488098, -0.018340691924095154, 0.5757585763931274, 0.06822812557220459]\n"
     ]
    },
    {
     "name": "stderr",
     "output_type": "stream",
     "text": [
      "127.0.0.1 - - [07/Apr/2024 00:48:53] \"GET /get_weights?date=2021-06-07 HTTP/1.1\" 200 -\n"
     ]
    },
    {
     "name": "stdout",
     "output_type": "stream",
     "text": [
      "0\n",
      "2021-06-07\n",
      "[-0.000927091168705374, 0.6808251738548279, -0.31885164976119995, 0.5343514680862427, 0.10460212081670761]\n"
     ]
    },
    {
     "name": "stderr",
     "output_type": "stream",
     "text": [
      "127.0.0.1 - - [07/Apr/2024 00:48:55] \"GET /get_weights?date=2021-06-14 HTTP/1.1\" 200 -\n"
     ]
    },
    {
     "name": "stdout",
     "output_type": "stream",
     "text": [
      "0\n",
      "2021-06-14\n",
      "[-0.31015628576278687, 0.8248267769813538, 0.13171546161174774, 0.46368226408958435, -0.11006831377744675]\n"
     ]
    },
    {
     "name": "stderr",
     "output_type": "stream",
     "text": [
      "127.0.0.1 - - [07/Apr/2024 00:48:57] \"GET /get_weights?date=2021-06-21 HTTP/1.1\" 200 -\n"
     ]
    },
    {
     "name": "stdout",
     "output_type": "stream",
     "text": [
      "0\n",
      "2021-06-21\n",
      "[-0.08217958360910416, 0.5410506129264832, 0.15621937811374664, 0.2947295308113098, 0.09017977863550186]\n"
     ]
    },
    {
     "name": "stderr",
     "output_type": "stream",
     "text": [
      "127.0.0.1 - - [07/Apr/2024 00:48:59] \"GET /get_weights?date=2021-06-28 HTTP/1.1\" 200 -\n"
     ]
    },
    {
     "name": "stdout",
     "output_type": "stream",
     "text": [
      "0\n",
      "2021-06-28\n",
      "[-0.6660982370376587, 0.24142594635486603, 0.6454974412918091, 0.7312386631965637, 0.04793626070022583]\n"
     ]
    },
    {
     "name": "stderr",
     "output_type": "stream",
     "text": [
      "127.0.0.1 - - [07/Apr/2024 00:49:02] \"GET /get_weights?date=2021-07-06 HTTP/1.1\" 200 -\n"
     ]
    },
    {
     "name": "stdout",
     "output_type": "stream",
     "text": [
      "0\n",
      "2021-07-06\n",
      "[-0.3951191306114197, 0.28899040818214417, 0.012144291773438454, 0.6611229181289673, 0.4328615069389343]\n"
     ]
    },
    {
     "name": "stderr",
     "output_type": "stream",
     "text": [
      "127.0.0.1 - - [07/Apr/2024 00:49:04] \"GET /get_weights?date=2021-07-12 HTTP/1.1\" 200 -\n"
     ]
    },
    {
     "name": "stdout",
     "output_type": "stream",
     "text": [
      "0\n",
      "2021-07-12\n",
      "[-0.0014485486317425966, 0.9088366031646729, -0.06978628784418106, 0.20791377127170563, -0.04551557078957558]\n"
     ]
    },
    {
     "name": "stderr",
     "output_type": "stream",
     "text": [
      "127.0.0.1 - - [07/Apr/2024 00:49:06] \"GET /get_weights?date=2021-07-19 HTTP/1.1\" 200 -\n"
     ]
    },
    {
     "name": "stdout",
     "output_type": "stream",
     "text": [
      "0\n",
      "2021-07-19\n",
      "[-0.22754709422588348, 0.565061092376709, 0.31626448035240173, 0.4546752870082855, -0.10845381021499634]\n"
     ]
    },
    {
     "name": "stderr",
     "output_type": "stream",
     "text": [
      "127.0.0.1 - - [07/Apr/2024 00:49:08] \"GET /get_weights?date=2021-07-26 HTTP/1.1\" 200 -\n"
     ]
    },
    {
     "name": "stdout",
     "output_type": "stream",
     "text": [
      "0\n",
      "2021-07-26\n",
      "[-0.1126595214009285, 0.14814108610153198, -0.21491698920726776, 0.8162450194358826, 0.36319029331207275]\n"
     ]
    },
    {
     "name": "stderr",
     "output_type": "stream",
     "text": [
      "127.0.0.1 - - [07/Apr/2024 00:49:10] \"GET /get_weights?date=2021-08-02 HTTP/1.1\" 200 -\n"
     ]
    },
    {
     "name": "stdout",
     "output_type": "stream",
     "text": [
      "0\n",
      "2021-08-02\n",
      "[0.0681508481502533, 0.09013109654188156, -0.07306937873363495, 0.9908642768859863, -0.07607685774564743]\n"
     ]
    },
    {
     "name": "stderr",
     "output_type": "stream",
     "text": [
      "127.0.0.1 - - [07/Apr/2024 00:49:12] \"GET /get_weights?date=2021-08-09 HTTP/1.1\" 200 -\n"
     ]
    },
    {
     "name": "stdout",
     "output_type": "stream",
     "text": [
      "0\n",
      "2021-08-09\n",
      "[-0.6166369915008545, 0.9902401566505432, 0.22018656134605408, 0.43798497319221497, -0.031774718314409256]\n"
     ]
    },
    {
     "name": "stderr",
     "output_type": "stream",
     "text": [
      "127.0.0.1 - - [07/Apr/2024 00:49:15] \"GET /get_weights?date=2021-08-16 HTTP/1.1\" 200 -\n"
     ]
    },
    {
     "name": "stdout",
     "output_type": "stream",
     "text": [
      "0\n",
      "2021-08-16\n",
      "[-0.10369981825351715, 0.4550583064556122, 0.4705444276332855, 0.2864917814731598, -0.10839500278234482]\n"
     ]
    },
    {
     "name": "stderr",
     "output_type": "stream",
     "text": [
      "127.0.0.1 - - [07/Apr/2024 00:49:17] \"GET /get_weights?date=2021-08-23 HTTP/1.1\" 200 -\n"
     ]
    },
    {
     "name": "stdout",
     "output_type": "stream",
     "text": [
      "0\n",
      "2021-08-23\n",
      "[-0.10905713587999344, 0.811764657497406, 0.04790807515382767, 0.37639009952545166, -0.1270057111978531]\n"
     ]
    },
    {
     "name": "stderr",
     "output_type": "stream",
     "text": [
      "127.0.0.1 - - [07/Apr/2024 00:49:19] \"GET /get_weights?date=2021-08-30 HTTP/1.1\" 200 -\n"
     ]
    },
    {
     "name": "stdout",
     "output_type": "stream",
     "text": [
      "0\n",
      "2021-08-30\n",
      "[-0.2551465332508087, 0.660908579826355, 0.28860560059547424, 0.5921405553817749, -0.2865082323551178]\n"
     ]
    },
    {
     "name": "stderr",
     "output_type": "stream",
     "text": [
      "127.0.0.1 - - [07/Apr/2024 00:49:21] \"GET /get_weights?date=2021-09-07 HTTP/1.1\" 200 -\n"
     ]
    },
    {
     "name": "stdout",
     "output_type": "stream",
     "text": [
      "0\n",
      "2021-09-07\n",
      "[-0.16991084814071655, 0.13595207035541534, -0.018086867406964302, 1.0000134706497192, 0.05203207954764366]\n"
     ]
    },
    {
     "name": "stderr",
     "output_type": "stream",
     "text": [
      "127.0.0.1 - - [07/Apr/2024 00:49:23] \"GET /get_weights?date=2021-09-13 HTTP/1.1\" 200 -\n"
     ]
    },
    {
     "name": "stdout",
     "output_type": "stream",
     "text": [
      "0\n",
      "2021-09-13\n",
      "[0.08153858780860901, 0.5016312003135681, -0.025107380002737045, 0.6486793756484985, -0.20674195885658264]\n"
     ]
    },
    {
     "name": "stderr",
     "output_type": "stream",
     "text": [
      "127.0.0.1 - - [07/Apr/2024 00:49:25] \"GET /get_weights?date=2021-09-20 HTTP/1.1\" 200 -\n"
     ]
    },
    {
     "name": "stdout",
     "output_type": "stream",
     "text": [
      "0\n",
      "2021-09-20\n",
      "[0.02497415617108345, 0.24580217897891998, -0.13812100887298584, 0.8306336402893066, 0.03671105578541756]\n"
     ]
    },
    {
     "name": "stderr",
     "output_type": "stream",
     "text": [
      "127.0.0.1 - - [07/Apr/2024 00:49:28] \"GET /get_weights?date=2021-09-27 HTTP/1.1\" 200 -\n"
     ]
    },
    {
     "name": "stdout",
     "output_type": "stream",
     "text": [
      "0\n",
      "2021-09-27\n",
      "[-0.4080777168273926, 0.4636417329311371, 0.17634029686450958, 0.7241705656051636, 0.04392509162425995]\n"
     ]
    },
    {
     "name": "stderr",
     "output_type": "stream",
     "text": [
      "127.0.0.1 - - [07/Apr/2024 00:49:30] \"GET /get_weights?date=2021-10-04 HTTP/1.1\" 200 -\n"
     ]
    },
    {
     "name": "stdout",
     "output_type": "stream",
     "text": [
      "0\n",
      "2021-10-04\n",
      "[-0.25000470876693726, 0.5744198560714722, -0.07583333551883698, 0.712723970413208, 0.03869415819644928]\n"
     ]
    },
    {
     "name": "stderr",
     "output_type": "stream",
     "text": [
      "127.0.0.1 - - [07/Apr/2024 00:49:32] \"GET /get_weights?date=2021-10-11 HTTP/1.1\" 200 -\n"
     ]
    },
    {
     "name": "stdout",
     "output_type": "stream",
     "text": [
      "0\n",
      "2021-10-11\n",
      "[-0.14818455278873444, 0.7312478423118591, -0.07195818424224854, 0.6713536977767944, -0.1824588030576706]\n"
     ]
    },
    {
     "name": "stderr",
     "output_type": "stream",
     "text": [
      "127.0.0.1 - - [07/Apr/2024 00:49:34] \"GET /get_weights?date=2021-10-18 HTTP/1.1\" 200 -\n"
     ]
    },
    {
     "name": "stdout",
     "output_type": "stream",
     "text": [
      "0\n",
      "2021-10-18\n",
      "[0.1131822019815445, 0.3620498478412628, -0.1623968780040741, 0.6871260404586792, 3.875038601108827e-05]\n"
     ]
    },
    {
     "name": "stderr",
     "output_type": "stream",
     "text": [
      "127.0.0.1 - - [07/Apr/2024 00:49:36] \"GET /get_weights?date=2021-10-25 HTTP/1.1\" 200 -\n"
     ]
    },
    {
     "name": "stdout",
     "output_type": "stream",
     "text": [
      "0\n",
      "2021-10-25\n",
      "[-0.2314518243074417, 0.6199700832366943, 0.22710800170898438, 0.5494847893714905, -0.16511107981204987]\n"
     ]
    },
    {
     "name": "stderr",
     "output_type": "stream",
     "text": [
      "127.0.0.1 - - [07/Apr/2024 00:49:39] \"GET /get_weights?date=2021-11-01 HTTP/1.1\" 200 -\n"
     ]
    },
    {
     "name": "stdout",
     "output_type": "stream",
     "text": [
      "0\n",
      "2021-11-01\n",
      "[-0.11886707693338394, 0.5404143929481506, -0.1439216136932373, 0.714752733707428, 0.007621545344591141]\n"
     ]
    },
    {
     "name": "stderr",
     "output_type": "stream",
     "text": [
      "127.0.0.1 - - [07/Apr/2024 00:49:41] \"GET /get_weights?date=2021-11-08 HTTP/1.1\" 200 -\n"
     ]
    },
    {
     "name": "stdout",
     "output_type": "stream",
     "text": [
      "0\n",
      "2021-11-08\n",
      "[-0.41172435879707336, 0.6052564382553101, 0.484576553106308, 0.3512847125530243, -0.029393395408988]\n"
     ]
    },
    {
     "name": "stderr",
     "output_type": "stream",
     "text": [
      "127.0.0.1 - - [07/Apr/2024 00:49:43] \"GET /get_weights?date=2021-11-15 HTTP/1.1\" 200 -\n"
     ]
    },
    {
     "name": "stdout",
     "output_type": "stream",
     "text": [
      "0\n",
      "2021-11-15\n",
      "[-0.00813379231840372, 0.24960412085056305, -0.004522131755948067, 0.8576151132583618, -0.09456339478492737]\n"
     ]
    },
    {
     "name": "stderr",
     "output_type": "stream",
     "text": [
      "127.0.0.1 - - [07/Apr/2024 00:49:45] \"GET /get_weights?date=2021-11-22 HTTP/1.1\" 200 -\n"
     ]
    },
    {
     "name": "stdout",
     "output_type": "stream",
     "text": [
      "0\n",
      "2021-11-22\n",
      "[-0.17481562495231628, 0.3364206552505493, 0.13838309049606323, 0.6691391468048096, 0.030872566625475883]\n"
     ]
    },
    {
     "name": "stderr",
     "output_type": "stream",
     "text": [
      "127.0.0.1 - - [07/Apr/2024 00:49:47] \"GET /get_weights?date=2021-11-29 HTTP/1.1\" 200 -\n"
     ]
    },
    {
     "name": "stdout",
     "output_type": "stream",
     "text": [
      "0\n",
      "2021-11-29\n",
      "[-0.320679247379303, 0.7424564361572266, 0.08432434499263763, 0.1116321012377739, 0.3822663426399231]\n"
     ]
    },
    {
     "name": "stderr",
     "output_type": "stream",
     "text": [
      "127.0.0.1 - - [07/Apr/2024 00:49:49] \"GET /get_weights?date=2021-12-06 HTTP/1.1\" 200 -\n"
     ]
    },
    {
     "name": "stdout",
     "output_type": "stream",
     "text": [
      "0\n",
      "2021-12-06\n",
      "[-0.1975400447845459, 0.9999979138374329, -0.1419467180967331, -0.039622802287340164, 0.3791116178035736]\n"
     ]
    },
    {
     "name": "stderr",
     "output_type": "stream",
     "text": [
      "127.0.0.1 - - [07/Apr/2024 00:49:52] \"GET /get_weights?date=2021-12-13 HTTP/1.1\" 200 -\n"
     ]
    },
    {
     "name": "stdout",
     "output_type": "stream",
     "text": [
      "0\n",
      "2021-12-13\n",
      "[-0.29275697469711304, 0.1462799608707428, 0.24078312516212463, 0.8187777400016785, 0.08691614866256714]\n"
     ]
    },
    {
     "name": "stderr",
     "output_type": "stream",
     "text": [
      "127.0.0.1 - - [07/Apr/2024 00:49:54] \"GET /get_weights?date=2021-12-20 HTTP/1.1\" 200 -\n"
     ]
    },
    {
     "name": "stdout",
     "output_type": "stream",
     "text": [
      "1\n",
      "2021-12-20\n",
      "[0.1821325123310089, 0.07585781812667847, -0.08710262924432755, 0.5623620748519897, 0.2667500674724579]\n"
     ]
    },
    {
     "name": "stderr",
     "output_type": "stream",
     "text": [
      "127.0.0.1 - - [07/Apr/2024 00:49:57] \"GET /get_weights?date=2021-12-27 HTTP/1.1\" 200 -\n"
     ]
    },
    {
     "name": "stdout",
     "output_type": "stream",
     "text": [
      "1\n",
      "2021-12-27\n",
      "[-0.032841600477695465, 0.4476363956928253, 0.16807886958122253, 0.36649182438850403, 0.05063433200120926]\n"
     ]
    },
    {
     "name": "stderr",
     "output_type": "stream",
     "text": [
      "127.0.0.1 - - [07/Apr/2024 00:49:59] \"GET /get_weights?date=2022-01-03 HTTP/1.1\" 200 -\n"
     ]
    },
    {
     "name": "stdout",
     "output_type": "stream",
     "text": [
      "1\n",
      "2022-01-03\n",
      "[-0.3319685459136963, 0.43333128094673157, 0.09122806787490845, 0.5496160387992859, 0.2577930986881256]\n"
     ]
    },
    {
     "name": "stderr",
     "output_type": "stream",
     "text": [
      "127.0.0.1 - - [07/Apr/2024 00:50:01] \"GET /get_weights?date=2022-01-10 HTTP/1.1\" 200 -\n"
     ]
    },
    {
     "name": "stdout",
     "output_type": "stream",
     "text": [
      "1\n",
      "2022-01-10\n",
      "[-0.39768001437187195, 0.5731004476547241, 0.22483889758586884, 0.5152773261070251, 0.08446317911148071]\n"
     ]
    },
    {
     "name": "stderr",
     "output_type": "stream",
     "text": [
      "127.0.0.1 - - [07/Apr/2024 00:50:03] \"GET /get_weights?date=2022-01-18 HTTP/1.1\" 200 -\n"
     ]
    },
    {
     "name": "stdout",
     "output_type": "stream",
     "text": [
      "1\n",
      "2022-01-18\n",
      "[-0.15334923565387726, 0.42253899574279785, 0.0021419895347207785, 0.4939518868923187, 0.23471616208553314]\n"
     ]
    },
    {
     "name": "stderr",
     "output_type": "stream",
     "text": [
      "127.0.0.1 - - [07/Apr/2024 00:50:05] \"GET /get_weights?date=2022-01-24 HTTP/1.1\" 200 -\n"
     ]
    },
    {
     "name": "stdout",
     "output_type": "stream",
     "text": [
      "1\n",
      "2022-01-24\n",
      "[-0.1061125099658966, 0.610019862651825, -0.03539657220244408, 0.3115500509738922, 0.2199389934539795]\n"
     ]
    },
    {
     "name": "stderr",
     "output_type": "stream",
     "text": [
      "127.0.0.1 - - [07/Apr/2024 00:50:08] \"GET /get_weights?date=2022-01-31 HTTP/1.1\" 200 -\n"
     ]
    },
    {
     "name": "stdout",
     "output_type": "stream",
     "text": [
      "1\n",
      "2022-01-31\n",
      "[-0.1392296999692917, 0.7218655347824097, -0.07225323468446732, -0.038381271064281464, 0.5279985070228577]\n"
     ]
    },
    {
     "name": "stderr",
     "output_type": "stream",
     "text": [
      "127.0.0.1 - - [07/Apr/2024 00:50:10] \"GET /get_weights?date=2022-02-07 HTTP/1.1\" 200 -\n"
     ]
    },
    {
     "name": "stdout",
     "output_type": "stream",
     "text": [
      "1\n",
      "2022-02-07\n",
      "[-0.06109653413295746, 0.48986759781837463, -0.06188812851905823, 0.8540074229240417, -0.22089038789272308]\n"
     ]
    },
    {
     "name": "stderr",
     "output_type": "stream",
     "text": [
      "127.0.0.1 - - [07/Apr/2024 00:50:12] \"GET /get_weights?date=2022-02-14 HTTP/1.1\" 200 -\n"
     ]
    },
    {
     "name": "stdout",
     "output_type": "stream",
     "text": [
      "1\n",
      "2022-02-14\n",
      "[-0.13256914913654327, 0.203232079744339, -0.16703064739704132, 0.8743916749954224, 0.22197602689266205]\n"
     ]
    },
    {
     "name": "stderr",
     "output_type": "stream",
     "text": [
      "127.0.0.1 - - [07/Apr/2024 00:50:14] \"GET /get_weights?date=2022-02-22 HTTP/1.1\" 200 -\n"
     ]
    },
    {
     "name": "stdout",
     "output_type": "stream",
     "text": [
      "1\n",
      "2022-02-22\n",
      "[-0.23140814900398254, 0.537216067314148, 0.3138411343097687, 0.6873692274093628, -0.307018518447876]\n"
     ]
    },
    {
     "name": "stderr",
     "output_type": "stream",
     "text": [
      "127.0.0.1 - - [07/Apr/2024 00:50:16] \"GET /get_weights?date=2022-02-28 HTTP/1.1\" 200 -\n"
     ]
    },
    {
     "name": "stdout",
     "output_type": "stream",
     "text": [
      "1\n",
      "2022-02-28\n",
      "[-0.45293989777565, 0.6976282000541687, -0.11564698815345764, 0.8828423023223877, -0.011883698403835297]\n"
     ]
    },
    {
     "name": "stderr",
     "output_type": "stream",
     "text": [
      "127.0.0.1 - - [07/Apr/2024 00:50:19] \"GET /get_weights?date=2022-03-07 HTTP/1.1\" 200 -\n"
     ]
    },
    {
     "name": "stdout",
     "output_type": "stream",
     "text": [
      "1\n",
      "2022-03-07\n",
      "[-0.47095510363578796, 0.5566357374191284, 0.5115959048271179, 0.16633641719818115, 0.23638707399368286]\n"
     ]
    },
    {
     "name": "stderr",
     "output_type": "stream",
     "text": [
      "127.0.0.1 - - [07/Apr/2024 00:50:21] \"GET /get_weights?date=2022-03-14 HTTP/1.1\" 200 -\n"
     ]
    },
    {
     "name": "stdout",
     "output_type": "stream",
     "text": [
      "1\n",
      "2022-03-14\n",
      "[0.06404923647642136, 0.6387273073196411, -0.026300128549337387, 0.21805216372013092, 0.10547135770320892]\n"
     ]
    },
    {
     "name": "stderr",
     "output_type": "stream",
     "text": [
      "127.0.0.1 - - [07/Apr/2024 00:50:23] \"GET /get_weights?date=2022-03-21 HTTP/1.1\" 200 -\n"
     ]
    },
    {
     "name": "stdout",
     "output_type": "stream",
     "text": [
      "1\n",
      "2022-03-21\n",
      "[-0.11813685297966003, 0.23433716595172882, 0.1848558783531189, 0.6096736788749695, 0.08927012979984283]\n"
     ]
    },
    {
     "name": "stderr",
     "output_type": "stream",
     "text": [
      "127.0.0.1 - - [07/Apr/2024 00:50:25] \"GET /get_weights?date=2022-03-28 HTTP/1.1\" 200 -\n"
     ]
    },
    {
     "name": "stdout",
     "output_type": "stream",
     "text": [
      "1\n",
      "2022-03-28\n",
      "[0.06541217863559723, 0.1886521875858307, -0.199722021818161, 0.8186987042427063, 0.12695886194705963]\n"
     ]
    },
    {
     "name": "stderr",
     "output_type": "stream",
     "text": [
      "127.0.0.1 - - [07/Apr/2024 00:50:28] \"GET /get_weights?date=2022-04-04 HTTP/1.1\" 200 -\n"
     ]
    },
    {
     "name": "stdout",
     "output_type": "stream",
     "text": [
      "1\n",
      "2022-04-04\n",
      "[0.2264726310968399, 0.2935928404331207, -0.20944082736968994, 0.45697829127311707, 0.23239704966545105]\n"
     ]
    },
    {
     "name": "stderr",
     "output_type": "stream",
     "text": [
      "127.0.0.1 - - [07/Apr/2024 00:50:30] \"GET /get_weights?date=2022-04-11 HTTP/1.1\" 200 -\n"
     ]
    },
    {
     "name": "stdout",
     "output_type": "stream",
     "text": [
      "1\n",
      "2022-04-11\n",
      "[-0.2603681683540344, 0.3650159537792206, 0.18843507766723633, 0.4251178205013275, 0.28179931640625]\n"
     ]
    },
    {
     "name": "stderr",
     "output_type": "stream",
     "text": [
      "127.0.0.1 - - [07/Apr/2024 00:50:32] \"GET /get_weights?date=2022-04-18 HTTP/1.1\" 200 -\n"
     ]
    },
    {
     "name": "stdout",
     "output_type": "stream",
     "text": [
      "1\n",
      "2022-04-18\n",
      "[0.34715554118156433, 0.09014516323804855, 0.06449677795171738, 0.665463387966156, -0.16726087033748627]\n"
     ]
    },
    {
     "name": "stderr",
     "output_type": "stream",
     "text": [
      "127.0.0.1 - - [07/Apr/2024 00:50:34] \"GET /get_weights?date=2022-04-25 HTTP/1.1\" 200 -\n"
     ]
    },
    {
     "name": "stdout",
     "output_type": "stream",
     "text": [
      "1\n",
      "2022-04-25\n",
      "[-0.24926406145095825, 0.07044554501771927, 0.17834961414337158, 1.0000001192092896, 0.00046881416346877813]\n"
     ]
    },
    {
     "name": "stderr",
     "output_type": "stream",
     "text": [
      "127.0.0.1 - - [07/Apr/2024 00:50:36] \"GET /get_weights?date=2022-05-02 HTTP/1.1\" 200 -\n"
     ]
    },
    {
     "name": "stdout",
     "output_type": "stream",
     "text": [
      "1\n",
      "2022-05-02\n",
      "[0.04894980415701866, 0.5167993307113647, -0.3685152530670166, 0.45514991879463196, 0.3476162254810333]\n"
     ]
    },
    {
     "name": "stderr",
     "output_type": "stream",
     "text": [
      "127.0.0.1 - - [07/Apr/2024 00:50:39] \"GET /get_weights?date=2022-05-09 HTTP/1.1\" 200 -\n"
     ]
    },
    {
     "name": "stdout",
     "output_type": "stream",
     "text": [
      "1\n",
      "2022-05-09\n",
      "[-0.2767837941646576, 0.24197588860988617, 0.2980041801929474, 0.7937045693397522, -0.05690087378025055]\n"
     ]
    },
    {
     "name": "stderr",
     "output_type": "stream",
     "text": [
      "127.0.0.1 - - [07/Apr/2024 00:50:41] \"GET /get_weights?date=2022-05-16 HTTP/1.1\" 200 -\n"
     ]
    },
    {
     "name": "stdout",
     "output_type": "stream",
     "text": [
      "1\n",
      "2022-05-16\n",
      "[-0.20336313545703888, 0.6164143085479736, -0.10514765977859497, 0.36957862973213196, 0.3225177526473999]\n"
     ]
    },
    {
     "name": "stderr",
     "output_type": "stream",
     "text": [
      "127.0.0.1 - - [07/Apr/2024 00:50:43] \"GET /get_weights?date=2022-05-23 HTTP/1.1\" 200 -\n"
     ]
    },
    {
     "name": "stdout",
     "output_type": "stream",
     "text": [
      "1\n",
      "2022-05-23\n",
      "[-0.3105522394180298, 0.15926922857761383, 0.17046262323856354, 0.7877179384231567, 0.1931024193763733]\n"
     ]
    },
    {
     "name": "stderr",
     "output_type": "stream",
     "text": [
      "127.0.0.1 - - [07/Apr/2024 00:50:45] \"GET /get_weights?date=2022-05-31 HTTP/1.1\" 200 -\n"
     ]
    },
    {
     "name": "stdout",
     "output_type": "stream",
     "text": [
      "1\n",
      "2022-05-31\n",
      "[-0.08399499207735062, 0.5607670545578003, 0.0030793757177889347, 0.31024301052093506, 0.20990554988384247]\n"
     ]
    },
    {
     "name": "stderr",
     "output_type": "stream",
     "text": [
      "127.0.0.1 - - [07/Apr/2024 00:50:47] \"GET /get_weights?date=2022-06-06 HTTP/1.1\" 200 -\n"
     ]
    },
    {
     "name": "stdout",
     "output_type": "stream",
     "text": [
      "1\n",
      "2022-06-06\n",
      "[0.006543832831084728, 0.23831340670585632, 0.00977182574570179, 0.8558244109153748, -0.11045346409082413]\n"
     ]
    },
    {
     "name": "stderr",
     "output_type": "stream",
     "text": [
      "127.0.0.1 - - [07/Apr/2024 00:50:49] \"GET /get_weights?date=2022-06-13 HTTP/1.1\" 200 -\n"
     ]
    },
    {
     "name": "stdout",
     "output_type": "stream",
     "text": [
      "1\n",
      "2022-06-13\n",
      "[-0.23726147413253784, 0.769837498664856, 0.17652590572834015, 0.3800605237483978, -0.08916248381137848]\n"
     ]
    },
    {
     "name": "stderr",
     "output_type": "stream",
     "text": [
      "127.0.0.1 - - [07/Apr/2024 00:50:52] \"GET /get_weights?date=2022-06-20 HTTP/1.1\" 200 -\n"
     ]
    },
    {
     "name": "stdout",
     "output_type": "stream",
     "text": [
      "1\n",
      "2022-06-20\n",
      "[0.03274745121598244, 0.46404844522476196, -0.02051439695060253, 0.41274377703666687, 0.11097470670938492]\n"
     ]
    },
    {
     "name": "stderr",
     "output_type": "stream",
     "text": [
      "127.0.0.1 - - [07/Apr/2024 00:50:54] \"GET /get_weights?date=2022-06-27 HTTP/1.1\" 200 -\n"
     ]
    },
    {
     "name": "stdout",
     "output_type": "stream",
     "text": [
      "1\n",
      "2022-06-27\n",
      "[-0.02431405521929264, 0.6808894276618958, 0.036176297813653946, 0.2338852733373642, 0.07336306571960449]\n"
     ]
    },
    {
     "name": "stderr",
     "output_type": "stream",
     "text": [
      "127.0.0.1 - - [07/Apr/2024 00:50:56] \"GET /get_weights?date=2022-07-05 HTTP/1.1\" 200 -\n"
     ]
    },
    {
     "name": "stdout",
     "output_type": "stream",
     "text": [
      "1\n",
      "2022-07-05\n",
      "[0.09070055186748505, -0.04163259267807007, 0.20353949069976807, 1.0, -0.25260746479034424]\n"
     ]
    },
    {
     "name": "stderr",
     "output_type": "stream",
     "text": [
      "127.0.0.1 - - [07/Apr/2024 00:50:58] \"GET /get_weights?date=2022-07-11 HTTP/1.1\" 200 -\n"
     ]
    },
    {
     "name": "stdout",
     "output_type": "stream",
     "text": [
      "1\n",
      "2022-07-11\n",
      "[-0.0038163301069289446, 0.15716491639614105, 0.39501288533210754, 0.5269607901573181, -0.07532224804162979]\n"
     ]
    },
    {
     "name": "stderr",
     "output_type": "stream",
     "text": [
      "127.0.0.1 - - [07/Apr/2024 00:51:00] \"GET /get_weights?date=2022-07-18 HTTP/1.1\" 200 -\n"
     ]
    },
    {
     "name": "stdout",
     "output_type": "stream",
     "text": [
      "1\n",
      "2022-07-18\n",
      "[0.15730424225330353, 0.13428175449371338, 0.1552586555480957, 0.6154419183731079, -0.06228656321763992]\n"
     ]
    },
    {
     "name": "stderr",
     "output_type": "stream",
     "text": [
      "127.0.0.1 - - [07/Apr/2024 00:51:03] \"GET /get_weights?date=2022-07-25 HTTP/1.1\" 200 -\n"
     ]
    },
    {
     "name": "stdout",
     "output_type": "stream",
     "text": [
      "1\n",
      "2022-07-25\n",
      "[0.05775222182273865, 0.24415986239910126, 0.029489951208233833, 0.531833291053772, 0.13676470518112183]\n"
     ]
    },
    {
     "name": "stderr",
     "output_type": "stream",
     "text": [
      "127.0.0.1 - - [07/Apr/2024 00:51:05] \"GET /get_weights?date=2022-08-01 HTTP/1.1\" 200 -\n"
     ]
    },
    {
     "name": "stdout",
     "output_type": "stream",
     "text": [
      "1\n",
      "2022-08-01\n",
      "[0.17960071563720703, 0.5414289832115173, -0.12240017205476761, -0.007313938811421394, 0.40868431329727173]\n"
     ]
    },
    {
     "name": "stderr",
     "output_type": "stream",
     "text": [
      "127.0.0.1 - - [07/Apr/2024 00:51:07] \"GET /get_weights?date=2022-08-08 HTTP/1.1\" 200 -\n"
     ]
    },
    {
     "name": "stdout",
     "output_type": "stream",
     "text": [
      "1\n",
      "2022-08-08\n",
      "[0.0012725446140393615, 1.0000001192092896, -0.10097882896661758, -0.08322525769472122, 0.18293139338493347]\n"
     ]
    },
    {
     "name": "stderr",
     "output_type": "stream",
     "text": [
      "127.0.0.1 - - [07/Apr/2024 00:51:09] \"GET /get_weights?date=2022-08-15 HTTP/1.1\" 200 -\n"
     ]
    },
    {
     "name": "stdout",
     "output_type": "stream",
     "text": [
      "1\n",
      "2022-08-15\n",
      "[-0.18281278014183044, 0.7276515364646912, -0.005225864239037037, 0.2000025510787964, 0.26038455963134766]\n"
     ]
    },
    {
     "name": "stderr",
     "output_type": "stream",
     "text": [
      "127.0.0.1 - - [07/Apr/2024 00:51:12] \"GET /get_weights?date=2022-08-22 HTTP/1.1\" 200 -\n"
     ]
    },
    {
     "name": "stdout",
     "output_type": "stream",
     "text": [
      "1\n",
      "2022-08-22\n",
      "[0.036060433834791183, 0.20237912237644196, 0.12303631752729416, 0.5568176507949829, 0.08170635253190994]\n"
     ]
    },
    {
     "name": "stderr",
     "output_type": "stream",
     "text": [
      "127.0.0.1 - - [07/Apr/2024 00:51:14] \"GET /get_weights?date=2022-08-29 HTTP/1.1\" 200 -\n"
     ]
    },
    {
     "name": "stdout",
     "output_type": "stream",
     "text": [
      "1\n",
      "2022-08-29\n",
      "[-0.07552731782197952, 0.08323980867862701, -0.06888595223426819, 0.9999999403953552, 0.061173491179943085]\n"
     ]
    },
    {
     "name": "stderr",
     "output_type": "stream",
     "text": [
      "127.0.0.1 - - [07/Apr/2024 00:51:16] \"GET /get_weights?date=2022-09-06 HTTP/1.1\" 200 -\n"
     ]
    },
    {
     "name": "stdout",
     "output_type": "stream",
     "text": [
      "1\n",
      "2022-09-06\n",
      "[-0.12591703236103058, 0.5379400849342346, -0.03459237515926361, 0.37759825587272644, 0.2449709177017212]\n"
     ]
    },
    {
     "name": "stderr",
     "output_type": "stream",
     "text": [
      "127.0.0.1 - - [07/Apr/2024 00:51:18] \"GET /get_weights?date=2022-09-12 HTTP/1.1\" 200 -\n"
     ]
    },
    {
     "name": "stdout",
     "output_type": "stream",
     "text": [
      "1\n",
      "2022-09-12\n",
      "[-0.14261172711849213, 0.35577499866485596, 0.1270187944173813, 0.7157287001609802, -0.05591083690524101]\n"
     ]
    },
    {
     "name": "stderr",
     "output_type": "stream",
     "text": [
      "127.0.0.1 - - [07/Apr/2024 00:51:20] \"GET /get_weights?date=2022-09-19 HTTP/1.1\" 200 -\n"
     ]
    },
    {
     "name": "stdout",
     "output_type": "stream",
     "text": [
      "1\n",
      "2022-09-19\n",
      "[-0.2780855596065521, 0.7022966742515564, 0.2548743784427643, 0.3202698230743408, 0.00064466567710042]\n"
     ]
    },
    {
     "name": "stderr",
     "output_type": "stream",
     "text": [
      "127.0.0.1 - - [07/Apr/2024 00:51:23] \"GET /get_weights?date=2022-09-26 HTTP/1.1\" 200 -\n"
     ]
    },
    {
     "name": "stdout",
     "output_type": "stream",
     "text": [
      "1\n",
      "2022-09-26\n",
      "[-0.1220066100358963, 0.22285208106040955, 0.026752755045890808, 0.840410053730011, 0.03199172019958496]\n"
     ]
    },
    {
     "name": "stderr",
     "output_type": "stream",
     "text": [
      "127.0.0.1 - - [07/Apr/2024 00:51:25] \"GET /get_weights?date=2022-10-03 HTTP/1.1\" 200 -\n"
     ]
    },
    {
     "name": "stdout",
     "output_type": "stream",
     "text": [
      "1\n",
      "2022-10-03\n",
      "[-0.16033649444580078, 0.5963027477264404, 0.03483828902244568, 0.5979598164558411, -0.06876436620950699]\n"
     ]
    },
    {
     "name": "stderr",
     "output_type": "stream",
     "text": [
      "127.0.0.1 - - [07/Apr/2024 00:51:27] \"GET /get_weights?date=2022-10-10 HTTP/1.1\" 200 -\n"
     ]
    },
    {
     "name": "stdout",
     "output_type": "stream",
     "text": [
      "1\n",
      "2022-10-10\n",
      "[-0.25656282901763916, 0.8262453079223633, 0.05540497228503227, 0.2899022102355957, 0.08501029014587402]\n"
     ]
    },
    {
     "name": "stderr",
     "output_type": "stream",
     "text": [
      "127.0.0.1 - - [07/Apr/2024 00:51:29] \"GET /get_weights?date=2022-10-17 HTTP/1.1\" 200 -\n"
     ]
    },
    {
     "name": "stdout",
     "output_type": "stream",
     "text": [
      "1\n",
      "2022-10-17\n",
      "[-0.3515114486217499, 0.8825539350509644, 0.16142356395721436, 0.009373527951538563, 0.2981604039669037]\n"
     ]
    },
    {
     "name": "stderr",
     "output_type": "stream",
     "text": [
      "127.0.0.1 - - [07/Apr/2024 00:51:31] \"GET /get_weights?date=2022-10-24 HTTP/1.1\" 200 -\n"
     ]
    },
    {
     "name": "stdout",
     "output_type": "stream",
     "text": [
      "1\n",
      "2022-10-24\n",
      "[0.17537452280521393, 0.5065973997116089, -0.31538379192352295, 0.40881121158599854, 0.22460056841373444]\n"
     ]
    },
    {
     "name": "stderr",
     "output_type": "stream",
     "text": [
      "127.0.0.1 - - [07/Apr/2024 00:51:34] \"GET /get_weights?date=2022-10-31 HTTP/1.1\" 200 -\n"
     ]
    },
    {
     "name": "stdout",
     "output_type": "stream",
     "text": [
      "1\n",
      "2022-10-31\n",
      "[0.18267233669757843, 0.8452383279800415, -0.10621567070484161, 0.14417682588100433, -0.06587182730436325]\n"
     ]
    },
    {
     "name": "stderr",
     "output_type": "stream",
     "text": [
      "127.0.0.1 - - [07/Apr/2024 00:51:36] \"GET /get_weights?date=2022-11-07 HTTP/1.1\" 200 -\n"
     ]
    },
    {
     "name": "stdout",
     "output_type": "stream",
     "text": [
      "1\n",
      "2022-11-07\n",
      "[0.2852955460548401, 0.38279223442077637, -0.1531774401664734, 0.7749478816986084, -0.28985828161239624]\n"
     ]
    },
    {
     "name": "stderr",
     "output_type": "stream",
     "text": [
      "127.0.0.1 - - [07/Apr/2024 00:51:38] \"GET /get_weights?date=2022-11-14 HTTP/1.1\" 200 -\n"
     ]
    },
    {
     "name": "stdout",
     "output_type": "stream",
     "text": [
      "1\n",
      "2022-11-14\n",
      "[-0.1792570948600769, 0.7083713412284851, 0.04639079049229622, 0.31756526231765747, 0.10692965984344482]\n"
     ]
    },
    {
     "name": "stderr",
     "output_type": "stream",
     "text": [
      "127.0.0.1 - - [07/Apr/2024 00:51:40] \"GET /get_weights?date=2022-11-21 HTTP/1.1\" 200 -\n"
     ]
    },
    {
     "name": "stdout",
     "output_type": "stream",
     "text": [
      "1\n",
      "2022-11-21\n",
      "[0.19676047563552856, 0.7015553712844849, -0.3260612487792969, 0.21414990723133087, 0.21359550952911377]\n"
     ]
    },
    {
     "name": "stderr",
     "output_type": "stream",
     "text": [
      "127.0.0.1 - - [07/Apr/2024 00:51:42] \"GET /get_weights?date=2022-11-28 HTTP/1.1\" 200 -\n"
     ]
    },
    {
     "name": "stdout",
     "output_type": "stream",
     "text": [
      "1\n",
      "2022-11-28\n",
      "[0.0913451686501503, 0.37065520882606506, -0.003562210826203227, 0.4685005843639374, 0.07306110113859177]\n"
     ]
    },
    {
     "name": "stderr",
     "output_type": "stream",
     "text": [
      "127.0.0.1 - - [07/Apr/2024 00:51:44] \"GET /get_weights?date=2022-12-05 HTTP/1.1\" 200 -\n"
     ]
    },
    {
     "name": "stdout",
     "output_type": "stream",
     "text": [
      "1\n",
      "2022-12-05\n",
      "[-0.1399211436510086, 0.3254489302635193, -0.046373847872018814, 0.4201506972312927, 0.4406953752040863]\n"
     ]
    },
    {
     "name": "stderr",
     "output_type": "stream",
     "text": [
      "127.0.0.1 - - [07/Apr/2024 00:51:47] \"GET /get_weights?date=2022-12-12 HTTP/1.1\" 200 -\n"
     ]
    },
    {
     "name": "stdout",
     "output_type": "stream",
     "text": [
      "1\n",
      "2022-12-12\n",
      "[0.1789926141500473, 0.8166783452033997, -0.017159242182970047, 0.134489506483078, -0.11300119757652283]\n"
     ]
    },
    {
     "name": "stderr",
     "output_type": "stream",
     "text": [
      "127.0.0.1 - - [07/Apr/2024 00:51:49] \"GET /get_weights?date=2022-12-19 HTTP/1.1\" 200 -\n"
     ]
    },
    {
     "name": "stdout",
     "output_type": "stream",
     "text": [
      "2\n",
      "2022-12-19\n",
      "[-0.4060550034046173, 0.36297017335891724, 0.3116244375705719, 0.5322828888893127, 0.19917742908000946]\n"
     ]
    },
    {
     "name": "stderr",
     "output_type": "stream",
     "text": [
      "127.0.0.1 - - [07/Apr/2024 00:51:52] \"GET /get_weights?date=2022-12-27 HTTP/1.1\" 200 -\n"
     ]
    },
    {
     "name": "stdout",
     "output_type": "stream",
     "text": [
      "2\n",
      "2022-12-27\n",
      "[-0.37789613008499146, 0.4078729450702667, -0.04745594412088394, 0.6964923143386841, 0.3209867775440216]\n"
     ]
    },
    {
     "name": "stderr",
     "output_type": "stream",
     "text": [
      "127.0.0.1 - - [07/Apr/2024 00:51:54] \"GET /get_weights?date=2023-01-03 HTTP/1.1\" 200 -\n"
     ]
    },
    {
     "name": "stdout",
     "output_type": "stream",
     "text": [
      "2\n",
      "2023-01-03\n",
      "[-0.16846950352191925, 0.21874335408210754, 0.18342536687850952, 0.47724175453186035, 0.28905901312828064]\n"
     ]
    },
    {
     "name": "stderr",
     "output_type": "stream",
     "text": [
      "127.0.0.1 - - [07/Apr/2024 00:51:56] \"GET /get_weights?date=2023-01-09 HTTP/1.1\" 200 -\n"
     ]
    },
    {
     "name": "stdout",
     "output_type": "stream",
     "text": [
      "2\n",
      "2023-01-09\n",
      "[0.14669468998908997, 0.6521081328392029, -0.04870146885514259, 0.29981955885887146, -0.049921028316020966]\n"
     ]
    },
    {
     "name": "stderr",
     "output_type": "stream",
     "text": [
      "127.0.0.1 - - [07/Apr/2024 00:51:58] \"GET /get_weights?date=2023-01-17 HTTP/1.1\" 200 -\n"
     ]
    },
    {
     "name": "stdout",
     "output_type": "stream",
     "text": [
      "2\n",
      "2023-01-17\n",
      "[-0.36223286390304565, 0.40188443660736084, 0.0500263050198555, 0.5935121178627014, 0.31680992245674133]\n"
     ]
    },
    {
     "name": "stderr",
     "output_type": "stream",
     "text": [
      "127.0.0.1 - - [07/Apr/2024 00:52:00] \"GET /get_weights?date=2023-01-23 HTTP/1.1\" 200 -\n"
     ]
    },
    {
     "name": "stdout",
     "output_type": "stream",
     "text": [
      "2\n",
      "2023-01-23\n",
      "[-0.7261323928833008, 0.6856521368026733, -0.024263160303235054, 0.4892832934856415, 0.5754601359367371]\n"
     ]
    },
    {
     "name": "stderr",
     "output_type": "stream",
     "text": [
      "127.0.0.1 - - [07/Apr/2024 00:52:02] \"GET /get_weights?date=2023-01-30 HTTP/1.1\" 200 -\n"
     ]
    },
    {
     "name": "stdout",
     "output_type": "stream",
     "text": [
      "2\n",
      "2023-01-30\n",
      "[0.07236413657665253, 0.9042616486549377, -0.13915731012821198, 0.11462988704442978, 0.047901615500450134]\n"
     ]
    },
    {
     "name": "stderr",
     "output_type": "stream",
     "text": [
      "127.0.0.1 - - [07/Apr/2024 00:52:05] \"GET /get_weights?date=2023-02-06 HTTP/1.1\" 200 -\n"
     ]
    },
    {
     "name": "stdout",
     "output_type": "stream",
     "text": [
      "2\n",
      "2023-02-06\n",
      "[0.07173661142587662, 0.3387320041656494, -0.3759016990661621, 0.26401862502098083, 0.7014144659042358]\n"
     ]
    },
    {
     "name": "stderr",
     "output_type": "stream",
     "text": [
      "127.0.0.1 - - [07/Apr/2024 00:52:07] \"GET /get_weights?date=2023-02-13 HTTP/1.1\" 200 -\n"
     ]
    },
    {
     "name": "stdout",
     "output_type": "stream",
     "text": [
      "2\n",
      "2023-02-13\n",
      "[-0.2855851948261261, 0.2667960524559021, 0.03917674720287323, 0.8385206460952759, 0.14109167456626892]\n"
     ]
    },
    {
     "name": "stderr",
     "output_type": "stream",
     "text": [
      "127.0.0.1 - - [07/Apr/2024 00:52:09] \"GET /get_weights?date=2023-02-21 HTTP/1.1\" 200 -\n"
     ]
    },
    {
     "name": "stdout",
     "output_type": "stream",
     "text": [
      "2\n",
      "2023-02-21\n",
      "[-0.31730175018310547, 0.5194997191429138, 0.11909579485654831, 0.37390372157096863, 0.304802268743515]\n"
     ]
    },
    {
     "name": "stderr",
     "output_type": "stream",
     "text": [
      "127.0.0.1 - - [07/Apr/2024 00:52:11] \"GET /get_weights?date=2023-02-27 HTTP/1.1\" 200 -\n"
     ]
    },
    {
     "name": "stdout",
     "output_type": "stream",
     "text": [
      "2\n",
      "2023-02-27\n",
      "[-0.2528303861618042, 0.5627545118331909, 0.446006715297699, 0.44738295674324036, -0.20331376791000366]\n"
     ]
    },
    {
     "name": "stderr",
     "output_type": "stream",
     "text": [
      "127.0.0.1 - - [07/Apr/2024 00:52:13] \"GET /get_weights?date=2023-03-06 HTTP/1.1\" 200 -\n"
     ]
    },
    {
     "name": "stdout",
     "output_type": "stream",
     "text": [
      "2\n",
      "2023-03-06\n",
      "[-0.3261561989784241, 0.4123457074165344, 0.233970046043396, 0.576175332069397, 0.10366496443748474]\n"
     ]
    },
    {
     "name": "stderr",
     "output_type": "stream",
     "text": [
      "127.0.0.1 - - [07/Apr/2024 00:52:16] \"GET /get_weights?date=2023-03-13 HTTP/1.1\" 200 -\n"
     ]
    },
    {
     "name": "stdout",
     "output_type": "stream",
     "text": [
      "2\n",
      "2023-03-13\n",
      "[-0.2616283893585205, 0.5818430781364441, 0.31838059425354004, 0.36431780457496643, -0.0029131011106073856]\n"
     ]
    },
    {
     "name": "stderr",
     "output_type": "stream",
     "text": [
      "127.0.0.1 - - [07/Apr/2024 00:52:18] \"GET /get_weights?date=2023-03-20 HTTP/1.1\" 200 -\n"
     ]
    },
    {
     "name": "stdout",
     "output_type": "stream",
     "text": [
      "2\n",
      "2023-03-20\n",
      "[-0.8318197131156921, 0.768291175365448, 0.9861013889312744, -0.6340807676315308, 0.7115079164505005]\n"
     ]
    },
    {
     "name": "stderr",
     "output_type": "stream",
     "text": [
      "127.0.0.1 - - [07/Apr/2024 00:52:20] \"GET /get_weights?date=2023-03-27 HTTP/1.1\" 200 -\n"
     ]
    },
    {
     "name": "stdout",
     "output_type": "stream",
     "text": [
      "2\n",
      "2023-03-27\n",
      "[0.03306109458208084, 0.20836873352527618, 0.08524566888809204, 0.7766737937927246, -0.10334937274456024]\n"
     ]
    },
    {
     "name": "stderr",
     "output_type": "stream",
     "text": [
      "127.0.0.1 - - [07/Apr/2024 00:52:22] \"GET /get_weights?date=2023-04-03 HTTP/1.1\" 200 -\n"
     ]
    },
    {
     "name": "stdout",
     "output_type": "stream",
     "text": [
      "2\n",
      "2023-04-03\n",
      "[0.10781879723072052, 0.46680718660354614, -0.28990980982780457, 0.3488503098487854, 0.3664334714412689]\n"
     ]
    },
    {
     "name": "stderr",
     "output_type": "stream",
     "text": [
      "127.0.0.1 - - [07/Apr/2024 00:52:24] \"GET /get_weights?date=2023-04-10 HTTP/1.1\" 200 -\n"
     ]
    },
    {
     "name": "stdout",
     "output_type": "stream",
     "text": [
      "2\n",
      "2023-04-10\n",
      "[-0.03290509432554245, 0.2325524091720581, -0.10609358549118042, 0.06482358276844025, 0.841622531414032]\n"
     ]
    },
    {
     "name": "stderr",
     "output_type": "stream",
     "text": [
      "127.0.0.1 - - [07/Apr/2024 00:52:27] \"GET /get_weights?date=2023-04-17 HTTP/1.1\" 200 -\n"
     ]
    },
    {
     "name": "stdout",
     "output_type": "stream",
     "text": [
      "2\n",
      "2023-04-17\n",
      "[0.0034776085522025824, 0.904880940914154, -0.07541757076978683, 0.1585422158241272, 0.008516699075698853]\n"
     ]
    },
    {
     "name": "stderr",
     "output_type": "stream",
     "text": [
      "127.0.0.1 - - [07/Apr/2024 00:52:29] \"GET /get_weights?date=2023-04-24 HTTP/1.1\" 200 -\n"
     ]
    },
    {
     "name": "stdout",
     "output_type": "stream",
     "text": [
      "2\n",
      "2023-04-24\n",
      "[-0.034025032073259354, 0.3345695734024048, -0.04935598745942116, 0.2102331519126892, 0.5385782718658447]\n"
     ]
    },
    {
     "name": "stderr",
     "output_type": "stream",
     "text": [
      "127.0.0.1 - - [07/Apr/2024 00:52:31] \"GET /get_weights?date=2023-05-01 HTTP/1.1\" 200 -\n"
     ]
    },
    {
     "name": "stdout",
     "output_type": "stream",
     "text": [
      "2\n",
      "2023-05-01\n",
      "[-0.06402387470006943, 0.6903198957443237, 0.023191839456558228, -0.040822457522153854, 0.39133450388908386]\n"
     ]
    },
    {
     "name": "stderr",
     "output_type": "stream",
     "text": [
      "127.0.0.1 - - [07/Apr/2024 00:52:33] \"GET /get_weights?date=2023-05-08 HTTP/1.1\" 200 -\n"
     ]
    },
    {
     "name": "stdout",
     "output_type": "stream",
     "text": [
      "2\n",
      "2023-05-08\n",
      "[-0.29226788878440857, 0.23246338963508606, 0.19853267073631287, 0.5287480354309082, 0.33252379298210144]\n"
     ]
    },
    {
     "name": "stderr",
     "output_type": "stream",
     "text": [
      "127.0.0.1 - - [07/Apr/2024 00:52:36] \"GET /get_weights?date=2023-05-15 HTTP/1.1\" 200 -\n"
     ]
    },
    {
     "name": "stdout",
     "output_type": "stream",
     "text": [
      "2\n",
      "2023-05-15\n",
      "[-0.07326191663742065, 0.04230254143476486, -0.10644344240427017, 0.6697340607643127, 0.46766865253448486]\n"
     ]
    },
    {
     "name": "stderr",
     "output_type": "stream",
     "text": [
      "127.0.0.1 - - [07/Apr/2024 00:52:38] \"GET /get_weights?date=2023-05-22 HTTP/1.1\" 200 -\n"
     ]
    },
    {
     "name": "stdout",
     "output_type": "stream",
     "text": [
      "2\n",
      "2023-05-22\n",
      "[-0.25006091594696045, 0.6535899043083191, 0.07401417195796967, 0.19064730405807495, 0.33180952072143555]\n"
     ]
    },
    {
     "name": "stderr",
     "output_type": "stream",
     "text": [
      "127.0.0.1 - - [07/Apr/2024 00:52:40] \"GET /get_weights?date=2023-05-30 HTTP/1.1\" 200 -\n"
     ]
    },
    {
     "name": "stdout",
     "output_type": "stream",
     "text": [
      "2\n",
      "2023-05-30\n",
      "[-0.28304043412208557, 0.5427999496459961, -0.07928065955638885, 0.2738748788833618, 0.5456463098526001]\n"
     ]
    },
    {
     "name": "stderr",
     "output_type": "stream",
     "text": [
      "127.0.0.1 - - [07/Apr/2024 00:52:42] \"GET /get_weights?date=2023-06-05 HTTP/1.1\" 200 -\n"
     ]
    },
    {
     "name": "stdout",
     "output_type": "stream",
     "text": [
      "2\n",
      "2023-06-05\n",
      "[0.0507892481982708, 0.7252015471458435, -0.07848542183637619, 0.1414000540971756, 0.1610945463180542]\n"
     ]
    },
    {
     "name": "stderr",
     "output_type": "stream",
     "text": [
      "127.0.0.1 - - [07/Apr/2024 00:52:44] \"GET /get_weights?date=2023-06-12 HTTP/1.1\" 200 -\n"
     ]
    },
    {
     "name": "stdout",
     "output_type": "stream",
     "text": [
      "2\n",
      "2023-06-12\n",
      "[0.09838326275348663, 0.400881826877594, -0.19765233993530273, 0.0736284926533699, 0.6247587203979492]\n"
     ]
    },
    {
     "name": "stderr",
     "output_type": "stream",
     "text": [
      "127.0.0.1 - - [07/Apr/2024 00:52:47] \"GET /get_weights?date=2023-06-19 HTTP/1.1\" 200 -\n"
     ]
    },
    {
     "name": "stdout",
     "output_type": "stream",
     "text": [
      "2\n",
      "2023-06-19\n",
      "[0.31805169582366943, 0.2607452869415283, -0.3127497732639313, 0.535509467124939, 0.1984432190656662]\n"
     ]
    },
    {
     "name": "stderr",
     "output_type": "stream",
     "text": [
      "127.0.0.1 - - [07/Apr/2024 00:52:49] \"GET /get_weights?date=2023-06-26 HTTP/1.1\" 200 -\n"
     ]
    },
    {
     "name": "stdout",
     "output_type": "stream",
     "text": [
      "2\n",
      "2023-06-26\n",
      "[-0.23337435722351074, 0.866931676864624, 0.12394654750823975, -0.16353178024291992, 0.40602773427963257]\n"
     ]
    },
    {
     "name": "stderr",
     "output_type": "stream",
     "text": [
      "127.0.0.1 - - [07/Apr/2024 00:52:51] \"GET /get_weights?date=2023-07-03 HTTP/1.1\" 200 -\n"
     ]
    },
    {
     "name": "stdout",
     "output_type": "stream",
     "text": [
      "2\n",
      "2023-07-03\n",
      "[-0.21483084559440613, 0.668949544429779, 0.028393873944878578, 0.157026007771492, 0.36046138405799866]\n"
     ]
    },
    {
     "name": "stderr",
     "output_type": "stream",
     "text": [
      "127.0.0.1 - - [07/Apr/2024 00:52:53] \"GET /get_weights?date=2023-07-10 HTTP/1.1\" 200 -\n"
     ]
    },
    {
     "name": "stdout",
     "output_type": "stream",
     "text": [
      "2\n",
      "2023-07-10\n",
      "[-0.35585376620292664, 0.5756813287734985, 0.5550070405006409, 0.2765748202800751, -0.051409561187028885]\n"
     ]
    },
    {
     "name": "stderr",
     "output_type": "stream",
     "text": [
      "127.0.0.1 - - [07/Apr/2024 00:52:55] \"GET /get_weights?date=2023-07-17 HTTP/1.1\" 200 -\n"
     ]
    },
    {
     "name": "stdout",
     "output_type": "stream",
     "text": [
      "2\n",
      "2023-07-17\n",
      "[0.200853168964386, 0.5329563021659851, 0.1091352179646492, -0.8429514765739441, 1.0000066757202148]\n"
     ]
    },
    {
     "name": "stderr",
     "output_type": "stream",
     "text": [
      "127.0.0.1 - - [07/Apr/2024 00:52:57] \"GET /get_weights?date=2023-07-24 HTTP/1.1\" 200 -\n"
     ]
    },
    {
     "name": "stdout",
     "output_type": "stream",
     "text": [
      "2\n",
      "2023-07-24\n",
      "[-0.34380027651786804, 0.8791989088058472, 0.21739238500595093, -0.059084195643663406, 0.3062930703163147]\n"
     ]
    },
    {
     "name": "stderr",
     "output_type": "stream",
     "text": [
      "127.0.0.1 - - [07/Apr/2024 00:53:00] \"GET /get_weights?date=2023-07-31 HTTP/1.1\" 200 -\n"
     ]
    },
    {
     "name": "stdout",
     "output_type": "stream",
     "text": [
      "2\n",
      "2023-07-31\n",
      "[-0.10057907551527023, 0.929876446723938, 0.4039629399776459, -0.49029701948165894, 0.2570367753505707]\n"
     ]
    },
    {
     "name": "stderr",
     "output_type": "stream",
     "text": [
      "127.0.0.1 - - [07/Apr/2024 00:53:02] \"GET /get_weights?date=2023-08-07 HTTP/1.1\" 200 -\n"
     ]
    },
    {
     "name": "stdout",
     "output_type": "stream",
     "text": [
      "2\n",
      "2023-08-07\n",
      "[-0.40870949625968933, 0.9999648332595825, 0.1481720507144928, -0.09260222315788269, 0.35317471623420715]\n"
     ]
    },
    {
     "name": "stderr",
     "output_type": "stream",
     "text": [
      "127.0.0.1 - - [07/Apr/2024 00:53:04] \"GET /get_weights?date=2023-08-14 HTTP/1.1\" 200 -\n"
     ]
    },
    {
     "name": "stdout",
     "output_type": "stream",
     "text": [
      "2\n",
      "2023-08-14\n",
      "[-0.13973264396190643, 0.4037521779537201, -0.30205294489860535, 0.4144047200679779, 0.6236287355422974]\n"
     ]
    },
    {
     "name": "stderr",
     "output_type": "stream",
     "text": [
      "127.0.0.1 - - [07/Apr/2024 00:53:06] \"GET /get_weights?date=2023-08-21 HTTP/1.1\" 200 -\n"
     ]
    },
    {
     "name": "stdout",
     "output_type": "stream",
     "text": [
      "2\n",
      "2023-08-21\n",
      "[-0.25525352358818054, 0.42890533804893494, 0.0647810846567154, 0.5591596364974976, 0.20240743458271027]\n"
     ]
    },
    {
     "name": "stderr",
     "output_type": "stream",
     "text": [
      "127.0.0.1 - - [07/Apr/2024 00:53:09] \"GET /get_weights?date=2023-08-28 HTTP/1.1\" 200 -\n"
     ]
    },
    {
     "name": "stdout",
     "output_type": "stream",
     "text": [
      "2\n",
      "2023-08-28\n",
      "[-0.2170003205537796, 0.4464821517467499, -0.07123948633670807, 0.334300696849823, 0.50745689868927]\n"
     ]
    },
    {
     "name": "stderr",
     "output_type": "stream",
     "text": [
      "127.0.0.1 - - [07/Apr/2024 00:53:11] \"GET /get_weights?date=2023-09-05 HTTP/1.1\" 200 -\n"
     ]
    },
    {
     "name": "stdout",
     "output_type": "stream",
     "text": [
      "2\n",
      "2023-09-05\n",
      "[-0.12745481729507446, 0.6935166120529175, -0.037153247743844986, 0.45132553577423096, 0.019765866920351982]\n"
     ]
    },
    {
     "name": "stderr",
     "output_type": "stream",
     "text": [
      "127.0.0.1 - - [07/Apr/2024 00:53:13] \"GET /get_weights?date=2023-09-11 HTTP/1.1\" 200 -\n"
     ]
    },
    {
     "name": "stdout",
     "output_type": "stream",
     "text": [
      "2\n",
      "2023-09-11\n",
      "[-0.1960497796535492, 0.7210912108421326, -0.008044428192079067, -0.23388926684856415, 0.7168921232223511]\n"
     ]
    },
    {
     "name": "stderr",
     "output_type": "stream",
     "text": [
      "127.0.0.1 - - [07/Apr/2024 00:53:15] \"GET /get_weights?date=2023-09-18 HTTP/1.1\" 200 -\n"
     ]
    },
    {
     "name": "stdout",
     "output_type": "stream",
     "text": [
      "2\n",
      "2023-09-18\n",
      "[-0.5777997970581055, 0.9193704724311829, 0.4278455078601837, 0.07184498012065887, 0.15873882174491882]\n"
     ]
    },
    {
     "name": "stderr",
     "output_type": "stream",
     "text": [
      "127.0.0.1 - - [07/Apr/2024 00:53:17] \"GET /get_weights?date=2023-09-25 HTTP/1.1\" 200 -\n"
     ]
    },
    {
     "name": "stdout",
     "output_type": "stream",
     "text": [
      "2\n",
      "2023-09-25\n",
      "[-0.02223462052643299, 0.5366339087486267, -0.10456274449825287, 0.6282614469528198, -0.038098178803920746]\n"
     ]
    },
    {
     "name": "stderr",
     "output_type": "stream",
     "text": [
      "127.0.0.1 - - [07/Apr/2024 00:53:20] \"GET /get_weights?date=2023-10-02 HTTP/1.1\" 200 -\n"
     ]
    },
    {
     "name": "stdout",
     "output_type": "stream",
     "text": [
      "2\n",
      "2023-10-02\n",
      "[-0.39759358763694763, 0.806157112121582, 0.11854968219995499, 0.23622559010982513, 0.23666119575500488]\n"
     ]
    },
    {
     "name": "stderr",
     "output_type": "stream",
     "text": [
      "127.0.0.1 - - [07/Apr/2024 00:53:22] \"GET /get_weights?date=2023-10-09 HTTP/1.1\" 200 -\n"
     ]
    },
    {
     "name": "stdout",
     "output_type": "stream",
     "text": [
      "2\n",
      "2023-10-09\n",
      "[-0.43429243564605713, 0.2195284366607666, 0.037661220878362656, 0.3852291703224182, 0.7918736338615417]\n"
     ]
    },
    {
     "name": "stderr",
     "output_type": "stream",
     "text": [
      "127.0.0.1 - - [07/Apr/2024 00:53:24] \"GET /get_weights?date=2023-10-16 HTTP/1.1\" 200 -\n"
     ]
    },
    {
     "name": "stdout",
     "output_type": "stream",
     "text": [
      "2\n",
      "2023-10-16\n",
      "[0.1782861053943634, 0.37578511238098145, -0.11573483049869537, 0.8311018347740173, -0.2694384455680847]\n"
     ]
    },
    {
     "name": "stderr",
     "output_type": "stream",
     "text": [
      "127.0.0.1 - - [07/Apr/2024 00:53:26] \"GET /get_weights?date=2023-10-23 HTTP/1.1\" 200 -\n"
     ]
    },
    {
     "name": "stdout",
     "output_type": "stream",
     "text": [
      "2\n",
      "2023-10-23\n",
      "[-0.3007296025753021, 0.7819445729255676, 0.2062290459871292, 0.1290779858827591, 0.1834779977798462]\n"
     ]
    },
    {
     "name": "stderr",
     "output_type": "stream",
     "text": [
      "127.0.0.1 - - [07/Apr/2024 00:53:28] \"GET /get_weights?date=2023-10-30 HTTP/1.1\" 200 -\n"
     ]
    },
    {
     "name": "stdout",
     "output_type": "stream",
     "text": [
      "2\n",
      "2023-10-30\n",
      "[-0.03894484415650368, 0.6030355095863342, -0.11447962373495102, 0.12007947266101837, 0.4303092360496521]\n"
     ]
    },
    {
     "name": "stderr",
     "output_type": "stream",
     "text": [
      "127.0.0.1 - - [07/Apr/2024 00:53:31] \"GET /get_weights?date=2023-11-06 HTTP/1.1\" 200 -\n"
     ]
    },
    {
     "name": "stdout",
     "output_type": "stream",
     "text": [
      "2\n",
      "2023-11-06\n",
      "[0.051613885909318924, 0.6673303246498108, -0.17890101671218872, 0.4080270230770111, 0.05192975327372551]\n"
     ]
    },
    {
     "name": "stderr",
     "output_type": "stream",
     "text": [
      "127.0.0.1 - - [07/Apr/2024 00:53:33] \"GET /get_weights?date=2023-11-13 HTTP/1.1\" 200 -\n"
     ]
    },
    {
     "name": "stdout",
     "output_type": "stream",
     "text": [
      "2\n",
      "2023-11-13\n",
      "[0.02298586256802082, 0.34372806549072266, 0.03322901204228401, 0.4860251545906067, 0.11403186619281769]\n"
     ]
    },
    {
     "name": "stderr",
     "output_type": "stream",
     "text": [
      "127.0.0.1 - - [07/Apr/2024 00:53:35] \"GET /get_weights?date=2023-11-20 HTTP/1.1\" 200 -\n"
     ]
    },
    {
     "name": "stdout",
     "output_type": "stream",
     "text": [
      "2\n",
      "2023-11-20\n",
      "[0.43850135803222656, 0.26111161708831787, -0.47704339027404785, 0.0895780473947525, 0.6878523826599121]\n"
     ]
    },
    {
     "name": "stderr",
     "output_type": "stream",
     "text": [
      "127.0.0.1 - - [07/Apr/2024 00:53:37] \"GET /get_weights?date=2023-11-27 HTTP/1.1\" 200 -\n"
     ]
    },
    {
     "name": "stdout",
     "output_type": "stream",
     "text": [
      "2\n",
      "2023-11-27\n",
      "[-0.086556576192379, 0.6386826634407043, -0.08685964345932007, 0.03270023688673973, 0.5020332932472229]\n"
     ]
    },
    {
     "name": "stderr",
     "output_type": "stream",
     "text": [
      "127.0.0.1 - - [07/Apr/2024 00:53:39] \"GET /get_weights?date=2023-12-04 HTTP/1.1\" 200 -\n"
     ]
    },
    {
     "name": "stdout",
     "output_type": "stream",
     "text": [
      "2\n",
      "2023-12-04\n",
      "[-0.45203453302383423, 0.8757162094116211, 0.07389269024133682, -0.02911693975329399, 0.5315425395965576]\n"
     ]
    },
    {
     "name": "stderr",
     "output_type": "stream",
     "text": [
      "127.0.0.1 - - [07/Apr/2024 00:53:42] \"GET /get_weights?date=2023-12-11 HTTP/1.1\" 200 -\n"
     ]
    },
    {
     "name": "stdout",
     "output_type": "stream",
     "text": [
      "2\n",
      "2023-12-11\n",
      "[0.11899766325950623, 0.2221270352602005, 0.19582408666610718, 0.6708230376243591, -0.20777182281017303]\n"
     ]
    },
    {
     "name": "stderr",
     "output_type": "stream",
     "text": [
      "127.0.0.1 - - [07/Apr/2024 00:53:45] \"GET /get_weights?date=2020-12-21 HTTP/1.1\" 200 -\n"
     ]
    },
    {
     "name": "stdout",
     "output_type": "stream",
     "text": [
      "0\n",
      "2020-12-21\n",
      "[-0.3147144913673401, 0.9999938607215881, -0.19605451822280884, 0.48103758692741394, 0.029737472534179688]\n"
     ]
    },
    {
     "name": "stderr",
     "output_type": "stream",
     "text": [
      "127.0.0.1 - - [07/Apr/2024 00:53:47] \"GET /get_weights?date=2020-12-28 HTTP/1.1\" 200 -\n"
     ]
    },
    {
     "name": "stdout",
     "output_type": "stream",
     "text": [
      "0\n",
      "2020-12-28\n",
      "[0.06423242390155792, 0.201311394572258, -0.22191432118415833, 0.9754660129547119, -0.019095532596111298]\n"
     ]
    },
    {
     "name": "stderr",
     "output_type": "stream",
     "text": [
      "127.0.0.1 - - [07/Apr/2024 00:53:49] \"GET /get_weights?date=2021-01-04 HTTP/1.1\" 200 -\n"
     ]
    },
    {
     "name": "stdout",
     "output_type": "stream",
     "text": [
      "0\n",
      "2021-01-04\n",
      "[0.18179692327976227, 0.1357293576002121, 0.33061423897743225, 0.798307478427887, -0.44644805788993835]\n"
     ]
    },
    {
     "name": "stderr",
     "output_type": "stream",
     "text": [
      "127.0.0.1 - - [07/Apr/2024 00:53:51] \"GET /get_weights?date=2021-01-11 HTTP/1.1\" 200 -\n"
     ]
    },
    {
     "name": "stdout",
     "output_type": "stream",
     "text": [
      "0\n",
      "2021-01-11\n",
      "[-0.16662244498729706, 0.09917405247688293, 0.05370962247252464, 0.8366597294807434, 0.17707905173301697]\n"
     ]
    },
    {
     "name": "stderr",
     "output_type": "stream",
     "text": [
      "127.0.0.1 - - [07/Apr/2024 00:53:53] \"GET /get_weights?date=2021-01-19 HTTP/1.1\" 200 -\n"
     ]
    },
    {
     "name": "stdout",
     "output_type": "stream",
     "text": [
      "0\n",
      "2021-01-19\n",
      "[-0.1374533474445343, 0.22342228889465332, 0.1632424145936966, 0.9999035000801086, -0.24911491572856903]\n"
     ]
    },
    {
     "name": "stderr",
     "output_type": "stream",
     "text": [
      "127.0.0.1 - - [07/Apr/2024 00:53:56] \"GET /get_weights?date=2021-01-25 HTTP/1.1\" 200 -\n"
     ]
    },
    {
     "name": "stdout",
     "output_type": "stream",
     "text": [
      "0\n",
      "2021-01-25\n",
      "[-0.25585636496543884, 0.2912152111530304, 0.2894293963909149, 0.5518965125083923, 0.12331523001194]\n"
     ]
    },
    {
     "name": "stderr",
     "output_type": "stream",
     "text": [
      "127.0.0.1 - - [07/Apr/2024 00:53:58] \"GET /get_weights?date=2021-02-01 HTTP/1.1\" 200 -\n"
     ]
    },
    {
     "name": "stdout",
     "output_type": "stream",
     "text": [
      "0\n",
      "2021-02-01\n",
      "[-0.2723153829574585, 0.3272469937801361, 0.029797865077853203, 0.5646688342094421, 0.3506016731262207]\n"
     ]
    },
    {
     "name": "stderr",
     "output_type": "stream",
     "text": [
      "127.0.0.1 - - [07/Apr/2024 00:54:00] \"GET /get_weights?date=2021-02-08 HTTP/1.1\" 200 -\n"
     ]
    },
    {
     "name": "stdout",
     "output_type": "stream",
     "text": [
      "0\n",
      "2021-02-08\n",
      "[-0.11866391450166702, 0.5451988577842712, 0.06536330282688141, 0.24601788818836212, 0.26208382844924927]\n"
     ]
    },
    {
     "name": "stderr",
     "output_type": "stream",
     "text": [
      "127.0.0.1 - - [07/Apr/2024 00:54:02] \"GET /get_weights?date=2021-02-16 HTTP/1.1\" 200 -\n"
     ]
    },
    {
     "name": "stdout",
     "output_type": "stream",
     "text": [
      "0\n",
      "2021-02-16\n",
      "[-0.12957122921943665, 0.7911673188209534, 0.09300418943166733, 0.5898680090904236, -0.34446826577186584]\n"
     ]
    },
    {
     "name": "stderr",
     "output_type": "stream",
     "text": [
      "127.0.0.1 - - [07/Apr/2024 00:54:04] \"GET /get_weights?date=2021-02-22 HTTP/1.1\" 200 -\n"
     ]
    },
    {
     "name": "stdout",
     "output_type": "stream",
     "text": [
      "0\n",
      "2021-02-22\n",
      "[-0.42432379722595215, 0.9159971475601196, -0.11018963158130646, 0.2456529438495636, 0.37286338210105896]\n"
     ]
    },
    {
     "name": "stderr",
     "output_type": "stream",
     "text": [
      "127.0.0.1 - - [07/Apr/2024 00:54:06] \"GET /get_weights?date=2021-03-01 HTTP/1.1\" 200 -\n"
     ]
    },
    {
     "name": "stdout",
     "output_type": "stream",
     "text": [
      "0\n",
      "2021-03-01\n",
      "[-0.026561491191387177, 0.3810127079486847, 0.5477799773216248, 0.22807033360004425, -0.1303015798330307]\n"
     ]
    },
    {
     "name": "stderr",
     "output_type": "stream",
     "text": [
      "127.0.0.1 - - [07/Apr/2024 00:54:09] \"GET /get_weights?date=2021-03-08 HTTP/1.1\" 200 -\n"
     ]
    },
    {
     "name": "stdout",
     "output_type": "stream",
     "text": [
      "0\n",
      "2021-03-08\n",
      "[-0.19879041612148285, 0.5054277181625366, -0.08919543027877808, 0.9999956488609314, -0.2174374908208847]\n"
     ]
    },
    {
     "name": "stderr",
     "output_type": "stream",
     "text": [
      "127.0.0.1 - - [07/Apr/2024 00:54:11] \"GET /get_weights?date=2021-03-15 HTTP/1.1\" 200 -\n"
     ]
    },
    {
     "name": "stdout",
     "output_type": "stream",
     "text": [
      "0\n",
      "2021-03-15\n",
      "[0.04918297380208969, 0.27705448865890503, -0.21363525092601776, 0.8059545755386353, 0.08144319802522659]\n"
     ]
    },
    {
     "name": "stderr",
     "output_type": "stream",
     "text": [
      "127.0.0.1 - - [07/Apr/2024 00:54:13] \"GET /get_weights?date=2021-03-22 HTTP/1.1\" 200 -\n"
     ]
    },
    {
     "name": "stdout",
     "output_type": "stream",
     "text": [
      "0\n",
      "2021-03-22\n",
      "[0.02269219420850277, 0.6027089357376099, 0.1265539526939392, 0.3133399486541748, -0.06529504805803299]\n"
     ]
    },
    {
     "name": "stderr",
     "output_type": "stream",
     "text": [
      "127.0.0.1 - - [07/Apr/2024 00:54:15] \"GET /get_weights?date=2021-03-29 HTTP/1.1\" 200 -\n"
     ]
    },
    {
     "name": "stdout",
     "output_type": "stream",
     "text": [
      "0\n",
      "2021-03-29\n",
      "[0.08491352945566177, 0.5950033068656921, -0.08246291428804398, 0.1606120616197586, 0.2419339120388031]\n"
     ]
    },
    {
     "name": "stderr",
     "output_type": "stream",
     "text": [
      "127.0.0.1 - - [07/Apr/2024 00:54:17] \"GET /get_weights?date=2021-04-05 HTTP/1.1\" 200 -\n"
     ]
    },
    {
     "name": "stdout",
     "output_type": "stream",
     "text": [
      "0\n",
      "2021-04-05\n",
      "[-0.4729097783565521, -0.0090608736500144, 0.6356179118156433, 0.6963991522789001, 0.14995354413986206]\n"
     ]
    },
    {
     "name": "stderr",
     "output_type": "stream",
     "text": [
      "127.0.0.1 - - [07/Apr/2024 00:54:20] \"GET /get_weights?date=2021-04-12 HTTP/1.1\" 200 -\n"
     ]
    },
    {
     "name": "stdout",
     "output_type": "stream",
     "text": [
      "0\n",
      "2021-04-12\n",
      "[-0.25317350029945374, 0.5603227615356445, -0.003766682930290699, 0.6039935350418091, 0.0926237404346466]\n"
     ]
    },
    {
     "name": "stderr",
     "output_type": "stream",
     "text": [
      "127.0.0.1 - - [07/Apr/2024 00:54:22] \"GET /get_weights?date=2021-04-19 HTTP/1.1\" 200 -\n"
     ]
    },
    {
     "name": "stdout",
     "output_type": "stream",
     "text": [
      "0\n",
      "2021-04-19\n",
      "[0.3004234731197357, 0.6256570219993591, 0.09286171942949295, 0.0924074575304985, -0.11134964972734451]\n"
     ]
    },
    {
     "name": "stderr",
     "output_type": "stream",
     "text": [
      "127.0.0.1 - - [07/Apr/2024 00:54:24] \"GET /get_weights?date=2021-04-26 HTTP/1.1\" 200 -\n"
     ]
    },
    {
     "name": "stdout",
     "output_type": "stream",
     "text": [
      "0\n",
      "2021-04-26\n",
      "[-0.5857607126235962, 0.9826666712760925, -0.004996011033654213, 0.2388898879289627, 0.36920008063316345]\n"
     ]
    },
    {
     "name": "stderr",
     "output_type": "stream",
     "text": [
      "127.0.0.1 - - [07/Apr/2024 00:54:26] \"GET /get_weights?date=2021-05-03 HTTP/1.1\" 200 -\n"
     ]
    },
    {
     "name": "stdout",
     "output_type": "stream",
     "text": [
      "0\n",
      "2021-05-03\n",
      "[-0.03444073721766472, 0.5652098059654236, 0.45819246768951416, 0.2629270553588867, -0.2518886625766754]\n"
     ]
    },
    {
     "name": "stderr",
     "output_type": "stream",
     "text": [
      "127.0.0.1 - - [07/Apr/2024 00:54:28] \"GET /get_weights?date=2021-05-10 HTTP/1.1\" 200 -\n"
     ]
    },
    {
     "name": "stdout",
     "output_type": "stream",
     "text": [
      "0\n",
      "2021-05-10\n",
      "[-0.3469972312450409, 0.5906282663345337, 0.26601290702819824, 0.4155421853065491, 0.0748138576745987]\n"
     ]
    },
    {
     "name": "stderr",
     "output_type": "stream",
     "text": [
      "127.0.0.1 - - [07/Apr/2024 00:54:30] \"GET /get_weights?date=2021-05-17 HTTP/1.1\" 200 -\n"
     ]
    },
    {
     "name": "stdout",
     "output_type": "stream",
     "text": [
      "0\n",
      "2021-05-17\n",
      "[-0.34618043899536133, 1.0000230073928833, 0.2668156027793884, 0.060626715421676636, 0.018714874982833862]\n"
     ]
    },
    {
     "name": "stderr",
     "output_type": "stream",
     "text": [
      "127.0.0.1 - - [07/Apr/2024 00:54:33] \"GET /get_weights?date=2021-05-24 HTTP/1.1\" 200 -\n"
     ]
    },
    {
     "name": "stdout",
     "output_type": "stream",
     "text": [
      "0\n",
      "2021-05-24\n",
      "[-0.3538849353790283, 0.4314286708831787, -0.0038659425918012857, 0.5572905540466309, 0.3690316081047058]\n"
     ]
    },
    {
     "name": "stderr",
     "output_type": "stream",
     "text": [
      "127.0.0.1 - - [07/Apr/2024 00:54:35] \"GET /get_weights?date=2021-06-01 HTTP/1.1\" 200 -\n"
     ]
    },
    {
     "name": "stdout",
     "output_type": "stream",
     "text": [
      "0\n",
      "2021-06-01\n",
      "[-0.2371480017900467, 0.6115019917488098, -0.018340691924095154, 0.5757585763931274, 0.06822812557220459]\n"
     ]
    },
    {
     "name": "stderr",
     "output_type": "stream",
     "text": [
      "127.0.0.1 - - [07/Apr/2024 00:54:37] \"GET /get_weights?date=2021-06-07 HTTP/1.1\" 200 -\n"
     ]
    },
    {
     "name": "stdout",
     "output_type": "stream",
     "text": [
      "0\n",
      "2021-06-07\n",
      "[-0.000927091168705374, 0.6808251738548279, -0.31885164976119995, 0.5343514680862427, 0.10460212081670761]\n"
     ]
    },
    {
     "name": "stderr",
     "output_type": "stream",
     "text": [
      "127.0.0.1 - - [07/Apr/2024 00:54:39] \"GET /get_weights?date=2021-06-14 HTTP/1.1\" 200 -\n"
     ]
    },
    {
     "name": "stdout",
     "output_type": "stream",
     "text": [
      "0\n",
      "2021-06-14\n",
      "[-0.31015628576278687, 0.8248267769813538, 0.13171546161174774, 0.46368226408958435, -0.11006831377744675]\n"
     ]
    },
    {
     "name": "stderr",
     "output_type": "stream",
     "text": [
      "127.0.0.1 - - [07/Apr/2024 00:54:41] \"GET /get_weights?date=2021-06-21 HTTP/1.1\" 200 -\n"
     ]
    },
    {
     "name": "stdout",
     "output_type": "stream",
     "text": [
      "0\n",
      "2021-06-21\n",
      "[-0.08217958360910416, 0.5410506129264832, 0.15621937811374664, 0.2947295308113098, 0.09017977863550186]\n"
     ]
    },
    {
     "name": "stderr",
     "output_type": "stream",
     "text": [
      "127.0.0.1 - - [07/Apr/2024 00:54:43] \"GET /get_weights?date=2021-06-28 HTTP/1.1\" 200 -\n"
     ]
    },
    {
     "name": "stdout",
     "output_type": "stream",
     "text": [
      "0\n",
      "2021-06-28\n",
      "[-0.6660982370376587, 0.24142594635486603, 0.6454974412918091, 0.7312386631965637, 0.04793626070022583]\n"
     ]
    },
    {
     "name": "stderr",
     "output_type": "stream",
     "text": [
      "127.0.0.1 - - [07/Apr/2024 00:54:46] \"GET /get_weights?date=2021-07-06 HTTP/1.1\" 200 -\n"
     ]
    },
    {
     "name": "stdout",
     "output_type": "stream",
     "text": [
      "0\n",
      "2021-07-06\n",
      "[-0.3951191306114197, 0.28899040818214417, 0.012144291773438454, 0.6611229181289673, 0.4328615069389343]\n"
     ]
    },
    {
     "name": "stderr",
     "output_type": "stream",
     "text": [
      "127.0.0.1 - - [07/Apr/2024 00:54:48] \"GET /get_weights?date=2021-07-12 HTTP/1.1\" 200 -\n"
     ]
    },
    {
     "name": "stdout",
     "output_type": "stream",
     "text": [
      "0\n",
      "2021-07-12\n",
      "[-0.0014485486317425966, 0.9088366031646729, -0.06978628784418106, 0.20791377127170563, -0.04551557078957558]\n"
     ]
    },
    {
     "name": "stderr",
     "output_type": "stream",
     "text": [
      "127.0.0.1 - - [07/Apr/2024 00:54:50] \"GET /get_weights?date=2021-07-19 HTTP/1.1\" 200 -\n"
     ]
    },
    {
     "name": "stdout",
     "output_type": "stream",
     "text": [
      "0\n",
      "2021-07-19\n",
      "[-0.22754709422588348, 0.565061092376709, 0.31626448035240173, 0.4546752870082855, -0.10845381021499634]\n"
     ]
    },
    {
     "name": "stderr",
     "output_type": "stream",
     "text": [
      "127.0.0.1 - - [07/Apr/2024 00:54:52] \"GET /get_weights?date=2021-07-26 HTTP/1.1\" 200 -\n"
     ]
    },
    {
     "name": "stdout",
     "output_type": "stream",
     "text": [
      "0\n",
      "2021-07-26\n",
      "[-0.1126595214009285, 0.14814108610153198, -0.21491698920726776, 0.8162450194358826, 0.36319029331207275]\n"
     ]
    },
    {
     "name": "stderr",
     "output_type": "stream",
     "text": [
      "127.0.0.1 - - [07/Apr/2024 00:54:54] \"GET /get_weights?date=2021-08-02 HTTP/1.1\" 200 -\n"
     ]
    },
    {
     "name": "stdout",
     "output_type": "stream",
     "text": [
      "0\n",
      "2021-08-02\n",
      "[0.0681508481502533, 0.09013109654188156, -0.07306937873363495, 0.9908642768859863, -0.07607685774564743]\n"
     ]
    },
    {
     "name": "stderr",
     "output_type": "stream",
     "text": [
      "127.0.0.1 - - [07/Apr/2024 00:54:56] \"GET /get_weights?date=2021-08-09 HTTP/1.1\" 200 -\n"
     ]
    },
    {
     "name": "stdout",
     "output_type": "stream",
     "text": [
      "0\n",
      "2021-08-09\n",
      "[-0.6166369915008545, 0.9902401566505432, 0.22018656134605408, 0.43798497319221497, -0.031774718314409256]\n"
     ]
    },
    {
     "name": "stderr",
     "output_type": "stream",
     "text": [
      "127.0.0.1 - - [07/Apr/2024 00:54:59] \"GET /get_weights?date=2021-08-16 HTTP/1.1\" 200 -\n"
     ]
    },
    {
     "name": "stdout",
     "output_type": "stream",
     "text": [
      "0\n",
      "2021-08-16\n",
      "[-0.10369981825351715, 0.4550583064556122, 0.4705444276332855, 0.2864917814731598, -0.10839500278234482]\n"
     ]
    },
    {
     "name": "stderr",
     "output_type": "stream",
     "text": [
      "127.0.0.1 - - [07/Apr/2024 00:55:01] \"GET /get_weights?date=2021-08-23 HTTP/1.1\" 200 -\n"
     ]
    },
    {
     "name": "stdout",
     "output_type": "stream",
     "text": [
      "0\n",
      "2021-08-23\n",
      "[-0.10905713587999344, 0.811764657497406, 0.04790807515382767, 0.37639009952545166, -0.1270057111978531]\n"
     ]
    },
    {
     "name": "stderr",
     "output_type": "stream",
     "text": [
      "127.0.0.1 - - [07/Apr/2024 00:55:03] \"GET /get_weights?date=2021-08-30 HTTP/1.1\" 200 -\n"
     ]
    },
    {
     "name": "stdout",
     "output_type": "stream",
     "text": [
      "0\n",
      "2021-08-30\n",
      "[-0.2551465332508087, 0.660908579826355, 0.28860560059547424, 0.5921405553817749, -0.2865082323551178]\n"
     ]
    },
    {
     "name": "stderr",
     "output_type": "stream",
     "text": [
      "127.0.0.1 - - [07/Apr/2024 00:55:05] \"GET /get_weights?date=2021-09-07 HTTP/1.1\" 200 -\n"
     ]
    },
    {
     "name": "stdout",
     "output_type": "stream",
     "text": [
      "0\n",
      "2021-09-07\n",
      "[-0.16991084814071655, 0.13595207035541534, -0.018086867406964302, 1.0000134706497192, 0.05203207954764366]\n"
     ]
    },
    {
     "name": "stderr",
     "output_type": "stream",
     "text": [
      "127.0.0.1 - - [07/Apr/2024 00:55:07] \"GET /get_weights?date=2021-09-13 HTTP/1.1\" 200 -\n"
     ]
    },
    {
     "name": "stdout",
     "output_type": "stream",
     "text": [
      "0\n",
      "2021-09-13\n",
      "[0.08153858780860901, 0.5016312003135681, -0.025107380002737045, 0.6486793756484985, -0.20674195885658264]\n"
     ]
    },
    {
     "name": "stderr",
     "output_type": "stream",
     "text": [
      "127.0.0.1 - - [07/Apr/2024 00:55:09] \"GET /get_weights?date=2021-09-20 HTTP/1.1\" 200 -\n"
     ]
    },
    {
     "name": "stdout",
     "output_type": "stream",
     "text": [
      "0\n",
      "2021-09-20\n",
      "[0.02497415617108345, 0.24580217897891998, -0.13812100887298584, 0.8306336402893066, 0.03671105578541756]\n"
     ]
    },
    {
     "name": "stderr",
     "output_type": "stream",
     "text": [
      "127.0.0.1 - - [07/Apr/2024 00:55:12] \"GET /get_weights?date=2021-09-27 HTTP/1.1\" 200 -\n"
     ]
    },
    {
     "name": "stdout",
     "output_type": "stream",
     "text": [
      "0\n",
      "2021-09-27\n",
      "[-0.4080777168273926, 0.4636417329311371, 0.17634029686450958, 0.7241705656051636, 0.04392509162425995]\n"
     ]
    },
    {
     "name": "stderr",
     "output_type": "stream",
     "text": [
      "127.0.0.1 - - [07/Apr/2024 00:55:14] \"GET /get_weights?date=2021-10-04 HTTP/1.1\" 200 -\n"
     ]
    },
    {
     "name": "stdout",
     "output_type": "stream",
     "text": [
      "0\n",
      "2021-10-04\n",
      "[-0.25000470876693726, 0.5744198560714722, -0.07583333551883698, 0.712723970413208, 0.03869415819644928]\n"
     ]
    },
    {
     "name": "stderr",
     "output_type": "stream",
     "text": [
      "127.0.0.1 - - [07/Apr/2024 00:55:16] \"GET /get_weights?date=2021-10-11 HTTP/1.1\" 200 -\n"
     ]
    },
    {
     "name": "stdout",
     "output_type": "stream",
     "text": [
      "0\n",
      "2021-10-11\n",
      "[-0.14818455278873444, 0.7312478423118591, -0.07195818424224854, 0.6713536977767944, -0.1824588030576706]\n"
     ]
    },
    {
     "name": "stderr",
     "output_type": "stream",
     "text": [
      "127.0.0.1 - - [07/Apr/2024 00:55:18] \"GET /get_weights?date=2021-10-18 HTTP/1.1\" 200 -\n"
     ]
    },
    {
     "name": "stdout",
     "output_type": "stream",
     "text": [
      "0\n",
      "2021-10-18\n",
      "[0.1131822019815445, 0.3620498478412628, -0.1623968780040741, 0.6871260404586792, 3.875038601108827e-05]\n"
     ]
    },
    {
     "name": "stderr",
     "output_type": "stream",
     "text": [
      "127.0.0.1 - - [07/Apr/2024 00:55:20] \"GET /get_weights?date=2021-10-25 HTTP/1.1\" 200 -\n"
     ]
    },
    {
     "name": "stdout",
     "output_type": "stream",
     "text": [
      "0\n",
      "2021-10-25\n",
      "[-0.2314518243074417, 0.6199700832366943, 0.22710800170898438, 0.5494847893714905, -0.16511107981204987]\n"
     ]
    },
    {
     "name": "stderr",
     "output_type": "stream",
     "text": [
      "127.0.0.1 - - [07/Apr/2024 00:55:22] \"GET /get_weights?date=2021-11-01 HTTP/1.1\" 200 -\n"
     ]
    },
    {
     "name": "stdout",
     "output_type": "stream",
     "text": [
      "0\n",
      "2021-11-01\n",
      "[-0.11886707693338394, 0.5404143929481506, -0.1439216136932373, 0.714752733707428, 0.007621545344591141]\n"
     ]
    },
    {
     "name": "stderr",
     "output_type": "stream",
     "text": [
      "127.0.0.1 - - [07/Apr/2024 00:55:25] \"GET /get_weights?date=2021-11-08 HTTP/1.1\" 200 -\n"
     ]
    },
    {
     "name": "stdout",
     "output_type": "stream",
     "text": [
      "0\n",
      "2021-11-08\n",
      "[-0.41172435879707336, 0.6052564382553101, 0.484576553106308, 0.3512847125530243, -0.029393395408988]\n"
     ]
    },
    {
     "name": "stderr",
     "output_type": "stream",
     "text": [
      "127.0.0.1 - - [07/Apr/2024 00:55:27] \"GET /get_weights?date=2021-11-15 HTTP/1.1\" 200 -\n"
     ]
    },
    {
     "name": "stdout",
     "output_type": "stream",
     "text": [
      "0\n",
      "2021-11-15\n",
      "[-0.00813379231840372, 0.24960412085056305, -0.004522131755948067, 0.8576151132583618, -0.09456339478492737]\n"
     ]
    },
    {
     "name": "stderr",
     "output_type": "stream",
     "text": [
      "127.0.0.1 - - [07/Apr/2024 00:55:29] \"GET /get_weights?date=2021-11-22 HTTP/1.1\" 200 -\n"
     ]
    },
    {
     "name": "stdout",
     "output_type": "stream",
     "text": [
      "0\n",
      "2021-11-22\n",
      "[-0.17481562495231628, 0.3364206552505493, 0.13838309049606323, 0.6691391468048096, 0.030872566625475883]\n"
     ]
    },
    {
     "name": "stderr",
     "output_type": "stream",
     "text": [
      "127.0.0.1 - - [07/Apr/2024 00:55:31] \"GET /get_weights?date=2021-11-29 HTTP/1.1\" 200 -\n"
     ]
    },
    {
     "name": "stdout",
     "output_type": "stream",
     "text": [
      "0\n",
      "2021-11-29\n",
      "[-0.320679247379303, 0.7424564361572266, 0.08432434499263763, 0.1116321012377739, 0.3822663426399231]\n"
     ]
    },
    {
     "name": "stderr",
     "output_type": "stream",
     "text": [
      "127.0.0.1 - - [07/Apr/2024 00:55:33] \"GET /get_weights?date=2021-12-06 HTTP/1.1\" 200 -\n"
     ]
    },
    {
     "name": "stdout",
     "output_type": "stream",
     "text": [
      "0\n",
      "2021-12-06\n",
      "[-0.1975400447845459, 0.9999979138374329, -0.1419467180967331, -0.039622802287340164, 0.3791116178035736]\n"
     ]
    },
    {
     "name": "stderr",
     "output_type": "stream",
     "text": [
      "127.0.0.1 - - [07/Apr/2024 00:55:35] \"GET /get_weights?date=2021-12-13 HTTP/1.1\" 200 -\n"
     ]
    },
    {
     "name": "stdout",
     "output_type": "stream",
     "text": [
      "0\n",
      "2021-12-13\n",
      "[-0.29275697469711304, 0.1462799608707428, 0.24078312516212463, 0.8187777400016785, 0.08691614866256714]\n"
     ]
    },
    {
     "name": "stderr",
     "output_type": "stream",
     "text": [
      "127.0.0.1 - - [07/Apr/2024 00:55:38] \"GET /get_weights?date=2021-12-20 HTTP/1.1\" 200 -\n"
     ]
    },
    {
     "name": "stdout",
     "output_type": "stream",
     "text": [
      "1\n",
      "2021-12-20\n",
      "[0.1821325123310089, 0.07585781812667847, -0.08710262924432755, 0.5623620748519897, 0.2667500674724579]\n"
     ]
    },
    {
     "name": "stderr",
     "output_type": "stream",
     "text": [
      "127.0.0.1 - - [07/Apr/2024 00:55:40] \"GET /get_weights?date=2021-12-27 HTTP/1.1\" 200 -\n"
     ]
    },
    {
     "name": "stdout",
     "output_type": "stream",
     "text": [
      "1\n",
      "2021-12-27\n",
      "[-0.032841600477695465, 0.4476363956928253, 0.16807886958122253, 0.36649182438850403, 0.05063433200120926]\n"
     ]
    },
    {
     "name": "stderr",
     "output_type": "stream",
     "text": [
      "127.0.0.1 - - [07/Apr/2024 00:55:42] \"GET /get_weights?date=2022-01-03 HTTP/1.1\" 200 -\n"
     ]
    },
    {
     "name": "stdout",
     "output_type": "stream",
     "text": [
      "1\n",
      "2022-01-03\n",
      "[-0.3319685459136963, 0.43333128094673157, 0.09122806787490845, 0.5496160387992859, 0.2577930986881256]\n"
     ]
    },
    {
     "name": "stderr",
     "output_type": "stream",
     "text": [
      "127.0.0.1 - - [07/Apr/2024 00:55:44] \"GET /get_weights?date=2022-01-10 HTTP/1.1\" 200 -\n"
     ]
    },
    {
     "name": "stdout",
     "output_type": "stream",
     "text": [
      "1\n",
      "2022-01-10\n",
      "[-0.39768001437187195, 0.5731004476547241, 0.22483889758586884, 0.5152773261070251, 0.08446317911148071]\n"
     ]
    },
    {
     "name": "stderr",
     "output_type": "stream",
     "text": [
      "127.0.0.1 - - [07/Apr/2024 00:55:46] \"GET /get_weights?date=2022-01-18 HTTP/1.1\" 200 -\n"
     ]
    },
    {
     "name": "stdout",
     "output_type": "stream",
     "text": [
      "1\n",
      "2022-01-18\n",
      "[-0.15334923565387726, 0.42253899574279785, 0.0021419895347207785, 0.4939518868923187, 0.23471616208553314]\n"
     ]
    },
    {
     "name": "stderr",
     "output_type": "stream",
     "text": [
      "127.0.0.1 - - [07/Apr/2024 00:55:49] \"GET /get_weights?date=2022-01-24 HTTP/1.1\" 200 -\n"
     ]
    },
    {
     "name": "stdout",
     "output_type": "stream",
     "text": [
      "1\n",
      "2022-01-24\n",
      "[-0.1061125099658966, 0.610019862651825, -0.03539657220244408, 0.3115500509738922, 0.2199389934539795]\n"
     ]
    },
    {
     "name": "stderr",
     "output_type": "stream",
     "text": [
      "127.0.0.1 - - [07/Apr/2024 00:55:51] \"GET /get_weights?date=2022-01-31 HTTP/1.1\" 200 -\n"
     ]
    },
    {
     "name": "stdout",
     "output_type": "stream",
     "text": [
      "1\n",
      "2022-01-31\n",
      "[-0.1392296999692917, 0.7218655347824097, -0.07225323468446732, -0.038381271064281464, 0.5279985070228577]\n"
     ]
    },
    {
     "name": "stderr",
     "output_type": "stream",
     "text": [
      "127.0.0.1 - - [07/Apr/2024 00:55:53] \"GET /get_weights?date=2022-02-07 HTTP/1.1\" 200 -\n"
     ]
    },
    {
     "name": "stdout",
     "output_type": "stream",
     "text": [
      "1\n",
      "2022-02-07\n",
      "[-0.06109653413295746, 0.48986759781837463, -0.06188812851905823, 0.8540074229240417, -0.22089038789272308]\n"
     ]
    },
    {
     "name": "stderr",
     "output_type": "stream",
     "text": [
      "127.0.0.1 - - [07/Apr/2024 00:55:55] \"GET /get_weights?date=2022-02-14 HTTP/1.1\" 200 -\n"
     ]
    },
    {
     "name": "stdout",
     "output_type": "stream",
     "text": [
      "1\n",
      "2022-02-14\n",
      "[-0.13256914913654327, 0.203232079744339, -0.16703064739704132, 0.8743916749954224, 0.22197602689266205]\n"
     ]
    },
    {
     "name": "stderr",
     "output_type": "stream",
     "text": [
      "127.0.0.1 - - [07/Apr/2024 00:55:57] \"GET /get_weights?date=2022-02-22 HTTP/1.1\" 200 -\n"
     ]
    },
    {
     "name": "stdout",
     "output_type": "stream",
     "text": [
      "1\n",
      "2022-02-22\n",
      "[-0.23140814900398254, 0.537216067314148, 0.3138411343097687, 0.6873692274093628, -0.307018518447876]\n"
     ]
    },
    {
     "name": "stderr",
     "output_type": "stream",
     "text": [
      "127.0.0.1 - - [07/Apr/2024 00:56:00] \"GET /get_weights?date=2022-02-28 HTTP/1.1\" 200 -\n"
     ]
    },
    {
     "name": "stdout",
     "output_type": "stream",
     "text": [
      "1\n",
      "2022-02-28\n",
      "[-0.45293989777565, 0.6976282000541687, -0.11564698815345764, 0.8828423023223877, -0.011883698403835297]\n"
     ]
    },
    {
     "name": "stderr",
     "output_type": "stream",
     "text": [
      "127.0.0.1 - - [07/Apr/2024 00:56:02] \"GET /get_weights?date=2022-03-07 HTTP/1.1\" 200 -\n"
     ]
    },
    {
     "name": "stdout",
     "output_type": "stream",
     "text": [
      "1\n",
      "2022-03-07\n",
      "[-0.47095510363578796, 0.5566357374191284, 0.5115959048271179, 0.16633641719818115, 0.23638707399368286]\n"
     ]
    },
    {
     "name": "stderr",
     "output_type": "stream",
     "text": [
      "127.0.0.1 - - [07/Apr/2024 00:56:04] \"GET /get_weights?date=2022-03-14 HTTP/1.1\" 200 -\n"
     ]
    },
    {
     "name": "stdout",
     "output_type": "stream",
     "text": [
      "1\n",
      "2022-03-14\n",
      "[0.06404923647642136, 0.6387273073196411, -0.026300128549337387, 0.21805216372013092, 0.10547135770320892]\n"
     ]
    },
    {
     "name": "stderr",
     "output_type": "stream",
     "text": [
      "127.0.0.1 - - [07/Apr/2024 00:56:06] \"GET /get_weights?date=2022-03-21 HTTP/1.1\" 200 -\n"
     ]
    },
    {
     "name": "stdout",
     "output_type": "stream",
     "text": [
      "1\n",
      "2022-03-21\n",
      "[-0.11813685297966003, 0.23433716595172882, 0.1848558783531189, 0.6096736788749695, 0.08927012979984283]\n"
     ]
    },
    {
     "name": "stderr",
     "output_type": "stream",
     "text": [
      "127.0.0.1 - - [07/Apr/2024 00:56:08] \"GET /get_weights?date=2022-03-28 HTTP/1.1\" 200 -\n"
     ]
    },
    {
     "name": "stdout",
     "output_type": "stream",
     "text": [
      "1\n",
      "2022-03-28\n",
      "[0.06541217863559723, 0.1886521875858307, -0.199722021818161, 0.8186987042427063, 0.12695886194705963]\n"
     ]
    },
    {
     "name": "stderr",
     "output_type": "stream",
     "text": [
      "127.0.0.1 - - [07/Apr/2024 00:56:11] \"GET /get_weights?date=2022-04-04 HTTP/1.1\" 200 -\n"
     ]
    },
    {
     "name": "stdout",
     "output_type": "stream",
     "text": [
      "1\n",
      "2022-04-04\n",
      "[0.2264726310968399, 0.2935928404331207, -0.20944082736968994, 0.45697829127311707, 0.23239704966545105]\n"
     ]
    },
    {
     "name": "stderr",
     "output_type": "stream",
     "text": [
      "127.0.0.1 - - [07/Apr/2024 00:56:13] \"GET /get_weights?date=2022-04-11 HTTP/1.1\" 200 -\n"
     ]
    },
    {
     "name": "stdout",
     "output_type": "stream",
     "text": [
      "1\n",
      "2022-04-11\n",
      "[-0.2603681683540344, 0.3650159537792206, 0.18843507766723633, 0.4251178205013275, 0.28179931640625]\n"
     ]
    },
    {
     "name": "stderr",
     "output_type": "stream",
     "text": [
      "127.0.0.1 - - [07/Apr/2024 00:56:15] \"GET /get_weights?date=2022-04-18 HTTP/1.1\" 200 -\n"
     ]
    },
    {
     "name": "stdout",
     "output_type": "stream",
     "text": [
      "1\n",
      "2022-04-18\n",
      "[0.34715554118156433, 0.09014516323804855, 0.06449677795171738, 0.665463387966156, -0.16726087033748627]\n"
     ]
    },
    {
     "name": "stderr",
     "output_type": "stream",
     "text": [
      "127.0.0.1 - - [07/Apr/2024 00:56:17] \"GET /get_weights?date=2022-04-25 HTTP/1.1\" 200 -\n"
     ]
    },
    {
     "name": "stdout",
     "output_type": "stream",
     "text": [
      "1\n",
      "2022-04-25\n",
      "[-0.24926406145095825, 0.07044554501771927, 0.17834961414337158, 1.0000001192092896, 0.00046881416346877813]\n"
     ]
    },
    {
     "name": "stderr",
     "output_type": "stream",
     "text": [
      "127.0.0.1 - - [07/Apr/2024 00:56:19] \"GET /get_weights?date=2022-05-02 HTTP/1.1\" 200 -\n"
     ]
    },
    {
     "name": "stdout",
     "output_type": "stream",
     "text": [
      "1\n",
      "2022-05-02\n",
      "[0.04894980415701866, 0.5167993307113647, -0.3685152530670166, 0.45514991879463196, 0.3476162254810333]\n"
     ]
    },
    {
     "name": "stderr",
     "output_type": "stream",
     "text": [
      "127.0.0.1 - - [07/Apr/2024 00:56:22] \"GET /get_weights?date=2022-05-09 HTTP/1.1\" 200 -\n"
     ]
    },
    {
     "name": "stdout",
     "output_type": "stream",
     "text": [
      "1\n",
      "2022-05-09\n",
      "[-0.2767837941646576, 0.24197588860988617, 0.2980041801929474, 0.7937045693397522, -0.05690087378025055]\n"
     ]
    },
    {
     "name": "stderr",
     "output_type": "stream",
     "text": [
      "127.0.0.1 - - [07/Apr/2024 00:56:24] \"GET /get_weights?date=2022-05-16 HTTP/1.1\" 200 -\n"
     ]
    },
    {
     "name": "stdout",
     "output_type": "stream",
     "text": [
      "1\n",
      "2022-05-16\n",
      "[-0.20336313545703888, 0.6164143085479736, -0.10514765977859497, 0.36957862973213196, 0.3225177526473999]\n"
     ]
    },
    {
     "name": "stderr",
     "output_type": "stream",
     "text": [
      "127.0.0.1 - - [07/Apr/2024 00:56:26] \"GET /get_weights?date=2022-05-23 HTTP/1.1\" 200 -\n"
     ]
    },
    {
     "name": "stdout",
     "output_type": "stream",
     "text": [
      "1\n",
      "2022-05-23\n",
      "[-0.3105522394180298, 0.15926922857761383, 0.17046262323856354, 0.7877179384231567, 0.1931024193763733]\n"
     ]
    },
    {
     "name": "stderr",
     "output_type": "stream",
     "text": [
      "127.0.0.1 - - [07/Apr/2024 00:56:28] \"GET /get_weights?date=2022-05-31 HTTP/1.1\" 200 -\n"
     ]
    },
    {
     "name": "stdout",
     "output_type": "stream",
     "text": [
      "1\n",
      "2022-05-31\n",
      "[-0.08399499207735062, 0.5607670545578003, 0.0030793757177889347, 0.31024301052093506, 0.20990554988384247]\n"
     ]
    },
    {
     "name": "stderr",
     "output_type": "stream",
     "text": [
      "127.0.0.1 - - [07/Apr/2024 00:56:30] \"GET /get_weights?date=2022-06-06 HTTP/1.1\" 200 -\n"
     ]
    },
    {
     "name": "stdout",
     "output_type": "stream",
     "text": [
      "1\n",
      "2022-06-06\n",
      "[0.006543832831084728, 0.23831340670585632, 0.00977182574570179, 0.8558244109153748, -0.11045346409082413]\n"
     ]
    },
    {
     "name": "stderr",
     "output_type": "stream",
     "text": [
      "127.0.0.1 - - [07/Apr/2024 00:56:33] \"GET /get_weights?date=2022-06-13 HTTP/1.1\" 200 -\n"
     ]
    },
    {
     "name": "stdout",
     "output_type": "stream",
     "text": [
      "1\n",
      "2022-06-13\n",
      "[-0.23726147413253784, 0.769837498664856, 0.17652590572834015, 0.3800605237483978, -0.08916248381137848]\n"
     ]
    },
    {
     "name": "stderr",
     "output_type": "stream",
     "text": [
      "127.0.0.1 - - [07/Apr/2024 00:56:35] \"GET /get_weights?date=2022-06-20 HTTP/1.1\" 200 -\n"
     ]
    },
    {
     "name": "stdout",
     "output_type": "stream",
     "text": [
      "1\n",
      "2022-06-20\n",
      "[0.03274745121598244, 0.46404844522476196, -0.02051439695060253, 0.41274377703666687, 0.11097470670938492]\n"
     ]
    },
    {
     "name": "stderr",
     "output_type": "stream",
     "text": [
      "127.0.0.1 - - [07/Apr/2024 00:56:37] \"GET /get_weights?date=2022-06-27 HTTP/1.1\" 200 -\n"
     ]
    },
    {
     "name": "stdout",
     "output_type": "stream",
     "text": [
      "1\n",
      "2022-06-27\n",
      "[-0.02431405521929264, 0.6808894276618958, 0.036176297813653946, 0.2338852733373642, 0.07336306571960449]\n"
     ]
    },
    {
     "name": "stderr",
     "output_type": "stream",
     "text": [
      "127.0.0.1 - - [07/Apr/2024 00:56:39] \"GET /get_weights?date=2022-07-05 HTTP/1.1\" 200 -\n"
     ]
    },
    {
     "name": "stdout",
     "output_type": "stream",
     "text": [
      "1\n",
      "2022-07-05\n",
      "[0.09070055186748505, -0.04163259267807007, 0.20353949069976807, 1.0, -0.25260746479034424]\n"
     ]
    },
    {
     "name": "stderr",
     "output_type": "stream",
     "text": [
      "127.0.0.1 - - [07/Apr/2024 00:56:41] \"GET /get_weights?date=2022-07-11 HTTP/1.1\" 200 -\n"
     ]
    },
    {
     "name": "stdout",
     "output_type": "stream",
     "text": [
      "1\n",
      "2022-07-11\n",
      "[-0.0038163301069289446, 0.15716491639614105, 0.39501288533210754, 0.5269607901573181, -0.07532224804162979]\n"
     ]
    },
    {
     "name": "stderr",
     "output_type": "stream",
     "text": [
      "127.0.0.1 - - [07/Apr/2024 00:56:44] \"GET /get_weights?date=2022-07-18 HTTP/1.1\" 200 -\n"
     ]
    },
    {
     "name": "stdout",
     "output_type": "stream",
     "text": [
      "1\n",
      "2022-07-18\n",
      "[0.15730424225330353, 0.13428175449371338, 0.1552586555480957, 0.6154419183731079, -0.06228656321763992]\n"
     ]
    },
    {
     "name": "stderr",
     "output_type": "stream",
     "text": [
      "127.0.0.1 - - [07/Apr/2024 00:56:46] \"GET /get_weights?date=2022-07-25 HTTP/1.1\" 200 -\n"
     ]
    },
    {
     "name": "stdout",
     "output_type": "stream",
     "text": [
      "1\n",
      "2022-07-25\n",
      "[0.05775222182273865, 0.24415986239910126, 0.029489951208233833, 0.531833291053772, 0.13676470518112183]\n"
     ]
    },
    {
     "name": "stderr",
     "output_type": "stream",
     "text": [
      "127.0.0.1 - - [07/Apr/2024 00:56:48] \"GET /get_weights?date=2022-08-01 HTTP/1.1\" 200 -\n"
     ]
    },
    {
     "name": "stdout",
     "output_type": "stream",
     "text": [
      "1\n",
      "2022-08-01\n",
      "[0.17960071563720703, 0.5414289832115173, -0.12240017205476761, -0.007313938811421394, 0.40868431329727173]\n"
     ]
    },
    {
     "name": "stderr",
     "output_type": "stream",
     "text": [
      "127.0.0.1 - - [07/Apr/2024 00:56:50] \"GET /get_weights?date=2022-08-08 HTTP/1.1\" 200 -\n"
     ]
    },
    {
     "name": "stdout",
     "output_type": "stream",
     "text": [
      "1\n",
      "2022-08-08\n",
      "[0.0012725446140393615, 1.0000001192092896, -0.10097882896661758, -0.08322525769472122, 0.18293139338493347]\n"
     ]
    },
    {
     "name": "stderr",
     "output_type": "stream",
     "text": [
      "127.0.0.1 - - [07/Apr/2024 00:56:52] \"GET /get_weights?date=2022-08-15 HTTP/1.1\" 200 -\n"
     ]
    },
    {
     "name": "stdout",
     "output_type": "stream",
     "text": [
      "1\n",
      "2022-08-15\n",
      "[-0.18281278014183044, 0.7276515364646912, -0.005225864239037037, 0.2000025510787964, 0.26038455963134766]\n"
     ]
    },
    {
     "name": "stderr",
     "output_type": "stream",
     "text": [
      "127.0.0.1 - - [07/Apr/2024 00:56:55] \"GET /get_weights?date=2022-08-22 HTTP/1.1\" 200 -\n"
     ]
    },
    {
     "name": "stdout",
     "output_type": "stream",
     "text": [
      "1\n",
      "2022-08-22\n",
      "[0.036060433834791183, 0.20237912237644196, 0.12303631752729416, 0.5568176507949829, 0.08170635253190994]\n"
     ]
    },
    {
     "name": "stderr",
     "output_type": "stream",
     "text": [
      "127.0.0.1 - - [07/Apr/2024 00:56:57] \"GET /get_weights?date=2022-08-29 HTTP/1.1\" 200 -\n"
     ]
    },
    {
     "name": "stdout",
     "output_type": "stream",
     "text": [
      "1\n",
      "2022-08-29\n",
      "[-0.07552731782197952, 0.08323980867862701, -0.06888595223426819, 0.9999999403953552, 0.061173491179943085]\n"
     ]
    },
    {
     "name": "stderr",
     "output_type": "stream",
     "text": [
      "127.0.0.1 - - [07/Apr/2024 00:56:59] \"GET /get_weights?date=2022-09-06 HTTP/1.1\" 200 -\n"
     ]
    },
    {
     "name": "stdout",
     "output_type": "stream",
     "text": [
      "1\n",
      "2022-09-06\n",
      "[-0.12591703236103058, 0.5379400849342346, -0.03459237515926361, 0.37759825587272644, 0.2449709177017212]\n"
     ]
    },
    {
     "name": "stderr",
     "output_type": "stream",
     "text": [
      "127.0.0.1 - - [07/Apr/2024 00:57:01] \"GET /get_weights?date=2022-09-12 HTTP/1.1\" 200 -\n"
     ]
    },
    {
     "name": "stdout",
     "output_type": "stream",
     "text": [
      "1\n",
      "2022-09-12\n",
      "[-0.14261172711849213, 0.35577499866485596, 0.1270187944173813, 0.7157287001609802, -0.05591083690524101]\n"
     ]
    },
    {
     "name": "stderr",
     "output_type": "stream",
     "text": [
      "127.0.0.1 - - [07/Apr/2024 00:57:03] \"GET /get_weights?date=2022-09-19 HTTP/1.1\" 200 -\n"
     ]
    },
    {
     "name": "stdout",
     "output_type": "stream",
     "text": [
      "1\n",
      "2022-09-19\n",
      "[-0.2780855596065521, 0.7022966742515564, 0.2548743784427643, 0.3202698230743408, 0.00064466567710042]\n"
     ]
    },
    {
     "name": "stderr",
     "output_type": "stream",
     "text": [
      "127.0.0.1 - - [07/Apr/2024 00:57:06] \"GET /get_weights?date=2022-09-26 HTTP/1.1\" 200 -\n"
     ]
    },
    {
     "name": "stdout",
     "output_type": "stream",
     "text": [
      "1\n",
      "2022-09-26\n",
      "[-0.1220066100358963, 0.22285208106040955, 0.026752755045890808, 0.840410053730011, 0.03199172019958496]\n"
     ]
    },
    {
     "name": "stderr",
     "output_type": "stream",
     "text": [
      "127.0.0.1 - - [07/Apr/2024 00:57:08] \"GET /get_weights?date=2022-10-03 HTTP/1.1\" 200 -\n"
     ]
    },
    {
     "name": "stdout",
     "output_type": "stream",
     "text": [
      "1\n",
      "2022-10-03\n",
      "[-0.16033649444580078, 0.5963027477264404, 0.03483828902244568, 0.5979598164558411, -0.06876436620950699]\n"
     ]
    },
    {
     "name": "stderr",
     "output_type": "stream",
     "text": [
      "127.0.0.1 - - [07/Apr/2024 00:57:10] \"GET /get_weights?date=2022-10-10 HTTP/1.1\" 200 -\n"
     ]
    },
    {
     "name": "stdout",
     "output_type": "stream",
     "text": [
      "1\n",
      "2022-10-10\n",
      "[-0.25656282901763916, 0.8262453079223633, 0.05540497228503227, 0.2899022102355957, 0.08501029014587402]\n"
     ]
    },
    {
     "name": "stderr",
     "output_type": "stream",
     "text": [
      "127.0.0.1 - - [07/Apr/2024 00:57:12] \"GET /get_weights?date=2022-10-17 HTTP/1.1\" 200 -\n"
     ]
    },
    {
     "name": "stdout",
     "output_type": "stream",
     "text": [
      "1\n",
      "2022-10-17\n",
      "[-0.3515114486217499, 0.8825539350509644, 0.16142356395721436, 0.009373527951538563, 0.2981604039669037]\n"
     ]
    },
    {
     "name": "stderr",
     "output_type": "stream",
     "text": [
      "127.0.0.1 - - [07/Apr/2024 00:57:14] \"GET /get_weights?date=2022-10-24 HTTP/1.1\" 200 -\n"
     ]
    },
    {
     "name": "stdout",
     "output_type": "stream",
     "text": [
      "1\n",
      "2022-10-24\n",
      "[0.17537452280521393, 0.5065973997116089, -0.31538379192352295, 0.40881121158599854, 0.22460056841373444]\n"
     ]
    },
    {
     "name": "stderr",
     "output_type": "stream",
     "text": [
      "127.0.0.1 - - [07/Apr/2024 00:57:17] \"GET /get_weights?date=2022-10-31 HTTP/1.1\" 200 -\n"
     ]
    },
    {
     "name": "stdout",
     "output_type": "stream",
     "text": [
      "1\n",
      "2022-10-31\n",
      "[0.18267233669757843, 0.8452383279800415, -0.10621567070484161, 0.14417682588100433, -0.06587182730436325]\n"
     ]
    },
    {
     "name": "stderr",
     "output_type": "stream",
     "text": [
      "127.0.0.1 - - [07/Apr/2024 00:57:19] \"GET /get_weights?date=2022-11-07 HTTP/1.1\" 200 -\n"
     ]
    },
    {
     "name": "stdout",
     "output_type": "stream",
     "text": [
      "1\n",
      "2022-11-07\n",
      "[0.2852955460548401, 0.38279223442077637, -0.1531774401664734, 0.7749478816986084, -0.28985828161239624]\n"
     ]
    },
    {
     "name": "stderr",
     "output_type": "stream",
     "text": [
      "127.0.0.1 - - [07/Apr/2024 00:57:21] \"GET /get_weights?date=2022-11-14 HTTP/1.1\" 200 -\n"
     ]
    },
    {
     "name": "stdout",
     "output_type": "stream",
     "text": [
      "1\n",
      "2022-11-14\n",
      "[-0.1792570948600769, 0.7083713412284851, 0.04639079049229622, 0.31756526231765747, 0.10692965984344482]\n"
     ]
    },
    {
     "name": "stderr",
     "output_type": "stream",
     "text": [
      "127.0.0.1 - - [07/Apr/2024 00:57:23] \"GET /get_weights?date=2022-11-21 HTTP/1.1\" 200 -\n"
     ]
    },
    {
     "name": "stdout",
     "output_type": "stream",
     "text": [
      "1\n",
      "2022-11-21\n",
      "[0.19676047563552856, 0.7015553712844849, -0.3260612487792969, 0.21414990723133087, 0.21359550952911377]\n"
     ]
    },
    {
     "name": "stderr",
     "output_type": "stream",
     "text": [
      "127.0.0.1 - - [07/Apr/2024 00:57:26] \"GET /get_weights?date=2022-11-28 HTTP/1.1\" 200 -\n"
     ]
    },
    {
     "name": "stdout",
     "output_type": "stream",
     "text": [
      "1\n",
      "2022-11-28\n",
      "[0.0913451686501503, 0.37065520882606506, -0.003562210826203227, 0.4685005843639374, 0.07306110113859177]\n"
     ]
    },
    {
     "name": "stderr",
     "output_type": "stream",
     "text": [
      "127.0.0.1 - - [07/Apr/2024 00:57:28] \"GET /get_weights?date=2022-12-05 HTTP/1.1\" 200 -\n"
     ]
    },
    {
     "name": "stdout",
     "output_type": "stream",
     "text": [
      "1\n",
      "2022-12-05\n",
      "[-0.1399211436510086, 0.3254489302635193, -0.046373847872018814, 0.4201506972312927, 0.4406953752040863]\n"
     ]
    },
    {
     "name": "stderr",
     "output_type": "stream",
     "text": [
      "127.0.0.1 - - [07/Apr/2024 00:57:30] \"GET /get_weights?date=2022-12-12 HTTP/1.1\" 200 -\n"
     ]
    },
    {
     "name": "stdout",
     "output_type": "stream",
     "text": [
      "1\n",
      "2022-12-12\n",
      "[0.1789926141500473, 0.8166783452033997, -0.017159242182970047, 0.134489506483078, -0.11300119757652283]\n"
     ]
    },
    {
     "name": "stderr",
     "output_type": "stream",
     "text": [
      "127.0.0.1 - - [07/Apr/2024 00:57:32] \"GET /get_weights?date=2022-12-19 HTTP/1.1\" 200 -\n"
     ]
    },
    {
     "name": "stdout",
     "output_type": "stream",
     "text": [
      "2\n",
      "2022-12-19\n",
      "[-0.4060550034046173, 0.36297017335891724, 0.3116244375705719, 0.5322828888893127, 0.19917742908000946]\n"
     ]
    },
    {
     "name": "stderr",
     "output_type": "stream",
     "text": [
      "127.0.0.1 - - [07/Apr/2024 00:57:34] \"GET /get_weights?date=2022-12-27 HTTP/1.1\" 200 -\n"
     ]
    },
    {
     "name": "stdout",
     "output_type": "stream",
     "text": [
      "2\n",
      "2022-12-27\n",
      "[-0.37789613008499146, 0.4078729450702667, -0.04745594412088394, 0.6964923143386841, 0.3209867775440216]\n"
     ]
    },
    {
     "name": "stderr",
     "output_type": "stream",
     "text": [
      "127.0.0.1 - - [07/Apr/2024 00:57:36] \"GET /get_weights?date=2023-01-03 HTTP/1.1\" 200 -\n"
     ]
    },
    {
     "name": "stdout",
     "output_type": "stream",
     "text": [
      "2\n",
      "2023-01-03\n",
      "[-0.16846950352191925, 0.21874335408210754, 0.18342536687850952, 0.47724175453186035, 0.28905901312828064]\n"
     ]
    },
    {
     "name": "stderr",
     "output_type": "stream",
     "text": [
      "127.0.0.1 - - [07/Apr/2024 00:57:39] \"GET /get_weights?date=2023-01-09 HTTP/1.1\" 200 -\n"
     ]
    },
    {
     "name": "stdout",
     "output_type": "stream",
     "text": [
      "2\n",
      "2023-01-09\n",
      "[0.14669468998908997, 0.6521081328392029, -0.04870146885514259, 0.29981955885887146, -0.049921028316020966]\n"
     ]
    },
    {
     "name": "stderr",
     "output_type": "stream",
     "text": [
      "127.0.0.1 - - [07/Apr/2024 00:57:41] \"GET /get_weights?date=2023-01-17 HTTP/1.1\" 200 -\n"
     ]
    },
    {
     "name": "stdout",
     "output_type": "stream",
     "text": [
      "2\n",
      "2023-01-17\n",
      "[-0.36223286390304565, 0.40188443660736084, 0.0500263050198555, 0.5935121178627014, 0.31680992245674133]\n"
     ]
    },
    {
     "name": "stderr",
     "output_type": "stream",
     "text": [
      "127.0.0.1 - - [07/Apr/2024 00:57:43] \"GET /get_weights?date=2023-01-23 HTTP/1.1\" 200 -\n"
     ]
    },
    {
     "name": "stdout",
     "output_type": "stream",
     "text": [
      "2\n",
      "2023-01-23\n",
      "[-0.7261323928833008, 0.6856521368026733, -0.024263160303235054, 0.4892832934856415, 0.5754601359367371]\n"
     ]
    },
    {
     "name": "stderr",
     "output_type": "stream",
     "text": [
      "127.0.0.1 - - [07/Apr/2024 00:57:45] \"GET /get_weights?date=2023-01-30 HTTP/1.1\" 200 -\n"
     ]
    },
    {
     "name": "stdout",
     "output_type": "stream",
     "text": [
      "2\n",
      "2023-01-30\n",
      "[0.07236413657665253, 0.9042616486549377, -0.13915731012821198, 0.11462988704442978, 0.047901615500450134]\n"
     ]
    },
    {
     "name": "stderr",
     "output_type": "stream",
     "text": [
      "127.0.0.1 - - [07/Apr/2024 00:57:47] \"GET /get_weights?date=2023-02-06 HTTP/1.1\" 200 -\n"
     ]
    },
    {
     "name": "stdout",
     "output_type": "stream",
     "text": [
      "2\n",
      "2023-02-06\n",
      "[0.07173661142587662, 0.3387320041656494, -0.3759016990661621, 0.26401862502098083, 0.7014144659042358]\n"
     ]
    },
    {
     "name": "stderr",
     "output_type": "stream",
     "text": [
      "127.0.0.1 - - [07/Apr/2024 00:57:50] \"GET /get_weights?date=2023-02-13 HTTP/1.1\" 200 -\n"
     ]
    },
    {
     "name": "stdout",
     "output_type": "stream",
     "text": [
      "2\n",
      "2023-02-13\n",
      "[-0.2855851948261261, 0.2667960524559021, 0.03917674720287323, 0.8385206460952759, 0.14109167456626892]\n"
     ]
    },
    {
     "name": "stderr",
     "output_type": "stream",
     "text": [
      "127.0.0.1 - - [07/Apr/2024 00:57:52] \"GET /get_weights?date=2023-02-21 HTTP/1.1\" 200 -\n"
     ]
    },
    {
     "name": "stdout",
     "output_type": "stream",
     "text": [
      "2\n",
      "2023-02-21\n",
      "[-0.31730175018310547, 0.5194997191429138, 0.11909579485654831, 0.37390372157096863, 0.304802268743515]\n"
     ]
    },
    {
     "name": "stderr",
     "output_type": "stream",
     "text": [
      "127.0.0.1 - - [07/Apr/2024 00:57:54] \"GET /get_weights?date=2023-02-27 HTTP/1.1\" 200 -\n"
     ]
    },
    {
     "name": "stdout",
     "output_type": "stream",
     "text": [
      "2\n",
      "2023-02-27\n",
      "[-0.2528303861618042, 0.5627545118331909, 0.446006715297699, 0.44738295674324036, -0.20331376791000366]\n"
     ]
    },
    {
     "name": "stderr",
     "output_type": "stream",
     "text": [
      "127.0.0.1 - - [07/Apr/2024 00:57:56] \"GET /get_weights?date=2023-03-06 HTTP/1.1\" 200 -\n"
     ]
    },
    {
     "name": "stdout",
     "output_type": "stream",
     "text": [
      "2\n",
      "2023-03-06\n",
      "[-0.3261561989784241, 0.4123457074165344, 0.233970046043396, 0.576175332069397, 0.10366496443748474]\n"
     ]
    },
    {
     "name": "stderr",
     "output_type": "stream",
     "text": [
      "127.0.0.1 - - [07/Apr/2024 00:57:58] \"GET /get_weights?date=2023-03-13 HTTP/1.1\" 200 -\n"
     ]
    },
    {
     "name": "stdout",
     "output_type": "stream",
     "text": [
      "2\n",
      "2023-03-13\n",
      "[-0.2616283893585205, 0.5818430781364441, 0.31838059425354004, 0.36431780457496643, -0.0029131011106073856]\n"
     ]
    },
    {
     "name": "stderr",
     "output_type": "stream",
     "text": [
      "127.0.0.1 - - [07/Apr/2024 00:58:01] \"GET /get_weights?date=2023-03-20 HTTP/1.1\" 200 -\n"
     ]
    },
    {
     "name": "stdout",
     "output_type": "stream",
     "text": [
      "2\n",
      "2023-03-20\n",
      "[-0.8318197131156921, 0.768291175365448, 0.9861013889312744, -0.6340807676315308, 0.7115079164505005]\n"
     ]
    },
    {
     "name": "stderr",
     "output_type": "stream",
     "text": [
      "127.0.0.1 - - [07/Apr/2024 00:58:03] \"GET /get_weights?date=2023-03-27 HTTP/1.1\" 200 -\n"
     ]
    },
    {
     "name": "stdout",
     "output_type": "stream",
     "text": [
      "2\n",
      "2023-03-27\n",
      "[0.03306109458208084, 0.20836873352527618, 0.08524566888809204, 0.7766737937927246, -0.10334937274456024]\n"
     ]
    },
    {
     "name": "stderr",
     "output_type": "stream",
     "text": [
      "127.0.0.1 - - [07/Apr/2024 00:58:05] \"GET /get_weights?date=2023-04-03 HTTP/1.1\" 200 -\n"
     ]
    },
    {
     "name": "stdout",
     "output_type": "stream",
     "text": [
      "2\n",
      "2023-04-03\n",
      "[0.10781879723072052, 0.46680718660354614, -0.28990980982780457, 0.3488503098487854, 0.3664334714412689]\n"
     ]
    },
    {
     "name": "stderr",
     "output_type": "stream",
     "text": [
      "127.0.0.1 - - [07/Apr/2024 00:58:07] \"GET /get_weights?date=2023-04-10 HTTP/1.1\" 200 -\n"
     ]
    },
    {
     "name": "stdout",
     "output_type": "stream",
     "text": [
      "2\n",
      "2023-04-10\n",
      "[-0.03290509432554245, 0.2325524091720581, -0.10609358549118042, 0.06482358276844025, 0.841622531414032]\n"
     ]
    },
    {
     "name": "stderr",
     "output_type": "stream",
     "text": [
      "127.0.0.1 - - [07/Apr/2024 00:58:09] \"GET /get_weights?date=2023-04-17 HTTP/1.1\" 200 -\n"
     ]
    },
    {
     "name": "stdout",
     "output_type": "stream",
     "text": [
      "2\n",
      "2023-04-17\n",
      "[0.0034776085522025824, 0.904880940914154, -0.07541757076978683, 0.1585422158241272, 0.008516699075698853]\n"
     ]
    },
    {
     "name": "stderr",
     "output_type": "stream",
     "text": [
      "127.0.0.1 - - [07/Apr/2024 00:58:12] \"GET /get_weights?date=2023-04-24 HTTP/1.1\" 200 -\n"
     ]
    },
    {
     "name": "stdout",
     "output_type": "stream",
     "text": [
      "2\n",
      "2023-04-24\n",
      "[-0.034025032073259354, 0.3345695734024048, -0.04935598745942116, 0.2102331519126892, 0.5385782718658447]\n"
     ]
    },
    {
     "name": "stderr",
     "output_type": "stream",
     "text": [
      "127.0.0.1 - - [07/Apr/2024 00:58:14] \"GET /get_weights?date=2023-05-01 HTTP/1.1\" 200 -\n"
     ]
    },
    {
     "name": "stdout",
     "output_type": "stream",
     "text": [
      "2\n",
      "2023-05-01\n",
      "[-0.06402387470006943, 0.6903198957443237, 0.023191839456558228, -0.040822457522153854, 0.39133450388908386]\n"
     ]
    },
    {
     "name": "stderr",
     "output_type": "stream",
     "text": [
      "127.0.0.1 - - [07/Apr/2024 00:58:16] \"GET /get_weights?date=2023-05-08 HTTP/1.1\" 200 -\n"
     ]
    },
    {
     "name": "stdout",
     "output_type": "stream",
     "text": [
      "2\n",
      "2023-05-08\n",
      "[-0.29226788878440857, 0.23246338963508606, 0.19853267073631287, 0.5287480354309082, 0.33252379298210144]\n"
     ]
    },
    {
     "name": "stderr",
     "output_type": "stream",
     "text": [
      "127.0.0.1 - - [07/Apr/2024 00:58:18] \"GET /get_weights?date=2023-05-15 HTTP/1.1\" 200 -\n"
     ]
    },
    {
     "name": "stdout",
     "output_type": "stream",
     "text": [
      "2\n",
      "2023-05-15\n",
      "[-0.07326191663742065, 0.04230254143476486, -0.10644344240427017, 0.6697340607643127, 0.46766865253448486]\n"
     ]
    },
    {
     "name": "stderr",
     "output_type": "stream",
     "text": [
      "127.0.0.1 - - [07/Apr/2024 00:58:20] \"GET /get_weights?date=2023-05-22 HTTP/1.1\" 200 -\n"
     ]
    },
    {
     "name": "stdout",
     "output_type": "stream",
     "text": [
      "2\n",
      "2023-05-22\n",
      "[-0.25006091594696045, 0.6535899043083191, 0.07401417195796967, 0.19064730405807495, 0.33180952072143555]\n"
     ]
    },
    {
     "name": "stderr",
     "output_type": "stream",
     "text": [
      "127.0.0.1 - - [07/Apr/2024 00:58:23] \"GET /get_weights?date=2023-05-30 HTTP/1.1\" 200 -\n"
     ]
    },
    {
     "name": "stdout",
     "output_type": "stream",
     "text": [
      "2\n",
      "2023-05-30\n",
      "[-0.28304043412208557, 0.5427999496459961, -0.07928065955638885, 0.2738748788833618, 0.5456463098526001]\n"
     ]
    },
    {
     "name": "stderr",
     "output_type": "stream",
     "text": [
      "127.0.0.1 - - [07/Apr/2024 00:58:25] \"GET /get_weights?date=2023-06-05 HTTP/1.1\" 200 -\n"
     ]
    },
    {
     "name": "stdout",
     "output_type": "stream",
     "text": [
      "2\n",
      "2023-06-05\n",
      "[0.0507892481982708, 0.7252015471458435, -0.07848542183637619, 0.1414000540971756, 0.1610945463180542]\n"
     ]
    },
    {
     "name": "stderr",
     "output_type": "stream",
     "text": [
      "127.0.0.1 - - [07/Apr/2024 00:58:27] \"GET /get_weights?date=2023-06-12 HTTP/1.1\" 200 -\n"
     ]
    },
    {
     "name": "stdout",
     "output_type": "stream",
     "text": [
      "2\n",
      "2023-06-12\n",
      "[0.09838326275348663, 0.400881826877594, -0.19765233993530273, 0.0736284926533699, 0.6247587203979492]\n"
     ]
    },
    {
     "name": "stderr",
     "output_type": "stream",
     "text": [
      "127.0.0.1 - - [07/Apr/2024 00:58:29] \"GET /get_weights?date=2023-06-19 HTTP/1.1\" 200 -\n"
     ]
    },
    {
     "name": "stdout",
     "output_type": "stream",
     "text": [
      "2\n",
      "2023-06-19\n",
      "[0.31805169582366943, 0.2607452869415283, -0.3127497732639313, 0.535509467124939, 0.1984432190656662]\n"
     ]
    },
    {
     "name": "stderr",
     "output_type": "stream",
     "text": [
      "127.0.0.1 - - [07/Apr/2024 00:58:31] \"GET /get_weights?date=2023-06-26 HTTP/1.1\" 200 -\n"
     ]
    },
    {
     "name": "stdout",
     "output_type": "stream",
     "text": [
      "2\n",
      "2023-06-26\n",
      "[-0.23337435722351074, 0.866931676864624, 0.12394654750823975, -0.16353178024291992, 0.40602773427963257]\n"
     ]
    },
    {
     "name": "stderr",
     "output_type": "stream",
     "text": [
      "127.0.0.1 - - [07/Apr/2024 00:58:34] \"GET /get_weights?date=2023-07-03 HTTP/1.1\" 200 -\n"
     ]
    },
    {
     "name": "stdout",
     "output_type": "stream",
     "text": [
      "2\n",
      "2023-07-03\n",
      "[-0.21483084559440613, 0.668949544429779, 0.028393873944878578, 0.157026007771492, 0.36046138405799866]\n"
     ]
    },
    {
     "name": "stderr",
     "output_type": "stream",
     "text": [
      "127.0.0.1 - - [07/Apr/2024 00:58:36] \"GET /get_weights?date=2023-07-10 HTTP/1.1\" 200 -\n"
     ]
    },
    {
     "name": "stdout",
     "output_type": "stream",
     "text": [
      "2\n",
      "2023-07-10\n",
      "[-0.35585376620292664, 0.5756813287734985, 0.5550070405006409, 0.2765748202800751, -0.051409561187028885]\n"
     ]
    },
    {
     "name": "stderr",
     "output_type": "stream",
     "text": [
      "127.0.0.1 - - [07/Apr/2024 00:58:38] \"GET /get_weights?date=2023-07-17 HTTP/1.1\" 200 -\n"
     ]
    },
    {
     "name": "stdout",
     "output_type": "stream",
     "text": [
      "2\n",
      "2023-07-17\n",
      "[0.200853168964386, 0.5329563021659851, 0.1091352179646492, -0.8429514765739441, 1.0000066757202148]\n"
     ]
    },
    {
     "name": "stderr",
     "output_type": "stream",
     "text": [
      "127.0.0.1 - - [07/Apr/2024 00:58:40] \"GET /get_weights?date=2023-07-24 HTTP/1.1\" 200 -\n"
     ]
    },
    {
     "name": "stdout",
     "output_type": "stream",
     "text": [
      "2\n",
      "2023-07-24\n",
      "[-0.34380027651786804, 0.8791989088058472, 0.21739238500595093, -0.059084195643663406, 0.3062930703163147]\n"
     ]
    },
    {
     "name": "stderr",
     "output_type": "stream",
     "text": [
      "127.0.0.1 - - [07/Apr/2024 00:58:42] \"GET /get_weights?date=2023-07-31 HTTP/1.1\" 200 -\n"
     ]
    },
    {
     "name": "stdout",
     "output_type": "stream",
     "text": [
      "2\n",
      "2023-07-31\n",
      "[-0.10057907551527023, 0.929876446723938, 0.4039629399776459, -0.49029701948165894, 0.2570367753505707]\n"
     ]
    },
    {
     "name": "stderr",
     "output_type": "stream",
     "text": [
      "127.0.0.1 - - [07/Apr/2024 00:58:45] \"GET /get_weights?date=2023-08-07 HTTP/1.1\" 200 -\n"
     ]
    },
    {
     "name": "stdout",
     "output_type": "stream",
     "text": [
      "2\n",
      "2023-08-07\n",
      "[-0.40870949625968933, 0.9999648332595825, 0.1481720507144928, -0.09260222315788269, 0.35317471623420715]\n"
     ]
    },
    {
     "name": "stderr",
     "output_type": "stream",
     "text": [
      "127.0.0.1 - - [07/Apr/2024 00:58:47] \"GET /get_weights?date=2023-08-14 HTTP/1.1\" 200 -\n"
     ]
    },
    {
     "name": "stdout",
     "output_type": "stream",
     "text": [
      "2\n",
      "2023-08-14\n",
      "[-0.13973264396190643, 0.4037521779537201, -0.30205294489860535, 0.4144047200679779, 0.6236287355422974]\n"
     ]
    },
    {
     "name": "stderr",
     "output_type": "stream",
     "text": [
      "127.0.0.1 - - [07/Apr/2024 00:58:49] \"GET /get_weights?date=2023-08-21 HTTP/1.1\" 200 -\n"
     ]
    },
    {
     "name": "stdout",
     "output_type": "stream",
     "text": [
      "2\n",
      "2023-08-21\n",
      "[-0.25525352358818054, 0.42890533804893494, 0.0647810846567154, 0.5591596364974976, 0.20240743458271027]\n"
     ]
    },
    {
     "name": "stderr",
     "output_type": "stream",
     "text": [
      "127.0.0.1 - - [07/Apr/2024 00:58:51] \"GET /get_weights?date=2023-08-28 HTTP/1.1\" 200 -\n"
     ]
    },
    {
     "name": "stdout",
     "output_type": "stream",
     "text": [
      "2\n",
      "2023-08-28\n",
      "[-0.2170003205537796, 0.4464821517467499, -0.07123948633670807, 0.334300696849823, 0.50745689868927]\n"
     ]
    },
    {
     "name": "stderr",
     "output_type": "stream",
     "text": [
      "127.0.0.1 - - [07/Apr/2024 00:58:53] \"GET /get_weights?date=2023-09-05 HTTP/1.1\" 200 -\n"
     ]
    },
    {
     "name": "stdout",
     "output_type": "stream",
     "text": [
      "2\n",
      "2023-09-05\n",
      "[-0.12745481729507446, 0.6935166120529175, -0.037153247743844986, 0.45132553577423096, 0.019765866920351982]\n"
     ]
    },
    {
     "name": "stderr",
     "output_type": "stream",
     "text": [
      "127.0.0.1 - - [07/Apr/2024 00:58:55] \"GET /get_weights?date=2023-09-11 HTTP/1.1\" 200 -\n"
     ]
    },
    {
     "name": "stdout",
     "output_type": "stream",
     "text": [
      "2\n",
      "2023-09-11\n",
      "[-0.1960497796535492, 0.7210912108421326, -0.008044428192079067, -0.23388926684856415, 0.7168921232223511]\n"
     ]
    },
    {
     "name": "stderr",
     "output_type": "stream",
     "text": [
      "127.0.0.1 - - [07/Apr/2024 00:58:58] \"GET /get_weights?date=2023-09-18 HTTP/1.1\" 200 -\n"
     ]
    },
    {
     "name": "stdout",
     "output_type": "stream",
     "text": [
      "2\n",
      "2023-09-18\n",
      "[-0.5777997970581055, 0.9193704724311829, 0.4278455078601837, 0.07184498012065887, 0.15873882174491882]\n"
     ]
    },
    {
     "name": "stderr",
     "output_type": "stream",
     "text": [
      "127.0.0.1 - - [07/Apr/2024 00:59:00] \"GET /get_weights?date=2023-09-25 HTTP/1.1\" 200 -\n"
     ]
    },
    {
     "name": "stdout",
     "output_type": "stream",
     "text": [
      "2\n",
      "2023-09-25\n",
      "[-0.02223462052643299, 0.5366339087486267, -0.10456274449825287, 0.6282614469528198, -0.038098178803920746]\n"
     ]
    },
    {
     "name": "stderr",
     "output_type": "stream",
     "text": [
      "127.0.0.1 - - [07/Apr/2024 00:59:02] \"GET /get_weights?date=2023-10-02 HTTP/1.1\" 200 -\n"
     ]
    },
    {
     "name": "stdout",
     "output_type": "stream",
     "text": [
      "2\n",
      "2023-10-02\n",
      "[-0.39759358763694763, 0.806157112121582, 0.11854968219995499, 0.23622559010982513, 0.23666119575500488]\n"
     ]
    },
    {
     "name": "stderr",
     "output_type": "stream",
     "text": [
      "127.0.0.1 - - [07/Apr/2024 00:59:04] \"GET /get_weights?date=2023-10-09 HTTP/1.1\" 200 -\n"
     ]
    },
    {
     "name": "stdout",
     "output_type": "stream",
     "text": [
      "2\n",
      "2023-10-09\n",
      "[-0.43429243564605713, 0.2195284366607666, 0.037661220878362656, 0.3852291703224182, 0.7918736338615417]\n"
     ]
    },
    {
     "name": "stderr",
     "output_type": "stream",
     "text": [
      "127.0.0.1 - - [07/Apr/2024 00:59:06] \"GET /get_weights?date=2023-10-16 HTTP/1.1\" 200 -\n"
     ]
    },
    {
     "name": "stdout",
     "output_type": "stream",
     "text": [
      "2\n",
      "2023-10-16\n",
      "[0.1782861053943634, 0.37578511238098145, -0.11573483049869537, 0.8311018347740173, -0.2694384455680847]\n"
     ]
    },
    {
     "name": "stderr",
     "output_type": "stream",
     "text": [
      "127.0.0.1 - - [07/Apr/2024 00:59:09] \"GET /get_weights?date=2023-10-23 HTTP/1.1\" 200 -\n"
     ]
    },
    {
     "name": "stdout",
     "output_type": "stream",
     "text": [
      "2\n",
      "2023-10-23\n",
      "[-0.3007296025753021, 0.7819445729255676, 0.2062290459871292, 0.1290779858827591, 0.1834779977798462]\n"
     ]
    },
    {
     "name": "stderr",
     "output_type": "stream",
     "text": [
      "127.0.0.1 - - [07/Apr/2024 00:59:11] \"GET /get_weights?date=2023-10-30 HTTP/1.1\" 200 -\n"
     ]
    },
    {
     "name": "stdout",
     "output_type": "stream",
     "text": [
      "2\n",
      "2023-10-30\n",
      "[-0.03894484415650368, 0.6030355095863342, -0.11447962373495102, 0.12007947266101837, 0.4303092360496521]\n"
     ]
    },
    {
     "name": "stderr",
     "output_type": "stream",
     "text": [
      "127.0.0.1 - - [07/Apr/2024 00:59:13] \"GET /get_weights?date=2023-11-06 HTTP/1.1\" 200 -\n"
     ]
    },
    {
     "name": "stdout",
     "output_type": "stream",
     "text": [
      "2\n",
      "2023-11-06\n",
      "[0.051613885909318924, 0.6673303246498108, -0.17890101671218872, 0.4080270230770111, 0.05192975327372551]\n"
     ]
    },
    {
     "name": "stderr",
     "output_type": "stream",
     "text": [
      "127.0.0.1 - - [07/Apr/2024 00:59:15] \"GET /get_weights?date=2023-11-13 HTTP/1.1\" 200 -\n"
     ]
    },
    {
     "name": "stdout",
     "output_type": "stream",
     "text": [
      "2\n",
      "2023-11-13\n",
      "[0.02298586256802082, 0.34372806549072266, 0.03322901204228401, 0.4860251545906067, 0.11403186619281769]\n"
     ]
    },
    {
     "name": "stderr",
     "output_type": "stream",
     "text": [
      "127.0.0.1 - - [07/Apr/2024 00:59:17] \"GET /get_weights?date=2023-11-20 HTTP/1.1\" 200 -\n"
     ]
    },
    {
     "name": "stdout",
     "output_type": "stream",
     "text": [
      "2\n",
      "2023-11-20\n",
      "[0.43850135803222656, 0.26111161708831787, -0.47704339027404785, 0.0895780473947525, 0.6878523826599121]\n"
     ]
    },
    {
     "name": "stderr",
     "output_type": "stream",
     "text": [
      "127.0.0.1 - - [07/Apr/2024 00:59:20] \"GET /get_weights?date=2023-11-27 HTTP/1.1\" 200 -\n"
     ]
    },
    {
     "name": "stdout",
     "output_type": "stream",
     "text": [
      "2\n",
      "2023-11-27\n",
      "[-0.086556576192379, 0.6386826634407043, -0.08685964345932007, 0.03270023688673973, 0.5020332932472229]\n"
     ]
    },
    {
     "name": "stderr",
     "output_type": "stream",
     "text": [
      "127.0.0.1 - - [07/Apr/2024 00:59:22] \"GET /get_weights?date=2023-12-04 HTTP/1.1\" 200 -\n"
     ]
    },
    {
     "name": "stdout",
     "output_type": "stream",
     "text": [
      "2\n",
      "2023-12-04\n",
      "[-0.45203453302383423, 0.8757162094116211, 0.07389269024133682, -0.02911693975329399, 0.5315425395965576]\n"
     ]
    },
    {
     "name": "stderr",
     "output_type": "stream",
     "text": [
      "127.0.0.1 - - [07/Apr/2024 00:59:24] \"GET /get_weights?date=2023-12-11 HTTP/1.1\" 200 -\n"
     ]
    },
    {
     "name": "stdout",
     "output_type": "stream",
     "text": [
      "2\n",
      "2023-12-11\n",
      "[0.11899766325950623, 0.2221270352602005, 0.19582408666610718, 0.6708230376243591, -0.20777182281017303]\n"
     ]
    }
   ],
   "source": [
    "app.run(port=5000)"
   ]
  },
  {
   "cell_type": "code",
   "execution_count": null,
   "id": "7a1839cc",
   "metadata": {},
   "outputs": [],
   "source": [
    "update the "
   ]
  },
  {
   "cell_type": "code",
   "execution_count": null,
   "id": "3894efcb",
   "metadata": {},
   "outputs": [],
   "source": []
  }
 ],
 "metadata": {
  "kernelspec": {
   "display_name": "Python 3 (ipykernel)",
   "language": "python",
   "name": "python3"
  },
  "language_info": {
   "codemirror_mode": {
    "name": "ipython",
    "version": 3
   },
   "file_extension": ".py",
   "mimetype": "text/x-python",
   "name": "python",
   "nbconvert_exporter": "python",
   "pygments_lexer": "ipython3",
   "version": "3.8.17"
  }
 },
 "nbformat": 4,
 "nbformat_minor": 5
}
