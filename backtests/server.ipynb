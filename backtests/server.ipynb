{
 "cells": [
  {
   "cell_type": "markdown",
   "id": "a388c7d0",
   "metadata": {},
   "source": [
    "# This notebook provides portfolio weights based on the historical data to the backtesting notebook"
   ]
  },
  {
   "cell_type": "code",
   "execution_count": 1,
   "id": "04a4ce3b",
   "metadata": {},
   "outputs": [],
   "source": [
    "# !pip uninstall deepdowmine\n",
    "#!pip install git+https://github.com/dsman1823/deepdowmine.git\n",
    "#!conda install pytorch torchvision torchaudio cudatoolkit=10.2 -c pytorch # <---- to Enable SVD "
   ]
  },
  {
   "cell_type": "code",
   "execution_count": 2,
   "id": "9b37e532",
   "metadata": {},
   "outputs": [],
   "source": [
    "import torch\n",
    "\n",
    "import pandas as pd\n",
    "import numpy as np\n",
    "\n",
    "from datetime import datetime \n",
    "from deepdowmine.nn import LinearNetMine, UpdNumericalMarkowitzWithShorting, UpdLinearNetMine, UpdDenseNet, UpdUpdLinearNetMine\n",
    "from deepdowmine.nn import DenseNetMinVar, ConvNetFullOpti, ConvNetMinVar, RnnNetMinVar, LstmNetMinVar, RnnNetFullOpti\n",
    "from deepdowmine.nn import LstmNetFullOpti"
   ]
  },
  {
   "cell_type": "code",
   "execution_count": 3,
   "id": "78fd3bba",
   "metadata": {},
   "outputs": [],
   "source": [
    "RETS_FILE_PATH = 'historical_returns.csv'\n",
    "\n",
    "\n",
    "\n",
    "loockback, gap, horizon = 50, 0, 5\n",
    "n_assets = 5\n",
    "loockback = 50\n"
   ]
  },
  {
   "cell_type": "markdown",
   "id": "6c88f90a",
   "metadata": {},
   "source": [
    "## Load NN from dict"
   ]
  },
  {
   "cell_type": "code",
   "execution_count": 4,
   "id": "36a91bae",
   "metadata": {},
   "outputs": [],
   "source": [
    "LINEAR_NET_OSHARPE_FILE_PATH = r'./NNs/linear_net_50x5_sharpe.pth' # LinearNetMine with ordinary Sharpe cost"
   ]
  },
  {
   "cell_type": "code",
   "execution_count": 5,
   "id": "7a634b07",
   "metadata": {},
   "outputs": [],
   "source": [
    "# years parameter reprsenets amount of years after the backtest stasrt: the model dowloaded is the the model trained \n",
    "# on the period (train_start, back_test_start + years) \n",
    "\n",
    "\n",
    "# LinearNetMine with ordinary sharpe cost function\n",
    "def load_linear_net_osharpe(years=0):\n",
    "    network = LinearNetMine(1, loockback, n_assets, p=0.5)\n",
    "    network.load_state_dict(torch.load(fr'./NNs/linear_net_50x5_sharpe_{years}.pth'))\n",
    "    print(fr'./NNs/linear_net_50x5_sharpe_{years}.pth')\n",
    "    return network.eval()\n",
    "    "
   ]
  },
  {
   "cell_type": "code",
   "execution_count": 6,
   "id": "fd38307d",
   "metadata": {},
   "outputs": [],
   "source": [
    "def load_dense_net(years=0):\n",
    "    network = UpdLinearNetMine(1, loockback, n_assets, p=0.5)\n",
    "    network.load_state_dict(torch.load(fr'./NNs/dense_{years}.pth'))\n",
    "    print(fr'dense_{years}.pth')\n",
    "    return network.eval()"
   ]
  },
  {
   "cell_type": "markdown",
   "id": "a0c6d5c7",
   "metadata": {},
   "source": [
    "## Core functions"
   ]
  },
  {
   "cell_type": "code",
   "execution_count": 7,
   "id": "9b0ed9ac",
   "metadata": {},
   "outputs": [],
   "source": [
    "def transform_rets_to_NN_input(rets):\n",
    "    # tranform (loockback, n_assets) df into (1, 1, loockback, n_assets)=(sample_size, n_channels, loockback, n_assets) tensor \n",
    "    returns_np = rets.to_numpy()\n",
    "\n",
    "    # Add the required dimensions: (n_samples, n_channels, lookback, n_assets)\n",
    "    returns_np_expanded = np.expand_dims(returns_np, axis=0)  # Adds n_samples dimension\n",
    "    returns_np_expanded = np.expand_dims(returns_np_expanded, axis=0)  \n",
    "    return torch.from_numpy(returns_np_expanded).float()\n",
    "\n",
    "def weights_from_NN(rets, network):\n",
    "    X = transform_rets_to_NN_input(rets)\n",
    "    return network(X).detach().numpy()[0]\n",
    "\n",
    "# method is a function, used for obtaining the returns\n",
    "def get_weights(method):\n",
    "    rets = pd.read_csv(RETS_FILE_PATH, index_col=0)\n",
    "    return method(rets)"
   ]
  },
  {
   "cell_type": "code",
   "execution_count": 8,
   "id": "c21a7d4f",
   "metadata": {},
   "outputs": [
    {
     "data": {
      "text/plain": [
       "array([ 0.06418574,  0.25817055, -0.01574563,  0.60880786,  0.08458146],\n",
       "      dtype=float32)"
      ]
     },
     "execution_count": 8,
     "metadata": {},
     "output_type": "execute_result"
    }
   ],
   "source": [
    "rets = pd.read_csv(RETS_FILE_PATH, index_col=0)\n",
    "X = transform_rets_to_NN_input(rets)\n",
    "network = LinearNetMine(1, loockback, n_assets, p=0.5)\n",
    "network.load_state_dict(torch.load(fr'./NNs/linear_net_50x5_sharpe_{2}.pth'))\n",
    "network.eval()(X).detach().numpy()[0]"
   ]
  },
  {
   "cell_type": "markdown",
   "id": "7d65c2c4",
   "metadata": {},
   "source": [
    "## NNs and related methods\n",
    "\n",
    "\n",
    "### NNs\n",
    "\n",
    "networks[i] method is trained on (train_start, backtest_start + i years) data interval"
   ]
  },
  {
   "cell_type": "code",
   "execution_count": 9,
   "id": "87ac6576",
   "metadata": {},
   "outputs": [
    {
     "name": "stdout",
     "output_type": "stream",
     "text": [
      "./NNs/linear_net_50x5_sharpe_0.pth\n",
      "./NNs/linear_net_50x5_sharpe_1.pth\n",
      "./NNs/linear_net_50x5_sharpe_2.pth\n",
      "dense_0.pth\n",
      "dense_1.pth\n",
      "dense_2.pth\n"
     ]
    }
   ],
   "source": [
    "years = [0, 1, 2]#, 1, 2]\n",
    "\n",
    "linear_osharpe_networks = [load_linear_net_osharpe(years=i) for i in years]\n",
    "dense_networks = [load_dense_net(years=i) for i in years]"
   ]
  },
  {
   "cell_type": "markdown",
   "id": "db5b112d",
   "metadata": {},
   "source": [
    "### methods"
   ]
  },
  {
   "cell_type": "code",
   "execution_count": 10,
   "id": "728b35c5",
   "metadata": {},
   "outputs": [
    {
     "data": {
      "text/plain": [
       "tensor([ 0.0484,  0.0029, -0.0442], grad_fn=<SliceBackward0>)"
      ]
     },
     "execution_count": 10,
     "metadata": {},
     "output_type": "execute_result"
    }
   ],
   "source": [
    "dense_networks[1].linear0.bias[0:3]"
   ]
  },
  {
   "cell_type": "code",
   "execution_count": 11,
   "id": "35739537",
   "metadata": {},
   "outputs": [
    {
     "data": {
      "text/plain": [
       "tensor([ 0.0484,  0.0029, -0.0442], grad_fn=<SliceBackward0>)"
      ]
     },
     "execution_count": 11,
     "metadata": {},
     "output_type": "execute_result"
    }
   ],
   "source": [
    "dense_networks[2].linear0.bias[0:3]"
   ]
  },
  {
   "cell_type": "code",
   "execution_count": 12,
   "id": "28670905",
   "metadata": {},
   "outputs": [],
   "source": [
    "# note the format of lambda \n",
    "linear_osharpe_methods = [lambda r, i=i: weights_from_NN(r, linear_osharpe_networks[i]) for i in years] \n",
    "dense_methods = [lambda r, i=i: weights_from_NN(r, dense_networks[i]) for i in years] \n"
   ]
  },
  {
   "cell_type": "code",
   "execution_count": 13,
   "id": "7045f79e",
   "metadata": {},
   "outputs": [
    {
     "data": {
      "text/plain": [
       "[array([0.01819081, 0.24908274, 0.29753768, 0.41258937, 0.0225994 ],\n",
       "       dtype=float32),\n",
       " array([-0.03791929,  0.1064674 ,  0.4017897 ,  0.46670547,  0.06295667],\n",
       "       dtype=float32),\n",
       " array([-0.03175861,  0.18791872,  0.14897145,  0.48070765,  0.21416074],\n",
       "       dtype=float32)]"
      ]
     },
     "execution_count": 13,
     "metadata": {},
     "output_type": "execute_result"
    }
   ],
   "source": [
    "[get_weights(dense_methods[i]) for i in years]"
   ]
  },
  {
   "cell_type": "markdown",
   "id": "e7fae4ce",
   "metadata": {},
   "source": [
    "# Server"
   ]
  },
  {
   "cell_type": "code",
   "execution_count": 14,
   "id": "be630bfa",
   "metadata": {},
   "outputs": [],
   "source": [
    "from dateutil.relativedelta import relativedelta\n",
    "from datetime import datetime, date\n",
    "\n",
    "RETRAINING_DATE1 = date(2021, 12, 15)\n",
    "RETRAINING_DATE2 = date(2022, 12, 15)"
   ]
  },
  {
   "cell_type": "code",
   "execution_count": 15,
   "id": "7ac4766a",
   "metadata": {},
   "outputs": [
    {
     "data": {
      "text/plain": [
       "False"
      ]
     },
     "execution_count": 15,
     "metadata": {},
     "output_type": "execute_result"
    }
   ],
   "source": [
    "tmp = True\n",
    "not tmp"
   ]
  },
  {
   "cell_type": "code",
   "execution_count": 16,
   "id": "f3132195",
   "metadata": {},
   "outputs": [],
   "source": [
    "from deepdowmine.nn import DenseNetFullOpti, ConvNetMinVar, DenseNetFullOpti"
   ]
  },
  {
   "cell_type": "code",
   "execution_count": 24,
   "id": "62cc3389",
   "metadata": {},
   "outputs": [],
   "source": [
    "from flask import Flask, request, jsonify\n",
    "from flask_cors import CORS \n",
    "\n",
    "import numpy as np\n",
    "\n",
    "app = Flask(__name__)\n",
    "CORS(app)  # Enable CORS for your Flask app\n",
    "\n",
    "markers = {}\n",
    "markers['net_initialized'] = False\n",
    "\n",
    "@app.route('/get_weights', methods=['GET'])\n",
    "def get_request():\n",
    "    # Extract date string from the query parameters\n",
    "    date_str = request.args.get('date', None)\n",
    "    \n",
    "    # Simple validation to check if date is provided\n",
    "    if not date_str:\n",
    "        return jsonify({\"error\": \"Missing date parameter\"}), 400\n",
    "\n",
    "    # Try to convert the date string to a datetime object\n",
    "    try:\n",
    "        # Note that now we're only parsing the date, not the time\n",
    "        date = datetime.strptime(date_str, \"%Y-%m-%d\").date()\n",
    "    except ValueError:\n",
    "        # If there is an error in parsing the date, return an error message\n",
    "        return jsonify({\"error\": \"Invalid date format. Please use YYYY-MM-DD format.\"}), 400\n",
    "    \n",
    "    years_plus = 0\n",
    "    if RETRAINING_DATE1 < date < RETRAINING_DATE2:\n",
    "        years_plus = 1\n",
    "        print(f'Working with model: {years_plus}')\n",
    "    if RETRAINING_DATE2 < date:\n",
    "        years_plus = 2\n",
    "        print(f'Working with model: {years_plus}')\n",
    "    \n",
    "    weights = get_weights(linear_osharpe_methods[years_plus]).tolist()\n",
    "    \n",
    "    rets = pd.read_csv(RETS_FILE_PATH, index_col=0)\n",
    "    X = transform_rets_to_NN_input(rets)\n",
    "    \n",
    "    network = DenseNetMinVar(1, 50, 5, .2)\n",
    "    network.load_state_dict(torch.load(fr'./NNs/trained_on_new_data/dense/min_var_1.pth'))\n",
    "       \n",
    "#     if date < RETRAINING_DATE1:\n",
    "#         print(0)\n",
    "#     if RETRAINING_DATE1 < date < RETRAINING_DATE2:\n",
    "#         print('1')\n",
    "#         network = DenseNetMinVar(1, 50, 5, .2)\n",
    "#         network.load_state_dict(torch.load(fr'./NNs/trained_on_new_data/dense/min_var_1.pth'))\n",
    "  \n",
    "#     if RETRAINING_DATE2 < date:\n",
    "#         network = DenseNetMinVar(1, 50, 5, .2)\n",
    "#         network.load_state_dict(torch.load(fr'./NNs/trained_on_new_data/dense/min_var_2.pth'))\n",
    "#         print('2')\n",
    "    \n",
    "#     network = RnnNetMinVar(5)\n",
    "#     network.load_state_dict(torch.load(fr'./NNs/rnn_minvar.pth'))\n",
    "\n",
    "    \n",
    "    weights = network.eval()(X).detach().numpy()[0].tolist()\n",
    "    \n",
    "        \n",
    "    #weights = weights_from_NN(rets, linear_osharpe_networks[0]).tolist()\n",
    "    #print(weights)\n",
    "    # Return the vector as JSON, using the string representation of the date for simplicity\n",
    "    print(weights)\n",
    "    return jsonify({'weights': weights})\n"
   ]
  },
  {
   "cell_type": "code",
   "execution_count": null,
   "id": "ed150707",
   "metadata": {},
   "outputs": [
    {
     "name": "stdout",
     "output_type": "stream",
     "text": [
      " * Serving Flask app '__main__'\n",
      " * Debug mode: off\n"
     ]
    },
    {
     "name": "stderr",
     "output_type": "stream",
     "text": [
      "WARNING: This is a development server. Do not use it in a production deployment. Use a production WSGI server instead.\n",
      " * Running on http://127.0.0.1:5000\n",
      "Press CTRL+C to quit\n",
      "127.0.0.1 - - [24/Mar/2024 21:13:24] \"GET /get_weights?date=2020-12-21 HTTP/1.1\" 200 -\n"
     ]
    },
    {
     "name": "stdout",
     "output_type": "stream",
     "text": [
      "[-0.14521503448486328, 0.2829407751560211, 0.0478636771440506, 0.6555772423744202, 0.1588331162929535]\n"
     ]
    },
    {
     "name": "stderr",
     "output_type": "stream",
     "text": [
      "127.0.0.1 - - [24/Mar/2024 21:13:26] \"GET /get_weights?date=2020-12-28 HTTP/1.1\" 200 -\n"
     ]
    },
    {
     "name": "stdout",
     "output_type": "stream",
     "text": [
      "[-0.11531110852956772, 0.10289134085178375, 0.08838795870542526, 0.8214763402938843, 0.10255534946918488]\n"
     ]
    },
    {
     "name": "stderr",
     "output_type": "stream",
     "text": [
      "127.0.0.1 - - [24/Mar/2024 21:13:28] \"GET /get_weights?date=2021-01-04 HTTP/1.1\" 200 -\n"
     ]
    },
    {
     "name": "stdout",
     "output_type": "stream",
     "text": [
      "[-0.00029995047952979803, 0.06664896756410599, 0.08899688720703125, 0.6293246150016785, 0.21532943844795227]\n"
     ]
    },
    {
     "name": "stderr",
     "output_type": "stream",
     "text": [
      "127.0.0.1 - - [24/Mar/2024 21:13:30] \"GET /get_weights?date=2021-01-11 HTTP/1.1\" 200 -\n"
     ]
    },
    {
     "name": "stdout",
     "output_type": "stream",
     "text": [
      "[-0.3187658190727234, 0.16805057227611542, 0.23704330623149872, 0.8422120213508606, 0.07145985960960388]\n"
     ]
    },
    {
     "name": "stderr",
     "output_type": "stream",
     "text": [
      "127.0.0.1 - - [24/Mar/2024 21:13:33] \"GET /get_weights?date=2021-01-19 HTTP/1.1\" 200 -\n"
     ]
    },
    {
     "name": "stdout",
     "output_type": "stream",
     "text": [
      "[-0.25228145718574524, 0.2473493218421936, 0.36114832758903503, 0.28266799449920654, 0.36111578345298767]\n"
     ]
    },
    {
     "name": "stderr",
     "output_type": "stream",
     "text": [
      "127.0.0.1 - - [24/Mar/2024 21:13:35] \"GET /get_weights?date=2021-01-25 HTTP/1.1\" 200 -\n"
     ]
    },
    {
     "name": "stdout",
     "output_type": "stream",
     "text": [
      "[0.1672772467136383, 0.20477648079395294, -0.24322672188282013, 0.8136624097824097, 0.05751056969165802]\n"
     ]
    },
    {
     "name": "stderr",
     "output_type": "stream",
     "text": [
      "127.0.0.1 - - [24/Mar/2024 21:13:37] \"GET /get_weights?date=2021-02-01 HTTP/1.1\" 200 -\n"
     ]
    },
    {
     "name": "stdout",
     "output_type": "stream",
     "text": [
      "[-0.10955213755369186, 0.25804945826530457, 0.1112813726067543, 0.6793420314788818, 0.06087923049926758]\n"
     ]
    },
    {
     "name": "stderr",
     "output_type": "stream",
     "text": [
      "127.0.0.1 - - [24/Mar/2024 21:13:39] \"GET /get_weights?date=2021-02-08 HTTP/1.1\" 200 -\n"
     ]
    },
    {
     "name": "stdout",
     "output_type": "stream",
     "text": [
      "[-0.08927575498819351, 0.2960975170135498, -0.011743884533643723, 0.8386275172233582, -0.03370540961623192]\n"
     ]
    },
    {
     "name": "stderr",
     "output_type": "stream",
     "text": [
      "127.0.0.1 - - [24/Mar/2024 21:13:42] \"GET /get_weights?date=2021-02-16 HTTP/1.1\" 200 -\n"
     ]
    },
    {
     "name": "stdout",
     "output_type": "stream",
     "text": [
      "[0.007999773137271404, 0.4295000433921814, -0.19519950449466705, 0.9999963641166687, -0.2422967404127121]\n"
     ]
    },
    {
     "name": "stderr",
     "output_type": "stream",
     "text": [
      "127.0.0.1 - - [24/Mar/2024 21:13:44] \"GET /get_weights?date=2021-02-22 HTTP/1.1\" 200 -\n"
     ]
    },
    {
     "name": "stdout",
     "output_type": "stream",
     "text": [
      "[0.2154858410358429, 0.280523419380188, 0.10131118446588516, 0.4792308509349823, -0.07655133306980133]\n"
     ]
    },
    {
     "name": "stderr",
     "output_type": "stream",
     "text": [
      "127.0.0.1 - - [24/Mar/2024 21:13:46] \"GET /get_weights?date=2021-03-01 HTTP/1.1\" 200 -\n"
     ]
    },
    {
     "name": "stdout",
     "output_type": "stream",
     "text": [
      "[0.08106362074613571, 0.17376719415187836, 0.16839687526226044, 0.49005404114723206, 0.08671817928552628]\n"
     ]
    },
    {
     "name": "stderr",
     "output_type": "stream",
     "text": [
      "127.0.0.1 - - [24/Mar/2024 21:13:48] \"GET /get_weights?date=2021-03-08 HTTP/1.1\" 200 -\n"
     ]
    },
    {
     "name": "stdout",
     "output_type": "stream",
     "text": [
      "[-0.16736821830272675, 0.38888707756996155, 0.09615496546030045, 0.3888248801231384, 0.29350125789642334]\n"
     ]
    },
    {
     "name": "stderr",
     "output_type": "stream",
     "text": [
      "127.0.0.1 - - [24/Mar/2024 21:13:50] \"GET /get_weights?date=2021-03-15 HTTP/1.1\" 200 -\n"
     ]
    },
    {
     "name": "stdout",
     "output_type": "stream",
     "text": [
      "[-0.14008265733718872, 0.5842032432556152, -0.09266907721757889, 0.6152783632278442, 0.03327007591724396]\n"
     ]
    },
    {
     "name": "stderr",
     "output_type": "stream",
     "text": [
      "127.0.0.1 - - [24/Mar/2024 21:13:53] \"GET /get_weights?date=2021-03-22 HTTP/1.1\" 200 -\n"
     ]
    },
    {
     "name": "stdout",
     "output_type": "stream",
     "text": [
      "[-0.2478998899459839, 0.36733031272888184, 0.18245379626750946, 0.6026338338851929, 0.09548182785511017]\n"
     ]
    },
    {
     "name": "stderr",
     "output_type": "stream",
     "text": [
      "127.0.0.1 - - [24/Mar/2024 21:13:55] \"GET /get_weights?date=2021-03-29 HTTP/1.1\" 200 -\n"
     ]
    },
    {
     "name": "stdout",
     "output_type": "stream",
     "text": [
      "[0.1879417598247528, 0.11505302041769028, -0.05995097756385803, 0.6572348475456238, 0.0997212678194046]\n"
     ]
    },
    {
     "name": "stderr",
     "output_type": "stream",
     "text": [
      "127.0.0.1 - - [24/Mar/2024 21:13:58] \"GET /get_weights?date=2021-04-05 HTTP/1.1\" 200 -\n"
     ]
    },
    {
     "name": "stdout",
     "output_type": "stream",
     "text": [
      "[-0.13285501301288605, 0.2845102846622467, -0.03698083013296127, 0.8755552172660828, 0.00977017730474472]\n"
     ]
    },
    {
     "name": "stderr",
     "output_type": "stream",
     "text": [
      "127.0.0.1 - - [24/Mar/2024 21:14:00] \"GET /get_weights?date=2021-04-12 HTTP/1.1\" 200 -\n"
     ]
    },
    {
     "name": "stdout",
     "output_type": "stream",
     "text": [
      "[-0.06869017332792282, 0.18667761981487274, 0.16613377630710602, 0.5804046988487244, 0.1354740411043167]\n"
     ]
    },
    {
     "name": "stderr",
     "output_type": "stream",
     "text": [
      "127.0.0.1 - - [24/Mar/2024 21:14:02] \"GET /get_weights?date=2021-04-19 HTTP/1.1\" 200 -\n"
     ]
    },
    {
     "name": "stdout",
     "output_type": "stream",
     "text": [
      "[0.1606246680021286, 0.013933748938143253, 0.2867482602596283, 0.5189734101295471, 0.0197198074311018]\n"
     ]
    },
    {
     "name": "stderr",
     "output_type": "stream",
     "text": [
      "127.0.0.1 - - [24/Mar/2024 21:14:05] \"GET /get_weights?date=2021-04-26 HTTP/1.1\" 200 -\n"
     ]
    },
    {
     "name": "stdout",
     "output_type": "stream",
     "text": [
      "[0.04311229661107063, 0.43783998489379883, 0.045110683888196945, 0.4783024489879608, -0.0043654125183820724]\n"
     ]
    },
    {
     "name": "stderr",
     "output_type": "stream",
     "text": [
      "127.0.0.1 - - [24/Mar/2024 21:14:08] \"GET /get_weights?date=2021-05-03 HTTP/1.1\" 200 -\n"
     ]
    },
    {
     "name": "stdout",
     "output_type": "stream",
     "text": [
      "[0.14876002073287964, 0.5293022394180298, -0.03330502286553383, 0.3789166808128357, -0.02367393672466278]\n"
     ]
    },
    {
     "name": "stderr",
     "output_type": "stream",
     "text": [
      "127.0.0.1 - - [24/Mar/2024 21:14:10] \"GET /get_weights?date=2021-05-10 HTTP/1.1\" 200 -\n"
     ]
    },
    {
     "name": "stdout",
     "output_type": "stream",
     "text": [
      "[0.0077876439318060875, 0.4454420804977417, -0.1458207368850708, 0.6202327013015747, 0.07235829532146454]\n"
     ]
    },
    {
     "name": "stderr",
     "output_type": "stream",
     "text": [
      "127.0.0.1 - - [24/Mar/2024 21:14:12] \"GET /get_weights?date=2021-05-17 HTTP/1.1\" 200 -\n"
     ]
    },
    {
     "name": "stdout",
     "output_type": "stream",
     "text": [
      "[-0.07171271741390228, 0.5122861862182617, -0.05229104682803154, 0.5988199710845947, 0.012897585518658161]\n"
     ]
    },
    {
     "name": "stderr",
     "output_type": "stream",
     "text": [
      "127.0.0.1 - - [24/Mar/2024 21:14:14] \"GET /get_weights?date=2021-05-24 HTTP/1.1\" 200 -\n"
     ]
    },
    {
     "name": "stdout",
     "output_type": "stream",
     "text": [
      "[-0.08108941465616226, 0.26617369055747986, 0.015363013371825218, 0.5951641798019409, 0.20438836514949799]\n"
     ]
    },
    {
     "name": "stderr",
     "output_type": "stream",
     "text": [
      "127.0.0.1 - - [24/Mar/2024 21:14:17] \"GET /get_weights?date=2021-06-01 HTTP/1.1\" 200 -\n"
     ]
    },
    {
     "name": "stdout",
     "output_type": "stream",
     "text": [
      "[-0.09452173113822937, 0.5982249975204468, -0.04391106218099594, 0.6581324338912964, -0.11792463809251785]\n"
     ]
    },
    {
     "name": "stderr",
     "output_type": "stream",
     "text": [
      "127.0.0.1 - - [24/Mar/2024 21:14:19] \"GET /get_weights?date=2021-06-07 HTTP/1.1\" 200 -\n"
     ]
    },
    {
     "name": "stdout",
     "output_type": "stream",
     "text": [
      "[-0.06551146507263184, 0.41299083828926086, 0.05395010858774185, 0.5251635909080505, 0.07340683043003082]\n"
     ]
    },
    {
     "name": "stderr",
     "output_type": "stream",
     "text": [
      "127.0.0.1 - - [24/Mar/2024 21:14:21] \"GET /get_weights?date=2021-06-14 HTTP/1.1\" 200 -\n"
     ]
    },
    {
     "name": "stdout",
     "output_type": "stream",
     "text": [
      "[-0.12106575816869736, 0.391083300113678, -0.09273327887058258, 0.5666186809539795, 0.25609686970710754]\n"
     ]
    },
    {
     "name": "stderr",
     "output_type": "stream",
     "text": [
      "127.0.0.1 - - [24/Mar/2024 21:14:24] \"GET /get_weights?date=2021-06-21 HTTP/1.1\" 200 -\n"
     ]
    },
    {
     "name": "stdout",
     "output_type": "stream",
     "text": [
      "[-0.09212100505828857, 0.7865431308746338, -0.07790973037481308, 0.3406689465045929, 0.04281851276755333]\n"
     ]
    },
    {
     "name": "stderr",
     "output_type": "stream",
     "text": [
      "127.0.0.1 - - [24/Mar/2024 21:14:26] \"GET /get_weights?date=2021-06-28 HTTP/1.1\" 200 -\n"
     ]
    },
    {
     "name": "stdout",
     "output_type": "stream",
     "text": [
      "[-0.03446078673005104, 0.5077962279319763, 0.09757045656442642, 0.5911188721656799, -0.1620248407125473]\n"
     ]
    },
    {
     "name": "stderr",
     "output_type": "stream",
     "text": [
      "127.0.0.1 - - [24/Mar/2024 21:14:28] \"GET /get_weights?date=2021-07-06 HTTP/1.1\" 200 -\n"
     ]
    },
    {
     "name": "stdout",
     "output_type": "stream",
     "text": [
      "[-0.11794468015432358, 0.6985530257225037, -0.09564406424760818, 0.44521936774253845, 0.06981615722179413]\n"
     ]
    },
    {
     "name": "stderr",
     "output_type": "stream",
     "text": [
      "127.0.0.1 - - [24/Mar/2024 21:14:30] \"GET /get_weights?date=2021-07-12 HTTP/1.1\" 200 -\n"
     ]
    },
    {
     "name": "stdout",
     "output_type": "stream",
     "text": [
      "[-0.08899987488985062, 0.17287768423557281, -0.015522085130214691, 0.8746556043624878, 0.05698860436677933]\n"
     ]
    },
    {
     "name": "stderr",
     "output_type": "stream",
     "text": [
      "127.0.0.1 - - [24/Mar/2024 21:14:32] \"GET /get_weights?date=2021-07-19 HTTP/1.1\" 200 -\n"
     ]
    },
    {
     "name": "stdout",
     "output_type": "stream",
     "text": [
      "[0.1795375645160675, 0.21944773197174072, 0.03380166366696358, 0.4969199597835541, 0.07029304653406143]\n"
     ]
    },
    {
     "name": "stderr",
     "output_type": "stream",
     "text": [
      "127.0.0.1 - - [24/Mar/2024 21:14:35] \"GET /get_weights?date=2021-07-26 HTTP/1.1\" 200 -\n"
     ]
    },
    {
     "name": "stdout",
     "output_type": "stream",
     "text": [
      "[-0.18868882954120636, 0.20360936224460602, 0.13787603378295898, 0.6627807021141052, 0.18442246317863464]\n"
     ]
    },
    {
     "name": "stderr",
     "output_type": "stream",
     "text": [
      "127.0.0.1 - - [24/Mar/2024 21:14:37] \"GET /get_weights?date=2021-08-02 HTTP/1.1\" 200 -\n"
     ]
    },
    {
     "name": "stdout",
     "output_type": "stream",
     "text": [
      "[-0.022736534476280212, 0.2953898310661316, 0.04235232248902321, 0.7333646416664124, -0.04837039113044739]\n"
     ]
    },
    {
     "name": "stderr",
     "output_type": "stream",
     "text": [
      "127.0.0.1 - - [24/Mar/2024 21:14:39] \"GET /get_weights?date=2021-08-09 HTTP/1.1\" 200 -\n"
     ]
    },
    {
     "name": "stdout",
     "output_type": "stream",
     "text": [
      "[-0.36397022008895874, 0.4773220717906952, 0.16808271408081055, 0.6766747236251831, 0.041890375316143036]\n"
     ]
    },
    {
     "name": "stderr",
     "output_type": "stream",
     "text": [
      "127.0.0.1 - - [24/Mar/2024 21:14:42] \"GET /get_weights?date=2021-08-16 HTTP/1.1\" 200 -\n"
     ]
    },
    {
     "name": "stdout",
     "output_type": "stream",
     "text": [
      "[0.002558185486122966, 0.1615106761455536, 0.26247867941856384, 0.5171990394592285, 0.05625317990779877]\n"
     ]
    },
    {
     "name": "stderr",
     "output_type": "stream",
     "text": [
      "127.0.0.1 - - [24/Mar/2024 21:14:44] \"GET /get_weights?date=2021-08-23 HTTP/1.1\" 200 -\n"
     ]
    },
    {
     "name": "stdout",
     "output_type": "stream",
     "text": [
      "[-0.002871121745556593, 0.6783862113952637, -0.07797301560640335, 0.281083881855011, 0.12137392163276672]\n"
     ]
    },
    {
     "name": "stderr",
     "output_type": "stream",
     "text": [
      "127.0.0.1 - - [24/Mar/2024 21:14:46] \"GET /get_weights?date=2021-08-30 HTTP/1.1\" 200 -\n"
     ]
    },
    {
     "name": "stdout",
     "output_type": "stream",
     "text": [
      "[-0.14998215436935425, 0.03639635071158409, 0.01848573051393032, 0.841885507106781, 0.253214567899704]\n"
     ]
    },
    {
     "name": "stderr",
     "output_type": "stream",
     "text": [
      "127.0.0.1 - - [24/Mar/2024 21:14:49] \"GET /get_weights?date=2021-09-07 HTTP/1.1\" 200 -\n"
     ]
    },
    {
     "name": "stdout",
     "output_type": "stream",
     "text": [
      "[-0.20587822794914246, 0.22863993048667908, -0.12856389582157135, 0.8662944436073303, 0.23950766026973724]\n"
     ]
    },
    {
     "name": "stderr",
     "output_type": "stream",
     "text": [
      "127.0.0.1 - - [24/Mar/2024 21:14:51] \"GET /get_weights?date=2021-09-13 HTTP/1.1\" 200 -\n"
     ]
    },
    {
     "name": "stdout",
     "output_type": "stream",
     "text": [
      "[0.17608937621116638, 0.3686146140098572, -0.06661489605903625, 0.5902814865112305, -0.06837058067321777]\n"
     ]
    },
    {
     "name": "stderr",
     "output_type": "stream",
     "text": [
      "127.0.0.1 - - [24/Mar/2024 21:14:53] \"GET /get_weights?date=2021-09-20 HTTP/1.1\" 200 -\n"
     ]
    },
    {
     "name": "stdout",
     "output_type": "stream",
     "text": [
      "[-0.08624911308288574, 0.3086729049682617, 0.2099929004907608, 0.47151535749435425, 0.09606777131557465]\n"
     ]
    },
    {
     "name": "stderr",
     "output_type": "stream",
     "text": [
      "127.0.0.1 - - [24/Mar/2024 21:14:55] \"GET /get_weights?date=2021-09-27 HTTP/1.1\" 200 -\n"
     ]
    },
    {
     "name": "stdout",
     "output_type": "stream",
     "text": [
      "[-0.22252172231674194, 0.5751867890357971, -0.045050617307424545, 0.4931994378566742, 0.1991857886314392]\n"
     ]
    },
    {
     "name": "stderr",
     "output_type": "stream",
     "text": [
      "127.0.0.1 - - [24/Mar/2024 21:14:58] \"GET /get_weights?date=2021-10-04 HTTP/1.1\" 200 -\n"
     ]
    },
    {
     "name": "stdout",
     "output_type": "stream",
     "text": [
      "[-0.1698928028345108, 0.08272407948970795, 0.001859769457951188, 0.8550357222557068, 0.23027294874191284]\n"
     ]
    },
    {
     "name": "stderr",
     "output_type": "stream",
     "text": [
      "127.0.0.1 - - [24/Mar/2024 21:15:00] \"GET /get_weights?date=2021-10-11 HTTP/1.1\" 200 -\n"
     ]
    },
    {
     "name": "stdout",
     "output_type": "stream",
     "text": [
      "[-0.0816490575671196, 0.2058822363615036, -0.09705086797475815, 0.8920266628265381, 0.0807909220457077]\n"
     ]
    },
    {
     "name": "stderr",
     "output_type": "stream",
     "text": [
      "127.0.0.1 - - [24/Mar/2024 21:15:02] \"GET /get_weights?date=2021-10-18 HTTP/1.1\" 200 -\n"
     ]
    },
    {
     "name": "stdout",
     "output_type": "stream",
     "text": [
      "[0.000552983139641583, 0.5471494793891907, 0.019726965576410294, 0.40215620398521423, 0.030414313077926636]\n"
     ]
    },
    {
     "name": "stderr",
     "output_type": "stream",
     "text": [
      "127.0.0.1 - - [24/Mar/2024 21:15:04] \"GET /get_weights?date=2021-10-25 HTTP/1.1\" 200 -\n"
     ]
    },
    {
     "name": "stdout",
     "output_type": "stream",
     "text": [
      "[-0.009512096643447876, 0.5357161164283752, -0.0832395926117897, 0.6032423973083496, -0.04620714485645294]\n"
     ]
    },
    {
     "name": "stderr",
     "output_type": "stream",
     "text": [
      "127.0.0.1 - - [24/Mar/2024 21:15:07] \"GET /get_weights?date=2021-11-01 HTTP/1.1\" 200 -\n"
     ]
    },
    {
     "name": "stdout",
     "output_type": "stream",
     "text": [
      "[-0.011856045573949814, 0.20072102546691895, -0.11700439453125, 0.967871904373169, -0.03973260149359703]\n"
     ]
    },
    {
     "name": "stderr",
     "output_type": "stream",
     "text": [
      "127.0.0.1 - - [24/Mar/2024 21:15:09] \"GET /get_weights?date=2021-11-08 HTTP/1.1\" 200 -\n"
     ]
    },
    {
     "name": "stdout",
     "output_type": "stream",
     "text": [
      "[-0.2795512080192566, 0.48625603318214417, -0.013193538412451744, 0.7795155644416809, 0.02697315812110901]\n"
     ]
    },
    {
     "name": "stderr",
     "output_type": "stream",
     "text": [
      "127.0.0.1 - - [24/Mar/2024 21:15:11] \"GET /get_weights?date=2021-11-15 HTTP/1.1\" 200 -\n"
     ]
    },
    {
     "name": "stdout",
     "output_type": "stream",
     "text": [
      "[0.20344178378582, 0.22749187052249908, -0.13728636503219604, 0.7443493604660034, -0.037996985018253326]\n"
     ]
    },
    {
     "name": "stderr",
     "output_type": "stream",
     "text": [
      "127.0.0.1 - - [24/Mar/2024 21:15:13] \"GET /get_weights?date=2021-11-22 HTTP/1.1\" 200 -\n"
     ]
    },
    {
     "name": "stdout",
     "output_type": "stream",
     "text": [
      "[-0.06318017095327377, 0.19033022224903107, 0.019630758091807365, 0.5650089383125305, 0.2882101535797119]\n"
     ]
    },
    {
     "name": "stderr",
     "output_type": "stream",
     "text": [
      "127.0.0.1 - - [24/Mar/2024 21:15:15] \"GET /get_weights?date=2021-11-29 HTTP/1.1\" 200 -\n"
     ]
    },
    {
     "name": "stdout",
     "output_type": "stream",
     "text": [
      "[-0.038606394082307816, 0.26757171750068665, 0.10263741761445999, 0.5976619124412537, 0.07073532789945602]\n"
     ]
    },
    {
     "name": "stderr",
     "output_type": "stream",
     "text": [
      "127.0.0.1 - - [24/Mar/2024 21:15:18] \"GET /get_weights?date=2021-12-06 HTTP/1.1\" 200 -\n"
     ]
    },
    {
     "name": "stdout",
     "output_type": "stream",
     "text": [
      "[-0.2653186619281769, 0.6109722852706909, 0.1918182522058487, 0.42440059781074524, 0.03812751919031143]\n"
     ]
    },
    {
     "name": "stderr",
     "output_type": "stream",
     "text": [
      "127.0.0.1 - - [24/Mar/2024 21:15:20] \"GET /get_weights?date=2021-12-13 HTTP/1.1\" 200 -\n"
     ]
    },
    {
     "name": "stdout",
     "output_type": "stream",
     "text": [
      "[-0.23022611439228058, 0.2686278522014618, 0.055593933910131454, 0.8037547469139099, 0.10224948078393936]\n"
     ]
    },
    {
     "name": "stderr",
     "output_type": "stream",
     "text": [
      "127.0.0.1 - - [24/Mar/2024 21:15:22] \"GET /get_weights?date=2021-12-20 HTTP/1.1\" 200 -\n"
     ]
    },
    {
     "name": "stdout",
     "output_type": "stream",
     "text": [
      "Working with model: 1\n",
      "[-0.011479848064482212, 0.2913980484008789, -0.09352949261665344, 0.7150701880455017, 0.0985410287976265]\n"
     ]
    },
    {
     "name": "stderr",
     "output_type": "stream",
     "text": [
      "127.0.0.1 - - [24/Mar/2024 21:15:24] \"GET /get_weights?date=2021-12-27 HTTP/1.1\" 200 -\n"
     ]
    },
    {
     "name": "stdout",
     "output_type": "stream",
     "text": [
      "Working with model: 1\n",
      "[-0.04608584940433502, 0.04499740153551102, 0.16588570177555084, 0.6623305082321167, 0.17287203669548035]\n"
     ]
    },
    {
     "name": "stderr",
     "output_type": "stream",
     "text": [
      "127.0.0.1 - - [24/Mar/2024 21:15:26] \"GET /get_weights?date=2022-01-03 HTTP/1.1\" 200 -\n"
     ]
    },
    {
     "name": "stdout",
     "output_type": "stream",
     "text": [
      "Working with model: 1\n",
      "[-0.21590203046798706, 0.3812733292579651, 0.05125836655497551, 0.6953138113021851, 0.08805649727582932]\n"
     ]
    },
    {
     "name": "stderr",
     "output_type": "stream",
     "text": [
      "127.0.0.1 - - [24/Mar/2024 21:15:29] \"GET /get_weights?date=2022-01-10 HTTP/1.1\" 200 -\n"
     ]
    },
    {
     "name": "stdout",
     "output_type": "stream",
     "text": [
      "Working with model: 1\n",
      "[0.16095219552516937, -0.07601508498191833, 0.03152574226260185, 0.9086092710494995, -0.025072172284126282]\n"
     ]
    },
    {
     "name": "stderr",
     "output_type": "stream",
     "text": [
      "127.0.0.1 - - [24/Mar/2024 21:15:31] \"GET /get_weights?date=2022-01-18 HTTP/1.1\" 200 -\n"
     ]
    },
    {
     "name": "stdout",
     "output_type": "stream",
     "text": [
      "Working with model: 1\n",
      "[-0.14155827462673187, 0.47006964683532715, -0.1161540299654007, 0.8902567625045776, -0.10261433571577072]\n"
     ]
    },
    {
     "name": "stderr",
     "output_type": "stream",
     "text": [
      "127.0.0.1 - - [24/Mar/2024 21:15:33] \"GET /get_weights?date=2022-01-24 HTTP/1.1\" 200 -\n"
     ]
    },
    {
     "name": "stdout",
     "output_type": "stream",
     "text": [
      "Working with model: 1\n",
      "[-0.00981444027274847, 0.05278053879737854, 0.3086276948451996, 0.5103779435157776, 0.13802823424339294]\n"
     ]
    },
    {
     "name": "stderr",
     "output_type": "stream",
     "text": [
      "127.0.0.1 - - [24/Mar/2024 21:15:35] \"GET /get_weights?date=2022-01-31 HTTP/1.1\" 200 -\n"
     ]
    },
    {
     "name": "stdout",
     "output_type": "stream",
     "text": [
      "Working with model: 1\n",
      "[-0.20607340335845947, 0.45641469955444336, -0.030408548191189766, 0.7432432174682617, 0.03682389855384827]\n"
     ]
    },
    {
     "name": "stderr",
     "output_type": "stream",
     "text": [
      "127.0.0.1 - - [24/Mar/2024 21:15:37] \"GET /get_weights?date=2022-02-07 HTTP/1.1\" 200 -\n"
     ]
    },
    {
     "name": "stdout",
     "output_type": "stream",
     "text": [
      "Working with model: 1\n",
      "[-0.015447963029146194, -0.08712255209684372, 0.12130032479763031, 0.8624548316001892, 0.11881524324417114]\n"
     ]
    },
    {
     "name": "stderr",
     "output_type": "stream",
     "text": [
      "127.0.0.1 - - [24/Mar/2024 21:15:40] \"GET /get_weights?date=2022-02-14 HTTP/1.1\" 200 -\n"
     ]
    },
    {
     "name": "stdout",
     "output_type": "stream",
     "text": [
      "Working with model: 1\n",
      "[0.17685115337371826, 0.37886807322502136, -0.2116023451089859, 0.5666443109512329, 0.08923875540494919]\n"
     ]
    },
    {
     "name": "stderr",
     "output_type": "stream",
     "text": [
      "127.0.0.1 - - [24/Mar/2024 21:15:42] \"GET /get_weights?date=2022-02-22 HTTP/1.1\" 200 -\n"
     ]
    },
    {
     "name": "stdout",
     "output_type": "stream",
     "text": [
      "Working with model: 1\n",
      "[0.1677408516407013, 0.19057537615299225, 0.2904578745365143, 0.406820684671402, -0.055594831705093384]\n"
     ]
    },
    {
     "name": "stderr",
     "output_type": "stream",
     "text": [
      "127.0.0.1 - - [24/Mar/2024 21:15:44] \"GET /get_weights?date=2022-02-28 HTTP/1.1\" 200 -\n"
     ]
    },
    {
     "name": "stdout",
     "output_type": "stream",
     "text": [
      "Working with model: 1\n",
      "[0.11157944053411484, 0.027220387011766434, 0.06731366366147995, 0.4877614378929138, 0.3061249852180481]\n"
     ]
    },
    {
     "name": "stderr",
     "output_type": "stream",
     "text": [
      "127.0.0.1 - - [24/Mar/2024 21:15:46] \"GET /get_weights?date=2022-03-07 HTTP/1.1\" 200 -\n"
     ]
    },
    {
     "name": "stdout",
     "output_type": "stream",
     "text": [
      "Working with model: 1\n",
      "[0.05602636933326721, -0.05058726668357849, 0.061175283044576645, 0.6007959246635437, 0.33258959650993347]\n"
     ]
    },
    {
     "name": "stderr",
     "output_type": "stream",
     "text": [
      "127.0.0.1 - - [24/Mar/2024 21:15:49] \"GET /get_weights?date=2022-03-14 HTTP/1.1\" 200 -\n"
     ]
    },
    {
     "name": "stdout",
     "output_type": "stream",
     "text": [
      "Working with model: 1\n",
      "[0.07007565349340439, 0.08210735768079758, 0.21069762110710144, 0.6259741187095642, 0.011145064607262611]\n"
     ]
    },
    {
     "name": "stderr",
     "output_type": "stream",
     "text": [
      "127.0.0.1 - - [24/Mar/2024 21:15:51] \"GET /get_weights?date=2022-03-21 HTTP/1.1\" 200 -\n"
     ]
    },
    {
     "name": "stdout",
     "output_type": "stream",
     "text": [
      "Working with model: 1\n",
      "[0.008582855574786663, 0.34173691272735596, 0.12376293540000916, 0.4009738266468048, 0.12494347989559174]\n"
     ]
    },
    {
     "name": "stderr",
     "output_type": "stream",
     "text": [
      "127.0.0.1 - - [24/Mar/2024 21:15:53] \"GET /get_weights?date=2022-03-28 HTTP/1.1\" 200 -\n"
     ]
    },
    {
     "name": "stdout",
     "output_type": "stream",
     "text": [
      "Working with model: 1\n",
      "[0.0665627047419548, 0.14108805358409882, 0.1661466658115387, 0.33505797386169434, 0.29114457964897156]\n"
     ]
    },
    {
     "name": "stderr",
     "output_type": "stream",
     "text": [
      "127.0.0.1 - - [24/Mar/2024 21:15:55] \"GET /get_weights?date=2022-04-04 HTTP/1.1\" 200 -\n"
     ]
    },
    {
     "name": "stdout",
     "output_type": "stream",
     "text": [
      "Working with model: 1\n",
      "[0.07813920080661774, 0.10759009420871735, 0.2130001038312912, 0.42593881487846375, 0.17533178627490997]\n"
     ]
    },
    {
     "name": "stderr",
     "output_type": "stream",
     "text": [
      "127.0.0.1 - - [24/Mar/2024 21:15:58] \"GET /get_weights?date=2022-04-11 HTTP/1.1\" 200 -\n"
     ]
    },
    {
     "name": "stdout",
     "output_type": "stream",
     "text": [
      "Working with model: 1\n",
      "[0.0550985261797905, 0.23953185975551605, 0.10548582673072815, 0.5783997178077698, 0.021484075114130974]\n"
     ]
    },
    {
     "name": "stderr",
     "output_type": "stream",
     "text": [
      "127.0.0.1 - - [24/Mar/2024 21:16:00] \"GET /get_weights?date=2022-04-18 HTTP/1.1\" 200 -\n"
     ]
    },
    {
     "name": "stdout",
     "output_type": "stream",
     "text": [
      "Working with model: 1\n",
      "[0.06655173003673553, 0.23968708515167236, 0.20289987325668335, 0.37289029359817505, 0.1179710179567337]\n"
     ]
    },
    {
     "name": "stderr",
     "output_type": "stream",
     "text": [
      "127.0.0.1 - - [24/Mar/2024 21:16:02] \"GET /get_weights?date=2022-04-25 HTTP/1.1\" 200 -\n"
     ]
    },
    {
     "name": "stdout",
     "output_type": "stream",
     "text": [
      "Working with model: 1\n",
      "[0.22421254217624664, 0.012865460477769375, 0.05143068730831146, 0.5901526808738708, 0.12133852392435074]\n"
     ]
    },
    {
     "name": "stderr",
     "output_type": "stream",
     "text": [
      "127.0.0.1 - - [24/Mar/2024 21:16:04] \"GET /get_weights?date=2022-05-02 HTTP/1.1\" 200 -\n"
     ]
    },
    {
     "name": "stdout",
     "output_type": "stream",
     "text": [
      "Working with model: 1\n",
      "[-0.028927862644195557, 0.429808646440506, 0.18166477978229523, 0.36393046379089355, 0.0535239614546299]\n"
     ]
    },
    {
     "name": "stderr",
     "output_type": "stream",
     "text": [
      "127.0.0.1 - - [24/Mar/2024 21:16:06] \"GET /get_weights?date=2022-05-09 HTTP/1.1\" 200 -\n"
     ]
    },
    {
     "name": "stdout",
     "output_type": "stream",
     "text": [
      "Working with model: 1\n",
      "[-0.0423576682806015, -0.11338482797145844, 0.46197113394737244, 0.42086926102638245, 0.27290207147598267]\n"
     ]
    },
    {
     "name": "stderr",
     "output_type": "stream",
     "text": [
      "127.0.0.1 - - [24/Mar/2024 21:16:09] \"GET /get_weights?date=2022-05-16 HTTP/1.1\" 200 -\n"
     ]
    },
    {
     "name": "stdout",
     "output_type": "stream",
     "text": [
      "Working with model: 1\n",
      "[-0.024411853402853012, -0.06002914905548096, 0.22228151559829712, 0.6097413897514343, 0.2524181008338928]\n"
     ]
    },
    {
     "name": "stderr",
     "output_type": "stream",
     "text": [
      "127.0.0.1 - - [24/Mar/2024 21:16:11] \"GET /get_weights?date=2022-05-23 HTTP/1.1\" 200 -\n"
     ]
    },
    {
     "name": "stdout",
     "output_type": "stream",
     "text": [
      "Working with model: 1\n",
      "[-0.04397435858845711, 0.012661161832511425, 0.2780650854110718, 0.4977255165576935, 0.25552260875701904]\n"
     ]
    },
    {
     "name": "stderr",
     "output_type": "stream",
     "text": [
      "127.0.0.1 - - [24/Mar/2024 21:16:13] \"GET /get_weights?date=2022-05-31 HTTP/1.1\" 200 -\n"
     ]
    },
    {
     "name": "stdout",
     "output_type": "stream",
     "text": [
      "Working with model: 1\n",
      "[-0.04304977133870125, 0.050379421561956406, -0.018891485407948494, 0.8393204212188721, 0.1722414195537567]\n"
     ]
    },
    {
     "name": "stderr",
     "output_type": "stream",
     "text": [
      "127.0.0.1 - - [24/Mar/2024 21:16:15] \"GET /get_weights?date=2022-06-06 HTTP/1.1\" 200 -\n"
     ]
    },
    {
     "name": "stdout",
     "output_type": "stream",
     "text": [
      "Working with model: 1\n",
      "[0.13653606176376343, 0.04941171780228615, -0.027646292001008987, 0.8449562788009644, -0.0032577738165855408]\n"
     ]
    },
    {
     "name": "stderr",
     "output_type": "stream",
     "text": [
      "127.0.0.1 - - [24/Mar/2024 21:16:17] \"GET /get_weights?date=2022-06-13 HTTP/1.1\" 200 -\n"
     ]
    },
    {
     "name": "stdout",
     "output_type": "stream",
     "text": [
      "Working with model: 1\n",
      "[0.1406368762254715, 0.5382246375083923, -0.10360541194677353, 0.5399419069290161, -0.11519809067249298]\n"
     ]
    },
    {
     "name": "stderr",
     "output_type": "stream",
     "text": [
      "127.0.0.1 - - [24/Mar/2024 21:16:20] \"GET /get_weights?date=2022-06-20 HTTP/1.1\" 200 -\n"
     ]
    },
    {
     "name": "stdout",
     "output_type": "stream",
     "text": [
      "Working with model: 1\n",
      "[-0.14278936386108398, 0.18123885989189148, 0.30238160490989685, 0.34089505672454834, 0.3182738125324249]\n"
     ]
    },
    {
     "name": "stderr",
     "output_type": "stream",
     "text": [
      "127.0.0.1 - - [24/Mar/2024 21:16:22] \"GET /get_weights?date=2022-06-27 HTTP/1.1\" 200 -\n"
     ]
    },
    {
     "name": "stdout",
     "output_type": "stream",
     "text": [
      "Working with model: 1\n",
      "[-0.09948568046092987, 0.4624570310115814, -0.164558544754982, 0.5186706185340881, 0.2829165458679199]\n"
     ]
    },
    {
     "name": "stderr",
     "output_type": "stream",
     "text": [
      "127.0.0.1 - - [24/Mar/2024 21:16:24] \"GET /get_weights?date=2022-07-05 HTTP/1.1\" 200 -\n"
     ]
    },
    {
     "name": "stdout",
     "output_type": "stream",
     "text": [
      "Working with model: 1\n",
      "[0.02745983935892582, -0.06606823951005936, 0.17776784300804138, 0.796509325504303, 0.06433117389678955]\n"
     ]
    },
    {
     "name": "stderr",
     "output_type": "stream",
     "text": [
      "127.0.0.1 - - [24/Mar/2024 21:16:26] \"GET /get_weights?date=2022-07-11 HTTP/1.1\" 200 -\n"
     ]
    },
    {
     "name": "stdout",
     "output_type": "stream",
     "text": [
      "Working with model: 1\n",
      "[-0.1323561817407608, 0.1933600902557373, 0.17021697759628296, 0.5336119532585144, 0.23516717553138733]\n"
     ]
    },
    {
     "name": "stderr",
     "output_type": "stream",
     "text": [
      "127.0.0.1 - - [24/Mar/2024 21:16:29] \"GET /get_weights?date=2022-07-18 HTTP/1.1\" 200 -\n"
     ]
    },
    {
     "name": "stdout",
     "output_type": "stream",
     "text": [
      "Working with model: 1\n",
      "[-0.10460042953491211, 0.34374746680259705, 0.27568843960762024, 0.46383512020111084, 0.02132941223680973]\n"
     ]
    },
    {
     "name": "stderr",
     "output_type": "stream",
     "text": [
      "127.0.0.1 - - [24/Mar/2024 21:16:31] \"GET /get_weights?date=2022-07-25 HTTP/1.1\" 200 -\n"
     ]
    },
    {
     "name": "stdout",
     "output_type": "stream",
     "text": [
      "Working with model: 1\n",
      "[-0.13202455639839172, 0.29111242294311523, 0.041958507150411606, 0.752098023891449, 0.046855635941028595]\n"
     ]
    },
    {
     "name": "stderr",
     "output_type": "stream",
     "text": [
      "127.0.0.1 - - [24/Mar/2024 21:16:33] \"GET /get_weights?date=2022-08-01 HTTP/1.1\" 200 -\n"
     ]
    },
    {
     "name": "stdout",
     "output_type": "stream",
     "text": [
      "Working with model: 1\n",
      "[0.16717778146266937, 0.023815155029296875, -0.0233940239995718, 0.8288605213165283, 0.0035405647940933704]\n"
     ]
    },
    {
     "name": "stderr",
     "output_type": "stream",
     "text": [
      "127.0.0.1 - - [24/Mar/2024 21:16:35] \"GET /get_weights?date=2022-08-08 HTTP/1.1\" 200 -\n"
     ]
    },
    {
     "name": "stdout",
     "output_type": "stream",
     "text": [
      "Working with model: 1\n",
      "[0.15859192609786987, 0.06056725233793259, -0.006640808656811714, 0.7711740136146545, 0.016307570040225983]\n"
     ]
    },
    {
     "name": "stderr",
     "output_type": "stream",
     "text": [
      "127.0.0.1 - - [24/Mar/2024 21:16:37] \"GET /get_weights?date=2022-08-15 HTTP/1.1\" 200 -\n"
     ]
    },
    {
     "name": "stdout",
     "output_type": "stream",
     "text": [
      "Working with model: 1\n",
      "[-0.12572388350963593, 0.41076767444610596, 0.05055444315075874, 0.40004685521125793, 0.2643549144268036]\n"
     ]
    },
    {
     "name": "stderr",
     "output_type": "stream",
     "text": [
      "127.0.0.1 - - [24/Mar/2024 21:16:40] \"GET /get_weights?date=2022-08-22 HTTP/1.1\" 200 -\n"
     ]
    },
    {
     "name": "stdout",
     "output_type": "stream",
     "text": [
      "Working with model: 1\n",
      "[0.2003394365310669, -0.15332657098770142, 0.0909750759601593, 0.7830981612205505, 0.07891387492418289]\n"
     ]
    },
    {
     "name": "stderr",
     "output_type": "stream",
     "text": [
      "127.0.0.1 - - [24/Mar/2024 21:16:42] \"GET /get_weights?date=2022-08-29 HTTP/1.1\" 200 -\n"
     ]
    },
    {
     "name": "stdout",
     "output_type": "stream",
     "text": [
      "Working with model: 1\n",
      "[0.04627310484647751, 0.16611053049564362, -0.044098641723394394, 0.5517748594284058, 0.2799399793148041]\n"
     ]
    },
    {
     "name": "stderr",
     "output_type": "stream",
     "text": [
      "127.0.0.1 - - [24/Mar/2024 21:16:44] \"GET /get_weights?date=2022-09-06 HTTP/1.1\" 200 -\n"
     ]
    },
    {
     "name": "stdout",
     "output_type": "stream",
     "text": [
      "Working with model: 1\n",
      "[-0.049017928540706635, 0.5279625058174133, 0.06192656233906746, 0.562812328338623, -0.1036834716796875]\n"
     ]
    },
    {
     "name": "stderr",
     "output_type": "stream",
     "text": [
      "127.0.0.1 - - [24/Mar/2024 21:16:46] \"GET /get_weights?date=2022-09-12 HTTP/1.1\" 200 -\n"
     ]
    },
    {
     "name": "stdout",
     "output_type": "stream",
     "text": [
      "Working with model: 1\n",
      "[-0.16157343983650208, 0.2318374663591385, 0.15185664594173431, 0.41403964161872864, 0.36383968591690063]\n"
     ]
    },
    {
     "name": "stderr",
     "output_type": "stream",
     "text": [
      "127.0.0.1 - - [24/Mar/2024 21:16:49] \"GET /get_weights?date=2022-09-19 HTTP/1.1\" 200 -\n"
     ]
    },
    {
     "name": "stdout",
     "output_type": "stream",
     "text": [
      "Working with model: 1\n",
      "[0.2589481472969055, 0.14466828107833862, -0.010347897186875343, 0.5782380700111389, 0.028493354097008705]\n"
     ]
    },
    {
     "name": "stderr",
     "output_type": "stream",
     "text": [
      "127.0.0.1 - - [24/Mar/2024 21:16:51] \"GET /get_weights?date=2022-09-26 HTTP/1.1\" 200 -\n"
     ]
    },
    {
     "name": "stdout",
     "output_type": "stream",
     "text": [
      "Working with model: 1\n",
      "[-0.02281012572348118, 0.2527717351913452, 0.5274255871772766, 0.19727197289466858, 0.045340850949287415]\n"
     ]
    },
    {
     "name": "stderr",
     "output_type": "stream",
     "text": [
      "127.0.0.1 - - [24/Mar/2024 21:16:53] \"GET /get_weights?date=2022-10-03 HTTP/1.1\" 200 -\n"
     ]
    },
    {
     "name": "stdout",
     "output_type": "stream",
     "text": [
      "Working with model: 1\n",
      "[-0.002225634176284075, 0.08893933892250061, -0.04332537576556206, 0.7643696665763855, 0.19224202632904053]\n"
     ]
    },
    {
     "name": "stderr",
     "output_type": "stream",
     "text": [
      "127.0.0.1 - - [24/Mar/2024 21:16:55] \"GET /get_weights?date=2022-10-10 HTTP/1.1\" 200 -\n"
     ]
    },
    {
     "name": "stdout",
     "output_type": "stream",
     "text": [
      "Working with model: 1\n",
      "[-0.05856028199195862, 0.051139991730451584, 0.11505845934152603, 1.0, -0.1076381504535675]\n"
     ]
    },
    {
     "name": "stderr",
     "output_type": "stream",
     "text": [
      "127.0.0.1 - - [24/Mar/2024 21:16:57] \"GET /get_weights?date=2022-10-17 HTTP/1.1\" 200 -\n"
     ]
    },
    {
     "name": "stdout",
     "output_type": "stream",
     "text": [
      "Working with model: 1\n",
      "[0.0009975959546864033, 0.168636754155159, 0.30490151047706604, 0.6115007400512695, -0.08603661507368088]\n"
     ]
    },
    {
     "name": "stderr",
     "output_type": "stream",
     "text": [
      "127.0.0.1 - - [24/Mar/2024 21:17:00] \"GET /get_weights?date=2022-10-24 HTTP/1.1\" 200 -\n"
     ]
    },
    {
     "name": "stdout",
     "output_type": "stream",
     "text": [
      "Working with model: 1\n",
      "[-0.20632654428482056, 0.1813107579946518, 0.1653558313846588, 0.8060816526412964, 0.05357825756072998]\n"
     ]
    },
    {
     "name": "stderr",
     "output_type": "stream",
     "text": [
      "127.0.0.1 - - [24/Mar/2024 21:17:02] \"GET /get_weights?date=2022-10-31 HTTP/1.1\" 200 -\n"
     ]
    },
    {
     "name": "stdout",
     "output_type": "stream",
     "text": [
      "Working with model: 1\n",
      "[0.0670570507645607, 0.43762513995170593, -0.034182220697402954, 0.6359478235244751, -0.10644780844449997]\n"
     ]
    },
    {
     "name": "stderr",
     "output_type": "stream",
     "text": [
      "127.0.0.1 - - [24/Mar/2024 21:17:04] \"GET /get_weights?date=2022-11-07 HTTP/1.1\" 200 -\n"
     ]
    },
    {
     "name": "stdout",
     "output_type": "stream",
     "text": [
      "Working with model: 1\n",
      "[0.06423301994800568, 0.22218777239322662, -0.02982567995786667, 0.6052208542823792, 0.13818402588367462]\n"
     ]
    },
    {
     "name": "stderr",
     "output_type": "stream",
     "text": [
      "127.0.0.1 - - [24/Mar/2024 21:17:06] \"GET /get_weights?date=2022-11-14 HTTP/1.1\" 200 -\n"
     ]
    },
    {
     "name": "stdout",
     "output_type": "stream",
     "text": [
      "Working with model: 1\n",
      "[-0.05846461281180382, -0.004997583571821451, 0.13714444637298584, 0.8842160701751709, 0.0421016663312912]\n"
     ]
    },
    {
     "name": "stderr",
     "output_type": "stream",
     "text": [
      "127.0.0.1 - - [24/Mar/2024 21:17:09] \"GET /get_weights?date=2022-11-21 HTTP/1.1\" 200 -\n"
     ]
    },
    {
     "name": "stdout",
     "output_type": "stream",
     "text": [
      "Working with model: 1\n",
      "[0.4182731807231903, 0.05596640706062317, 0.0166368018835783, 0.46963974833488464, 0.039483848959207535]\n"
     ]
    },
    {
     "name": "stderr",
     "output_type": "stream",
     "text": [
      "127.0.0.1 - - [24/Mar/2024 21:17:11] \"GET /get_weights?date=2022-11-28 HTTP/1.1\" 200 -\n"
     ]
    },
    {
     "name": "stdout",
     "output_type": "stream",
     "text": [
      "Working with model: 1\n",
      "[-0.05418101325631142, 0.27096855640411377, 0.166488915681839, 0.5927906036376953, 0.02393295429646969]\n"
     ]
    },
    {
     "name": "stderr",
     "output_type": "stream",
     "text": [
      "127.0.0.1 - - [24/Mar/2024 21:17:13] \"GET /get_weights?date=2022-12-05 HTTP/1.1\" 200 -\n"
     ]
    },
    {
     "name": "stdout",
     "output_type": "stream",
     "text": [
      "Working with model: 1\n",
      "[0.040253203362226486, 0.4660082459449768, -0.10619145631790161, 0.3670991063117981, 0.23283088207244873]\n"
     ]
    },
    {
     "name": "stderr",
     "output_type": "stream",
     "text": [
      "127.0.0.1 - - [24/Mar/2024 21:17:15] \"GET /get_weights?date=2022-12-12 HTTP/1.1\" 200 -\n"
     ]
    },
    {
     "name": "stdout",
     "output_type": "stream",
     "text": [
      "Working with model: 1\n",
      "[-0.3014153242111206, 0.4219406545162201, 0.055289238691329956, 0.6396538019180298, 0.18453162908554077]\n"
     ]
    },
    {
     "name": "stderr",
     "output_type": "stream",
     "text": [
      "127.0.0.1 - - [24/Mar/2024 21:17:17] \"GET /get_weights?date=2022-12-19 HTTP/1.1\" 200 -\n"
     ]
    },
    {
     "name": "stdout",
     "output_type": "stream",
     "text": [
      "Working with model: 2\n",
      "[0.0335739366710186, -0.04874742031097412, -0.015862006694078445, 0.9187095165252686, 0.1123260036110878]\n"
     ]
    },
    {
     "name": "stderr",
     "output_type": "stream",
     "text": [
      "127.0.0.1 - - [24/Mar/2024 21:17:20] \"GET /get_weights?date=2022-12-27 HTTP/1.1\" 200 -\n"
     ]
    },
    {
     "name": "stdout",
     "output_type": "stream",
     "text": [
      "Working with model: 2\n",
      "[-0.05495627596974373, 0.48375993967056274, -0.10290833562612534, 0.5556384325027466, 0.11846626549959183]\n"
     ]
    },
    {
     "name": "stderr",
     "output_type": "stream",
     "text": [
      "127.0.0.1 - - [24/Mar/2024 21:17:22] \"GET /get_weights?date=2023-01-03 HTTP/1.1\" 200 -\n"
     ]
    },
    {
     "name": "stdout",
     "output_type": "stream",
     "text": [
      "Working with model: 2\n",
      "[0.08309116214513779, 0.022947203367948532, 0.03902047500014305, 0.6864290833473206, 0.16851197183132172]\n"
     ]
    },
    {
     "name": "stderr",
     "output_type": "stream",
     "text": [
      "127.0.0.1 - - [24/Mar/2024 21:17:24] \"GET /get_weights?date=2023-01-09 HTTP/1.1\" 200 -\n"
     ]
    },
    {
     "name": "stdout",
     "output_type": "stream",
     "text": [
      "Working with model: 2\n",
      "[0.055765267461538315, -0.015836264938116074, -0.08127772063016891, 0.9999940395355225, 0.04135455563664436]\n"
     ]
    },
    {
     "name": "stderr",
     "output_type": "stream",
     "text": [
      "127.0.0.1 - - [24/Mar/2024 21:17:26] \"GET /get_weights?date=2023-01-17 HTTP/1.1\" 200 -\n"
     ]
    },
    {
     "name": "stdout",
     "output_type": "stream",
     "text": [
      "Working with model: 2\n",
      "[0.26070383191108704, 0.29040172696113586, -0.30628901720046997, 0.6925848722457886, 0.06259859353303909]\n"
     ]
    },
    {
     "name": "stderr",
     "output_type": "stream",
     "text": [
      "127.0.0.1 - - [24/Mar/2024 21:17:29] \"GET /get_weights?date=2023-01-23 HTTP/1.1\" 200 -\n"
     ]
    },
    {
     "name": "stdout",
     "output_type": "stream",
     "text": [
      "Working with model: 2\n",
      "[-0.03836648538708687, 0.2992633283138275, 0.0587831549346447, 0.5651810169219971, 0.11513902246952057]\n"
     ]
    },
    {
     "name": "stderr",
     "output_type": "stream",
     "text": [
      "127.0.0.1 - - [24/Mar/2024 21:17:31] \"GET /get_weights?date=2023-01-30 HTTP/1.1\" 200 -\n"
     ]
    },
    {
     "name": "stdout",
     "output_type": "stream",
     "text": [
      "Working with model: 2\n",
      "[-0.18457186222076416, 0.48269686102867126, -0.1495266705751419, 0.9166306257247925, -0.06522894650697708]\n"
     ]
    },
    {
     "name": "stderr",
     "output_type": "stream",
     "text": [
      "127.0.0.1 - - [24/Mar/2024 21:17:33] \"GET /get_weights?date=2023-02-06 HTTP/1.1\" 200 -\n"
     ]
    },
    {
     "name": "stdout",
     "output_type": "stream",
     "text": [
      "Working with model: 2\n",
      "[-0.14526203274726868, 0.33693259954452515, 0.15930293500423431, 0.5112435221672058, 0.1377827525138855]\n"
     ]
    },
    {
     "name": "stderr",
     "output_type": "stream",
     "text": [
      "127.0.0.1 - - [24/Mar/2024 21:17:35] \"GET /get_weights?date=2023-02-13 HTTP/1.1\" 200 -\n"
     ]
    },
    {
     "name": "stdout",
     "output_type": "stream",
     "text": [
      "Working with model: 2\n",
      "[0.14529827237129211, 0.21119631826877594, -0.1740221381187439, 0.6710802316665649, 0.14644725620746613]\n"
     ]
    },
    {
     "name": "stderr",
     "output_type": "stream",
     "text": [
      "127.0.0.1 - - [24/Mar/2024 21:17:37] \"GET /get_weights?date=2023-02-21 HTTP/1.1\" 200 -\n"
     ]
    },
    {
     "name": "stdout",
     "output_type": "stream",
     "text": [
      "Working with model: 2\n",
      "[-0.13220366835594177, 0.3997105360031128, 0.0755581483244896, 0.5396445989608765, 0.1172901913523674]\n"
     ]
    },
    {
     "name": "stderr",
     "output_type": "stream",
     "text": [
      "127.0.0.1 - - [24/Mar/2024 21:17:39] \"GET /get_weights?date=2023-02-27 HTTP/1.1\" 200 -\n"
     ]
    },
    {
     "name": "stdout",
     "output_type": "stream",
     "text": [
      "Working with model: 2\n",
      "[-0.04001731052994728, 0.1958969682455063, 0.059989649802446365, 0.7692258954048157, 0.014904802665114403]\n"
     ]
    },
    {
     "name": "stderr",
     "output_type": "stream",
     "text": [
      "127.0.0.1 - - [24/Mar/2024 21:17:42] \"GET /get_weights?date=2023-03-06 HTTP/1.1\" 200 -\n"
     ]
    },
    {
     "name": "stdout",
     "output_type": "stream",
     "text": [
      "Working with model: 2\n",
      "[-0.10075782239437103, 0.4998525083065033, -0.11066079884767532, 0.600369393825531, 0.11119653284549713]\n"
     ]
    },
    {
     "name": "stderr",
     "output_type": "stream",
     "text": [
      "127.0.0.1 - - [24/Mar/2024 21:17:44] \"GET /get_weights?date=2023-03-13 HTTP/1.1\" 200 -\n"
     ]
    },
    {
     "name": "stdout",
     "output_type": "stream",
     "text": [
      "Working with model: 2\n",
      "[0.06575420498847961, 0.0018812549533322453, 0.26423197984695435, 0.7052732110023499, -0.03714071214199066]\n"
     ]
    },
    {
     "name": "stderr",
     "output_type": "stream",
     "text": [
      "127.0.0.1 - - [24/Mar/2024 21:17:46] \"GET /get_weights?date=2023-03-20 HTTP/1.1\" 200 -\n"
     ]
    },
    {
     "name": "stdout",
     "output_type": "stream",
     "text": [
      "Working with model: 2\n",
      "[0.0350252203643322, 0.05388549715280533, -0.035962410271167755, 0.87004154920578, 0.07701010257005692]\n"
     ]
    },
    {
     "name": "stderr",
     "output_type": "stream",
     "text": [
      "127.0.0.1 - - [24/Mar/2024 21:17:48] \"GET /get_weights?date=2023-03-27 HTTP/1.1\" 200 -\n"
     ]
    },
    {
     "name": "stdout",
     "output_type": "stream",
     "text": [
      "Working with model: 2\n",
      "[-0.10913606733083725, 0.16807933151721954, 0.24717722833156586, 0.7482802271842957, -0.05440082773566246]\n"
     ]
    },
    {
     "name": "stderr",
     "output_type": "stream",
     "text": [
      "127.0.0.1 - - [24/Mar/2024 21:17:51] \"GET /get_weights?date=2023-04-03 HTTP/1.1\" 200 -\n"
     ]
    },
    {
     "name": "stdout",
     "output_type": "stream",
     "text": [
      "Working with model: 2\n",
      "[-0.09095681458711624, 0.43657997250556946, 0.12964490056037903, 0.3763555586338043, 0.1483762264251709]\n"
     ]
    },
    {
     "name": "stderr",
     "output_type": "stream",
     "text": [
      "127.0.0.1 - - [24/Mar/2024 21:17:53] \"GET /get_weights?date=2023-04-10 HTTP/1.1\" 200 -\n"
     ]
    },
    {
     "name": "stdout",
     "output_type": "stream",
     "text": [
      "Working with model: 2\n",
      "[0.07373681664466858, -0.02966720424592495, 0.0748073011636734, 0.7592055201530457, 0.12191753089427948]\n"
     ]
    },
    {
     "name": "stderr",
     "output_type": "stream",
     "text": [
      "127.0.0.1 - - [24/Mar/2024 21:17:55] \"GET /get_weights?date=2023-04-17 HTTP/1.1\" 200 -\n"
     ]
    },
    {
     "name": "stdout",
     "output_type": "stream",
     "text": [
      "Working with model: 2\n",
      "[-0.08570228517055511, 0.41797712445259094, 0.13110566139221191, 0.415277898311615, 0.12134159356355667]\n"
     ]
    },
    {
     "name": "stderr",
     "output_type": "stream",
     "text": [
      "127.0.0.1 - - [24/Mar/2024 21:17:57] \"GET /get_weights?date=2023-04-24 HTTP/1.1\" 200 -\n"
     ]
    },
    {
     "name": "stdout",
     "output_type": "stream",
     "text": [
      "Working with model: 2\n",
      "[-0.024717282503843307, 0.3062545955181122, 0.015297016128897667, 0.6763925552368164, 0.02677304483950138]\n"
     ]
    },
    {
     "name": "stderr",
     "output_type": "stream",
     "text": [
      "127.0.0.1 - - [24/Mar/2024 21:17:59] \"GET /get_weights?date=2023-05-01 HTTP/1.1\" 200 -\n"
     ]
    },
    {
     "name": "stdout",
     "output_type": "stream",
     "text": [
      "Working with model: 2\n",
      "[-0.14728279411792755, 0.47588884830474854, -0.1452634185552597, 0.7346634268760681, 0.08199389278888702]\n"
     ]
    },
    {
     "name": "stderr",
     "output_type": "stream",
     "text": [
      "127.0.0.1 - - [24/Mar/2024 21:18:02] \"GET /get_weights?date=2023-05-08 HTTP/1.1\" 200 -\n"
     ]
    },
    {
     "name": "stdout",
     "output_type": "stream",
     "text": [
      "Working with model: 2\n",
      "[-0.06911270320415497, 0.3344618082046509, -0.1536187380552292, 0.8385050892829895, 0.04976441338658333]\n"
     ]
    },
    {
     "name": "stderr",
     "output_type": "stream",
     "text": [
      "127.0.0.1 - - [24/Mar/2024 21:18:04] \"GET /get_weights?date=2023-05-15 HTTP/1.1\" 200 -\n"
     ]
    },
    {
     "name": "stdout",
     "output_type": "stream",
     "text": [
      "Working with model: 2\n",
      "[-0.1037955954670906, -0.13297483325004578, 0.17272773385047913, 0.9999857544898987, 0.0640568658709526]\n"
     ]
    },
    {
     "name": "stderr",
     "output_type": "stream",
     "text": [
      "127.0.0.1 - - [24/Mar/2024 21:18:06] \"GET /get_weights?date=2023-05-22 HTTP/1.1\" 200 -\n"
     ]
    },
    {
     "name": "stdout",
     "output_type": "stream",
     "text": [
      "Working with model: 2\n",
      "[0.16802042722702026, 0.09201511740684509, 0.12821446359157562, 0.6266931891441345, -0.01494324579834938]\n"
     ]
    },
    {
     "name": "stderr",
     "output_type": "stream",
     "text": [
      "127.0.0.1 - - [24/Mar/2024 21:18:08] \"GET /get_weights?date=2023-05-30 HTTP/1.1\" 200 -\n"
     ]
    },
    {
     "name": "stdout",
     "output_type": "stream",
     "text": [
      "Working with model: 2\n",
      "[-0.12233717739582062, 0.44839897751808167, 0.23009830713272095, 0.37917566299438477, 0.06466421484947205]\n"
     ]
    },
    {
     "name": "stderr",
     "output_type": "stream",
     "text": [
      "127.0.0.1 - - [24/Mar/2024 21:18:10] \"GET /get_weights?date=2023-06-05 HTTP/1.1\" 200 -\n"
     ]
    },
    {
     "name": "stdout",
     "output_type": "stream",
     "text": [
      "Working with model: 2\n",
      "[-0.1563849300146103, 0.2768675982952118, 0.1453446000814438, 0.591873288154602, 0.14229941368103027]\n"
     ]
    },
    {
     "name": "stderr",
     "output_type": "stream",
     "text": [
      "127.0.0.1 - - [24/Mar/2024 21:18:13] \"GET /get_weights?date=2023-06-12 HTTP/1.1\" 200 -\n"
     ]
    },
    {
     "name": "stdout",
     "output_type": "stream",
     "text": [
      "Working with model: 2\n",
      "[0.2785831689834595, 0.16023831069469452, -0.1822795569896698, 0.8660089373588562, -0.12255095690488815]\n"
     ]
    },
    {
     "name": "stderr",
     "output_type": "stream",
     "text": [
      "127.0.0.1 - - [24/Mar/2024 21:18:15] \"GET /get_weights?date=2023-06-19 HTTP/1.1\" 200 -\n"
     ]
    },
    {
     "name": "stdout",
     "output_type": "stream",
     "text": [
      "Working with model: 2\n",
      "[-0.012928247451782227, 0.2894233167171478, 0.0627933070063591, 0.8086467981338501, -0.14793533086776733]\n"
     ]
    },
    {
     "name": "stderr",
     "output_type": "stream",
     "text": [
      "127.0.0.1 - - [24/Mar/2024 21:18:17] \"GET /get_weights?date=2023-06-26 HTTP/1.1\" 200 -\n"
     ]
    },
    {
     "name": "stdout",
     "output_type": "stream",
     "text": [
      "Working with model: 2\n",
      "[0.030123814940452576, 0.5440780520439148, -0.08636213093996048, 0.551495373249054, -0.039335381239652634]\n"
     ]
    },
    {
     "name": "stderr",
     "output_type": "stream",
     "text": [
      "127.0.0.1 - - [24/Mar/2024 21:18:19] \"GET /get_weights?date=2023-07-03 HTTP/1.1\" 200 -\n"
     ]
    },
    {
     "name": "stdout",
     "output_type": "stream",
     "text": [
      "Working with model: 2\n",
      "[-0.27419790625572205, 0.5385947823524475, 0.014746672473847866, 0.4808735251426697, 0.23998288810253143]\n"
     ]
    },
    {
     "name": "stderr",
     "output_type": "stream",
     "text": [
      "127.0.0.1 - - [24/Mar/2024 21:18:21] \"GET /get_weights?date=2023-07-10 HTTP/1.1\" 200 -\n"
     ]
    },
    {
     "name": "stdout",
     "output_type": "stream",
     "text": [
      "Working with model: 2\n",
      "[0.054637618362903595, 0.3316389322280884, -0.03376995027065277, 0.6079126000404358, 0.03958076611161232]\n"
     ]
    },
    {
     "name": "stderr",
     "output_type": "stream",
     "text": [
      "127.0.0.1 - - [24/Mar/2024 21:18:24] \"GET /get_weights?date=2023-07-17 HTTP/1.1\" 200 -\n"
     ]
    },
    {
     "name": "stdout",
     "output_type": "stream",
     "text": [
      "Working with model: 2\n",
      "[-0.39363521337509155, 0.4915994107723236, -0.1521783024072647, 0.6958631277084351, 0.35835087299346924]\n"
     ]
    },
    {
     "name": "stderr",
     "output_type": "stream",
     "text": [
      "127.0.0.1 - - [24/Mar/2024 21:18:26] \"GET /get_weights?date=2023-07-24 HTTP/1.1\" 200 -\n"
     ]
    },
    {
     "name": "stdout",
     "output_type": "stream",
     "text": [
      "Working with model: 2\n",
      "[-0.007707227021455765, 0.23260124027729034, -0.08097756654024124, 0.7059794068336487, 0.15010403096675873]\n"
     ]
    },
    {
     "name": "stderr",
     "output_type": "stream",
     "text": [
      "127.0.0.1 - - [24/Mar/2024 21:18:28] \"GET /get_weights?date=2023-07-31 HTTP/1.1\" 200 -\n"
     ]
    },
    {
     "name": "stdout",
     "output_type": "stream",
     "text": [
      "Working with model: 2\n",
      "[-0.21120789647102356, 0.5606568455696106, -0.08778952062129974, 0.5804520845413208, 0.15788844227790833]\n"
     ]
    },
    {
     "name": "stderr",
     "output_type": "stream",
     "text": [
      "127.0.0.1 - - [24/Mar/2024 21:18:30] \"GET /get_weights?date=2023-08-07 HTTP/1.1\" 200 -\n"
     ]
    },
    {
     "name": "stdout",
     "output_type": "stream",
     "text": [
      "Working with model: 2\n",
      "[0.00955800898373127, 0.2602052092552185, -0.23149117827415466, 0.7784871459007263, 0.1832408457994461]\n"
     ]
    },
    {
     "name": "stderr",
     "output_type": "stream",
     "text": [
      "127.0.0.1 - - [24/Mar/2024 21:18:32] \"GET /get_weights?date=2023-08-14 HTTP/1.1\" 200 -\n"
     ]
    },
    {
     "name": "stdout",
     "output_type": "stream",
     "text": [
      "Working with model: 2\n",
      "[-0.03911231458187103, 0.053198494017124176, 0.21596607565879822, 0.5983085632324219, 0.17163917422294617]\n"
     ]
    },
    {
     "name": "stderr",
     "output_type": "stream",
     "text": [
      "127.0.0.1 - - [24/Mar/2024 21:18:35] \"GET /get_weights?date=2023-08-21 HTTP/1.1\" 200 -\n"
     ]
    },
    {
     "name": "stdout",
     "output_type": "stream",
     "text": [
      "Working with model: 2\n",
      "[0.11807116121053696, 0.13440807163715363, -0.0018936938140541315, 0.6551390886306763, 0.09427520632743835]\n"
     ]
    },
    {
     "name": "stderr",
     "output_type": "stream",
     "text": [
      "127.0.0.1 - - [24/Mar/2024 21:18:37] \"GET /get_weights?date=2023-08-28 HTTP/1.1\" 200 -\n"
     ]
    },
    {
     "name": "stdout",
     "output_type": "stream",
     "text": [
      "Working with model: 2\n",
      "[0.002503097290173173, 0.1696961373090744, 0.022505922242999077, 0.4450724124908447, 0.36022239923477173]\n"
     ]
    },
    {
     "name": "stderr",
     "output_type": "stream",
     "text": [
      "127.0.0.1 - - [24/Mar/2024 21:18:39] \"GET /get_weights?date=2023-09-05 HTTP/1.1\" 200 -\n"
     ]
    },
    {
     "name": "stdout",
     "output_type": "stream",
     "text": [
      "Working with model: 2\n",
      "[-0.040119193494319916, 0.1991727352142334, 0.15115216374397278, 0.6436982154846191, 0.04609598591923714]\n"
     ]
    },
    {
     "name": "stderr",
     "output_type": "stream",
     "text": [
      "127.0.0.1 - - [24/Mar/2024 21:18:41] \"GET /get_weights?date=2023-09-11 HTTP/1.1\" 200 -\n"
     ]
    },
    {
     "name": "stdout",
     "output_type": "stream",
     "text": [
      "Working with model: 2\n",
      "[0.2008805274963379, 0.08341073244810104, 0.40760135650634766, 0.30142584443092346, 0.006681445986032486]\n"
     ]
    },
    {
     "name": "stderr",
     "output_type": "stream",
     "text": [
      "127.0.0.1 - - [24/Mar/2024 21:18:43] \"GET /get_weights?date=2023-09-18 HTTP/1.1\" 200 -\n"
     ]
    },
    {
     "name": "stdout",
     "output_type": "stream",
     "text": [
      "Working with model: 2\n",
      "[-0.13090480864048004, 0.4857290983200073, -0.25292328000068665, 0.6246638298034668, 0.2734350562095642]\n"
     ]
    },
    {
     "name": "stderr",
     "output_type": "stream",
     "text": [
      "127.0.0.1 - - [24/Mar/2024 21:18:46] \"GET /get_weights?date=2023-09-25 HTTP/1.1\" 200 -\n"
     ]
    },
    {
     "name": "stdout",
     "output_type": "stream",
     "text": [
      "Working with model: 2\n",
      "[-0.23178504407405853, 0.3679983615875244, -0.0375862680375576, 0.7692850828170776, 0.1320878565311432]\n"
     ]
    },
    {
     "name": "stderr",
     "output_type": "stream",
     "text": [
      "127.0.0.1 - - [24/Mar/2024 21:18:48] \"GET /get_weights?date=2023-10-02 HTTP/1.1\" 200 -\n"
     ]
    },
    {
     "name": "stdout",
     "output_type": "stream",
     "text": [
      "Working with model: 2\n",
      "[0.06772591918706894, 0.17890222370624542, -0.004067828878760338, 0.6058179140090942, 0.1516217291355133]\n"
     ]
    },
    {
     "name": "stderr",
     "output_type": "stream",
     "text": [
      "127.0.0.1 - - [24/Mar/2024 21:18:50] \"GET /get_weights?date=2023-10-09 HTTP/1.1\" 200 -\n"
     ]
    },
    {
     "name": "stdout",
     "output_type": "stream",
     "text": [
      "Working with model: 2\n",
      "[-0.03754190355539322, 0.3905141055583954, 0.15263734757900238, 0.46120402216911316, 0.033186327666044235]\n"
     ]
    },
    {
     "name": "stderr",
     "output_type": "stream",
     "text": [
      "127.0.0.1 - - [24/Mar/2024 21:18:52] \"GET /get_weights?date=2023-10-16 HTTP/1.1\" 200 -\n"
     ]
    },
    {
     "name": "stdout",
     "output_type": "stream",
     "text": [
      "Working with model: 2\n",
      "[-0.07352706044912338, 0.30193009972572327, -0.024583276361227036, 0.8225131630897522, -0.026332994922995567]\n"
     ]
    },
    {
     "name": "stderr",
     "output_type": "stream",
     "text": [
      "127.0.0.1 - - [24/Mar/2024 21:18:54] \"GET /get_weights?date=2023-10-23 HTTP/1.1\" 200 -\n"
     ]
    },
    {
     "name": "stdout",
     "output_type": "stream",
     "text": [
      "Working with model: 2\n",
      "[-0.044483184814453125, 0.00039182030013762414, 0.16740602254867554, 0.8039644360542297, 0.07272078096866608]\n"
     ]
    },
    {
     "name": "stderr",
     "output_type": "stream",
     "text": [
      "127.0.0.1 - - [24/Mar/2024 21:18:57] \"GET /get_weights?date=2023-10-30 HTTP/1.1\" 200 -\n"
     ]
    },
    {
     "name": "stdout",
     "output_type": "stream",
     "text": [
      "Working with model: 2\n",
      "[-0.11670691519975662, 0.4813392758369446, 0.07753805071115494, 0.5792323350906372, -0.021402813494205475]\n"
     ]
    },
    {
     "name": "stderr",
     "output_type": "stream",
     "text": [
      "127.0.0.1 - - [24/Mar/2024 21:18:59] \"GET /get_weights?date=2023-11-06 HTTP/1.1\" 200 -\n"
     ]
    },
    {
     "name": "stdout",
     "output_type": "stream",
     "text": [
      "Working with model: 2\n",
      "[-0.12235254049301147, -0.01339893788099289, -0.06953664869070053, 0.9864611029624939, 0.21882693469524384]\n"
     ]
    },
    {
     "name": "stderr",
     "output_type": "stream",
     "text": [
      "127.0.0.1 - - [24/Mar/2024 21:19:01] \"GET /get_weights?date=2023-11-13 HTTP/1.1\" 200 -\n"
     ]
    },
    {
     "name": "stdout",
     "output_type": "stream",
     "text": [
      "Working with model: 2\n",
      "[0.2612963020801544, 0.16211989521980286, 0.13693733513355255, 0.5299443006515503, -0.09029793739318848]\n"
     ]
    },
    {
     "name": "stderr",
     "output_type": "stream",
     "text": [
      "127.0.0.1 - - [24/Mar/2024 21:19:03] \"GET /get_weights?date=2023-11-20 HTTP/1.1\" 200 -\n"
     ]
    },
    {
     "name": "stdout",
     "output_type": "stream",
     "text": [
      "Working with model: 2\n",
      "[-0.08583610504865646, 0.24236547946929932, 0.11517059803009033, 0.5869671106338501, 0.14133286476135254]\n"
     ]
    },
    {
     "name": "stderr",
     "output_type": "stream",
     "text": [
      "127.0.0.1 - - [24/Mar/2024 21:19:05] \"GET /get_weights?date=2023-11-27 HTTP/1.1\" 200 -\n"
     ]
    },
    {
     "name": "stdout",
     "output_type": "stream",
     "text": [
      "Working with model: 2\n",
      "[-0.07245595753192902, 0.6143446564674377, 0.06540947407484055, 0.5237219929695129, -0.13102035224437714]\n"
     ]
    },
    {
     "name": "stderr",
     "output_type": "stream",
     "text": [
      "127.0.0.1 - - [24/Mar/2024 21:19:08] \"GET /get_weights?date=2023-12-04 HTTP/1.1\" 200 -\n"
     ]
    },
    {
     "name": "stdout",
     "output_type": "stream",
     "text": [
      "Working with model: 2\n",
      "[-0.09374786913394928, 0.20376500487327576, 0.07681745290756226, 0.7930110096931458, 0.020154325291514397]\n"
     ]
    },
    {
     "name": "stderr",
     "output_type": "stream",
     "text": [
      "127.0.0.1 - - [24/Mar/2024 21:19:10] \"GET /get_weights?date=2023-12-11 HTTP/1.1\" 200 -\n"
     ]
    },
    {
     "name": "stdout",
     "output_type": "stream",
     "text": [
      "Working with model: 2\n",
      "[0.18092943727970123, 0.35742270946502686, -0.0837646946310997, 0.6254655718803406, -0.08005308359861374]\n"
     ]
    }
   ],
   "source": [
    "app.run(port=5000)"
   ]
  },
  {
   "cell_type": "code",
   "execution_count": 18,
   "id": "7a1839cc",
   "metadata": {},
   "outputs": [
    {
     "ename": "SyntaxError",
     "evalue": "invalid syntax (1388808595.py, line 1)",
     "output_type": "error",
     "traceback": [
      "\u001b[1;36m  Cell \u001b[1;32mIn[18], line 1\u001b[1;36m\u001b[0m\n\u001b[1;33m    update the\u001b[0m\n\u001b[1;37m           ^\u001b[0m\n\u001b[1;31mSyntaxError\u001b[0m\u001b[1;31m:\u001b[0m invalid syntax\n"
     ]
    }
   ],
   "source": [
    "update the "
   ]
  },
  {
   "cell_type": "code",
   "execution_count": null,
   "id": "3894efcb",
   "metadata": {},
   "outputs": [],
   "source": []
  }
 ],
 "metadata": {
  "kernelspec": {
   "display_name": "Python 3 (ipykernel)",
   "language": "python",
   "name": "python3"
  },
  "language_info": {
   "codemirror_mode": {
    "name": "ipython",
    "version": 3
   },
   "file_extension": ".py",
   "mimetype": "text/x-python",
   "name": "python",
   "nbconvert_exporter": "python",
   "pygments_lexer": "ipython3",
   "version": "3.8.17"
  }
 },
 "nbformat": 4,
 "nbformat_minor": 5
}
