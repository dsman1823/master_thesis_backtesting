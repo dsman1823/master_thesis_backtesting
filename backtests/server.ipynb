{
 "cells": [
  {
   "cell_type": "markdown",
   "id": "a388c7d0",
   "metadata": {},
   "source": [
    "# This notebook provides portfolio weights based on the historical data to the backtesting notebook"
   ]
  },
  {
   "cell_type": "code",
   "execution_count": null,
   "id": "04a4ce3b",
   "metadata": {},
   "outputs": [],
   "source": [
    "!pip uninstall deepdowmine -y\n",
    "!pip install git+https://github.com/dsman1823/deepdowmine.git"
   ]
  },
  {
   "cell_type": "code",
   "execution_count": 4,
   "id": "9b37e532",
   "metadata": {},
   "outputs": [],
   "source": [
    "import torch\n",
    "\n",
    "import pandas as pd\n",
    "import numpy as np\n",
    "\n",
    "from datetime import datetime \n",
    "from deepdowmine.nn import LinearNetMine, UpdNumericalMarkowitzWithShorting, UpdLinearNetMine, UpdDenseNet, UpdUpdLinearNetMine\n",
    "from deepdowmine.nn import DenseNetMinVar, ConvNetFullOpti, ConvNetMinVar, RnnNetMinVar, LstmNetMinVar, RnnNetFullOpti\n",
    "from deepdowmine.nn import LstmNetFullOpti, DenseNetFullOpti2, DenseNetMinVar2, RnnNetMinVar3, RnnNetFullOpti3, ConvNetMinVar2, ConvNetFullOpti2\n",
    "from dateutil.relativedelta import relativedelta\n",
    "from datetime import datetime, date"
   ]
  },
  {
   "cell_type": "code",
   "execution_count": 5,
   "id": "78fd3bba",
   "metadata": {},
   "outputs": [],
   "source": [
    "RETS_FILE_PATH = 'historical_returns.csv'\n",
    "\n",
    "\n",
    "\n",
    "loockback, gap, horizon = 50, 0, 5\n",
    "n_assets = 5\n",
    "loockback = 50\n"
   ]
  },
  {
   "cell_type": "markdown",
   "id": "6c88f90a",
   "metadata": {},
   "source": [
    "## Load NN from dict"
   ]
  },
  {
   "cell_type": "code",
   "execution_count": 6,
   "id": "36a91bae",
   "metadata": {},
   "outputs": [],
   "source": [
    "LINEAR_NET_OSHARPE_FILE_PATH = r'./NNs/linear_net_50x5_sharpe.pth' # LinearNetMine with ordinary Sharpe cost"
   ]
  },
  {
   "cell_type": "code",
   "execution_count": 7,
   "id": "7a634b07",
   "metadata": {},
   "outputs": [],
   "source": [
    "# years parameter reprsenets amount of years after the backtest stasrt: the model dowloaded is the the model trained \n",
    "# on the period (train_start, back_test_start + years) \n",
    "\n",
    "\n",
    "# LinearNetMine with ordinary sharpe cost function\n",
    "def load_linear_net_osharpe(years=0):\n",
    "    network = LinearNetMine(1, loockback, n_assets, p=0.5)\n",
    "    network.load_state_dict(torch.load(fr'./NNs/linear_net_50x5_sharpe_{years}.pth'))\n",
    "    print(fr'./NNs/linear_net_50x5_sharpe_{years}.pth')\n",
    "    return network.eval()\n",
    "    "
   ]
  },
  {
   "cell_type": "code",
   "execution_count": 8,
   "id": "fd38307d",
   "metadata": {},
   "outputs": [],
   "source": [
    "def load_dense_net(years=0):\n",
    "    network = UpdLinearNetMine(1, loockback, n_assets, p=0.5)\n",
    "    network.load_state_dict(torch.load(fr'./NNs/dense_{years}.pth'))\n",
    "    print(fr'dense_{years}.pth')\n",
    "    return network.eval()"
   ]
  },
  {
   "cell_type": "markdown",
   "id": "a0c6d5c7",
   "metadata": {},
   "source": [
    "## Core functions"
   ]
  },
  {
   "cell_type": "code",
   "execution_count": 9,
   "id": "9b0ed9ac",
   "metadata": {},
   "outputs": [],
   "source": [
    "def transform_rets_to_NN_input(rets):\n",
    "    # tranform (loockback, n_assets) df into (1, 1, loockback, n_assets)=(sample_size, n_channels, loockback, n_assets) tensor \n",
    "    returns_np = rets.to_numpy()\n",
    "\n",
    "    # Add the required dimensions: (n_samples, n_channels, lookback, n_assets)\n",
    "    returns_np_expanded = np.expand_dims(returns_np, axis=0)  # Adds n_samples dimension\n",
    "    returns_np_expanded = np.expand_dims(returns_np_expanded, axis=0)  \n",
    "    return torch.from_numpy(returns_np_expanded).float()\n",
    "\n",
    "def weights_from_NN(rets, network):\n",
    "    X = transform_rets_to_NN_input(rets)\n",
    "    return network(X).detach().numpy()[0]\n",
    "\n",
    "# method is a function, used for obtaining the returns\n",
    "def get_weights(method):\n",
    "    rets = pd.read_csv(RETS_FILE_PATH, index_col=0)\n",
    "    return method(rets)"
   ]
  },
  {
   "cell_type": "markdown",
   "id": "7d65c2c4",
   "metadata": {},
   "source": [
    "## NNs and related methods\n",
    "\n",
    "\n",
    "### NNs\n",
    "\n",
    "networks[i] method is trained on (train_start, backtest_start + i years) data interval"
   ]
  },
  {
   "cell_type": "code",
   "execution_count": 10,
   "id": "87ac6576",
   "metadata": {},
   "outputs": [
    {
     "ename": "FileNotFoundError",
     "evalue": "[Errno 2] No such file or directory: './NNs/linear_net_50x5_sharpe_0.pth'",
     "output_type": "error",
     "traceback": [
      "\u001b[1;31m---------------------------------------------------------------------------\u001b[0m",
      "\u001b[1;31mFileNotFoundError\u001b[0m                         Traceback (most recent call last)",
      "Cell \u001b[1;32mIn[10], line 3\u001b[0m\n\u001b[0;32m      1\u001b[0m years \u001b[38;5;241m=\u001b[39m [\u001b[38;5;241m0\u001b[39m, \u001b[38;5;241m1\u001b[39m, \u001b[38;5;241m2\u001b[39m]\u001b[38;5;66;03m#, 1, 2]\u001b[39;00m\n\u001b[1;32m----> 3\u001b[0m linear_osharpe_networks \u001b[38;5;241m=\u001b[39m [load_linear_net_osharpe(years\u001b[38;5;241m=\u001b[39mi) \u001b[38;5;28;01mfor\u001b[39;00m i \u001b[38;5;129;01min\u001b[39;00m years]\n\u001b[0;32m      4\u001b[0m dense_networks \u001b[38;5;241m=\u001b[39m [load_dense_net(years\u001b[38;5;241m=\u001b[39mi) \u001b[38;5;28;01mfor\u001b[39;00m i \u001b[38;5;129;01min\u001b[39;00m years]\n",
      "Cell \u001b[1;32mIn[10], line 3\u001b[0m, in \u001b[0;36m<listcomp>\u001b[1;34m(.0)\u001b[0m\n\u001b[0;32m      1\u001b[0m years \u001b[38;5;241m=\u001b[39m [\u001b[38;5;241m0\u001b[39m, \u001b[38;5;241m1\u001b[39m, \u001b[38;5;241m2\u001b[39m]\u001b[38;5;66;03m#, 1, 2]\u001b[39;00m\n\u001b[1;32m----> 3\u001b[0m linear_osharpe_networks \u001b[38;5;241m=\u001b[39m [\u001b[43mload_linear_net_osharpe\u001b[49m\u001b[43m(\u001b[49m\u001b[43myears\u001b[49m\u001b[38;5;241;43m=\u001b[39;49m\u001b[43mi\u001b[49m\u001b[43m)\u001b[49m \u001b[38;5;28;01mfor\u001b[39;00m i \u001b[38;5;129;01min\u001b[39;00m years]\n\u001b[0;32m      4\u001b[0m dense_networks \u001b[38;5;241m=\u001b[39m [load_dense_net(years\u001b[38;5;241m=\u001b[39mi) \u001b[38;5;28;01mfor\u001b[39;00m i \u001b[38;5;129;01min\u001b[39;00m years]\n",
      "Cell \u001b[1;32mIn[7], line 8\u001b[0m, in \u001b[0;36mload_linear_net_osharpe\u001b[1;34m(years)\u001b[0m\n\u001b[0;32m      6\u001b[0m \u001b[38;5;28;01mdef\u001b[39;00m \u001b[38;5;21mload_linear_net_osharpe\u001b[39m(years\u001b[38;5;241m=\u001b[39m\u001b[38;5;241m0\u001b[39m):\n\u001b[0;32m      7\u001b[0m     network \u001b[38;5;241m=\u001b[39m LinearNetMine(\u001b[38;5;241m1\u001b[39m, loockback, n_assets, p\u001b[38;5;241m=\u001b[39m\u001b[38;5;241m0.5\u001b[39m)\n\u001b[1;32m----> 8\u001b[0m     network\u001b[38;5;241m.\u001b[39mload_state_dict(\u001b[43mtorch\u001b[49m\u001b[38;5;241;43m.\u001b[39;49m\u001b[43mload\u001b[49m\u001b[43m(\u001b[49m\u001b[38;5;124;43mfr\u001b[39;49m\u001b[38;5;124;43m'\u001b[39;49m\u001b[38;5;124;43m./NNs/linear_net_50x5_sharpe_\u001b[39;49m\u001b[38;5;132;43;01m{\u001b[39;49;00m\u001b[43myears\u001b[49m\u001b[38;5;132;43;01m}\u001b[39;49;00m\u001b[38;5;124;43m.pth\u001b[39;49m\u001b[38;5;124;43m'\u001b[39;49m\u001b[43m)\u001b[49m)\n\u001b[0;32m      9\u001b[0m     \u001b[38;5;28mprint\u001b[39m(\u001b[38;5;124mfr\u001b[39m\u001b[38;5;124m'\u001b[39m\u001b[38;5;124m./NNs/linear_net_50x5_sharpe_\u001b[39m\u001b[38;5;132;01m{\u001b[39;00myears\u001b[38;5;132;01m}\u001b[39;00m\u001b[38;5;124m.pth\u001b[39m\u001b[38;5;124m'\u001b[39m)\n\u001b[0;32m     10\u001b[0m     \u001b[38;5;28;01mreturn\u001b[39;00m network\u001b[38;5;241m.\u001b[39meval()\n",
      "File \u001b[1;32m~\\miniconda3\\envs\\ddow\\lib\\site-packages\\torch\\serialization.py:791\u001b[0m, in \u001b[0;36mload\u001b[1;34m(f, map_location, pickle_module, weights_only, **pickle_load_args)\u001b[0m\n\u001b[0;32m    788\u001b[0m \u001b[38;5;28;01mif\u001b[39;00m \u001b[38;5;124m'\u001b[39m\u001b[38;5;124mencoding\u001b[39m\u001b[38;5;124m'\u001b[39m \u001b[38;5;129;01mnot\u001b[39;00m \u001b[38;5;129;01min\u001b[39;00m pickle_load_args\u001b[38;5;241m.\u001b[39mkeys():\n\u001b[0;32m    789\u001b[0m     pickle_load_args[\u001b[38;5;124m'\u001b[39m\u001b[38;5;124mencoding\u001b[39m\u001b[38;5;124m'\u001b[39m] \u001b[38;5;241m=\u001b[39m \u001b[38;5;124m'\u001b[39m\u001b[38;5;124mutf-8\u001b[39m\u001b[38;5;124m'\u001b[39m\n\u001b[1;32m--> 791\u001b[0m \u001b[38;5;28;01mwith\u001b[39;00m \u001b[43m_open_file_like\u001b[49m\u001b[43m(\u001b[49m\u001b[43mf\u001b[49m\u001b[43m,\u001b[49m\u001b[43m \u001b[49m\u001b[38;5;124;43m'\u001b[39;49m\u001b[38;5;124;43mrb\u001b[39;49m\u001b[38;5;124;43m'\u001b[39;49m\u001b[43m)\u001b[49m \u001b[38;5;28;01mas\u001b[39;00m opened_file:\n\u001b[0;32m    792\u001b[0m     \u001b[38;5;28;01mif\u001b[39;00m _is_zipfile(opened_file):\n\u001b[0;32m    793\u001b[0m         \u001b[38;5;66;03m# The zipfile reader is going to advance the current file position.\u001b[39;00m\n\u001b[0;32m    794\u001b[0m         \u001b[38;5;66;03m# If we want to actually tail call to torch.jit.load, we need to\u001b[39;00m\n\u001b[0;32m    795\u001b[0m         \u001b[38;5;66;03m# reset back to the original position.\u001b[39;00m\n\u001b[0;32m    796\u001b[0m         orig_position \u001b[38;5;241m=\u001b[39m opened_file\u001b[38;5;241m.\u001b[39mtell()\n",
      "File \u001b[1;32m~\\miniconda3\\envs\\ddow\\lib\\site-packages\\torch\\serialization.py:271\u001b[0m, in \u001b[0;36m_open_file_like\u001b[1;34m(name_or_buffer, mode)\u001b[0m\n\u001b[0;32m    269\u001b[0m \u001b[38;5;28;01mdef\u001b[39;00m \u001b[38;5;21m_open_file_like\u001b[39m(name_or_buffer, mode):\n\u001b[0;32m    270\u001b[0m     \u001b[38;5;28;01mif\u001b[39;00m _is_path(name_or_buffer):\n\u001b[1;32m--> 271\u001b[0m         \u001b[38;5;28;01mreturn\u001b[39;00m \u001b[43m_open_file\u001b[49m\u001b[43m(\u001b[49m\u001b[43mname_or_buffer\u001b[49m\u001b[43m,\u001b[49m\u001b[43m \u001b[49m\u001b[43mmode\u001b[49m\u001b[43m)\u001b[49m\n\u001b[0;32m    272\u001b[0m     \u001b[38;5;28;01melse\u001b[39;00m:\n\u001b[0;32m    273\u001b[0m         \u001b[38;5;28;01mif\u001b[39;00m \u001b[38;5;124m'\u001b[39m\u001b[38;5;124mw\u001b[39m\u001b[38;5;124m'\u001b[39m \u001b[38;5;129;01min\u001b[39;00m mode:\n",
      "File \u001b[1;32m~\\miniconda3\\envs\\ddow\\lib\\site-packages\\torch\\serialization.py:252\u001b[0m, in \u001b[0;36m_open_file.__init__\u001b[1;34m(self, name, mode)\u001b[0m\n\u001b[0;32m    251\u001b[0m \u001b[38;5;28;01mdef\u001b[39;00m \u001b[38;5;21m__init__\u001b[39m(\u001b[38;5;28mself\u001b[39m, name, mode):\n\u001b[1;32m--> 252\u001b[0m     \u001b[38;5;28msuper\u001b[39m()\u001b[38;5;241m.\u001b[39m\u001b[38;5;21m__init__\u001b[39m(\u001b[38;5;28;43mopen\u001b[39;49m\u001b[43m(\u001b[49m\u001b[43mname\u001b[49m\u001b[43m,\u001b[49m\u001b[43m \u001b[49m\u001b[43mmode\u001b[49m\u001b[43m)\u001b[49m)\n",
      "\u001b[1;31mFileNotFoundError\u001b[0m: [Errno 2] No such file or directory: './NNs/linear_net_50x5_sharpe_0.pth'"
     ]
    }
   ],
   "source": [
    "years = [0, 1, 2]#, 1, 2]\n",
    "\n",
    "linear_osharpe_networks = [load_linear_net_osharpe(years=i) for i in years]\n",
    "dense_networks = [load_dense_net(years=i) for i in years]"
   ]
  },
  {
   "cell_type": "markdown",
   "id": "db5b112d",
   "metadata": {},
   "source": [
    "### methods"
   ]
  },
  {
   "cell_type": "code",
   "execution_count": null,
   "id": "728b35c5",
   "metadata": {},
   "outputs": [],
   "source": [
    "dense_networks[1].linear0.bias[0:3]"
   ]
  },
  {
   "cell_type": "code",
   "execution_count": null,
   "id": "35739537",
   "metadata": {},
   "outputs": [],
   "source": [
    "dense_networks[2].linear0.bias[0:3]"
   ]
  },
  {
   "cell_type": "code",
   "execution_count": null,
   "id": "28670905",
   "metadata": {},
   "outputs": [],
   "source": [
    "# note the format of lambda \n",
    "linear_osharpe_methods = [lambda r, i=i: weights_from_NN(r, linear_osharpe_networks[i]) for i in years] \n",
    "dense_methods = [lambda r, i=i: weights_from_NN(r, dense_networks[i]) for i in years] \n"
   ]
  },
  {
   "cell_type": "code",
   "execution_count": null,
   "id": "7045f79e",
   "metadata": {},
   "outputs": [],
   "source": [
    "[get_weights(dense_methods[i]) for i in years]"
   ]
  },
  {
   "cell_type": "markdown",
   "id": "e7fae4ce",
   "metadata": {},
   "source": [
    "# Server"
   ]
  },
  {
   "cell_type": "code",
   "execution_count": 13,
   "id": "be630bfa",
   "metadata": {},
   "outputs": [],
   "source": [
    "\n",
    "\n",
    "RETRAINING_DATE1 = date(2018, 12, 15)\n",
    "RETRAINING_DATE2 = date(2019, 12, 15)\n",
    "\n",
    "# RETRAINING_DATE1 = date(2021, 12, 15)\n",
    "# RETRAINING_DATE2 = date(2022, 12, 15)"
   ]
  },
  {
   "cell_type": "code",
   "execution_count": 14,
   "id": "62cc3389",
   "metadata": {},
   "outputs": [],
   "source": [
    "from flask import Flask, request, jsonify\n",
    "from flask_cors import CORS \n",
    "\n",
    "import numpy as np\n",
    "\n",
    "app = Flask(__name__)\n",
    "CORS(app)  # Enable CORS for your Flask app\n",
    "\n",
    "markers = {}\n",
    "markers['net_initialized'] = False\n",
    "\n",
    "@app.route('/get_weights', methods=['GET'])\n",
    "def get_request():\n",
    "    # Extract date string from the query parameters\n",
    "    date_str = request.args.get('date', None)\n",
    "    \n",
    "    # Simple validation to check if date is provided\n",
    "    if not date_str:\n",
    "        return jsonify({\"error\": \"Missing date parameter\"}), 400\n",
    "\n",
    "    # Try to convert the date string to a datetime object\n",
    "    try:\n",
    "        # Note that now we're only parsing the date, not the time\n",
    "        date = datetime.strptime(date_str, \"%Y-%m-%d\").date()\n",
    "    except ValueError:\n",
    "        # If there is an error in parsing the date, return an error message\n",
    "        return jsonify({\"error\": \"Invalid date format. Please use YYYY-MM-DD format.\"}), 400\n",
    "    \n",
    "    years_plus = 0\n",
    "    network = RnnNetMinVar3(5,  .15, None, 1)\n",
    "    network.load_state_dict(torch.load(fr'./NNs/trained_on_old_data/rnn/min_var_0.pth'))\n",
    "\n",
    "    \n",
    "    if date < RETRAINING_DATE1:\n",
    "        print(0)\n",
    "    if RETRAINING_DATE1 < date < RETRAINING_DATE2:\n",
    "        print('1')\n",
    "        network.load_state_dict(torch.load(fr'./NNs/trained_on_old_data/rnn/min_var_1.pth'))\n",
    "    if RETRAINING_DATE2 < date:\n",
    "        print('2')\n",
    "        network.load_state_dict(torch.load(fr'./NNs/trained_on_old_data/rnn/min_var_2.pth'))\n",
    "\n",
    "    rets = pd.read_csv(RETS_FILE_PATH, index_col=0)\n",
    "    X = transform_rets_to_NN_input(rets)\n",
    "    weights = network.eval()(X).detach().numpy()[0].tolist()\n",
    "    \n",
    "        \n",
    "    #weights = weights_from_NN(rets, linear_osharpe_networks[0]).tolist()\n",
    "    #print(weights)\n",
    "    # Return the vector as JSON, using the string representation of the date for simplicity\n",
    "    print(date)\n",
    "    print(weights)\n",
    "    return jsonify({'weights': weights})\n"
   ]
  },
  {
   "cell_type": "code",
   "execution_count": null,
   "id": "ed150707",
   "metadata": {},
   "outputs": [
    {
     "name": "stdout",
     "output_type": "stream",
     "text": [
      " * Serving Flask app '__main__'\n",
      " * Debug mode: off\n"
     ]
    },
    {
     "name": "stderr",
     "output_type": "stream",
     "text": [
      "WARNING: This is a development server. Do not use it in a production deployment. Use a production WSGI server instead.\n",
      " * Running on http://127.0.0.1:5000\n",
      "Press CTRL+C to quit\n",
      "127.0.0.1 - - [13/Apr/2024 20:39:29] \"GET /get_weights?date=2017-12-18 HTTP/1.1\" 200 -\n"
     ]
    },
    {
     "name": "stdout",
     "output_type": "stream",
     "text": [
      "0\n",
      "2017-12-18\n",
      "[-0.07895562052726746, 0.610747754573822, -0.42514437437057495, 0.352143257856369, 0.5412089824676514]\n"
     ]
    },
    {
     "name": "stderr",
     "output_type": "stream",
     "text": [
      "127.0.0.1 - - [13/Apr/2024 20:39:32] \"GET /get_weights?date=2017-12-26 HTTP/1.1\" 200 -\n"
     ]
    },
    {
     "name": "stdout",
     "output_type": "stream",
     "text": [
      "0\n",
      "2017-12-26\n",
      "[0.1999300867319107, 0.029027244076132774, -0.446811318397522, 0.6569528579711914, 0.5609009265899658]\n"
     ]
    },
    {
     "name": "stderr",
     "output_type": "stream",
     "text": [
      "127.0.0.1 - - [13/Apr/2024 20:39:34] \"GET /get_weights?date=2018-01-02 HTTP/1.1\" 200 -\n"
     ]
    },
    {
     "name": "stdout",
     "output_type": "stream",
     "text": [
      "0\n",
      "2018-01-02\n",
      "[-0.2609204649925232, 1.000011682510376, 0.018998660147190094, 0.25231871008872986, -0.010408598929643631]\n"
     ]
    },
    {
     "name": "stderr",
     "output_type": "stream",
     "text": [
      "127.0.0.1 - - [13/Apr/2024 20:39:37] \"GET /get_weights?date=2018-01-08 HTTP/1.1\" 200 -\n"
     ]
    },
    {
     "name": "stdout",
     "output_type": "stream",
     "text": [
      "0\n",
      "2018-01-08\n",
      "[-0.37569138407707214, 0.9221847653388977, -0.3145352303981781, 0.5633494853973389, 0.20469236373901367]\n"
     ]
    },
    {
     "name": "stderr",
     "output_type": "stream",
     "text": [
      "127.0.0.1 - - [13/Apr/2024 20:39:39] \"GET /get_weights?date=2018-01-16 HTTP/1.1\" 200 -\n"
     ]
    },
    {
     "name": "stdout",
     "output_type": "stream",
     "text": [
      "0\n",
      "2018-01-16\n",
      "[0.08286765217781067, 0.6019934415817261, -0.06511683017015457, 0.4842383563518524, -0.10398279130458832]\n"
     ]
    },
    {
     "name": "stderr",
     "output_type": "stream",
     "text": [
      "127.0.0.1 - - [13/Apr/2024 20:39:42] \"GET /get_weights?date=2018-01-22 HTTP/1.1\" 200 -\n"
     ]
    },
    {
     "name": "stdout",
     "output_type": "stream",
     "text": [
      "0\n",
      "2018-01-22\n",
      "[-0.5916204452514648, 0.09500295668840408, -0.2590821385383606, 0.8835954666137695, 0.8721041083335876]\n"
     ]
    },
    {
     "name": "stderr",
     "output_type": "stream",
     "text": [
      "127.0.0.1 - - [13/Apr/2024 20:39:44] \"GET /get_weights?date=2018-01-29 HTTP/1.1\" 200 -\n"
     ]
    },
    {
     "name": "stdout",
     "output_type": "stream",
     "text": [
      "0\n",
      "2018-01-29\n",
      "[-0.2745298743247986, 0.30626749992370605, 0.3166545331478119, 0.2936939299106598, 0.35791370272636414]\n"
     ]
    },
    {
     "name": "stderr",
     "output_type": "stream",
     "text": [
      "127.0.0.1 - - [13/Apr/2024 20:39:46] \"GET /get_weights?date=2018-02-05 HTTP/1.1\" 200 -\n"
     ]
    },
    {
     "name": "stdout",
     "output_type": "stream",
     "text": [
      "0\n",
      "2018-02-05\n",
      "[0.04099847376346588, 0.33555465936660767, 0.2088766247034073, 0.35037505626678467, 0.06419496983289719]\n"
     ]
    },
    {
     "name": "stderr",
     "output_type": "stream",
     "text": [
      "127.0.0.1 - - [13/Apr/2024 20:39:49] \"GET /get_weights?date=2018-02-12 HTTP/1.1\" 200 -\n"
     ]
    },
    {
     "name": "stdout",
     "output_type": "stream",
     "text": [
      "0\n",
      "2018-02-12\n",
      "[-0.0016976884799078107, 0.4080347716808319, 0.2941553294658661, 0.11434678733348846, 0.18516042828559875]\n"
     ]
    },
    {
     "name": "stderr",
     "output_type": "stream",
     "text": [
      "127.0.0.1 - - [13/Apr/2024 20:39:51] \"GET /get_weights?date=2018-02-20 HTTP/1.1\" 200 -\n"
     ]
    },
    {
     "name": "stdout",
     "output_type": "stream",
     "text": [
      "0\n",
      "2018-02-20\n",
      "[0.08496421575546265, 0.4715862572193146, -0.07819809764623642, 0.4007359445095062, 0.12091166526079178]\n"
     ]
    },
    {
     "name": "stderr",
     "output_type": "stream",
     "text": [
      "127.0.0.1 - - [13/Apr/2024 20:39:54] \"GET /get_weights?date=2018-02-26 HTTP/1.1\" 200 -\n"
     ]
    },
    {
     "name": "stdout",
     "output_type": "stream",
     "text": [
      "0\n",
      "2018-02-26\n",
      "[0.03142808750271797, 0.3328990936279297, 0.05139121785759926, 0.373216837644577, 0.211064413189888]\n"
     ]
    },
    {
     "name": "stderr",
     "output_type": "stream",
     "text": [
      "127.0.0.1 - - [13/Apr/2024 20:39:57] \"GET /get_weights?date=2018-03-05 HTTP/1.1\" 200 -\n"
     ]
    },
    {
     "name": "stdout",
     "output_type": "stream",
     "text": [
      "0\n",
      "2018-03-05\n",
      "[0.5477636456489563, 0.2150970846414566, -0.19571448862552643, 0.03247320279479027, 0.40038052201271057]\n"
     ]
    },
    {
     "name": "stderr",
     "output_type": "stream",
     "text": [
      "127.0.0.1 - - [13/Apr/2024 20:39:59] \"GET /get_weights?date=2018-03-12 HTTP/1.1\" 200 -\n"
     ]
    },
    {
     "name": "stdout",
     "output_type": "stream",
     "text": [
      "0\n",
      "2018-03-12\n",
      "[-0.22141362726688385, 0.07069933414459229, 0.11136138439178467, 0.7152935862541199, 0.3240593373775482]\n"
     ]
    },
    {
     "name": "stderr",
     "output_type": "stream",
     "text": [
      "127.0.0.1 - - [13/Apr/2024 20:40:02] \"GET /get_weights?date=2018-03-19 HTTP/1.1\" 200 -\n"
     ]
    },
    {
     "name": "stdout",
     "output_type": "stream",
     "text": [
      "0\n",
      "2018-03-19\n",
      "[0.28820478916168213, 0.5838276147842407, -0.3015768229961395, 0.3555731773376465, 0.07397112995386124]\n"
     ]
    },
    {
     "name": "stderr",
     "output_type": "stream",
     "text": [
      "127.0.0.1 - - [13/Apr/2024 20:40:04] \"GET /get_weights?date=2018-03-26 HTTP/1.1\" 200 -\n"
     ]
    },
    {
     "name": "stdout",
     "output_type": "stream",
     "text": [
      "0\n",
      "2018-03-26\n",
      "[0.12120579183101654, -0.007363458629697561, 0.5861725807189941, 0.33084315061569214, -0.030858105048537254]\n"
     ]
    },
    {
     "name": "stderr",
     "output_type": "stream",
     "text": [
      "127.0.0.1 - - [13/Apr/2024 20:40:06] \"GET /get_weights?date=2018-04-02 HTTP/1.1\" 200 -\n"
     ]
    },
    {
     "name": "stdout",
     "output_type": "stream",
     "text": [
      "0\n",
      "2018-04-02\n",
      "[-0.1300889104604721, 0.3285849392414093, 0.3959859609603882, 0.17084313929080963, 0.2346748262643814]\n"
     ]
    },
    {
     "name": "stderr",
     "output_type": "stream",
     "text": [
      "127.0.0.1 - - [13/Apr/2024 20:40:09] \"GET /get_weights?date=2018-04-09 HTTP/1.1\" 200 -\n"
     ]
    },
    {
     "name": "stdout",
     "output_type": "stream",
     "text": [
      "0\n",
      "2018-04-09\n",
      "[-0.0932411476969719, 0.760297954082489, 0.05199761688709259, 0.050560157746076584, 0.2303854078054428]\n"
     ]
    },
    {
     "name": "stderr",
     "output_type": "stream",
     "text": [
      "127.0.0.1 - - [13/Apr/2024 20:40:11] \"GET /get_weights?date=2018-04-16 HTTP/1.1\" 200 -\n"
     ]
    },
    {
     "name": "stdout",
     "output_type": "stream",
     "text": [
      "0\n",
      "2018-04-16\n",
      "[-0.1635778546333313, 0.4934837520122528, 0.19259510934352875, 0.44357171654701233, 0.03392725810408592]\n"
     ]
    },
    {
     "name": "stderr",
     "output_type": "stream",
     "text": [
      "127.0.0.1 - - [13/Apr/2024 20:40:13] \"GET /get_weights?date=2018-04-23 HTTP/1.1\" 200 -\n"
     ]
    },
    {
     "name": "stdout",
     "output_type": "stream",
     "text": [
      "0\n",
      "2018-04-23\n",
      "[-0.3136832118034363, 0.2915228605270386, 0.287771612405777, 0.3802533745765686, 0.3541352152824402]\n"
     ]
    },
    {
     "name": "stderr",
     "output_type": "stream",
     "text": [
      "127.0.0.1 - - [13/Apr/2024 20:40:15] \"GET /get_weights?date=2018-04-30 HTTP/1.1\" 200 -\n"
     ]
    },
    {
     "name": "stdout",
     "output_type": "stream",
     "text": [
      "0\n",
      "2018-04-30\n",
      "[-0.260390043258667, 0.2976034879684448, 0.7104759812355042, 0.35529825091362, -0.10298772901296616]\n"
     ]
    },
    {
     "name": "stderr",
     "output_type": "stream",
     "text": [
      "127.0.0.1 - - [13/Apr/2024 20:40:17] \"GET /get_weights?date=2018-05-07 HTTP/1.1\" 200 -\n"
     ]
    },
    {
     "name": "stdout",
     "output_type": "stream",
     "text": [
      "0\n",
      "2018-05-07\n",
      "[0.03553290292620659, 1.0000258684158325, -0.8687635064125061, 0.6354106664657593, 0.19779406487941742]\n"
     ]
    },
    {
     "name": "stderr",
     "output_type": "stream",
     "text": [
      "127.0.0.1 - - [13/Apr/2024 20:40:20] \"GET /get_weights?date=2018-05-14 HTTP/1.1\" 200 -\n"
     ]
    },
    {
     "name": "stdout",
     "output_type": "stream",
     "text": [
      "0\n",
      "2018-05-14\n",
      "[-0.20673790574073792, 1.0000170469284058, -0.7989004850387573, 0.6740961074829102, 0.33152520656585693]\n"
     ]
    },
    {
     "name": "stderr",
     "output_type": "stream",
     "text": [
      "127.0.0.1 - - [13/Apr/2024 20:40:22] \"GET /get_weights?date=2018-05-21 HTTP/1.1\" 200 -\n"
     ]
    },
    {
     "name": "stdout",
     "output_type": "stream",
     "text": [
      "0\n",
      "2018-05-21\n",
      "[-0.01128611620515585, -0.060010023415088654, 0.3550861179828644, 0.9999902844429016, -0.2837802469730377]\n"
     ]
    },
    {
     "name": "stderr",
     "output_type": "stream",
     "text": [
      "127.0.0.1 - - [13/Apr/2024 20:40:24] \"GET /get_weights?date=2018-05-29 HTTP/1.1\" 200 -\n"
     ]
    },
    {
     "name": "stdout",
     "output_type": "stream",
     "text": [
      "0\n",
      "2018-05-29\n",
      "[0.1681436151266098, 0.8408030867576599, 0.07326719909906387, 0.09412900358438492, -0.17634297907352448]\n"
     ]
    },
    {
     "name": "stderr",
     "output_type": "stream",
     "text": [
      "127.0.0.1 - - [13/Apr/2024 20:40:26] \"GET /get_weights?date=2018-06-04 HTTP/1.1\" 200 -\n"
     ]
    },
    {
     "name": "stdout",
     "output_type": "stream",
     "text": [
      "0\n",
      "2018-06-04\n",
      "[-0.32507196068763733, 1.000051736831665, 0.06427603960037231, 0.2437129020690918, 0.017030879855155945]\n"
     ]
    },
    {
     "name": "stderr",
     "output_type": "stream",
     "text": [
      "127.0.0.1 - - [13/Apr/2024 20:40:28] \"GET /get_weights?date=2018-06-11 HTTP/1.1\" 200 -\n"
     ]
    },
    {
     "name": "stdout",
     "output_type": "stream",
     "text": [
      "0\n",
      "2018-06-11\n",
      "[-0.4585707187652588, 1.0, 0.1869678795337677, 0.369341105222702, -0.09773830324411392]\n"
     ]
    },
    {
     "name": "stderr",
     "output_type": "stream",
     "text": [
      "127.0.0.1 - - [13/Apr/2024 20:40:31] \"GET /get_weights?date=2018-06-18 HTTP/1.1\" 200 -\n"
     ]
    },
    {
     "name": "stdout",
     "output_type": "stream",
     "text": [
      "0\n",
      "2018-06-18\n",
      "[-0.3618084192276001, 0.4060606360435486, 0.34886085987091064, 0.6035738587379456, 0.0033130859956145287]\n"
     ]
    },
    {
     "name": "stderr",
     "output_type": "stream",
     "text": [
      "127.0.0.1 - - [13/Apr/2024 20:40:33] \"GET /get_weights?date=2018-06-25 HTTP/1.1\" 200 -\n"
     ]
    },
    {
     "name": "stdout",
     "output_type": "stream",
     "text": [
      "0\n",
      "2018-06-25\n",
      "[-0.3814994692802429, 0.7010738849639893, 0.3033946454524994, 0.33339494466781616, 0.04363594949245453]\n"
     ]
    },
    {
     "name": "stderr",
     "output_type": "stream",
     "text": [
      "127.0.0.1 - - [13/Apr/2024 20:40:36] \"GET /get_weights?date=2018-07-02 HTTP/1.1\" 200 -\n"
     ]
    },
    {
     "name": "stdout",
     "output_type": "stream",
     "text": [
      "0\n",
      "2018-07-02\n",
      "[-0.015623084269464016, 0.6649860143661499, -0.18033665418624878, 0.7918739914894104, -0.2609003782272339]\n"
     ]
    },
    {
     "name": "stderr",
     "output_type": "stream",
     "text": [
      "127.0.0.1 - - [13/Apr/2024 20:40:38] \"GET /get_weights?date=2018-07-09 HTTP/1.1\" 200 -\n"
     ]
    },
    {
     "name": "stdout",
     "output_type": "stream",
     "text": [
      "0\n",
      "2018-07-09\n",
      "[-0.00994629692286253, 1.0000132322311401, -0.021916693076491356, 0.5498005747795105, -0.5179508924484253]\n"
     ]
    },
    {
     "name": "stderr",
     "output_type": "stream",
     "text": [
      "127.0.0.1 - - [13/Apr/2024 20:40:41] \"GET /get_weights?date=2018-07-16 HTTP/1.1\" 200 -\n"
     ]
    },
    {
     "name": "stdout",
     "output_type": "stream",
     "text": [
      "0\n",
      "2018-07-16\n",
      "[0.27815163135528564, 1.0000035762786865, -0.6420594453811646, 0.2760603427886963, 0.08784372359514236]\n"
     ]
    },
    {
     "name": "stderr",
     "output_type": "stream",
     "text": [
      "127.0.0.1 - - [13/Apr/2024 20:40:43] \"GET /get_weights?date=2018-07-23 HTTP/1.1\" 200 -\n"
     ]
    },
    {
     "name": "stdout",
     "output_type": "stream",
     "text": [
      "0\n",
      "2018-07-23\n",
      "[-0.19793342053890228, 0.26128774881362915, 0.05319064483046532, 0.723048746585846, 0.16040614247322083]\n"
     ]
    },
    {
     "name": "stderr",
     "output_type": "stream",
     "text": [
      "127.0.0.1 - - [13/Apr/2024 20:40:45] \"GET /get_weights?date=2018-07-30 HTTP/1.1\" 200 -\n"
     ]
    },
    {
     "name": "stdout",
     "output_type": "stream",
     "text": [
      "0\n",
      "2018-07-30\n",
      "[-0.7109116315841675, 0.9999940991401672, 0.4501805603504181, 0.742209792137146, -0.48147284984588623]\n"
     ]
    },
    {
     "name": "stderr",
     "output_type": "stream",
     "text": [
      "127.0.0.1 - - [13/Apr/2024 20:40:47] \"GET /get_weights?date=2018-08-06 HTTP/1.1\" 200 -\n"
     ]
    },
    {
     "name": "stdout",
     "output_type": "stream",
     "text": [
      "0\n",
      "2018-08-06\n",
      "[-0.5262675285339355, 0.9999887943267822, 0.0797823965549469, 0.5795052647590637, -0.1330089271068573]\n"
     ]
    },
    {
     "name": "stderr",
     "output_type": "stream",
     "text": [
      "127.0.0.1 - - [13/Apr/2024 20:40:49] \"GET /get_weights?date=2018-08-13 HTTP/1.1\" 200 -\n"
     ]
    },
    {
     "name": "stdout",
     "output_type": "stream",
     "text": [
      "0\n",
      "2018-08-13\n",
      "[0.14661508798599243, 0.1903608739376068, 0.2523621618747711, 0.799909770488739, -0.38924792408943176]\n"
     ]
    },
    {
     "name": "stderr",
     "output_type": "stream",
     "text": [
      "127.0.0.1 - - [13/Apr/2024 20:40:52] \"GET /get_weights?date=2018-08-20 HTTP/1.1\" 200 -\n"
     ]
    },
    {
     "name": "stdout",
     "output_type": "stream",
     "text": [
      "0\n",
      "2018-08-20\n",
      "[-0.05162302032113075, 0.672983705997467, -0.5125905871391296, 0.7176210284233093, 0.17360886931419373]\n"
     ]
    },
    {
     "name": "stderr",
     "output_type": "stream",
     "text": [
      "127.0.0.1 - - [13/Apr/2024 20:40:54] \"GET /get_weights?date=2018-08-27 HTTP/1.1\" 200 -\n"
     ]
    },
    {
     "name": "stdout",
     "output_type": "stream",
     "text": [
      "0\n",
      "2018-08-27\n",
      "[-0.4805479049682617, 0.8620203137397766, -0.307300329208374, 0.49821937084198, 0.42760854959487915]\n"
     ]
    },
    {
     "name": "stderr",
     "output_type": "stream",
     "text": [
      "127.0.0.1 - - [13/Apr/2024 20:40:56] \"GET /get_weights?date=2018-09-04 HTTP/1.1\" 200 -\n"
     ]
    },
    {
     "name": "stdout",
     "output_type": "stream",
     "text": [
      "0\n",
      "2018-09-04\n",
      "[-0.3792002499103546, 0.5886960625648499, 0.2739318311214447, 0.3707043528556824, 0.14586792886257172]\n"
     ]
    },
    {
     "name": "stderr",
     "output_type": "stream",
     "text": [
      "127.0.0.1 - - [13/Apr/2024 20:40:59] \"GET /get_weights?date=2018-09-10 HTTP/1.1\" 200 -\n"
     ]
    },
    {
     "name": "stdout",
     "output_type": "stream",
     "text": [
      "0\n",
      "2018-09-10\n",
      "[0.18353235721588135, 0.5979577898979187, -0.34163400530815125, 0.522930920124054, 0.037212904542684555]\n"
     ]
    },
    {
     "name": "stderr",
     "output_type": "stream",
     "text": [
      "127.0.0.1 - - [13/Apr/2024 20:41:01] \"GET /get_weights?date=2018-09-17 HTTP/1.1\" 200 -\n"
     ]
    },
    {
     "name": "stdout",
     "output_type": "stream",
     "text": [
      "0\n",
      "2018-09-17\n",
      "[0.3000442385673523, 0.12345977127552032, -0.066422238945961, -0.06264831870794296, 0.7055662274360657]\n"
     ]
    },
    {
     "name": "stderr",
     "output_type": "stream",
     "text": [
      "127.0.0.1 - - [13/Apr/2024 20:41:03] \"GET /get_weights?date=2018-09-24 HTTP/1.1\" 200 -\n"
     ]
    },
    {
     "name": "stdout",
     "output_type": "stream",
     "text": [
      "0\n",
      "2018-09-24\n",
      "[-0.4472387731075287, 0.6303876638412476, -0.073470339179039, 0.5535417199134827, 0.33677953481674194]\n"
     ]
    },
    {
     "name": "stderr",
     "output_type": "stream",
     "text": [
      "127.0.0.1 - - [13/Apr/2024 20:41:05] \"GET /get_weights?date=2018-10-01 HTTP/1.1\" 200 -\n"
     ]
    },
    {
     "name": "stdout",
     "output_type": "stream",
     "text": [
      "0\n",
      "2018-10-01\n",
      "[-0.7452176809310913, 0.6929542422294617, 0.5257560610771179, 0.2661705017089844, 0.26033684611320496]\n"
     ]
    },
    {
     "name": "stderr",
     "output_type": "stream",
     "text": [
      "127.0.0.1 - - [13/Apr/2024 20:41:07] \"GET /get_weights?date=2018-10-08 HTTP/1.1\" 200 -\n"
     ]
    },
    {
     "name": "stdout",
     "output_type": "stream",
     "text": [
      "0\n",
      "2018-10-08\n",
      "[-0.0010101647349074483, -0.19382208585739136, -0.09107641130685806, 1.000077247619629, 0.2858310639858246]\n"
     ]
    },
    {
     "name": "stderr",
     "output_type": "stream",
     "text": [
      "127.0.0.1 - - [13/Apr/2024 20:41:10] \"GET /get_weights?date=2018-10-15 HTTP/1.1\" 200 -\n"
     ]
    },
    {
     "name": "stdout",
     "output_type": "stream",
     "text": [
      "0\n",
      "2018-10-15\n",
      "[-0.1621941328048706, 0.7822126150131226, 0.10449957847595215, 0.2503046691417694, 0.025177232921123505]\n"
     ]
    },
    {
     "name": "stderr",
     "output_type": "stream",
     "text": [
      "127.0.0.1 - - [13/Apr/2024 20:41:12] \"GET /get_weights?date=2018-10-22 HTTP/1.1\" 200 -\n"
     ]
    },
    {
     "name": "stdout",
     "output_type": "stream",
     "text": [
      "0\n",
      "2018-10-22\n",
      "[-0.1103983148932457, 0.17315801978111267, 0.18193340301513672, 0.9785542488098145, -0.22324736416339874]\n"
     ]
    },
    {
     "name": "stderr",
     "output_type": "stream",
     "text": [
      "127.0.0.1 - - [13/Apr/2024 20:41:15] \"GET /get_weights?date=2018-10-29 HTTP/1.1\" 200 -\n"
     ]
    },
    {
     "name": "stdout",
     "output_type": "stream",
     "text": [
      "0\n",
      "2018-10-29\n",
      "[0.5188380479812622, 0.23456725478172302, 0.12715649604797363, 0.5087496638298035, -0.38931146264076233]\n"
     ]
    },
    {
     "name": "stderr",
     "output_type": "stream",
     "text": [
      "127.0.0.1 - - [13/Apr/2024 20:41:17] \"GET /get_weights?date=2018-11-05 HTTP/1.1\" 200 -\n"
     ]
    },
    {
     "name": "stdout",
     "output_type": "stream",
     "text": [
      "0\n",
      "2018-11-05\n",
      "[-0.6288695335388184, 0.29654404520988464, 0.42613640427589417, 0.6258383393287659, 0.2803508937358856]\n"
     ]
    },
    {
     "name": "stderr",
     "output_type": "stream",
     "text": [
      "127.0.0.1 - - [13/Apr/2024 20:41:20] \"GET /get_weights?date=2018-11-12 HTTP/1.1\" 200 -\n"
     ]
    },
    {
     "name": "stdout",
     "output_type": "stream",
     "text": [
      "0\n",
      "2018-11-12\n",
      "[0.22576455771923065, -0.030682746320962906, 0.3352401852607727, 0.5759919881820679, -0.10631398856639862]\n"
     ]
    },
    {
     "name": "stderr",
     "output_type": "stream",
     "text": [
      "127.0.0.1 - - [13/Apr/2024 20:41:23] \"GET /get_weights?date=2018-11-19 HTTP/1.1\" 200 -\n"
     ]
    },
    {
     "name": "stdout",
     "output_type": "stream",
     "text": [
      "0\n",
      "2018-11-19\n",
      "[0.6167392134666443, 0.33134421706199646, 0.0865914523601532, 0.9325385093688965, -0.9672139286994934]\n"
     ]
    },
    {
     "name": "stderr",
     "output_type": "stream",
     "text": [
      "127.0.0.1 - - [13/Apr/2024 20:41:25] \"GET /get_weights?date=2018-11-26 HTTP/1.1\" 200 -\n"
     ]
    },
    {
     "name": "stdout",
     "output_type": "stream",
     "text": [
      "0\n",
      "2018-11-26\n",
      "[-0.09393761307001114, 0.6199487447738647, 0.16682447493076324, 0.1986335813999176, 0.10853081196546555]\n"
     ]
    },
    {
     "name": "stderr",
     "output_type": "stream",
     "text": [
      "127.0.0.1 - - [13/Apr/2024 20:41:28] \"GET /get_weights?date=2018-12-03 HTTP/1.1\" 200 -\n"
     ]
    },
    {
     "name": "stdout",
     "output_type": "stream",
     "text": [
      "0\n",
      "2018-12-03\n",
      "[-0.25287842750549316, 0.3193521797657013, -0.017842737957835197, 0.7576176524162292, 0.1937512755393982]\n"
     ]
    },
    {
     "name": "stderr",
     "output_type": "stream",
     "text": [
      "127.0.0.1 - - [13/Apr/2024 20:41:30] \"GET /get_weights?date=2018-12-10 HTTP/1.1\" 200 -\n"
     ]
    },
    {
     "name": "stdout",
     "output_type": "stream",
     "text": [
      "0\n",
      "2018-12-10\n",
      "[0.24964533746242523, 0.6415711045265198, -0.1136544719338417, 0.8802701234817505, -0.6578322052955627]\n"
     ]
    },
    {
     "name": "stderr",
     "output_type": "stream",
     "text": [
      "127.0.0.1 - - [13/Apr/2024 20:41:34] \"GET /get_weights?date=2018-12-17 HTTP/1.1\" 200 -\n"
     ]
    },
    {
     "name": "stdout",
     "output_type": "stream",
     "text": [
      "1\n",
      "2018-12-17\n",
      "[0.016599414870142937, 0.7035114765167236, 0.056560661643743515, 0.2776224911212921, -0.05429407209157944]\n"
     ]
    },
    {
     "name": "stderr",
     "output_type": "stream",
     "text": [
      "127.0.0.1 - - [13/Apr/2024 20:41:36] \"GET /get_weights?date=2018-12-24 HTTP/1.1\" 200 -\n"
     ]
    },
    {
     "name": "stdout",
     "output_type": "stream",
     "text": [
      "1\n",
      "2018-12-24\n",
      "[0.25855645537376404, 0.2962033450603485, -0.12683150172233582, 0.7024291157722473, -0.13035742938518524]\n"
     ]
    },
    {
     "name": "stderr",
     "output_type": "stream",
     "text": [
      "127.0.0.1 - - [13/Apr/2024 20:41:38] \"GET /get_weights?date=2018-12-31 HTTP/1.1\" 200 -\n"
     ]
    },
    {
     "name": "stdout",
     "output_type": "stream",
     "text": [
      "1\n",
      "2018-12-31\n",
      "[0.2864851653575897, 0.46085691452026367, -0.15684737265110016, 0.2242092341184616, 0.18529574573040009]\n"
     ]
    },
    {
     "name": "stderr",
     "output_type": "stream",
     "text": [
      "127.0.0.1 - - [13/Apr/2024 20:41:40] \"GET /get_weights?date=2019-01-07 HTTP/1.1\" 200 -\n"
     ]
    },
    {
     "name": "stdout",
     "output_type": "stream",
     "text": [
      "1\n",
      "2019-01-07\n",
      "[0.23065857589244843, 0.4057569205760956, -0.20496858656406403, 0.5853505730628967, -0.016797494143247604]\n"
     ]
    },
    {
     "name": "stderr",
     "output_type": "stream",
     "text": [
      "127.0.0.1 - - [13/Apr/2024 20:41:42] \"GET /get_weights?date=2019-01-14 HTTP/1.1\" 200 -\n"
     ]
    },
    {
     "name": "stdout",
     "output_type": "stream",
     "text": [
      "1\n",
      "2019-01-14\n",
      "[0.22015781700611115, 0.07450813800096512, -0.0021783052943646908, 0.44073382019996643, 0.26677826046943665]\n"
     ]
    },
    {
     "name": "stderr",
     "output_type": "stream",
     "text": [
      "127.0.0.1 - - [13/Apr/2024 20:41:45] \"GET /get_weights?date=2019-01-22 HTTP/1.1\" 200 -\n"
     ]
    },
    {
     "name": "stdout",
     "output_type": "stream",
     "text": [
      "1\n",
      "2019-01-22\n",
      "[-0.3779085576534271, 0.8686726093292236, 0.024896197021007538, 0.540931761264801, -0.05659225955605507]\n"
     ]
    },
    {
     "name": "stderr",
     "output_type": "stream",
     "text": [
      "127.0.0.1 - - [13/Apr/2024 20:41:47] \"GET /get_weights?date=2019-01-28 HTTP/1.1\" 200 -\n"
     ]
    },
    {
     "name": "stdout",
     "output_type": "stream",
     "text": [
      "1\n",
      "2019-01-28\n",
      "[-0.173762246966362, 0.14576290547847748, -0.20079077780246735, 1.0000168085098267, 0.22877322137355804]\n"
     ]
    },
    {
     "name": "stderr",
     "output_type": "stream",
     "text": [
      "127.0.0.1 - - [13/Apr/2024 20:41:50] \"GET /get_weights?date=2019-02-04 HTTP/1.1\" 200 -\n"
     ]
    },
    {
     "name": "stdout",
     "output_type": "stream",
     "text": [
      "1\n",
      "2019-02-04\n",
      "[0.2402660995721817, 0.3231429159641266, -0.3034786581993103, 0.6513287425041199, 0.08874090760946274]\n"
     ]
    },
    {
     "name": "stderr",
     "output_type": "stream",
     "text": [
      "127.0.0.1 - - [13/Apr/2024 20:41:52] \"GET /get_weights?date=2019-02-11 HTTP/1.1\" 200 -\n"
     ]
    },
    {
     "name": "stdout",
     "output_type": "stream",
     "text": [
      "1\n",
      "2019-02-11\n",
      "[-0.04395285248756409, 0.555404543876648, 0.038954656571149826, 0.6317558884620667, -0.1821623146533966]\n"
     ]
    },
    {
     "name": "stderr",
     "output_type": "stream",
     "text": [
      "127.0.0.1 - - [13/Apr/2024 20:41:55] \"GET /get_weights?date=2019-02-19 HTTP/1.1\" 200 -\n"
     ]
    },
    {
     "name": "stdout",
     "output_type": "stream",
     "text": [
      "1\n",
      "2019-02-19\n",
      "[-0.08852089196443558, 0.6140080690383911, -0.32295680046081543, 0.7254461050033569, 0.07202348113059998]\n"
     ]
    },
    {
     "name": "stderr",
     "output_type": "stream",
     "text": [
      "127.0.0.1 - - [13/Apr/2024 20:41:57] \"GET /get_weights?date=2019-02-25 HTTP/1.1\" 200 -\n"
     ]
    },
    {
     "name": "stdout",
     "output_type": "stream",
     "text": [
      "1\n",
      "2019-02-25\n",
      "[-0.14190347492694855, 0.5859339237213135, 0.0874827578663826, 0.30149465799331665, 0.16699206829071045]\n"
     ]
    },
    {
     "name": "stderr",
     "output_type": "stream",
     "text": [
      "127.0.0.1 - - [13/Apr/2024 20:41:59] \"GET /get_weights?date=2019-03-04 HTTP/1.1\" 200 -\n"
     ]
    },
    {
     "name": "stdout",
     "output_type": "stream",
     "text": [
      "1\n",
      "2019-03-04\n",
      "[0.35117265582084656, 0.6894493699073792, -0.5562695860862732, 0.30578407645225525, 0.20986351370811462]\n"
     ]
    },
    {
     "name": "stderr",
     "output_type": "stream",
     "text": [
      "127.0.0.1 - - [13/Apr/2024 20:42:01] \"GET /get_weights?date=2019-03-11 HTTP/1.1\" 200 -\n"
     ]
    },
    {
     "name": "stdout",
     "output_type": "stream",
     "text": [
      "1\n",
      "2019-03-11\n",
      "[-0.37407371401786804, 0.6014691591262817, 0.2766713798046112, 0.030816424638032913, 0.4651167094707489]\n"
     ]
    },
    {
     "name": "stderr",
     "output_type": "stream",
     "text": [
      "127.0.0.1 - - [13/Apr/2024 20:42:04] \"GET /get_weights?date=2019-03-18 HTTP/1.1\" 200 -\n"
     ]
    },
    {
     "name": "stdout",
     "output_type": "stream",
     "text": [
      "1\n",
      "2019-03-18\n",
      "[-0.308131605386734, 0.7162678241729736, -0.5086425542831421, 0.6397445201873779, 0.4607617259025574]\n"
     ]
    },
    {
     "name": "stderr",
     "output_type": "stream",
     "text": [
      "127.0.0.1 - - [13/Apr/2024 20:42:06] \"GET /get_weights?date=2019-03-25 HTTP/1.1\" 200 -\n"
     ]
    },
    {
     "name": "stdout",
     "output_type": "stream",
     "text": [
      "1\n",
      "2019-03-25\n",
      "[0.03727835416793823, 0.6740047335624695, -0.07898779213428497, 0.5792552828788757, -0.21155080199241638]\n"
     ]
    },
    {
     "name": "stderr",
     "output_type": "stream",
     "text": [
      "127.0.0.1 - - [13/Apr/2024 20:42:08] \"GET /get_weights?date=2019-04-01 HTTP/1.1\" 200 -\n"
     ]
    },
    {
     "name": "stdout",
     "output_type": "stream",
     "text": [
      "1\n",
      "2019-04-01\n",
      "[-0.08653286844491959, 0.02429950423538685, -0.0013498933985829353, 0.8801557421684265, 0.18342742323875427]\n"
     ]
    },
    {
     "name": "stderr",
     "output_type": "stream",
     "text": [
      "127.0.0.1 - - [13/Apr/2024 20:42:10] \"GET /get_weights?date=2019-04-08 HTTP/1.1\" 200 -\n"
     ]
    },
    {
     "name": "stdout",
     "output_type": "stream",
     "text": [
      "1\n",
      "2019-04-08\n",
      "[0.112483911216259, 0.5769523978233337, -0.031647689640522, 0.3288235664367676, 0.013387700542807579]\n"
     ]
    },
    {
     "name": "stderr",
     "output_type": "stream",
     "text": [
      "127.0.0.1 - - [13/Apr/2024 20:42:12] \"GET /get_weights?date=2019-04-15 HTTP/1.1\" 200 -\n"
     ]
    },
    {
     "name": "stdout",
     "output_type": "stream",
     "text": [
      "1\n",
      "2019-04-15\n",
      "[0.02540529891848564, 0.47123128175735474, -0.26570430397987366, 0.6069693565368652, 0.16209831833839417]\n"
     ]
    },
    {
     "name": "stderr",
     "output_type": "stream",
     "text": [
      "127.0.0.1 - - [13/Apr/2024 20:42:15] \"GET /get_weights?date=2019-04-22 HTTP/1.1\" 200 -\n"
     ]
    },
    {
     "name": "stdout",
     "output_type": "stream",
     "text": [
      "1\n",
      "2019-04-22\n",
      "[-0.2305348962545395, 0.6675070524215698, -0.1705167144536972, 0.8382554650306702, -0.10471096634864807]\n"
     ]
    },
    {
     "name": "stderr",
     "output_type": "stream",
     "text": [
      "127.0.0.1 - - [13/Apr/2024 20:42:17] \"GET /get_weights?date=2019-04-29 HTTP/1.1\" 200 -\n"
     ]
    },
    {
     "name": "stdout",
     "output_type": "stream",
     "text": [
      "1\n",
      "2019-04-29\n",
      "[-0.0980035588145256, 0.6868864297866821, 0.0782754197716713, 0.39026179909706116, -0.05742025375366211]\n"
     ]
    },
    {
     "name": "stderr",
     "output_type": "stream",
     "text": [
      "127.0.0.1 - - [13/Apr/2024 20:42:19] \"GET /get_weights?date=2019-05-06 HTTP/1.1\" 200 -\n"
     ]
    },
    {
     "name": "stdout",
     "output_type": "stream",
     "text": [
      "1\n",
      "2019-05-06\n",
      "[-0.04307498782873154, 0.4290899634361267, -0.14999271929264069, 0.5675786137580872, 0.19639913737773895]\n"
     ]
    },
    {
     "name": "stderr",
     "output_type": "stream",
     "text": [
      "127.0.0.1 - - [13/Apr/2024 20:42:21] \"GET /get_weights?date=2019-05-13 HTTP/1.1\" 200 -\n"
     ]
    },
    {
     "name": "stdout",
     "output_type": "stream",
     "text": [
      "1\n",
      "2019-05-13\n",
      "[0.09630607813596725, 0.41840723156929016, -0.1316668838262558, 0.6411892175674438, -0.024235744029283524]\n"
     ]
    },
    {
     "name": "stderr",
     "output_type": "stream",
     "text": [
      "127.0.0.1 - - [13/Apr/2024 20:42:23] \"GET /get_weights?date=2019-05-20 HTTP/1.1\" 200 -\n"
     ]
    },
    {
     "name": "stdout",
     "output_type": "stream",
     "text": [
      "1\n",
      "2019-05-20\n",
      "[-0.27691012620925903, 0.2923930883407593, -0.07369308918714523, 0.05820225924253464, 1.0000076293945312]\n"
     ]
    },
    {
     "name": "stderr",
     "output_type": "stream",
     "text": [
      "127.0.0.1 - - [13/Apr/2024 20:42:26] \"GET /get_weights?date=2019-05-28 HTTP/1.1\" 200 -\n"
     ]
    },
    {
     "name": "stdout",
     "output_type": "stream",
     "text": [
      "1\n",
      "2019-05-28\n",
      "[-0.2852281332015991, 0.5044301748275757, 0.1315453201532364, 0.3900350034236908, 0.2592175602912903]\n"
     ]
    },
    {
     "name": "stderr",
     "output_type": "stream",
     "text": [
      "127.0.0.1 - - [13/Apr/2024 20:42:28] \"GET /get_weights?date=2019-06-03 HTTP/1.1\" 200 -\n"
     ]
    },
    {
     "name": "stdout",
     "output_type": "stream",
     "text": [
      "1\n",
      "2019-06-03\n",
      "[0.2533087134361267, 0.0016392958350479603, -0.08329299837350845, 0.7592132091522217, 0.06913163512945175]\n"
     ]
    },
    {
     "name": "stderr",
     "output_type": "stream",
     "text": [
      "127.0.0.1 - - [13/Apr/2024 20:42:30] \"GET /get_weights?date=2019-06-10 HTTP/1.1\" 200 -\n"
     ]
    },
    {
     "name": "stdout",
     "output_type": "stream",
     "text": [
      "1\n",
      "2019-06-10\n",
      "[-0.22912517189979553, 0.7939575910568237, -0.04755667969584465, 0.28017520904541016, 0.2025490552186966]\n"
     ]
    },
    {
     "name": "stderr",
     "output_type": "stream",
     "text": [
      "127.0.0.1 - - [13/Apr/2024 20:42:32] \"GET /get_weights?date=2019-06-17 HTTP/1.1\" 200 -\n"
     ]
    },
    {
     "name": "stdout",
     "output_type": "stream",
     "text": [
      "1\n",
      "2019-06-17\n",
      "[0.36080169677734375, 0.5453803539276123, -0.34258967638015747, 0.14117348194122314, 0.29523414373397827]\n"
     ]
    },
    {
     "name": "stderr",
     "output_type": "stream",
     "text": [
      "127.0.0.1 - - [13/Apr/2024 20:42:35] \"GET /get_weights?date=2019-06-24 HTTP/1.1\" 200 -\n"
     ]
    },
    {
     "name": "stdout",
     "output_type": "stream",
     "text": [
      "1\n",
      "2019-06-24\n",
      "[-0.367788165807724, 0.8963299989700317, 0.05397852882742882, 0.3628358542919159, 0.05464376509189606]\n"
     ]
    },
    {
     "name": "stderr",
     "output_type": "stream",
     "text": [
      "127.0.0.1 - - [13/Apr/2024 20:42:37] \"GET /get_weights?date=2019-07-01 HTTP/1.1\" 200 -\n"
     ]
    },
    {
     "name": "stdout",
     "output_type": "stream",
     "text": [
      "1\n",
      "2019-07-01\n",
      "[0.1941302865743637, 0.5524380803108215, -0.09827013313770294, 0.5393074154853821, -0.18760594725608826]\n"
     ]
    },
    {
     "name": "stderr",
     "output_type": "stream",
     "text": [
      "127.0.0.1 - - [13/Apr/2024 20:42:39] \"GET /get_weights?date=2019-07-08 HTTP/1.1\" 200 -\n"
     ]
    },
    {
     "name": "stdout",
     "output_type": "stream",
     "text": [
      "1\n",
      "2019-07-08\n",
      "[0.17166830599308014, 0.5778325796127319, -0.19860558211803436, 0.5469697713851929, -0.09786520898342133]\n"
     ]
    },
    {
     "name": "stderr",
     "output_type": "stream",
     "text": [
      "127.0.0.1 - - [13/Apr/2024 20:42:41] \"GET /get_weights?date=2019-07-15 HTTP/1.1\" 200 -\n"
     ]
    },
    {
     "name": "stdout",
     "output_type": "stream",
     "text": [
      "1\n",
      "2019-07-15\n",
      "[0.10075663030147552, 0.504032552242279, -0.07136915624141693, 0.42716464400291443, 0.03941517695784569]\n"
     ]
    },
    {
     "name": "stderr",
     "output_type": "stream",
     "text": [
      "127.0.0.1 - - [13/Apr/2024 20:42:43] \"GET /get_weights?date=2019-07-22 HTTP/1.1\" 200 -\n"
     ]
    },
    {
     "name": "stdout",
     "output_type": "stream",
     "text": [
      "1\n",
      "2019-07-22\n",
      "[-0.3140363097190857, 0.17720109224319458, 0.013033570721745491, 0.41319921612739563, 0.710602343082428]\n"
     ]
    },
    {
     "name": "stderr",
     "output_type": "stream",
     "text": [
      "127.0.0.1 - - [13/Apr/2024 20:42:46] \"GET /get_weights?date=2019-07-29 HTTP/1.1\" 200 -\n"
     ]
    },
    {
     "name": "stdout",
     "output_type": "stream",
     "text": [
      "1\n",
      "2019-07-29\n",
      "[-0.2708487808704376, 0.6454803347587585, -0.3396599590778351, 0.745847225189209, 0.21918116509914398]\n"
     ]
    },
    {
     "name": "stderr",
     "output_type": "stream",
     "text": [
      "127.0.0.1 - - [13/Apr/2024 20:42:48] \"GET /get_weights?date=2019-08-05 HTTP/1.1\" 200 -\n"
     ]
    },
    {
     "name": "stdout",
     "output_type": "stream",
     "text": [
      "1\n",
      "2019-08-05\n",
      "[0.2664686441421509, 0.19313812255859375, 0.08083163946866989, 0.587721049785614, -0.12815947830677032]\n"
     ]
    },
    {
     "name": "stderr",
     "output_type": "stream",
     "text": [
      "127.0.0.1 - - [13/Apr/2024 20:42:50] \"GET /get_weights?date=2019-08-12 HTTP/1.1\" 200 -\n"
     ]
    },
    {
     "name": "stdout",
     "output_type": "stream",
     "text": [
      "1\n",
      "2019-08-12\n",
      "[-0.3217167258262634, 0.8058555722236633, 0.10114087164402008, 0.6572991013526917, -0.24257883429527283]\n"
     ]
    },
    {
     "name": "stderr",
     "output_type": "stream",
     "text": [
      "127.0.0.1 - - [13/Apr/2024 20:42:52] \"GET /get_weights?date=2019-08-19 HTTP/1.1\" 200 -\n"
     ]
    },
    {
     "name": "stdout",
     "output_type": "stream",
     "text": [
      "1\n",
      "2019-08-19\n",
      "[-0.21621066331863403, 0.21981018781661987, 0.1886466145515442, 0.5931757688522339, 0.21457797288894653]\n"
     ]
    },
    {
     "name": "stderr",
     "output_type": "stream",
     "text": [
      "127.0.0.1 - - [13/Apr/2024 20:42:55] \"GET /get_weights?date=2019-08-26 HTTP/1.1\" 200 -\n"
     ]
    },
    {
     "name": "stdout",
     "output_type": "stream",
     "text": [
      "1\n",
      "2019-08-26\n",
      "[0.3201597034931183, 0.12962038815021515, 0.2067989856004715, 0.29189595580101013, 0.051524851471185684]\n"
     ]
    },
    {
     "name": "stderr",
     "output_type": "stream",
     "text": [
      "127.0.0.1 - - [13/Apr/2024 20:42:57] \"GET /get_weights?date=2019-09-03 HTTP/1.1\" 200 -\n"
     ]
    },
    {
     "name": "stdout",
     "output_type": "stream",
     "text": [
      "1\n",
      "2019-09-03\n",
      "[-0.020429955795407295, 0.5285079479217529, -0.08428103476762772, 0.4589918553829193, 0.11721111088991165]\n"
     ]
    },
    {
     "name": "stderr",
     "output_type": "stream",
     "text": [
      "127.0.0.1 - - [13/Apr/2024 20:42:59] \"GET /get_weights?date=2019-09-09 HTTP/1.1\" 200 -\n"
     ]
    },
    {
     "name": "stdout",
     "output_type": "stream",
     "text": [
      "1\n",
      "2019-09-09\n",
      "[-0.21691566705703735, 0.17307917773723602, 0.04074125736951828, 0.6282123923301697, 0.37488266825675964]\n"
     ]
    },
    {
     "name": "stderr",
     "output_type": "stream",
     "text": [
      "127.0.0.1 - - [13/Apr/2024 20:43:01] \"GET /get_weights?date=2019-09-16 HTTP/1.1\" 200 -\n"
     ]
    },
    {
     "name": "stdout",
     "output_type": "stream",
     "text": [
      "1\n",
      "2019-09-16\n",
      "[0.061840642243623734, 0.817192792892456, -0.3503339886665344, 0.39133530855178833, 0.0799652487039566]\n"
     ]
    },
    {
     "name": "stderr",
     "output_type": "stream",
     "text": [
      "127.0.0.1 - - [13/Apr/2024 20:43:04] \"GET /get_weights?date=2019-09-23 HTTP/1.1\" 200 -\n"
     ]
    },
    {
     "name": "stdout",
     "output_type": "stream",
     "text": [
      "1\n",
      "2019-09-23\n",
      "[0.18915636837482452, 0.4081284999847412, -0.20657223463058472, 0.37775158882141113, 0.2315356731414795]\n"
     ]
    },
    {
     "name": "stderr",
     "output_type": "stream",
     "text": [
      "127.0.0.1 - - [13/Apr/2024 20:43:06] \"GET /get_weights?date=2019-09-30 HTTP/1.1\" 200 -\n"
     ]
    },
    {
     "name": "stdout",
     "output_type": "stream",
     "text": [
      "1\n",
      "2019-09-30\n",
      "[-0.16655904054641724, 0.7555400133132935, -0.13823094964027405, 0.28647056221961975, 0.26277920603752136]\n"
     ]
    },
    {
     "name": "stderr",
     "output_type": "stream",
     "text": [
      "127.0.0.1 - - [13/Apr/2024 20:43:08] \"GET /get_weights?date=2019-10-07 HTTP/1.1\" 200 -\n"
     ]
    },
    {
     "name": "stdout",
     "output_type": "stream",
     "text": [
      "1\n",
      "2019-10-07\n",
      "[-0.07291728258132935, 0.3787615895271301, -0.15589499473571777, 0.8308039903640747, 0.019246436655521393]\n"
     ]
    },
    {
     "name": "stderr",
     "output_type": "stream",
     "text": [
      "127.0.0.1 - - [13/Apr/2024 20:43:10] \"GET /get_weights?date=2019-10-14 HTTP/1.1\" 200 -\n"
     ]
    },
    {
     "name": "stdout",
     "output_type": "stream",
     "text": [
      "1\n",
      "2019-10-14\n",
      "[0.1071614995598793, 0.5718950629234314, -0.24728615581989288, 0.7281309962272644, -0.15990136563777924]\n"
     ]
    },
    {
     "name": "stderr",
     "output_type": "stream",
     "text": [
      "127.0.0.1 - - [13/Apr/2024 20:43:13] \"GET /get_weights?date=2019-10-21 HTTP/1.1\" 200 -\n"
     ]
    },
    {
     "name": "stdout",
     "output_type": "stream",
     "text": [
      "1\n",
      "2019-10-21\n",
      "[-0.03436262533068657, 0.3477788269519806, 0.164877250790596, 0.6128942370414734, -0.09118786454200745]\n"
     ]
    },
    {
     "name": "stderr",
     "output_type": "stream",
     "text": [
      "127.0.0.1 - - [13/Apr/2024 20:43:15] \"GET /get_weights?date=2019-10-28 HTTP/1.1\" 200 -\n"
     ]
    },
    {
     "name": "stdout",
     "output_type": "stream",
     "text": [
      "1\n",
      "2019-10-28\n",
      "[0.3354828953742981, 0.3100323975086212, 0.13108733296394348, 0.41406896710395813, -0.1906716227531433]\n"
     ]
    },
    {
     "name": "stderr",
     "output_type": "stream",
     "text": [
      "127.0.0.1 - - [13/Apr/2024 20:43:17] \"GET /get_weights?date=2019-11-04 HTTP/1.1\" 200 -\n"
     ]
    },
    {
     "name": "stdout",
     "output_type": "stream",
     "text": [
      "1\n",
      "2019-11-04\n",
      "[0.006380467209964991, 0.045795295387506485, 0.3828364908695221, 0.6718943119049072, -0.10690660029649734]\n"
     ]
    },
    {
     "name": "stderr",
     "output_type": "stream",
     "text": [
      "127.0.0.1 - - [13/Apr/2024 20:43:19] \"GET /get_weights?date=2019-11-11 HTTP/1.1\" 200 -\n"
     ]
    },
    {
     "name": "stdout",
     "output_type": "stream",
     "text": [
      "1\n",
      "2019-11-11\n",
      "[0.046426672488451004, 0.9504600763320923, -0.18813925981521606, 0.23108309507369995, -0.03983066976070404]\n"
     ]
    },
    {
     "name": "stderr",
     "output_type": "stream",
     "text": [
      "127.0.0.1 - - [13/Apr/2024 20:43:21] \"GET /get_weights?date=2019-11-18 HTTP/1.1\" 200 -\n"
     ]
    },
    {
     "name": "stdout",
     "output_type": "stream",
     "text": [
      "1\n",
      "2019-11-18\n",
      "[-0.24258922040462494, 0.285455584526062, 0.3911744952201843, 0.4653642177581787, 0.10059475153684616]\n"
     ]
    },
    {
     "name": "stderr",
     "output_type": "stream",
     "text": [
      "127.0.0.1 - - [13/Apr/2024 20:43:24] \"GET /get_weights?date=2019-11-25 HTTP/1.1\" 200 -\n"
     ]
    },
    {
     "name": "stdout",
     "output_type": "stream",
     "text": [
      "1\n",
      "2019-11-25\n",
      "[-0.20253460109233856, 0.5760864615440369, -0.018859099596738815, 0.20948746800422668, 0.4358196258544922]\n"
     ]
    },
    {
     "name": "stderr",
     "output_type": "stream",
     "text": [
      "127.0.0.1 - - [13/Apr/2024 20:43:26] \"GET /get_weights?date=2019-12-02 HTTP/1.1\" 200 -\n"
     ]
    },
    {
     "name": "stdout",
     "output_type": "stream",
     "text": [
      "1\n",
      "2019-12-02\n",
      "[0.5935686230659485, -0.11367073655128479, -0.4798518717288971, 0.9161577224731445, 0.08379624783992767]\n"
     ]
    },
    {
     "name": "stderr",
     "output_type": "stream",
     "text": [
      "127.0.0.1 - - [13/Apr/2024 20:43:28] \"GET /get_weights?date=2019-12-09 HTTP/1.1\" 200 -\n"
     ]
    },
    {
     "name": "stdout",
     "output_type": "stream",
     "text": [
      "1\n",
      "2019-12-09\n",
      "[-0.22487761080265045, 0.4476117193698883, 0.19342686235904694, 0.4879544675350189, 0.09588456153869629]\n"
     ]
    },
    {
     "name": "stderr",
     "output_type": "stream",
     "text": [
      "127.0.0.1 - - [13/Apr/2024 20:43:31] \"GET /get_weights?date=2019-12-16 HTTP/1.1\" 200 -\n"
     ]
    },
    {
     "name": "stdout",
     "output_type": "stream",
     "text": [
      "2\n",
      "2019-12-16\n",
      "[0.0471433587372303, 0.9999848008155823, -0.27221328020095825, 0.33700627088546753, -0.11192113906145096]\n"
     ]
    },
    {
     "name": "stderr",
     "output_type": "stream",
     "text": [
      "127.0.0.1 - - [13/Apr/2024 20:43:33] \"GET /get_weights?date=2019-12-23 HTTP/1.1\" 200 -\n"
     ]
    },
    {
     "name": "stdout",
     "output_type": "stream",
     "text": [
      "2\n",
      "2019-12-23\n",
      "[0.25307410955429077, 0.40286019444465637, -0.04156007245182991, 0.3352750837802887, 0.05035068839788437]\n"
     ]
    },
    {
     "name": "stderr",
     "output_type": "stream",
     "text": [
      "127.0.0.1 - - [13/Apr/2024 20:43:35] \"GET /get_weights?date=2019-12-30 HTTP/1.1\" 200 -\n"
     ]
    },
    {
     "name": "stdout",
     "output_type": "stream",
     "text": [
      "2\n",
      "2019-12-30\n",
      "[0.04304388165473938, 0.4190249741077423, -0.04128625988960266, 0.7067052721977234, -0.1274878978729248]\n"
     ]
    },
    {
     "name": "stderr",
     "output_type": "stream",
     "text": [
      "127.0.0.1 - - [13/Apr/2024 20:43:37] \"GET /get_weights?date=2020-01-06 HTTP/1.1\" 200 -\n"
     ]
    },
    {
     "name": "stdout",
     "output_type": "stream",
     "text": [
      "2\n",
      "2020-01-06\n",
      "[-0.6621376276016235, 0.4602793753147125, 0.8144735097885132, 0.08738944679498672, 0.2999953031539917]\n"
     ]
    },
    {
     "name": "stderr",
     "output_type": "stream",
     "text": [
      "127.0.0.1 - - [13/Apr/2024 20:43:40] \"GET /get_weights?date=2020-01-13 HTTP/1.1\" 200 -\n"
     ]
    },
    {
     "name": "stdout",
     "output_type": "stream",
     "text": [
      "2\n",
      "2020-01-13\n",
      "[-0.21001999080181122, 0.47501304745674133, 0.10607554018497467, 0.7188342213630676, -0.08990299701690674]\n"
     ]
    },
    {
     "name": "stderr",
     "output_type": "stream",
     "text": [
      "127.0.0.1 - - [13/Apr/2024 20:43:42] \"GET /get_weights?date=2020-01-21 HTTP/1.1\" 200 -\n"
     ]
    },
    {
     "name": "stdout",
     "output_type": "stream",
     "text": [
      "2\n",
      "2020-01-21\n",
      "[-0.086344413459301, 0.7584983706474304, -0.3451351523399353, 0.8307532668113708, -0.1577719748020172]\n"
     ]
    },
    {
     "name": "stderr",
     "output_type": "stream",
     "text": [
      "127.0.0.1 - - [13/Apr/2024 20:43:44] \"GET /get_weights?date=2020-01-27 HTTP/1.1\" 200 -\n"
     ]
    },
    {
     "name": "stdout",
     "output_type": "stream",
     "text": [
      "2\n",
      "2020-01-27\n",
      "[0.8905763030052185, 0.04077339544892311, -0.028650730848312378, 0.3063468039035797, -0.20904581248760223]\n"
     ]
    },
    {
     "name": "stderr",
     "output_type": "stream",
     "text": [
      "127.0.0.1 - - [13/Apr/2024 20:43:46] \"GET /get_weights?date=2020-02-03 HTTP/1.1\" 200 -\n"
     ]
    },
    {
     "name": "stdout",
     "output_type": "stream",
     "text": [
      "2\n",
      "2020-02-03\n",
      "[-0.2251087874174118, 0.3706093728542328, 0.20222261548042297, 0.6055043339729309, 0.04677243158221245]\n"
     ]
    },
    {
     "name": "stderr",
     "output_type": "stream",
     "text": [
      "127.0.0.1 - - [13/Apr/2024 20:43:49] \"GET /get_weights?date=2020-02-10 HTTP/1.1\" 200 -\n"
     ]
    },
    {
     "name": "stdout",
     "output_type": "stream",
     "text": [
      "2\n",
      "2020-02-10\n",
      "[-0.07512562721967697, 0.06686948239803314, 0.1996324509382248, 0.4329240620136261, 0.37569960951805115]\n"
     ]
    },
    {
     "name": "stderr",
     "output_type": "stream",
     "text": [
      "127.0.0.1 - - [13/Apr/2024 20:43:51] \"GET /get_weights?date=2020-02-18 HTTP/1.1\" 200 -\n"
     ]
    },
    {
     "name": "stdout",
     "output_type": "stream",
     "text": [
      "2\n",
      "2020-02-18\n",
      "[-0.13117237389087677, 0.6976742148399353, 0.07618565112352371, 0.8643693923950195, -0.5070568919181824]\n"
     ]
    },
    {
     "name": "stderr",
     "output_type": "stream",
     "text": [
      "127.0.0.1 - - [13/Apr/2024 20:43:53] \"GET /get_weights?date=2020-02-24 HTTP/1.1\" 200 -\n"
     ]
    },
    {
     "name": "stdout",
     "output_type": "stream",
     "text": [
      "2\n",
      "2020-02-24\n",
      "[0.05303090810775757, 0.3586460053920746, 0.12893740832805634, 0.6741209030151367, -0.21473531424999237]\n"
     ]
    },
    {
     "name": "stderr",
     "output_type": "stream",
     "text": [
      "127.0.0.1 - - [13/Apr/2024 20:43:55] \"GET /get_weights?date=2020-03-02 HTTP/1.1\" 200 -\n"
     ]
    },
    {
     "name": "stdout",
     "output_type": "stream",
     "text": [
      "2\n",
      "2020-03-02\n",
      "[0.2507997155189514, 0.03350067511200905, 0.19254769384860992, 0.7463285326957703, -0.22317667305469513]\n"
     ]
    },
    {
     "name": "stderr",
     "output_type": "stream",
     "text": [
      "127.0.0.1 - - [13/Apr/2024 20:43:57] \"GET /get_weights?date=2020-03-09 HTTP/1.1\" 200 -\n"
     ]
    },
    {
     "name": "stdout",
     "output_type": "stream",
     "text": [
      "2\n",
      "2020-03-09\n",
      "[0.22169314324855804, 0.32976701855659485, 0.04885770007967949, 0.388398677110672, 0.011283408850431442]\n"
     ]
    },
    {
     "name": "stderr",
     "output_type": "stream",
     "text": [
      "127.0.0.1 - - [13/Apr/2024 20:44:00] \"GET /get_weights?date=2020-03-16 HTTP/1.1\" 200 -\n"
     ]
    },
    {
     "name": "stdout",
     "output_type": "stream",
     "text": [
      "2\n",
      "2020-03-16\n",
      "[0.24435152113437653, 0.2632988691329956, -0.1368425488471985, 0.5909004807472229, 0.03829168155789375]\n"
     ]
    },
    {
     "name": "stderr",
     "output_type": "stream",
     "text": [
      "127.0.0.1 - - [13/Apr/2024 20:44:02] \"GET /get_weights?date=2020-03-23 HTTP/1.1\" 200 -\n"
     ]
    },
    {
     "name": "stdout",
     "output_type": "stream",
     "text": [
      "2\n",
      "2020-03-23\n",
      "[0.06147207319736481, 0.1982315331697464, 0.19770725071430206, 0.6318449974060059, -0.08925594389438629]\n"
     ]
    },
    {
     "name": "stderr",
     "output_type": "stream",
     "text": [
      "127.0.0.1 - - [13/Apr/2024 20:44:04] \"GET /get_weights?date=2020-03-30 HTTP/1.1\" 200 -\n"
     ]
    },
    {
     "name": "stdout",
     "output_type": "stream",
     "text": [
      "2\n",
      "2020-03-30\n",
      "[-0.1471559852361679, 0.2924039363861084, 0.03214704245328903, 0.5186424255371094, 0.3039625287055969]\n"
     ]
    },
    {
     "name": "stderr",
     "output_type": "stream",
     "text": [
      "127.0.0.1 - - [13/Apr/2024 20:44:07] \"GET /get_weights?date=2020-04-06 HTTP/1.1\" 200 -\n"
     ]
    },
    {
     "name": "stdout",
     "output_type": "stream",
     "text": [
      "2\n",
      "2020-04-06\n",
      "[0.31983423233032227, 0.13683120906352997, 0.4284544289112091, 0.21803486347198486, -0.10315492749214172]\n"
     ]
    },
    {
     "name": "stderr",
     "output_type": "stream",
     "text": [
      "127.0.0.1 - - [13/Apr/2024 20:44:09] \"GET /get_weights?date=2020-04-13 HTTP/1.1\" 200 -\n"
     ]
    },
    {
     "name": "stdout",
     "output_type": "stream",
     "text": [
      "2\n",
      "2020-04-13\n",
      "[-0.09015832096338272, 0.27151837944984436, 0.16051296889781952, 0.6087135076522827, 0.049413423985242844]\n"
     ]
    },
    {
     "name": "stderr",
     "output_type": "stream",
     "text": [
      "127.0.0.1 - - [13/Apr/2024 20:44:11] \"GET /get_weights?date=2020-04-20 HTTP/1.1\" 200 -\n"
     ]
    },
    {
     "name": "stdout",
     "output_type": "stream",
     "text": [
      "2\n",
      "2020-04-20\n",
      "[0.05233393609523773, 0.005212337709963322, 0.31195685267448425, 0.10808564722537994, 0.5224111080169678]\n"
     ]
    },
    {
     "name": "stderr",
     "output_type": "stream",
     "text": [
      "127.0.0.1 - - [13/Apr/2024 20:44:13] \"GET /get_weights?date=2020-04-27 HTTP/1.1\" 200 -\n"
     ]
    },
    {
     "name": "stdout",
     "output_type": "stream",
     "text": [
      "2\n",
      "2020-04-27\n",
      "[-0.03909878060221672, 0.0276512298732996, -0.06493975222110748, 0.8724628686904907, 0.2039242833852768]\n"
     ]
    },
    {
     "name": "stderr",
     "output_type": "stream",
     "text": [
      "127.0.0.1 - - [13/Apr/2024 20:44:15] \"GET /get_weights?date=2020-05-04 HTTP/1.1\" 200 -\n"
     ]
    },
    {
     "name": "stdout",
     "output_type": "stream",
     "text": [
      "2\n",
      "2020-05-04\n",
      "[0.2208465337753296, -0.1351219266653061, 0.09705692529678345, 0.45014461874961853, 0.36707377433776855]\n"
     ]
    },
    {
     "name": "stderr",
     "output_type": "stream",
     "text": [
      "127.0.0.1 - - [13/Apr/2024 20:44:18] \"GET /get_weights?date=2020-05-11 HTTP/1.1\" 200 -\n"
     ]
    },
    {
     "name": "stdout",
     "output_type": "stream",
     "text": [
      "2\n",
      "2020-05-11\n",
      "[0.1406993418931961, 0.1666756272315979, -0.31205204129219055, 0.6454254388809204, 0.3592514991760254]\n"
     ]
    },
    {
     "name": "stderr",
     "output_type": "stream",
     "text": [
      "127.0.0.1 - - [13/Apr/2024 20:44:20] \"GET /get_weights?date=2020-05-18 HTTP/1.1\" 200 -\n"
     ]
    },
    {
     "name": "stdout",
     "output_type": "stream",
     "text": [
      "2\n",
      "2020-05-18\n",
      "[0.21289770305156708, -0.05434638261795044, 0.10692274570465088, 0.5369394421577454, 0.19758650660514832]\n"
     ]
    },
    {
     "name": "stderr",
     "output_type": "stream",
     "text": [
      "127.0.0.1 - - [13/Apr/2024 20:44:22] \"GET /get_weights?date=2020-05-26 HTTP/1.1\" 200 -\n"
     ]
    },
    {
     "name": "stdout",
     "output_type": "stream",
     "text": [
      "2\n",
      "2020-05-26\n",
      "[0.043333135545253754, 0.1941777467727661, 0.1292838156223297, 0.34496980905532837, 0.28823548555374146]\n"
     ]
    },
    {
     "name": "stderr",
     "output_type": "stream",
     "text": [
      "127.0.0.1 - - [13/Apr/2024 20:44:24] \"GET /get_weights?date=2020-06-01 HTTP/1.1\" 200 -\n"
     ]
    },
    {
     "name": "stdout",
     "output_type": "stream",
     "text": [
      "2\n",
      "2020-06-01\n",
      "[0.025894619524478912, 0.21763920783996582, 0.027977094054222107, 0.6949811577796936, 0.03350779041647911]\n"
     ]
    },
    {
     "name": "stderr",
     "output_type": "stream",
     "text": [
      "127.0.0.1 - - [13/Apr/2024 20:44:26] \"GET /get_weights?date=2020-06-08 HTTP/1.1\" 200 -\n"
     ]
    },
    {
     "name": "stdout",
     "output_type": "stream",
     "text": [
      "2\n",
      "2020-06-08\n",
      "[0.06649652868509293, 0.4909317195415497, -0.0450972355902195, 0.5787380933761597, -0.09106919169425964]\n"
     ]
    },
    {
     "name": "stderr",
     "output_type": "stream",
     "text": [
      "127.0.0.1 - - [13/Apr/2024 20:44:29] \"GET /get_weights?date=2020-06-15 HTTP/1.1\" 200 -\n"
     ]
    },
    {
     "name": "stdout",
     "output_type": "stream",
     "text": [
      "2\n",
      "2020-06-15\n",
      "[-0.07501912862062454, -0.021439136937260628, 0.21463996171951294, 0.5837188959121704, 0.2980992794036865]\n"
     ]
    },
    {
     "name": "stderr",
     "output_type": "stream",
     "text": [
      "127.0.0.1 - - [13/Apr/2024 20:44:31] \"GET /get_weights?date=2020-06-22 HTTP/1.1\" 200 -\n"
     ]
    },
    {
     "name": "stdout",
     "output_type": "stream",
     "text": [
      "2\n",
      "2020-06-22\n",
      "[-0.3145036995410919, 0.8616595268249512, 0.03244863077998161, 0.21688750386238098, 0.20350803434848785]\n"
     ]
    },
    {
     "name": "stderr",
     "output_type": "stream",
     "text": [
      "127.0.0.1 - - [13/Apr/2024 20:44:33] \"GET /get_weights?date=2020-06-29 HTTP/1.1\" 200 -\n"
     ]
    },
    {
     "name": "stdout",
     "output_type": "stream",
     "text": [
      "2\n",
      "2020-06-29\n",
      "[0.0866360068321228, 0.268777072429657, 0.04240075871348381, 0.5426599383354187, 0.059526123106479645]\n"
     ]
    },
    {
     "name": "stderr",
     "output_type": "stream",
     "text": [
      "127.0.0.1 - - [13/Apr/2024 20:44:35] \"GET /get_weights?date=2020-07-06 HTTP/1.1\" 200 -\n"
     ]
    },
    {
     "name": "stdout",
     "output_type": "stream",
     "text": [
      "2\n",
      "2020-07-06\n",
      "[0.06488785147666931, 0.41108936071395874, -0.18424509465694427, 0.7060977220535278, 0.0021701210644096136]\n"
     ]
    },
    {
     "name": "stderr",
     "output_type": "stream",
     "text": [
      "127.0.0.1 - - [13/Apr/2024 20:44:37] \"GET /get_weights?date=2020-07-13 HTTP/1.1\" 200 -\n"
     ]
    },
    {
     "name": "stdout",
     "output_type": "stream",
     "text": [
      "2\n",
      "2020-07-13\n",
      "[-0.4124926030635834, 0.5477932691574097, 0.060410063713788986, 0.47291046380996704, 0.3313787877559662]\n"
     ]
    },
    {
     "name": "stderr",
     "output_type": "stream",
     "text": [
      "127.0.0.1 - - [13/Apr/2024 20:44:40] \"GET /get_weights?date=2020-07-20 HTTP/1.1\" 200 -\n"
     ]
    },
    {
     "name": "stdout",
     "output_type": "stream",
     "text": [
      "2\n",
      "2020-07-20\n",
      "[-0.3170217275619507, 0.19513286650180817, 0.24696022272109985, 0.427135705947876, 0.44779279828071594]\n"
     ]
    },
    {
     "name": "stderr",
     "output_type": "stream",
     "text": [
      "127.0.0.1 - - [13/Apr/2024 20:44:42] \"GET /get_weights?date=2020-07-27 HTTP/1.1\" 200 -\n"
     ]
    },
    {
     "name": "stdout",
     "output_type": "stream",
     "text": [
      "2\n",
      "2020-07-27\n",
      "[-0.49186480045318604, 0.5566923022270203, 0.07277035713195801, 0.662240207195282, 0.20016179978847504]\n"
     ]
    },
    {
     "name": "stderr",
     "output_type": "stream",
     "text": [
      "127.0.0.1 - - [13/Apr/2024 20:44:44] \"GET /get_weights?date=2020-08-03 HTTP/1.1\" 200 -\n"
     ]
    },
    {
     "name": "stdout",
     "output_type": "stream",
     "text": [
      "2\n",
      "2020-08-03\n",
      "[-0.22596849501132965, 0.8512712121009827, 0.1014634221792221, 0.44219815731048584, -0.16896437108516693]\n"
     ]
    },
    {
     "name": "stderr",
     "output_type": "stream",
     "text": [
      "127.0.0.1 - - [13/Apr/2024 20:44:46] \"GET /get_weights?date=2020-08-10 HTTP/1.1\" 200 -\n"
     ]
    },
    {
     "name": "stdout",
     "output_type": "stream",
     "text": [
      "2\n",
      "2020-08-10\n",
      "[-0.4352322518825531, 0.43501392006874084, -0.0002910156035795808, 0.8487988710403442, 0.15171046555042267]\n"
     ]
    },
    {
     "name": "stderr",
     "output_type": "stream",
     "text": [
      "127.0.0.1 - - [13/Apr/2024 20:44:48] \"GET /get_weights?date=2020-08-17 HTTP/1.1\" 200 -\n"
     ]
    },
    {
     "name": "stdout",
     "output_type": "stream",
     "text": [
      "2\n",
      "2020-08-17\n",
      "[0.0356764979660511, 0.3162075877189636, 0.14400772750377655, 0.47173982858657837, 0.032368287444114685]\n"
     ]
    },
    {
     "name": "stderr",
     "output_type": "stream",
     "text": [
      "127.0.0.1 - - [13/Apr/2024 20:44:51] \"GET /get_weights?date=2020-08-24 HTTP/1.1\" 200 -\n"
     ]
    },
    {
     "name": "stdout",
     "output_type": "stream",
     "text": [
      "2\n",
      "2020-08-24\n",
      "[-0.05784240737557411, 0.26837390661239624, 0.11223728209733963, 0.5549089312553406, 0.12232215702533722]\n"
     ]
    },
    {
     "name": "stderr",
     "output_type": "stream",
     "text": [
      "127.0.0.1 - - [13/Apr/2024 20:44:53] \"GET /get_weights?date=2020-08-31 HTTP/1.1\" 200 -\n"
     ]
    },
    {
     "name": "stdout",
     "output_type": "stream",
     "text": [
      "2\n",
      "2020-08-31\n",
      "[-0.30138492584228516, 0.45507967472076416, 0.36275655031204224, 0.3194082975387573, 0.16414040327072144]\n"
     ]
    },
    {
     "name": "stderr",
     "output_type": "stream",
     "text": [
      "127.0.0.1 - - [13/Apr/2024 20:44:55] \"GET /get_weights?date=2020-09-08 HTTP/1.1\" 200 -\n"
     ]
    },
    {
     "name": "stdout",
     "output_type": "stream",
     "text": [
      "2\n",
      "2020-09-08\n",
      "[0.0718531459569931, 0.2559205889701843, 0.1196657195687294, 1.0000205039978027, -0.4474601149559021]\n"
     ]
    },
    {
     "name": "stderr",
     "output_type": "stream",
     "text": [
      "127.0.0.1 - - [13/Apr/2024 20:44:57] \"GET /get_weights?date=2020-09-14 HTTP/1.1\" 200 -\n"
     ]
    },
    {
     "name": "stdout",
     "output_type": "stream",
     "text": [
      "2\n",
      "2020-09-14\n",
      "[-0.27673035860061646, 0.5044002532958984, -0.02184941992163658, 0.37257540225982666, 0.42160406708717346]\n"
     ]
    },
    {
     "name": "stderr",
     "output_type": "stream",
     "text": [
      "127.0.0.1 - - [13/Apr/2024 20:44:59] \"GET /get_weights?date=2020-09-21 HTTP/1.1\" 200 -\n"
     ]
    },
    {
     "name": "stdout",
     "output_type": "stream",
     "text": [
      "2\n",
      "2020-09-21\n",
      "[0.055436644703149796, 0.10787228494882584, 0.35892149806022644, 0.3299034833908081, 0.14786605536937714]\n"
     ]
    },
    {
     "name": "stderr",
     "output_type": "stream",
     "text": [
      "127.0.0.1 - - [13/Apr/2024 20:45:02] \"GET /get_weights?date=2020-09-28 HTTP/1.1\" 200 -\n"
     ]
    },
    {
     "name": "stdout",
     "output_type": "stream",
     "text": [
      "2\n",
      "2020-09-28\n",
      "[0.20685647428035736, 0.7601360082626343, -0.06639669090509415, 0.10610827058553696, -0.006704065948724747]\n"
     ]
    },
    {
     "name": "stderr",
     "output_type": "stream",
     "text": [
      "127.0.0.1 - - [13/Apr/2024 20:45:04] \"GET /get_weights?date=2020-10-05 HTTP/1.1\" 200 -\n"
     ]
    },
    {
     "name": "stdout",
     "output_type": "stream",
     "text": [
      "2\n",
      "2020-10-05\n",
      "[-0.013503736816346645, 0.31072962284088135, 0.08547711372375488, 0.5120411515235901, 0.10525573790073395]\n"
     ]
    },
    {
     "name": "stderr",
     "output_type": "stream",
     "text": [
      "127.0.0.1 - - [13/Apr/2024 20:45:06] \"GET /get_weights?date=2020-10-12 HTTP/1.1\" 200 -\n"
     ]
    },
    {
     "name": "stdout",
     "output_type": "stream",
     "text": [
      "2\n",
      "2020-10-12\n",
      "[-0.1694878488779068, 0.5140460133552551, -0.06616383045911789, 0.43840616941452026, 0.2831992208957672]\n"
     ]
    },
    {
     "name": "stderr",
     "output_type": "stream",
     "text": [
      "127.0.0.1 - - [13/Apr/2024 20:45:09] \"GET /get_weights?date=2020-10-19 HTTP/1.1\" 200 -\n"
     ]
    },
    {
     "name": "stdout",
     "output_type": "stream",
     "text": [
      "2\n",
      "2020-10-19\n",
      "[0.40640437602996826, 0.2372959703207016, -0.19328992068767548, 0.4326082766056061, 0.1169811561703682]\n"
     ]
    },
    {
     "name": "stderr",
     "output_type": "stream",
     "text": [
      "127.0.0.1 - - [13/Apr/2024 20:45:11] \"GET /get_weights?date=2020-10-26 HTTP/1.1\" 200 -\n"
     ]
    },
    {
     "name": "stdout",
     "output_type": "stream",
     "text": [
      "2\n",
      "2020-10-26\n",
      "[0.03175310790538788, 0.30047908425331116, 0.11485367268323898, 0.43694332242012024, 0.11597079038619995]\n"
     ]
    },
    {
     "name": "stderr",
     "output_type": "stream",
     "text": [
      "127.0.0.1 - - [13/Apr/2024 20:45:13] \"GET /get_weights?date=2020-11-02 HTTP/1.1\" 200 -\n"
     ]
    },
    {
     "name": "stdout",
     "output_type": "stream",
     "text": [
      "2\n",
      "2020-11-02\n",
      "[-0.326560378074646, 0.5190975069999695, -0.006811125203967094, 0.5956082940101624, 0.21866564452648163]\n"
     ]
    },
    {
     "name": "stderr",
     "output_type": "stream",
     "text": [
      "127.0.0.1 - - [13/Apr/2024 20:45:15] \"GET /get_weights?date=2020-11-09 HTTP/1.1\" 200 -\n"
     ]
    },
    {
     "name": "stdout",
     "output_type": "stream",
     "text": [
      "2\n",
      "2020-11-09\n",
      "[-0.021310361102223396, 0.37464138865470886, -0.013944889418780804, 0.6338499784469604, 0.0267637986689806]\n"
     ]
    },
    {
     "name": "stderr",
     "output_type": "stream",
     "text": [
      "127.0.0.1 - - [13/Apr/2024 20:45:18] \"GET /get_weights?date=2020-11-16 HTTP/1.1\" 200 -\n"
     ]
    },
    {
     "name": "stdout",
     "output_type": "stream",
     "text": [
      "2\n",
      "2020-11-16\n",
      "[0.017943914979696274, 0.44913002848625183, -0.13166797161102295, 0.39105045795440674, 0.2735433280467987]\n"
     ]
    },
    {
     "name": "stderr",
     "output_type": "stream",
     "text": [
      "127.0.0.1 - - [13/Apr/2024 20:45:20] \"GET /get_weights?date=2020-11-23 HTTP/1.1\" 200 -\n"
     ]
    },
    {
     "name": "stdout",
     "output_type": "stream",
     "text": [
      "2\n",
      "2020-11-23\n",
      "[0.14273419976234436, 0.4455428421497345, 0.1470327228307724, 0.5517939329147339, -0.28710371255874634]\n"
     ]
    },
    {
     "name": "stderr",
     "output_type": "stream",
     "text": [
      "127.0.0.1 - - [13/Apr/2024 20:45:22] \"GET /get_weights?date=2020-11-30 HTTP/1.1\" 200 -\n"
     ]
    },
    {
     "name": "stdout",
     "output_type": "stream",
     "text": [
      "2\n",
      "2020-11-30\n",
      "[0.2592531740665436, 0.006374971941113472, 0.6209328174591064, 0.19418121874332428, -0.08074221760034561]\n"
     ]
    },
    {
     "name": "stderr",
     "output_type": "stream",
     "text": [
      "127.0.0.1 - - [13/Apr/2024 20:45:25] \"GET /get_weights?date=2020-12-07 HTTP/1.1\" 200 -\n"
     ]
    },
    {
     "name": "stdout",
     "output_type": "stream",
     "text": [
      "2\n",
      "2020-12-07\n",
      "[0.12571674585342407, 0.732507586479187, 0.06964726001024246, 0.29553449153900146, -0.22340624034404755]\n"
     ]
    },
    {
     "name": "stderr",
     "output_type": "stream",
     "text": [
      "127.0.0.1 - - [13/Apr/2024 20:45:27] \"GET /get_weights?date=2020-12-14 HTTP/1.1\" 200 -\n"
     ]
    },
    {
     "name": "stdout",
     "output_type": "stream",
     "text": [
      "2\n",
      "2020-12-14\n",
      "[0.007450304925441742, -0.18072398006916046, 0.20070527493953705, 0.9591578245162964, 0.01341050025075674]\n"
     ]
    },
    {
     "name": "stderr",
     "output_type": "stream",
     "text": [
      "127.0.0.1 - - [13/Apr/2024 20:45:32] \"GET /get_weights?date=2017-12-18 HTTP/1.1\" 200 -\n"
     ]
    },
    {
     "name": "stdout",
     "output_type": "stream",
     "text": [
      "0\n",
      "2017-12-18\n",
      "[-0.07895562052726746, 0.610747754573822, -0.42514437437057495, 0.352143257856369, 0.5412089824676514]\n"
     ]
    },
    {
     "name": "stderr",
     "output_type": "stream",
     "text": [
      "127.0.0.1 - - [13/Apr/2024 20:45:35] \"GET /get_weights?date=2017-12-26 HTTP/1.1\" 200 -\n"
     ]
    },
    {
     "name": "stdout",
     "output_type": "stream",
     "text": [
      "0\n",
      "2017-12-26\n",
      "[0.1999300867319107, 0.029027244076132774, -0.446811318397522, 0.6569528579711914, 0.5609009265899658]\n"
     ]
    },
    {
     "name": "stderr",
     "output_type": "stream",
     "text": [
      "127.0.0.1 - - [13/Apr/2024 20:45:37] \"GET /get_weights?date=2018-01-02 HTTP/1.1\" 200 -\n"
     ]
    },
    {
     "name": "stdout",
     "output_type": "stream",
     "text": [
      "0\n",
      "2018-01-02\n",
      "[-0.2609204649925232, 1.000011682510376, 0.018998660147190094, 0.25231871008872986, -0.010408598929643631]\n"
     ]
    },
    {
     "name": "stderr",
     "output_type": "stream",
     "text": [
      "127.0.0.1 - - [13/Apr/2024 20:45:40] \"GET /get_weights?date=2018-01-08 HTTP/1.1\" 200 -\n"
     ]
    },
    {
     "name": "stdout",
     "output_type": "stream",
     "text": [
      "0\n",
      "2018-01-08\n",
      "[-0.37569138407707214, 0.9221847653388977, -0.3145352303981781, 0.5633494853973389, 0.20469236373901367]\n"
     ]
    },
    {
     "name": "stderr",
     "output_type": "stream",
     "text": [
      "127.0.0.1 - - [13/Apr/2024 20:45:42] \"GET /get_weights?date=2018-01-16 HTTP/1.1\" 200 -\n"
     ]
    },
    {
     "name": "stdout",
     "output_type": "stream",
     "text": [
      "0\n",
      "2018-01-16\n",
      "[0.08286765217781067, 0.6019934415817261, -0.06511683017015457, 0.4842383563518524, -0.10398279130458832]\n"
     ]
    },
    {
     "name": "stderr",
     "output_type": "stream",
     "text": [
      "127.0.0.1 - - [13/Apr/2024 20:45:44] \"GET /get_weights?date=2018-01-22 HTTP/1.1\" 200 -\n"
     ]
    },
    {
     "name": "stdout",
     "output_type": "stream",
     "text": [
      "0\n",
      "2018-01-22\n",
      "[-0.5916204452514648, 0.09500295668840408, -0.2590821385383606, 0.8835954666137695, 0.8721041083335876]\n"
     ]
    },
    {
     "name": "stderr",
     "output_type": "stream",
     "text": [
      "127.0.0.1 - - [13/Apr/2024 20:45:47] \"GET /get_weights?date=2018-01-29 HTTP/1.1\" 200 -\n"
     ]
    },
    {
     "name": "stdout",
     "output_type": "stream",
     "text": [
      "0\n",
      "2018-01-29\n",
      "[-0.2745298743247986, 0.30626749992370605, 0.3166545331478119, 0.2936939299106598, 0.35791370272636414]\n"
     ]
    },
    {
     "name": "stderr",
     "output_type": "stream",
     "text": [
      "127.0.0.1 - - [13/Apr/2024 20:45:49] \"GET /get_weights?date=2018-02-05 HTTP/1.1\" 200 -\n"
     ]
    },
    {
     "name": "stdout",
     "output_type": "stream",
     "text": [
      "0\n",
      "2018-02-05\n",
      "[0.04099847376346588, 0.33555465936660767, 0.2088766247034073, 0.35037505626678467, 0.06419496983289719]\n"
     ]
    },
    {
     "name": "stderr",
     "output_type": "stream",
     "text": [
      "127.0.0.1 - - [13/Apr/2024 20:45:51] \"GET /get_weights?date=2018-02-12 HTTP/1.1\" 200 -\n"
     ]
    },
    {
     "name": "stdout",
     "output_type": "stream",
     "text": [
      "0\n",
      "2018-02-12\n",
      "[-0.0016976884799078107, 0.4080347716808319, 0.2941553294658661, 0.11434678733348846, 0.18516042828559875]\n"
     ]
    },
    {
     "name": "stderr",
     "output_type": "stream",
     "text": [
      "127.0.0.1 - - [13/Apr/2024 20:45:54] \"GET /get_weights?date=2018-02-20 HTTP/1.1\" 200 -\n"
     ]
    },
    {
     "name": "stdout",
     "output_type": "stream",
     "text": [
      "0\n",
      "2018-02-20\n",
      "[0.08496421575546265, 0.4715862572193146, -0.07819809764623642, 0.4007359445095062, 0.12091166526079178]\n"
     ]
    },
    {
     "name": "stderr",
     "output_type": "stream",
     "text": [
      "127.0.0.1 - - [13/Apr/2024 20:45:56] \"GET /get_weights?date=2018-02-26 HTTP/1.1\" 200 -\n"
     ]
    },
    {
     "name": "stdout",
     "output_type": "stream",
     "text": [
      "0\n",
      "2018-02-26\n",
      "[0.03142808750271797, 0.3328990936279297, 0.05139121785759926, 0.373216837644577, 0.211064413189888]\n"
     ]
    },
    {
     "name": "stderr",
     "output_type": "stream",
     "text": [
      "127.0.0.1 - - [13/Apr/2024 20:45:58] \"GET /get_weights?date=2018-03-05 HTTP/1.1\" 200 -\n"
     ]
    },
    {
     "name": "stdout",
     "output_type": "stream",
     "text": [
      "0\n",
      "2018-03-05\n",
      "[0.5477636456489563, 0.2150970846414566, -0.19571448862552643, 0.03247320279479027, 0.40038052201271057]\n"
     ]
    },
    {
     "name": "stderr",
     "output_type": "stream",
     "text": [
      "127.0.0.1 - - [13/Apr/2024 20:46:00] \"GET /get_weights?date=2018-03-12 HTTP/1.1\" 200 -\n"
     ]
    },
    {
     "name": "stdout",
     "output_type": "stream",
     "text": [
      "0\n",
      "2018-03-12\n",
      "[-0.22141362726688385, 0.07069933414459229, 0.11136138439178467, 0.7152935862541199, 0.3240593373775482]\n"
     ]
    },
    {
     "name": "stderr",
     "output_type": "stream",
     "text": [
      "127.0.0.1 - - [13/Apr/2024 20:46:03] \"GET /get_weights?date=2018-03-19 HTTP/1.1\" 200 -\n"
     ]
    },
    {
     "name": "stdout",
     "output_type": "stream",
     "text": [
      "0\n",
      "2018-03-19\n",
      "[0.28820478916168213, 0.5838276147842407, -0.3015768229961395, 0.3555731773376465, 0.07397112995386124]\n"
     ]
    },
    {
     "name": "stderr",
     "output_type": "stream",
     "text": [
      "127.0.0.1 - - [13/Apr/2024 20:46:05] \"GET /get_weights?date=2018-03-26 HTTP/1.1\" 200 -\n"
     ]
    },
    {
     "name": "stdout",
     "output_type": "stream",
     "text": [
      "0\n",
      "2018-03-26\n",
      "[0.12120579183101654, -0.007363458629697561, 0.5861725807189941, 0.33084315061569214, -0.030858105048537254]\n"
     ]
    },
    {
     "name": "stderr",
     "output_type": "stream",
     "text": [
      "127.0.0.1 - - [13/Apr/2024 20:46:08] \"GET /get_weights?date=2018-04-02 HTTP/1.1\" 200 -\n"
     ]
    },
    {
     "name": "stdout",
     "output_type": "stream",
     "text": [
      "0\n",
      "2018-04-02\n",
      "[-0.1300889104604721, 0.3285849392414093, 0.3959859609603882, 0.17084313929080963, 0.2346748262643814]\n"
     ]
    },
    {
     "name": "stderr",
     "output_type": "stream",
     "text": [
      "127.0.0.1 - - [13/Apr/2024 20:46:10] \"GET /get_weights?date=2018-04-09 HTTP/1.1\" 200 -\n"
     ]
    },
    {
     "name": "stdout",
     "output_type": "stream",
     "text": [
      "0\n",
      "2018-04-09\n",
      "[-0.0932411476969719, 0.760297954082489, 0.05199761688709259, 0.050560157746076584, 0.2303854078054428]\n"
     ]
    },
    {
     "name": "stderr",
     "output_type": "stream",
     "text": [
      "127.0.0.1 - - [13/Apr/2024 20:46:13] \"GET /get_weights?date=2018-04-16 HTTP/1.1\" 200 -\n"
     ]
    },
    {
     "name": "stdout",
     "output_type": "stream",
     "text": [
      "0\n",
      "2018-04-16\n",
      "[-0.1635778546333313, 0.4934837520122528, 0.19259510934352875, 0.44357171654701233, 0.03392725810408592]\n"
     ]
    },
    {
     "name": "stderr",
     "output_type": "stream",
     "text": [
      "127.0.0.1 - - [13/Apr/2024 20:46:15] \"GET /get_weights?date=2018-04-23 HTTP/1.1\" 200 -\n"
     ]
    },
    {
     "name": "stdout",
     "output_type": "stream",
     "text": [
      "0\n",
      "2018-04-23\n",
      "[-0.3136832118034363, 0.2915228605270386, 0.287771612405777, 0.3802533745765686, 0.3541352152824402]\n"
     ]
    },
    {
     "name": "stderr",
     "output_type": "stream",
     "text": [
      "127.0.0.1 - - [13/Apr/2024 20:46:18] \"GET /get_weights?date=2018-04-30 HTTP/1.1\" 200 -\n"
     ]
    },
    {
     "name": "stdout",
     "output_type": "stream",
     "text": [
      "0\n",
      "2018-04-30\n",
      "[-0.260390043258667, 0.2976034879684448, 0.7104759812355042, 0.35529825091362, -0.10298772901296616]\n"
     ]
    },
    {
     "name": "stderr",
     "output_type": "stream",
     "text": [
      "127.0.0.1 - - [13/Apr/2024 20:46:20] \"GET /get_weights?date=2018-05-07 HTTP/1.1\" 200 -\n"
     ]
    },
    {
     "name": "stdout",
     "output_type": "stream",
     "text": [
      "0\n",
      "2018-05-07\n",
      "[0.03553290292620659, 1.0000258684158325, -0.8687635064125061, 0.6354106664657593, 0.19779406487941742]\n"
     ]
    },
    {
     "name": "stderr",
     "output_type": "stream",
     "text": [
      "127.0.0.1 - - [13/Apr/2024 20:46:22] \"GET /get_weights?date=2018-05-14 HTTP/1.1\" 200 -\n"
     ]
    },
    {
     "name": "stdout",
     "output_type": "stream",
     "text": [
      "0\n",
      "2018-05-14\n",
      "[-0.20673790574073792, 1.0000170469284058, -0.7989004850387573, 0.6740961074829102, 0.33152520656585693]\n"
     ]
    },
    {
     "name": "stderr",
     "output_type": "stream",
     "text": [
      "127.0.0.1 - - [13/Apr/2024 20:46:25] \"GET /get_weights?date=2018-05-21 HTTP/1.1\" 200 -\n"
     ]
    },
    {
     "name": "stdout",
     "output_type": "stream",
     "text": [
      "0\n",
      "2018-05-21\n",
      "[-0.01128611620515585, -0.060010023415088654, 0.3550861179828644, 0.9999902844429016, -0.2837802469730377]\n"
     ]
    },
    {
     "name": "stderr",
     "output_type": "stream",
     "text": [
      "127.0.0.1 - - [13/Apr/2024 20:46:27] \"GET /get_weights?date=2018-05-29 HTTP/1.1\" 200 -\n"
     ]
    },
    {
     "name": "stdout",
     "output_type": "stream",
     "text": [
      "0\n",
      "2018-05-29\n",
      "[0.1681436151266098, 0.8408030867576599, 0.07326719909906387, 0.09412900358438492, -0.17634297907352448]\n"
     ]
    },
    {
     "name": "stderr",
     "output_type": "stream",
     "text": [
      "127.0.0.1 - - [13/Apr/2024 20:46:29] \"GET /get_weights?date=2018-06-04 HTTP/1.1\" 200 -\n"
     ]
    },
    {
     "name": "stdout",
     "output_type": "stream",
     "text": [
      "0\n",
      "2018-06-04\n",
      "[-0.32507196068763733, 1.000051736831665, 0.06427603960037231, 0.2437129020690918, 0.017030879855155945]\n"
     ]
    },
    {
     "name": "stderr",
     "output_type": "stream",
     "text": [
      "127.0.0.1 - - [13/Apr/2024 20:46:32] \"GET /get_weights?date=2018-06-11 HTTP/1.1\" 200 -\n"
     ]
    },
    {
     "name": "stdout",
     "output_type": "stream",
     "text": [
      "0\n",
      "2018-06-11\n",
      "[-0.4585707187652588, 1.0, 0.1869678795337677, 0.369341105222702, -0.09773830324411392]\n"
     ]
    },
    {
     "name": "stderr",
     "output_type": "stream",
     "text": [
      "127.0.0.1 - - [13/Apr/2024 20:46:34] \"GET /get_weights?date=2018-06-18 HTTP/1.1\" 200 -\n"
     ]
    },
    {
     "name": "stdout",
     "output_type": "stream",
     "text": [
      "0\n",
      "2018-06-18\n",
      "[-0.3618084192276001, 0.4060606360435486, 0.34886085987091064, 0.6035738587379456, 0.0033130859956145287]\n"
     ]
    },
    {
     "name": "stderr",
     "output_type": "stream",
     "text": [
      "127.0.0.1 - - [13/Apr/2024 20:46:36] \"GET /get_weights?date=2018-06-25 HTTP/1.1\" 200 -\n"
     ]
    },
    {
     "name": "stdout",
     "output_type": "stream",
     "text": [
      "0\n",
      "2018-06-25\n",
      "[-0.3814994692802429, 0.7010738849639893, 0.3033946454524994, 0.33339494466781616, 0.04363594949245453]\n"
     ]
    },
    {
     "name": "stderr",
     "output_type": "stream",
     "text": [
      "127.0.0.1 - - [13/Apr/2024 20:46:38] \"GET /get_weights?date=2018-07-02 HTTP/1.1\" 200 -\n"
     ]
    },
    {
     "name": "stdout",
     "output_type": "stream",
     "text": [
      "0\n",
      "2018-07-02\n",
      "[-0.015623084269464016, 0.6649860143661499, -0.18033665418624878, 0.7918739914894104, -0.2609003782272339]\n"
     ]
    },
    {
     "name": "stderr",
     "output_type": "stream",
     "text": [
      "127.0.0.1 - - [13/Apr/2024 20:46:40] \"GET /get_weights?date=2018-07-09 HTTP/1.1\" 200 -\n"
     ]
    },
    {
     "name": "stdout",
     "output_type": "stream",
     "text": [
      "0\n",
      "2018-07-09\n",
      "[-0.00994629692286253, 1.0000132322311401, -0.021916693076491356, 0.5498005747795105, -0.5179508924484253]\n"
     ]
    },
    {
     "name": "stderr",
     "output_type": "stream",
     "text": [
      "127.0.0.1 - - [13/Apr/2024 20:46:43] \"GET /get_weights?date=2018-07-16 HTTP/1.1\" 200 -\n"
     ]
    },
    {
     "name": "stdout",
     "output_type": "stream",
     "text": [
      "0\n",
      "2018-07-16\n",
      "[0.27815163135528564, 1.0000035762786865, -0.6420594453811646, 0.2760603427886963, 0.08784372359514236]\n"
     ]
    },
    {
     "name": "stderr",
     "output_type": "stream",
     "text": [
      "127.0.0.1 - - [13/Apr/2024 20:46:45] \"GET /get_weights?date=2018-07-23 HTTP/1.1\" 200 -\n"
     ]
    },
    {
     "name": "stdout",
     "output_type": "stream",
     "text": [
      "0\n",
      "2018-07-23\n",
      "[-0.19793342053890228, 0.26128774881362915, 0.05319064483046532, 0.723048746585846, 0.16040614247322083]\n"
     ]
    },
    {
     "name": "stderr",
     "output_type": "stream",
     "text": [
      "127.0.0.1 - - [13/Apr/2024 20:46:47] \"GET /get_weights?date=2018-07-30 HTTP/1.1\" 200 -\n"
     ]
    },
    {
     "name": "stdout",
     "output_type": "stream",
     "text": [
      "0\n",
      "2018-07-30\n",
      "[-0.7109116315841675, 0.9999940991401672, 0.4501805603504181, 0.742209792137146, -0.48147284984588623]\n"
     ]
    },
    {
     "name": "stderr",
     "output_type": "stream",
     "text": [
      "127.0.0.1 - - [13/Apr/2024 20:46:49] \"GET /get_weights?date=2018-08-06 HTTP/1.1\" 200 -\n"
     ]
    },
    {
     "name": "stdout",
     "output_type": "stream",
     "text": [
      "0\n",
      "2018-08-06\n",
      "[-0.5262675285339355, 0.9999887943267822, 0.0797823965549469, 0.5795052647590637, -0.1330089271068573]\n"
     ]
    },
    {
     "name": "stderr",
     "output_type": "stream",
     "text": [
      "127.0.0.1 - - [13/Apr/2024 20:46:51] \"GET /get_weights?date=2018-08-13 HTTP/1.1\" 200 -\n"
     ]
    },
    {
     "name": "stdout",
     "output_type": "stream",
     "text": [
      "0\n",
      "2018-08-13\n",
      "[0.14661508798599243, 0.1903608739376068, 0.2523621618747711, 0.799909770488739, -0.38924792408943176]\n"
     ]
    },
    {
     "name": "stderr",
     "output_type": "stream",
     "text": [
      "127.0.0.1 - - [13/Apr/2024 20:46:54] \"GET /get_weights?date=2018-08-20 HTTP/1.1\" 200 -\n"
     ]
    },
    {
     "name": "stdout",
     "output_type": "stream",
     "text": [
      "0\n",
      "2018-08-20\n",
      "[-0.05162302032113075, 0.672983705997467, -0.5125905871391296, 0.7176210284233093, 0.17360886931419373]\n"
     ]
    },
    {
     "name": "stderr",
     "output_type": "stream",
     "text": [
      "127.0.0.1 - - [13/Apr/2024 20:46:56] \"GET /get_weights?date=2018-08-27 HTTP/1.1\" 200 -\n"
     ]
    },
    {
     "name": "stdout",
     "output_type": "stream",
     "text": [
      "0\n",
      "2018-08-27\n",
      "[-0.4805479049682617, 0.8620203137397766, -0.307300329208374, 0.49821937084198, 0.42760854959487915]\n"
     ]
    },
    {
     "name": "stderr",
     "output_type": "stream",
     "text": [
      "127.0.0.1 - - [13/Apr/2024 20:46:58] \"GET /get_weights?date=2018-09-04 HTTP/1.1\" 200 -\n"
     ]
    },
    {
     "name": "stdout",
     "output_type": "stream",
     "text": [
      "0\n",
      "2018-09-04\n",
      "[-0.3792002499103546, 0.5886960625648499, 0.2739318311214447, 0.3707043528556824, 0.14586792886257172]\n"
     ]
    },
    {
     "name": "stderr",
     "output_type": "stream",
     "text": [
      "127.0.0.1 - - [13/Apr/2024 20:47:00] \"GET /get_weights?date=2018-09-10 HTTP/1.1\" 200 -\n"
     ]
    },
    {
     "name": "stdout",
     "output_type": "stream",
     "text": [
      "0\n",
      "2018-09-10\n",
      "[0.18353235721588135, 0.5979577898979187, -0.34163400530815125, 0.522930920124054, 0.037212904542684555]\n"
     ]
    },
    {
     "name": "stderr",
     "output_type": "stream",
     "text": [
      "127.0.0.1 - - [13/Apr/2024 20:47:02] \"GET /get_weights?date=2018-09-17 HTTP/1.1\" 200 -\n"
     ]
    },
    {
     "name": "stdout",
     "output_type": "stream",
     "text": [
      "0\n",
      "2018-09-17\n",
      "[0.3000442385673523, 0.12345977127552032, -0.066422238945961, -0.06264831870794296, 0.7055662274360657]\n"
     ]
    },
    {
     "name": "stderr",
     "output_type": "stream",
     "text": [
      "127.0.0.1 - - [13/Apr/2024 20:47:04] \"GET /get_weights?date=2018-09-24 HTTP/1.1\" 200 -\n"
     ]
    },
    {
     "name": "stdout",
     "output_type": "stream",
     "text": [
      "0\n",
      "2018-09-24\n",
      "[-0.4472387731075287, 0.6303876638412476, -0.073470339179039, 0.5535417199134827, 0.33677953481674194]\n"
     ]
    },
    {
     "name": "stderr",
     "output_type": "stream",
     "text": [
      "127.0.0.1 - - [13/Apr/2024 20:47:07] \"GET /get_weights?date=2018-10-01 HTTP/1.1\" 200 -\n"
     ]
    },
    {
     "name": "stdout",
     "output_type": "stream",
     "text": [
      "0\n",
      "2018-10-01\n",
      "[-0.7452176809310913, 0.6929542422294617, 0.5257560610771179, 0.2661705017089844, 0.26033684611320496]\n"
     ]
    },
    {
     "name": "stderr",
     "output_type": "stream",
     "text": [
      "127.0.0.1 - - [13/Apr/2024 20:47:09] \"GET /get_weights?date=2018-10-08 HTTP/1.1\" 200 -\n"
     ]
    },
    {
     "name": "stdout",
     "output_type": "stream",
     "text": [
      "0\n",
      "2018-10-08\n",
      "[-0.0010101647349074483, -0.19382208585739136, -0.09107641130685806, 1.000077247619629, 0.2858310639858246]\n"
     ]
    },
    {
     "name": "stderr",
     "output_type": "stream",
     "text": [
      "127.0.0.1 - - [13/Apr/2024 20:47:11] \"GET /get_weights?date=2018-10-15 HTTP/1.1\" 200 -\n"
     ]
    },
    {
     "name": "stdout",
     "output_type": "stream",
     "text": [
      "0\n",
      "2018-10-15\n",
      "[-0.1621941328048706, 0.7822126150131226, 0.10449957847595215, 0.2503046691417694, 0.025177232921123505]\n"
     ]
    },
    {
     "name": "stderr",
     "output_type": "stream",
     "text": [
      "127.0.0.1 - - [13/Apr/2024 20:47:13] \"GET /get_weights?date=2018-10-22 HTTP/1.1\" 200 -\n"
     ]
    },
    {
     "name": "stdout",
     "output_type": "stream",
     "text": [
      "0\n",
      "2018-10-22\n",
      "[-0.1103983148932457, 0.17315801978111267, 0.18193340301513672, 0.9785542488098145, -0.22324736416339874]\n"
     ]
    },
    {
     "name": "stderr",
     "output_type": "stream",
     "text": [
      "127.0.0.1 - - [13/Apr/2024 20:47:16] \"GET /get_weights?date=2018-10-29 HTTP/1.1\" 200 -\n"
     ]
    },
    {
     "name": "stdout",
     "output_type": "stream",
     "text": [
      "0\n",
      "2018-10-29\n",
      "[0.5188380479812622, 0.23456725478172302, 0.12715649604797363, 0.5087496638298035, -0.38931146264076233]\n"
     ]
    },
    {
     "name": "stderr",
     "output_type": "stream",
     "text": [
      "127.0.0.1 - - [13/Apr/2024 20:47:18] \"GET /get_weights?date=2018-11-05 HTTP/1.1\" 200 -\n"
     ]
    },
    {
     "name": "stdout",
     "output_type": "stream",
     "text": [
      "0\n",
      "2018-11-05\n",
      "[-0.6288695335388184, 0.29654404520988464, 0.42613640427589417, 0.6258383393287659, 0.2803508937358856]\n"
     ]
    },
    {
     "name": "stderr",
     "output_type": "stream",
     "text": [
      "127.0.0.1 - - [13/Apr/2024 20:47:20] \"GET /get_weights?date=2018-11-12 HTTP/1.1\" 200 -\n"
     ]
    },
    {
     "name": "stdout",
     "output_type": "stream",
     "text": [
      "0\n",
      "2018-11-12\n",
      "[0.22576455771923065, -0.030682746320962906, 0.3352401852607727, 0.5759919881820679, -0.10631398856639862]\n"
     ]
    },
    {
     "name": "stderr",
     "output_type": "stream",
     "text": [
      "127.0.0.1 - - [13/Apr/2024 20:47:22] \"GET /get_weights?date=2018-11-19 HTTP/1.1\" 200 -\n"
     ]
    },
    {
     "name": "stdout",
     "output_type": "stream",
     "text": [
      "0\n",
      "2018-11-19\n",
      "[0.6167392134666443, 0.33134421706199646, 0.0865914523601532, 0.9325385093688965, -0.9672139286994934]\n"
     ]
    },
    {
     "name": "stderr",
     "output_type": "stream",
     "text": [
      "127.0.0.1 - - [13/Apr/2024 20:47:24] \"GET /get_weights?date=2018-11-26 HTTP/1.1\" 200 -\n"
     ]
    },
    {
     "name": "stdout",
     "output_type": "stream",
     "text": [
      "0\n",
      "2018-11-26\n",
      "[-0.09393761307001114, 0.6199487447738647, 0.16682447493076324, 0.1986335813999176, 0.10853081196546555]\n"
     ]
    },
    {
     "name": "stderr",
     "output_type": "stream",
     "text": [
      "127.0.0.1 - - [13/Apr/2024 20:47:27] \"GET /get_weights?date=2018-12-03 HTTP/1.1\" 200 -\n"
     ]
    },
    {
     "name": "stdout",
     "output_type": "stream",
     "text": [
      "0\n",
      "2018-12-03\n",
      "[-0.25287842750549316, 0.3193521797657013, -0.017842737957835197, 0.7576176524162292, 0.1937512755393982]\n"
     ]
    },
    {
     "name": "stderr",
     "output_type": "stream",
     "text": [
      "127.0.0.1 - - [13/Apr/2024 20:47:29] \"GET /get_weights?date=2018-12-10 HTTP/1.1\" 200 -\n"
     ]
    },
    {
     "name": "stdout",
     "output_type": "stream",
     "text": [
      "0\n",
      "2018-12-10\n",
      "[0.24964533746242523, 0.6415711045265198, -0.1136544719338417, 0.8802701234817505, -0.6578322052955627]\n"
     ]
    },
    {
     "name": "stderr",
     "output_type": "stream",
     "text": [
      "127.0.0.1 - - [13/Apr/2024 20:47:31] \"GET /get_weights?date=2018-12-17 HTTP/1.1\" 200 -\n"
     ]
    },
    {
     "name": "stdout",
     "output_type": "stream",
     "text": [
      "1\n",
      "2018-12-17\n",
      "[0.016599414870142937, 0.7035114765167236, 0.056560661643743515, 0.2776224911212921, -0.05429407209157944]\n"
     ]
    },
    {
     "name": "stderr",
     "output_type": "stream",
     "text": [
      "127.0.0.1 - - [13/Apr/2024 20:47:34] \"GET /get_weights?date=2018-12-24 HTTP/1.1\" 200 -\n"
     ]
    },
    {
     "name": "stdout",
     "output_type": "stream",
     "text": [
      "1\n",
      "2018-12-24\n",
      "[0.25855645537376404, 0.2962033450603485, -0.12683150172233582, 0.7024291157722473, -0.13035742938518524]\n"
     ]
    },
    {
     "name": "stderr",
     "output_type": "stream",
     "text": [
      "127.0.0.1 - - [13/Apr/2024 20:47:36] \"GET /get_weights?date=2018-12-31 HTTP/1.1\" 200 -\n"
     ]
    },
    {
     "name": "stdout",
     "output_type": "stream",
     "text": [
      "1\n",
      "2018-12-31\n",
      "[0.2864851653575897, 0.46085691452026367, -0.15684737265110016, 0.2242092341184616, 0.18529574573040009]\n"
     ]
    },
    {
     "name": "stderr",
     "output_type": "stream",
     "text": [
      "127.0.0.1 - - [13/Apr/2024 20:47:38] \"GET /get_weights?date=2019-01-07 HTTP/1.1\" 200 -\n"
     ]
    },
    {
     "name": "stdout",
     "output_type": "stream",
     "text": [
      "1\n",
      "2019-01-07\n",
      "[0.23065857589244843, 0.4057569205760956, -0.20496858656406403, 0.5853505730628967, -0.016797494143247604]\n"
     ]
    },
    {
     "name": "stderr",
     "output_type": "stream",
     "text": [
      "127.0.0.1 - - [13/Apr/2024 20:47:40] \"GET /get_weights?date=2019-01-14 HTTP/1.1\" 200 -\n"
     ]
    },
    {
     "name": "stdout",
     "output_type": "stream",
     "text": [
      "1\n",
      "2019-01-14\n",
      "[0.22015781700611115, 0.07450813800096512, -0.0021783052943646908, 0.44073382019996643, 0.26677826046943665]\n"
     ]
    },
    {
     "name": "stderr",
     "output_type": "stream",
     "text": [
      "127.0.0.1 - - [13/Apr/2024 20:47:43] \"GET /get_weights?date=2019-01-22 HTTP/1.1\" 200 -\n"
     ]
    },
    {
     "name": "stdout",
     "output_type": "stream",
     "text": [
      "1\n",
      "2019-01-22\n",
      "[-0.3779085576534271, 0.8686726093292236, 0.024896197021007538, 0.540931761264801, -0.05659225955605507]\n"
     ]
    },
    {
     "name": "stderr",
     "output_type": "stream",
     "text": [
      "127.0.0.1 - - [13/Apr/2024 20:47:45] \"GET /get_weights?date=2019-01-28 HTTP/1.1\" 200 -\n"
     ]
    },
    {
     "name": "stdout",
     "output_type": "stream",
     "text": [
      "1\n",
      "2019-01-28\n",
      "[-0.173762246966362, 0.14576290547847748, -0.20079077780246735, 1.0000168085098267, 0.22877322137355804]\n"
     ]
    },
    {
     "name": "stderr",
     "output_type": "stream",
     "text": [
      "127.0.0.1 - - [13/Apr/2024 20:47:47] \"GET /get_weights?date=2019-02-04 HTTP/1.1\" 200 -\n"
     ]
    },
    {
     "name": "stdout",
     "output_type": "stream",
     "text": [
      "1\n",
      "2019-02-04\n",
      "[0.2402660995721817, 0.3231429159641266, -0.3034786581993103, 0.6513287425041199, 0.08874090760946274]\n"
     ]
    },
    {
     "name": "stderr",
     "output_type": "stream",
     "text": [
      "127.0.0.1 - - [13/Apr/2024 20:47:50] \"GET /get_weights?date=2019-02-11 HTTP/1.1\" 200 -\n"
     ]
    },
    {
     "name": "stdout",
     "output_type": "stream",
     "text": [
      "1\n",
      "2019-02-11\n",
      "[-0.04395285248756409, 0.555404543876648, 0.038954656571149826, 0.6317558884620667, -0.1821623146533966]\n"
     ]
    },
    {
     "name": "stderr",
     "output_type": "stream",
     "text": [
      "127.0.0.1 - - [13/Apr/2024 20:47:52] \"GET /get_weights?date=2019-02-19 HTTP/1.1\" 200 -\n"
     ]
    },
    {
     "name": "stdout",
     "output_type": "stream",
     "text": [
      "1\n",
      "2019-02-19\n",
      "[-0.08852089196443558, 0.6140080690383911, -0.32295680046081543, 0.7254461050033569, 0.07202348113059998]\n"
     ]
    },
    {
     "name": "stderr",
     "output_type": "stream",
     "text": [
      "127.0.0.1 - - [13/Apr/2024 20:47:54] \"GET /get_weights?date=2019-02-25 HTTP/1.1\" 200 -\n"
     ]
    },
    {
     "name": "stdout",
     "output_type": "stream",
     "text": [
      "1\n",
      "2019-02-25\n",
      "[-0.14190347492694855, 0.5859339237213135, 0.0874827578663826, 0.30149465799331665, 0.16699206829071045]\n"
     ]
    },
    {
     "name": "stderr",
     "output_type": "stream",
     "text": [
      "127.0.0.1 - - [13/Apr/2024 20:47:57] \"GET /get_weights?date=2019-03-04 HTTP/1.1\" 200 -\n"
     ]
    },
    {
     "name": "stdout",
     "output_type": "stream",
     "text": [
      "1\n",
      "2019-03-04\n",
      "[0.35117265582084656, 0.6894493699073792, -0.5562695860862732, 0.30578407645225525, 0.20986351370811462]\n"
     ]
    },
    {
     "name": "stderr",
     "output_type": "stream",
     "text": [
      "127.0.0.1 - - [13/Apr/2024 20:48:00] \"GET /get_weights?date=2019-03-11 HTTP/1.1\" 200 -\n"
     ]
    },
    {
     "name": "stdout",
     "output_type": "stream",
     "text": [
      "1\n",
      "2019-03-11\n",
      "[-0.37407371401786804, 0.6014691591262817, 0.2766713798046112, 0.030816424638032913, 0.4651167094707489]\n"
     ]
    },
    {
     "name": "stderr",
     "output_type": "stream",
     "text": [
      "127.0.0.1 - - [13/Apr/2024 20:48:02] \"GET /get_weights?date=2019-03-18 HTTP/1.1\" 200 -\n"
     ]
    },
    {
     "name": "stdout",
     "output_type": "stream",
     "text": [
      "1\n",
      "2019-03-18\n",
      "[-0.308131605386734, 0.7162678241729736, -0.5086425542831421, 0.6397445201873779, 0.4607617259025574]\n"
     ]
    },
    {
     "name": "stderr",
     "output_type": "stream",
     "text": [
      "127.0.0.1 - - [13/Apr/2024 20:48:04] \"GET /get_weights?date=2019-03-25 HTTP/1.1\" 200 -\n"
     ]
    },
    {
     "name": "stdout",
     "output_type": "stream",
     "text": [
      "1\n",
      "2019-03-25\n",
      "[0.03727835416793823, 0.6740047335624695, -0.07898779213428497, 0.5792552828788757, -0.21155080199241638]\n"
     ]
    },
    {
     "name": "stderr",
     "output_type": "stream",
     "text": [
      "127.0.0.1 - - [13/Apr/2024 20:48:06] \"GET /get_weights?date=2019-04-01 HTTP/1.1\" 200 -\n"
     ]
    },
    {
     "name": "stdout",
     "output_type": "stream",
     "text": [
      "1\n",
      "2019-04-01\n",
      "[-0.08653286844491959, 0.02429950423538685, -0.0013498933985829353, 0.8801557421684265, 0.18342742323875427]\n"
     ]
    },
    {
     "name": "stderr",
     "output_type": "stream",
     "text": [
      "127.0.0.1 - - [13/Apr/2024 20:48:09] \"GET /get_weights?date=2019-04-08 HTTP/1.1\" 200 -\n"
     ]
    },
    {
     "name": "stdout",
     "output_type": "stream",
     "text": [
      "1\n",
      "2019-04-08\n",
      "[0.112483911216259, 0.5769523978233337, -0.031647689640522, 0.3288235664367676, 0.013387700542807579]\n"
     ]
    },
    {
     "name": "stderr",
     "output_type": "stream",
     "text": [
      "127.0.0.1 - - [13/Apr/2024 20:48:11] \"GET /get_weights?date=2019-04-15 HTTP/1.1\" 200 -\n"
     ]
    },
    {
     "name": "stdout",
     "output_type": "stream",
     "text": [
      "1\n",
      "2019-04-15\n",
      "[0.02540529891848564, 0.47123128175735474, -0.26570430397987366, 0.6069693565368652, 0.16209831833839417]\n"
     ]
    },
    {
     "name": "stderr",
     "output_type": "stream",
     "text": [
      "127.0.0.1 - - [13/Apr/2024 20:48:13] \"GET /get_weights?date=2019-04-22 HTTP/1.1\" 200 -\n"
     ]
    },
    {
     "name": "stdout",
     "output_type": "stream",
     "text": [
      "1\n",
      "2019-04-22\n",
      "[-0.2305348962545395, 0.6675070524215698, -0.1705167144536972, 0.8382554650306702, -0.10471096634864807]\n"
     ]
    },
    {
     "name": "stderr",
     "output_type": "stream",
     "text": [
      "127.0.0.1 - - [13/Apr/2024 20:48:16] \"GET /get_weights?date=2019-04-29 HTTP/1.1\" 200 -\n"
     ]
    },
    {
     "name": "stdout",
     "output_type": "stream",
     "text": [
      "1\n",
      "2019-04-29\n",
      "[-0.0980035588145256, 0.6868864297866821, 0.0782754197716713, 0.39026179909706116, -0.05742025375366211]\n"
     ]
    },
    {
     "name": "stderr",
     "output_type": "stream",
     "text": [
      "127.0.0.1 - - [13/Apr/2024 20:48:18] \"GET /get_weights?date=2019-05-06 HTTP/1.1\" 200 -\n"
     ]
    },
    {
     "name": "stdout",
     "output_type": "stream",
     "text": [
      "1\n",
      "2019-05-06\n",
      "[-0.04307498782873154, 0.4290899634361267, -0.14999271929264069, 0.5675786137580872, 0.19639913737773895]\n"
     ]
    },
    {
     "name": "stderr",
     "output_type": "stream",
     "text": [
      "127.0.0.1 - - [13/Apr/2024 20:48:20] \"GET /get_weights?date=2019-05-13 HTTP/1.1\" 200 -\n"
     ]
    },
    {
     "name": "stdout",
     "output_type": "stream",
     "text": [
      "1\n",
      "2019-05-13\n",
      "[0.09630607813596725, 0.41840723156929016, -0.1316668838262558, 0.6411892175674438, -0.024235744029283524]\n"
     ]
    },
    {
     "name": "stderr",
     "output_type": "stream",
     "text": [
      "127.0.0.1 - - [13/Apr/2024 20:48:22] \"GET /get_weights?date=2019-05-20 HTTP/1.1\" 200 -\n"
     ]
    },
    {
     "name": "stdout",
     "output_type": "stream",
     "text": [
      "1\n",
      "2019-05-20\n",
      "[-0.27691012620925903, 0.2923930883407593, -0.07369308918714523, 0.05820225924253464, 1.0000076293945312]\n"
     ]
    },
    {
     "name": "stderr",
     "output_type": "stream",
     "text": [
      "127.0.0.1 - - [13/Apr/2024 20:48:25] \"GET /get_weights?date=2019-05-28 HTTP/1.1\" 200 -\n"
     ]
    },
    {
     "name": "stdout",
     "output_type": "stream",
     "text": [
      "1\n",
      "2019-05-28\n",
      "[-0.2852281332015991, 0.5044301748275757, 0.1315453201532364, 0.3900350034236908, 0.2592175602912903]\n"
     ]
    },
    {
     "name": "stderr",
     "output_type": "stream",
     "text": [
      "127.0.0.1 - - [13/Apr/2024 20:48:27] \"GET /get_weights?date=2019-06-03 HTTP/1.1\" 200 -\n"
     ]
    },
    {
     "name": "stdout",
     "output_type": "stream",
     "text": [
      "1\n",
      "2019-06-03\n",
      "[0.2533087134361267, 0.0016392958350479603, -0.08329299837350845, 0.7592132091522217, 0.06913163512945175]\n"
     ]
    },
    {
     "name": "stderr",
     "output_type": "stream",
     "text": [
      "127.0.0.1 - - [13/Apr/2024 20:48:29] \"GET /get_weights?date=2019-06-10 HTTP/1.1\" 200 -\n"
     ]
    },
    {
     "name": "stdout",
     "output_type": "stream",
     "text": [
      "1\n",
      "2019-06-10\n",
      "[-0.22912517189979553, 0.7939575910568237, -0.04755667969584465, 0.28017520904541016, 0.2025490552186966]\n"
     ]
    },
    {
     "name": "stderr",
     "output_type": "stream",
     "text": [
      "127.0.0.1 - - [13/Apr/2024 20:48:31] \"GET /get_weights?date=2019-06-17 HTTP/1.1\" 200 -\n"
     ]
    },
    {
     "name": "stdout",
     "output_type": "stream",
     "text": [
      "1\n",
      "2019-06-17\n",
      "[0.36080169677734375, 0.5453803539276123, -0.34258967638015747, 0.14117348194122314, 0.29523414373397827]\n"
     ]
    },
    {
     "name": "stderr",
     "output_type": "stream",
     "text": [
      "127.0.0.1 - - [13/Apr/2024 20:48:34] \"GET /get_weights?date=2019-06-24 HTTP/1.1\" 200 -\n"
     ]
    },
    {
     "name": "stdout",
     "output_type": "stream",
     "text": [
      "1\n",
      "2019-06-24\n",
      "[-0.367788165807724, 0.8963299989700317, 0.05397852882742882, 0.3628358542919159, 0.05464376509189606]\n"
     ]
    },
    {
     "name": "stderr",
     "output_type": "stream",
     "text": [
      "127.0.0.1 - - [13/Apr/2024 20:48:36] \"GET /get_weights?date=2019-07-01 HTTP/1.1\" 200 -\n"
     ]
    },
    {
     "name": "stdout",
     "output_type": "stream",
     "text": [
      "1\n",
      "2019-07-01\n",
      "[0.1941302865743637, 0.5524380803108215, -0.09827013313770294, 0.5393074154853821, -0.18760594725608826]\n"
     ]
    },
    {
     "name": "stderr",
     "output_type": "stream",
     "text": [
      "127.0.0.1 - - [13/Apr/2024 20:48:38] \"GET /get_weights?date=2019-07-08 HTTP/1.1\" 200 -\n"
     ]
    },
    {
     "name": "stdout",
     "output_type": "stream",
     "text": [
      "1\n",
      "2019-07-08\n",
      "[0.17166830599308014, 0.5778325796127319, -0.19860558211803436, 0.5469697713851929, -0.09786520898342133]\n"
     ]
    },
    {
     "name": "stderr",
     "output_type": "stream",
     "text": [
      "127.0.0.1 - - [13/Apr/2024 20:48:40] \"GET /get_weights?date=2019-07-15 HTTP/1.1\" 200 -\n"
     ]
    },
    {
     "name": "stdout",
     "output_type": "stream",
     "text": [
      "1\n",
      "2019-07-15\n",
      "[0.10075663030147552, 0.504032552242279, -0.07136915624141693, 0.42716464400291443, 0.03941517695784569]\n"
     ]
    },
    {
     "name": "stderr",
     "output_type": "stream",
     "text": [
      "127.0.0.1 - - [13/Apr/2024 20:48:42] \"GET /get_weights?date=2019-07-22 HTTP/1.1\" 200 -\n"
     ]
    },
    {
     "name": "stdout",
     "output_type": "stream",
     "text": [
      "1\n",
      "2019-07-22\n",
      "[-0.3140363097190857, 0.17720109224319458, 0.013033570721745491, 0.41319921612739563, 0.710602343082428]\n"
     ]
    },
    {
     "name": "stderr",
     "output_type": "stream",
     "text": [
      "127.0.0.1 - - [13/Apr/2024 20:48:45] \"GET /get_weights?date=2019-07-29 HTTP/1.1\" 200 -\n"
     ]
    },
    {
     "name": "stdout",
     "output_type": "stream",
     "text": [
      "1\n",
      "2019-07-29\n",
      "[-0.2708487808704376, 0.6454803347587585, -0.3396599590778351, 0.745847225189209, 0.21918116509914398]\n"
     ]
    },
    {
     "name": "stderr",
     "output_type": "stream",
     "text": [
      "127.0.0.1 - - [13/Apr/2024 20:48:47] \"GET /get_weights?date=2019-08-05 HTTP/1.1\" 200 -\n"
     ]
    },
    {
     "name": "stdout",
     "output_type": "stream",
     "text": [
      "1\n",
      "2019-08-05\n",
      "[0.2664686441421509, 0.19313812255859375, 0.08083163946866989, 0.587721049785614, -0.12815947830677032]\n"
     ]
    },
    {
     "name": "stderr",
     "output_type": "stream",
     "text": [
      "127.0.0.1 - - [13/Apr/2024 20:48:49] \"GET /get_weights?date=2019-08-12 HTTP/1.1\" 200 -\n"
     ]
    },
    {
     "name": "stdout",
     "output_type": "stream",
     "text": [
      "1\n",
      "2019-08-12\n",
      "[-0.3217167258262634, 0.8058555722236633, 0.10114087164402008, 0.6572991013526917, -0.24257883429527283]\n"
     ]
    },
    {
     "name": "stderr",
     "output_type": "stream",
     "text": [
      "127.0.0.1 - - [13/Apr/2024 20:48:51] \"GET /get_weights?date=2019-08-19 HTTP/1.1\" 200 -\n"
     ]
    },
    {
     "name": "stdout",
     "output_type": "stream",
     "text": [
      "1\n",
      "2019-08-19\n",
      "[-0.21621066331863403, 0.21981018781661987, 0.1886466145515442, 0.5931757688522339, 0.21457797288894653]\n"
     ]
    },
    {
     "name": "stderr",
     "output_type": "stream",
     "text": [
      "127.0.0.1 - - [13/Apr/2024 20:48:54] \"GET /get_weights?date=2019-08-26 HTTP/1.1\" 200 -\n"
     ]
    },
    {
     "name": "stdout",
     "output_type": "stream",
     "text": [
      "1\n",
      "2019-08-26\n",
      "[0.3201597034931183, 0.12962038815021515, 0.2067989856004715, 0.29189595580101013, 0.051524851471185684]\n"
     ]
    },
    {
     "name": "stderr",
     "output_type": "stream",
     "text": [
      "127.0.0.1 - - [13/Apr/2024 20:48:56] \"GET /get_weights?date=2019-09-03 HTTP/1.1\" 200 -\n"
     ]
    },
    {
     "name": "stdout",
     "output_type": "stream",
     "text": [
      "1\n",
      "2019-09-03\n",
      "[-0.020429955795407295, 0.5285079479217529, -0.08428103476762772, 0.4589918553829193, 0.11721111088991165]\n"
     ]
    },
    {
     "name": "stderr",
     "output_type": "stream",
     "text": [
      "127.0.0.1 - - [13/Apr/2024 20:48:58] \"GET /get_weights?date=2019-09-09 HTTP/1.1\" 200 -\n"
     ]
    },
    {
     "name": "stdout",
     "output_type": "stream",
     "text": [
      "1\n",
      "2019-09-09\n",
      "[-0.21691566705703735, 0.17307917773723602, 0.04074125736951828, 0.6282123923301697, 0.37488266825675964]\n"
     ]
    },
    {
     "name": "stderr",
     "output_type": "stream",
     "text": [
      "127.0.0.1 - - [13/Apr/2024 20:49:00] \"GET /get_weights?date=2019-09-16 HTTP/1.1\" 200 -\n"
     ]
    },
    {
     "name": "stdout",
     "output_type": "stream",
     "text": [
      "1\n",
      "2019-09-16\n",
      "[0.061840642243623734, 0.817192792892456, -0.3503339886665344, 0.39133530855178833, 0.0799652487039566]\n"
     ]
    },
    {
     "name": "stderr",
     "output_type": "stream",
     "text": [
      "127.0.0.1 - - [13/Apr/2024 20:49:02] \"GET /get_weights?date=2019-09-23 HTTP/1.1\" 200 -\n"
     ]
    },
    {
     "name": "stdout",
     "output_type": "stream",
     "text": [
      "1\n",
      "2019-09-23\n",
      "[0.18915636837482452, 0.4081284999847412, -0.20657223463058472, 0.37775158882141113, 0.2315356731414795]\n"
     ]
    },
    {
     "name": "stderr",
     "output_type": "stream",
     "text": [
      "127.0.0.1 - - [13/Apr/2024 20:49:05] \"GET /get_weights?date=2019-09-30 HTTP/1.1\" 200 -\n"
     ]
    },
    {
     "name": "stdout",
     "output_type": "stream",
     "text": [
      "1\n",
      "2019-09-30\n",
      "[-0.16655904054641724, 0.7555400133132935, -0.13823094964027405, 0.28647056221961975, 0.26277920603752136]\n"
     ]
    },
    {
     "name": "stderr",
     "output_type": "stream",
     "text": [
      "127.0.0.1 - - [13/Apr/2024 20:49:07] \"GET /get_weights?date=2019-10-07 HTTP/1.1\" 200 -\n"
     ]
    },
    {
     "name": "stdout",
     "output_type": "stream",
     "text": [
      "1\n",
      "2019-10-07\n",
      "[-0.07291728258132935, 0.3787615895271301, -0.15589499473571777, 0.8308039903640747, 0.019246436655521393]\n"
     ]
    },
    {
     "name": "stderr",
     "output_type": "stream",
     "text": [
      "127.0.0.1 - - [13/Apr/2024 20:49:09] \"GET /get_weights?date=2019-10-14 HTTP/1.1\" 200 -\n"
     ]
    },
    {
     "name": "stdout",
     "output_type": "stream",
     "text": [
      "1\n",
      "2019-10-14\n",
      "[0.1071614995598793, 0.5718950629234314, -0.24728615581989288, 0.7281309962272644, -0.15990136563777924]\n"
     ]
    },
    {
     "name": "stderr",
     "output_type": "stream",
     "text": [
      "127.0.0.1 - - [13/Apr/2024 20:49:11] \"GET /get_weights?date=2019-10-21 HTTP/1.1\" 200 -\n"
     ]
    },
    {
     "name": "stdout",
     "output_type": "stream",
     "text": [
      "1\n",
      "2019-10-21\n",
      "[-0.03436262533068657, 0.3477788269519806, 0.164877250790596, 0.6128942370414734, -0.09118786454200745]\n"
     ]
    },
    {
     "name": "stderr",
     "output_type": "stream",
     "text": [
      "127.0.0.1 - - [13/Apr/2024 20:49:13] \"GET /get_weights?date=2019-10-28 HTTP/1.1\" 200 -\n"
     ]
    },
    {
     "name": "stdout",
     "output_type": "stream",
     "text": [
      "1\n",
      "2019-10-28\n",
      "[0.3354828953742981, 0.3100323975086212, 0.13108733296394348, 0.41406896710395813, -0.1906716227531433]\n"
     ]
    },
    {
     "name": "stderr",
     "output_type": "stream",
     "text": [
      "127.0.0.1 - - [13/Apr/2024 20:49:16] \"GET /get_weights?date=2019-11-04 HTTP/1.1\" 200 -\n"
     ]
    },
    {
     "name": "stdout",
     "output_type": "stream",
     "text": [
      "1\n",
      "2019-11-04\n",
      "[0.006380467209964991, 0.045795295387506485, 0.3828364908695221, 0.6718943119049072, -0.10690660029649734]\n"
     ]
    },
    {
     "name": "stderr",
     "output_type": "stream",
     "text": [
      "127.0.0.1 - - [13/Apr/2024 20:49:18] \"GET /get_weights?date=2019-11-11 HTTP/1.1\" 200 -\n"
     ]
    },
    {
     "name": "stdout",
     "output_type": "stream",
     "text": [
      "1\n",
      "2019-11-11\n",
      "[0.046426672488451004, 0.9504600763320923, -0.18813925981521606, 0.23108309507369995, -0.03983066976070404]\n"
     ]
    },
    {
     "name": "stderr",
     "output_type": "stream",
     "text": [
      "127.0.0.1 - - [13/Apr/2024 20:49:20] \"GET /get_weights?date=2019-11-18 HTTP/1.1\" 200 -\n"
     ]
    },
    {
     "name": "stdout",
     "output_type": "stream",
     "text": [
      "1\n",
      "2019-11-18\n",
      "[-0.24258922040462494, 0.285455584526062, 0.3911744952201843, 0.4653642177581787, 0.10059475153684616]\n"
     ]
    },
    {
     "name": "stderr",
     "output_type": "stream",
     "text": [
      "127.0.0.1 - - [13/Apr/2024 20:49:22] \"GET /get_weights?date=2019-11-25 HTTP/1.1\" 200 -\n"
     ]
    },
    {
     "name": "stdout",
     "output_type": "stream",
     "text": [
      "1\n",
      "2019-11-25\n",
      "[-0.20253460109233856, 0.5760864615440369, -0.018859099596738815, 0.20948746800422668, 0.4358196258544922]\n"
     ]
    },
    {
     "name": "stderr",
     "output_type": "stream",
     "text": [
      "127.0.0.1 - - [13/Apr/2024 20:49:24] \"GET /get_weights?date=2019-12-02 HTTP/1.1\" 200 -\n"
     ]
    },
    {
     "name": "stdout",
     "output_type": "stream",
     "text": [
      "1\n",
      "2019-12-02\n",
      "[0.5935686230659485, -0.11367073655128479, -0.4798518717288971, 0.9161577224731445, 0.08379624783992767]\n"
     ]
    },
    {
     "name": "stderr",
     "output_type": "stream",
     "text": [
      "127.0.0.1 - - [13/Apr/2024 20:49:27] \"GET /get_weights?date=2019-12-09 HTTP/1.1\" 200 -\n"
     ]
    },
    {
     "name": "stdout",
     "output_type": "stream",
     "text": [
      "1\n",
      "2019-12-09\n",
      "[-0.22487761080265045, 0.4476117193698883, 0.19342686235904694, 0.4879544675350189, 0.09588456153869629]\n"
     ]
    },
    {
     "name": "stderr",
     "output_type": "stream",
     "text": [
      "127.0.0.1 - - [13/Apr/2024 20:49:29] \"GET /get_weights?date=2019-12-16 HTTP/1.1\" 200 -\n"
     ]
    },
    {
     "name": "stdout",
     "output_type": "stream",
     "text": [
      "2\n",
      "2019-12-16\n",
      "[0.0471433587372303, 0.9999848008155823, -0.27221328020095825, 0.33700627088546753, -0.11192113906145096]\n"
     ]
    },
    {
     "name": "stderr",
     "output_type": "stream",
     "text": [
      "127.0.0.1 - - [13/Apr/2024 20:49:31] \"GET /get_weights?date=2019-12-23 HTTP/1.1\" 200 -\n"
     ]
    },
    {
     "name": "stdout",
     "output_type": "stream",
     "text": [
      "2\n",
      "2019-12-23\n",
      "[0.25307410955429077, 0.40286019444465637, -0.04156007245182991, 0.3352750837802887, 0.05035068839788437]\n"
     ]
    },
    {
     "name": "stderr",
     "output_type": "stream",
     "text": [
      "127.0.0.1 - - [13/Apr/2024 20:49:34] \"GET /get_weights?date=2019-12-30 HTTP/1.1\" 200 -\n"
     ]
    },
    {
     "name": "stdout",
     "output_type": "stream",
     "text": [
      "2\n",
      "2019-12-30\n",
      "[0.04304388165473938, 0.4190249741077423, -0.04128625988960266, 0.7067052721977234, -0.1274878978729248]\n"
     ]
    },
    {
     "name": "stderr",
     "output_type": "stream",
     "text": [
      "127.0.0.1 - - [13/Apr/2024 20:49:36] \"GET /get_weights?date=2020-01-06 HTTP/1.1\" 200 -\n"
     ]
    },
    {
     "name": "stdout",
     "output_type": "stream",
     "text": [
      "2\n",
      "2020-01-06\n",
      "[-0.6621376276016235, 0.4602793753147125, 0.8144735097885132, 0.08738944679498672, 0.2999953031539917]\n"
     ]
    },
    {
     "name": "stderr",
     "output_type": "stream",
     "text": [
      "127.0.0.1 - - [13/Apr/2024 20:49:39] \"GET /get_weights?date=2020-01-13 HTTP/1.1\" 200 -\n"
     ]
    },
    {
     "name": "stdout",
     "output_type": "stream",
     "text": [
      "2\n",
      "2020-01-13\n",
      "[-0.21001999080181122, 0.47501304745674133, 0.10607554018497467, 0.7188342213630676, -0.08990299701690674]\n"
     ]
    },
    {
     "name": "stderr",
     "output_type": "stream",
     "text": [
      "127.0.0.1 - - [13/Apr/2024 20:49:41] \"GET /get_weights?date=2020-01-21 HTTP/1.1\" 200 -\n"
     ]
    },
    {
     "name": "stdout",
     "output_type": "stream",
     "text": [
      "2\n",
      "2020-01-21\n",
      "[-0.086344413459301, 0.7584983706474304, -0.3451351523399353, 0.8307532668113708, -0.1577719748020172]\n"
     ]
    },
    {
     "name": "stderr",
     "output_type": "stream",
     "text": [
      "127.0.0.1 - - [13/Apr/2024 20:49:43] \"GET /get_weights?date=2020-01-27 HTTP/1.1\" 200 -\n"
     ]
    },
    {
     "name": "stdout",
     "output_type": "stream",
     "text": [
      "2\n",
      "2020-01-27\n",
      "[0.8905763030052185, 0.04077339544892311, -0.028650730848312378, 0.3063468039035797, -0.20904581248760223]\n"
     ]
    },
    {
     "name": "stderr",
     "output_type": "stream",
     "text": [
      "127.0.0.1 - - [13/Apr/2024 20:49:46] \"GET /get_weights?date=2020-02-03 HTTP/1.1\" 200 -\n"
     ]
    },
    {
     "name": "stdout",
     "output_type": "stream",
     "text": [
      "2\n",
      "2020-02-03\n",
      "[-0.2251087874174118, 0.3706093728542328, 0.20222261548042297, 0.6055043339729309, 0.04677243158221245]\n"
     ]
    },
    {
     "name": "stderr",
     "output_type": "stream",
     "text": [
      "127.0.0.1 - - [13/Apr/2024 20:49:48] \"GET /get_weights?date=2020-02-10 HTTP/1.1\" 200 -\n"
     ]
    },
    {
     "name": "stdout",
     "output_type": "stream",
     "text": [
      "2\n",
      "2020-02-10\n",
      "[-0.07512562721967697, 0.06686948239803314, 0.1996324509382248, 0.4329240620136261, 0.37569960951805115]\n"
     ]
    },
    {
     "name": "stderr",
     "output_type": "stream",
     "text": [
      "127.0.0.1 - - [13/Apr/2024 20:49:51] \"GET /get_weights?date=2020-02-18 HTTP/1.1\" 200 -\n"
     ]
    },
    {
     "name": "stdout",
     "output_type": "stream",
     "text": [
      "2\n",
      "2020-02-18\n",
      "[-0.13117237389087677, 0.6976742148399353, 0.07618565112352371, 0.8643693923950195, -0.5070568919181824]\n"
     ]
    },
    {
     "name": "stderr",
     "output_type": "stream",
     "text": [
      "127.0.0.1 - - [13/Apr/2024 20:49:53] \"GET /get_weights?date=2020-02-24 HTTP/1.1\" 200 -\n"
     ]
    },
    {
     "name": "stdout",
     "output_type": "stream",
     "text": [
      "2\n",
      "2020-02-24\n",
      "[0.05303090810775757, 0.3586460053920746, 0.12893740832805634, 0.6741209030151367, -0.21473531424999237]\n"
     ]
    },
    {
     "name": "stderr",
     "output_type": "stream",
     "text": [
      "127.0.0.1 - - [13/Apr/2024 20:49:55] \"GET /get_weights?date=2020-03-02 HTTP/1.1\" 200 -\n"
     ]
    },
    {
     "name": "stdout",
     "output_type": "stream",
     "text": [
      "2\n",
      "2020-03-02\n",
      "[0.2507997155189514, 0.03350067511200905, 0.19254769384860992, 0.7463285326957703, -0.22317667305469513]\n"
     ]
    },
    {
     "name": "stderr",
     "output_type": "stream",
     "text": [
      "127.0.0.1 - - [13/Apr/2024 20:49:57] \"GET /get_weights?date=2020-03-09 HTTP/1.1\" 200 -\n"
     ]
    },
    {
     "name": "stdout",
     "output_type": "stream",
     "text": [
      "2\n",
      "2020-03-09\n",
      "[0.22169314324855804, 0.32976701855659485, 0.04885770007967949, 0.388398677110672, 0.011283408850431442]\n"
     ]
    },
    {
     "name": "stderr",
     "output_type": "stream",
     "text": [
      "127.0.0.1 - - [13/Apr/2024 20:49:59] \"GET /get_weights?date=2020-03-16 HTTP/1.1\" 200 -\n"
     ]
    },
    {
     "name": "stdout",
     "output_type": "stream",
     "text": [
      "2\n",
      "2020-03-16\n",
      "[0.24435152113437653, 0.2632988691329956, -0.1368425488471985, 0.5909004807472229, 0.03829168155789375]\n"
     ]
    },
    {
     "name": "stderr",
     "output_type": "stream",
     "text": [
      "127.0.0.1 - - [13/Apr/2024 20:50:02] \"GET /get_weights?date=2020-03-23 HTTP/1.1\" 200 -\n"
     ]
    },
    {
     "name": "stdout",
     "output_type": "stream",
     "text": [
      "2\n",
      "2020-03-23\n",
      "[0.06147207319736481, 0.1982315331697464, 0.19770725071430206, 0.6318449974060059, -0.08925594389438629]\n"
     ]
    },
    {
     "name": "stderr",
     "output_type": "stream",
     "text": [
      "127.0.0.1 - - [13/Apr/2024 20:50:04] \"GET /get_weights?date=2020-03-30 HTTP/1.1\" 200 -\n"
     ]
    },
    {
     "name": "stdout",
     "output_type": "stream",
     "text": [
      "2\n",
      "2020-03-30\n",
      "[-0.1471559852361679, 0.2924039363861084, 0.03214704245328903, 0.5186424255371094, 0.3039625287055969]\n"
     ]
    },
    {
     "name": "stderr",
     "output_type": "stream",
     "text": [
      "127.0.0.1 - - [13/Apr/2024 20:50:06] \"GET /get_weights?date=2020-04-06 HTTP/1.1\" 200 -\n"
     ]
    },
    {
     "name": "stdout",
     "output_type": "stream",
     "text": [
      "2\n",
      "2020-04-06\n",
      "[0.31983423233032227, 0.13683120906352997, 0.4284544289112091, 0.21803486347198486, -0.10315492749214172]\n"
     ]
    },
    {
     "name": "stderr",
     "output_type": "stream",
     "text": [
      "127.0.0.1 - - [13/Apr/2024 20:50:08] \"GET /get_weights?date=2020-04-13 HTTP/1.1\" 200 -\n"
     ]
    },
    {
     "name": "stdout",
     "output_type": "stream",
     "text": [
      "2\n",
      "2020-04-13\n",
      "[-0.09015832096338272, 0.27151837944984436, 0.16051296889781952, 0.6087135076522827, 0.049413423985242844]\n"
     ]
    },
    {
     "name": "stderr",
     "output_type": "stream",
     "text": [
      "127.0.0.1 - - [13/Apr/2024 20:50:10] \"GET /get_weights?date=2020-04-20 HTTP/1.1\" 200 -\n"
     ]
    },
    {
     "name": "stdout",
     "output_type": "stream",
     "text": [
      "2\n",
      "2020-04-20\n",
      "[0.05233393609523773, 0.005212337709963322, 0.31195685267448425, 0.10808564722537994, 0.5224111080169678]\n"
     ]
    },
    {
     "name": "stderr",
     "output_type": "stream",
     "text": [
      "127.0.0.1 - - [13/Apr/2024 20:50:13] \"GET /get_weights?date=2020-04-27 HTTP/1.1\" 200 -\n"
     ]
    },
    {
     "name": "stdout",
     "output_type": "stream",
     "text": [
      "2\n",
      "2020-04-27\n",
      "[-0.03909878060221672, 0.0276512298732996, -0.06493975222110748, 0.8724628686904907, 0.2039242833852768]\n"
     ]
    },
    {
     "name": "stderr",
     "output_type": "stream",
     "text": [
      "127.0.0.1 - - [13/Apr/2024 20:50:15] \"GET /get_weights?date=2020-05-04 HTTP/1.1\" 200 -\n"
     ]
    },
    {
     "name": "stdout",
     "output_type": "stream",
     "text": [
      "2\n",
      "2020-05-04\n",
      "[0.2208465337753296, -0.1351219266653061, 0.09705692529678345, 0.45014461874961853, 0.36707377433776855]\n"
     ]
    },
    {
     "name": "stderr",
     "output_type": "stream",
     "text": [
      "127.0.0.1 - - [13/Apr/2024 20:50:17] \"GET /get_weights?date=2020-05-11 HTTP/1.1\" 200 -\n"
     ]
    },
    {
     "name": "stdout",
     "output_type": "stream",
     "text": [
      "2\n",
      "2020-05-11\n",
      "[0.1406993418931961, 0.1666756272315979, -0.31205204129219055, 0.6454254388809204, 0.3592514991760254]\n"
     ]
    },
    {
     "name": "stderr",
     "output_type": "stream",
     "text": [
      "127.0.0.1 - - [13/Apr/2024 20:50:19] \"GET /get_weights?date=2020-05-18 HTTP/1.1\" 200 -\n"
     ]
    },
    {
     "name": "stdout",
     "output_type": "stream",
     "text": [
      "2\n",
      "2020-05-18\n",
      "[0.21289770305156708, -0.05434638261795044, 0.10692274570465088, 0.5369394421577454, 0.19758650660514832]\n"
     ]
    },
    {
     "name": "stderr",
     "output_type": "stream",
     "text": [
      "127.0.0.1 - - [13/Apr/2024 20:50:21] \"GET /get_weights?date=2020-05-26 HTTP/1.1\" 200 -\n"
     ]
    },
    {
     "name": "stdout",
     "output_type": "stream",
     "text": [
      "2\n",
      "2020-05-26\n",
      "[0.043333135545253754, 0.1941777467727661, 0.1292838156223297, 0.34496980905532837, 0.28823548555374146]\n"
     ]
    },
    {
     "name": "stderr",
     "output_type": "stream",
     "text": [
      "127.0.0.1 - - [13/Apr/2024 20:50:24] \"GET /get_weights?date=2020-06-01 HTTP/1.1\" 200 -\n"
     ]
    },
    {
     "name": "stdout",
     "output_type": "stream",
     "text": [
      "2\n",
      "2020-06-01\n",
      "[0.025894619524478912, 0.21763920783996582, 0.027977094054222107, 0.6949811577796936, 0.03350779041647911]\n"
     ]
    },
    {
     "name": "stderr",
     "output_type": "stream",
     "text": [
      "127.0.0.1 - - [13/Apr/2024 20:50:26] \"GET /get_weights?date=2020-06-08 HTTP/1.1\" 200 -\n"
     ]
    },
    {
     "name": "stdout",
     "output_type": "stream",
     "text": [
      "2\n",
      "2020-06-08\n",
      "[0.06649652868509293, 0.4909317195415497, -0.0450972355902195, 0.5787380933761597, -0.09106919169425964]\n"
     ]
    },
    {
     "name": "stderr",
     "output_type": "stream",
     "text": [
      "127.0.0.1 - - [13/Apr/2024 20:50:28] \"GET /get_weights?date=2020-06-15 HTTP/1.1\" 200 -\n"
     ]
    },
    {
     "name": "stdout",
     "output_type": "stream",
     "text": [
      "2\n",
      "2020-06-15\n",
      "[-0.07501912862062454, -0.021439136937260628, 0.21463996171951294, 0.5837188959121704, 0.2980992794036865]\n"
     ]
    },
    {
     "name": "stderr",
     "output_type": "stream",
     "text": [
      "127.0.0.1 - - [13/Apr/2024 20:50:30] \"GET /get_weights?date=2020-06-22 HTTP/1.1\" 200 -\n"
     ]
    },
    {
     "name": "stdout",
     "output_type": "stream",
     "text": [
      "2\n",
      "2020-06-22\n",
      "[-0.3145036995410919, 0.8616595268249512, 0.03244863077998161, 0.21688750386238098, 0.20350803434848785]\n"
     ]
    },
    {
     "name": "stderr",
     "output_type": "stream",
     "text": [
      "127.0.0.1 - - [13/Apr/2024 20:50:32] \"GET /get_weights?date=2020-06-29 HTTP/1.1\" 200 -\n"
     ]
    },
    {
     "name": "stdout",
     "output_type": "stream",
     "text": [
      "2\n",
      "2020-06-29\n",
      "[0.0866360068321228, 0.268777072429657, 0.04240075871348381, 0.5426599383354187, 0.059526123106479645]\n"
     ]
    },
    {
     "name": "stderr",
     "output_type": "stream",
     "text": [
      "127.0.0.1 - - [13/Apr/2024 20:50:35] \"GET /get_weights?date=2020-07-06 HTTP/1.1\" 200 -\n"
     ]
    },
    {
     "name": "stdout",
     "output_type": "stream",
     "text": [
      "2\n",
      "2020-07-06\n",
      "[0.06488785147666931, 0.41108936071395874, -0.18424509465694427, 0.7060977220535278, 0.0021701210644096136]\n"
     ]
    },
    {
     "name": "stderr",
     "output_type": "stream",
     "text": [
      "127.0.0.1 - - [13/Apr/2024 20:50:37] \"GET /get_weights?date=2020-07-13 HTTP/1.1\" 200 -\n"
     ]
    },
    {
     "name": "stdout",
     "output_type": "stream",
     "text": [
      "2\n",
      "2020-07-13\n",
      "[-0.4124926030635834, 0.5477932691574097, 0.060410063713788986, 0.47291046380996704, 0.3313787877559662]\n"
     ]
    },
    {
     "name": "stderr",
     "output_type": "stream",
     "text": [
      "127.0.0.1 - - [13/Apr/2024 20:50:39] \"GET /get_weights?date=2020-07-20 HTTP/1.1\" 200 -\n"
     ]
    },
    {
     "name": "stdout",
     "output_type": "stream",
     "text": [
      "2\n",
      "2020-07-20\n",
      "[-0.3170217275619507, 0.19513286650180817, 0.24696022272109985, 0.427135705947876, 0.44779279828071594]\n"
     ]
    },
    {
     "name": "stderr",
     "output_type": "stream",
     "text": [
      "127.0.0.1 - - [13/Apr/2024 20:50:41] \"GET /get_weights?date=2020-07-27 HTTP/1.1\" 200 -\n"
     ]
    },
    {
     "name": "stdout",
     "output_type": "stream",
     "text": [
      "2\n",
      "2020-07-27\n",
      "[-0.49186480045318604, 0.5566923022270203, 0.07277035713195801, 0.662240207195282, 0.20016179978847504]\n"
     ]
    },
    {
     "name": "stderr",
     "output_type": "stream",
     "text": [
      "127.0.0.1 - - [13/Apr/2024 20:50:44] \"GET /get_weights?date=2020-08-03 HTTP/1.1\" 200 -\n"
     ]
    },
    {
     "name": "stdout",
     "output_type": "stream",
     "text": [
      "2\n",
      "2020-08-03\n",
      "[-0.22596849501132965, 0.8512712121009827, 0.1014634221792221, 0.44219815731048584, -0.16896437108516693]\n"
     ]
    },
    {
     "name": "stderr",
     "output_type": "stream",
     "text": [
      "127.0.0.1 - - [13/Apr/2024 20:50:46] \"GET /get_weights?date=2020-08-10 HTTP/1.1\" 200 -\n"
     ]
    },
    {
     "name": "stdout",
     "output_type": "stream",
     "text": [
      "2\n",
      "2020-08-10\n",
      "[-0.4352322518825531, 0.43501392006874084, -0.0002910156035795808, 0.8487988710403442, 0.15171046555042267]\n"
     ]
    },
    {
     "name": "stderr",
     "output_type": "stream",
     "text": [
      "127.0.0.1 - - [13/Apr/2024 20:50:48] \"GET /get_weights?date=2020-08-17 HTTP/1.1\" 200 -\n"
     ]
    },
    {
     "name": "stdout",
     "output_type": "stream",
     "text": [
      "2\n",
      "2020-08-17\n",
      "[0.0356764979660511, 0.3162075877189636, 0.14400772750377655, 0.47173982858657837, 0.032368287444114685]\n"
     ]
    },
    {
     "name": "stderr",
     "output_type": "stream",
     "text": [
      "127.0.0.1 - - [13/Apr/2024 20:50:50] \"GET /get_weights?date=2020-08-24 HTTP/1.1\" 200 -\n"
     ]
    },
    {
     "name": "stdout",
     "output_type": "stream",
     "text": [
      "2\n",
      "2020-08-24\n",
      "[-0.05784240737557411, 0.26837390661239624, 0.11223728209733963, 0.5549089312553406, 0.12232215702533722]\n"
     ]
    },
    {
     "name": "stderr",
     "output_type": "stream",
     "text": [
      "127.0.0.1 - - [13/Apr/2024 20:50:52] \"GET /get_weights?date=2020-08-31 HTTP/1.1\" 200 -\n"
     ]
    },
    {
     "name": "stdout",
     "output_type": "stream",
     "text": [
      "2\n",
      "2020-08-31\n",
      "[-0.30138492584228516, 0.45507967472076416, 0.36275655031204224, 0.3194082975387573, 0.16414040327072144]\n"
     ]
    },
    {
     "name": "stderr",
     "output_type": "stream",
     "text": [
      "127.0.0.1 - - [13/Apr/2024 20:50:55] \"GET /get_weights?date=2020-09-08 HTTP/1.1\" 200 -\n"
     ]
    },
    {
     "name": "stdout",
     "output_type": "stream",
     "text": [
      "2\n",
      "2020-09-08\n",
      "[0.0718531459569931, 0.2559205889701843, 0.1196657195687294, 1.0000205039978027, -0.4474601149559021]\n"
     ]
    },
    {
     "name": "stderr",
     "output_type": "stream",
     "text": [
      "127.0.0.1 - - [13/Apr/2024 20:50:57] \"GET /get_weights?date=2020-09-14 HTTP/1.1\" 200 -\n"
     ]
    },
    {
     "name": "stdout",
     "output_type": "stream",
     "text": [
      "2\n",
      "2020-09-14\n",
      "[-0.27673035860061646, 0.5044002532958984, -0.02184941992163658, 0.37257540225982666, 0.42160406708717346]\n"
     ]
    },
    {
     "name": "stderr",
     "output_type": "stream",
     "text": [
      "127.0.0.1 - - [13/Apr/2024 20:50:59] \"GET /get_weights?date=2020-09-21 HTTP/1.1\" 200 -\n"
     ]
    },
    {
     "name": "stdout",
     "output_type": "stream",
     "text": [
      "2\n",
      "2020-09-21\n",
      "[0.055436644703149796, 0.10787228494882584, 0.35892149806022644, 0.3299034833908081, 0.14786605536937714]\n"
     ]
    },
    {
     "name": "stderr",
     "output_type": "stream",
     "text": [
      "127.0.0.1 - - [13/Apr/2024 20:51:01] \"GET /get_weights?date=2020-09-28 HTTP/1.1\" 200 -\n"
     ]
    },
    {
     "name": "stdout",
     "output_type": "stream",
     "text": [
      "2\n",
      "2020-09-28\n",
      "[0.20685647428035736, 0.7601360082626343, -0.06639669090509415, 0.10610827058553696, -0.006704065948724747]\n"
     ]
    },
    {
     "name": "stderr",
     "output_type": "stream",
     "text": [
      "127.0.0.1 - - [13/Apr/2024 20:51:04] \"GET /get_weights?date=2020-10-05 HTTP/1.1\" 200 -\n"
     ]
    },
    {
     "name": "stdout",
     "output_type": "stream",
     "text": [
      "2\n",
      "2020-10-05\n",
      "[-0.013503736816346645, 0.31072962284088135, 0.08547711372375488, 0.5120411515235901, 0.10525573790073395]\n"
     ]
    },
    {
     "name": "stderr",
     "output_type": "stream",
     "text": [
      "127.0.0.1 - - [13/Apr/2024 20:51:06] \"GET /get_weights?date=2020-10-12 HTTP/1.1\" 200 -\n"
     ]
    },
    {
     "name": "stdout",
     "output_type": "stream",
     "text": [
      "2\n",
      "2020-10-12\n",
      "[-0.1694878488779068, 0.5140460133552551, -0.06616383045911789, 0.43840616941452026, 0.2831992208957672]\n"
     ]
    },
    {
     "name": "stderr",
     "output_type": "stream",
     "text": [
      "127.0.0.1 - - [13/Apr/2024 20:51:08] \"GET /get_weights?date=2020-10-19 HTTP/1.1\" 200 -\n"
     ]
    },
    {
     "name": "stdout",
     "output_type": "stream",
     "text": [
      "2\n",
      "2020-10-19\n",
      "[0.40640437602996826, 0.2372959703207016, -0.19328992068767548, 0.4326082766056061, 0.1169811561703682]\n"
     ]
    },
    {
     "name": "stderr",
     "output_type": "stream",
     "text": [
      "127.0.0.1 - - [13/Apr/2024 20:51:10] \"GET /get_weights?date=2020-10-26 HTTP/1.1\" 200 -\n"
     ]
    },
    {
     "name": "stdout",
     "output_type": "stream",
     "text": [
      "2\n",
      "2020-10-26\n",
      "[0.03175310790538788, 0.30047908425331116, 0.11485367268323898, 0.43694332242012024, 0.11597079038619995]\n"
     ]
    },
    {
     "name": "stderr",
     "output_type": "stream",
     "text": [
      "127.0.0.1 - - [13/Apr/2024 20:51:13] \"GET /get_weights?date=2020-11-02 HTTP/1.1\" 200 -\n"
     ]
    },
    {
     "name": "stdout",
     "output_type": "stream",
     "text": [
      "2\n",
      "2020-11-02\n",
      "[-0.326560378074646, 0.5190975069999695, -0.006811125203967094, 0.5956082940101624, 0.21866564452648163]\n"
     ]
    },
    {
     "name": "stderr",
     "output_type": "stream",
     "text": [
      "127.0.0.1 - - [13/Apr/2024 20:51:15] \"GET /get_weights?date=2020-11-09 HTTP/1.1\" 200 -\n"
     ]
    },
    {
     "name": "stdout",
     "output_type": "stream",
     "text": [
      "2\n",
      "2020-11-09\n",
      "[-0.021310361102223396, 0.37464138865470886, -0.013944889418780804, 0.6338499784469604, 0.0267637986689806]\n"
     ]
    },
    {
     "name": "stderr",
     "output_type": "stream",
     "text": [
      "127.0.0.1 - - [13/Apr/2024 20:51:17] \"GET /get_weights?date=2020-11-16 HTTP/1.1\" 200 -\n"
     ]
    },
    {
     "name": "stdout",
     "output_type": "stream",
     "text": [
      "2\n",
      "2020-11-16\n",
      "[0.017943914979696274, 0.44913002848625183, -0.13166797161102295, 0.39105045795440674, 0.2735433280467987]\n"
     ]
    },
    {
     "name": "stderr",
     "output_type": "stream",
     "text": [
      "127.0.0.1 - - [13/Apr/2024 20:51:19] \"GET /get_weights?date=2020-11-23 HTTP/1.1\" 200 -\n"
     ]
    },
    {
     "name": "stdout",
     "output_type": "stream",
     "text": [
      "2\n",
      "2020-11-23\n",
      "[0.14273419976234436, 0.4455428421497345, 0.1470327228307724, 0.5517939329147339, -0.28710371255874634]\n"
     ]
    },
    {
     "name": "stderr",
     "output_type": "stream",
     "text": [
      "127.0.0.1 - - [13/Apr/2024 20:51:22] \"GET /get_weights?date=2020-11-30 HTTP/1.1\" 200 -\n"
     ]
    },
    {
     "name": "stdout",
     "output_type": "stream",
     "text": [
      "2\n",
      "2020-11-30\n",
      "[0.2592531740665436, 0.006374971941113472, 0.6209328174591064, 0.19418121874332428, -0.08074221760034561]\n"
     ]
    },
    {
     "name": "stderr",
     "output_type": "stream",
     "text": [
      "127.0.0.1 - - [13/Apr/2024 20:51:24] \"GET /get_weights?date=2020-12-07 HTTP/1.1\" 200 -\n"
     ]
    },
    {
     "name": "stdout",
     "output_type": "stream",
     "text": [
      "2\n",
      "2020-12-07\n",
      "[0.12571674585342407, 0.732507586479187, 0.06964726001024246, 0.29553449153900146, -0.22340624034404755]\n"
     ]
    },
    {
     "name": "stderr",
     "output_type": "stream",
     "text": [
      "127.0.0.1 - - [13/Apr/2024 20:51:26] \"GET /get_weights?date=2020-12-14 HTTP/1.1\" 200 -\n"
     ]
    },
    {
     "name": "stdout",
     "output_type": "stream",
     "text": [
      "2\n",
      "2020-12-14\n",
      "[0.007450304925441742, -0.18072398006916046, 0.20070527493953705, 0.9591578245162964, 0.01341050025075674]\n"
     ]
    }
   ],
   "source": [
    "app.run(port=5000)"
   ]
  },
  {
   "cell_type": "code",
   "execution_count": null,
   "id": "7a1839cc",
   "metadata": {},
   "outputs": [],
   "source": [
    "update the "
   ]
  },
  {
   "cell_type": "code",
   "execution_count": null,
   "id": "3894efcb",
   "metadata": {},
   "outputs": [],
   "source": []
  }
 ],
 "metadata": {
  "kernelspec": {
   "display_name": "Python 3 (ipykernel)",
   "language": "python",
   "name": "python3"
  },
  "language_info": {
   "codemirror_mode": {
    "name": "ipython",
    "version": 3
   },
   "file_extension": ".py",
   "mimetype": "text/x-python",
   "name": "python",
   "nbconvert_exporter": "python",
   "pygments_lexer": "ipython3",
   "version": "3.8.17"
  }
 },
 "nbformat": 4,
 "nbformat_minor": 5
}
