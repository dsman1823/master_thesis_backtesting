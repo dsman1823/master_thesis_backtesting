{
 "cells": [
  {
   "cell_type": "markdown",
   "id": "a388c7d0",
   "metadata": {},
   "source": [
    "# This notebook provides portfolio weights based on the historical data to the backtesting notebook"
   ]
  },
  {
   "cell_type": "code",
   "execution_count": 1,
   "id": "04a4ce3b",
   "metadata": {},
   "outputs": [],
   "source": [
    "# !pip uninstall deepdowmine\n",
    "#!pip install git+https://github.com/dsman1823/deepdowmine.git\n",
    "#!conda install pytorch torchvision torchaudio cudatoolkit=10.2 -c pytorch # <---- to Enable SVD "
   ]
  },
  {
   "cell_type": "code",
   "execution_count": 18,
   "id": "9b37e532",
   "metadata": {},
   "outputs": [],
   "source": [
    "import torch\n",
    "\n",
    "import pandas as pd\n",
    "import numpy as np\n",
    "\n",
    "from datetime import datetime \n",
    "from deepdowmine.nn import LinearNetMine, UpdNumericalMarkowitzWithShorting, UpdLinearNetMine, UpdDenseNet, UpdUpdLinearNetMine\n",
    "from deepdowmine.nn import MinVarDenseNet, ConvNetFullOpti, ConvNetMinVar, RnnNetMinVar, LstmNetMinVar, RnnNetFullOpti\n",
    "from deepdowmine.nn import LstmNetFullOpti"
   ]
  },
  {
   "cell_type": "code",
   "execution_count": 2,
   "id": "78fd3bba",
   "metadata": {},
   "outputs": [],
   "source": [
    "RETS_FILE_PATH = 'historical_returns.csv'\n",
    "\n",
    "\n",
    "\n",
    "loockback, gap, horizon = 50, 0, 5\n",
    "n_assets = 5\n",
    "loockback = 50\n"
   ]
  },
  {
   "cell_type": "markdown",
   "id": "6c88f90a",
   "metadata": {},
   "source": [
    "## Load NN from dict"
   ]
  },
  {
   "cell_type": "code",
   "execution_count": 3,
   "id": "36a91bae",
   "metadata": {},
   "outputs": [],
   "source": [
    "LINEAR_NET_OSHARPE_FILE_PATH = r'./NNs/linear_net_50x5_sharpe.pth' # LinearNetMine with ordinary Sharpe cost"
   ]
  },
  {
   "cell_type": "code",
   "execution_count": 4,
   "id": "7a634b07",
   "metadata": {},
   "outputs": [],
   "source": [
    "# years parameter reprsenets amount of years after the backtest stasrt: the model dowloaded is the the model trained \n",
    "# on the period (train_start, back_test_start + years) \n",
    "\n",
    "\n",
    "# LinearNetMine with ordinary sharpe cost function\n",
    "def load_linear_net_osharpe(years=0):\n",
    "    network = LinearNetMine(1, loockback, n_assets, p=0.5)\n",
    "    network.load_state_dict(torch.load(fr'./NNs/linear_net_50x5_sharpe_{years}.pth'))\n",
    "    print(fr'./NNs/linear_net_50x5_sharpe_{years}.pth')\n",
    "    return network.eval()\n",
    "    "
   ]
  },
  {
   "cell_type": "code",
   "execution_count": 5,
   "id": "fd38307d",
   "metadata": {},
   "outputs": [],
   "source": [
    "def load_dense_net(years=0):\n",
    "    network = UpdLinearNetMine(1, loockback, n_assets, p=0.5)\n",
    "    network.load_state_dict(torch.load(fr'./NNs/dense_{years}.pth'))\n",
    "    print(fr'dense_{years}.pth')\n",
    "    return network.eval()"
   ]
  },
  {
   "cell_type": "markdown",
   "id": "a0c6d5c7",
   "metadata": {},
   "source": [
    "## Core functions"
   ]
  },
  {
   "cell_type": "code",
   "execution_count": 6,
   "id": "9b0ed9ac",
   "metadata": {},
   "outputs": [],
   "source": [
    "def transform_rets_to_NN_input(rets):\n",
    "    # tranform (loockback, n_assets) df into (1, 1, loockback, n_assets)=(sample_size, n_channels, loockback, n_assets) tensor \n",
    "    returns_np = rets.to_numpy()\n",
    "\n",
    "    # Add the required dimensions: (n_samples, n_channels, lookback, n_assets)\n",
    "    returns_np_expanded = np.expand_dims(returns_np, axis=0)  # Adds n_samples dimension\n",
    "    returns_np_expanded = np.expand_dims(returns_np_expanded, axis=0)  \n",
    "    return torch.from_numpy(returns_np_expanded).float()\n",
    "\n",
    "def weights_from_NN(rets, network):\n",
    "    X = transform_rets_to_NN_input(rets)\n",
    "    return network(X).detach().numpy()[0]\n",
    "\n",
    "# method is a function, used for obtaining the returns\n",
    "def get_weights(method):\n",
    "    rets = pd.read_csv(RETS_FILE_PATH, index_col=0)\n",
    "    return method(rets)"
   ]
  },
  {
   "cell_type": "code",
   "execution_count": 7,
   "id": "c21a7d4f",
   "metadata": {},
   "outputs": [
    {
     "data": {
      "text/plain": [
       "array([-0.0160506 ,  0.20566106,  0.03464727,  0.3581981 ,  0.41754425],\n",
       "      dtype=float32)"
      ]
     },
     "execution_count": 7,
     "metadata": {},
     "output_type": "execute_result"
    }
   ],
   "source": [
    "rets = pd.read_csv(RETS_FILE_PATH, index_col=0)\n",
    "X = transform_rets_to_NN_input(rets)\n",
    "network = LinearNetMine(1, loockback, n_assets, p=0.5)\n",
    "network.load_state_dict(torch.load(fr'./NNs/linear_net_50x5_sharpe_{2}.pth'))\n",
    "network.eval()(X).detach().numpy()[0]"
   ]
  },
  {
   "cell_type": "markdown",
   "id": "7d65c2c4",
   "metadata": {},
   "source": [
    "## NNs and related methods\n",
    "\n",
    "\n",
    "### NNs\n",
    "\n",
    "networks[i] method is trained on (train_start, backtest_start + i years) data interval"
   ]
  },
  {
   "cell_type": "code",
   "execution_count": 8,
   "id": "87ac6576",
   "metadata": {},
   "outputs": [
    {
     "name": "stdout",
     "output_type": "stream",
     "text": [
      "./NNs/linear_net_50x5_sharpe_0.pth\n",
      "./NNs/linear_net_50x5_sharpe_1.pth\n",
      "./NNs/linear_net_50x5_sharpe_2.pth\n",
      "dense_0.pth\n",
      "dense_1.pth\n",
      "dense_2.pth\n"
     ]
    }
   ],
   "source": [
    "years = [0, 1, 2]#, 1, 2]\n",
    "\n",
    "linear_osharpe_networks = [load_linear_net_osharpe(years=i) for i in years]\n",
    "dense_networks = [load_dense_net(years=i) for i in years]"
   ]
  },
  {
   "cell_type": "markdown",
   "id": "db5b112d",
   "metadata": {},
   "source": [
    "### methods"
   ]
  },
  {
   "cell_type": "code",
   "execution_count": 9,
   "id": "728b35c5",
   "metadata": {},
   "outputs": [
    {
     "data": {
      "text/plain": [
       "tensor([ 0.0484,  0.0029, -0.0442], grad_fn=<SliceBackward0>)"
      ]
     },
     "execution_count": 9,
     "metadata": {},
     "output_type": "execute_result"
    }
   ],
   "source": [
    "dense_networks[1].linear0.bias[0:3]"
   ]
  },
  {
   "cell_type": "code",
   "execution_count": 10,
   "id": "35739537",
   "metadata": {},
   "outputs": [
    {
     "data": {
      "text/plain": [
       "tensor([ 0.0484,  0.0029, -0.0442], grad_fn=<SliceBackward0>)"
      ]
     },
     "execution_count": 10,
     "metadata": {},
     "output_type": "execute_result"
    }
   ],
   "source": [
    "dense_networks[2].linear0.bias[0:3]"
   ]
  },
  {
   "cell_type": "code",
   "execution_count": 11,
   "id": "28670905",
   "metadata": {},
   "outputs": [],
   "source": [
    "# note the format of lambda \n",
    "linear_osharpe_methods = [lambda r, i=i: weights_from_NN(r, linear_osharpe_networks[i]) for i in years] \n",
    "dense_methods = [lambda r, i=i: weights_from_NN(r, dense_networks[i]) for i in years] \n"
   ]
  },
  {
   "cell_type": "code",
   "execution_count": 12,
   "id": "7045f79e",
   "metadata": {},
   "outputs": [
    {
     "data": {
      "text/plain": [
       "[array([-0.11055882,  1.0000925 ,  0.06984006,  0.02121476,  0.01941148],\n",
       "       dtype=float32),\n",
       " array([-0.19172463,  1.        ,  0.0724505 ,  0.01942461,  0.09984952],\n",
       "       dtype=float32),\n",
       " array([-0.1401442 ,  0.9999889 ,  0.0180865 , -0.02224984,  0.1443186 ],\n",
       "       dtype=float32)]"
      ]
     },
     "execution_count": 12,
     "metadata": {},
     "output_type": "execute_result"
    }
   ],
   "source": [
    "[get_weights(dense_methods[i]) for i in years]"
   ]
  },
  {
   "cell_type": "markdown",
   "id": "e7fae4ce",
   "metadata": {},
   "source": [
    "# Server"
   ]
  },
  {
   "cell_type": "code",
   "execution_count": 13,
   "id": "be630bfa",
   "metadata": {},
   "outputs": [],
   "source": [
    "from dateutil.relativedelta import relativedelta\n",
    "from datetime import datetime, date\n",
    "\n",
    "RETRAINING_DATE1 = date(2021, 12, 15)\n",
    "RETRAINING_DATE2 = date(2022, 12, 15)"
   ]
  },
  {
   "cell_type": "code",
   "execution_count": 14,
   "id": "7ac4766a",
   "metadata": {},
   "outputs": [
    {
     "data": {
      "text/plain": [
       "False"
      ]
     },
     "execution_count": 14,
     "metadata": {},
     "output_type": "execute_result"
    }
   ],
   "source": [
    "tmp = True\n",
    "not tmp"
   ]
  },
  {
   "cell_type": "code",
   "execution_count": 29,
   "id": "62cc3389",
   "metadata": {},
   "outputs": [],
   "source": [
    "from flask import Flask, request, jsonify\n",
    "from flask_cors import CORS \n",
    "\n",
    "import numpy as np\n",
    "\n",
    "app = Flask(__name__)\n",
    "CORS(app)  # Enable CORS for your Flask app\n",
    "\n",
    "markers = {}\n",
    "markers['net_initialized'] = False\n",
    "\n",
    "@app.route('/get_weights', methods=['GET'])\n",
    "def get_request():\n",
    "    # Extract date string from the query parameters\n",
    "    date_str = request.args.get('date', None)\n",
    "    \n",
    "    # Simple validation to check if date is provided\n",
    "    if not date_str:\n",
    "        return jsonify({\"error\": \"Missing date parameter\"}), 400\n",
    "\n",
    "    # Try to convert the date string to a datetime object\n",
    "    try:\n",
    "        # Note that now we're only parsing the date, not the time\n",
    "        date = datetime.strptime(date_str, \"%Y-%m-%d\").date()\n",
    "    except ValueError:\n",
    "        # If there is an error in parsing the date, return an error message\n",
    "        return jsonify({\"error\": \"Invalid date format. Please use YYYY-MM-DD format.\"}), 400\n",
    "    \n",
    "#     years_plus = 0\n",
    "#     if RETRAINING_DATE1 < date < RETRAINING_DATE2:\n",
    "#         years_plus = 1\n",
    "#         print(f'Working with model: {years_plus}')\n",
    "#     if RETRAINING_DATE2 < date:\n",
    "#         years_plus = 2\n",
    "#         print(f'Working with model: {years_plus}')\n",
    "    \n",
    "#     weights = get_weights(linear_osharpe_methods[years_plus]).tolist()\n",
    "    \n",
    "    rets = pd.read_csv(RETS_FILE_PATH, index_col=0)\n",
    "    X = transform_rets_to_NN_input(rets)\n",
    "    \n",
    "    network = LstmNetMinVar(5)\n",
    "    network.load_state_dict(torch.load(fr'./NNs/trained_on_new_data/lstm_minvar.pth'))\n",
    "       \n",
    "#     if date < RETRAINING_DATE1:\n",
    "#         print(0)\n",
    "#     if RETRAINING_DATE1 < date < RETRAINING_DATE2:\n",
    "#         print('1')\n",
    "#         network = MinVarDenseNet(1, 50, 5)\n",
    "#         network.load_state_dict(torch.load(fr'./NNs/min_var_dense_net_1.pth'))\n",
    "#     if RETRAINING_DATE2 < date:\n",
    "#         network = MinVarDenseNet(1, 50, 5)\n",
    "#         network.load_state_dict(torch.load(fr'./NNs/min_var_dense_net_2.pth'))\n",
    " #       print('2')\n",
    "    \n",
    "    weights = network.eval()(X).detach().numpy()[0].tolist()\n",
    "    \n",
    "        \n",
    "    #weights = weights_from_NN(rets, linear_osharpe_networks[0]).tolist()\n",
    "    #print(weights)\n",
    "    # Return the vector as JSON, using the string representation of the date for simplicity\n",
    "    return jsonify({'weights': weights})\n"
   ]
  },
  {
   "cell_type": "code",
   "execution_count": null,
   "id": "ed150707",
   "metadata": {},
   "outputs": [
    {
     "name": "stdout",
     "output_type": "stream",
     "text": [
      " * Serving Flask app '__main__'\n",
      " * Debug mode: off\n"
     ]
    },
    {
     "name": "stderr",
     "output_type": "stream",
     "text": [
      "WARNING: This is a development server. Do not use it in a production deployment. Use a production WSGI server instead.\n",
      " * Running on http://127.0.0.1:5000\n",
      "Press CTRL+C to quit\n",
      "C:\\Users\\seidm\\miniconda3\\envs\\ddow\\lib\\site-packages\\torch\\nn\\modules\\rnn.py:71: UserWarning: dropout option adds dropout after all but last recurrent layer, so non-zero dropout expects num_layers greater than 1, but got dropout=0.5 and num_layers=1\n",
      "  warnings.warn(\"dropout option adds dropout after all but last \"\n",
      "127.0.0.1 - - [17/Mar/2024 20:50:51] \"GET /get_weights?date=2017-12-18 HTTP/1.1\" 200 -\n",
      "C:\\Users\\seidm\\miniconda3\\envs\\ddow\\lib\\site-packages\\torch\\nn\\modules\\rnn.py:71: UserWarning: dropout option adds dropout after all but last recurrent layer, so non-zero dropout expects num_layers greater than 1, but got dropout=0.5 and num_layers=1\n",
      "  warnings.warn(\"dropout option adds dropout after all but last \"\n",
      "127.0.0.1 - - [17/Mar/2024 20:50:53] \"GET /get_weights?date=2017-12-26 HTTP/1.1\" 200 -\n",
      "C:\\Users\\seidm\\miniconda3\\envs\\ddow\\lib\\site-packages\\torch\\nn\\modules\\rnn.py:71: UserWarning: dropout option adds dropout after all but last recurrent layer, so non-zero dropout expects num_layers greater than 1, but got dropout=0.5 and num_layers=1\n",
      "  warnings.warn(\"dropout option adds dropout after all but last \"\n",
      "127.0.0.1 - - [17/Mar/2024 20:50:55] \"GET /get_weights?date=2018-01-02 HTTP/1.1\" 200 -\n",
      "C:\\Users\\seidm\\miniconda3\\envs\\ddow\\lib\\site-packages\\torch\\nn\\modules\\rnn.py:71: UserWarning: dropout option adds dropout after all but last recurrent layer, so non-zero dropout expects num_layers greater than 1, but got dropout=0.5 and num_layers=1\n",
      "  warnings.warn(\"dropout option adds dropout after all but last \"\n",
      "127.0.0.1 - - [17/Mar/2024 20:50:58] \"GET /get_weights?date=2018-01-08 HTTP/1.1\" 200 -\n",
      "C:\\Users\\seidm\\miniconda3\\envs\\ddow\\lib\\site-packages\\torch\\nn\\modules\\rnn.py:71: UserWarning: dropout option adds dropout after all but last recurrent layer, so non-zero dropout expects num_layers greater than 1, but got dropout=0.5 and num_layers=1\n",
      "  warnings.warn(\"dropout option adds dropout after all but last \"\n",
      "127.0.0.1 - - [17/Mar/2024 20:51:00] \"GET /get_weights?date=2018-01-16 HTTP/1.1\" 200 -\n",
      "C:\\Users\\seidm\\miniconda3\\envs\\ddow\\lib\\site-packages\\torch\\nn\\modules\\rnn.py:71: UserWarning: dropout option adds dropout after all but last recurrent layer, so non-zero dropout expects num_layers greater than 1, but got dropout=0.5 and num_layers=1\n",
      "  warnings.warn(\"dropout option adds dropout after all but last \"\n",
      "127.0.0.1 - - [17/Mar/2024 20:51:02] \"GET /get_weights?date=2018-01-22 HTTP/1.1\" 200 -\n",
      "C:\\Users\\seidm\\miniconda3\\envs\\ddow\\lib\\site-packages\\torch\\nn\\modules\\rnn.py:71: UserWarning: dropout option adds dropout after all but last recurrent layer, so non-zero dropout expects num_layers greater than 1, but got dropout=0.5 and num_layers=1\n",
      "  warnings.warn(\"dropout option adds dropout after all but last \"\n",
      "127.0.0.1 - - [17/Mar/2024 20:51:04] \"GET /get_weights?date=2018-01-29 HTTP/1.1\" 200 -\n",
      "C:\\Users\\seidm\\miniconda3\\envs\\ddow\\lib\\site-packages\\torch\\nn\\modules\\rnn.py:71: UserWarning: dropout option adds dropout after all but last recurrent layer, so non-zero dropout expects num_layers greater than 1, but got dropout=0.5 and num_layers=1\n",
      "  warnings.warn(\"dropout option adds dropout after all but last \"\n",
      "127.0.0.1 - - [17/Mar/2024 20:51:06] \"GET /get_weights?date=2018-02-05 HTTP/1.1\" 200 -\n",
      "C:\\Users\\seidm\\miniconda3\\envs\\ddow\\lib\\site-packages\\torch\\nn\\modules\\rnn.py:71: UserWarning: dropout option adds dropout after all but last recurrent layer, so non-zero dropout expects num_layers greater than 1, but got dropout=0.5 and num_layers=1\n",
      "  warnings.warn(\"dropout option adds dropout after all but last \"\n",
      "127.0.0.1 - - [17/Mar/2024 20:51:08] \"GET /get_weights?date=2018-02-12 HTTP/1.1\" 200 -\n",
      "C:\\Users\\seidm\\miniconda3\\envs\\ddow\\lib\\site-packages\\torch\\nn\\modules\\rnn.py:71: UserWarning: dropout option adds dropout after all but last recurrent layer, so non-zero dropout expects num_layers greater than 1, but got dropout=0.5 and num_layers=1\n",
      "  warnings.warn(\"dropout option adds dropout after all but last \"\n",
      "127.0.0.1 - - [17/Mar/2024 20:51:10] \"GET /get_weights?date=2018-02-20 HTTP/1.1\" 200 -\n",
      "C:\\Users\\seidm\\miniconda3\\envs\\ddow\\lib\\site-packages\\torch\\nn\\modules\\rnn.py:71: UserWarning: dropout option adds dropout after all but last recurrent layer, so non-zero dropout expects num_layers greater than 1, but got dropout=0.5 and num_layers=1\n",
      "  warnings.warn(\"dropout option adds dropout after all but last \"\n",
      "127.0.0.1 - - [17/Mar/2024 20:51:13] \"GET /get_weights?date=2018-02-26 HTTP/1.1\" 200 -\n",
      "C:\\Users\\seidm\\miniconda3\\envs\\ddow\\lib\\site-packages\\torch\\nn\\modules\\rnn.py:71: UserWarning: dropout option adds dropout after all but last recurrent layer, so non-zero dropout expects num_layers greater than 1, but got dropout=0.5 and num_layers=1\n",
      "  warnings.warn(\"dropout option adds dropout after all but last \"\n",
      "127.0.0.1 - - [17/Mar/2024 20:51:15] \"GET /get_weights?date=2018-03-05 HTTP/1.1\" 200 -\n",
      "C:\\Users\\seidm\\miniconda3\\envs\\ddow\\lib\\site-packages\\torch\\nn\\modules\\rnn.py:71: UserWarning: dropout option adds dropout after all but last recurrent layer, so non-zero dropout expects num_layers greater than 1, but got dropout=0.5 and num_layers=1\n",
      "  warnings.warn(\"dropout option adds dropout after all but last \"\n",
      "127.0.0.1 - - [17/Mar/2024 20:51:17] \"GET /get_weights?date=2018-03-12 HTTP/1.1\" 200 -\n",
      "C:\\Users\\seidm\\miniconda3\\envs\\ddow\\lib\\site-packages\\torch\\nn\\modules\\rnn.py:71: UserWarning: dropout option adds dropout after all but last recurrent layer, so non-zero dropout expects num_layers greater than 1, but got dropout=0.5 and num_layers=1\n",
      "  warnings.warn(\"dropout option adds dropout after all but last \"\n",
      "127.0.0.1 - - [17/Mar/2024 20:51:19] \"GET /get_weights?date=2018-03-19 HTTP/1.1\" 200 -\n",
      "C:\\Users\\seidm\\miniconda3\\envs\\ddow\\lib\\site-packages\\torch\\nn\\modules\\rnn.py:71: UserWarning: dropout option adds dropout after all but last recurrent layer, so non-zero dropout expects num_layers greater than 1, but got dropout=0.5 and num_layers=1\n",
      "  warnings.warn(\"dropout option adds dropout after all but last \"\n",
      "127.0.0.1 - - [17/Mar/2024 20:51:21] \"GET /get_weights?date=2018-03-26 HTTP/1.1\" 200 -\n",
      "C:\\Users\\seidm\\miniconda3\\envs\\ddow\\lib\\site-packages\\torch\\nn\\modules\\rnn.py:71: UserWarning: dropout option adds dropout after all but last recurrent layer, so non-zero dropout expects num_layers greater than 1, but got dropout=0.5 and num_layers=1\n",
      "  warnings.warn(\"dropout option adds dropout after all but last \"\n",
      "127.0.0.1 - - [17/Mar/2024 20:51:23] \"GET /get_weights?date=2018-04-02 HTTP/1.1\" 200 -\n",
      "C:\\Users\\seidm\\miniconda3\\envs\\ddow\\lib\\site-packages\\torch\\nn\\modules\\rnn.py:71: UserWarning: dropout option adds dropout after all but last recurrent layer, so non-zero dropout expects num_layers greater than 1, but got dropout=0.5 and num_layers=1\n",
      "  warnings.warn(\"dropout option adds dropout after all but last \"\n",
      "127.0.0.1 - - [17/Mar/2024 20:51:26] \"GET /get_weights?date=2018-04-09 HTTP/1.1\" 200 -\n",
      "C:\\Users\\seidm\\miniconda3\\envs\\ddow\\lib\\site-packages\\torch\\nn\\modules\\rnn.py:71: UserWarning: dropout option adds dropout after all but last recurrent layer, so non-zero dropout expects num_layers greater than 1, but got dropout=0.5 and num_layers=1\n",
      "  warnings.warn(\"dropout option adds dropout after all but last \"\n",
      "127.0.0.1 - - [17/Mar/2024 20:51:28] \"GET /get_weights?date=2018-04-16 HTTP/1.1\" 200 -\n",
      "C:\\Users\\seidm\\miniconda3\\envs\\ddow\\lib\\site-packages\\torch\\nn\\modules\\rnn.py:71: UserWarning: dropout option adds dropout after all but last recurrent layer, so non-zero dropout expects num_layers greater than 1, but got dropout=0.5 and num_layers=1\n",
      "  warnings.warn(\"dropout option adds dropout after all but last \"\n",
      "127.0.0.1 - - [17/Mar/2024 20:51:30] \"GET /get_weights?date=2018-04-23 HTTP/1.1\" 200 -\n",
      "C:\\Users\\seidm\\miniconda3\\envs\\ddow\\lib\\site-packages\\torch\\nn\\modules\\rnn.py:71: UserWarning: dropout option adds dropout after all but last recurrent layer, so non-zero dropout expects num_layers greater than 1, but got dropout=0.5 and num_layers=1\n",
      "  warnings.warn(\"dropout option adds dropout after all but last \"\n",
      "127.0.0.1 - - [17/Mar/2024 20:51:32] \"GET /get_weights?date=2018-04-30 HTTP/1.1\" 200 -\n"
     ]
    },
    {
     "name": "stderr",
     "output_type": "stream",
     "text": [
      "C:\\Users\\seidm\\miniconda3\\envs\\ddow\\lib\\site-packages\\torch\\nn\\modules\\rnn.py:71: UserWarning: dropout option adds dropout after all but last recurrent layer, so non-zero dropout expects num_layers greater than 1, but got dropout=0.5 and num_layers=1\n",
      "  warnings.warn(\"dropout option adds dropout after all but last \"\n",
      "127.0.0.1 - - [17/Mar/2024 20:51:34] \"GET /get_weights?date=2018-05-07 HTTP/1.1\" 200 -\n",
      "C:\\Users\\seidm\\miniconda3\\envs\\ddow\\lib\\site-packages\\torch\\nn\\modules\\rnn.py:71: UserWarning: dropout option adds dropout after all but last recurrent layer, so non-zero dropout expects num_layers greater than 1, but got dropout=0.5 and num_layers=1\n",
      "  warnings.warn(\"dropout option adds dropout after all but last \"\n",
      "127.0.0.1 - - [17/Mar/2024 20:51:36] \"GET /get_weights?date=2018-05-14 HTTP/1.1\" 200 -\n",
      "C:\\Users\\seidm\\miniconda3\\envs\\ddow\\lib\\site-packages\\torch\\nn\\modules\\rnn.py:71: UserWarning: dropout option adds dropout after all but last recurrent layer, so non-zero dropout expects num_layers greater than 1, but got dropout=0.5 and num_layers=1\n",
      "  warnings.warn(\"dropout option adds dropout after all but last \"\n",
      "127.0.0.1 - - [17/Mar/2024 20:51:39] \"GET /get_weights?date=2018-05-21 HTTP/1.1\" 200 -\n",
      "C:\\Users\\seidm\\miniconda3\\envs\\ddow\\lib\\site-packages\\torch\\nn\\modules\\rnn.py:71: UserWarning: dropout option adds dropout after all but last recurrent layer, so non-zero dropout expects num_layers greater than 1, but got dropout=0.5 and num_layers=1\n",
      "  warnings.warn(\"dropout option adds dropout after all but last \"\n",
      "127.0.0.1 - - [17/Mar/2024 20:51:41] \"GET /get_weights?date=2018-05-29 HTTP/1.1\" 200 -\n",
      "C:\\Users\\seidm\\miniconda3\\envs\\ddow\\lib\\site-packages\\torch\\nn\\modules\\rnn.py:71: UserWarning: dropout option adds dropout after all but last recurrent layer, so non-zero dropout expects num_layers greater than 1, but got dropout=0.5 and num_layers=1\n",
      "  warnings.warn(\"dropout option adds dropout after all but last \"\n",
      "127.0.0.1 - - [17/Mar/2024 20:51:43] \"GET /get_weights?date=2018-06-04 HTTP/1.1\" 200 -\n",
      "C:\\Users\\seidm\\miniconda3\\envs\\ddow\\lib\\site-packages\\torch\\nn\\modules\\rnn.py:71: UserWarning: dropout option adds dropout after all but last recurrent layer, so non-zero dropout expects num_layers greater than 1, but got dropout=0.5 and num_layers=1\n",
      "  warnings.warn(\"dropout option adds dropout after all but last \"\n",
      "127.0.0.1 - - [17/Mar/2024 20:51:45] \"GET /get_weights?date=2018-06-11 HTTP/1.1\" 200 -\n",
      "C:\\Users\\seidm\\miniconda3\\envs\\ddow\\lib\\site-packages\\torch\\nn\\modules\\rnn.py:71: UserWarning: dropout option adds dropout after all but last recurrent layer, so non-zero dropout expects num_layers greater than 1, but got dropout=0.5 and num_layers=1\n",
      "  warnings.warn(\"dropout option adds dropout after all but last \"\n",
      "127.0.0.1 - - [17/Mar/2024 20:51:47] \"GET /get_weights?date=2018-06-18 HTTP/1.1\" 200 -\n",
      "C:\\Users\\seidm\\miniconda3\\envs\\ddow\\lib\\site-packages\\torch\\nn\\modules\\rnn.py:71: UserWarning: dropout option adds dropout after all but last recurrent layer, so non-zero dropout expects num_layers greater than 1, but got dropout=0.5 and num_layers=1\n",
      "  warnings.warn(\"dropout option adds dropout after all but last \"\n",
      "127.0.0.1 - - [17/Mar/2024 20:51:49] \"GET /get_weights?date=2018-06-25 HTTP/1.1\" 200 -\n",
      "C:\\Users\\seidm\\miniconda3\\envs\\ddow\\lib\\site-packages\\torch\\nn\\modules\\rnn.py:71: UserWarning: dropout option adds dropout after all but last recurrent layer, so non-zero dropout expects num_layers greater than 1, but got dropout=0.5 and num_layers=1\n",
      "  warnings.warn(\"dropout option adds dropout after all but last \"\n",
      "127.0.0.1 - - [17/Mar/2024 20:51:51] \"GET /get_weights?date=2018-07-02 HTTP/1.1\" 200 -\n",
      "C:\\Users\\seidm\\miniconda3\\envs\\ddow\\lib\\site-packages\\torch\\nn\\modules\\rnn.py:71: UserWarning: dropout option adds dropout after all but last recurrent layer, so non-zero dropout expects num_layers greater than 1, but got dropout=0.5 and num_layers=1\n",
      "  warnings.warn(\"dropout option adds dropout after all but last \"\n",
      "127.0.0.1 - - [17/Mar/2024 20:51:54] \"GET /get_weights?date=2018-07-09 HTTP/1.1\" 200 -\n",
      "C:\\Users\\seidm\\miniconda3\\envs\\ddow\\lib\\site-packages\\torch\\nn\\modules\\rnn.py:71: UserWarning: dropout option adds dropout after all but last recurrent layer, so non-zero dropout expects num_layers greater than 1, but got dropout=0.5 and num_layers=1\n",
      "  warnings.warn(\"dropout option adds dropout after all but last \"\n",
      "127.0.0.1 - - [17/Mar/2024 20:51:56] \"GET /get_weights?date=2018-07-16 HTTP/1.1\" 200 -\n",
      "C:\\Users\\seidm\\miniconda3\\envs\\ddow\\lib\\site-packages\\torch\\nn\\modules\\rnn.py:71: UserWarning: dropout option adds dropout after all but last recurrent layer, so non-zero dropout expects num_layers greater than 1, but got dropout=0.5 and num_layers=1\n",
      "  warnings.warn(\"dropout option adds dropout after all but last \"\n",
      "127.0.0.1 - - [17/Mar/2024 20:51:58] \"GET /get_weights?date=2018-07-23 HTTP/1.1\" 200 -\n",
      "C:\\Users\\seidm\\miniconda3\\envs\\ddow\\lib\\site-packages\\torch\\nn\\modules\\rnn.py:71: UserWarning: dropout option adds dropout after all but last recurrent layer, so non-zero dropout expects num_layers greater than 1, but got dropout=0.5 and num_layers=1\n",
      "  warnings.warn(\"dropout option adds dropout after all but last \"\n",
      "127.0.0.1 - - [17/Mar/2024 20:52:00] \"GET /get_weights?date=2018-07-30 HTTP/1.1\" 200 -\n"
     ]
    }
   ],
   "source": [
    "app.run(port=5000)"
   ]
  },
  {
   "cell_type": "code",
   "execution_count": null,
   "id": "7a1839cc",
   "metadata": {},
   "outputs": [],
   "source": [
    "update the "
   ]
  }
 ],
 "metadata": {
  "kernelspec": {
   "display_name": "Python 3 (ipykernel)",
   "language": "python",
   "name": "python3"
  },
  "language_info": {
   "codemirror_mode": {
    "name": "ipython",
    "version": 3
   },
   "file_extension": ".py",
   "mimetype": "text/x-python",
   "name": "python",
   "nbconvert_exporter": "python",
   "pygments_lexer": "ipython3",
   "version": "3.8.17"
  }
 },
 "nbformat": 4,
 "nbformat_minor": 5
}
