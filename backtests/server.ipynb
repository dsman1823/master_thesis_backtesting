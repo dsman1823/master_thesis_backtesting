{
 "cells": [
  {
   "cell_type": "markdown",
   "id": "a388c7d0",
   "metadata": {},
   "source": [
    "# This notebook provides portfolio weights based on the historical data to the backtesting notebook"
   ]
  },
  {
   "cell_type": "code",
   "execution_count": null,
   "id": "04a4ce3b",
   "metadata": {},
   "outputs": [],
   "source": [
    "# !pip uninstall deepdowmine\n",
    "#!pip install git+https://github.com/dsman1823/deepdowmine.git\n",
    "#!conda install pytorch torchvision torchaudio cudatoolkit=10.2 -c pytorch # <---- to Enable SVD "
   ]
  },
  {
   "cell_type": "code",
   "execution_count": 1,
   "id": "9b37e532",
   "metadata": {},
   "outputs": [],
   "source": [
    "import torch\n",
    "\n",
    "import pandas as pd\n",
    "import numpy as np\n",
    "\n",
    "from datetime import datetime \n",
    "from deepdowmine.nn import LinearNetMine, UpdNumericalMarkowitzWithShorting, UpdLinearNetMine, UpdDenseNet, UpdUpdLinearNetMine\n",
    "from deepdowmine.nn import DenseNetMinVar, ConvNetFullOpti, ConvNetMinVar, RnnNetMinVar, LstmNetMinVar, RnnNetFullOpti\n",
    "from deepdowmine.nn import LstmNetFullOpti, DenseNetFullOpti2, DenseNetMinVar2"
   ]
  },
  {
   "cell_type": "code",
   "execution_count": 2,
   "id": "78fd3bba",
   "metadata": {},
   "outputs": [],
   "source": [
    "RETS_FILE_PATH = 'historical_returns.csv'\n",
    "\n",
    "\n",
    "\n",
    "loockback, gap, horizon = 50, 0, 5\n",
    "n_assets = 5\n",
    "loockback = 50\n"
   ]
  },
  {
   "cell_type": "markdown",
   "id": "6c88f90a",
   "metadata": {},
   "source": [
    "## Load NN from dict"
   ]
  },
  {
   "cell_type": "code",
   "execution_count": 3,
   "id": "36a91bae",
   "metadata": {},
   "outputs": [],
   "source": [
    "LINEAR_NET_OSHARPE_FILE_PATH = r'./NNs/linear_net_50x5_sharpe.pth' # LinearNetMine with ordinary Sharpe cost"
   ]
  },
  {
   "cell_type": "code",
   "execution_count": 4,
   "id": "7a634b07",
   "metadata": {},
   "outputs": [],
   "source": [
    "# years parameter reprsenets amount of years after the backtest stasrt: the model dowloaded is the the model trained \n",
    "# on the period (train_start, back_test_start + years) \n",
    "\n",
    "\n",
    "# LinearNetMine with ordinary sharpe cost function\n",
    "def load_linear_net_osharpe(years=0):\n",
    "    network = LinearNetMine(1, loockback, n_assets, p=0.5)\n",
    "    network.load_state_dict(torch.load(fr'./NNs/linear_net_50x5_sharpe_{years}.pth'))\n",
    "    print(fr'./NNs/linear_net_50x5_sharpe_{years}.pth')\n",
    "    return network.eval()\n",
    "    "
   ]
  },
  {
   "cell_type": "code",
   "execution_count": 5,
   "id": "fd38307d",
   "metadata": {},
   "outputs": [],
   "source": [
    "def load_dense_net(years=0):\n",
    "    network = UpdLinearNetMine(1, loockback, n_assets, p=0.5)\n",
    "    network.load_state_dict(torch.load(fr'./NNs/dense_{years}.pth'))\n",
    "    print(fr'dense_{years}.pth')\n",
    "    return network.eval()"
   ]
  },
  {
   "cell_type": "markdown",
   "id": "a0c6d5c7",
   "metadata": {},
   "source": [
    "## Core functions"
   ]
  },
  {
   "cell_type": "code",
   "execution_count": 6,
   "id": "9b0ed9ac",
   "metadata": {},
   "outputs": [],
   "source": [
    "def transform_rets_to_NN_input(rets):\n",
    "    # tranform (loockback, n_assets) df into (1, 1, loockback, n_assets)=(sample_size, n_channels, loockback, n_assets) tensor \n",
    "    returns_np = rets.to_numpy()\n",
    "\n",
    "    # Add the required dimensions: (n_samples, n_channels, lookback, n_assets)\n",
    "    returns_np_expanded = np.expand_dims(returns_np, axis=0)  # Adds n_samples dimension\n",
    "    returns_np_expanded = np.expand_dims(returns_np_expanded, axis=0)  \n",
    "    return torch.from_numpy(returns_np_expanded).float()\n",
    "\n",
    "def weights_from_NN(rets, network):\n",
    "    X = transform_rets_to_NN_input(rets)\n",
    "    return network(X).detach().numpy()[0]\n",
    "\n",
    "# method is a function, used for obtaining the returns\n",
    "def get_weights(method):\n",
    "    rets = pd.read_csv(RETS_FILE_PATH, index_col=0)\n",
    "    return method(rets)"
   ]
  },
  {
   "cell_type": "markdown",
   "id": "7d65c2c4",
   "metadata": {},
   "source": [
    "## NNs and related methods\n",
    "\n",
    "\n",
    "### NNs\n",
    "\n",
    "networks[i] method is trained on (train_start, backtest_start + i years) data interval"
   ]
  },
  {
   "cell_type": "code",
   "execution_count": null,
   "id": "87ac6576",
   "metadata": {},
   "outputs": [],
   "source": [
    "years = [0, 1, 2]#, 1, 2]\n",
    "\n",
    "linear_osharpe_networks = [load_linear_net_osharpe(years=i) for i in years]\n",
    "dense_networks = [load_dense_net(years=i) for i in years]"
   ]
  },
  {
   "cell_type": "markdown",
   "id": "db5b112d",
   "metadata": {},
   "source": [
    "### methods"
   ]
  },
  {
   "cell_type": "code",
   "execution_count": null,
   "id": "728b35c5",
   "metadata": {},
   "outputs": [],
   "source": [
    "dense_networks[1].linear0.bias[0:3]"
   ]
  },
  {
   "cell_type": "code",
   "execution_count": null,
   "id": "35739537",
   "metadata": {},
   "outputs": [],
   "source": [
    "dense_networks[2].linear0.bias[0:3]"
   ]
  },
  {
   "cell_type": "code",
   "execution_count": null,
   "id": "28670905",
   "metadata": {},
   "outputs": [],
   "source": [
    "# note the format of lambda \n",
    "linear_osharpe_methods = [lambda r, i=i: weights_from_NN(r, linear_osharpe_networks[i]) for i in years] \n",
    "dense_methods = [lambda r, i=i: weights_from_NN(r, dense_networks[i]) for i in years] \n"
   ]
  },
  {
   "cell_type": "code",
   "execution_count": null,
   "id": "7045f79e",
   "metadata": {},
   "outputs": [],
   "source": [
    "[get_weights(dense_methods[i]) for i in years]"
   ]
  },
  {
   "cell_type": "markdown",
   "id": "e7fae4ce",
   "metadata": {},
   "source": [
    "# Server"
   ]
  },
  {
   "cell_type": "code",
   "execution_count": 34,
   "id": "be630bfa",
   "metadata": {},
   "outputs": [],
   "source": [
    "from dateutil.relativedelta import relativedelta\n",
    "from datetime import datetime, date\n",
    "\n",
    "RETRAINING_DATE1 = date(2018, 12, 15)\n",
    "RETRAINING_DATE2 = date(2019, 12, 15)\n",
    "\n",
    "# RETRAINING_DATE1 = date(2021, 12, 15)\n",
    "# RETRAINING_DATE2 = date(2022, 12, 15)"
   ]
  },
  {
   "cell_type": "code",
   "execution_count": 35,
   "id": "f3132195",
   "metadata": {},
   "outputs": [],
   "source": [
    "from deepdowmine.nn import DenseNetFullOpti, ConvNetMinVar, DenseNetFullOpti"
   ]
  },
  {
   "cell_type": "code",
   "execution_count": 36,
   "id": "62cc3389",
   "metadata": {},
   "outputs": [],
   "source": [
    "from flask import Flask, request, jsonify\n",
    "from flask_cors import CORS \n",
    "\n",
    "import numpy as np\n",
    "\n",
    "app = Flask(__name__)\n",
    "CORS(app)  # Enable CORS for your Flask app\n",
    "\n",
    "markers = {}\n",
    "markers['net_initialized'] = False\n",
    "\n",
    "@app.route('/get_weights', methods=['GET'])\n",
    "def get_request():\n",
    "    # Extract date string from the query parameters\n",
    "    date_str = request.args.get('date', None)\n",
    "    \n",
    "    # Simple validation to check if date is provided\n",
    "    if not date_str:\n",
    "        return jsonify({\"error\": \"Missing date parameter\"}), 400\n",
    "\n",
    "    # Try to convert the date string to a datetime object\n",
    "    try:\n",
    "        # Note that now we're only parsing the date, not the time\n",
    "        date = datetime.strptime(date_str, \"%Y-%m-%d\").date()\n",
    "    except ValueError:\n",
    "        # If there is an error in parsing the date, return an error message\n",
    "        return jsonify({\"error\": \"Invalid date format. Please use YYYY-MM-DD format.\"}), 400\n",
    "    \n",
    "    years_plus = 0\n",
    "    network = DenseNetMinVar2(1, 50, 5,  max_weight=1, p=0.2)\n",
    "    network.load_state_dict(torch.load(fr'./NNs/trained_on_old_data/dense/min_var_0.pth'))\n",
    "\n",
    "    \n",
    "    if date < RETRAINING_DATE1:\n",
    "        print(0)\n",
    "    if RETRAINING_DATE1 < date < RETRAINING_DATE2:\n",
    "        print('1')\n",
    "        network = DenseNetMinVar2(1, 50, 5,  max_weight=1, p=0.2)\n",
    "        network.load_state_dict(torch.load(fr'./NNs/trained_on_old_data/dense/min_var_1.pth'))\n",
    "    if RETRAINING_DATE2 < date:\n",
    "        print('2')\n",
    "        network = DenseNetMinVar2(1, 50, 5,  max_weight=1, p=0.2)\n",
    "        network.load_state_dict(torch.load(fr'./NNs/trained_on_old_data/dense/min_var_2.pth'))\n",
    "\n",
    "    rets = pd.read_csv(RETS_FILE_PATH, index_col=0)\n",
    "    X = transform_rets_to_NN_input(rets)\n",
    "    weights = network.eval()(X).detach().numpy()[0].tolist()\n",
    "    \n",
    "        \n",
    "    #weights = weights_from_NN(rets, linear_osharpe_networks[0]).tolist()\n",
    "    #print(weights)\n",
    "    # Return the vector as JSON, using the string representation of the date for simplicity\n",
    "    print(date)\n",
    "    print(weights)\n",
    "    return jsonify({'weights': weights})\n"
   ]
  },
  {
   "cell_type": "code",
   "execution_count": null,
   "id": "ed150707",
   "metadata": {},
   "outputs": [
    {
     "name": "stdout",
     "output_type": "stream",
     "text": [
      " * Serving Flask app '__main__'\n",
      " * Debug mode: off\n"
     ]
    },
    {
     "name": "stderr",
     "output_type": "stream",
     "text": [
      "WARNING: This is a development server. Do not use it in a production deployment. Use a production WSGI server instead.\n",
      " * Running on http://127.0.0.1:5000\n",
      "Press CTRL+C to quit\n",
      "127.0.0.1 - - [31/Mar/2024 22:08:44] \"GET /get_weights?date=2017-12-18 HTTP/1.1\" 200 -\n"
     ]
    },
    {
     "name": "stdout",
     "output_type": "stream",
     "text": [
      "0\n",
      "2017-12-18\n",
      "[-0.12066516280174255, 0.4247640073299408, 0.029977327212691307, 0.7508179545402527, -0.08489412814378738]\n"
     ]
    },
    {
     "name": "stderr",
     "output_type": "stream",
     "text": [
      "127.0.0.1 - - [31/Mar/2024 22:08:46] \"GET /get_weights?date=2017-12-26 HTTP/1.1\" 200 -\n"
     ]
    },
    {
     "name": "stdout",
     "output_type": "stream",
     "text": [
      "0\n",
      "2017-12-26\n",
      "[0.15026186406612396, 0.11231150478124619, 0.0314481221139431, 0.6101203560829163, 0.09585816413164139]\n"
     ]
    },
    {
     "name": "stderr",
     "output_type": "stream",
     "text": [
      "127.0.0.1 - - [31/Mar/2024 22:08:48] \"GET /get_weights?date=2018-01-02 HTTP/1.1\" 200 -\n"
     ]
    },
    {
     "name": "stdout",
     "output_type": "stream",
     "text": [
      "0\n",
      "2018-01-02\n",
      "[-0.10736380517482758, 0.4779982566833496, -0.03258505091071129, 0.5234894752502441, 0.1384611427783966]\n"
     ]
    },
    {
     "name": "stderr",
     "output_type": "stream",
     "text": [
      "127.0.0.1 - - [31/Mar/2024 22:08:51] \"GET /get_weights?date=2018-01-08 HTTP/1.1\" 200 -\n"
     ]
    },
    {
     "name": "stdout",
     "output_type": "stream",
     "text": [
      "0\n",
      "2018-01-08\n",
      "[-0.03329344093799591, 0.645815908908844, -0.17208071053028107, 0.6852222084999084, -0.12566395103931427]\n"
     ]
    },
    {
     "name": "stderr",
     "output_type": "stream",
     "text": [
      "127.0.0.1 - - [31/Mar/2024 22:08:53] \"GET /get_weights?date=2018-01-16 HTTP/1.1\" 200 -\n"
     ]
    },
    {
     "name": "stdout",
     "output_type": "stream",
     "text": [
      "0\n",
      "2018-01-16\n",
      "[0.03183230012655258, 0.3928442895412445, -0.07449637353420258, 0.7397199273109436, -0.08990015834569931]\n"
     ]
    },
    {
     "name": "stderr",
     "output_type": "stream",
     "text": [
      "127.0.0.1 - - [31/Mar/2024 22:08:55] \"GET /get_weights?date=2018-01-22 HTTP/1.1\" 200 -\n"
     ]
    },
    {
     "name": "stdout",
     "output_type": "stream",
     "text": [
      "0\n",
      "2018-01-22\n",
      "[-0.1935211420059204, 0.45557886362075806, -0.024050161242485046, 0.7793494462966919, -0.01735701970756054]\n"
     ]
    },
    {
     "name": "stderr",
     "output_type": "stream",
     "text": [
      "127.0.0.1 - - [31/Mar/2024 22:08:57] \"GET /get_weights?date=2018-01-29 HTTP/1.1\" 200 -\n"
     ]
    },
    {
     "name": "stdout",
     "output_type": "stream",
     "text": [
      "0\n",
      "2018-01-29\n",
      "[0.08911709487438202, 0.43820562958717346, -0.05406317487359047, 0.44292688369750977, 0.08381355553865433]\n"
     ]
    },
    {
     "name": "stderr",
     "output_type": "stream",
     "text": [
      "127.0.0.1 - - [31/Mar/2024 22:08:59] \"GET /get_weights?date=2018-02-05 HTTP/1.1\" 200 -\n"
     ]
    },
    {
     "name": "stdout",
     "output_type": "stream",
     "text": [
      "0\n",
      "2018-02-05\n",
      "[0.07535872608423233, 0.20439103245735168, 0.029697610065340996, 0.6512805819511414, 0.03927196189761162]\n"
     ]
    },
    {
     "name": "stderr",
     "output_type": "stream",
     "text": [
      "127.0.0.1 - - [31/Mar/2024 22:09:02] \"GET /get_weights?date=2018-02-12 HTTP/1.1\" 200 -\n"
     ]
    },
    {
     "name": "stdout",
     "output_type": "stream",
     "text": [
      "0\n",
      "2018-02-12\n",
      "[-0.027927596122026443, 0.025891747325658798, 0.22321340441703796, 0.7115047574043274, 0.06731734424829483]\n"
     ]
    },
    {
     "name": "stderr",
     "output_type": "stream",
     "text": [
      "127.0.0.1 - - [31/Mar/2024 22:09:04] \"GET /get_weights?date=2018-02-20 HTTP/1.1\" 200 -\n"
     ]
    },
    {
     "name": "stdout",
     "output_type": "stream",
     "text": [
      "0\n",
      "2018-02-20\n",
      "[-0.3012916147708893, 0.5556104779243469, -0.17319436371326447, 0.721743643283844, 0.19713161885738373]\n"
     ]
    },
    {
     "name": "stderr",
     "output_type": "stream",
     "text": [
      "127.0.0.1 - - [31/Mar/2024 22:09:06] \"GET /get_weights?date=2018-02-26 HTTP/1.1\" 200 -\n"
     ]
    },
    {
     "name": "stdout",
     "output_type": "stream",
     "text": [
      "0\n",
      "2018-02-26\n",
      "[-0.12690289318561554, 0.369247168302536, 0.06638128310441971, 0.5949714183807373, 0.09630286693572998]\n"
     ]
    },
    {
     "name": "stderr",
     "output_type": "stream",
     "text": [
      "127.0.0.1 - - [31/Mar/2024 22:09:08] \"GET /get_weights?date=2018-03-05 HTTP/1.1\" 200 -\n"
     ]
    },
    {
     "name": "stdout",
     "output_type": "stream",
     "text": [
      "0\n",
      "2018-03-05\n",
      "[0.012610296718776226, 0.11079033464193344, -0.004887907765805721, 0.8832881450653076, -0.0018009486375376582]\n"
     ]
    },
    {
     "name": "stderr",
     "output_type": "stream",
     "text": [
      "127.0.0.1 - - [31/Mar/2024 22:09:10] \"GET /get_weights?date=2018-03-12 HTTP/1.1\" 200 -\n"
     ]
    },
    {
     "name": "stdout",
     "output_type": "stream",
     "text": [
      "0\n",
      "2018-03-12\n",
      "[-0.34672117233276367, 0.43609946966171265, 0.1594211608171463, 0.6825211644172668, 0.06867899000644684]\n"
     ]
    },
    {
     "name": "stderr",
     "output_type": "stream",
     "text": [
      "127.0.0.1 - - [31/Mar/2024 22:09:12] \"GET /get_weights?date=2018-03-19 HTTP/1.1\" 200 -\n"
     ]
    },
    {
     "name": "stdout",
     "output_type": "stream",
     "text": [
      "0\n",
      "2018-03-19\n",
      "[0.009192949160933495, 0.4363746643066406, 0.08196774870157242, 0.6641433238983154, -0.19167882204055786]\n"
     ]
    },
    {
     "name": "stderr",
     "output_type": "stream",
     "text": [
      "127.0.0.1 - - [31/Mar/2024 22:09:15] \"GET /get_weights?date=2018-03-26 HTTP/1.1\" 200 -\n"
     ]
    },
    {
     "name": "stdout",
     "output_type": "stream",
     "text": [
      "0\n",
      "2018-03-26\n",
      "[-0.00029157038079574704, 0.3754212260246277, 0.02706281840801239, 0.6163880228996277, -0.01858084462583065]\n"
     ]
    },
    {
     "name": "stderr",
     "output_type": "stream",
     "text": [
      "127.0.0.1 - - [31/Mar/2024 22:09:17] \"GET /get_weights?date=2018-04-02 HTTP/1.1\" 200 -\n"
     ]
    },
    {
     "name": "stdout",
     "output_type": "stream",
     "text": [
      "0\n",
      "2018-04-02\n",
      "[0.029689012095332146, 0.3217368423938751, 0.04951447993516922, 0.5260085463523865, 0.07305113226175308]\n"
     ]
    },
    {
     "name": "stderr",
     "output_type": "stream",
     "text": [
      "127.0.0.1 - - [31/Mar/2024 22:09:19] \"GET /get_weights?date=2018-04-09 HTTP/1.1\" 200 -\n"
     ]
    },
    {
     "name": "stdout",
     "output_type": "stream",
     "text": [
      "0\n",
      "2018-04-09\n",
      "[-0.23372410237789154, 0.416704922914505, 0.2365010529756546, 0.4232783019542694, 0.15723955631256104]\n"
     ]
    },
    {
     "name": "stderr",
     "output_type": "stream",
     "text": [
      "127.0.0.1 - - [31/Mar/2024 22:09:21] \"GET /get_weights?date=2018-04-16 HTTP/1.1\" 200 -\n"
     ]
    },
    {
     "name": "stdout",
     "output_type": "stream",
     "text": [
      "0\n",
      "2018-04-16\n",
      "[-0.04968929663300514, 0.3182719051837921, 0.13269929587841034, 0.4725661277770996, 0.1261516958475113]\n"
     ]
    },
    {
     "name": "stderr",
     "output_type": "stream",
     "text": [
      "127.0.0.1 - - [31/Mar/2024 22:09:23] \"GET /get_weights?date=2018-04-23 HTTP/1.1\" 200 -\n"
     ]
    },
    {
     "name": "stdout",
     "output_type": "stream",
     "text": [
      "0\n",
      "2018-04-23\n",
      "[-0.17688152194023132, 0.41322755813598633, 0.16067256033420563, 0.6368312239646912, -0.03384992107748985]\n"
     ]
    },
    {
     "name": "stderr",
     "output_type": "stream",
     "text": [
      "127.0.0.1 - - [31/Mar/2024 22:09:26] \"GET /get_weights?date=2018-04-30 HTTP/1.1\" 200 -\n"
     ]
    },
    {
     "name": "stdout",
     "output_type": "stream",
     "text": [
      "0\n",
      "2018-04-30\n",
      "[-0.08066080510616302, 0.21994972229003906, 0.01113888993859291, 0.8144081830978394, 0.03516387566924095]\n"
     ]
    },
    {
     "name": "stderr",
     "output_type": "stream",
     "text": [
      "127.0.0.1 - - [31/Mar/2024 22:09:28] \"GET /get_weights?date=2018-05-07 HTTP/1.1\" 200 -\n"
     ]
    },
    {
     "name": "stdout",
     "output_type": "stream",
     "text": [
      "0\n",
      "2018-05-07\n",
      "[0.12396619468927383, 0.3830815255641937, -0.05319973826408386, 0.7136192917823792, -0.16746731102466583]\n"
     ]
    },
    {
     "name": "stderr",
     "output_type": "stream",
     "text": [
      "127.0.0.1 - - [31/Mar/2024 22:09:30] \"GET /get_weights?date=2018-05-14 HTTP/1.1\" 200 -\n"
     ]
    },
    {
     "name": "stdout",
     "output_type": "stream",
     "text": [
      "0\n",
      "2018-05-14\n",
      "[-0.015568837523460388, 0.20118269324302673, 0.07601514458656311, 0.7183133959770203, 0.020057443529367447]\n"
     ]
    },
    {
     "name": "stderr",
     "output_type": "stream",
     "text": [
      "127.0.0.1 - - [31/Mar/2024 22:09:32] \"GET /get_weights?date=2018-05-21 HTTP/1.1\" 200 -\n"
     ]
    },
    {
     "name": "stdout",
     "output_type": "stream",
     "text": [
      "0\n",
      "2018-05-21\n",
      "[-0.045222897082567215, 0.46440818905830383, 0.14218853414058685, 0.43734151124954224, 0.0012845654273405671]\n"
     ]
    },
    {
     "name": "stderr",
     "output_type": "stream",
     "text": [
      "127.0.0.1 - - [31/Mar/2024 22:09:34] \"GET /get_weights?date=2018-05-29 HTTP/1.1\" 200 -\n"
     ]
    },
    {
     "name": "stdout",
     "output_type": "stream",
     "text": [
      "0\n",
      "2018-05-29\n",
      "[-0.09476589411497116, 0.3947586119174957, 0.11359686404466629, 0.48219674825668335, 0.10421355813741684]\n"
     ]
    },
    {
     "name": "stderr",
     "output_type": "stream",
     "text": [
      "127.0.0.1 - - [31/Mar/2024 22:09:36] \"GET /get_weights?date=2018-06-04 HTTP/1.1\" 200 -\n"
     ]
    },
    {
     "name": "stdout",
     "output_type": "stream",
     "text": [
      "0\n",
      "2018-06-04\n",
      "[0.07813519984483719, 0.46582335233688354, -0.03721117600798607, 0.5655303001403809, -0.0722777247428894]\n"
     ]
    },
    {
     "name": "stderr",
     "output_type": "stream",
     "text": [
      "127.0.0.1 - - [31/Mar/2024 22:09:38] \"GET /get_weights?date=2018-06-11 HTTP/1.1\" 200 -\n"
     ]
    },
    {
     "name": "stdout",
     "output_type": "stream",
     "text": [
      "0\n",
      "2018-06-11\n",
      "[-0.16938422620296478, 0.5558605790138245, 0.07987761497497559, 0.5313153266906738, 0.0023306338116526604]\n"
     ]
    },
    {
     "name": "stderr",
     "output_type": "stream",
     "text": [
      "127.0.0.1 - - [31/Mar/2024 22:09:41] \"GET /get_weights?date=2018-06-18 HTTP/1.1\" 200 -\n"
     ]
    },
    {
     "name": "stdout",
     "output_type": "stream",
     "text": [
      "0\n",
      "2018-06-18\n",
      "[0.01612263359129429, 0.39515420794487, -0.16754697263240814, 0.7347036600112915, 0.021566418930888176]\n"
     ]
    },
    {
     "name": "stderr",
     "output_type": "stream",
     "text": [
      "127.0.0.1 - - [31/Mar/2024 22:09:43] \"GET /get_weights?date=2018-06-25 HTTP/1.1\" 200 -\n"
     ]
    },
    {
     "name": "stdout",
     "output_type": "stream",
     "text": [
      "0\n",
      "2018-06-25\n",
      "[0.008393781259655952, 0.3426026999950409, -0.13193349540233612, 0.6428861021995544, 0.1380508989095688]\n"
     ]
    },
    {
     "name": "stderr",
     "output_type": "stream",
     "text": [
      "127.0.0.1 - - [31/Mar/2024 22:09:45] \"GET /get_weights?date=2018-07-02 HTTP/1.1\" 200 -\n"
     ]
    },
    {
     "name": "stdout",
     "output_type": "stream",
     "text": [
      "0\n",
      "2018-07-02\n",
      "[-0.266493022441864, 0.34575796127319336, -0.02874043956398964, 0.8422550559043884, 0.10722041130065918]\n"
     ]
    },
    {
     "name": "stderr",
     "output_type": "stream",
     "text": [
      "127.0.0.1 - - [31/Mar/2024 22:09:47] \"GET /get_weights?date=2018-07-09 HTTP/1.1\" 200 -\n"
     ]
    },
    {
     "name": "stdout",
     "output_type": "stream",
     "text": [
      "0\n",
      "2018-07-09\n",
      "[0.02134355902671814, 0.408573716878891, -0.15031102299690247, 0.6932734251022339, 0.027120256796479225]\n"
     ]
    },
    {
     "name": "stderr",
     "output_type": "stream",
     "text": [
      "127.0.0.1 - - [31/Mar/2024 22:09:49] \"GET /get_weights?date=2018-07-16 HTTP/1.1\" 200 -\n"
     ]
    },
    {
     "name": "stdout",
     "output_type": "stream",
     "text": [
      "0\n",
      "2018-07-16\n",
      "[-0.23091407120227814, 0.4438864290714264, 0.06938699632883072, 0.7565791010856628, -0.03893851861357689]\n"
     ]
    },
    {
     "name": "stderr",
     "output_type": "stream",
     "text": [
      "127.0.0.1 - - [31/Mar/2024 22:09:51] \"GET /get_weights?date=2018-07-23 HTTP/1.1\" 200 -\n"
     ]
    },
    {
     "name": "stdout",
     "output_type": "stream",
     "text": [
      "0\n",
      "2018-07-23\n",
      "[-0.015683365985751152, 0.31946510076522827, 0.17528031766414642, 0.44773954153060913, 0.07319839298725128]\n"
     ]
    },
    {
     "name": "stderr",
     "output_type": "stream",
     "text": [
      "127.0.0.1 - - [31/Mar/2024 22:09:53] \"GET /get_weights?date=2018-07-30 HTTP/1.1\" 200 -\n"
     ]
    },
    {
     "name": "stdout",
     "output_type": "stream",
     "text": [
      "0\n",
      "2018-07-30\n",
      "[-0.1678086817264557, 0.34700796008110046, -0.11255660653114319, 0.7193810343742371, 0.21397629380226135]\n"
     ]
    },
    {
     "name": "stderr",
     "output_type": "stream",
     "text": [
      "127.0.0.1 - - [31/Mar/2024 22:09:56] \"GET /get_weights?date=2018-08-06 HTTP/1.1\" 200 -\n"
     ]
    },
    {
     "name": "stdout",
     "output_type": "stream",
     "text": [
      "0\n",
      "2018-08-06\n",
      "[-0.0003068844380322844, 0.461280882358551, -0.11322547495365143, 0.7031844258308411, -0.05093299597501755]\n"
     ]
    },
    {
     "name": "stderr",
     "output_type": "stream",
     "text": [
      "127.0.0.1 - - [31/Mar/2024 22:09:58] \"GET /get_weights?date=2018-08-13 HTTP/1.1\" 200 -\n"
     ]
    },
    {
     "name": "stdout",
     "output_type": "stream",
     "text": [
      "0\n",
      "2018-08-13\n",
      "[-0.11208783090114594, 0.43063682317733765, 0.023563429713249207, 0.7537897825241089, -0.09590218216180801]\n"
     ]
    },
    {
     "name": "stderr",
     "output_type": "stream",
     "text": [
      "127.0.0.1 - - [31/Mar/2024 22:10:00] \"GET /get_weights?date=2018-08-20 HTTP/1.1\" 200 -\n"
     ]
    },
    {
     "name": "stdout",
     "output_type": "stream",
     "text": [
      "0\n",
      "2018-08-20\n",
      "[0.05623500049114227, 0.3273741602897644, -0.052175745368003845, 0.5787951350212097, 0.08977140486240387]\n"
     ]
    },
    {
     "name": "stderr",
     "output_type": "stream",
     "text": [
      "127.0.0.1 - - [31/Mar/2024 22:10:02] \"GET /get_weights?date=2018-08-27 HTTP/1.1\" 200 -\n"
     ]
    },
    {
     "name": "stdout",
     "output_type": "stream",
     "text": [
      "0\n",
      "2018-08-27\n",
      "[-0.040681663900613785, 0.4010460078716278, -0.041914258152246475, 0.4465119540691376, 0.2350379377603531]\n"
     ]
    },
    {
     "name": "stderr",
     "output_type": "stream",
     "text": [
      "127.0.0.1 - - [31/Mar/2024 22:10:04] \"GET /get_weights?date=2018-09-04 HTTP/1.1\" 200 -\n"
     ]
    },
    {
     "name": "stdout",
     "output_type": "stream",
     "text": [
      "0\n",
      "2018-09-04\n",
      "[-0.04742449149489403, 0.45377668738365173, -0.015149522572755814, 0.6695685386657715, -0.06077119708061218]\n"
     ]
    },
    {
     "name": "stderr",
     "output_type": "stream",
     "text": [
      "127.0.0.1 - - [31/Mar/2024 22:10:06] \"GET /get_weights?date=2018-09-10 HTTP/1.1\" 200 -\n"
     ]
    },
    {
     "name": "stdout",
     "output_type": "stream",
     "text": [
      "0\n",
      "2018-09-10\n",
      "[0.1373390406370163, 0.07818064838647842, 0.06780804693698883, 0.6012645363807678, 0.11540773510932922]\n"
     ]
    },
    {
     "name": "stderr",
     "output_type": "stream",
     "text": [
      "127.0.0.1 - - [31/Mar/2024 22:10:09] \"GET /get_weights?date=2018-09-17 HTTP/1.1\" 200 -\n"
     ]
    },
    {
     "name": "stdout",
     "output_type": "stream",
     "text": [
      "0\n",
      "2018-09-17\n",
      "[-0.0460934080183506, 0.4780906140804291, -0.008411034941673279, 0.6336361765861511, -0.05722237750887871]\n"
     ]
    },
    {
     "name": "stderr",
     "output_type": "stream",
     "text": [
      "127.0.0.1 - - [31/Mar/2024 22:10:11] \"GET /get_weights?date=2018-09-24 HTTP/1.1\" 200 -\n"
     ]
    },
    {
     "name": "stdout",
     "output_type": "stream",
     "text": [
      "0\n",
      "2018-09-24\n",
      "[-0.06525913625955582, 0.3855026364326477, 0.022917835041880608, 0.7381183505058289, -0.08127965778112411]\n"
     ]
    },
    {
     "name": "stderr",
     "output_type": "stream",
     "text": [
      "127.0.0.1 - - [31/Mar/2024 22:10:13] \"GET /get_weights?date=2018-10-01 HTTP/1.1\" 200 -\n"
     ]
    },
    {
     "name": "stdout",
     "output_type": "stream",
     "text": [
      "0\n",
      "2018-10-01\n",
      "[-0.13265152275562286, 0.42208537459373474, 0.20599845051765442, 0.5017271041870117, 0.0028405592311173677]\n"
     ]
    },
    {
     "name": "stderr",
     "output_type": "stream",
     "text": [
      "127.0.0.1 - - [31/Mar/2024 22:10:15] \"GET /get_weights?date=2018-10-08 HTTP/1.1\" 200 -\n"
     ]
    },
    {
     "name": "stdout",
     "output_type": "stream",
     "text": [
      "0\n",
      "2018-10-08\n",
      "[-0.1566338837146759, 0.4047911763191223, 0.13918526470661163, 0.532097339630127, 0.08056008815765381]\n"
     ]
    },
    {
     "name": "stderr",
     "output_type": "stream",
     "text": [
      "127.0.0.1 - - [31/Mar/2024 22:10:17] \"GET /get_weights?date=2018-10-15 HTTP/1.1\" 200 -\n"
     ]
    },
    {
     "name": "stdout",
     "output_type": "stream",
     "text": [
      "0\n",
      "2018-10-15\n",
      "[-0.020984599366784096, 0.48244616389274597, 0.05981655791401863, 0.6614421606063843, -0.18272031843662262]\n"
     ]
    },
    {
     "name": "stderr",
     "output_type": "stream",
     "text": [
      "127.0.0.1 - - [31/Mar/2024 22:10:19] \"GET /get_weights?date=2018-10-22 HTTP/1.1\" 200 -\n"
     ]
    },
    {
     "name": "stdout",
     "output_type": "stream",
     "text": [
      "0\n",
      "2018-10-22\n",
      "[0.11607633531093597, 0.22256949543952942, 0.07871871441602707, 0.5183824896812439, 0.06425288319587708]\n"
     ]
    },
    {
     "name": "stderr",
     "output_type": "stream",
     "text": [
      "127.0.0.1 - - [31/Mar/2024 22:10:22] \"GET /get_weights?date=2018-10-29 HTTP/1.1\" 200 -\n"
     ]
    },
    {
     "name": "stdout",
     "output_type": "stream",
     "text": [
      "0\n",
      "2018-10-29\n",
      "[0.05666504427790642, 0.18630638718605042, -0.01227012649178505, 0.743362545967102, 0.025935837998986244]\n"
     ]
    },
    {
     "name": "stderr",
     "output_type": "stream",
     "text": [
      "127.0.0.1 - - [31/Mar/2024 22:10:24] \"GET /get_weights?date=2018-11-05 HTTP/1.1\" 200 -\n"
     ]
    },
    {
     "name": "stdout",
     "output_type": "stream",
     "text": [
      "0\n",
      "2018-11-05\n",
      "[0.026213975623250008, 0.2504049241542816, -0.04547083005309105, 0.577426016330719, 0.19142580032348633]\n"
     ]
    },
    {
     "name": "stderr",
     "output_type": "stream",
     "text": [
      "127.0.0.1 - - [31/Mar/2024 22:10:26] \"GET /get_weights?date=2018-11-12 HTTP/1.1\" 200 -\n"
     ]
    },
    {
     "name": "stdout",
     "output_type": "stream",
     "text": [
      "0\n",
      "2018-11-12\n",
      "[-0.04474809020757675, 0.28631722927093506, -0.025126174092292786, 0.611524224281311, 0.1720326840877533]\n"
     ]
    },
    {
     "name": "stderr",
     "output_type": "stream",
     "text": [
      "127.0.0.1 - - [31/Mar/2024 22:10:28] \"GET /get_weights?date=2018-11-19 HTTP/1.1\" 200 -\n"
     ]
    },
    {
     "name": "stdout",
     "output_type": "stream",
     "text": [
      "0\n",
      "2018-11-19\n",
      "[-0.08038099110126495, 0.2807330787181854, 0.05078994482755661, 0.6571562886238098, 0.09170152992010117]\n"
     ]
    },
    {
     "name": "stderr",
     "output_type": "stream",
     "text": [
      "127.0.0.1 - - [31/Mar/2024 22:10:30] \"GET /get_weights?date=2018-11-26 HTTP/1.1\" 200 -\n"
     ]
    },
    {
     "name": "stdout",
     "output_type": "stream",
     "text": [
      "0\n",
      "2018-11-26\n",
      "[-0.10504276305437088, 0.41689470410346985, 0.09101275354623795, 0.6413629055023193, -0.044227827340364456]\n"
     ]
    },
    {
     "name": "stderr",
     "output_type": "stream",
     "text": [
      "127.0.0.1 - - [31/Mar/2024 22:10:32] \"GET /get_weights?date=2018-12-03 HTTP/1.1\" 200 -\n"
     ]
    },
    {
     "name": "stdout",
     "output_type": "stream",
     "text": [
      "0\n",
      "2018-12-03\n",
      "[-0.18990471959114075, 0.2571777403354645, 0.17705534398555756, 0.6032667756080627, 0.15240448713302612]\n"
     ]
    },
    {
     "name": "stderr",
     "output_type": "stream",
     "text": [
      "127.0.0.1 - - [31/Mar/2024 22:10:35] \"GET /get_weights?date=2018-12-10 HTTP/1.1\" 200 -\n"
     ]
    },
    {
     "name": "stdout",
     "output_type": "stream",
     "text": [
      "0\n",
      "2018-12-10\n",
      "[-0.06606799364089966, 0.3973797857761383, 0.058405470103025436, 0.5391855239868164, 0.07109701633453369]\n"
     ]
    },
    {
     "name": "stderr",
     "output_type": "stream",
     "text": [
      "127.0.0.1 - - [31/Mar/2024 22:10:37] \"GET /get_weights?date=2018-12-17 HTTP/1.1\" 200 -\n"
     ]
    },
    {
     "name": "stdout",
     "output_type": "stream",
     "text": [
      "1\n",
      "2018-12-17\n",
      "[-0.16010671854019165, 0.4346272647380829, 0.06096116080880165, 0.5402955412864685, 0.12422270327806473]\n"
     ]
    },
    {
     "name": "stderr",
     "output_type": "stream",
     "text": [
      "127.0.0.1 - - [31/Mar/2024 22:10:39] \"GET /get_weights?date=2018-12-24 HTTP/1.1\" 200 -\n"
     ]
    },
    {
     "name": "stdout",
     "output_type": "stream",
     "text": [
      "1\n",
      "2018-12-24\n",
      "[0.12491250783205032, 0.21235622465610504, 0.18814896047115326, 0.4208733141422272, 0.053708989173173904]\n"
     ]
    },
    {
     "name": "stderr",
     "output_type": "stream",
     "text": [
      "127.0.0.1 - - [31/Mar/2024 22:10:41] \"GET /get_weights?date=2018-12-31 HTTP/1.1\" 200 -\n"
     ]
    },
    {
     "name": "stdout",
     "output_type": "stream",
     "text": [
      "1\n",
      "2018-12-31\n",
      "[0.2175767868757248, 0.3323613703250885, -0.004876468330621719, 0.39055588841438293, 0.06438238173723221]\n"
     ]
    },
    {
     "name": "stderr",
     "output_type": "stream",
     "text": [
      "127.0.0.1 - - [31/Mar/2024 22:10:44] \"GET /get_weights?date=2019-01-07 HTTP/1.1\" 200 -\n"
     ]
    },
    {
     "name": "stdout",
     "output_type": "stream",
     "text": [
      "1\n",
      "2019-01-07\n",
      "[0.021723181009292603, 0.4194246828556061, -0.0628356859087944, 0.4853878915309906, 0.13629987835884094]\n"
     ]
    },
    {
     "name": "stderr",
     "output_type": "stream",
     "text": [
      "127.0.0.1 - - [31/Mar/2024 22:10:46] \"GET /get_weights?date=2019-01-14 HTTP/1.1\" 200 -\n"
     ]
    },
    {
     "name": "stdout",
     "output_type": "stream",
     "text": [
      "1\n",
      "2019-01-14\n",
      "[0.21312052011489868, 0.22045840322971344, 0.1438526213169098, 0.44501766562461853, -0.022449539974331856]\n"
     ]
    },
    {
     "name": "stderr",
     "output_type": "stream",
     "text": [
      "127.0.0.1 - - [31/Mar/2024 22:10:48] \"GET /get_weights?date=2019-01-22 HTTP/1.1\" 200 -\n"
     ]
    },
    {
     "name": "stdout",
     "output_type": "stream",
     "text": [
      "1\n",
      "2019-01-22\n",
      "[-0.21350635588169098, 0.40979501605033875, 0.03263106197118759, 0.5664190053939819, 0.20466125011444092]\n"
     ]
    },
    {
     "name": "stderr",
     "output_type": "stream",
     "text": [
      "127.0.0.1 - - [31/Mar/2024 22:10:50] \"GET /get_weights?date=2019-01-28 HTTP/1.1\" 200 -\n"
     ]
    },
    {
     "name": "stdout",
     "output_type": "stream",
     "text": [
      "1\n",
      "2019-01-28\n",
      "[0.0855037048459053, 0.25496500730514526, 0.01495303213596344, 0.48050034046173096, 0.16407790780067444]\n"
     ]
    },
    {
     "name": "stderr",
     "output_type": "stream",
     "text": [
      "127.0.0.1 - - [31/Mar/2024 22:10:52] \"GET /get_weights?date=2019-02-04 HTTP/1.1\" 200 -\n"
     ]
    },
    {
     "name": "stdout",
     "output_type": "stream",
     "text": [
      "1\n",
      "2019-02-04\n",
      "[-0.06534905731678009, 0.3716259300708771, -0.027688302099704742, 0.6275469660758972, 0.09386446326971054]\n"
     ]
    },
    {
     "name": "stderr",
     "output_type": "stream",
     "text": [
      "127.0.0.1 - - [31/Mar/2024 22:10:55] \"GET /get_weights?date=2019-02-11 HTTP/1.1\" 200 -\n"
     ]
    },
    {
     "name": "stdout",
     "output_type": "stream",
     "text": [
      "1\n",
      "2019-02-11\n",
      "[0.0007206985610537231, 0.41192978620529175, 0.08590573817491531, 0.4241424798965454, 0.0773010179400444]\n"
     ]
    },
    {
     "name": "stderr",
     "output_type": "stream",
     "text": [
      "127.0.0.1 - - [31/Mar/2024 22:10:57] \"GET /get_weights?date=2019-02-19 HTTP/1.1\" 200 -\n"
     ]
    },
    {
     "name": "stdout",
     "output_type": "stream",
     "text": [
      "1\n",
      "2019-02-19\n",
      "[0.17371320724487305, 0.4358983039855957, -0.11630572378635406, 0.5301311612129211, -0.023437274619936943]\n"
     ]
    },
    {
     "name": "stderr",
     "output_type": "stream",
     "text": [
      "127.0.0.1 - - [31/Mar/2024 22:10:59] \"GET /get_weights?date=2019-02-25 HTTP/1.1\" 200 -\n"
     ]
    },
    {
     "name": "stdout",
     "output_type": "stream",
     "text": [
      "1\n",
      "2019-02-25\n",
      "[-0.11150149255990982, 0.45140546560287476, 0.10870467871427536, 0.4448562264442444, 0.106534942984581]\n"
     ]
    },
    {
     "name": "stderr",
     "output_type": "stream",
     "text": [
      "127.0.0.1 - - [31/Mar/2024 22:11:01] \"GET /get_weights?date=2019-03-04 HTTP/1.1\" 200 -\n"
     ]
    },
    {
     "name": "stdout",
     "output_type": "stream",
     "text": [
      "1\n",
      "2019-03-04\n",
      "[-0.041800037026405334, 0.338468998670578, 0.18020272254943848, 0.3573647737503052, 0.16576330363750458]\n"
     ]
    },
    {
     "name": "stderr",
     "output_type": "stream",
     "text": [
      "127.0.0.1 - - [31/Mar/2024 22:11:03] \"GET /get_weights?date=2019-03-11 HTTP/1.1\" 200 -\n"
     ]
    },
    {
     "name": "stdout",
     "output_type": "stream",
     "text": [
      "1\n",
      "2019-03-11\n",
      "[0.038849879056215286, 0.43528518080711365, -0.0010540460934862494, 0.32417380809783936, 0.20274505019187927]\n"
     ]
    },
    {
     "name": "stderr",
     "output_type": "stream",
     "text": [
      "127.0.0.1 - - [31/Mar/2024 22:11:06] \"GET /get_weights?date=2019-03-18 HTTP/1.1\" 200 -\n"
     ]
    },
    {
     "name": "stdout",
     "output_type": "stream",
     "text": [
      "1\n",
      "2019-03-18\n",
      "[-0.3163754343986511, 0.47064095735549927, 0.11189054697751999, 0.531155526638031, 0.20268835127353668]\n"
     ]
    },
    {
     "name": "stderr",
     "output_type": "stream",
     "text": [
      "127.0.0.1 - - [31/Mar/2024 22:11:08] \"GET /get_weights?date=2019-03-25 HTTP/1.1\" 200 -\n"
     ]
    },
    {
     "name": "stdout",
     "output_type": "stream",
     "text": [
      "1\n",
      "2019-03-25\n",
      "[-0.13891786336898804, 0.5044074654579163, -0.0427393913269043, 0.5384055972099304, 0.13884420692920685]\n"
     ]
    },
    {
     "name": "stderr",
     "output_type": "stream",
     "text": [
      "127.0.0.1 - - [31/Mar/2024 22:11:10] \"GET /get_weights?date=2019-04-01 HTTP/1.1\" 200 -\n"
     ]
    },
    {
     "name": "stdout",
     "output_type": "stream",
     "text": [
      "1\n",
      "2019-04-01\n",
      "[-0.15728259086608887, 0.45203325152397156, 0.16068589687347412, 0.5116127133369446, 0.032950710505247116]\n"
     ]
    },
    {
     "name": "stderr",
     "output_type": "stream",
     "text": [
      "127.0.0.1 - - [31/Mar/2024 22:11:12] \"GET /get_weights?date=2019-04-08 HTTP/1.1\" 200 -\n"
     ]
    },
    {
     "name": "stdout",
     "output_type": "stream",
     "text": [
      "1\n",
      "2019-04-08\n",
      "[-0.06721429526805878, 0.3943943977355957, 0.0032423618249595165, 0.5224112272262573, 0.14716629683971405]\n"
     ]
    },
    {
     "name": "stderr",
     "output_type": "stream",
     "text": [
      "127.0.0.1 - - [31/Mar/2024 22:11:14] \"GET /get_weights?date=2019-04-15 HTTP/1.1\" 200 -\n"
     ]
    },
    {
     "name": "stdout",
     "output_type": "stream",
     "text": [
      "1\n",
      "2019-04-15\n",
      "[0.05478893965482712, 0.4924675524234772, -0.1934802234172821, 0.5114465355873108, 0.1347772181034088]\n"
     ]
    },
    {
     "name": "stderr",
     "output_type": "stream",
     "text": [
      "127.0.0.1 - - [31/Mar/2024 22:11:17] \"GET /get_weights?date=2019-04-22 HTTP/1.1\" 200 -\n"
     ]
    },
    {
     "name": "stdout",
     "output_type": "stream",
     "text": [
      "1\n",
      "2019-04-22\n",
      "[0.027766229584813118, 0.23487450182437897, 0.0799216479063034, 0.4880128800868988, 0.16942474246025085]\n"
     ]
    },
    {
     "name": "stderr",
     "output_type": "stream",
     "text": [
      "127.0.0.1 - - [31/Mar/2024 22:11:19] \"GET /get_weights?date=2019-04-29 HTTP/1.1\" 200 -\n"
     ]
    },
    {
     "name": "stdout",
     "output_type": "stream",
     "text": [
      "1\n",
      "2019-04-29\n",
      "[-0.11370012909173965, 0.33469176292419434, -0.039223797619342804, 0.7162702083587646, 0.1019619032740593]\n"
     ]
    },
    {
     "name": "stderr",
     "output_type": "stream",
     "text": [
      "127.0.0.1 - - [31/Mar/2024 22:11:21] \"GET /get_weights?date=2019-05-06 HTTP/1.1\" 200 -\n"
     ]
    },
    {
     "name": "stdout",
     "output_type": "stream",
     "text": [
      "1\n",
      "2019-05-06\n",
      "[0.04082835465669632, 0.3363308608531952, -0.00941616389900446, 0.5613396167755127, 0.0709172859787941]\n"
     ]
    },
    {
     "name": "stderr",
     "output_type": "stream",
     "text": [
      "127.0.0.1 - - [31/Mar/2024 22:11:23] \"GET /get_weights?date=2019-05-13 HTTP/1.1\" 200 -\n"
     ]
    },
    {
     "name": "stdout",
     "output_type": "stream",
     "text": [
      "1\n",
      "2019-05-13\n",
      "[-0.11450088769197464, 0.42391976714134216, 0.08182719349861145, 0.5327605605125427, 0.07599327713251114]\n"
     ]
    },
    {
     "name": "stderr",
     "output_type": "stream",
     "text": [
      "127.0.0.1 - - [31/Mar/2024 22:11:25] \"GET /get_weights?date=2019-05-20 HTTP/1.1\" 200 -\n"
     ]
    },
    {
     "name": "stdout",
     "output_type": "stream",
     "text": [
      "1\n",
      "2019-05-20\n",
      "[-0.09590267390012741, 0.46618467569351196, -0.014995300211012363, 0.6297757625579834, 0.014937478117644787]\n"
     ]
    },
    {
     "name": "stderr",
     "output_type": "stream",
     "text": [
      "127.0.0.1 - - [31/Mar/2024 22:11:28] \"GET /get_weights?date=2019-05-28 HTTP/1.1\" 200 -\n"
     ]
    },
    {
     "name": "stdout",
     "output_type": "stream",
     "text": [
      "1\n",
      "2019-05-28\n",
      "[0.1187395304441452, 0.44082388281822205, -0.048469848930835724, 0.5059558749198914, -0.017049498856067657]\n"
     ]
    },
    {
     "name": "stderr",
     "output_type": "stream",
     "text": [
      "127.0.0.1 - - [31/Mar/2024 22:11:30] \"GET /get_weights?date=2019-06-03 HTTP/1.1\" 200 -\n"
     ]
    },
    {
     "name": "stdout",
     "output_type": "stream",
     "text": [
      "1\n",
      "2019-06-03\n",
      "[0.07290583103895187, 0.3936972916126251, -0.022608831524848938, 0.4849551022052765, 0.07105053961277008]\n"
     ]
    },
    {
     "name": "stderr",
     "output_type": "stream",
     "text": [
      "127.0.0.1 - - [31/Mar/2024 22:11:32] \"GET /get_weights?date=2019-06-10 HTTP/1.1\" 200 -\n"
     ]
    },
    {
     "name": "stdout",
     "output_type": "stream",
     "text": [
      "1\n",
      "2019-06-10\n",
      "[0.12778422236442566, 0.225133016705513, 0.032691650092601776, 0.5591627955436707, 0.055228229612112045]\n"
     ]
    },
    {
     "name": "stderr",
     "output_type": "stream",
     "text": [
      "127.0.0.1 - - [31/Mar/2024 22:11:35] \"GET /get_weights?date=2019-06-17 HTTP/1.1\" 200 -\n"
     ]
    },
    {
     "name": "stdout",
     "output_type": "stream",
     "text": [
      "1\n",
      "2019-06-17\n",
      "[0.1358235478401184, 0.2706947326660156, 0.07762140780687332, 0.45500797033309937, 0.06085231155157089]\n"
     ]
    },
    {
     "name": "stderr",
     "output_type": "stream",
     "text": [
      "127.0.0.1 - - [31/Mar/2024 22:11:37] \"GET /get_weights?date=2019-06-24 HTTP/1.1\" 200 -\n"
     ]
    },
    {
     "name": "stdout",
     "output_type": "stream",
     "text": [
      "1\n",
      "2019-06-24\n",
      "[-0.12128403782844543, 0.3932246267795563, 0.19287921488285065, 0.42625749111175537, 0.10892259329557419]\n"
     ]
    },
    {
     "name": "stderr",
     "output_type": "stream",
     "text": [
      "127.0.0.1 - - [31/Mar/2024 22:11:39] \"GET /get_weights?date=2019-07-01 HTTP/1.1\" 200 -\n"
     ]
    },
    {
     "name": "stdout",
     "output_type": "stream",
     "text": [
      "1\n",
      "2019-07-01\n",
      "[-0.0804610624909401, 0.3105431795120239, 0.013305259868502617, 0.5540664196014404, 0.2025461345911026]\n"
     ]
    },
    {
     "name": "stderr",
     "output_type": "stream",
     "text": [
      "127.0.0.1 - - [31/Mar/2024 22:11:42] \"GET /get_weights?date=2019-07-08 HTTP/1.1\" 200 -\n"
     ]
    },
    {
     "name": "stdout",
     "output_type": "stream",
     "text": [
      "1\n",
      "2019-07-08\n",
      "[0.0014878090005367994, 0.6104939579963684, -0.33482223749160767, 0.5792819261550903, 0.14355839788913727]\n"
     ]
    },
    {
     "name": "stderr",
     "output_type": "stream",
     "text": [
      "127.0.0.1 - - [31/Mar/2024 22:11:44] \"GET /get_weights?date=2019-07-15 HTTP/1.1\" 200 -\n"
     ]
    },
    {
     "name": "stdout",
     "output_type": "stream",
     "text": [
      "1\n",
      "2019-07-15\n",
      "[-0.0774460956454277, 0.4065712094306946, 0.06562331318855286, 0.4709513187408447, 0.13430018723011017]\n"
     ]
    },
    {
     "name": "stderr",
     "output_type": "stream",
     "text": [
      "127.0.0.1 - - [31/Mar/2024 22:11:46] \"GET /get_weights?date=2019-07-22 HTTP/1.1\" 200 -\n"
     ]
    },
    {
     "name": "stdout",
     "output_type": "stream",
     "text": [
      "1\n",
      "2019-07-22\n",
      "[0.11462980508804321, 0.32771626114845276, -0.15712745487689972, 0.6131533980369568, 0.10162787139415741]\n"
     ]
    },
    {
     "name": "stderr",
     "output_type": "stream",
     "text": [
      "127.0.0.1 - - [31/Mar/2024 22:11:48] \"GET /get_weights?date=2019-07-29 HTTP/1.1\" 200 -\n"
     ]
    },
    {
     "name": "stdout",
     "output_type": "stream",
     "text": [
      "1\n",
      "2019-07-29\n",
      "[0.016567401587963104, 0.39510974287986755, 0.12295632064342499, 0.28749457001686096, 0.17787189781665802]\n"
     ]
    },
    {
     "name": "stderr",
     "output_type": "stream",
     "text": [
      "127.0.0.1 - - [31/Mar/2024 22:11:51] \"GET /get_weights?date=2019-08-05 HTTP/1.1\" 200 -\n"
     ]
    },
    {
     "name": "stdout",
     "output_type": "stream",
     "text": [
      "1\n",
      "2019-08-05\n",
      "[-0.0608084499835968, 0.379412978887558, 0.3251573443412781, 0.5041525959968567, -0.1479145884513855]\n"
     ]
    },
    {
     "name": "stderr",
     "output_type": "stream",
     "text": [
      "127.0.0.1 - - [31/Mar/2024 22:11:53] \"GET /get_weights?date=2019-08-12 HTTP/1.1\" 200 -\n"
     ]
    },
    {
     "name": "stdout",
     "output_type": "stream",
     "text": [
      "1\n",
      "2019-08-12\n",
      "[0.04731367900967598, 0.2646288275718689, 0.2273484617471695, 0.38683146238327026, 0.07387746125459671]\n"
     ]
    },
    {
     "name": "stderr",
     "output_type": "stream",
     "text": [
      "127.0.0.1 - - [31/Mar/2024 22:11:55] \"GET /get_weights?date=2019-08-19 HTTP/1.1\" 200 -\n"
     ]
    },
    {
     "name": "stdout",
     "output_type": "stream",
     "text": [
      "1\n",
      "2019-08-19\n",
      "[0.09744922071695328, 0.0685001090168953, -0.028636950999498367, 0.6475546360015869, 0.21513274312019348]\n"
     ]
    },
    {
     "name": "stderr",
     "output_type": "stream",
     "text": [
      "127.0.0.1 - - [31/Mar/2024 22:11:57] \"GET /get_weights?date=2019-08-26 HTTP/1.1\" 200 -\n"
     ]
    },
    {
     "name": "stdout",
     "output_type": "stream",
     "text": [
      "1\n",
      "2019-08-26\n",
      "[0.14133548736572266, 0.16292040050029755, -0.049193281680345535, 0.5251234173774719, 0.2198137789964676]\n"
     ]
    },
    {
     "name": "stderr",
     "output_type": "stream",
     "text": [
      "127.0.0.1 - - [31/Mar/2024 22:11:59] \"GET /get_weights?date=2019-09-03 HTTP/1.1\" 200 -\n"
     ]
    },
    {
     "name": "stdout",
     "output_type": "stream",
     "text": [
      "1\n",
      "2019-09-03\n",
      "[0.0717862918972969, 0.2506629228591919, -0.005763088818639517, 0.5795780420303345, 0.10373575240373611]\n"
     ]
    },
    {
     "name": "stderr",
     "output_type": "stream",
     "text": [
      "127.0.0.1 - - [31/Mar/2024 22:12:02] \"GET /get_weights?date=2019-09-09 HTTP/1.1\" 200 -\n"
     ]
    },
    {
     "name": "stdout",
     "output_type": "stream",
     "text": [
      "1\n",
      "2019-09-09\n",
      "[-0.006780959665775299, 0.4035699665546417, 0.131956085562706, 0.6024011969566345, -0.13114656507968903]\n"
     ]
    },
    {
     "name": "stderr",
     "output_type": "stream",
     "text": [
      "127.0.0.1 - - [31/Mar/2024 22:12:04] \"GET /get_weights?date=2019-09-16 HTTP/1.1\" 200 -\n"
     ]
    },
    {
     "name": "stdout",
     "output_type": "stream",
     "text": [
      "1\n",
      "2019-09-16\n",
      "[-0.08866125345230103, 0.37939417362213135, 0.017212240025401115, 0.5446200966835022, 0.1474345177412033]\n"
     ]
    },
    {
     "name": "stderr",
     "output_type": "stream",
     "text": [
      "127.0.0.1 - - [31/Mar/2024 22:12:06] \"GET /get_weights?date=2019-09-23 HTTP/1.1\" 200 -\n"
     ]
    },
    {
     "name": "stdout",
     "output_type": "stream",
     "text": [
      "1\n",
      "2019-09-23\n",
      "[0.024724652990698814, 0.2470860779285431, 0.05139179155230522, 0.48343801498413086, 0.1933593600988388]\n"
     ]
    },
    {
     "name": "stderr",
     "output_type": "stream",
     "text": [
      "127.0.0.1 - - [31/Mar/2024 22:12:08] \"GET /get_weights?date=2019-09-30 HTTP/1.1\" 200 -\n"
     ]
    },
    {
     "name": "stdout",
     "output_type": "stream",
     "text": [
      "1\n",
      "2019-09-30\n",
      "[-0.1660393625497818, 0.5033661127090454, 0.07166213542222977, 0.5531700253486633, 0.03784111514687538]\n"
     ]
    },
    {
     "name": "stderr",
     "output_type": "stream",
     "text": [
      "127.0.0.1 - - [31/Mar/2024 22:12:11] \"GET /get_weights?date=2019-10-07 HTTP/1.1\" 200 -\n"
     ]
    },
    {
     "name": "stdout",
     "output_type": "stream",
     "text": [
      "1\n",
      "2019-10-07\n",
      "[0.047847963869571686, 0.18399938941001892, 0.18901202082633972, 0.5231618285179138, 0.05597856640815735]\n"
     ]
    },
    {
     "name": "stderr",
     "output_type": "stream",
     "text": [
      "127.0.0.1 - - [31/Mar/2024 22:12:13] \"GET /get_weights?date=2019-10-14 HTTP/1.1\" 200 -\n"
     ]
    },
    {
     "name": "stdout",
     "output_type": "stream",
     "text": [
      "1\n",
      "2019-10-14\n",
      "[-0.12051734328269958, 0.3690459728240967, 0.11341825127601624, 0.42930468916893005, 0.20874841511249542]\n"
     ]
    },
    {
     "name": "stderr",
     "output_type": "stream",
     "text": [
      "127.0.0.1 - - [31/Mar/2024 22:12:15] \"GET /get_weights?date=2019-10-21 HTTP/1.1\" 200 -\n"
     ]
    },
    {
     "name": "stdout",
     "output_type": "stream",
     "text": [
      "1\n",
      "2019-10-21\n",
      "[0.009383255615830421, 0.3592139184474945, 0.038061436265707016, 0.49445125460624695, 0.09888999909162521]\n"
     ]
    },
    {
     "name": "stderr",
     "output_type": "stream",
     "text": [
      "127.0.0.1 - - [31/Mar/2024 22:12:17] \"GET /get_weights?date=2019-10-28 HTTP/1.1\" 200 -\n"
     ]
    },
    {
     "name": "stdout",
     "output_type": "stream",
     "text": [
      "1\n",
      "2019-10-28\n",
      "[0.07723850011825562, 0.3905777335166931, 0.20887009799480438, 0.19461746513843536, 0.12869615852832794]\n"
     ]
    },
    {
     "name": "stderr",
     "output_type": "stream",
     "text": [
      "127.0.0.1 - - [31/Mar/2024 22:12:19] \"GET /get_weights?date=2019-11-04 HTTP/1.1\" 200 -\n"
     ]
    },
    {
     "name": "stdout",
     "output_type": "stream",
     "text": [
      "1\n",
      "2019-11-04\n",
      "[-0.006699121557176113, 0.28957414627075195, 0.07663300633430481, 0.4798101484775543, 0.16068178415298462]\n"
     ]
    },
    {
     "name": "stderr",
     "output_type": "stream",
     "text": [
      "127.0.0.1 - - [31/Mar/2024 22:12:22] \"GET /get_weights?date=2019-11-11 HTTP/1.1\" 200 -\n"
     ]
    },
    {
     "name": "stdout",
     "output_type": "stream",
     "text": [
      "1\n",
      "2019-11-11\n",
      "[-0.0560845211148262, 0.4640827476978302, 0.0444447286427021, 0.4121755063533783, 0.1353815346956253]\n"
     ]
    },
    {
     "name": "stderr",
     "output_type": "stream",
     "text": [
      "127.0.0.1 - - [31/Mar/2024 22:12:24] \"GET /get_weights?date=2019-11-18 HTTP/1.1\" 200 -\n"
     ]
    },
    {
     "name": "stdout",
     "output_type": "stream",
     "text": [
      "1\n",
      "2019-11-18\n",
      "[-0.005660669412463903, 0.33881959319114685, 0.2155221551656723, 0.47254863381385803, -0.02122972533106804]\n"
     ]
    },
    {
     "name": "stderr",
     "output_type": "stream",
     "text": [
      "127.0.0.1 - - [31/Mar/2024 22:12:26] \"GET /get_weights?date=2019-11-25 HTTP/1.1\" 200 -\n"
     ]
    },
    {
     "name": "stdout",
     "output_type": "stream",
     "text": [
      "1\n",
      "2019-11-25\n",
      "[0.028425097465515137, 0.3031621277332306, 0.12152180820703506, 0.45741501450538635, 0.08947592973709106]\n"
     ]
    },
    {
     "name": "stderr",
     "output_type": "stream",
     "text": [
      "127.0.0.1 - - [31/Mar/2024 22:12:28] \"GET /get_weights?date=2019-12-02 HTTP/1.1\" 200 -\n"
     ]
    },
    {
     "name": "stdout",
     "output_type": "stream",
     "text": [
      "1\n",
      "2019-12-02\n",
      "[-0.036691948771476746, 0.3644900321960449, 0.05744403600692749, 0.534585177898407, 0.08017264306545258]\n"
     ]
    },
    {
     "name": "stderr",
     "output_type": "stream",
     "text": [
      "127.0.0.1 - - [31/Mar/2024 22:12:30] \"GET /get_weights?date=2019-12-09 HTTP/1.1\" 200 -\n"
     ]
    },
    {
     "name": "stdout",
     "output_type": "stream",
     "text": [
      "1\n",
      "2019-12-09\n",
      "[-0.15774257481098175, 0.2976823151111603, 0.15897490084171295, 0.6241637468338013, 0.07692154496908188]\n"
     ]
    },
    {
     "name": "stderr",
     "output_type": "stream",
     "text": [
      "127.0.0.1 - - [31/Mar/2024 22:12:33] \"GET /get_weights?date=2019-12-16 HTTP/1.1\" 200 -\n"
     ]
    },
    {
     "name": "stdout",
     "output_type": "stream",
     "text": [
      "2\n",
      "2019-12-16\n",
      "[-0.151312917470932, 0.48693612217903137, -0.11325328797101974, 0.6627062559127808, 0.11492381989955902]\n"
     ]
    },
    {
     "name": "stderr",
     "output_type": "stream",
     "text": [
      "127.0.0.1 - - [31/Mar/2024 22:12:35] \"GET /get_weights?date=2019-12-23 HTTP/1.1\" 200 -\n"
     ]
    },
    {
     "name": "stdout",
     "output_type": "stream",
     "text": [
      "2\n",
      "2019-12-23\n",
      "[-0.16087977588176727, 0.42071759700775146, -0.10934484004974365, 0.6507934927940369, 0.1987135410308838]\n"
     ]
    },
    {
     "name": "stderr",
     "output_type": "stream",
     "text": [
      "127.0.0.1 - - [31/Mar/2024 22:12:37] \"GET /get_weights?date=2019-12-30 HTTP/1.1\" 200 -\n"
     ]
    },
    {
     "name": "stdout",
     "output_type": "stream",
     "text": [
      "2\n",
      "2019-12-30\n",
      "[0.030130660161376, 0.35694587230682373, 0.278877854347229, 0.22904935479164124, 0.10499610751867294]\n"
     ]
    },
    {
     "name": "stderr",
     "output_type": "stream",
     "text": [
      "127.0.0.1 - - [31/Mar/2024 22:12:39] \"GET /get_weights?date=2020-01-06 HTTP/1.1\" 200 -\n"
     ]
    },
    {
     "name": "stdout",
     "output_type": "stream",
     "text": [
      "2\n",
      "2020-01-06\n",
      "[-0.29563623666763306, 0.666255533695221, 0.2818540334701538, 0.21732908487319946, 0.13019761443138123]\n"
     ]
    },
    {
     "name": "stderr",
     "output_type": "stream",
     "text": [
      "127.0.0.1 - - [31/Mar/2024 22:12:42] \"GET /get_weights?date=2020-01-13 HTTP/1.1\" 200 -\n"
     ]
    },
    {
     "name": "stdout",
     "output_type": "stream",
     "text": [
      "2\n",
      "2020-01-13\n",
      "[-0.3237578868865967, 0.6942596435546875, -0.017492426559329033, 0.7454743981361389, -0.09848372638225555]\n"
     ]
    },
    {
     "name": "stderr",
     "output_type": "stream",
     "text": [
      "127.0.0.1 - - [31/Mar/2024 22:12:44] \"GET /get_weights?date=2020-01-21 HTTP/1.1\" 200 -\n"
     ]
    },
    {
     "name": "stdout",
     "output_type": "stream",
     "text": [
      "2\n",
      "2020-01-21\n",
      "[0.2161226123571396, 0.18262533843517303, -0.1273217350244522, 0.6861077547073364, 0.042466022074222565]\n"
     ]
    },
    {
     "name": "stderr",
     "output_type": "stream",
     "text": [
      "127.0.0.1 - - [31/Mar/2024 22:12:46] \"GET /get_weights?date=2020-01-27 HTTP/1.1\" 200 -\n"
     ]
    },
    {
     "name": "stdout",
     "output_type": "stream",
     "text": [
      "2\n",
      "2020-01-27\n",
      "[0.04766707122325897, 0.2383437305688858, 0.23892706632614136, 0.659353494644165, -0.18429133296012878]\n"
     ]
    },
    {
     "name": "stderr",
     "output_type": "stream",
     "text": [
      "127.0.0.1 - - [31/Mar/2024 22:12:48] \"GET /get_weights?date=2020-02-03 HTTP/1.1\" 200 -\n"
     ]
    },
    {
     "name": "stdout",
     "output_type": "stream",
     "text": [
      "2\n",
      "2020-02-03\n",
      "[-0.027229204773902893, 0.3150879144668579, 0.020591875538229942, 0.5279420614242554, 0.16360734403133392]\n"
     ]
    },
    {
     "name": "stderr",
     "output_type": "stream",
     "text": [
      "127.0.0.1 - - [31/Mar/2024 22:12:51] \"GET /get_weights?date=2020-02-10 HTTP/1.1\" 200 -\n"
     ]
    },
    {
     "name": "stdout",
     "output_type": "stream",
     "text": [
      "2\n",
      "2020-02-10\n",
      "[-0.04340394586324692, 0.11901156604290009, 0.10043834894895554, 0.6420685648918152, 0.1818854957818985]\n"
     ]
    },
    {
     "name": "stderr",
     "output_type": "stream",
     "text": [
      "127.0.0.1 - - [31/Mar/2024 22:12:53] \"GET /get_weights?date=2020-02-18 HTTP/1.1\" 200 -\n"
     ]
    },
    {
     "name": "stdout",
     "output_type": "stream",
     "text": [
      "2\n",
      "2020-02-18\n",
      "[-0.2865387499332428, 0.4474929869174957, 0.055331747978925705, 0.7271504998207092, 0.05656351521611214]\n"
     ]
    },
    {
     "name": "stderr",
     "output_type": "stream",
     "text": [
      "127.0.0.1 - - [31/Mar/2024 22:12:55] \"GET /get_weights?date=2020-02-24 HTTP/1.1\" 200 -\n"
     ]
    },
    {
     "name": "stdout",
     "output_type": "stream",
     "text": [
      "2\n",
      "2020-02-24\n",
      "[0.15419545769691467, -0.07082762569189072, 0.31228312849998474, 0.5656436085700989, 0.03870541602373123]\n"
     ]
    },
    {
     "name": "stderr",
     "output_type": "stream",
     "text": [
      "127.0.0.1 - - [31/Mar/2024 22:12:57] \"GET /get_weights?date=2020-03-02 HTTP/1.1\" 200 -\n"
     ]
    },
    {
     "name": "stdout",
     "output_type": "stream",
     "text": [
      "2\n",
      "2020-03-02\n",
      "[-0.0035748600494116545, -0.11280272901058197, 0.1982712298631668, 0.9999911189079285, -0.08188479393720627]\n"
     ]
    },
    {
     "name": "stderr",
     "output_type": "stream",
     "text": [
      "127.0.0.1 - - [31/Mar/2024 22:12:59] \"GET /get_weights?date=2020-03-09 HTTP/1.1\" 200 -\n"
     ]
    },
    {
     "name": "stdout",
     "output_type": "stream",
     "text": [
      "2\n",
      "2020-03-09\n",
      "[-0.14237266778945923, 0.10601846873760223, 0.14120224118232727, 0.6372073292732239, 0.2579444646835327]\n"
     ]
    },
    {
     "name": "stderr",
     "output_type": "stream",
     "text": [
      "127.0.0.1 - - [31/Mar/2024 22:13:02] \"GET /get_weights?date=2020-03-16 HTTP/1.1\" 200 -\n"
     ]
    },
    {
     "name": "stdout",
     "output_type": "stream",
     "text": [
      "2\n",
      "2020-03-16\n",
      "[0.0070593408308923244, 0.13001976907253265, 0.10242396593093872, 0.5073865056037903, 0.2531103789806366]\n"
     ]
    },
    {
     "name": "stderr",
     "output_type": "stream",
     "text": [
      "127.0.0.1 - - [31/Mar/2024 22:13:04] \"GET /get_weights?date=2020-03-23 HTTP/1.1\" 200 -\n"
     ]
    },
    {
     "name": "stdout",
     "output_type": "stream",
     "text": [
      "2\n",
      "2020-03-23\n",
      "[0.1299244910478592, 0.18749457597732544, 0.14054931700229645, 0.3847010135650635, 0.15733057260513306]\n"
     ]
    },
    {
     "name": "stderr",
     "output_type": "stream",
     "text": [
      "127.0.0.1 - - [31/Mar/2024 22:13:06] \"GET /get_weights?date=2020-03-30 HTTP/1.1\" 200 -\n"
     ]
    },
    {
     "name": "stdout",
     "output_type": "stream",
     "text": [
      "2\n",
      "2020-03-30\n",
      "[0.023749683052301407, 0.25215810537338257, 0.21416780352592468, 0.2931586503982544, 0.21676571667194366]\n"
     ]
    },
    {
     "name": "stderr",
     "output_type": "stream",
     "text": [
      "127.0.0.1 - - [31/Mar/2024 22:13:08] \"GET /get_weights?date=2020-04-06 HTTP/1.1\" 200 -\n"
     ]
    },
    {
     "name": "stdout",
     "output_type": "stream",
     "text": [
      "2\n",
      "2020-04-06\n",
      "[0.16386039555072784, 0.11380789428949356, 0.13665784895420074, 0.34806278347969055, 0.23761102557182312]\n"
     ]
    },
    {
     "name": "stderr",
     "output_type": "stream",
     "text": [
      "127.0.0.1 - - [31/Mar/2024 22:13:10] \"GET /get_weights?date=2020-04-13 HTTP/1.1\" 200 -\n"
     ]
    },
    {
     "name": "stdout",
     "output_type": "stream",
     "text": [
      "2\n",
      "2020-04-13\n",
      "[0.09153950959444046, 0.21810996532440186, 0.23093469440937042, 0.366128146648407, 0.0932876393198967]\n"
     ]
    },
    {
     "name": "stderr",
     "output_type": "stream",
     "text": [
      "127.0.0.1 - - [31/Mar/2024 22:13:12] \"GET /get_weights?date=2020-04-20 HTTP/1.1\" 200 -\n"
     ]
    },
    {
     "name": "stdout",
     "output_type": "stream",
     "text": [
      "2\n",
      "2020-04-20\n",
      "[0.2029818594455719, 0.24787990748882294, 0.24945694208145142, 0.32261309027671814, -0.022931896150112152]\n"
     ]
    },
    {
     "name": "stderr",
     "output_type": "stream",
     "text": [
      "127.0.0.1 - - [31/Mar/2024 22:13:15] \"GET /get_weights?date=2020-04-27 HTTP/1.1\" 200 -\n"
     ]
    },
    {
     "name": "stdout",
     "output_type": "stream",
     "text": [
      "2\n",
      "2020-04-27\n",
      "[0.1466815322637558, 0.22583015263080597, 0.21790988743305206, 0.2522059381008148, 0.15737241506576538]\n"
     ]
    },
    {
     "name": "stderr",
     "output_type": "stream",
     "text": [
      "127.0.0.1 - - [31/Mar/2024 22:13:17] \"GET /get_weights?date=2020-05-04 HTTP/1.1\" 200 -\n"
     ]
    },
    {
     "name": "stdout",
     "output_type": "stream",
     "text": [
      "2\n",
      "2020-05-04\n",
      "[0.23087866604328156, 0.37429362535476685, 0.014717883430421352, 0.3791887164115906, 0.0009210443240590394]\n"
     ]
    },
    {
     "name": "stderr",
     "output_type": "stream",
     "text": [
      "127.0.0.1 - - [31/Mar/2024 22:13:19] \"GET /get_weights?date=2020-05-11 HTTP/1.1\" 200 -\n"
     ]
    },
    {
     "name": "stdout",
     "output_type": "stream",
     "text": [
      "2\n",
      "2020-05-11\n",
      "[0.20657046139240265, 0.2368927299976349, 0.08692260831594467, 0.384576678276062, 0.08503745496273041]\n"
     ]
    },
    {
     "name": "stderr",
     "output_type": "stream",
     "text": [
      "127.0.0.1 - - [31/Mar/2024 22:13:21] \"GET /get_weights?date=2020-05-18 HTTP/1.1\" 200 -\n"
     ]
    },
    {
     "name": "stdout",
     "output_type": "stream",
     "text": [
      "2\n",
      "2020-05-18\n",
      "[0.22974970936775208, 0.19012798368930817, 0.01935509406030178, 0.33664003014564514, 0.22412711381912231]\n"
     ]
    },
    {
     "name": "stderr",
     "output_type": "stream",
     "text": [
      "127.0.0.1 - - [31/Mar/2024 22:13:24] \"GET /get_weights?date=2020-05-26 HTTP/1.1\" 200 -\n"
     ]
    },
    {
     "name": "stdout",
     "output_type": "stream",
     "text": [
      "2\n",
      "2020-05-26\n",
      "[0.1779773235321045, 0.20293167233467102, 0.1511763334274292, 0.4091765284538269, 0.05873807892203331]\n"
     ]
    },
    {
     "name": "stderr",
     "output_type": "stream",
     "text": [
      "127.0.0.1 - - [31/Mar/2024 22:13:26] \"GET /get_weights?date=2020-06-01 HTTP/1.1\" 200 -\n"
     ]
    },
    {
     "name": "stdout",
     "output_type": "stream",
     "text": [
      "2\n",
      "2020-06-01\n",
      "[0.14486278593540192, 0.28254738450050354, 0.010676361620426178, 0.26128432154655457, 0.3006291091442108]\n"
     ]
    },
    {
     "name": "stderr",
     "output_type": "stream",
     "text": [
      "127.0.0.1 - - [31/Mar/2024 22:13:28] \"GET /get_weights?date=2020-06-08 HTTP/1.1\" 200 -\n"
     ]
    },
    {
     "name": "stdout",
     "output_type": "stream",
     "text": [
      "2\n",
      "2020-06-08\n",
      "[0.02070394530892372, 0.39676687121391296, 0.0878753736615181, 0.4061373770236969, 0.08851642906665802]\n"
     ]
    },
    {
     "name": "stderr",
     "output_type": "stream",
     "text": [
      "127.0.0.1 - - [31/Mar/2024 22:13:30] \"GET /get_weights?date=2020-06-15 HTTP/1.1\" 200 -\n"
     ]
    },
    {
     "name": "stdout",
     "output_type": "stream",
     "text": [
      "2\n",
      "2020-06-15\n",
      "[0.06654876470565796, 0.3885394036769867, -1.9753390006371774e-05, 0.44794410467147827, 0.09698714315891266]\n"
     ]
    },
    {
     "name": "stderr",
     "output_type": "stream",
     "text": [
      "127.0.0.1 - - [31/Mar/2024 22:13:32] \"GET /get_weights?date=2020-06-22 HTTP/1.1\" 200 -\n"
     ]
    },
    {
     "name": "stdout",
     "output_type": "stream",
     "text": [
      "2\n",
      "2020-06-22\n",
      "[-0.038150228559970856, 0.34367018938064575, 0.10999447852373123, 0.49242541193962097, 0.0920599028468132]\n"
     ]
    },
    {
     "name": "stderr",
     "output_type": "stream",
     "text": [
      "127.0.0.1 - - [31/Mar/2024 22:13:34] \"GET /get_weights?date=2020-06-29 HTTP/1.1\" 200 -\n"
     ]
    },
    {
     "name": "stdout",
     "output_type": "stream",
     "text": [
      "2\n",
      "2020-06-29\n",
      "[0.1708030104637146, 0.1626468300819397, -0.023615745827555656, 0.5435298085212708, 0.14663581550121307]\n"
     ]
    },
    {
     "name": "stderr",
     "output_type": "stream",
     "text": [
      "127.0.0.1 - - [31/Mar/2024 22:13:37] \"GET /get_weights?date=2020-07-06 HTTP/1.1\" 200 -\n"
     ]
    },
    {
     "name": "stdout",
     "output_type": "stream",
     "text": [
      "2\n",
      "2020-07-06\n",
      "[-0.26287609338760376, 0.4006650447845459, 0.06833682209253311, 0.4708099067211151, 0.32306423783302307]\n"
     ]
    },
    {
     "name": "stderr",
     "output_type": "stream",
     "text": [
      "127.0.0.1 - - [31/Mar/2024 22:13:39] \"GET /get_weights?date=2020-07-13 HTTP/1.1\" 200 -\n"
     ]
    },
    {
     "name": "stdout",
     "output_type": "stream",
     "text": [
      "2\n",
      "2020-07-13\n",
      "[-0.07410739362239838, 0.39360737800598145, 0.10880380123853683, 0.6827005743980408, -0.11100443452596664]\n"
     ]
    },
    {
     "name": "stderr",
     "output_type": "stream",
     "text": [
      "127.0.0.1 - - [31/Mar/2024 22:13:41] \"GET /get_weights?date=2020-07-20 HTTP/1.1\" 200 -\n"
     ]
    },
    {
     "name": "stdout",
     "output_type": "stream",
     "text": [
      "2\n",
      "2020-07-20\n",
      "[0.016168739646673203, 0.4534919559955597, -0.11635008454322815, 0.5370431542396545, 0.10964613407850266]\n"
     ]
    },
    {
     "name": "stderr",
     "output_type": "stream",
     "text": [
      "127.0.0.1 - - [31/Mar/2024 22:13:43] \"GET /get_weights?date=2020-07-27 HTTP/1.1\" 200 -\n"
     ]
    },
    {
     "name": "stdout",
     "output_type": "stream",
     "text": [
      "2\n",
      "2020-07-27\n",
      "[-0.16193780303001404, 0.17799176275730133, 0.26307401061058044, 0.577133297920227, 0.14373865723609924]\n"
     ]
    },
    {
     "name": "stderr",
     "output_type": "stream",
     "text": [
      "127.0.0.1 - - [31/Mar/2024 22:13:45] \"GET /get_weights?date=2020-08-03 HTTP/1.1\" 200 -\n"
     ]
    },
    {
     "name": "stdout",
     "output_type": "stream",
     "text": [
      "2\n",
      "2020-08-03\n",
      "[-0.11337359249591827, 0.5612383484840393, 0.09839124232530594, 0.6482887864112854, -0.19454483687877655]\n"
     ]
    },
    {
     "name": "stderr",
     "output_type": "stream",
     "text": [
      "127.0.0.1 - - [31/Mar/2024 22:13:48] \"GET /get_weights?date=2020-08-10 HTTP/1.1\" 200 -\n"
     ]
    },
    {
     "name": "stdout",
     "output_type": "stream",
     "text": [
      "2\n",
      "2020-08-10\n",
      "[-0.03652140498161316, 0.3730047941207886, -0.13672244548797607, 0.622856855392456, 0.17738217115402222]\n"
     ]
    },
    {
     "name": "stderr",
     "output_type": "stream",
     "text": [
      "127.0.0.1 - - [31/Mar/2024 22:13:50] \"GET /get_weights?date=2020-08-17 HTTP/1.1\" 200 -\n"
     ]
    },
    {
     "name": "stdout",
     "output_type": "stream",
     "text": [
      "2\n",
      "2020-08-17\n",
      "[0.005445840768516064, 0.5507497787475586, -0.03474519029259682, 0.4718109667301178, 0.006738596595823765]\n"
     ]
    },
    {
     "name": "stderr",
     "output_type": "stream",
     "text": [
      "127.0.0.1 - - [31/Mar/2024 22:13:52] \"GET /get_weights?date=2020-08-24 HTTP/1.1\" 200 -\n"
     ]
    },
    {
     "name": "stdout",
     "output_type": "stream",
     "text": [
      "2\n",
      "2020-08-24\n",
      "[-0.2963756322860718, 0.25058650970458984, 0.09574573487043381, 0.766240656375885, 0.18380272388458252]\n"
     ]
    },
    {
     "name": "stderr",
     "output_type": "stream",
     "text": [
      "127.0.0.1 - - [31/Mar/2024 22:13:54] \"GET /get_weights?date=2020-08-31 HTTP/1.1\" 200 -\n"
     ]
    },
    {
     "name": "stdout",
     "output_type": "stream",
     "text": [
      "2\n",
      "2020-08-31\n",
      "[-0.33560308814048767, 0.6341437101364136, 0.036313362419605255, 0.5355239510536194, 0.12962208688259125]\n"
     ]
    },
    {
     "name": "stderr",
     "output_type": "stream",
     "text": [
      "127.0.0.1 - - [31/Mar/2024 22:13:56] \"GET /get_weights?date=2020-09-08 HTTP/1.1\" 200 -\n"
     ]
    },
    {
     "name": "stdout",
     "output_type": "stream",
     "text": [
      "2\n",
      "2020-09-08\n",
      "[-0.008877815678715706, 0.27153781056404114, 0.07974479347467422, 0.7233331799507141, -0.0657380074262619]\n"
     ]
    },
    {
     "name": "stderr",
     "output_type": "stream",
     "text": [
      "127.0.0.1 - - [31/Mar/2024 22:13:58] \"GET /get_weights?date=2020-09-14 HTTP/1.1\" 200 -\n"
     ]
    },
    {
     "name": "stdout",
     "output_type": "stream",
     "text": [
      "2\n",
      "2020-09-14\n",
      "[-0.07056102156639099, 0.1644676923751831, 0.1167873814702034, 0.7852742075920105, 0.004031778778880835]\n"
     ]
    },
    {
     "name": "stderr",
     "output_type": "stream",
     "text": [
      "127.0.0.1 - - [31/Mar/2024 22:14:01] \"GET /get_weights?date=2020-09-21 HTTP/1.1\" 200 -\n"
     ]
    },
    {
     "name": "stdout",
     "output_type": "stream",
     "text": [
      "2\n",
      "2020-09-21\n",
      "[-0.10034659504890442, 0.31192493438720703, 0.07213853299617767, 0.7980499267578125, -0.08176683634519577]\n"
     ]
    },
    {
     "name": "stderr",
     "output_type": "stream",
     "text": [
      "127.0.0.1 - - [31/Mar/2024 22:14:03] \"GET /get_weights?date=2020-09-28 HTTP/1.1\" 200 -\n"
     ]
    },
    {
     "name": "stdout",
     "output_type": "stream",
     "text": [
      "2\n",
      "2020-09-28\n",
      "[-0.013681654818356037, 0.35091543197631836, -0.11426525563001633, 0.6571515798568726, 0.11987986415624619]\n"
     ]
    },
    {
     "name": "stderr",
     "output_type": "stream",
     "text": [
      "127.0.0.1 - - [31/Mar/2024 22:14:05] \"GET /get_weights?date=2020-10-05 HTTP/1.1\" 200 -\n"
     ]
    },
    {
     "name": "stdout",
     "output_type": "stream",
     "text": [
      "2\n",
      "2020-10-05\n",
      "[-0.0772494524717331, 0.273478627204895, 0.21668300032615662, 0.5205568075180054, 0.06653102487325668]\n"
     ]
    },
    {
     "name": "stderr",
     "output_type": "stream",
     "text": [
      "127.0.0.1 - - [31/Mar/2024 22:14:07] \"GET /get_weights?date=2020-10-12 HTTP/1.1\" 200 -\n"
     ]
    },
    {
     "name": "stdout",
     "output_type": "stream",
     "text": [
      "2\n",
      "2020-10-12\n",
      "[-0.25422999262809753, 0.3769344687461853, 0.1408924013376236, 0.6046508550643921, 0.13175223767757416]\n"
     ]
    },
    {
     "name": "stderr",
     "output_type": "stream",
     "text": [
      "127.0.0.1 - - [31/Mar/2024 22:14:10] \"GET /get_weights?date=2020-10-19 HTTP/1.1\" 200 -\n"
     ]
    },
    {
     "name": "stdout",
     "output_type": "stream",
     "text": [
      "2\n",
      "2020-10-19\n",
      "[0.28311997652053833, 0.20060190558433533, -0.09949292987585068, 0.6153523325920105, 0.00041869343840517104]\n"
     ]
    },
    {
     "name": "stderr",
     "output_type": "stream",
     "text": [
      "127.0.0.1 - - [31/Mar/2024 22:14:12] \"GET /get_weights?date=2020-10-26 HTTP/1.1\" 200 -\n"
     ]
    },
    {
     "name": "stdout",
     "output_type": "stream",
     "text": [
      "2\n",
      "2020-10-26\n",
      "[-0.11582757532596588, 0.24175874888896942, 0.0029399702325463295, 0.8124192357063293, 0.05870960280299187]\n"
     ]
    },
    {
     "name": "stderr",
     "output_type": "stream",
     "text": [
      "127.0.0.1 - - [31/Mar/2024 22:14:14] \"GET /get_weights?date=2020-11-02 HTTP/1.1\" 200 -\n"
     ]
    },
    {
     "name": "stdout",
     "output_type": "stream",
     "text": [
      "2\n",
      "2020-11-02\n",
      "[-0.27127909660339355, 0.3176736533641815, 0.17078319191932678, 0.8264249563217163, -0.04360272362828255]\n"
     ]
    },
    {
     "name": "stderr",
     "output_type": "stream",
     "text": [
      "127.0.0.1 - - [31/Mar/2024 22:14:16] \"GET /get_weights?date=2020-11-09 HTTP/1.1\" 200 -\n"
     ]
    },
    {
     "name": "stdout",
     "output_type": "stream",
     "text": [
      "2\n",
      "2020-11-09\n",
      "[-0.1125999316573143, 0.5031952261924744, -0.0381896011531353, 0.6161393523216248, 0.0314549021422863]\n"
     ]
    },
    {
     "name": "stderr",
     "output_type": "stream",
     "text": [
      "127.0.0.1 - - [31/Mar/2024 22:14:19] \"GET /get_weights?date=2020-11-16 HTTP/1.1\" 200 -\n"
     ]
    },
    {
     "name": "stdout",
     "output_type": "stream",
     "text": [
      "2\n",
      "2020-11-16\n",
      "[-0.022993184626102448, 0.4206432104110718, -0.12601634860038757, 0.7037045955657959, 0.024661732837557793]\n"
     ]
    },
    {
     "name": "stderr",
     "output_type": "stream",
     "text": [
      "127.0.0.1 - - [31/Mar/2024 22:14:21] \"GET /get_weights?date=2020-11-23 HTTP/1.1\" 200 -\n"
     ]
    },
    {
     "name": "stdout",
     "output_type": "stream",
     "text": [
      "2\n",
      "2020-11-23\n",
      "[-0.10326839238405228, 0.2554100453853607, 0.22970473766326904, 0.6918951272964478, -0.07374153286218643]\n"
     ]
    },
    {
     "name": "stderr",
     "output_type": "stream",
     "text": [
      "127.0.0.1 - - [31/Mar/2024 22:14:23] \"GET /get_weights?date=2020-11-30 HTTP/1.1\" 200 -\n"
     ]
    },
    {
     "name": "stdout",
     "output_type": "stream",
     "text": [
      "2\n",
      "2020-11-30\n",
      "[-0.0007185854483395815, 0.5572381615638733, 0.03398429602384567, 0.37107548117637634, 0.0384206585586071]\n"
     ]
    },
    {
     "name": "stderr",
     "output_type": "stream",
     "text": [
      "127.0.0.1 - - [31/Mar/2024 22:14:25] \"GET /get_weights?date=2020-12-07 HTTP/1.1\" 200 -\n"
     ]
    },
    {
     "name": "stdout",
     "output_type": "stream",
     "text": [
      "2\n",
      "2020-12-07\n",
      "[0.030368318781256676, 0.5447892546653748, -0.21662701666355133, 0.669141411781311, -0.027671990916132927]\n"
     ]
    },
    {
     "name": "stderr",
     "output_type": "stream",
     "text": [
      "127.0.0.1 - - [31/Mar/2024 22:14:28] \"GET /get_weights?date=2020-12-14 HTTP/1.1\" 200 -\n"
     ]
    },
    {
     "name": "stdout",
     "output_type": "stream",
     "text": [
      "2\n",
      "2020-12-14\n",
      "[0.049056682735681534, 0.11954949796199799, -0.01526643242686987, 0.6260889768600464, 0.22057124972343445]\n"
     ]
    }
   ],
   "source": [
    "app.run(port=5000)"
   ]
  },
  {
   "cell_type": "code",
   "execution_count": null,
   "id": "7a1839cc",
   "metadata": {},
   "outputs": [],
   "source": [
    "update the "
   ]
  },
  {
   "cell_type": "code",
   "execution_count": null,
   "id": "3894efcb",
   "metadata": {},
   "outputs": [],
   "source": []
  }
 ],
 "metadata": {
  "kernelspec": {
   "display_name": "Python 3 (ipykernel)",
   "language": "python",
   "name": "python3"
  },
  "language_info": {
   "codemirror_mode": {
    "name": "ipython",
    "version": 3
   },
   "file_extension": ".py",
   "mimetype": "text/x-python",
   "name": "python",
   "nbconvert_exporter": "python",
   "pygments_lexer": "ipython3",
   "version": "3.8.17"
  }
 },
 "nbformat": 4,
 "nbformat_minor": 5
}
