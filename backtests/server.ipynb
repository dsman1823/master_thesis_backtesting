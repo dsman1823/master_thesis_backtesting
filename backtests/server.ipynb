{
 "cells": [
  {
   "cell_type": "markdown",
   "id": "a388c7d0",
   "metadata": {},
   "source": [
    "# This notebook provides portfolio weights based on the historical data to the backtesting notebook"
   ]
  },
  {
   "cell_type": "code",
   "execution_count": 1,
   "id": "04a4ce3b",
   "metadata": {},
   "outputs": [],
   "source": [
    "# !pip uninstall deepdowmine\n",
    "#!pip install git+https://github.com/dsman1823/deepdowmine.git\n",
    "#!conda install pytorch torchvision torchaudio cudatoolkit=10.2 -c pytorch # <---- to Enable SVD "
   ]
  },
  {
   "cell_type": "code",
   "execution_count": 2,
   "id": "9b37e532",
   "metadata": {},
   "outputs": [],
   "source": [
    "import torch\n",
    "\n",
    "import pandas as pd\n",
    "import numpy as np\n",
    "\n",
    "from datetime import datetime \n",
    "from deepdowmine.nn import LinearNetMine\n"
   ]
  },
  {
   "cell_type": "code",
   "execution_count": 3,
   "id": "78fd3bba",
   "metadata": {},
   "outputs": [],
   "source": [
    "RETS_FILE_PATH = 'historical_returns.csv'\n",
    "\n",
    "\n",
    "\n",
    "loockback, gap, horizon = 50, 0, 5\n",
    "n_assets = 5\n"
   ]
  },
  {
   "cell_type": "markdown",
   "id": "6c88f90a",
   "metadata": {},
   "source": [
    "## Load NN from dict"
   ]
  },
  {
   "cell_type": "code",
   "execution_count": 4,
   "id": "36a91bae",
   "metadata": {},
   "outputs": [],
   "source": [
    "LINEAR_NET_OSHARPE_FILE_PATH = r'./NNs/linear_net_50x5_sharpe.pth' # LinearNetMine with ordinary Sharpe cost"
   ]
  },
  {
   "cell_type": "code",
   "execution_count": 5,
   "id": "7a634b07",
   "metadata": {},
   "outputs": [],
   "source": [
    "# years parameter reprsenets amount of years after the backtest stasrt: the model dowloaded is the the model trained \n",
    "# on the period (train_start, back_test_start + years) \n",
    "\n",
    "\n",
    "# LinearNetMine with ordinary sharpe cost function\n",
    "def load_linear_net_osharpe(years=0):\n",
    "    network = LinearNetMine(1, loockback, n_assets, p=0.5)\n",
    "    network.load_state_dict(torch.load(fr'./NNs/linear_net_50x5_sharpe_{years}.pth'))\n",
    "    print(fr'./NNs/linear_net_50x5_sharpe_{years}.pth')\n",
    "    return network.eval()\n",
    "    "
   ]
  },
  {
   "cell_type": "markdown",
   "id": "a0c6d5c7",
   "metadata": {},
   "source": [
    "## Core functions"
   ]
  },
  {
   "cell_type": "code",
   "execution_count": 6,
   "id": "9b0ed9ac",
   "metadata": {},
   "outputs": [],
   "source": [
    "def transform_rets_to_NN_input(rets):\n",
    "    # tranform (loockback, n_assets) df into (1, 1, loockback, n_assets)=(sample_size, n_channels, loockback, n_assets) tensor \n",
    "    returns_np = rets.to_numpy()\n",
    "\n",
    "    # Add the required dimensions: (n_samples, n_channels, lookback, n_assets)\n",
    "    returns_np_expanded = np.expand_dims(returns_np, axis=0)  # Adds n_samples dimension\n",
    "    returns_np_expanded = np.expand_dims(returns_np_expanded, axis=0)  \n",
    "    return torch.from_numpy(returns_np_expanded).float()\n",
    "\n",
    "def weights_from_NN(rets, network):\n",
    "    X = transform_rets_to_NN_input(rets)\n",
    "    return network(X).detach().numpy()[0]\n",
    "\n",
    "# method is a function, used for obtaining the returns\n",
    "def get_weights(method):\n",
    "    rets = pd.read_csv(RETS_FILE_PATH, index_col=0)\n",
    "    return method(rets)"
   ]
  },
  {
   "cell_type": "code",
   "execution_count": 7,
   "id": "c21a7d4f",
   "metadata": {},
   "outputs": [
    {
     "data": {
      "text/plain": [
       "array([ 0.0641624 ,  0.25815332, -0.01579298,  0.6089077 ,  0.08456962],\n",
       "      dtype=float32)"
      ]
     },
     "execution_count": 7,
     "metadata": {},
     "output_type": "execute_result"
    }
   ],
   "source": [
    "rets = pd.read_csv(RETS_FILE_PATH, index_col=0)\n",
    "X = transform_rets_to_NN_input(rets)\n",
    "network = LinearNetMine(1, loockback, n_assets, p=0.5)\n",
    "network.load_state_dict(torch.load(fr'./NNs/linear_net_50x5_sharpe_{2}.pth'))\n",
    "network.eval()(X).detach().numpy()[0]"
   ]
  },
  {
   "cell_type": "markdown",
   "id": "7d65c2c4",
   "metadata": {},
   "source": [
    "## NNs and related methods\n",
    "\n",
    "\n",
    "### NNs\n",
    "\n",
    "networks[i] method is trained on (train_start, backtest_start + i years) data interval"
   ]
  },
  {
   "cell_type": "code",
   "execution_count": 21,
   "id": "87ac6576",
   "metadata": {},
   "outputs": [
    {
     "name": "stdout",
     "output_type": "stream",
     "text": [
      "./NNs/linear_net_50x5_sharpe_0.pth\n",
      "./NNs/linear_net_50x5_sharpe_1.pth\n",
      "./NNs/linear_net_50x5_sharpe_2.pth\n"
     ]
    }
   ],
   "source": [
    "years = [0, 1, 2]#, 1, 2]\n",
    "\n",
    "linear_osharpe_networks = [load_linear_net_osharpe(years=i) for i in years]"
   ]
  },
  {
   "cell_type": "markdown",
   "id": "db5b112d",
   "metadata": {},
   "source": [
    "### methods"
   ]
  },
  {
   "cell_type": "code",
   "execution_count": 22,
   "id": "728b35c5",
   "metadata": {},
   "outputs": [
    {
     "data": {
      "text/plain": [
       "tensor([ 0.0128,  0.0384, -0.0396], grad_fn=<SliceBackward0>)"
      ]
     },
     "execution_count": 22,
     "metadata": {},
     "output_type": "execute_result"
    }
   ],
   "source": [
    "linear_osharpe_networks[1].linear0.bias[0:3]"
   ]
  },
  {
   "cell_type": "code",
   "execution_count": 23,
   "id": "35739537",
   "metadata": {},
   "outputs": [
    {
     "data": {
      "text/plain": [
       "tensor([ 0.0414, -0.0375,  0.0068], grad_fn=<SliceBackward0>)"
      ]
     },
     "execution_count": 23,
     "metadata": {},
     "output_type": "execute_result"
    }
   ],
   "source": [
    "linear_osharpe_networks[0].linear0.bias[0:3]"
   ]
  },
  {
   "cell_type": "code",
   "execution_count": 24,
   "id": "28670905",
   "metadata": {},
   "outputs": [],
   "source": [
    "# note the format of lambda \n",
    "linear_osharpe_methods = [lambda r, i=i: weights_from_NN(r, linear_osharpe_networks[i]) for i in years] "
   ]
  },
  {
   "cell_type": "code",
   "execution_count": 25,
   "id": "7045f79e",
   "metadata": {},
   "outputs": [
    {
     "data": {
      "text/plain": [
       "[array([ 0.15215465,  0.7110175 , -0.00163648,  0.19903716, -0.06057271],\n",
       "       dtype=float32),\n",
       " array([-0.03426138,  0.46759862, -0.14483896,  0.78433096, -0.07282931],\n",
       "       dtype=float32),\n",
       " array([ 0.0641624 ,  0.25815332, -0.01579298,  0.6089077 ,  0.08456962],\n",
       "       dtype=float32)]"
      ]
     },
     "execution_count": 25,
     "metadata": {},
     "output_type": "execute_result"
    }
   ],
   "source": [
    "[get_weights(linear_osharpe_methods[i]) for i in years]"
   ]
  },
  {
   "cell_type": "markdown",
   "id": "e7fae4ce",
   "metadata": {},
   "source": [
    "# Server"
   ]
  },
  {
   "cell_type": "code",
   "execution_count": 26,
   "id": "be630bfa",
   "metadata": {},
   "outputs": [],
   "source": [
    "from dateutil.relativedelta import relativedelta\n",
    "from datetime import datetime, date\n",
    "\n",
    "RETRAINING_DATE1 = date(2021, 12, 15)\n",
    "RETRAINING_DATE2 = date(2022, 12, 15)"
   ]
  },
  {
   "cell_type": "code",
   "execution_count": 27,
   "id": "62cc3389",
   "metadata": {},
   "outputs": [],
   "source": [
    "from flask import Flask, request, jsonify\n",
    "from flask_cors import CORS \n",
    "\n",
    "import numpy as np\n",
    "\n",
    "app = Flask(__name__)\n",
    "CORS(app)  # Enable CORS for your Flask app\n",
    "\n",
    "\n",
    "@app.route('/get_weights', methods=['GET'])\n",
    "def get_request():\n",
    "    # Extract date string from the query parameters\n",
    "    date_str = request.args.get('date', None)\n",
    "    \n",
    "    # Simple validation to check if date is provided\n",
    "    if not date_str:\n",
    "        return jsonify({\"error\": \"Missing date parameter\"}), 400\n",
    "\n",
    "    # Try to convert the date string to a datetime object\n",
    "    try:\n",
    "        # Note that now we're only parsing the date, not the time\n",
    "        date = datetime.strptime(date_str, \"%Y-%m-%d\").date()\n",
    "    except ValueError:\n",
    "        # If there is an error in parsing the date, return an error message\n",
    "        return jsonify({\"error\": \"Invalid date format. Please use YYYY-MM-DD format.\"}), 400\n",
    "    \n",
    "#     years_plus = 0\n",
    "#     if RETRAINING_DATE1 < date < RETRAINING_DATE2:\n",
    "#         years_plus = 1\n",
    "#         print(f'Working with model: {years_plus}')\n",
    "#     if RETRAINING_DATE2 < date:\n",
    "#         years_plus = 2\n",
    "#         print(f'Working with model: {years_plus}')\n",
    "    \n",
    "#     weights = get_weights(linear_osharpe_methods[years_plus]).tolist()\n",
    "    \n",
    "    rets = pd.read_csv(RETS_FILE_PATH, index_col=0)\n",
    "    X = transform_rets_to_NN_input(rets)\n",
    "    network = LinearNetMine(1, loockback, n_assets, p=0.5)\n",
    "    network.load_state_dict(torch.load(fr'./NNs/linear_net_50x5_sharpe_{0}.pth'))\n",
    "    \n",
    "    if date < RETRAINING_DATE1:\n",
    "        print(0)\n",
    "    if RETRAINING_DATE1 < date < RETRAINING_DATE2:\n",
    "        print('1')\n",
    "        network = LinearNetMine(1, loockback, n_assets, p=0.5)\n",
    "        network.load_state_dict(torch.load(fr'./NNs/linear_net_50x5_sharpe_{1}.pth'))\n",
    "    if RETRAINING_DATE2 < date:\n",
    "        network = LinearNetMine(1, loockback, n_assets, p=0.5)\n",
    "        network.load_state_dict(torch.load(fr'./NNs/linear_net_50x5_sharpe_{2}.pth'))\n",
    "        print('2')\n",
    "    \n",
    "    weights = network.eval()(X).detach().numpy()[0].tolist()\n",
    "    \n",
    "        \n",
    "    #weights = weights_from_NN(rets, linear_osharpe_networks[0]).tolist()\n",
    "    #print(weights)\n",
    "    # Return the vector as JSON, using the string representation of the date for simplicity\n",
    "    return jsonify({'weights': weights})\n"
   ]
  },
  {
   "cell_type": "code",
   "execution_count": 28,
   "id": "1f7714c0",
   "metadata": {},
   "outputs": [
    {
     "data": {
      "text/plain": [
       "[0.15215465426445007,\n",
       " 0.7110174894332886,\n",
       " -0.0016364834737032652,\n",
       " 0.19903716444969177,\n",
       " -0.06057270988821983]"
      ]
     },
     "execution_count": 28,
     "metadata": {},
     "output_type": "execute_result"
    }
   ],
   "source": [
    "rets = pd.read_csv(RETS_FILE_PATH, index_col=0)\n",
    "X = transform_rets_to_NN_input(rets)\n",
    "network = LinearNetMine(1, loockback, n_assets, p=0.5)\n",
    "network.load_state_dict(torch.load(fr'./NNs/linear_net_50x5_sharpe_{0}.pth'))\n",
    "weights = network.eval()(X).detach().numpy()[0].tolist()\n",
    "weights"
   ]
  },
  {
   "cell_type": "code",
   "execution_count": null,
   "id": "ed150707",
   "metadata": {},
   "outputs": [
    {
     "name": "stdout",
     "output_type": "stream",
     "text": [
      " * Serving Flask app '__main__'\n",
      " * Debug mode: off\n"
     ]
    },
    {
     "name": "stderr",
     "output_type": "stream",
     "text": [
      "WARNING: This is a development server. Do not use it in a production deployment. Use a production WSGI server instead.\n",
      " * Running on http://127.0.0.1:5000\n",
      "Press CTRL+C to quit\n",
      "127.0.0.1 - - [06/Mar/2024 23:54:03] \"GET /get_weights?date=2020-12-21 HTTP/1.1\" 200 -\n"
     ]
    },
    {
     "name": "stdout",
     "output_type": "stream",
     "text": [
      "0\n"
     ]
    },
    {
     "name": "stderr",
     "output_type": "stream",
     "text": [
      "127.0.0.1 - - [06/Mar/2024 23:54:05] \"GET /get_weights?date=2020-12-28 HTTP/1.1\" 200 -\n"
     ]
    },
    {
     "name": "stdout",
     "output_type": "stream",
     "text": [
      "0\n"
     ]
    },
    {
     "name": "stderr",
     "output_type": "stream",
     "text": [
      "127.0.0.1 - - [06/Mar/2024 23:54:07] \"GET /get_weights?date=2021-01-04 HTTP/1.1\" 200 -\n"
     ]
    },
    {
     "name": "stdout",
     "output_type": "stream",
     "text": [
      "0\n"
     ]
    },
    {
     "name": "stderr",
     "output_type": "stream",
     "text": [
      "127.0.0.1 - - [06/Mar/2024 23:54:09] \"GET /get_weights?date=2021-01-11 HTTP/1.1\" 200 -\n"
     ]
    },
    {
     "name": "stdout",
     "output_type": "stream",
     "text": [
      "0\n"
     ]
    },
    {
     "name": "stderr",
     "output_type": "stream",
     "text": [
      "127.0.0.1 - - [06/Mar/2024 23:54:12] \"GET /get_weights?date=2021-01-19 HTTP/1.1\" 200 -\n"
     ]
    },
    {
     "name": "stdout",
     "output_type": "stream",
     "text": [
      "0\n"
     ]
    },
    {
     "name": "stderr",
     "output_type": "stream",
     "text": [
      "127.0.0.1 - - [06/Mar/2024 23:54:14] \"GET /get_weights?date=2021-01-25 HTTP/1.1\" 200 -\n"
     ]
    },
    {
     "name": "stdout",
     "output_type": "stream",
     "text": [
      "0\n"
     ]
    },
    {
     "name": "stderr",
     "output_type": "stream",
     "text": [
      "127.0.0.1 - - [06/Mar/2024 23:54:16] \"GET /get_weights?date=2021-02-01 HTTP/1.1\" 200 -\n"
     ]
    },
    {
     "name": "stdout",
     "output_type": "stream",
     "text": [
      "0\n"
     ]
    },
    {
     "name": "stderr",
     "output_type": "stream",
     "text": [
      "127.0.0.1 - - [06/Mar/2024 23:54:18] \"GET /get_weights?date=2021-02-08 HTTP/1.1\" 200 -\n"
     ]
    },
    {
     "name": "stdout",
     "output_type": "stream",
     "text": [
      "0\n"
     ]
    },
    {
     "name": "stderr",
     "output_type": "stream",
     "text": [
      "127.0.0.1 - - [06/Mar/2024 23:54:20] \"GET /get_weights?date=2021-02-16 HTTP/1.1\" 200 -\n"
     ]
    },
    {
     "name": "stdout",
     "output_type": "stream",
     "text": [
      "0\n"
     ]
    },
    {
     "name": "stderr",
     "output_type": "stream",
     "text": [
      "127.0.0.1 - - [06/Mar/2024 23:54:23] \"GET /get_weights?date=2021-02-22 HTTP/1.1\" 200 -\n"
     ]
    },
    {
     "name": "stdout",
     "output_type": "stream",
     "text": [
      "0\n"
     ]
    },
    {
     "name": "stderr",
     "output_type": "stream",
     "text": [
      "127.0.0.1 - - [06/Mar/2024 23:54:25] \"GET /get_weights?date=2021-03-01 HTTP/1.1\" 200 -\n"
     ]
    },
    {
     "name": "stdout",
     "output_type": "stream",
     "text": [
      "0\n"
     ]
    },
    {
     "name": "stderr",
     "output_type": "stream",
     "text": [
      "127.0.0.1 - - [06/Mar/2024 23:54:27] \"GET /get_weights?date=2021-03-08 HTTP/1.1\" 200 -\n"
     ]
    },
    {
     "name": "stdout",
     "output_type": "stream",
     "text": [
      "0\n"
     ]
    },
    {
     "name": "stderr",
     "output_type": "stream",
     "text": [
      "127.0.0.1 - - [06/Mar/2024 23:54:29] \"GET /get_weights?date=2021-03-15 HTTP/1.1\" 200 -\n"
     ]
    },
    {
     "name": "stdout",
     "output_type": "stream",
     "text": [
      "0\n"
     ]
    },
    {
     "name": "stderr",
     "output_type": "stream",
     "text": [
      "127.0.0.1 - - [06/Mar/2024 23:54:31] \"GET /get_weights?date=2021-03-22 HTTP/1.1\" 200 -\n"
     ]
    },
    {
     "name": "stdout",
     "output_type": "stream",
     "text": [
      "0\n"
     ]
    },
    {
     "name": "stderr",
     "output_type": "stream",
     "text": [
      "127.0.0.1 - - [06/Mar/2024 23:54:34] \"GET /get_weights?date=2021-03-29 HTTP/1.1\" 200 -\n"
     ]
    },
    {
     "name": "stdout",
     "output_type": "stream",
     "text": [
      "0\n"
     ]
    },
    {
     "name": "stderr",
     "output_type": "stream",
     "text": [
      "127.0.0.1 - - [06/Mar/2024 23:54:36] \"GET /get_weights?date=2021-04-05 HTTP/1.1\" 200 -\n"
     ]
    },
    {
     "name": "stdout",
     "output_type": "stream",
     "text": [
      "0\n"
     ]
    },
    {
     "name": "stderr",
     "output_type": "stream",
     "text": [
      "127.0.0.1 - - [06/Mar/2024 23:54:38] \"GET /get_weights?date=2021-04-12 HTTP/1.1\" 200 -\n"
     ]
    },
    {
     "name": "stdout",
     "output_type": "stream",
     "text": [
      "0\n"
     ]
    },
    {
     "name": "stderr",
     "output_type": "stream",
     "text": [
      "127.0.0.1 - - [06/Mar/2024 23:54:40] \"GET /get_weights?date=2021-04-19 HTTP/1.1\" 200 -\n"
     ]
    },
    {
     "name": "stdout",
     "output_type": "stream",
     "text": [
      "0\n"
     ]
    },
    {
     "name": "stderr",
     "output_type": "stream",
     "text": [
      "127.0.0.1 - - [06/Mar/2024 23:54:42] \"GET /get_weights?date=2021-04-26 HTTP/1.1\" 200 -\n"
     ]
    },
    {
     "name": "stdout",
     "output_type": "stream",
     "text": [
      "0\n"
     ]
    },
    {
     "name": "stderr",
     "output_type": "stream",
     "text": [
      "127.0.0.1 - - [06/Mar/2024 23:54:45] \"GET /get_weights?date=2021-05-03 HTTP/1.1\" 200 -\n"
     ]
    },
    {
     "name": "stdout",
     "output_type": "stream",
     "text": [
      "0\n"
     ]
    },
    {
     "name": "stderr",
     "output_type": "stream",
     "text": [
      "127.0.0.1 - - [06/Mar/2024 23:54:47] \"GET /get_weights?date=2021-05-10 HTTP/1.1\" 200 -\n"
     ]
    },
    {
     "name": "stdout",
     "output_type": "stream",
     "text": [
      "0\n"
     ]
    },
    {
     "name": "stderr",
     "output_type": "stream",
     "text": [
      "127.0.0.1 - - [06/Mar/2024 23:54:49] \"GET /get_weights?date=2021-05-17 HTTP/1.1\" 200 -\n"
     ]
    },
    {
     "name": "stdout",
     "output_type": "stream",
     "text": [
      "0\n"
     ]
    },
    {
     "name": "stderr",
     "output_type": "stream",
     "text": [
      "127.0.0.1 - - [06/Mar/2024 23:54:51] \"GET /get_weights?date=2021-05-24 HTTP/1.1\" 200 -\n"
     ]
    },
    {
     "name": "stdout",
     "output_type": "stream",
     "text": [
      "0\n"
     ]
    },
    {
     "name": "stderr",
     "output_type": "stream",
     "text": [
      "127.0.0.1 - - [06/Mar/2024 23:54:53] \"GET /get_weights?date=2021-06-01 HTTP/1.1\" 200 -\n"
     ]
    },
    {
     "name": "stdout",
     "output_type": "stream",
     "text": [
      "0\n"
     ]
    },
    {
     "name": "stderr",
     "output_type": "stream",
     "text": [
      "127.0.0.1 - - [06/Mar/2024 23:54:56] \"GET /get_weights?date=2021-06-07 HTTP/1.1\" 200 -\n"
     ]
    },
    {
     "name": "stdout",
     "output_type": "stream",
     "text": [
      "0\n"
     ]
    },
    {
     "name": "stderr",
     "output_type": "stream",
     "text": [
      "127.0.0.1 - - [06/Mar/2024 23:54:58] \"GET /get_weights?date=2021-06-14 HTTP/1.1\" 200 -\n"
     ]
    },
    {
     "name": "stdout",
     "output_type": "stream",
     "text": [
      "0\n"
     ]
    },
    {
     "name": "stderr",
     "output_type": "stream",
     "text": [
      "127.0.0.1 - - [06/Mar/2024 23:55:00] \"GET /get_weights?date=2021-06-21 HTTP/1.1\" 200 -\n"
     ]
    },
    {
     "name": "stdout",
     "output_type": "stream",
     "text": [
      "0\n"
     ]
    },
    {
     "name": "stderr",
     "output_type": "stream",
     "text": [
      "127.0.0.1 - - [06/Mar/2024 23:55:02] \"GET /get_weights?date=2021-06-28 HTTP/1.1\" 200 -\n"
     ]
    },
    {
     "name": "stdout",
     "output_type": "stream",
     "text": [
      "0\n"
     ]
    },
    {
     "name": "stderr",
     "output_type": "stream",
     "text": [
      "127.0.0.1 - - [06/Mar/2024 23:55:04] \"GET /get_weights?date=2021-07-06 HTTP/1.1\" 200 -\n"
     ]
    },
    {
     "name": "stdout",
     "output_type": "stream",
     "text": [
      "0\n"
     ]
    },
    {
     "name": "stderr",
     "output_type": "stream",
     "text": [
      "127.0.0.1 - - [06/Mar/2024 23:55:06] \"GET /get_weights?date=2021-07-12 HTTP/1.1\" 200 -\n"
     ]
    },
    {
     "name": "stdout",
     "output_type": "stream",
     "text": [
      "0\n"
     ]
    },
    {
     "name": "stderr",
     "output_type": "stream",
     "text": [
      "127.0.0.1 - - [06/Mar/2024 23:55:09] \"GET /get_weights?date=2021-07-19 HTTP/1.1\" 200 -\n"
     ]
    },
    {
     "name": "stdout",
     "output_type": "stream",
     "text": [
      "0\n"
     ]
    },
    {
     "name": "stderr",
     "output_type": "stream",
     "text": [
      "127.0.0.1 - - [06/Mar/2024 23:55:11] \"GET /get_weights?date=2021-07-26 HTTP/1.1\" 200 -\n"
     ]
    },
    {
     "name": "stdout",
     "output_type": "stream",
     "text": [
      "0\n"
     ]
    },
    {
     "name": "stderr",
     "output_type": "stream",
     "text": [
      "127.0.0.1 - - [06/Mar/2024 23:55:13] \"GET /get_weights?date=2021-08-02 HTTP/1.1\" 200 -\n"
     ]
    },
    {
     "name": "stdout",
     "output_type": "stream",
     "text": [
      "0\n"
     ]
    },
    {
     "name": "stderr",
     "output_type": "stream",
     "text": [
      "127.0.0.1 - - [06/Mar/2024 23:55:15] \"GET /get_weights?date=2021-08-09 HTTP/1.1\" 200 -\n"
     ]
    },
    {
     "name": "stdout",
     "output_type": "stream",
     "text": [
      "0\n"
     ]
    },
    {
     "name": "stderr",
     "output_type": "stream",
     "text": [
      "127.0.0.1 - - [06/Mar/2024 23:55:17] \"GET /get_weights?date=2021-08-16 HTTP/1.1\" 200 -\n"
     ]
    },
    {
     "name": "stdout",
     "output_type": "stream",
     "text": [
      "0\n"
     ]
    },
    {
     "name": "stderr",
     "output_type": "stream",
     "text": [
      "127.0.0.1 - - [06/Mar/2024 23:55:20] \"GET /get_weights?date=2021-08-23 HTTP/1.1\" 200 -\n"
     ]
    },
    {
     "name": "stdout",
     "output_type": "stream",
     "text": [
      "0\n"
     ]
    },
    {
     "name": "stderr",
     "output_type": "stream",
     "text": [
      "127.0.0.1 - - [06/Mar/2024 23:55:22] \"GET /get_weights?date=2021-08-30 HTTP/1.1\" 200 -\n"
     ]
    },
    {
     "name": "stdout",
     "output_type": "stream",
     "text": [
      "0\n"
     ]
    },
    {
     "name": "stderr",
     "output_type": "stream",
     "text": [
      "127.0.0.1 - - [06/Mar/2024 23:55:24] \"GET /get_weights?date=2021-09-07 HTTP/1.1\" 200 -\n"
     ]
    },
    {
     "name": "stdout",
     "output_type": "stream",
     "text": [
      "0\n"
     ]
    },
    {
     "name": "stderr",
     "output_type": "stream",
     "text": [
      "127.0.0.1 - - [06/Mar/2024 23:55:26] \"GET /get_weights?date=2021-09-13 HTTP/1.1\" 200 -\n"
     ]
    },
    {
     "name": "stdout",
     "output_type": "stream",
     "text": [
      "0\n"
     ]
    },
    {
     "name": "stderr",
     "output_type": "stream",
     "text": [
      "127.0.0.1 - - [06/Mar/2024 23:55:28] \"GET /get_weights?date=2021-09-20 HTTP/1.1\" 200 -\n"
     ]
    },
    {
     "name": "stdout",
     "output_type": "stream",
     "text": [
      "0\n"
     ]
    },
    {
     "name": "stderr",
     "output_type": "stream",
     "text": [
      "127.0.0.1 - - [06/Mar/2024 23:55:30] \"GET /get_weights?date=2021-09-27 HTTP/1.1\" 200 -\n"
     ]
    },
    {
     "name": "stdout",
     "output_type": "stream",
     "text": [
      "0\n"
     ]
    },
    {
     "name": "stderr",
     "output_type": "stream",
     "text": [
      "127.0.0.1 - - [06/Mar/2024 23:55:33] \"GET /get_weights?date=2021-10-04 HTTP/1.1\" 200 -\n"
     ]
    },
    {
     "name": "stdout",
     "output_type": "stream",
     "text": [
      "0\n"
     ]
    },
    {
     "name": "stderr",
     "output_type": "stream",
     "text": [
      "127.0.0.1 - - [06/Mar/2024 23:55:35] \"GET /get_weights?date=2021-10-11 HTTP/1.1\" 200 -\n"
     ]
    },
    {
     "name": "stdout",
     "output_type": "stream",
     "text": [
      "0\n"
     ]
    },
    {
     "name": "stderr",
     "output_type": "stream",
     "text": [
      "127.0.0.1 - - [06/Mar/2024 23:55:37] \"GET /get_weights?date=2021-10-18 HTTP/1.1\" 200 -\n"
     ]
    },
    {
     "name": "stdout",
     "output_type": "stream",
     "text": [
      "0\n"
     ]
    },
    {
     "name": "stderr",
     "output_type": "stream",
     "text": [
      "127.0.0.1 - - [06/Mar/2024 23:55:39] \"GET /get_weights?date=2021-10-25 HTTP/1.1\" 200 -\n"
     ]
    },
    {
     "name": "stdout",
     "output_type": "stream",
     "text": [
      "0\n"
     ]
    },
    {
     "name": "stderr",
     "output_type": "stream",
     "text": [
      "127.0.0.1 - - [06/Mar/2024 23:55:41] \"GET /get_weights?date=2021-11-01 HTTP/1.1\" 200 -\n"
     ]
    },
    {
     "name": "stdout",
     "output_type": "stream",
     "text": [
      "0\n"
     ]
    },
    {
     "name": "stderr",
     "output_type": "stream",
     "text": [
      "127.0.0.1 - - [06/Mar/2024 23:55:44] \"GET /get_weights?date=2021-11-08 HTTP/1.1\" 200 -\n"
     ]
    },
    {
     "name": "stdout",
     "output_type": "stream",
     "text": [
      "0\n"
     ]
    },
    {
     "name": "stderr",
     "output_type": "stream",
     "text": [
      "127.0.0.1 - - [06/Mar/2024 23:55:46] \"GET /get_weights?date=2021-11-15 HTTP/1.1\" 200 -\n"
     ]
    },
    {
     "name": "stdout",
     "output_type": "stream",
     "text": [
      "0\n"
     ]
    },
    {
     "name": "stderr",
     "output_type": "stream",
     "text": [
      "127.0.0.1 - - [06/Mar/2024 23:55:48] \"GET /get_weights?date=2021-11-22 HTTP/1.1\" 200 -\n"
     ]
    },
    {
     "name": "stdout",
     "output_type": "stream",
     "text": [
      "0\n"
     ]
    },
    {
     "name": "stderr",
     "output_type": "stream",
     "text": [
      "127.0.0.1 - - [06/Mar/2024 23:55:50] \"GET /get_weights?date=2021-11-29 HTTP/1.1\" 200 -\n"
     ]
    },
    {
     "name": "stdout",
     "output_type": "stream",
     "text": [
      "0\n"
     ]
    },
    {
     "name": "stderr",
     "output_type": "stream",
     "text": [
      "127.0.0.1 - - [06/Mar/2024 23:55:52] \"GET /get_weights?date=2021-12-06 HTTP/1.1\" 200 -\n"
     ]
    },
    {
     "name": "stdout",
     "output_type": "stream",
     "text": [
      "0\n"
     ]
    },
    {
     "name": "stderr",
     "output_type": "stream",
     "text": [
      "127.0.0.1 - - [06/Mar/2024 23:55:54] \"GET /get_weights?date=2021-12-13 HTTP/1.1\" 200 -\n"
     ]
    },
    {
     "name": "stdout",
     "output_type": "stream",
     "text": [
      "0\n"
     ]
    },
    {
     "name": "stderr",
     "output_type": "stream",
     "text": [
      "127.0.0.1 - - [06/Mar/2024 23:55:57] \"GET /get_weights?date=2021-12-20 HTTP/1.1\" 200 -\n"
     ]
    },
    {
     "name": "stdout",
     "output_type": "stream",
     "text": [
      "1\n"
     ]
    },
    {
     "name": "stderr",
     "output_type": "stream",
     "text": [
      "127.0.0.1 - - [06/Mar/2024 23:55:59] \"GET /get_weights?date=2021-12-27 HTTP/1.1\" 200 -\n"
     ]
    },
    {
     "name": "stdout",
     "output_type": "stream",
     "text": [
      "1\n"
     ]
    },
    {
     "name": "stderr",
     "output_type": "stream",
     "text": [
      "127.0.0.1 - - [06/Mar/2024 23:56:01] \"GET /get_weights?date=2022-01-03 HTTP/1.1\" 200 -\n"
     ]
    },
    {
     "name": "stdout",
     "output_type": "stream",
     "text": [
      "1\n"
     ]
    },
    {
     "name": "stderr",
     "output_type": "stream",
     "text": [
      "127.0.0.1 - - [06/Mar/2024 23:56:03] \"GET /get_weights?date=2022-01-10 HTTP/1.1\" 200 -\n"
     ]
    },
    {
     "name": "stdout",
     "output_type": "stream",
     "text": [
      "1\n"
     ]
    },
    {
     "name": "stderr",
     "output_type": "stream",
     "text": [
      "127.0.0.1 - - [06/Mar/2024 23:56:05] \"GET /get_weights?date=2022-01-18 HTTP/1.1\" 200 -\n"
     ]
    },
    {
     "name": "stdout",
     "output_type": "stream",
     "text": [
      "1\n"
     ]
    },
    {
     "name": "stderr",
     "output_type": "stream",
     "text": [
      "127.0.0.1 - - [06/Mar/2024 23:56:08] \"GET /get_weights?date=2022-01-24 HTTP/1.1\" 200 -\n"
     ]
    },
    {
     "name": "stdout",
     "output_type": "stream",
     "text": [
      "1\n"
     ]
    },
    {
     "name": "stderr",
     "output_type": "stream",
     "text": [
      "127.0.0.1 - - [06/Mar/2024 23:56:10] \"GET /get_weights?date=2022-01-31 HTTP/1.1\" 200 -\n"
     ]
    },
    {
     "name": "stdout",
     "output_type": "stream",
     "text": [
      "1\n"
     ]
    },
    {
     "name": "stderr",
     "output_type": "stream",
     "text": [
      "127.0.0.1 - - [06/Mar/2024 23:56:12] \"GET /get_weights?date=2022-02-07 HTTP/1.1\" 200 -\n"
     ]
    },
    {
     "name": "stdout",
     "output_type": "stream",
     "text": [
      "1\n"
     ]
    },
    {
     "name": "stderr",
     "output_type": "stream",
     "text": [
      "127.0.0.1 - - [06/Mar/2024 23:56:14] \"GET /get_weights?date=2022-02-14 HTTP/1.1\" 200 -\n"
     ]
    },
    {
     "name": "stdout",
     "output_type": "stream",
     "text": [
      "1\n"
     ]
    },
    {
     "name": "stderr",
     "output_type": "stream",
     "text": [
      "127.0.0.1 - - [06/Mar/2024 23:56:16] \"GET /get_weights?date=2022-02-22 HTTP/1.1\" 200 -\n"
     ]
    },
    {
     "name": "stdout",
     "output_type": "stream",
     "text": [
      "1\n"
     ]
    },
    {
     "name": "stderr",
     "output_type": "stream",
     "text": [
      "127.0.0.1 - - [06/Mar/2024 23:56:19] \"GET /get_weights?date=2022-02-28 HTTP/1.1\" 200 -\n"
     ]
    },
    {
     "name": "stdout",
     "output_type": "stream",
     "text": [
      "1\n"
     ]
    },
    {
     "name": "stderr",
     "output_type": "stream",
     "text": [
      "127.0.0.1 - - [06/Mar/2024 23:56:21] \"GET /get_weights?date=2022-03-07 HTTP/1.1\" 200 -\n"
     ]
    },
    {
     "name": "stdout",
     "output_type": "stream",
     "text": [
      "1\n"
     ]
    },
    {
     "name": "stderr",
     "output_type": "stream",
     "text": [
      "127.0.0.1 - - [06/Mar/2024 23:56:23] \"GET /get_weights?date=2022-03-14 HTTP/1.1\" 200 -\n"
     ]
    },
    {
     "name": "stdout",
     "output_type": "stream",
     "text": [
      "1\n"
     ]
    },
    {
     "name": "stderr",
     "output_type": "stream",
     "text": [
      "127.0.0.1 - - [06/Mar/2024 23:56:25] \"GET /get_weights?date=2022-03-21 HTTP/1.1\" 200 -\n"
     ]
    },
    {
     "name": "stdout",
     "output_type": "stream",
     "text": [
      "1\n"
     ]
    },
    {
     "name": "stderr",
     "output_type": "stream",
     "text": [
      "127.0.0.1 - - [06/Mar/2024 23:56:27] \"GET /get_weights?date=2022-03-28 HTTP/1.1\" 200 -\n"
     ]
    },
    {
     "name": "stdout",
     "output_type": "stream",
     "text": [
      "1\n"
     ]
    },
    {
     "name": "stderr",
     "output_type": "stream",
     "text": [
      "127.0.0.1 - - [06/Mar/2024 23:56:30] \"GET /get_weights?date=2022-04-04 HTTP/1.1\" 200 -\n"
     ]
    },
    {
     "name": "stdout",
     "output_type": "stream",
     "text": [
      "1\n"
     ]
    },
    {
     "name": "stderr",
     "output_type": "stream",
     "text": [
      "127.0.0.1 - - [06/Mar/2024 23:56:32] \"GET /get_weights?date=2022-04-11 HTTP/1.1\" 200 -\n"
     ]
    },
    {
     "name": "stdout",
     "output_type": "stream",
     "text": [
      "1\n"
     ]
    },
    {
     "name": "stderr",
     "output_type": "stream",
     "text": [
      "127.0.0.1 - - [06/Mar/2024 23:56:34] \"GET /get_weights?date=2022-04-18 HTTP/1.1\" 200 -\n"
     ]
    },
    {
     "name": "stdout",
     "output_type": "stream",
     "text": [
      "1\n"
     ]
    },
    {
     "name": "stderr",
     "output_type": "stream",
     "text": [
      "127.0.0.1 - - [06/Mar/2024 23:56:36] \"GET /get_weights?date=2022-04-25 HTTP/1.1\" 200 -\n"
     ]
    },
    {
     "name": "stdout",
     "output_type": "stream",
     "text": [
      "1\n"
     ]
    },
    {
     "name": "stderr",
     "output_type": "stream",
     "text": [
      "127.0.0.1 - - [06/Mar/2024 23:56:39] \"GET /get_weights?date=2022-05-02 HTTP/1.1\" 200 -\n"
     ]
    },
    {
     "name": "stdout",
     "output_type": "stream",
     "text": [
      "1\n"
     ]
    },
    {
     "name": "stderr",
     "output_type": "stream",
     "text": [
      "127.0.0.1 - - [06/Mar/2024 23:56:41] \"GET /get_weights?date=2022-05-09 HTTP/1.1\" 200 -\n"
     ]
    },
    {
     "name": "stdout",
     "output_type": "stream",
     "text": [
      "1\n"
     ]
    },
    {
     "name": "stderr",
     "output_type": "stream",
     "text": [
      "127.0.0.1 - - [06/Mar/2024 23:56:43] \"GET /get_weights?date=2022-05-16 HTTP/1.1\" 200 -\n"
     ]
    },
    {
     "name": "stdout",
     "output_type": "stream",
     "text": [
      "1\n"
     ]
    },
    {
     "name": "stderr",
     "output_type": "stream",
     "text": [
      "127.0.0.1 - - [06/Mar/2024 23:56:45] \"GET /get_weights?date=2022-05-23 HTTP/1.1\" 200 -\n"
     ]
    },
    {
     "name": "stdout",
     "output_type": "stream",
     "text": [
      "1\n"
     ]
    },
    {
     "name": "stderr",
     "output_type": "stream",
     "text": [
      "127.0.0.1 - - [06/Mar/2024 23:56:47] \"GET /get_weights?date=2022-05-31 HTTP/1.1\" 200 -\n"
     ]
    },
    {
     "name": "stdout",
     "output_type": "stream",
     "text": [
      "1\n"
     ]
    },
    {
     "name": "stderr",
     "output_type": "stream",
     "text": [
      "127.0.0.1 - - [06/Mar/2024 23:56:50] \"GET /get_weights?date=2022-06-06 HTTP/1.1\" 200 -\n"
     ]
    },
    {
     "name": "stdout",
     "output_type": "stream",
     "text": [
      "1\n"
     ]
    },
    {
     "name": "stderr",
     "output_type": "stream",
     "text": [
      "127.0.0.1 - - [06/Mar/2024 23:56:52] \"GET /get_weights?date=2022-06-13 HTTP/1.1\" 200 -\n"
     ]
    },
    {
     "name": "stdout",
     "output_type": "stream",
     "text": [
      "1\n"
     ]
    },
    {
     "name": "stderr",
     "output_type": "stream",
     "text": [
      "127.0.0.1 - - [06/Mar/2024 23:56:54] \"GET /get_weights?date=2022-06-20 HTTP/1.1\" 200 -\n"
     ]
    },
    {
     "name": "stdout",
     "output_type": "stream",
     "text": [
      "1\n"
     ]
    },
    {
     "name": "stderr",
     "output_type": "stream",
     "text": [
      "127.0.0.1 - - [06/Mar/2024 23:56:56] \"GET /get_weights?date=2022-06-27 HTTP/1.1\" 200 -\n"
     ]
    },
    {
     "name": "stdout",
     "output_type": "stream",
     "text": [
      "1\n"
     ]
    },
    {
     "name": "stderr",
     "output_type": "stream",
     "text": [
      "127.0.0.1 - - [06/Mar/2024 23:56:58] \"GET /get_weights?date=2022-07-05 HTTP/1.1\" 200 -\n"
     ]
    },
    {
     "name": "stdout",
     "output_type": "stream",
     "text": [
      "1\n"
     ]
    },
    {
     "name": "stderr",
     "output_type": "stream",
     "text": [
      "127.0.0.1 - - [06/Mar/2024 23:57:01] \"GET /get_weights?date=2022-07-11 HTTP/1.1\" 200 -\n"
     ]
    },
    {
     "name": "stdout",
     "output_type": "stream",
     "text": [
      "1\n"
     ]
    },
    {
     "name": "stderr",
     "output_type": "stream",
     "text": [
      "127.0.0.1 - - [06/Mar/2024 23:57:03] \"GET /get_weights?date=2022-07-18 HTTP/1.1\" 200 -\n"
     ]
    },
    {
     "name": "stdout",
     "output_type": "stream",
     "text": [
      "1\n"
     ]
    },
    {
     "name": "stderr",
     "output_type": "stream",
     "text": [
      "127.0.0.1 - - [06/Mar/2024 23:57:05] \"GET /get_weights?date=2022-07-25 HTTP/1.1\" 200 -\n"
     ]
    },
    {
     "name": "stdout",
     "output_type": "stream",
     "text": [
      "1\n"
     ]
    },
    {
     "name": "stderr",
     "output_type": "stream",
     "text": [
      "127.0.0.1 - - [06/Mar/2024 23:57:07] \"GET /get_weights?date=2022-08-01 HTTP/1.1\" 200 -\n"
     ]
    },
    {
     "name": "stdout",
     "output_type": "stream",
     "text": [
      "1\n"
     ]
    },
    {
     "name": "stderr",
     "output_type": "stream",
     "text": [
      "127.0.0.1 - - [06/Mar/2024 23:57:09] \"GET /get_weights?date=2022-08-08 HTTP/1.1\" 200 -\n"
     ]
    },
    {
     "name": "stdout",
     "output_type": "stream",
     "text": [
      "1\n"
     ]
    },
    {
     "name": "stderr",
     "output_type": "stream",
     "text": [
      "127.0.0.1 - - [06/Mar/2024 23:57:12] \"GET /get_weights?date=2022-08-15 HTTP/1.1\" 200 -\n"
     ]
    },
    {
     "name": "stdout",
     "output_type": "stream",
     "text": [
      "1\n"
     ]
    },
    {
     "name": "stderr",
     "output_type": "stream",
     "text": [
      "127.0.0.1 - - [06/Mar/2024 23:57:14] \"GET /get_weights?date=2022-08-22 HTTP/1.1\" 200 -\n"
     ]
    },
    {
     "name": "stdout",
     "output_type": "stream",
     "text": [
      "1\n"
     ]
    },
    {
     "name": "stderr",
     "output_type": "stream",
     "text": [
      "127.0.0.1 - - [06/Mar/2024 23:57:16] \"GET /get_weights?date=2022-08-29 HTTP/1.1\" 200 -\n"
     ]
    },
    {
     "name": "stdout",
     "output_type": "stream",
     "text": [
      "1\n"
     ]
    },
    {
     "name": "stderr",
     "output_type": "stream",
     "text": [
      "127.0.0.1 - - [06/Mar/2024 23:57:18] \"GET /get_weights?date=2022-09-06 HTTP/1.1\" 200 -\n"
     ]
    },
    {
     "name": "stdout",
     "output_type": "stream",
     "text": [
      "1\n"
     ]
    },
    {
     "name": "stderr",
     "output_type": "stream",
     "text": [
      "127.0.0.1 - - [06/Mar/2024 23:57:20] \"GET /get_weights?date=2022-09-12 HTTP/1.1\" 200 -\n"
     ]
    },
    {
     "name": "stdout",
     "output_type": "stream",
     "text": [
      "1\n"
     ]
    },
    {
     "name": "stderr",
     "output_type": "stream",
     "text": [
      "127.0.0.1 - - [06/Mar/2024 23:57:23] \"GET /get_weights?date=2022-09-19 HTTP/1.1\" 200 -\n"
     ]
    },
    {
     "name": "stdout",
     "output_type": "stream",
     "text": [
      "1\n"
     ]
    },
    {
     "name": "stderr",
     "output_type": "stream",
     "text": [
      "127.0.0.1 - - [06/Mar/2024 23:57:25] \"GET /get_weights?date=2022-09-26 HTTP/1.1\" 200 -\n"
     ]
    },
    {
     "name": "stdout",
     "output_type": "stream",
     "text": [
      "1\n"
     ]
    },
    {
     "name": "stderr",
     "output_type": "stream",
     "text": [
      "127.0.0.1 - - [06/Mar/2024 23:57:27] \"GET /get_weights?date=2022-10-03 HTTP/1.1\" 200 -\n"
     ]
    },
    {
     "name": "stdout",
     "output_type": "stream",
     "text": [
      "1\n"
     ]
    },
    {
     "name": "stderr",
     "output_type": "stream",
     "text": [
      "127.0.0.1 - - [06/Mar/2024 23:57:29] \"GET /get_weights?date=2022-10-10 HTTP/1.1\" 200 -\n"
     ]
    },
    {
     "name": "stdout",
     "output_type": "stream",
     "text": [
      "1\n"
     ]
    },
    {
     "name": "stderr",
     "output_type": "stream",
     "text": [
      "127.0.0.1 - - [06/Mar/2024 23:57:31] \"GET /get_weights?date=2022-10-17 HTTP/1.1\" 200 -\n"
     ]
    },
    {
     "name": "stdout",
     "output_type": "stream",
     "text": [
      "1\n"
     ]
    },
    {
     "name": "stderr",
     "output_type": "stream",
     "text": [
      "127.0.0.1 - - [06/Mar/2024 23:57:34] \"GET /get_weights?date=2022-10-24 HTTP/1.1\" 200 -\n"
     ]
    },
    {
     "name": "stdout",
     "output_type": "stream",
     "text": [
      "1\n"
     ]
    },
    {
     "name": "stderr",
     "output_type": "stream",
     "text": [
      "127.0.0.1 - - [06/Mar/2024 23:57:36] \"GET /get_weights?date=2022-10-31 HTTP/1.1\" 200 -\n"
     ]
    },
    {
     "name": "stdout",
     "output_type": "stream",
     "text": [
      "1\n"
     ]
    },
    {
     "name": "stderr",
     "output_type": "stream",
     "text": [
      "127.0.0.1 - - [06/Mar/2024 23:57:38] \"GET /get_weights?date=2022-11-07 HTTP/1.1\" 200 -\n"
     ]
    },
    {
     "name": "stdout",
     "output_type": "stream",
     "text": [
      "1\n"
     ]
    },
    {
     "name": "stderr",
     "output_type": "stream",
     "text": [
      "127.0.0.1 - - [06/Mar/2024 23:57:40] \"GET /get_weights?date=2022-11-14 HTTP/1.1\" 200 -\n"
     ]
    },
    {
     "name": "stdout",
     "output_type": "stream",
     "text": [
      "1\n"
     ]
    },
    {
     "name": "stderr",
     "output_type": "stream",
     "text": [
      "127.0.0.1 - - [06/Mar/2024 23:57:42] \"GET /get_weights?date=2022-11-21 HTTP/1.1\" 200 -\n"
     ]
    },
    {
     "name": "stdout",
     "output_type": "stream",
     "text": [
      "1\n"
     ]
    },
    {
     "name": "stderr",
     "output_type": "stream",
     "text": [
      "127.0.0.1 - - [06/Mar/2024 23:57:45] \"GET /get_weights?date=2022-11-28 HTTP/1.1\" 200 -\n"
     ]
    },
    {
     "name": "stdout",
     "output_type": "stream",
     "text": [
      "1\n"
     ]
    },
    {
     "name": "stderr",
     "output_type": "stream",
     "text": [
      "127.0.0.1 - - [06/Mar/2024 23:57:47] \"GET /get_weights?date=2022-12-05 HTTP/1.1\" 200 -\n"
     ]
    },
    {
     "name": "stdout",
     "output_type": "stream",
     "text": [
      "1\n"
     ]
    },
    {
     "name": "stderr",
     "output_type": "stream",
     "text": [
      "127.0.0.1 - - [06/Mar/2024 23:57:49] \"GET /get_weights?date=2022-12-12 HTTP/1.1\" 200 -\n"
     ]
    },
    {
     "name": "stdout",
     "output_type": "stream",
     "text": [
      "1\n"
     ]
    },
    {
     "name": "stderr",
     "output_type": "stream",
     "text": [
      "127.0.0.1 - - [06/Mar/2024 23:57:51] \"GET /get_weights?date=2022-12-19 HTTP/1.1\" 200 -\n"
     ]
    },
    {
     "name": "stdout",
     "output_type": "stream",
     "text": [
      "2\n"
     ]
    },
    {
     "name": "stderr",
     "output_type": "stream",
     "text": [
      "127.0.0.1 - - [06/Mar/2024 23:57:53] \"GET /get_weights?date=2022-12-27 HTTP/1.1\" 200 -\n"
     ]
    },
    {
     "name": "stdout",
     "output_type": "stream",
     "text": [
      "2\n"
     ]
    },
    {
     "name": "stderr",
     "output_type": "stream",
     "text": [
      "127.0.0.1 - - [06/Mar/2024 23:57:56] \"GET /get_weights?date=2023-01-03 HTTP/1.1\" 200 -\n"
     ]
    },
    {
     "name": "stdout",
     "output_type": "stream",
     "text": [
      "2\n"
     ]
    },
    {
     "name": "stderr",
     "output_type": "stream",
     "text": [
      "127.0.0.1 - - [06/Mar/2024 23:57:58] \"GET /get_weights?date=2023-01-09 HTTP/1.1\" 200 -\n"
     ]
    },
    {
     "name": "stdout",
     "output_type": "stream",
     "text": [
      "2\n"
     ]
    },
    {
     "name": "stderr",
     "output_type": "stream",
     "text": [
      "127.0.0.1 - - [06/Mar/2024 23:58:00] \"GET /get_weights?date=2023-01-17 HTTP/1.1\" 200 -\n"
     ]
    },
    {
     "name": "stdout",
     "output_type": "stream",
     "text": [
      "2\n"
     ]
    },
    {
     "name": "stderr",
     "output_type": "stream",
     "text": [
      "127.0.0.1 - - [06/Mar/2024 23:58:02] \"GET /get_weights?date=2023-01-23 HTTP/1.1\" 200 -\n"
     ]
    },
    {
     "name": "stdout",
     "output_type": "stream",
     "text": [
      "2\n"
     ]
    },
    {
     "name": "stderr",
     "output_type": "stream",
     "text": [
      "127.0.0.1 - - [06/Mar/2024 23:58:04] \"GET /get_weights?date=2023-01-30 HTTP/1.1\" 200 -\n"
     ]
    },
    {
     "name": "stdout",
     "output_type": "stream",
     "text": [
      "2\n"
     ]
    },
    {
     "name": "stderr",
     "output_type": "stream",
     "text": [
      "127.0.0.1 - - [06/Mar/2024 23:58:07] \"GET /get_weights?date=2023-02-06 HTTP/1.1\" 200 -\n"
     ]
    },
    {
     "name": "stdout",
     "output_type": "stream",
     "text": [
      "2\n"
     ]
    },
    {
     "name": "stderr",
     "output_type": "stream",
     "text": [
      "127.0.0.1 - - [06/Mar/2024 23:58:09] \"GET /get_weights?date=2023-02-13 HTTP/1.1\" 200 -\n"
     ]
    },
    {
     "name": "stdout",
     "output_type": "stream",
     "text": [
      "2\n"
     ]
    },
    {
     "name": "stderr",
     "output_type": "stream",
     "text": [
      "127.0.0.1 - - [06/Mar/2024 23:58:11] \"GET /get_weights?date=2023-02-21 HTTP/1.1\" 200 -\n"
     ]
    },
    {
     "name": "stdout",
     "output_type": "stream",
     "text": [
      "2\n"
     ]
    },
    {
     "name": "stderr",
     "output_type": "stream",
     "text": [
      "127.0.0.1 - - [06/Mar/2024 23:58:13] \"GET /get_weights?date=2023-02-27 HTTP/1.1\" 200 -\n"
     ]
    },
    {
     "name": "stdout",
     "output_type": "stream",
     "text": [
      "2\n"
     ]
    },
    {
     "name": "stderr",
     "output_type": "stream",
     "text": [
      "127.0.0.1 - - [06/Mar/2024 23:58:15] \"GET /get_weights?date=2023-03-06 HTTP/1.1\" 200 -\n"
     ]
    },
    {
     "name": "stdout",
     "output_type": "stream",
     "text": [
      "2\n"
     ]
    },
    {
     "name": "stderr",
     "output_type": "stream",
     "text": [
      "127.0.0.1 - - [06/Mar/2024 23:58:18] \"GET /get_weights?date=2023-03-13 HTTP/1.1\" 200 -\n"
     ]
    },
    {
     "name": "stdout",
     "output_type": "stream",
     "text": [
      "2\n"
     ]
    },
    {
     "name": "stderr",
     "output_type": "stream",
     "text": [
      "127.0.0.1 - - [06/Mar/2024 23:58:20] \"GET /get_weights?date=2023-03-20 HTTP/1.1\" 200 -\n"
     ]
    },
    {
     "name": "stdout",
     "output_type": "stream",
     "text": [
      "2\n"
     ]
    },
    {
     "name": "stderr",
     "output_type": "stream",
     "text": [
      "127.0.0.1 - - [06/Mar/2024 23:58:22] \"GET /get_weights?date=2023-03-27 HTTP/1.1\" 200 -\n"
     ]
    },
    {
     "name": "stdout",
     "output_type": "stream",
     "text": [
      "2\n"
     ]
    },
    {
     "name": "stderr",
     "output_type": "stream",
     "text": [
      "127.0.0.1 - - [06/Mar/2024 23:58:24] \"GET /get_weights?date=2023-04-03 HTTP/1.1\" 200 -\n"
     ]
    },
    {
     "name": "stdout",
     "output_type": "stream",
     "text": [
      "2\n"
     ]
    },
    {
     "name": "stderr",
     "output_type": "stream",
     "text": [
      "127.0.0.1 - - [06/Mar/2024 23:58:27] \"GET /get_weights?date=2023-04-10 HTTP/1.1\" 200 -\n"
     ]
    },
    {
     "name": "stdout",
     "output_type": "stream",
     "text": [
      "2\n"
     ]
    },
    {
     "name": "stderr",
     "output_type": "stream",
     "text": [
      "127.0.0.1 - - [06/Mar/2024 23:58:29] \"GET /get_weights?date=2023-04-17 HTTP/1.1\" 200 -\n"
     ]
    },
    {
     "name": "stdout",
     "output_type": "stream",
     "text": [
      "2\n"
     ]
    },
    {
     "name": "stderr",
     "output_type": "stream",
     "text": [
      "127.0.0.1 - - [06/Mar/2024 23:58:31] \"GET /get_weights?date=2023-04-24 HTTP/1.1\" 200 -\n"
     ]
    },
    {
     "name": "stdout",
     "output_type": "stream",
     "text": [
      "2\n"
     ]
    },
    {
     "name": "stderr",
     "output_type": "stream",
     "text": [
      "127.0.0.1 - - [06/Mar/2024 23:58:33] \"GET /get_weights?date=2023-05-01 HTTP/1.1\" 200 -\n"
     ]
    },
    {
     "name": "stdout",
     "output_type": "stream",
     "text": [
      "2\n"
     ]
    },
    {
     "name": "stderr",
     "output_type": "stream",
     "text": [
      "127.0.0.1 - - [06/Mar/2024 23:58:35] \"GET /get_weights?date=2023-05-08 HTTP/1.1\" 200 -\n"
     ]
    },
    {
     "name": "stdout",
     "output_type": "stream",
     "text": [
      "2\n"
     ]
    },
    {
     "name": "stderr",
     "output_type": "stream",
     "text": [
      "127.0.0.1 - - [06/Mar/2024 23:58:37] \"GET /get_weights?date=2023-05-15 HTTP/1.1\" 200 -\n"
     ]
    },
    {
     "name": "stdout",
     "output_type": "stream",
     "text": [
      "2\n"
     ]
    },
    {
     "name": "stderr",
     "output_type": "stream",
     "text": [
      "127.0.0.1 - - [06/Mar/2024 23:58:40] \"GET /get_weights?date=2023-05-22 HTTP/1.1\" 200 -\n"
     ]
    },
    {
     "name": "stdout",
     "output_type": "stream",
     "text": [
      "2\n"
     ]
    },
    {
     "name": "stderr",
     "output_type": "stream",
     "text": [
      "127.0.0.1 - - [06/Mar/2024 23:58:42] \"GET /get_weights?date=2023-05-30 HTTP/1.1\" 200 -\n"
     ]
    },
    {
     "name": "stdout",
     "output_type": "stream",
     "text": [
      "2\n"
     ]
    },
    {
     "name": "stderr",
     "output_type": "stream",
     "text": [
      "127.0.0.1 - - [06/Mar/2024 23:58:44] \"GET /get_weights?date=2023-06-05 HTTP/1.1\" 200 -\n"
     ]
    },
    {
     "name": "stdout",
     "output_type": "stream",
     "text": [
      "2\n"
     ]
    },
    {
     "name": "stderr",
     "output_type": "stream",
     "text": [
      "127.0.0.1 - - [06/Mar/2024 23:58:46] \"GET /get_weights?date=2023-06-12 HTTP/1.1\" 200 -\n"
     ]
    },
    {
     "name": "stdout",
     "output_type": "stream",
     "text": [
      "2\n"
     ]
    },
    {
     "name": "stderr",
     "output_type": "stream",
     "text": [
      "127.0.0.1 - - [06/Mar/2024 23:58:49] \"GET /get_weights?date=2023-06-19 HTTP/1.1\" 200 -\n"
     ]
    },
    {
     "name": "stdout",
     "output_type": "stream",
     "text": [
      "2\n"
     ]
    },
    {
     "name": "stderr",
     "output_type": "stream",
     "text": [
      "127.0.0.1 - - [06/Mar/2024 23:58:51] \"GET /get_weights?date=2023-06-26 HTTP/1.1\" 200 -\n"
     ]
    },
    {
     "name": "stdout",
     "output_type": "stream",
     "text": [
      "2\n"
     ]
    },
    {
     "name": "stderr",
     "output_type": "stream",
     "text": [
      "127.0.0.1 - - [06/Mar/2024 23:58:53] \"GET /get_weights?date=2023-07-03 HTTP/1.1\" 200 -\n"
     ]
    },
    {
     "name": "stdout",
     "output_type": "stream",
     "text": [
      "2\n"
     ]
    },
    {
     "name": "stderr",
     "output_type": "stream",
     "text": [
      "127.0.0.1 - - [06/Mar/2024 23:58:55] \"GET /get_weights?date=2023-07-10 HTTP/1.1\" 200 -\n"
     ]
    },
    {
     "name": "stdout",
     "output_type": "stream",
     "text": [
      "2\n"
     ]
    },
    {
     "name": "stderr",
     "output_type": "stream",
     "text": [
      "127.0.0.1 - - [06/Mar/2024 23:58:57] \"GET /get_weights?date=2023-07-17 HTTP/1.1\" 200 -\n"
     ]
    },
    {
     "name": "stdout",
     "output_type": "stream",
     "text": [
      "2\n"
     ]
    },
    {
     "name": "stderr",
     "output_type": "stream",
     "text": [
      "127.0.0.1 - - [06/Mar/2024 23:59:00] \"GET /get_weights?date=2023-07-24 HTTP/1.1\" 200 -\n"
     ]
    },
    {
     "name": "stdout",
     "output_type": "stream",
     "text": [
      "2\n"
     ]
    },
    {
     "name": "stderr",
     "output_type": "stream",
     "text": [
      "127.0.0.1 - - [06/Mar/2024 23:59:02] \"GET /get_weights?date=2023-07-31 HTTP/1.1\" 200 -\n"
     ]
    },
    {
     "name": "stdout",
     "output_type": "stream",
     "text": [
      "2\n"
     ]
    },
    {
     "name": "stderr",
     "output_type": "stream",
     "text": [
      "127.0.0.1 - - [06/Mar/2024 23:59:04] \"GET /get_weights?date=2023-08-07 HTTP/1.1\" 200 -\n"
     ]
    },
    {
     "name": "stdout",
     "output_type": "stream",
     "text": [
      "2\n"
     ]
    },
    {
     "name": "stderr",
     "output_type": "stream",
     "text": [
      "127.0.0.1 - - [06/Mar/2024 23:59:06] \"GET /get_weights?date=2023-08-14 HTTP/1.1\" 200 -\n"
     ]
    },
    {
     "name": "stdout",
     "output_type": "stream",
     "text": [
      "2\n"
     ]
    },
    {
     "name": "stderr",
     "output_type": "stream",
     "text": [
      "127.0.0.1 - - [06/Mar/2024 23:59:09] \"GET /get_weights?date=2023-08-21 HTTP/1.1\" 200 -\n"
     ]
    },
    {
     "name": "stdout",
     "output_type": "stream",
     "text": [
      "2\n"
     ]
    },
    {
     "name": "stderr",
     "output_type": "stream",
     "text": [
      "127.0.0.1 - - [06/Mar/2024 23:59:11] \"GET /get_weights?date=2023-08-28 HTTP/1.1\" 200 -\n"
     ]
    },
    {
     "name": "stdout",
     "output_type": "stream",
     "text": [
      "2\n"
     ]
    },
    {
     "name": "stderr",
     "output_type": "stream",
     "text": [
      "127.0.0.1 - - [06/Mar/2024 23:59:13] \"GET /get_weights?date=2023-09-05 HTTP/1.1\" 200 -\n"
     ]
    },
    {
     "name": "stdout",
     "output_type": "stream",
     "text": [
      "2\n"
     ]
    },
    {
     "name": "stderr",
     "output_type": "stream",
     "text": [
      "127.0.0.1 - - [06/Mar/2024 23:59:15] \"GET /get_weights?date=2023-09-11 HTTP/1.1\" 200 -\n"
     ]
    },
    {
     "name": "stdout",
     "output_type": "stream",
     "text": [
      "2\n"
     ]
    },
    {
     "name": "stderr",
     "output_type": "stream",
     "text": [
      "127.0.0.1 - - [06/Mar/2024 23:59:17] \"GET /get_weights?date=2023-09-18 HTTP/1.1\" 200 -\n"
     ]
    },
    {
     "name": "stdout",
     "output_type": "stream",
     "text": [
      "2\n"
     ]
    },
    {
     "name": "stderr",
     "output_type": "stream",
     "text": [
      "127.0.0.1 - - [06/Mar/2024 23:59:20] \"GET /get_weights?date=2023-09-25 HTTP/1.1\" 200 -\n"
     ]
    },
    {
     "name": "stdout",
     "output_type": "stream",
     "text": [
      "2\n"
     ]
    },
    {
     "name": "stderr",
     "output_type": "stream",
     "text": [
      "127.0.0.1 - - [06/Mar/2024 23:59:22] \"GET /get_weights?date=2023-10-02 HTTP/1.1\" 200 -\n"
     ]
    },
    {
     "name": "stdout",
     "output_type": "stream",
     "text": [
      "2\n"
     ]
    },
    {
     "name": "stderr",
     "output_type": "stream",
     "text": [
      "127.0.0.1 - - [06/Mar/2024 23:59:24] \"GET /get_weights?date=2023-10-09 HTTP/1.1\" 200 -\n"
     ]
    },
    {
     "name": "stdout",
     "output_type": "stream",
     "text": [
      "2\n"
     ]
    },
    {
     "name": "stderr",
     "output_type": "stream",
     "text": [
      "127.0.0.1 - - [06/Mar/2024 23:59:26] \"GET /get_weights?date=2023-10-16 HTTP/1.1\" 200 -\n"
     ]
    },
    {
     "name": "stdout",
     "output_type": "stream",
     "text": [
      "2\n"
     ]
    },
    {
     "name": "stderr",
     "output_type": "stream",
     "text": [
      "127.0.0.1 - - [06/Mar/2024 23:59:28] \"GET /get_weights?date=2023-10-23 HTTP/1.1\" 200 -\n"
     ]
    },
    {
     "name": "stdout",
     "output_type": "stream",
     "text": [
      "2\n"
     ]
    },
    {
     "name": "stderr",
     "output_type": "stream",
     "text": [
      "127.0.0.1 - - [06/Mar/2024 23:59:31] \"GET /get_weights?date=2023-10-30 HTTP/1.1\" 200 -\n"
     ]
    },
    {
     "name": "stdout",
     "output_type": "stream",
     "text": [
      "2\n"
     ]
    },
    {
     "name": "stderr",
     "output_type": "stream",
     "text": [
      "127.0.0.1 - - [06/Mar/2024 23:59:33] \"GET /get_weights?date=2023-11-06 HTTP/1.1\" 200 -\n"
     ]
    },
    {
     "name": "stdout",
     "output_type": "stream",
     "text": [
      "2\n"
     ]
    },
    {
     "name": "stderr",
     "output_type": "stream",
     "text": [
      "127.0.0.1 - - [06/Mar/2024 23:59:35] \"GET /get_weights?date=2023-11-13 HTTP/1.1\" 200 -\n"
     ]
    },
    {
     "name": "stdout",
     "output_type": "stream",
     "text": [
      "2\n"
     ]
    },
    {
     "name": "stderr",
     "output_type": "stream",
     "text": [
      "127.0.0.1 - - [06/Mar/2024 23:59:37] \"GET /get_weights?date=2023-11-20 HTTP/1.1\" 200 -\n"
     ]
    },
    {
     "name": "stdout",
     "output_type": "stream",
     "text": [
      "2\n"
     ]
    },
    {
     "name": "stderr",
     "output_type": "stream",
     "text": [
      "127.0.0.1 - - [06/Mar/2024 23:59:40] \"GET /get_weights?date=2023-11-27 HTTP/1.1\" 200 -\n"
     ]
    },
    {
     "name": "stdout",
     "output_type": "stream",
     "text": [
      "2\n"
     ]
    },
    {
     "name": "stderr",
     "output_type": "stream",
     "text": [
      "127.0.0.1 - - [06/Mar/2024 23:59:42] \"GET /get_weights?date=2023-12-04 HTTP/1.1\" 200 -\n"
     ]
    },
    {
     "name": "stdout",
     "output_type": "stream",
     "text": [
      "2\n"
     ]
    },
    {
     "name": "stderr",
     "output_type": "stream",
     "text": [
      "127.0.0.1 - - [06/Mar/2024 23:59:44] \"GET /get_weights?date=2023-12-11 HTTP/1.1\" 200 -\n"
     ]
    },
    {
     "name": "stdout",
     "output_type": "stream",
     "text": [
      "2\n"
     ]
    }
   ],
   "source": [
    "app.run(port=5000)"
   ]
  },
  {
   "cell_type": "code",
   "execution_count": null,
   "id": "7a1839cc",
   "metadata": {},
   "outputs": [],
   "source": [
    "update the "
   ]
  }
 ],
 "metadata": {
  "kernelspec": {
   "display_name": "Python 3 (ipykernel)",
   "language": "python",
   "name": "python3"
  },
  "language_info": {
   "codemirror_mode": {
    "name": "ipython",
    "version": 3
   },
   "file_extension": ".py",
   "mimetype": "text/x-python",
   "name": "python",
   "nbconvert_exporter": "python",
   "pygments_lexer": "ipython3",
   "version": "3.8.17"
  }
 },
 "nbformat": 4,
 "nbformat_minor": 5
}
