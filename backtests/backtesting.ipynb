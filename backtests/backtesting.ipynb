{
 "cells": [
  {
   "cell_type": "code",
   "execution_count": 47,
   "id": "034a3a21",
   "metadata": {},
   "outputs": [],
   "source": [
    "# Import necessary libraries\n",
    "from zipline.api import order_target_percent, record, symbol, schedule_function, date_rules, order\n",
    "from zipline import run_algorithm\n",
    "from zipline.utils.events import time_rules\n",
    "import pandas as pd\n",
    "import numpy as np"
   ]
  },
  {
   "cell_type": "code",
   "execution_count": 48,
   "id": "41e0801d",
   "metadata": {},
   "outputs": [],
   "source": [
    "def compute_weights_based_on_hist_rets(rets):\n",
    "    pass"
   ]
  },
  {
   "cell_type": "code",
   "execution_count": 54,
   "id": "4d932b07",
   "metadata": {},
   "outputs": [],
   "source": [
    "# Define the initialize function\n",
    "def initialize(context):\n",
    "    # Set the list of tickers we will work with\n",
    "    context.tickers = ['VWO', 'SPY', 'VNQ', 'LQD', 'DBC']\n",
    "    context.assets = [symbol(ticker) for ticker in context.tickers]\n",
    "    \n",
    "    # Schedule the rebalance function to run every Monday at market open\n",
    "    schedule_function(rebalance, date_rules.week_start(), time_rules.market_open())\n",
    "    # Set the context attributes needed\n",
    "    context.lookback_days = 50 # look back over 50 days for the moving average\n",
    "\n",
    "# Define the rebalance function\n",
    "def rebalance(context, data):\n",
    "    #print(context.get_datetime().date())\n",
    "     \n",
    "    # Get historical data for the assets\n",
    "    historical_data = data.history(context.assets, \"price\", context.lookback_days + 1, \"1d\")\n",
    "    \n",
    "#     # Calculate daily returns\n",
    "    daily_returns = historical_data.pct_change().dropna()\n",
    "    if tmp['i'] == 0:\n",
    "        tmp['t'] = daily_returns\n",
    "        tmp['i'] = 1 + tmp['i']\n",
    "        tmp['date'] = context.get_datetime().date()\n",
    "        \n",
    "#     # Calculate average returns for each asset\n",
    "    avg_returns = daily_returns.mean()\n",
    "    \n",
    "    # Determine portfolio weights proportional to average returns\n",
    "    weights = avg_returns / avg_returns.sum()\n",
    "    \n",
    "    # Place orders\n",
    "    for asset, weight in zip(context.assets, weights):\n",
    "        if data.can_trade(asset):\n",
    "            order_target_percent(asset, weight)\n",
    "            #print(f'ordered {asset}: {weight}')\n",
    "    \n",
    "    # Record some metrics\n",
    "    record(weights=weights)\n",
    "\n",
    "# Define the analyze function (optional)\n",
    "def analyze(context, perf):\n",
    "    # Plot portfolio weights over time\n",
    "    #perf.weights.plot()\n",
    "    pass"
   ]
  },
  {
   "cell_type": "code",
   "execution_count": 55,
   "id": "47e0df4a",
   "metadata": {
    "scrolled": false
   },
   "outputs": [
    {
     "name": "stderr",
     "output_type": "stream",
     "text": [
      "C:\\Program Files\\Anaconda3\\envs\\ml4t\\lib\\site-packages\\empyrical\\stats.py:797: RuntimeWarning: invalid value encountered in true_divide\n",
      "  np.divide(average_annual_return, annualized_downside_risk, out=out)\n",
      "C:\\Program Files\\Anaconda3\\envs\\ml4t\\lib\\site-packages\\empyrical\\stats.py:706: RuntimeWarning: invalid value encountered in true_divide\n",
      "  np.divide(\n",
      "C:\\Program Files\\Anaconda3\\envs\\ml4t\\lib\\site-packages\\empyrical\\stats.py:797: RuntimeWarning: invalid value encountered in true_divide\n",
      "  np.divide(average_annual_return, annualized_downside_risk, out=out)\n",
      "C:\\Program Files\\Anaconda3\\envs\\ml4t\\lib\\site-packages\\empyrical\\stats.py:706: RuntimeWarning: invalid value encountered in true_divide\n",
      "  np.divide(\n"
     ]
    }
   ],
   "source": [
    "tmp = {'i':0}\n",
    "start_date = pd.Timestamp('2020-12-15', tz='UTC')\n",
    "end_date = pd.Timestamp('2023-12-15', tz='UTC')\n",
    "capital_base = 1e7\n",
    "\n",
    "perf = run_algorithm(\n",
    "    start=start_date,\n",
    "    end=end_date,\n",
    "    initialize=initialize,\n",
    "    analyze=analyze,\n",
    "    capital_base=capital_base,\n",
    "    data_frequency='daily',\n",
    "    bundle='thesis1-bundle' \n",
    ")"
   ]
  },
  {
   "cell_type": "code",
   "execution_count": 56,
   "id": "4c4604d3",
   "metadata": {
    "scrolled": true
   },
   "outputs": [],
   "source": [
    "tmp['t'].to_csv('historical_returns.csv')"
   ]
  },
  {
   "cell_type": "code",
   "execution_count": 57,
   "id": "f1a2b9c8",
   "metadata": {},
   "outputs": [
    {
     "name": "stdout",
     "output_type": "stream",
     "text": [
      "Cumulative Returns: -301.6990584224216\n",
      "Annualized Returns: nan\n",
      "Sharpe Ratio: -0.36849101822415037\n",
      "Max Drawdown: -5.321864244063703\n"
     ]
    },
    {
     "name": "stderr",
     "output_type": "stream",
     "text": [
      "C:\\Program Files\\Anaconda3\\envs\\ml4t\\lib\\site-packages\\empyrical\\stats.py:446: RuntimeWarning: invalid value encountered in double_scalars\n",
      "  return ending_value ** (1 / num_years) - 1\n"
     ]
    }
   ],
   "source": [
    "import empyrical as ep\n",
    "\n",
    "# Assuming 'perf' is your DataFrame and it has a 'returns' column\n",
    "\n",
    "# Cumulative returns\n",
    "cumulative_returns = ep.cum_returns_final(perf['returns'])\n",
    "\n",
    "# Annualized returns\n",
    "annualized_returns = ep.annual_return(perf['returns'])\n",
    "\n",
    "# Sharpe ratio\n",
    "sharpe_ratio = ep.sharpe_ratio(perf['returns'])\n",
    "\n",
    "# Max drawdown\n",
    "max_drawdown = ep.max_drawdown(perf['returns'])\n",
    "\n",
    "print(f\"Cumulative Returns: {cumulative_returns}\")\n",
    "print(f\"Annualized Returns: {annualized_returns}\")\n",
    "print(f\"Sharpe Ratio: {sharpe_ratio}\")\n",
    "print(f\"Max Drawdown: {max_drawdown}\")"
   ]
  },
  {
   "cell_type": "code",
   "execution_count": 58,
   "id": "49ddd2f2",
   "metadata": {},
   "outputs": [
    {
     "data": {
      "text/plain": [
       "(50, 5)"
      ]
     },
     "execution_count": 58,
     "metadata": {},
     "output_type": "execute_result"
    }
   ],
   "source": [
    "tmp['t'].shape"
   ]
  },
  {
   "cell_type": "markdown",
   "id": "1e38b863",
   "metadata": {},
   "source": [
    "# The server"
   ]
  },
  {
   "cell_type": "code",
   "execution_count": 60,
   "id": "39ab6b86",
   "metadata": {},
   "outputs": [
    {
     "name": "stdout",
     "output_type": "stream",
     "text": [
      "Collecting flask\n",
      "  Downloading flask-3.0.2-py3-none-any.whl (101 kB)\n",
      "     -------------------------------------- 101.3/101.3 KB 6.1 MB/s eta 0:00:00\n",
      "Requirement already satisfied: importlib-metadata>=3.6.0 in c:\\program files\\anaconda3\\envs\\ml4t\\lib\\site-packages (from flask) (4.11.3)\n",
      "Collecting itsdangerous>=2.1.2\n",
      "  Downloading itsdangerous-2.1.2-py3-none-any.whl (15 kB)\n",
      "Collecting Jinja2>=3.1.2\n",
      "  Downloading Jinja2-3.1.3-py3-none-any.whl (133 kB)\n",
      "     -------------------------------------- 133.2/133.2 KB 7.7 MB/s eta 0:00:00\n",
      "Collecting click>=8.1.3\n",
      "  Downloading click-8.1.7-py3-none-any.whl (97 kB)\n",
      "     ---------------------------------------- 97.9/97.9 KB ? eta 0:00:00\n",
      "Collecting blinker>=1.6.2\n",
      "  Downloading blinker-1.7.0-py3-none-any.whl (13 kB)\n",
      "Collecting Werkzeug>=3.0.0\n",
      "  Downloading werkzeug-3.0.1-py3-none-any.whl (226 kB)\n",
      "     ------------------------------------- 226.7/226.7 KB 14.4 MB/s eta 0:00:00\n",
      "Requirement already satisfied: colorama in c:\\program files\\anaconda3\\envs\\ml4t\\lib\\site-packages (from click>=8.1.3->flask) (0.4.4)\n",
      "Requirement already satisfied: zipp>=0.5 in c:\\program files\\anaconda3\\envs\\ml4t\\lib\\site-packages (from importlib-metadata>=3.6.0->flask) (3.8.0)\n",
      "Requirement already satisfied: MarkupSafe>=2.0 in c:\\program files\\anaconda3\\envs\\ml4t\\lib\\site-packages (from Jinja2>=3.1.2->flask) (2.1.1)\n",
      "Installing collected packages: Werkzeug, Jinja2, itsdangerous, click, blinker, flask\n",
      "  Attempting uninstall: Werkzeug\n",
      "    Found existing installation: Werkzeug 2.1.2\n",
      "    Uninstalling Werkzeug-2.1.2:\n",
      "      Successfully uninstalled Werkzeug-2.1.2\n",
      "  Attempting uninstall: Jinja2\n",
      "    Found existing installation: Jinja2 3.1.1\n",
      "    Uninstalling Jinja2-3.1.1:\n",
      "      Successfully uninstalled Jinja2-3.1.1\n",
      "  Attempting uninstall: click\n",
      "    Found existing installation: click 8.0.4\n",
      "    Uninstalling click-8.0.4:\n",
      "      Successfully uninstalled click-8.0.4\n",
      "  Attempting uninstall: blinker\n",
      "    Found existing installation: blinker 1.4\n",
      "    Uninstalling blinker-1.4:\n",
      "      Successfully uninstalled blinker-1.4\n",
      "Successfully installed Jinja2-3.1.3 Werkzeug-3.0.1 blinker-1.7.0 click-8.1.7 flask-3.0.2 itsdangerous-2.1.2\n"
     ]
    },
    {
     "name": "stderr",
     "output_type": "stream",
     "text": [
      "ERROR: pip's dependency resolver does not currently take into account all the packages that are installed. This behaviour is the source of the following dependency conflicts.\n",
      "pyldavis 3.3.1 requires sklearn, which is not installed.\n",
      "spacy 3.2.4 requires click<8.1.0, but you have click 8.1.7 which is incompatible.\n"
     ]
    }
   ],
   "source": [
    "!pip install flask"
   ]
  },
  {
   "cell_type": "code",
   "execution_count": 59,
   "id": "a420f619",
   "metadata": {},
   "outputs": [
    {
     "ename": "ModuleNotFoundError",
     "evalue": "No module named 'flask'",
     "output_type": "error",
     "traceback": [
      "\u001b[1;31m---------------------------------------------------------------------------\u001b[0m",
      "\u001b[1;31mModuleNotFoundError\u001b[0m                       Traceback (most recent call last)",
      "Input \u001b[1;32mIn [59]\u001b[0m, in \u001b[0;36m<cell line: 1>\u001b[1;34m()\u001b[0m\n\u001b[1;32m----> 1\u001b[0m \u001b[38;5;28;01mfrom\u001b[39;00m \u001b[38;5;21;01mflask\u001b[39;00m \u001b[38;5;28;01mimport\u001b[39;00m Flask, request, jsonify\n\u001b[0;32m      2\u001b[0m \u001b[38;5;28;01mimport\u001b[39;00m \u001b[38;5;21;01mnumpy\u001b[39;00m \u001b[38;5;28;01mas\u001b[39;00m \u001b[38;5;21;01mnp\u001b[39;00m\n\u001b[0;32m      4\u001b[0m app \u001b[38;5;241m=\u001b[39m Flask(\u001b[38;5;18m__name__\u001b[39m)\n",
      "\u001b[1;31mModuleNotFoundError\u001b[0m: No module named 'flask'"
     ]
    }
   ],
   "source": [
    "from flask import Flask, request, jsonify\n",
    "import numpy as np\n",
    "\n",
    "app = Flask(__name__)\n",
    "\n",
    "@app.route('/get_weights', methods=['GET'])\n",
    "def get_vector():\n",
    "    # Extract date-time string from the query parameters\n",
    "    date_time = request.args.get('date_time', None)\n",
    "    \n",
    "    # Simple validation to check if date_time is provided\n",
    "    if not date_time:\n",
    "        return jsonify({\"error\": \"Missing date_time parameter\"}), 400\n",
    "\n",
    "    # For demonstration, generate a random 5-dimensional vector\n",
    "    # Here, you can replace this part with your logic to generate or select a vector based on the date_time\n",
    "    vector = np.random.rand(5).tolist()\n",
    "\n",
    "    # Return the vector as JSON\n",
    "    return jsonify({\"date_time\": date_time, \"vector\": vector})"
   ]
  },
  {
   "cell_type": "code",
   "execution_count": null,
   "id": "cc0338d7",
   "metadata": {},
   "outputs": [],
   "source": []
  }
 ],
 "metadata": {
  "kernelspec": {
   "display_name": "Python 3 (ipykernel)",
   "language": "python",
   "name": "python3"
  },
  "language_info": {
   "codemirror_mode": {
    "name": "ipython",
    "version": 3
   },
   "file_extension": ".py",
   "mimetype": "text/x-python",
   "name": "python",
   "nbconvert_exporter": "python",
   "pygments_lexer": "ipython3",
   "version": "3.8.13"
  }
 },
 "nbformat": 4,
 "nbformat_minor": 5
}
