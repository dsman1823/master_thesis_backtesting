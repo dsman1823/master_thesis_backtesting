{
 "cells": [
  {
   "cell_type": "code",
   "execution_count": 10,
   "id": "034a3a21",
   "metadata": {},
   "outputs": [],
   "source": [
    "from zipline.api import order_target_percent, record, symbol, schedule_function, date_rules, order\n",
    "from zipline.api import set_commission, commission, set_slippage, slippage\n",
    "from zipline import run_algorithm\n",
    "from zipline.utils.events import time_rules\n",
    "\n",
    "import pandas as pd\n",
    "import numpy as np\n",
    "\n",
    "import requests\n",
    "from datetime import datetime"
   ]
  },
  {
   "cell_type": "code",
   "execution_count": 4,
   "id": "308a0656",
   "metadata": {},
   "outputs": [],
   "source": [
    "RETS_FILE_PATH = 'historical_returns.csv'"
   ]
  },
  {
   "cell_type": "code",
   "execution_count": 5,
   "id": "41e0801d",
   "metadata": {},
   "outputs": [],
   "source": [
    "def get_weights_for_date(date):\n",
    "  \n",
    "    # The base URL of your Flask application\n",
    "    base_url = \"http://localhost:5000/get_weights\"\n",
    "    \n",
    "    # Prepare the query parameters\n",
    "    params = {'date': str(date)}\n",
    "    \n",
    "    try:\n",
    "        # Sending a GET request to the endpoint\n",
    "        response = requests.get(base_url, params=params)\n",
    "        \n",
    "        # Check if the request was successful\n",
    "        if response.status_code == 200:\n",
    "            # Parse the JSON response\n",
    "            data = response.json()\n",
    "            return data.get('weights')\n",
    "        else:\n",
    "            # Handle possible errors (e.g., invalid date format, missing date parameter)\n",
    "            print(f\"Error: {response.json()['error']}\")\n",
    "    except Exception as e:\n",
    "        print(f\"An error occurred: {e}\")"
   ]
  },
  {
   "cell_type": "code",
   "execution_count": 30,
   "id": "4d932b07",
   "metadata": {},
   "outputs": [],
   "source": [
    "# Define the initialize function\n",
    "def initialize(context):\n",
    "    # Per-share commission model ($0.005 per share)\n",
    "    set_commission(commission.PerShare(cost=0.005, min_trade_cost=None))\n",
    "    # Slippage model: Assuming 0.05% slippage per trade\n",
    "    #set_slippage(slippage.VolumeShareSlippage(volume_limit=0.025, price_impact=0.0005))\n",
    "\n",
    "    \n",
    "    context.tickers = ['VWO', 'SPY', 'VNQ', 'LQD', 'DBC']\n",
    "    context.assets = [symbol(ticker) for ticker in context.tickers]\n",
    "    \n",
    "    # Schedule the rebalance function to run every Monday at market open\n",
    "    schedule_function(rebalance, date_rules.week_start(), time_rules.market_open())\n",
    "    # Set the context attributes needed\n",
    "    context.lookback_days = 50 # look back over 50 days for the moving average\n",
    "\n",
    "# Define the rebalance function\n",
    "def rebalance(context, data):\n",
    "    #print(context.get_datetime().date())\n",
    "     \n",
    "    # Get historical data for the assets\n",
    "    historical_data = data.history(context.assets, \"price\", context.lookback_days + 1, \"1d\")\n",
    "    \n",
    "#     # Calculate daily returns\n",
    "    daily_returns = historical_data.pct_change().dropna()\n",
    "    daily_returns.to_csv(RETS_FILE_PATH)\n",
    "    current_date = context.get_datetime().date()\n",
    "    \n",
    "    print(f'Handling {current_date}')\n",
    "    \n",
    "    weights = get_weights_for_date(current_date)\n",
    "    \n",
    "    # Place orders\n",
    "    for asset, weight in zip(context.assets, weights):\n",
    "        if data.can_trade(asset):\n",
    "            order_target_percent(asset, weight)\n",
    "            #print(f'ordered {asset}: {weight}')\n",
    "    \n",
    "    # Record some metrics\n",
    "    record(weights=weights)\n",
    "\n",
    "# Define the analyze function (optional)\n",
    "def analyze(context, perf):\n",
    "    # Plot portfolio weights over time\n",
    "    #perf.weights.plot()\n",
    "    pass"
   ]
  },
  {
   "cell_type": "code",
   "execution_count": 31,
   "id": "47e0df4a",
   "metadata": {
    "scrolled": true
   },
   "outputs": [
    {
     "name": "stderr",
     "output_type": "stream",
     "text": [
      "C:\\Users\\seidm\\miniconda3\\envs\\ml4t\\lib\\site-packages\\empyrical\\stats.py:706: RuntimeWarning: invalid value encountered in true_divide\n",
      "  np.divide(\n",
      "C:\\Users\\seidm\\miniconda3\\envs\\ml4t\\lib\\site-packages\\empyrical\\stats.py:797: RuntimeWarning: invalid value encountered in true_divide\n",
      "  np.divide(average_annual_return, annualized_downside_risk, out=out)\n"
     ]
    },
    {
     "name": "stdout",
     "output_type": "stream",
     "text": [
      "Handling 2020-12-21\n"
     ]
    },
    {
     "name": "stderr",
     "output_type": "stream",
     "text": [
      "C:\\Users\\seidm\\miniconda3\\envs\\ml4t\\lib\\site-packages\\empyrical\\stats.py:706: RuntimeWarning: invalid value encountered in true_divide\n",
      "  np.divide(\n",
      "C:\\Users\\seidm\\miniconda3\\envs\\ml4t\\lib\\site-packages\\empyrical\\stats.py:797: RuntimeWarning: invalid value encountered in true_divide\n",
      "  np.divide(average_annual_return, annualized_downside_risk, out=out)\n"
     ]
    },
    {
     "name": "stdout",
     "output_type": "stream",
     "text": [
      "Handling 2020-12-28\n",
      "Handling 2021-01-04\n",
      "Handling 2021-01-11\n",
      "Handling 2021-01-19\n",
      "Handling 2021-01-25\n",
      "Handling 2021-02-01\n",
      "Handling 2021-02-08\n",
      "Handling 2021-02-16\n",
      "Handling 2021-02-22\n",
      "Handling 2021-03-01\n",
      "Handling 2021-03-08\n",
      "Handling 2021-03-15\n",
      "Handling 2021-03-22\n",
      "Handling 2021-03-29\n",
      "Handling 2021-04-05\n",
      "Handling 2021-04-12\n",
      "Handling 2021-04-19\n",
      "Handling 2021-04-26\n",
      "Handling 2021-05-03\n",
      "Handling 2021-05-10\n",
      "Handling 2021-05-17\n",
      "Handling 2021-05-24\n",
      "Handling 2021-06-01\n",
      "Handling 2021-06-07\n",
      "Handling 2021-06-14\n",
      "Handling 2021-06-21\n",
      "Handling 2021-06-28\n",
      "Handling 2021-07-06\n",
      "Handling 2021-07-12\n",
      "Handling 2021-07-19\n",
      "Handling 2021-07-26\n",
      "Handling 2021-08-02\n",
      "Handling 2021-08-09\n",
      "Handling 2021-08-16\n",
      "Handling 2021-08-23\n",
      "Handling 2021-08-30\n",
      "Handling 2021-09-07\n",
      "Handling 2021-09-13\n",
      "Handling 2021-09-20\n",
      "Handling 2021-09-27\n",
      "Handling 2021-10-04\n",
      "Handling 2021-10-11\n",
      "Handling 2021-10-18\n",
      "Handling 2021-10-25\n",
      "Handling 2021-11-01\n",
      "Handling 2021-11-08\n",
      "Handling 2021-11-15\n",
      "Handling 2021-11-22\n",
      "Handling 2021-11-29\n",
      "Handling 2021-12-06\n",
      "Handling 2021-12-13\n",
      "Handling 2021-12-20\n",
      "Handling 2021-12-27\n",
      "Handling 2022-01-03\n",
      "Handling 2022-01-10\n",
      "Handling 2022-01-18\n",
      "Handling 2022-01-24\n",
      "Handling 2022-01-31\n",
      "Handling 2022-02-07\n",
      "Handling 2022-02-14\n",
      "Handling 2022-02-22\n",
      "Handling 2022-02-28\n",
      "Handling 2022-03-07\n",
      "Handling 2022-03-14\n",
      "Handling 2022-03-21\n",
      "Handling 2022-03-28\n",
      "Handling 2022-04-04\n",
      "Handling 2022-04-11\n",
      "Handling 2022-04-18\n",
      "Handling 2022-04-25\n",
      "Handling 2022-05-02\n",
      "Handling 2022-05-09\n",
      "Handling 2022-05-16\n",
      "Handling 2022-05-23\n",
      "Handling 2022-05-31\n",
      "Handling 2022-06-06\n",
      "Handling 2022-06-13\n",
      "Handling 2022-06-20\n",
      "Handling 2022-06-27\n",
      "Handling 2022-07-05\n",
      "Handling 2022-07-11\n",
      "Handling 2022-07-18\n",
      "Handling 2022-07-25\n",
      "Handling 2022-08-01\n",
      "Handling 2022-08-08\n",
      "Handling 2022-08-15\n",
      "Handling 2022-08-22\n",
      "Handling 2022-08-29\n",
      "Handling 2022-09-06\n",
      "Handling 2022-09-12\n",
      "Handling 2022-09-19\n",
      "Handling 2022-09-26\n",
      "Handling 2022-10-03\n",
      "Handling 2022-10-10\n",
      "Handling 2022-10-17\n",
      "Handling 2022-10-24\n",
      "Handling 2022-10-31\n",
      "Handling 2022-11-07\n",
      "Handling 2022-11-14\n",
      "Handling 2022-11-21\n",
      "Handling 2022-11-28\n",
      "Handling 2022-12-05\n",
      "Handling 2022-12-12\n",
      "Handling 2022-12-19\n",
      "Handling 2022-12-27\n",
      "Handling 2023-01-03\n",
      "Handling 2023-01-09\n",
      "Handling 2023-01-17\n",
      "Handling 2023-01-23\n",
      "Handling 2023-01-30\n",
      "Handling 2023-02-06\n",
      "Handling 2023-02-13\n",
      "Handling 2023-02-21\n",
      "Handling 2023-02-27\n",
      "Handling 2023-03-06\n",
      "Handling 2023-03-13\n",
      "Handling 2023-03-20\n",
      "Handling 2023-03-27\n",
      "Handling 2023-04-03\n",
      "Handling 2023-04-10\n",
      "Handling 2023-04-17\n",
      "Handling 2023-04-24\n",
      "Handling 2023-05-01\n",
      "Handling 2023-05-08\n",
      "Handling 2023-05-15\n",
      "Handling 2023-05-22\n",
      "Handling 2023-05-30\n",
      "Handling 2023-06-05\n",
      "Handling 2023-06-12\n",
      "Handling 2023-06-19\n",
      "Handling 2023-06-26\n",
      "Handling 2023-07-03\n",
      "Handling 2023-07-10\n",
      "Handling 2023-07-17\n",
      "Handling 2023-07-24\n",
      "Handling 2023-07-31\n",
      "Handling 2023-08-07\n",
      "Handling 2023-08-14\n",
      "Handling 2023-08-21\n",
      "Handling 2023-08-28\n",
      "Handling 2023-09-05\n",
      "Handling 2023-09-11\n",
      "Handling 2023-09-18\n",
      "Handling 2023-09-25\n",
      "Handling 2023-10-02\n",
      "Handling 2023-10-09\n",
      "Handling 2023-10-16\n",
      "Handling 2023-10-23\n",
      "Handling 2023-10-30\n",
      "Handling 2023-11-06\n",
      "Handling 2023-11-13\n",
      "Handling 2023-11-20\n",
      "Handling 2023-11-27\n",
      "Handling 2023-12-04\n",
      "Handling 2023-12-11\n"
     ]
    }
   ],
   "source": [
    "\n",
    "start_date = pd.Timestamp('2020-12-15', tz='UTC')\n",
    "end_date = pd.Timestamp('2023-12-15', tz='UTC') # 2023\n",
    "capital_base = 1e7\n",
    "\n",
    "perf = run_algorithm(\n",
    "    start=start_date,\n",
    "    end=end_date,\n",
    "    initialize=initialize,\n",
    "    analyze=analyze,\n",
    "    capital_base=capital_base,\n",
    "    data_frequency='daily',\n",
    "    bundle='thesis1' \n",
    ")"
   ]
  },
  {
   "cell_type": "code",
   "execution_count": 34,
   "id": "407151a0",
   "metadata": {},
   "outputs": [],
   "source": [
    "LINEAR_OSHARPE = 'linear_osharpe'\n",
    "SPY = 'SPY'\n",
    "perf.to_csv(fr'..\\analytics\\perfs\\{LINEAR_OSHARPE}_perf.csv')"
   ]
  },
  {
   "cell_type": "markdown",
   "id": "4d000600",
   "metadata": {},
   "source": [
    "# Analytics"
   ]
  },
  {
   "cell_type": "code",
   "execution_count": 32,
   "id": "2a5908a0",
   "metadata": {},
   "outputs": [
    {
     "data": {
      "image/png": "[encoded data removed]",
      "text/plain": [
       "<Figure size 720x432 with 1 Axes>"
      ]
     },
     "metadata": {
      "needs_background": "light"
     },
     "output_type": "display_data"
    }
   ],
   "source": [
    "import pandas as pd\n",
    "import matplotlib.pyplot as plt\n",
    "\n",
    "# Step 1: Calculate Cumulative Returns\n",
    "# Assuming `perf` has a column 'returns' for daily returns\n",
    "cumulative_returns = (1 + perf['returns']).cumprod() - 1\n",
    "\n",
    "# Step 2: Plot the Cumulative Returns\n",
    "plt.figure(figsize=(10, 6))\n",
    "cumulative_returns.plot()\n",
    "\n",
    "plt.title('Cumulative Returns over Time')\n",
    "plt.xlabel('Date')\n",
    "plt.ylabel('Cumulative Returns')\n",
    "plt.grid(True)\n",
    "plt.show()"
   ]
  },
  {
   "cell_type": "code",
   "execution_count": 33,
   "id": "f1a2b9c8",
   "metadata": {},
   "outputs": [
    {
     "name": "stdout",
     "output_type": "stream",
     "text": [
      "mean_returns: 0.0005574227994609832\n",
      "std: 0.010097592646310289\n",
      "Cumulative Returns: 0.46429407497349784\n",
      "Annualized Returns: 0.13517747170407723\n",
      "Sharpe Ratio: 0.8734289268810499\n",
      "Max Drawdown: -0.31979454052990164\n"
     ]
    }
   ],
   "source": [
    "import empyrical as ep\n",
    "\n",
    "# Assuming 'perf' is your DataFrame and it has a 'returns' column\n",
    "\n",
    "# Cumulative returns\n",
    "cumulative_returns = ep.cum_returns_final(perf['returns'])\n",
    "\n",
    "# Annualized returns\n",
    "annualized_returns = ep.annual_return(perf['returns'])\n",
    "\n",
    "# Sharpe ratio\n",
    "sharpe_ratio = ep.sharpe_ratio(perf['returns'])\n",
    "\n",
    "# Max drawdown\n",
    "max_drawdown = ep.max_drawdown(perf['returns'])\n",
    "\n",
    "print(f\"mean_returns: {perf[perf['returns'] != 0]['returns'].mean()}\")\n",
    "print(f\"std: {perf[perf['returns'] != 0]['returns'].std()}\")\n",
    "\n",
    "print(f\"Cumulative Returns: {cumulative_returns}\")\n",
    "print(f\"Annualized Returns: {annualized_returns}\")\n",
    "print(f\"Sharpe Ratio: {sharpe_ratio}\")\n",
    "print(f\"Max Drawdown: {max_drawdown}\")\n"
   ]
  },
  {
   "cell_type": "code",
   "execution_count": 97,
   "id": "49ddd2f2",
   "metadata": {},
   "outputs": [
    {
     "ename": "KeyError",
     "evalue": "'t'",
     "output_type": "error",
     "traceback": [
      "\u001b[1;31m---------------------------------------------------------------------------\u001b[0m",
      "\u001b[1;31mKeyError\u001b[0m                                  Traceback (most recent call last)",
      "Input \u001b[1;32mIn [97]\u001b[0m, in \u001b[0;36m<cell line: 1>\u001b[1;34m()\u001b[0m\n\u001b[1;32m----> 1\u001b[0m \u001b[43mtmp\u001b[49m\u001b[43m[\u001b[49m\u001b[38;5;124;43m'\u001b[39;49m\u001b[38;5;124;43mt\u001b[39;49m\u001b[38;5;124;43m'\u001b[39;49m\u001b[43m]\u001b[49m\u001b[38;5;241m.\u001b[39mshape\n",
      "\u001b[1;31mKeyError\u001b[0m: 't'"
     ]
    }
   ],
   "source": [
    "tmp['t'].shape"
   ]
  },
  {
   "cell_type": "markdown",
   "id": "1e38b863",
   "metadata": {},
   "source": [
    "# The server"
   ]
  },
  {
   "cell_type": "code",
   "execution_count": 60,
   "id": "39ab6b86",
   "metadata": {},
   "outputs": [
    {
     "name": "stdout",
     "output_type": "stream",
     "text": [
      "Collecting flask\n",
      "  Downloading flask-3.0.2-py3-none-any.whl (101 kB)\n",
      "     -------------------------------------- 101.3/101.3 KB 6.1 MB/s eta 0:00:00\n",
      "Requirement already satisfied: importlib-metadata>=3.6.0 in c:\\program files\\anaconda3\\envs\\ml4t\\lib\\site-packages (from flask) (4.11.3)\n",
      "Collecting itsdangerous>=2.1.2\n",
      "  Downloading itsdangerous-2.1.2-py3-none-any.whl (15 kB)\n",
      "Collecting Jinja2>=3.1.2\n",
      "  Downloading Jinja2-3.1.3-py3-none-any.whl (133 kB)\n",
      "     -------------------------------------- 133.2/133.2 KB 7.7 MB/s eta 0:00:00\n",
      "Collecting click>=8.1.3\n",
      "  Downloading click-8.1.7-py3-none-any.whl (97 kB)\n",
      "     ---------------------------------------- 97.9/97.9 KB ? eta 0:00:00\n",
      "Collecting blinker>=1.6.2\n",
      "  Downloading blinker-1.7.0-py3-none-any.whl (13 kB)\n",
      "Collecting Werkzeug>=3.0.0\n",
      "  Downloading werkzeug-3.0.1-py3-none-any.whl (226 kB)\n",
      "     ------------------------------------- 226.7/226.7 KB 14.4 MB/s eta 0:00:00\n",
      "Requirement already satisfied: colorama in c:\\program files\\anaconda3\\envs\\ml4t\\lib\\site-packages (from click>=8.1.3->flask) (0.4.4)\n",
      "Requirement already satisfied: zipp>=0.5 in c:\\program files\\anaconda3\\envs\\ml4t\\lib\\site-packages (from importlib-metadata>=3.6.0->flask) (3.8.0)\n",
      "Requirement already satisfied: MarkupSafe>=2.0 in c:\\program files\\anaconda3\\envs\\ml4t\\lib\\site-packages (from Jinja2>=3.1.2->flask) (2.1.1)\n",
      "Installing collected packages: Werkzeug, Jinja2, itsdangerous, click, blinker, flask\n",
      "  Attempting uninstall: Werkzeug\n",
      "    Found existing installation: Werkzeug 2.1.2\n",
      "    Uninstalling Werkzeug-2.1.2:\n",
      "      Successfully uninstalled Werkzeug-2.1.2\n",
      "  Attempting uninstall: Jinja2\n",
      "    Found existing installation: Jinja2 3.1.1\n",
      "    Uninstalling Jinja2-3.1.1:\n",
      "      Successfully uninstalled Jinja2-3.1.1\n",
      "  Attempting uninstall: click\n",
      "    Found existing installation: click 8.0.4\n",
      "    Uninstalling click-8.0.4:\n",
      "      Successfully uninstalled click-8.0.4\n",
      "  Attempting uninstall: blinker\n",
      "    Found existing installation: blinker 1.4\n",
      "    Uninstalling blinker-1.4:\n",
      "      Successfully uninstalled blinker-1.4\n",
      "Successfully installed Jinja2-3.1.3 Werkzeug-3.0.1 blinker-1.7.0 click-8.1.7 flask-3.0.2 itsdangerous-2.1.2\n"
     ]
    },
    {
     "name": "stderr",
     "output_type": "stream",
     "text": [
      "ERROR: pip's dependency resolver does not currently take into account all the packages that are installed. This behaviour is the source of the following dependency conflicts.\n",
      "pyldavis 3.3.1 requires sklearn, which is not installed.\n",
      "spacy 3.2.4 requires click<8.1.0, but you have click 8.1.7 which is incompatible.\n"
     ]
    }
   ],
   "source": [
    "!pip install flask"
   ]
  },
  {
   "cell_type": "code",
   "execution_count": 59,
   "id": "a420f619",
   "metadata": {},
   "outputs": [
    {
     "ename": "ModuleNotFoundError",
     "evalue": "No module named 'flask'",
     "output_type": "error",
     "traceback": [
      "\u001b[1;31m---------------------------------------------------------------------------\u001b[0m",
      "\u001b[1;31mModuleNotFoundError\u001b[0m                       Traceback (most recent call last)",
      "Input \u001b[1;32mIn [59]\u001b[0m, in \u001b[0;36m<cell line: 1>\u001b[1;34m()\u001b[0m\n\u001b[1;32m----> 1\u001b[0m \u001b[38;5;28;01mfrom\u001b[39;00m \u001b[38;5;21;01mflask\u001b[39;00m \u001b[38;5;28;01mimport\u001b[39;00m Flask, request, jsonify\n\u001b[0;32m      2\u001b[0m \u001b[38;5;28;01mimport\u001b[39;00m \u001b[38;5;21;01mnumpy\u001b[39;00m \u001b[38;5;28;01mas\u001b[39;00m \u001b[38;5;21;01mnp\u001b[39;00m\n\u001b[0;32m      4\u001b[0m app \u001b[38;5;241m=\u001b[39m Flask(\u001b[38;5;18m__name__\u001b[39m)\n",
      "\u001b[1;31mModuleNotFoundError\u001b[0m: No module named 'flask'"
     ]
    }
   ],
   "source": [
    "from flask import Flask, request, jsonify\n",
    "import numpy as np\n",
    "\n",
    "app = Flask(__name__)\n",
    "\n",
    "@app.route('/get_weights', methods=['GET'])\n",
    "def get_vector():\n",
    "    # Extract date-time string from the query parameters\n",
    "    date_time = request.args.get('date_time', None)\n",
    "    \n",
    "    # Simple validation to check if date_time is provided\n",
    "    if not date_time:\n",
    "        return jsonify({\"error\": \"Missing date_time parameter\"}), 400\n",
    "\n",
    "    # For demonstration, generate a random 5-dimensional vector\n",
    "    # Here, you can replace this part with your logic to generate or select a vector based on the date_time\n",
    "    vector = np.random.rand(5).tolist()\n",
    "\n",
    "    # Return the vector as JSON\n",
    "    return jsonify({\"date_time\": date_time, \"vector\": vector})"
   ]
  },
  {
   "cell_type": "code",
   "execution_count": null,
   "id": "cc0338d7",
   "metadata": {},
   "outputs": [],
   "source": []
  }
 ],
 "metadata": {
  "kernelspec": {
   "display_name": "Python 3 (ipykernel)",
   "language": "python",
   "name": "python3"
  },
  "language_info": {
   "codemirror_mode": {
    "name": "ipython",
    "version": 3
   },
   "file_extension": ".py",
   "mimetype": "text/x-python",
   "name": "python",
   "nbconvert_exporter": "python",
   "pygments_lexer": "ipython3",
   "version": "3.8.13"
  }
 },
 "nbformat": 4,
 "nbformat_minor": 5
}
