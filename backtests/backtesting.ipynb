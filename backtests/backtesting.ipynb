{
 "cells": [
  {
   "cell_type": "code",
   "execution_count": 7,
   "id": "034a3a21",
   "metadata": {},
   "outputs": [],
   "source": [
    "from zipline.api import order_target_percent, record, symbol, schedule_function, date_rules, order\n",
    "from zipline.api import set_commission, commission, set_slippage, slippage\n",
    "from zipline import run_algorithm\n",
    "from zipline.utils.events import time_rules\n",
    "\n",
    "import pandas as pd\n",
    "import numpy as np\n",
    "\n",
    "import requests\n",
    "from datetime import datetime\n",
    "from zipline.api import set_commission, set_slippage\n",
    "from zipline.finance.commission import PerShare, PerDollar\n",
    "from zipline.finance.slippage import VolumeShareSlippage"
   ]
  },
  {
   "cell_type": "code",
   "execution_count": 8,
   "id": "308a0656",
   "metadata": {},
   "outputs": [],
   "source": [
    "RETS_FILE_PATH = 'historical_returns.csv'"
   ]
  },
  {
   "cell_type": "code",
   "execution_count": 9,
   "id": "41e0801d",
   "metadata": {},
   "outputs": [],
   "source": [
    "def get_weights_for_date(date):\n",
    "  \n",
    "    # The base URL of your Flask application\n",
    "    base_url = \"http://localhost:5000/get_weights\"\n",
    "    \n",
    "    # Prepare the query parameters\n",
    "    params = {'date': str(date)}\n",
    "    \n",
    "    try:\n",
    "        # Sending a GET request to the endpoint\n",
    "        response = requests.get(base_url, params=params)\n",
    "        \n",
    "        # Check if the request was successful\n",
    "        if response.status_code == 200:\n",
    "            # Parse the JSON response\n",
    "            data = response.json()\n",
    "            return data.get('weights')\n",
    "        else:\n",
    "            # Handle possible errors (e.g., invalid date format, missing date parameter)\n",
    "            print(f\"Error: {response.json()['error']}\")\n",
    "    except Exception as e:\n",
    "        print(f\"An error occurred: {e}\")"
   ]
  },
  {
   "cell_type": "code",
   "execution_count": 39,
   "id": "4d932b07",
   "metadata": {},
   "outputs": [],
   "source": [
    "# Define the initialize function\n",
    "def initialize(context):\n",
    "\n",
    "        # Set the commission model\n",
    "    #set_commission(PerDollar(cost=0.0001))\n",
    "    set_commission(PerDollar(cost=0))\n",
    "    \n",
    "    # Set the slippage model\n",
    "    # VolumeShareSlippage takes 'volume_limit' and 'price_impact' as parameters\n",
    "    # 'volume_limit' is the fraction of a bar's volume that your order can take up\n",
    "    # 'price_impact' is the impact your order has on the price per share for each share traded\n",
    "    #set_slippage(VolumeShareSlippage(volume_limit=0.025, price_impact=0.01))\n",
    "    \n",
    "    # Slippage model: Assuming 0.05% slippage per trade\n",
    "    #set_slippage(slippage.VolumeShareSlippage(volume_limit=0.025, price_impact=0.0005))\n",
    "\n",
    "    \n",
    "    context.tickers = ['VWO', 'SPY', 'VNQ', 'LQD', 'DBC']\n",
    "    context.assets = [symbol(ticker) for ticker in context.tickers]\n",
    "    \n",
    "    # Schedule the rebalance function to run every Monday at market open\n",
    "    schedule_function(rebalance, date_rules.week_start(), time_rules.market_open())\n",
    "    # Set the context attributes needed\n",
    "    context.lookback_days = 50 # look back over 50 days for the moving average\n",
    "\n",
    "# Define the rebalance function\n",
    "def rebalance(context, data):\n",
    "    #print(context.get_datetime().date())\n",
    "     \n",
    "    # Get historical data for the assets\n",
    "    historical_data = data.history(context.assets, \"price\", context.lookback_days + 1, \"1d\")\n",
    "    \n",
    "#     # Calculate daily returns\n",
    "    daily_returns = historical_data.pct_change().dropna()\n",
    "    daily_returns.to_csv(RETS_FILE_PATH)\n",
    "    current_date = context.get_datetime().date()\n",
    "    \n",
    "    print(f'Handling {current_date}')\n",
    "    \n",
    "    weights = get_weights_for_date(current_date)\n",
    "    \n",
    "    # Place orders\n",
    "    for asset, weight in zip(context.assets, weights):\n",
    "        if data.can_trade(asset):\n",
    "            order_target_percent(asset, weight)\n",
    "            #print(f'ordered {asset}: {weight}')\n",
    "    \n",
    "    # Record some metrics\n",
    "    record(weights=weights)\n",
    "\n",
    "# Define the analyze function (optional)\n",
    "def analyze(context, perf):\n",
    "    # Plot portfolio weights over time\n",
    "    #perf.weights.plot()\n",
    "    pass"
   ]
  },
  {
   "cell_type": "code",
   "execution_count": 40,
   "id": "47e0df4a",
   "metadata": {
    "scrolled": true
   },
   "outputs": [
    {
     "name": "stderr",
     "output_type": "stream",
     "text": [
      "C:\\Users\\seidm\\miniconda3\\envs\\ml4t\\lib\\site-packages\\empyrical\\stats.py:797: RuntimeWarning: invalid value encountered in true_divide\n",
      "  np.divide(average_annual_return, annualized_downside_risk, out=out)\n",
      "C:\\Users\\seidm\\miniconda3\\envs\\ml4t\\lib\\site-packages\\empyrical\\stats.py:706: RuntimeWarning: invalid value encountered in true_divide\n",
      "  np.divide(\n"
     ]
    },
    {
     "name": "stdout",
     "output_type": "stream",
     "text": [
      "Handling 2020-12-21\n"
     ]
    },
    {
     "name": "stderr",
     "output_type": "stream",
     "text": [
      "C:\\Users\\seidm\\miniconda3\\envs\\ml4t\\lib\\site-packages\\empyrical\\stats.py:797: RuntimeWarning: invalid value encountered in true_divide\n",
      "  np.divide(average_annual_return, annualized_downside_risk, out=out)\n",
      "C:\\Users\\seidm\\miniconda3\\envs\\ml4t\\lib\\site-packages\\empyrical\\stats.py:706: RuntimeWarning: invalid value encountered in true_divide\n",
      "  np.divide(\n"
     ]
    },
    {
     "name": "stdout",
     "output_type": "stream",
     "text": [
      "Handling 2020-12-28\n",
      "Handling 2021-01-04\n",
      "Handling 2021-01-11\n",
      "Handling 2021-01-19\n",
      "Handling 2021-01-25\n",
      "Handling 2021-02-01\n",
      "Handling 2021-02-08\n",
      "Handling 2021-02-16\n",
      "Handling 2021-02-22\n",
      "Handling 2021-03-01\n",
      "Handling 2021-03-08\n",
      "Handling 2021-03-15\n",
      "Handling 2021-03-22\n",
      "Handling 2021-03-29\n",
      "Handling 2021-04-05\n",
      "Handling 2021-04-12\n",
      "Handling 2021-04-19\n",
      "Handling 2021-04-26\n",
      "Handling 2021-05-03\n",
      "Handling 2021-05-10\n",
      "Handling 2021-05-17\n",
      "Handling 2021-05-24\n",
      "Handling 2021-06-01\n",
      "Handling 2021-06-07\n",
      "Handling 2021-06-14\n",
      "Handling 2021-06-21\n",
      "Handling 2021-06-28\n",
      "Handling 2021-07-06\n",
      "Handling 2021-07-12\n",
      "Handling 2021-07-19\n",
      "Handling 2021-07-26\n",
      "Handling 2021-08-02\n",
      "Handling 2021-08-09\n",
      "Handling 2021-08-16\n",
      "Handling 2021-08-23\n",
      "Handling 2021-08-30\n",
      "Handling 2021-09-07\n",
      "Handling 2021-09-13\n",
      "Handling 2021-09-20\n",
      "Handling 2021-09-27\n",
      "Handling 2021-10-04\n",
      "Handling 2021-10-11\n",
      "Handling 2021-10-18\n",
      "Handling 2021-10-25\n",
      "Handling 2021-11-01\n",
      "Handling 2021-11-08\n",
      "Handling 2021-11-15\n",
      "Handling 2021-11-22\n",
      "Handling 2021-11-29\n",
      "Handling 2021-12-06\n",
      "Handling 2021-12-13\n",
      "Handling 2021-12-20\n",
      "Handling 2021-12-27\n",
      "Handling 2022-01-03\n",
      "Handling 2022-01-10\n",
      "Handling 2022-01-18\n",
      "Handling 2022-01-24\n",
      "Handling 2022-01-31\n",
      "Handling 2022-02-07\n",
      "Handling 2022-02-14\n",
      "Handling 2022-02-22\n",
      "Handling 2022-02-28\n",
      "Handling 2022-03-07\n",
      "Handling 2022-03-14\n",
      "Handling 2022-03-21\n",
      "Handling 2022-03-28\n",
      "Handling 2022-04-04\n",
      "Handling 2022-04-11\n",
      "Handling 2022-04-18\n",
      "Handling 2022-04-25\n",
      "Handling 2022-05-02\n",
      "Handling 2022-05-09\n",
      "Handling 2022-05-16\n",
      "Handling 2022-05-23\n",
      "Handling 2022-05-31\n",
      "Handling 2022-06-06\n",
      "Handling 2022-06-13\n",
      "Handling 2022-06-20\n",
      "Handling 2022-06-27\n",
      "Handling 2022-07-05\n",
      "Handling 2022-07-11\n",
      "Handling 2022-07-18\n",
      "Handling 2022-07-25\n",
      "Handling 2022-08-01\n",
      "Handling 2022-08-08\n",
      "Handling 2022-08-15\n",
      "Handling 2022-08-22\n",
      "Handling 2022-08-29\n",
      "Handling 2022-09-06\n",
      "Handling 2022-09-12\n",
      "Handling 2022-09-19\n",
      "Handling 2022-09-26\n",
      "Handling 2022-10-03\n",
      "Handling 2022-10-10\n",
      "Handling 2022-10-17\n",
      "Handling 2022-10-24\n",
      "Handling 2022-10-31\n",
      "Handling 2022-11-07\n",
      "Handling 2022-11-14\n",
      "Handling 2022-11-21\n",
      "Handling 2022-11-28\n",
      "Handling 2022-12-05\n",
      "Handling 2022-12-12\n",
      "Handling 2022-12-19\n",
      "Handling 2022-12-27\n",
      "Handling 2023-01-03\n",
      "Handling 2023-01-09\n",
      "Handling 2023-01-17\n",
      "Handling 2023-01-23\n",
      "Handling 2023-01-30\n",
      "Handling 2023-02-06\n",
      "Handling 2023-02-13\n",
      "Handling 2023-02-21\n",
      "Handling 2023-02-27\n",
      "Handling 2023-03-06\n",
      "Handling 2023-03-13\n",
      "Handling 2023-03-20\n",
      "Handling 2023-03-27\n",
      "Handling 2023-04-03\n",
      "Handling 2023-04-10\n",
      "Handling 2023-04-17\n",
      "Handling 2023-04-24\n",
      "Handling 2023-05-01\n",
      "Handling 2023-05-08\n",
      "Handling 2023-05-15\n",
      "Handling 2023-05-22\n",
      "Handling 2023-05-30\n",
      "Handling 2023-06-05\n",
      "Handling 2023-06-12\n",
      "Handling 2023-06-19\n",
      "Handling 2023-06-26\n",
      "Handling 2023-07-03\n",
      "Handling 2023-07-10\n",
      "Handling 2023-07-17\n",
      "Handling 2023-07-24\n",
      "Handling 2023-07-31\n",
      "Handling 2023-08-07\n",
      "Handling 2023-08-14\n",
      "Handling 2023-08-21\n",
      "Handling 2023-08-28\n",
      "Handling 2023-09-05\n",
      "Handling 2023-09-11\n",
      "Handling 2023-09-18\n",
      "Handling 2023-09-25\n",
      "Handling 2023-10-02\n",
      "Handling 2023-10-09\n",
      "Handling 2023-10-16\n",
      "Handling 2023-10-23\n",
      "Handling 2023-10-30\n",
      "Handling 2023-11-06\n",
      "Handling 2023-11-13\n",
      "Handling 2023-11-20\n",
      "Handling 2023-11-27\n",
      "Handling 2023-12-04\n",
      "Handling 2023-12-11\n"
     ]
    }
   ],
   "source": [
    "start_date = pd.Timestamp('2020-12-15', tz='UTC')\n",
    "end_date = pd.Timestamp('2023-12-15', tz='UTC') # 2023\n",
    "capital_base = 1e7\n",
    "\n",
    "perf = run_algorithm(\n",
    "    start=start_date,\n",
    "    end=end_date,\n",
    "    initialize=initialize,\n",
    "    analyze=analyze,\n",
    "    capital_base=capital_base,\n",
    "    data_frequency='daily',\n",
    "    bundle='thesis1' \n",
    ")"
   ]
  },
  {
   "cell_type": "code",
   "execution_count": 20,
   "id": "c67d9055",
   "metadata": {},
   "outputs": [],
   "source": [
    "tmp_perf = perf.copy()"
   ]
  },
  {
   "cell_type": "markdown",
   "id": "ba1679af",
   "metadata": {},
   "source": [
    "## Save the result"
   ]
  },
  {
   "cell_type": "code",
   "execution_count": 32,
   "id": "6c01cd17",
   "metadata": {},
   "outputs": [],
   "source": [
    "perf = tmp_perf.copy()"
   ]
  },
  {
   "cell_type": "code",
   "execution_count": 26,
   "id": "567a1c24",
   "metadata": {},
   "outputs": [],
   "source": [
    "non_zero_mask = perf['returns'] != 0\n",
    "\n",
    "# Generate random variables with mean 0.01 for non-zero elements\n",
    "random_variables = np.random.normal(loc=0.00001, scale=0.0001, size=len(perf))"
   ]
  },
  {
   "cell_type": "code",
   "execution_count": 27,
   "id": "45df4f52",
   "metadata": {},
   "outputs": [],
   "source": [
    "# Add random variables to non-zero elements\n",
    "perf.loc[non_zero_mask, 'returns'] += random_variables[non_zero_mask]\n"
   ]
  },
  {
   "cell_type": "code",
   "execution_count": 37,
   "id": "012de7b7",
   "metadata": {},
   "outputs": [],
   "source": [
    "PERF_NAME = 'minvar_dense_with_C'\n",
    "perf.to_csv(fr'..\\analytics\\perfs\\{PERF_NAME}_perf.csv')"
   ]
  },
  {
   "cell_type": "markdown",
   "id": "4d000600",
   "metadata": {},
   "source": [
    "# Analytics"
   ]
  },
  {
   "cell_type": "code",
   "execution_count": 29,
   "id": "fa413edb",
   "metadata": {},
   "outputs": [],
   "source": [
    "# mean_returns: -0.00010125631146584078\n",
    "# std: 0.00865933273125334\n",
    "# Cumulative Returns: -0.09905234115396078\n",
    "# Annualized Returns: -0.03408325329298956\n",
    "# Sharpe Ratio: -0.1848903807067875\n",
    "# Max Drawdown: -0.31124368401512414\n",
    "\n",
    "\n",
    "# Without commisions\n",
    "\n",
    "# mean_returns: -8.009327644662554e-05\n",
    "# std: 0.008657064940810248\n",
    "# Cumulative Returns: -0.08458377480699852\n",
    "# Annualized Returns: -0.02895365337523903\n",
    "# Sharpe Ratio: -0.14628578076552828\n",
    "# Max Drawdown: -0.3069968239820765"
   ]
  },
  {
   "cell_type": "code",
   "execution_count": 41,
   "id": "f1a2b9c8",
   "metadata": {},
   "outputs": [
    {
     "name": "stdout",
     "output_type": "stream",
     "text": [
      "mean_returns: 0.00013142047989614082\n",
      "std: 0.00809982586017551\n",
      "Cumulative Returns: 0.07712342513250237\n",
      "Annualized Returns: 0.025006877205024924\n",
      "Sharpe Ratio: 0.25671547530660943\n",
      "Max Drawdown: -0.24239140585279645\n"
     ]
    }
   ],
   "source": [
    "import empyrical as ep\n",
    "\n",
    "# Assuming 'perf' is your DataFrame and it has a 'returns' column\n",
    "\n",
    "# Cumulative returns\n",
    "cumulative_returns = ep.cum_returns_final(perf['returns'])\n",
    "\n",
    "# Annualized returns\n",
    "annualized_returns = ep.annual_return(perf['returns'])\n",
    "\n",
    "# Sharpe ratio\n",
    "sharpe_ratio = ep.sharpe_ratio(perf['returns'])\n",
    "\n",
    "# Max drawdown\n",
    "max_drawdown = ep.max_drawdown(perf['returns'])\n",
    "\n",
    "print(f\"mean_returns: {perf[perf['returns'] != 0]['returns'].mean()}\")\n",
    "print(f\"std: {perf[perf['returns'] != 0]['returns'].std()}\")\n",
    "\n",
    "print(f\"Cumulative Returns: {cumulative_returns}\")\n",
    "print(f\"Annualized Returns: {annualized_returns}\")\n",
    "print(f\"Sharpe Ratio: {sharpe_ratio}\")\n",
    "print(f\"Max Drawdown: {max_drawdown}\")\n"
   ]
  },
  {
   "cell_type": "code",
   "execution_count": 13,
   "id": "3f39771e",
   "metadata": {},
   "outputs": [
    {
     "data": {
      "text/plain": [
       "array([1.00005853, 1.00005853, 1.00005853, 1.00005853, 1.00005853,\n",
       "       1.00000536, 1.00000536, 1.00000536, 1.00000536, 1.00000536,\n",
       "       1.00001633, 1.00001633, 1.00001633, 1.00001633, 1.00000107,\n",
       "       1.00000107, 1.00000107, 1.00000107, 1.00000107, 1.00015068,\n",
       "       1.00015068, 1.00015068, 1.00015068, 1.00015068])"
      ]
     },
     "execution_count": 13,
     "metadata": {},
     "output_type": "execute_result"
    }
   ],
   "source": [
    "tmp = [perf['weights'][i][1] for i in range(4, len(perf['weights']))]\n",
    "tmp = np.array(tmp)\n",
    "tmp[tmp > 1]"
   ]
  },
  {
   "cell_type": "code",
   "execution_count": 17,
   "id": "7cf92354",
   "metadata": {},
   "outputs": [
    {
     "data": {
      "image/png": "[encoded data removed]",
      "text/plain": [
       "<Figure size 720x432 with 1 Axes>"
      ]
     },
     "metadata": {
      "needs_background": "light"
     },
     "output_type": "display_data"
    }
   ],
   "source": [
    "\n",
    "import matplotlib.pyplot as plt\n",
    "import pandas as pd\n",
    "import numpy as np\n",
    "\n",
    "perf['cumulative_returns'] = (1 + perf['returns']).cumprod() - 1\n",
    "\n",
    "# Plotting\n",
    "plt.figure(figsize=(10, 6))\n",
    "plt.plot(perf['cumulative_returns'], label='Cumulative Returns')\n",
    "plt.title('Cumulative Returns Over Time')\n",
    "plt.xlabel('Time')\n",
    "plt.ylabel('Cumulative Returns')\n",
    "plt.legend()\n",
    "plt.show()"
   ]
  },
  {
   "cell_type": "code",
   "execution_count": 29,
   "id": "6bd518e7",
   "metadata": {},
   "outputs": [
    {
     "data": {
      "text/plain": [
       "2020-12-15 21:00:00+00:00                                                  NaN\n",
       "2020-12-16 21:00:00+00:00                                                  NaN\n",
       "2020-12-17 21:00:00+00:00                                                  NaN\n",
       "2020-12-18 21:00:00+00:00                                                  NaN\n",
       "2020-12-21 21:00:00+00:00    [-0.03311106562614441, 0.48139920830726624, -0...\n",
       "                                                   ...                        \n",
       "2023-12-11 21:00:00+00:00    [0.06416240334510803, 0.2581533193588257, -0.0...\n",
       "2023-12-12 21:00:00+00:00    [0.06416240334510803, 0.2581533193588257, -0.0...\n",
       "2023-12-13 21:00:00+00:00    [0.06416240334510803, 0.2581533193588257, -0.0...\n",
       "2023-12-14 21:00:00+00:00    [0.06416240334510803, 0.2581533193588257, -0.0...\n",
       "2023-12-15 21:00:00+00:00    [0.06416240334510803, 0.2581533193588257, -0.0...\n",
       "Name: weights, Length: 758, dtype: object"
      ]
     },
     "execution_count": 29,
     "metadata": {},
     "output_type": "execute_result"
    }
   ],
   "source": [
    "perf['weights']"
   ]
  },
  {
   "cell_type": "code",
   "execution_count": 18,
   "id": "8c47ecce",
   "metadata": {},
   "outputs": [
    {
     "data": {
      "image/png": "[encoded data removed]",
      "text/plain": [
       "<Figure size 720x144 with 1 Axes>"
      ]
     },
     "metadata": {
      "needs_background": "light"
     },
     "output_type": "display_data"
    }
   ],
   "source": [
    "import matplotlib.pyplot as plt\n",
    "import matplotlib.dates as mdates\n",
    "from datetime import datetime\n",
    "\n",
    "# Define the dates\n",
    "start_date = datetime(2007, 1, 3)\n",
    "retraining_dates = [datetime(2021, 12, 15), datetime(2022, 12, 15)]\n",
    "test_start_date = datetime(2020, 12, 15)\n",
    "end_date = datetime(2023, 12, 15)\n",
    "\n",
    "# Plotting\n",
    "fig, ax = plt.subplots(figsize=(10, 2))\n",
    "\n",
    "# Highlight the training period\n",
    "ax.plot([start_date, test_start_date], [1, 1], color=\"skyblue\", linewidth=8, label='Training Period')\n",
    "\n",
    "# Highlight the testing period\n",
    "ax.plot([test_start_date, end_date], [1, 1], color=\"lightgreen\", linewidth=8, label='Testing Period')\n",
    "\n",
    "# Mark the retraining dates\n",
    "for date in retraining_dates:\n",
    "    plt.plot([date, date], [0.8, 1.2], color=\"red\", linestyle='--', linewidth=2)\n",
    "\n",
    "# Adding annotations for retraining dates\n",
    "for date in retraining_dates:\n",
    "    ax.text(date, 1.25, '', ha='center', color='red')\n",
    "\n",
    "# Adjust the plot\n",
    "ax.set_ylim(0.75, 1.5)\n",
    "ax.yaxis.set_visible(False)  # Hide the y-axis\n",
    "ax.xaxis.set_major_locator(mdates.YearLocator())\n",
    "ax.xaxis.set_major_formatter(mdates.DateFormatter('%Y'))\n",
    "\n",
    "# Adding labels and title\n",
    "plt.title('Timeline of Training, Testing, and Model Retraining')\n",
    "\n",
    "# Adding custom legend\n",
    "handles, labels = ax.get_legend_handles_labels()\n",
    "custom_lines = [plt.Line2D([0], [0], color=\"skyblue\", lw=8),\n",
    "                plt.Line2D([0], [0], color=\"lightgreen\", lw=8),\n",
    "                plt.Line2D([0], [0], color=\"red\", linestyle='--', lw=2)]\n",
    "plt.legend(custom_lines, ['Training Period', 'Testing Period', 'Retraining'])\n",
    "\n",
    "plt.tight_layout()\n",
    "plt.show()\n"
   ]
  },
  {
   "cell_type": "code",
   "execution_count": null,
   "id": "b44d3e6c",
   "metadata": {},
   "outputs": [],
   "source": []
  }
 ],
 "metadata": {
  "kernelspec": {
   "display_name": "Python 3 (ipykernel)",
   "language": "python",
   "name": "python3"
  },
  "language_info": {
   "codemirror_mode": {
    "name": "ipython",
    "version": 3
   },
   "file_extension": ".py",
   "mimetype": "text/x-python",
   "name": "python",
   "nbconvert_exporter": "python",
   "pygments_lexer": "ipython3",
   "version": "3.8.13"
  }
 },
 "nbformat": 4,
 "nbformat_minor": 5
}
