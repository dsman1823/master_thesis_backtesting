{
 "cells": [
  {
   "cell_type": "code",
   "execution_count": 13,
   "id": "f3e8fdaa",
   "metadata": {},
   "outputs": [],
   "source": [
    "import pandas as pd\n",
    "import cvxpy as cp"
   ]
  },
  {
   "cell_type": "code",
   "execution_count": 3,
   "id": "588c4420",
   "metadata": {},
   "outputs": [],
   "source": [
    "RETS_FILE_PATH = 'historical_returns.csv'\n",
    "rets = pd.read_csv(RETS_FILE_PATH, index_col=0)"
   ]
  },
  {
   "cell_type": "code",
   "execution_count": null,
   "id": "f8f07307",
   "metadata": {},
   "outputs": [],
   "source": [
    "def full_opti(rets):\n",
    "    means = rets.mean().to_numpy()\n",
    "    cov = rets.cov().to_numpy()\n",
    "    gamma = 0.9766 # <-- obtained from trained NN\n",
    "    alpha = 0.0101 # \n",
    "    w = cp.Variable(len(means))\n",
    "    objective = cp.Maximize(means.T @ w - gamma * cp.quad_form(w, cov) - alpha * cp.norm(w, 2))\n",
    "    constraints = [cp.sum(w) == 1, w <= 1, w >= -1]\n",
    "    problem = cp.Problem(objective, constraints)\n",
    "    problem.solve()\n",
    "    return w.value\n",
    "\n",
    "\n",
    "def full_min_var(rets):\n",
    "    cov = rets.cov().to_numpy()\n",
    "    w = cp.Variable(len(means))\n",
    "    objective = cp.Minimize(cp.quad_form(w, cov))\n",
    "    constraints = [cp.sum(w) == 1, w <= 1, w >= -1]\n",
    "    problem = cp.Problem(objective, constraints)\n",
    "    problem.solve()\n",
    "    return w.value"
   ]
  },
  {
   "cell_type": "code",
   "execution_count": 30,
   "id": "4c9682b4",
   "metadata": {},
   "outputs": [
    {
     "data": {
      "text/plain": [
       "array([0.16213793, 0.18345218, 0.15120862, 0.16726281, 0.33593846])"
      ]
     },
     "execution_count": 30,
     "metadata": {},
     "output_type": "execute_result"
    }
   ],
   "source": [
    "full_opti(rets)"
   ]
  },
  {
   "cell_type": "code",
   "execution_count": 20,
   "id": "e8ac7fc3",
   "metadata": {},
   "outputs": [
    {
     "data": {
      "text/plain": [
       "1.0000000000000173"
      ]
     },
     "execution_count": 20,
     "metadata": {},
     "output_type": "execute_result"
    }
   ],
   "source": [
    "sum(w.value)"
   ]
  },
  {
   "cell_type": "code",
   "execution_count": null,
   "id": "deaed424",
   "metadata": {},
   "outputs": [],
   "source": []
  }
 ],
 "metadata": {
  "kernelspec": {
   "display_name": "Python 3 (ipykernel)",
   "language": "python",
   "name": "python3"
  },
  "language_info": {
   "codemirror_mode": {
    "name": "ipython",
    "version": 3
   },
   "file_extension": ".py",
   "mimetype": "text/x-python",
   "name": "python",
   "nbconvert_exporter": "python",
   "pygments_lexer": "ipython3",
   "version": "3.8.17"
  }
 },
 "nbformat": 4,
 "nbformat_minor": 5
}
