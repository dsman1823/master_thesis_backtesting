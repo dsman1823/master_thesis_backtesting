{
 "cells": [
  {
   "cell_type": "code",
   "execution_count": 6,
   "id": "034a3a21",
   "metadata": {},
   "outputs": [],
   "source": [
    "from zipline.api import order_target_percent, record, symbol, schedule_function, date_rules, order\n",
    "from zipline.api import set_commission, commission, set_slippage, slippage\n",
    "from zipline import run_algorithm\n",
    "from zipline.utils.events import time_rules\n",
    "\n",
    "import pandas as pd\n",
    "import numpy as np\n",
    "\n",
    "import requests\n",
    "from datetime import datetime"
   ]
  },
  {
   "cell_type": "code",
   "execution_count": 7,
   "id": "308a0656",
   "metadata": {},
   "outputs": [],
   "source": [
    "RETS_FILE_PATH = 'historical_returns.csv'"
   ]
  },
  {
   "cell_type": "code",
   "execution_count": 8,
   "id": "41e0801d",
   "metadata": {},
   "outputs": [],
   "source": [
    "def get_weights_for_date(date):\n",
    "  \n",
    "    # The base URL of your Flask application\n",
    "    base_url = \"http://localhost:5000/get_weights\"\n",
    "    \n",
    "    # Prepare the query parameters\n",
    "    params = {'date': str(date)}\n",
    "    \n",
    "    try:\n",
    "        # Sending a GET request to the endpoint\n",
    "        response = requests.get(base_url, params=params)\n",
    "        \n",
    "        # Check if the request was successful\n",
    "        if response.status_code == 200:\n",
    "            # Parse the JSON response\n",
    "            data = response.json()\n",
    "            return data.get('weights')\n",
    "        else:\n",
    "            # Handle possible errors (e.g., invalid date format, missing date parameter)\n",
    "            print(f\"Error: {response.json()['error']}\")\n",
    "    except Exception as e:\n",
    "        print(f\"An error occurred: {e}\")"
   ]
  },
  {
   "cell_type": "code",
   "execution_count": 11,
   "id": "4d932b07",
   "metadata": {},
   "outputs": [
    {
     "ename": "SyntaxError",
     "evalue": "invalid syntax (2735132351.py, line 34)",
     "output_type": "error",
     "traceback": [
      "\u001b[1;36m  Input \u001b[1;32mIn [11]\u001b[1;36m\u001b[0m\n\u001b[1;33m    weights = [-0.01693561  0.36124353  0.12549709  0.39137963  0.13881536]#get_weights_for_date(current_date)\u001b[0m\n\u001b[1;37m                            ^\u001b[0m\n\u001b[1;31mSyntaxError\u001b[0m\u001b[1;31m:\u001b[0m invalid syntax\n"
     ]
    }
   ],
   "source": [
    "# Define the initialize function\n",
    "def initialize(context):\n",
    "    # Per-share commission model ($0.005 per share)\n",
    "    \n",
    "    #\n",
    "    set_commission(commission.PerShare(cost=0, min_trade_cost=None))#(cost=0.005, min_trade_cost=None))\n",
    "    #\n",
    "    # Slippage model: Assuming 0.05% slippage per trade\n",
    "    #set_slippage(slippage.VolumeShareSlippage(volume_limit=0.025, price_impact=0.0005))\n",
    "\n",
    "    \n",
    "    context.tickers = ['VWO', 'SPY', 'VNQ', 'LQD', 'DBC']\n",
    "    context.assets = [symbol(ticker) for ticker in context.tickers]\n",
    "    \n",
    "    # Schedule the rebalance function to run every Monday at market open\n",
    "    schedule_function(rebalance, date_rules.week_start(), time_rules.market_open())\n",
    "    # Set the context attributes needed\n",
    "    context.lookback_days = 50 # look back over 50 days for the moving average\n",
    "\n",
    "# Define the rebalance function\n",
    "def rebalance(context, data):\n",
    "    #print(context.get_datetime().date())\n",
    "     \n",
    "    # Get historical data for the assets\n",
    "    historical_data = data.history(context.assets, \"price\", context.lookback_days + 1, \"1d\")\n",
    "    \n",
    "#     # Calculate daily returns\n",
    "    daily_returns = historical_data.pct_change().dropna()\n",
    "    daily_returns.to_csv(RETS_FILE_PATH)\n",
    "    current_date = context.get_datetime().date()\n",
    "    \n",
    "    print(f'Handling {current_date}')\n",
    "    \n",
    "    weights = [-0.01693561  0.36124353  0.12549709  0.39137963  0.13881536]#get_weights_for_date(current_date)\n",
    "    \n",
    "    # Place orders\n",
    "    for asset, weight in zip(context.assets, weights):\n",
    "        if data.can_trade(asset):\n",
    "            order_target_percent(asset, weight)\n",
    "            #print(f'ordered {asset}: {weight}')\n",
    "    \n",
    "    # Record some metrics\n",
    "    record(weights=weights)\n",
    "\n",
    "# Define the analyze function (optional)\n",
    "def analyze(context, perf):\n",
    "    # Plot portfolio weights over time\n",
    "    #perf.weights.plot()\n",
    "    pass"
   ]
  },
  {
   "cell_type": "code",
   "execution_count": 12,
   "id": "47e0df4a",
   "metadata": {
    "scrolled": true
   },
   "outputs": [
    {
     "ename": "NameError",
     "evalue": "name 'initialize' is not defined",
     "output_type": "error",
     "traceback": [
      "\u001b[1;31m---------------------------------------------------------------------------\u001b[0m",
      "\u001b[1;31mNameError\u001b[0m                                 Traceback (most recent call last)",
      "Input \u001b[1;32mIn [12]\u001b[0m, in \u001b[0;36m<cell line: 5>\u001b[1;34m()\u001b[0m\n\u001b[0;32m      2\u001b[0m end_date \u001b[38;5;241m=\u001b[39m pd\u001b[38;5;241m.\u001b[39mTimestamp(\u001b[38;5;124m'\u001b[39m\u001b[38;5;124m2023-12-15\u001b[39m\u001b[38;5;124m'\u001b[39m, tz\u001b[38;5;241m=\u001b[39m\u001b[38;5;124m'\u001b[39m\u001b[38;5;124mUTC\u001b[39m\u001b[38;5;124m'\u001b[39m) \u001b[38;5;66;03m# 2023\u001b[39;00m\n\u001b[0;32m      3\u001b[0m capital_base \u001b[38;5;241m=\u001b[39m \u001b[38;5;241m1e7\u001b[39m\n\u001b[0;32m      5\u001b[0m perf \u001b[38;5;241m=\u001b[39m run_algorithm(\n\u001b[0;32m      6\u001b[0m     start\u001b[38;5;241m=\u001b[39mstart_date,\n\u001b[0;32m      7\u001b[0m     end\u001b[38;5;241m=\u001b[39mend_date,\n\u001b[1;32m----> 8\u001b[0m     initialize\u001b[38;5;241m=\u001b[39m\u001b[43minitialize\u001b[49m,\n\u001b[0;32m      9\u001b[0m     analyze\u001b[38;5;241m=\u001b[39manalyze,\n\u001b[0;32m     10\u001b[0m     capital_base\u001b[38;5;241m=\u001b[39mcapital_base,\n\u001b[0;32m     11\u001b[0m     data_frequency\u001b[38;5;241m=\u001b[39m\u001b[38;5;124m'\u001b[39m\u001b[38;5;124mdaily\u001b[39m\u001b[38;5;124m'\u001b[39m,\n\u001b[0;32m     12\u001b[0m     bundle\u001b[38;5;241m=\u001b[39m\u001b[38;5;124m'\u001b[39m\u001b[38;5;124mthesis1\u001b[39m\u001b[38;5;124m'\u001b[39m \n\u001b[0;32m     13\u001b[0m )\n",
      "\u001b[1;31mNameError\u001b[0m: name 'initialize' is not defined"
     ]
    }
   ],
   "source": [
    "start_date = pd.Timestamp('2020-12-15', tz='UTC')\n",
    "end_date = pd.Timestamp('2023-12-15', tz='UTC') # 2023\n",
    "capital_base = 1e7\n",
    "\n",
    "perf = run_algorithm(\n",
    "    start=start_date,\n",
    "    end=end_date,\n",
    "    initialize=initialize,\n",
    "    analyze=analyze,\n",
    "    capital_base=capital_base,\n",
    "    data_frequency='daily',\n",
    "    bundle='thesis1' \n",
    ")"
   ]
  },
  {
   "cell_type": "code",
   "execution_count": 207,
   "id": "c67d9055",
   "metadata": {},
   "outputs": [],
   "source": [
    "tmp_perf = perf.copy()"
   ]
  },
  {
   "cell_type": "markdown",
   "id": "ba1679af",
   "metadata": {},
   "source": [
    "## Save the result"
   ]
  },
  {
   "cell_type": "code",
   "execution_count": 243,
   "id": "6c01cd17",
   "metadata": {},
   "outputs": [],
   "source": [
    "perf = tmp_perf.copy()"
   ]
  },
  {
   "cell_type": "code",
   "execution_count": 237,
   "id": "45df4f52",
   "metadata": {},
   "outputs": [],
   "source": [
    "\n"
   ]
  },
  {
   "cell_type": "code",
   "execution_count": 239,
   "id": "012de7b7",
   "metadata": {},
   "outputs": [],
   "source": [
    "PERF_NAME = 'linear_osharpe'\n",
    "perf.to_csv(fr'..\\analytics\\perfs\\{PERF_NAME}_perf.csv')"
   ]
  },
  {
   "cell_type": "markdown",
   "id": "4d000600",
   "metadata": {},
   "source": [
    "# Analytics"
   ]
  },
  {
   "cell_type": "code",
   "execution_count": 244,
   "id": "f1a2b9c8",
   "metadata": {},
   "outputs": [
    {
     "name": "stdout",
     "output_type": "stream",
     "text": [
      "mean_returns: -0.00012493128779253346\n",
      "std: 0.009297852911827595\n",
      "Cumulative Returns: -0.11890132275149745\n",
      "Annualized Returns: -0.041210650613916266\n",
      "Sharpe Ratio: -0.21259514707746244\n",
      "Max Drawdown: -0.34296748637500357\n"
     ]
    }
   ],
   "source": [
    "import empyrical as ep\n",
    "\n",
    "# Assuming 'perf' is your DataFrame and it has a 'returns' column\n",
    "\n",
    "# Cumulative returns\n",
    "cumulative_returns = ep.cum_returns_final(perf['returns'])\n",
    "\n",
    "# Annualized returns\n",
    "annualized_returns = ep.annual_return(perf['returns'])\n",
    "\n",
    "# Sharpe ratio\n",
    "sharpe_ratio = ep.sharpe_ratio(perf['returns'])\n",
    "\n",
    "# Max drawdown\n",
    "max_drawdown = ep.max_drawdown(perf['returns'])\n",
    "\n",
    "print(f\"mean_returns: {perf[perf['returns'] != 0]['returns'].mean()}\")\n",
    "print(f\"std: {perf[perf['returns'] != 0]['returns'].std()}\")\n",
    "\n",
    "print(f\"Cumulative Returns: {cumulative_returns}\")\n",
    "print(f\"Annualized Returns: {annualized_returns}\")\n",
    "print(f\"Sharpe Ratio: {sharpe_ratio}\")\n",
    "print(f\"Max Drawdown: {max_drawdown}\")\n"
   ]
  },
  {
   "cell_type": "code",
   "execution_count": 241,
   "id": "3f39771e",
   "metadata": {},
   "outputs": [
    {
     "data": {
      "text/plain": [
       "array([1.6746515 , 1.6746515 , 1.6746515 , 1.6746515 , 1.6746515 ,\n",
       "       1.46958482, 1.46958482, 1.46958482, 1.46958482, 1.46958482,\n",
       "       1.32777643, 1.32777643, 1.32777643, 1.32777643, 1.32777643,\n",
       "       1.18381619, 1.18381619, 1.18381619, 1.18381619, 1.18381619,\n",
       "       2.10798693, 2.10798693, 2.10798693, 2.10798693, 2.10798693,\n",
       "       1.56265843, 1.56265843, 1.56265843, 1.56265843, 1.56265843,\n",
       "       1.26336944, 1.26336944, 1.26336944, 1.26336944, 1.47845757,\n",
       "       1.47845757, 1.47845757, 1.47845757, 1.47845757, 2.06263876,\n",
       "       2.06263876, 2.06263876, 2.06263876, 2.06263876, 1.37345123,\n",
       "       1.37345123, 1.37345123, 1.37345123, 1.37345123])"
      ]
     },
     "execution_count": 241,
     "metadata": {},
     "output_type": "execute_result"
    }
   ],
   "source": [
    "tmp = [perf['weights'][i][1] for i in range(4, len(perf['weights']))]\n",
    "tmp = np.array(tmp)\n",
    "tmp[tmp > 1]"
   ]
  },
  {
   "cell_type": "code",
   "execution_count": 242,
   "id": "7cf92354",
   "metadata": {},
   "outputs": [
    {
     "data": {
      "image/png": "[encoded data removed]",
      "text/plain": [
       "<Figure size 720x432 with 1 Axes>"
      ]
     },
     "metadata": {
      "needs_background": "light"
     },
     "output_type": "display_data"
    }
   ],
   "source": [
    "\n",
    "import matplotlib.pyplot as plt\n",
    "import pandas as pd\n",
    "import numpy as np\n",
    "\n",
    "perf['cumulative_returns'] = (1 + perf['returns']).cumprod() - 1\n",
    "\n",
    "# Plotting\n",
    "plt.figure(figsize=(10, 6))\n",
    "plt.plot(perf['cumulative_returns'], label='Cumulative Returns')\n",
    "plt.title('Cumulative Returns Over Time')\n",
    "plt.xlabel('Time')\n",
    "plt.ylabel('Cumulative Returns')\n",
    "plt.legend()\n",
    "plt.show()"
   ]
  },
  {
   "cell_type": "code",
   "execution_count": null,
   "id": "8c47ecce",
   "metadata": {},
   "outputs": [],
   "source": []
  }
 ],
 "metadata": {
  "kernelspec": {
   "display_name": "Python 3 (ipykernel)",
   "language": "python",
   "name": "python3"
  },
  "language_info": {
   "codemirror_mode": {
    "name": "ipython",
    "version": 3
   },
   "file_extension": ".py",
   "mimetype": "text/x-python",
   "name": "python",
   "nbconvert_exporter": "python",
   "pygments_lexer": "ipython3",
   "version": "3.8.13"
  }
 },
 "nbformat": 4,
 "nbformat_minor": 5
}
