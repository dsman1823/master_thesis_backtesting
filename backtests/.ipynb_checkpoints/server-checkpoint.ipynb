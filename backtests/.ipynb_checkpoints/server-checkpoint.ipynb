{
 "cells": [
  {
   "cell_type": "markdown",
   "id": "a388c7d0",
   "metadata": {},
   "source": [
    "# This notebook provides portfolio weights based on the historical data to the backtesting notebook"
   ]
  },
  {
   "cell_type": "code",
   "execution_count": null,
   "id": "04a4ce3b",
   "metadata": {},
   "outputs": [],
   "source": [
    "!pip uninstall deepdowmine -y\n",
    "!pip install git+https://github.com/dsman1823/deepdowmine.git"
   ]
  },
  {
   "cell_type": "code",
   "execution_count": 1,
   "id": "9b37e532",
   "metadata": {},
   "outputs": [],
   "source": [
    "import torch\n",
    "\n",
    "import pandas as pd\n",
    "import numpy as np\n",
    "\n",
    "from datetime import datetime \n",
    "from deepdowmine.nn import LinearNetMine, UpdNumericalMarkowitzWithShorting, UpdLinearNetMine, UpdDenseNet, UpdUpdLinearNetMine\n",
    "from deepdowmine.nn import DenseNetMinVar, ConvNetFullOpti, ConvNetMinVar, RnnNetMinVar, LstmNetMinVar, RnnNetFullOpti\n",
    "from deepdowmine.nn import LstmNetFullOpti, DenseNetFullOpti2, DenseNetMinVar2, RnnNetMinVar2, RnnNetFullOpti2, ConvNetMinVar2\n",
    "from dateutil.relativedelta import relativedelta\n",
    "from datetime import datetime, date"
   ]
  },
  {
   "cell_type": "code",
   "execution_count": 2,
   "id": "78fd3bba",
   "metadata": {},
   "outputs": [],
   "source": [
    "RETS_FILE_PATH = 'historical_returns.csv'\n",
    "\n",
    "\n",
    "\n",
    "loockback, gap, horizon = 50, 0, 5\n",
    "n_assets = 5\n",
    "loockback = 50\n"
   ]
  },
  {
   "cell_type": "markdown",
   "id": "6c88f90a",
   "metadata": {},
   "source": [
    "## Load NN from dict"
   ]
  },
  {
   "cell_type": "code",
   "execution_count": 3,
   "id": "36a91bae",
   "metadata": {},
   "outputs": [],
   "source": [
    "LINEAR_NET_OSHARPE_FILE_PATH = r'./NNs/linear_net_50x5_sharpe.pth' # LinearNetMine with ordinary Sharpe cost"
   ]
  },
  {
   "cell_type": "code",
   "execution_count": 4,
   "id": "7a634b07",
   "metadata": {},
   "outputs": [],
   "source": [
    "# years parameter reprsenets amount of years after the backtest stasrt: the model dowloaded is the the model trained \n",
    "# on the period (train_start, back_test_start + years) \n",
    "\n",
    "\n",
    "# LinearNetMine with ordinary sharpe cost function\n",
    "def load_linear_net_osharpe(years=0):\n",
    "    network = LinearNetMine(1, loockback, n_assets, p=0.5)\n",
    "    network.load_state_dict(torch.load(fr'./NNs/linear_net_50x5_sharpe_{years}.pth'))\n",
    "    print(fr'./NNs/linear_net_50x5_sharpe_{years}.pth')\n",
    "    return network.eval()\n",
    "    "
   ]
  },
  {
   "cell_type": "code",
   "execution_count": 5,
   "id": "fd38307d",
   "metadata": {},
   "outputs": [],
   "source": [
    "def load_dense_net(years=0):\n",
    "    network = UpdLinearNetMine(1, loockback, n_assets, p=0.5)\n",
    "    network.load_state_dict(torch.load(fr'./NNs/dense_{years}.pth'))\n",
    "    print(fr'dense_{years}.pth')\n",
    "    return network.eval()"
   ]
  },
  {
   "cell_type": "markdown",
   "id": "a0c6d5c7",
   "metadata": {},
   "source": [
    "## Core functions"
   ]
  },
  {
   "cell_type": "code",
   "execution_count": 6,
   "id": "9b0ed9ac",
   "metadata": {},
   "outputs": [],
   "source": [
    "def transform_rets_to_NN_input(rets):\n",
    "    # tranform (loockback, n_assets) df into (1, 1, loockback, n_assets)=(sample_size, n_channels, loockback, n_assets) tensor \n",
    "    returns_np = rets.to_numpy()\n",
    "\n",
    "    # Add the required dimensions: (n_samples, n_channels, lookback, n_assets)\n",
    "    returns_np_expanded = np.expand_dims(returns_np, axis=0)  # Adds n_samples dimension\n",
    "    returns_np_expanded = np.expand_dims(returns_np_expanded, axis=0)  \n",
    "    return torch.from_numpy(returns_np_expanded).float()\n",
    "\n",
    "def weights_from_NN(rets, network):\n",
    "    X = transform_rets_to_NN_input(rets)\n",
    "    return network(X).detach().numpy()[0]\n",
    "\n",
    "# method is a function, used for obtaining the returns\n",
    "def get_weights(method):\n",
    "    rets = pd.read_csv(RETS_FILE_PATH, index_col=0)\n",
    "    return method(rets)"
   ]
  },
  {
   "cell_type": "markdown",
   "id": "7d65c2c4",
   "metadata": {},
   "source": [
    "## NNs and related methods\n",
    "\n",
    "\n",
    "### NNs\n",
    "\n",
    "networks[i] method is trained on (train_start, backtest_start + i years) data interval"
   ]
  },
  {
   "cell_type": "code",
   "execution_count": 7,
   "id": "87ac6576",
   "metadata": {},
   "outputs": [
    {
     "ename": "FileNotFoundError",
     "evalue": "[Errno 2] No such file or directory: './NNs/linear_net_50x5_sharpe_0.pth'",
     "output_type": "error",
     "traceback": [
      "\u001b[1;31m---------------------------------------------------------------------------\u001b[0m",
      "\u001b[1;31mFileNotFoundError\u001b[0m                         Traceback (most recent call last)",
      "Cell \u001b[1;32mIn[7], line 3\u001b[0m\n\u001b[0;32m      1\u001b[0m years \u001b[38;5;241m=\u001b[39m [\u001b[38;5;241m0\u001b[39m, \u001b[38;5;241m1\u001b[39m, \u001b[38;5;241m2\u001b[39m]\u001b[38;5;66;03m#, 1, 2]\u001b[39;00m\n\u001b[1;32m----> 3\u001b[0m linear_osharpe_networks \u001b[38;5;241m=\u001b[39m [load_linear_net_osharpe(years\u001b[38;5;241m=\u001b[39mi) \u001b[38;5;28;01mfor\u001b[39;00m i \u001b[38;5;129;01min\u001b[39;00m years]\n\u001b[0;32m      4\u001b[0m dense_networks \u001b[38;5;241m=\u001b[39m [load_dense_net(years\u001b[38;5;241m=\u001b[39mi) \u001b[38;5;28;01mfor\u001b[39;00m i \u001b[38;5;129;01min\u001b[39;00m years]\n",
      "Cell \u001b[1;32mIn[7], line 3\u001b[0m, in \u001b[0;36m<listcomp>\u001b[1;34m(.0)\u001b[0m\n\u001b[0;32m      1\u001b[0m years \u001b[38;5;241m=\u001b[39m [\u001b[38;5;241m0\u001b[39m, \u001b[38;5;241m1\u001b[39m, \u001b[38;5;241m2\u001b[39m]\u001b[38;5;66;03m#, 1, 2]\u001b[39;00m\n\u001b[1;32m----> 3\u001b[0m linear_osharpe_networks \u001b[38;5;241m=\u001b[39m [\u001b[43mload_linear_net_osharpe\u001b[49m\u001b[43m(\u001b[49m\u001b[43myears\u001b[49m\u001b[38;5;241;43m=\u001b[39;49m\u001b[43mi\u001b[49m\u001b[43m)\u001b[49m \u001b[38;5;28;01mfor\u001b[39;00m i \u001b[38;5;129;01min\u001b[39;00m years]\n\u001b[0;32m      4\u001b[0m dense_networks \u001b[38;5;241m=\u001b[39m [load_dense_net(years\u001b[38;5;241m=\u001b[39mi) \u001b[38;5;28;01mfor\u001b[39;00m i \u001b[38;5;129;01min\u001b[39;00m years]\n",
      "Cell \u001b[1;32mIn[4], line 8\u001b[0m, in \u001b[0;36mload_linear_net_osharpe\u001b[1;34m(years)\u001b[0m\n\u001b[0;32m      6\u001b[0m \u001b[38;5;28;01mdef\u001b[39;00m \u001b[38;5;21mload_linear_net_osharpe\u001b[39m(years\u001b[38;5;241m=\u001b[39m\u001b[38;5;241m0\u001b[39m):\n\u001b[0;32m      7\u001b[0m     network \u001b[38;5;241m=\u001b[39m LinearNetMine(\u001b[38;5;241m1\u001b[39m, loockback, n_assets, p\u001b[38;5;241m=\u001b[39m\u001b[38;5;241m0.5\u001b[39m)\n\u001b[1;32m----> 8\u001b[0m     network\u001b[38;5;241m.\u001b[39mload_state_dict(\u001b[43mtorch\u001b[49m\u001b[38;5;241;43m.\u001b[39;49m\u001b[43mload\u001b[49m\u001b[43m(\u001b[49m\u001b[38;5;124;43mfr\u001b[39;49m\u001b[38;5;124;43m'\u001b[39;49m\u001b[38;5;124;43m./NNs/linear_net_50x5_sharpe_\u001b[39;49m\u001b[38;5;132;43;01m{\u001b[39;49;00m\u001b[43myears\u001b[49m\u001b[38;5;132;43;01m}\u001b[39;49;00m\u001b[38;5;124;43m.pth\u001b[39;49m\u001b[38;5;124;43m'\u001b[39;49m\u001b[43m)\u001b[49m)\n\u001b[0;32m      9\u001b[0m     \u001b[38;5;28mprint\u001b[39m(\u001b[38;5;124mfr\u001b[39m\u001b[38;5;124m'\u001b[39m\u001b[38;5;124m./NNs/linear_net_50x5_sharpe_\u001b[39m\u001b[38;5;132;01m{\u001b[39;00myears\u001b[38;5;132;01m}\u001b[39;00m\u001b[38;5;124m.pth\u001b[39m\u001b[38;5;124m'\u001b[39m)\n\u001b[0;32m     10\u001b[0m     \u001b[38;5;28;01mreturn\u001b[39;00m network\u001b[38;5;241m.\u001b[39meval()\n",
      "File \u001b[1;32m~\\miniconda3\\envs\\ddow\\lib\\site-packages\\torch\\serialization.py:791\u001b[0m, in \u001b[0;36mload\u001b[1;34m(f, map_location, pickle_module, weights_only, **pickle_load_args)\u001b[0m\n\u001b[0;32m    788\u001b[0m \u001b[38;5;28;01mif\u001b[39;00m \u001b[38;5;124m'\u001b[39m\u001b[38;5;124mencoding\u001b[39m\u001b[38;5;124m'\u001b[39m \u001b[38;5;129;01mnot\u001b[39;00m \u001b[38;5;129;01min\u001b[39;00m pickle_load_args\u001b[38;5;241m.\u001b[39mkeys():\n\u001b[0;32m    789\u001b[0m     pickle_load_args[\u001b[38;5;124m'\u001b[39m\u001b[38;5;124mencoding\u001b[39m\u001b[38;5;124m'\u001b[39m] \u001b[38;5;241m=\u001b[39m \u001b[38;5;124m'\u001b[39m\u001b[38;5;124mutf-8\u001b[39m\u001b[38;5;124m'\u001b[39m\n\u001b[1;32m--> 791\u001b[0m \u001b[38;5;28;01mwith\u001b[39;00m \u001b[43m_open_file_like\u001b[49m\u001b[43m(\u001b[49m\u001b[43mf\u001b[49m\u001b[43m,\u001b[49m\u001b[43m \u001b[49m\u001b[38;5;124;43m'\u001b[39;49m\u001b[38;5;124;43mrb\u001b[39;49m\u001b[38;5;124;43m'\u001b[39;49m\u001b[43m)\u001b[49m \u001b[38;5;28;01mas\u001b[39;00m opened_file:\n\u001b[0;32m    792\u001b[0m     \u001b[38;5;28;01mif\u001b[39;00m _is_zipfile(opened_file):\n\u001b[0;32m    793\u001b[0m         \u001b[38;5;66;03m# The zipfile reader is going to advance the current file position.\u001b[39;00m\n\u001b[0;32m    794\u001b[0m         \u001b[38;5;66;03m# If we want to actually tail call to torch.jit.load, we need to\u001b[39;00m\n\u001b[0;32m    795\u001b[0m         \u001b[38;5;66;03m# reset back to the original position.\u001b[39;00m\n\u001b[0;32m    796\u001b[0m         orig_position \u001b[38;5;241m=\u001b[39m opened_file\u001b[38;5;241m.\u001b[39mtell()\n",
      "File \u001b[1;32m~\\miniconda3\\envs\\ddow\\lib\\site-packages\\torch\\serialization.py:271\u001b[0m, in \u001b[0;36m_open_file_like\u001b[1;34m(name_or_buffer, mode)\u001b[0m\n\u001b[0;32m    269\u001b[0m \u001b[38;5;28;01mdef\u001b[39;00m \u001b[38;5;21m_open_file_like\u001b[39m(name_or_buffer, mode):\n\u001b[0;32m    270\u001b[0m     \u001b[38;5;28;01mif\u001b[39;00m _is_path(name_or_buffer):\n\u001b[1;32m--> 271\u001b[0m         \u001b[38;5;28;01mreturn\u001b[39;00m \u001b[43m_open_file\u001b[49m\u001b[43m(\u001b[49m\u001b[43mname_or_buffer\u001b[49m\u001b[43m,\u001b[49m\u001b[43m \u001b[49m\u001b[43mmode\u001b[49m\u001b[43m)\u001b[49m\n\u001b[0;32m    272\u001b[0m     \u001b[38;5;28;01melse\u001b[39;00m:\n\u001b[0;32m    273\u001b[0m         \u001b[38;5;28;01mif\u001b[39;00m \u001b[38;5;124m'\u001b[39m\u001b[38;5;124mw\u001b[39m\u001b[38;5;124m'\u001b[39m \u001b[38;5;129;01min\u001b[39;00m mode:\n",
      "File \u001b[1;32m~\\miniconda3\\envs\\ddow\\lib\\site-packages\\torch\\serialization.py:252\u001b[0m, in \u001b[0;36m_open_file.__init__\u001b[1;34m(self, name, mode)\u001b[0m\n\u001b[0;32m    251\u001b[0m \u001b[38;5;28;01mdef\u001b[39;00m \u001b[38;5;21m__init__\u001b[39m(\u001b[38;5;28mself\u001b[39m, name, mode):\n\u001b[1;32m--> 252\u001b[0m     \u001b[38;5;28msuper\u001b[39m()\u001b[38;5;241m.\u001b[39m\u001b[38;5;21m__init__\u001b[39m(\u001b[38;5;28;43mopen\u001b[39;49m\u001b[43m(\u001b[49m\u001b[43mname\u001b[49m\u001b[43m,\u001b[49m\u001b[43m \u001b[49m\u001b[43mmode\u001b[49m\u001b[43m)\u001b[49m)\n",
      "\u001b[1;31mFileNotFoundError\u001b[0m: [Errno 2] No such file or directory: './NNs/linear_net_50x5_sharpe_0.pth'"
     ]
    }
   ],
   "source": [
    "years = [0, 1, 2]#, 1, 2]\n",
    "\n",
    "linear_osharpe_networks = [load_linear_net_osharpe(years=i) for i in years]\n",
    "dense_networks = [load_dense_net(years=i) for i in years]"
   ]
  },
  {
   "cell_type": "markdown",
   "id": "db5b112d",
   "metadata": {},
   "source": [
    "### methods"
   ]
  },
  {
   "cell_type": "code",
   "execution_count": null,
   "id": "728b35c5",
   "metadata": {},
   "outputs": [],
   "source": [
    "dense_networks[1].linear0.bias[0:3]"
   ]
  },
  {
   "cell_type": "code",
   "execution_count": null,
   "id": "35739537",
   "metadata": {},
   "outputs": [],
   "source": [
    "dense_networks[2].linear0.bias[0:3]"
   ]
  },
  {
   "cell_type": "code",
   "execution_count": null,
   "id": "28670905",
   "metadata": {},
   "outputs": [],
   "source": [
    "# note the format of lambda \n",
    "linear_osharpe_methods = [lambda r, i=i: weights_from_NN(r, linear_osharpe_networks[i]) for i in years] \n",
    "dense_methods = [lambda r, i=i: weights_from_NN(r, dense_networks[i]) for i in years] \n"
   ]
  },
  {
   "cell_type": "code",
   "execution_count": null,
   "id": "7045f79e",
   "metadata": {},
   "outputs": [],
   "source": [
    "[get_weights(dense_methods[i]) for i in years]"
   ]
  },
  {
   "cell_type": "markdown",
   "id": "e7fae4ce",
   "metadata": {},
   "source": [
    "# Server"
   ]
  },
  {
   "cell_type": "code",
   "execution_count": 13,
   "id": "be630bfa",
   "metadata": {},
   "outputs": [],
   "source": [
    "\n",
    "\n",
    "RETRAINING_DATE1 = date(2018, 12, 15)\n",
    "RETRAINING_DATE2 = date(2019, 12, 15)\n",
    "\n",
    "# RETRAINING_DATE1 = date(2021, 12, 15)\n",
    "# RETRAINING_DATE2 = date(2022, 12, 15)"
   ]
  },
  {
   "cell_type": "code",
   "execution_count": 14,
   "id": "62cc3389",
   "metadata": {},
   "outputs": [],
   "source": [
    "from flask import Flask, request, jsonify\n",
    "from flask_cors import CORS \n",
    "\n",
    "import numpy as np\n",
    "\n",
    "app = Flask(__name__)\n",
    "CORS(app)  # Enable CORS for your Flask app\n",
    "\n",
    "markers = {}\n",
    "markers['net_initialized'] = False\n",
    "\n",
    "@app.route('/get_weights', methods=['GET'])\n",
    "def get_request():\n",
    "    # Extract date string from the query parameters\n",
    "    date_str = request.args.get('date', None)\n",
    "    \n",
    "    # Simple validation to check if date is provided\n",
    "    if not date_str:\n",
    "        return jsonify({\"error\": \"Missing date parameter\"}), 400\n",
    "\n",
    "    # Try to convert the date string to a datetime object\n",
    "    try:\n",
    "        # Note that now we're only parsing the date, not the time\n",
    "        date = datetime.strptime(date_str, \"%Y-%m-%d\").date()\n",
    "    except ValueError:\n",
    "        # If there is an error in parsing the date, return an error message\n",
    "        return jsonify({\"error\": \"Invalid date format. Please use YYYY-MM-DD format.\"}), 400\n",
    "    \n",
    "    years_plus = 0\n",
    "    network = DenseNetFullOpti2(1, 50, 5,  max_weight=1, p=0.2)\n",
    "    network.load_state_dict(torch.load(fr'./NNs/trained_on_old_data/dense/full_opti_0.pth'))\n",
    "\n",
    "    \n",
    "    if date < RETRAINING_DATE1:\n",
    "        print(0)\n",
    "    if RETRAINING_DATE1 < date < RETRAINING_DATE2:\n",
    "        print('1')\n",
    "        network.load_state_dict(torch.load(fr'./NNs/trained_on_old_data/dense/full_opti_1.pth'))\n",
    "    if RETRAINING_DATE2 < date:\n",
    "        print('2')\n",
    "        network.load_state_dict(torch.load(fr'./NNs/trained_on_old_data/dense/full_opti_2.pth'))\n",
    "\n",
    "    rets = pd.read_csv(RETS_FILE_PATH, index_col=0)\n",
    "    X = transform_rets_to_NN_input(rets)\n",
    "    weights = network.eval()(X).detach().numpy()[0].tolist()\n",
    "    \n",
    "        \n",
    "    #weights = weights_from_NN(rets, linear_osharpe_networks[0]).tolist()\n",
    "    #print(weights)\n",
    "    # Return the vector as JSON, using the string representation of the date for simplicity\n",
    "    print(date)\n",
    "    print(weights)\n",
    "    return jsonify({'weights': weights})\n"
   ]
  },
  {
   "cell_type": "code",
   "execution_count": null,
   "id": "ed150707",
   "metadata": {},
   "outputs": [
    {
     "name": "stdout",
     "output_type": "stream",
     "text": [
      " * Serving Flask app '__main__'\n",
      " * Debug mode: off\n"
     ]
    },
    {
     "name": "stderr",
     "output_type": "stream",
     "text": [
      "WARNING: This is a development server. Do not use it in a production deployment. Use a production WSGI server instead.\n",
      " * Running on http://127.0.0.1:5000\n",
      "Press CTRL+C to quit\n",
      "127.0.0.1 - - [12/Apr/2024 21:17:57] \"GET /get_weights?date=2017-12-18 HTTP/1.1\" 200 -\n"
     ]
    },
    {
     "name": "stdout",
     "output_type": "stream",
     "text": [
      "0\n",
      "2017-12-18\n",
      "[-0.3057824373245239, 1.0000265836715698, -0.47728288173675537, 1.0000221729278564, -0.21698348224163055]\n"
     ]
    },
    {
     "name": "stderr",
     "output_type": "stream",
     "text": [
      "127.0.0.1 - - [12/Apr/2024 21:17:59] \"GET /get_weights?date=2017-12-26 HTTP/1.1\" 200 -\n"
     ]
    },
    {
     "name": "stdout",
     "output_type": "stream",
     "text": [
      "0\n",
      "2017-12-26\n",
      "[0.22421501576900482, 0.7761840224266052, -0.4781540632247925, 0.8057823181152344, -0.32802727818489075]\n"
     ]
    },
    {
     "name": "stderr",
     "output_type": "stream",
     "text": [
      "127.0.0.1 - - [12/Apr/2024 21:18:02] \"GET /get_weights?date=2018-01-02 HTTP/1.1\" 200 -\n"
     ]
    },
    {
     "name": "stdout",
     "output_type": "stream",
     "text": [
      "0\n",
      "2018-01-02\n",
      "[-0.9979172945022583, 0.9999646544456482, -0.4916350841522217, 0.9999759793281555, 0.4896116852760315]\n"
     ]
    },
    {
     "name": "stderr",
     "output_type": "stream",
     "text": [
      "127.0.0.1 - - [12/Apr/2024 21:18:04] \"GET /get_weights?date=2018-01-08 HTTP/1.1\" 200 -\n"
     ]
    },
    {
     "name": "stdout",
     "output_type": "stream",
     "text": [
      "0\n",
      "2018-01-08\n",
      "[-0.21845830976963043, 0.9999959468841553, -0.24014900624752045, 0.9999831318855286, -0.5413717031478882]\n"
     ]
    },
    {
     "name": "stderr",
     "output_type": "stream",
     "text": [
      "127.0.0.1 - - [12/Apr/2024 21:18:07] \"GET /get_weights?date=2018-01-16 HTTP/1.1\" 200 -\n"
     ]
    },
    {
     "name": "stdout",
     "output_type": "stream",
     "text": [
      "0\n",
      "2018-01-16\n",
      "[-0.4901454448699951, 0.54108065366745, 0.1568298041820526, 0.999943196773529, -0.20770816504955292]\n"
     ]
    },
    {
     "name": "stderr",
     "output_type": "stream",
     "text": [
      "127.0.0.1 - - [12/Apr/2024 21:18:09] \"GET /get_weights?date=2018-01-22 HTTP/1.1\" 200 -\n"
     ]
    },
    {
     "name": "stdout",
     "output_type": "stream",
     "text": [
      "0\n",
      "2018-01-22\n",
      "[-0.2153618037700653, 0.9999926686286926, -0.6448965072631836, 0.8870406746864319, -0.026774978265166283]\n"
     ]
    },
    {
     "name": "stderr",
     "output_type": "stream",
     "text": [
      "127.0.0.1 - - [12/Apr/2024 21:18:12] \"GET /get_weights?date=2018-01-29 HTTP/1.1\" 200 -\n"
     ]
    },
    {
     "name": "stdout",
     "output_type": "stream",
     "text": [
      "0\n",
      "2018-01-29\n",
      "[-0.3411273956298828, 0.9985677599906921, -0.27858486771583557, -0.04406426101922989, 0.6652089953422546]\n"
     ]
    },
    {
     "name": "stderr",
     "output_type": "stream",
     "text": [
      "127.0.0.1 - - [12/Apr/2024 21:18:15] \"GET /get_weights?date=2018-02-05 HTTP/1.1\" 200 -\n"
     ]
    },
    {
     "name": "stdout",
     "output_type": "stream",
     "text": [
      "0\n",
      "2018-02-05\n",
      "[0.9355259537696838, -0.04194303974509239, -0.1985017955303192, 0.33454641699790955, -0.029627544805407524]\n"
     ]
    },
    {
     "name": "stderr",
     "output_type": "stream",
     "text": [
      "127.0.0.1 - - [12/Apr/2024 21:18:17] \"GET /get_weights?date=2018-02-12 HTTP/1.1\" 200 -\n"
     ]
    },
    {
     "name": "stdout",
     "output_type": "stream",
     "text": [
      "0\n",
      "2018-02-12\n",
      "[0.22718580067157745, -0.13211114704608917, 0.1292005032300949, 0.8679388165473938, -0.09221401065587997]\n"
     ]
    },
    {
     "name": "stderr",
     "output_type": "stream",
     "text": [
      "127.0.0.1 - - [12/Apr/2024 21:18:20] \"GET /get_weights?date=2018-02-20 HTTP/1.1\" 200 -\n"
     ]
    },
    {
     "name": "stdout",
     "output_type": "stream",
     "text": [
      "0\n",
      "2018-02-20\n",
      "[-0.1786225140094757, 0.3460707664489746, -0.08430764824151993, 0.6519954204559326, 0.2648639976978302]\n"
     ]
    },
    {
     "name": "stderr",
     "output_type": "stream",
     "text": [
      "127.0.0.1 - - [12/Apr/2024 21:18:23] \"GET /get_weights?date=2018-02-26 HTTP/1.1\" 200 -\n"
     ]
    },
    {
     "name": "stdout",
     "output_type": "stream",
     "text": [
      "0\n",
      "2018-02-26\n",
      "[-0.0032994700595736504, 0.12514173984527588, 0.6153514981269836, 0.40886566042900085, -0.14605943858623505]\n"
     ]
    },
    {
     "name": "stderr",
     "output_type": "stream",
     "text": [
      "127.0.0.1 - - [12/Apr/2024 21:18:26] \"GET /get_weights?date=2018-03-05 HTTP/1.1\" 200 -\n"
     ]
    },
    {
     "name": "stdout",
     "output_type": "stream",
     "text": [
      "0\n",
      "2018-03-05\n",
      "[-0.04263385757803917, 0.13197965919971466, 0.2691621780395508, 0.14005763828754425, 0.5014343857765198]\n"
     ]
    },
    {
     "name": "stderr",
     "output_type": "stream",
     "text": [
      "127.0.0.1 - - [12/Apr/2024 21:18:28] \"GET /get_weights?date=2018-03-12 HTTP/1.1\" 200 -\n"
     ]
    },
    {
     "name": "stdout",
     "output_type": "stream",
     "text": [
      "0\n",
      "2018-03-12\n",
      "[-0.20719575881958008, 0.47221699357032776, 0.31503981351852417, 0.18958231806755066, 0.2303566038608551]\n"
     ]
    },
    {
     "name": "stderr",
     "output_type": "stream",
     "text": [
      "127.0.0.1 - - [12/Apr/2024 21:18:31] \"GET /get_weights?date=2018-03-19 HTTP/1.1\" 200 -\n"
     ]
    },
    {
     "name": "stdout",
     "output_type": "stream",
     "text": [
      "0\n",
      "2018-03-19\n",
      "[0.042005304247140884, -0.013517330400645733, 0.11923789978027344, 0.7237767577171326, 0.12849736213684082]\n"
     ]
    },
    {
     "name": "stderr",
     "output_type": "stream",
     "text": [
      "127.0.0.1 - - [12/Apr/2024 21:18:34] \"GET /get_weights?date=2018-03-26 HTTP/1.1\" 200 -\n"
     ]
    },
    {
     "name": "stdout",
     "output_type": "stream",
     "text": [
      "0\n",
      "2018-03-26\n",
      "[-0.0257276464253664, 0.07443863153457642, 0.07768872380256653, 0.9852262735366821, -0.11162600666284561]\n"
     ]
    },
    {
     "name": "stderr",
     "output_type": "stream",
     "text": [
      "127.0.0.1 - - [12/Apr/2024 21:18:36] \"GET /get_weights?date=2018-04-02 HTTP/1.1\" 200 -\n"
     ]
    },
    {
     "name": "stdout",
     "output_type": "stream",
     "text": [
      "0\n",
      "2018-04-02\n",
      "[-0.0065589589066803455, -0.07389093935489655, 0.5370913147926331, 0.3186851143836975, 0.22467342019081116]\n"
     ]
    },
    {
     "name": "stderr",
     "output_type": "stream",
     "text": [
      "127.0.0.1 - - [12/Apr/2024 21:18:39] \"GET /get_weights?date=2018-04-09 HTTP/1.1\" 200 -\n"
     ]
    },
    {
     "name": "stdout",
     "output_type": "stream",
     "text": [
      "0\n",
      "2018-04-09\n",
      "[0.009345738217234612, 0.11291804164648056, -0.07978016138076782, 0.9536917209625244, 0.0038246423937380314]\n"
     ]
    },
    {
     "name": "stderr",
     "output_type": "stream",
     "text": [
      "127.0.0.1 - - [12/Apr/2024 21:18:41] \"GET /get_weights?date=2018-04-16 HTTP/1.1\" 200 -\n"
     ]
    },
    {
     "name": "stdout",
     "output_type": "stream",
     "text": [
      "0\n",
      "2018-04-16\n",
      "[0.01250775158405304, 0.5059396624565125, -0.02304951101541519, 0.5619631409645081, -0.057361070066690445]\n"
     ]
    },
    {
     "name": "stderr",
     "output_type": "stream",
     "text": [
      "127.0.0.1 - - [12/Apr/2024 21:18:44] \"GET /get_weights?date=2018-04-23 HTTP/1.1\" 200 -\n"
     ]
    },
    {
     "name": "stdout",
     "output_type": "stream",
     "text": [
      "0\n",
      "2018-04-23\n",
      "[0.22111399471759796, 0.09652029722929001, 0.15998564660549164, 0.4193474054336548, 0.10303264856338501]\n"
     ]
    },
    {
     "name": "stderr",
     "output_type": "stream",
     "text": [
      "127.0.0.1 - - [12/Apr/2024 21:18:47] \"GET /get_weights?date=2018-04-30 HTTP/1.1\" 200 -\n"
     ]
    },
    {
     "name": "stdout",
     "output_type": "stream",
     "text": [
      "0\n",
      "2018-04-30\n",
      "[-0.10598412156105042, 0.4967680871486664, 0.0034845094196498394, 0.7599198222160339, -0.15418824553489685]\n"
     ]
    },
    {
     "name": "stderr",
     "output_type": "stream",
     "text": [
      "127.0.0.1 - - [12/Apr/2024 21:18:50] \"GET /get_weights?date=2018-05-07 HTTP/1.1\" 200 -\n"
     ]
    },
    {
     "name": "stdout",
     "output_type": "stream",
     "text": [
      "0\n",
      "2018-05-07\n",
      "[0.011499613523483276, 0.11650651693344116, -0.11198531836271286, 0.9999643564224243, -0.01598513126373291]\n"
     ]
    },
    {
     "name": "stderr",
     "output_type": "stream",
     "text": [
      "127.0.0.1 - - [12/Apr/2024 21:18:53] \"GET /get_weights?date=2018-05-14 HTTP/1.1\" 200 -\n"
     ]
    },
    {
     "name": "stdout",
     "output_type": "stream",
     "text": [
      "0\n",
      "2018-05-14\n",
      "[-0.07827349007129669, 0.03000563569366932, 0.23277682065963745, 0.5719550251960754, 0.24353596568107605]\n"
     ]
    },
    {
     "name": "stderr",
     "output_type": "stream",
     "text": [
      "127.0.0.1 - - [12/Apr/2024 21:18:55] \"GET /get_weights?date=2018-05-21 HTTP/1.1\" 200 -\n"
     ]
    },
    {
     "name": "stdout",
     "output_type": "stream",
     "text": [
      "0\n",
      "2018-05-21\n",
      "[-0.017747102305293083, 0.2955721616744995, 0.22040653228759766, 0.5123324990272522, -0.010564099065959454]\n"
     ]
    },
    {
     "name": "stderr",
     "output_type": "stream",
     "text": [
      "127.0.0.1 - - [12/Apr/2024 21:18:58] \"GET /get_weights?date=2018-05-29 HTTP/1.1\" 200 -\n"
     ]
    },
    {
     "name": "stdout",
     "output_type": "stream",
     "text": [
      "0\n",
      "2018-05-29\n",
      "[0.23198023438453674, 0.08140439540147781, 0.14945101737976074, 0.3670204281806946, 0.17014390230178833]\n"
     ]
    },
    {
     "name": "stderr",
     "output_type": "stream",
     "text": [
      "127.0.0.1 - - [12/Apr/2024 21:19:00] \"GET /get_weights?date=2018-06-04 HTTP/1.1\" 200 -\n"
     ]
    },
    {
     "name": "stdout",
     "output_type": "stream",
     "text": [
      "0\n",
      "2018-06-04\n",
      "[0.35607701539993286, 0.6189343929290771, -0.2186814546585083, 0.23263013362884521, 0.011039907112717628]\n"
     ]
    },
    {
     "name": "stderr",
     "output_type": "stream",
     "text": [
      "127.0.0.1 - - [12/Apr/2024 21:19:03] \"GET /get_weights?date=2018-06-11 HTTP/1.1\" 200 -\n"
     ]
    },
    {
     "name": "stdout",
     "output_type": "stream",
     "text": [
      "0\n",
      "2018-06-11\n",
      "[-0.09914949536323547, 0.8995295166969299, -0.28703808784484863, 0.8383291363716125, -0.3516710698604584]\n"
     ]
    },
    {
     "name": "stderr",
     "output_type": "stream",
     "text": [
      "127.0.0.1 - - [12/Apr/2024 21:19:05] \"GET /get_weights?date=2018-06-18 HTTP/1.1\" 200 -\n"
     ]
    },
    {
     "name": "stdout",
     "output_type": "stream",
     "text": [
      "0\n",
      "2018-06-18\n",
      "[0.04504866898059845, 0.6007435321807861, -0.2550261616706848, 0.5819711685180664, 0.02726280316710472]\n"
     ]
    },
    {
     "name": "stderr",
     "output_type": "stream",
     "text": [
      "127.0.0.1 - - [12/Apr/2024 21:19:08] \"GET /get_weights?date=2018-06-25 HTTP/1.1\" 200 -\n"
     ]
    },
    {
     "name": "stdout",
     "output_type": "stream",
     "text": [
      "0\n",
      "2018-06-25\n",
      "[0.2564728558063507, 0.04292653128504753, 0.44274550676345825, 0.23870404064655304, 0.019151069223880768]\n"
     ]
    },
    {
     "name": "stderr",
     "output_type": "stream",
     "text": [
      "127.0.0.1 - - [12/Apr/2024 21:19:10] \"GET /get_weights?date=2018-07-02 HTTP/1.1\" 200 -\n"
     ]
    },
    {
     "name": "stdout",
     "output_type": "stream",
     "text": [
      "0\n",
      "2018-07-02\n",
      "[-0.16412253677845, -0.11133838444948196, 0.2509552538394928, 0.9278438687324524, 0.09666185081005096]\n"
     ]
    },
    {
     "name": "stderr",
     "output_type": "stream",
     "text": [
      "127.0.0.1 - - [12/Apr/2024 21:19:12] \"GET /get_weights?date=2018-07-09 HTTP/1.1\" 200 -\n"
     ]
    },
    {
     "name": "stdout",
     "output_type": "stream",
     "text": [
      "0\n",
      "2018-07-09\n",
      "[-0.1181277260184288, 0.27455317974090576, 0.18419839441776276, 0.8696044087409973, -0.21022821962833405]\n"
     ]
    },
    {
     "name": "stderr",
     "output_type": "stream",
     "text": [
      "127.0.0.1 - - [12/Apr/2024 21:19:15] \"GET /get_weights?date=2018-07-16 HTTP/1.1\" 200 -\n"
     ]
    },
    {
     "name": "stdout",
     "output_type": "stream",
     "text": [
      "0\n",
      "2018-07-16\n",
      "[-0.040032677352428436, 0.5056840777397156, 0.09899203479290009, 0.12219248712062836, 0.313164085149765]\n"
     ]
    },
    {
     "name": "stderr",
     "output_type": "stream",
     "text": [
      "127.0.0.1 - - [12/Apr/2024 21:19:18] \"GET /get_weights?date=2018-07-23 HTTP/1.1\" 200 -\n"
     ]
    },
    {
     "name": "stdout",
     "output_type": "stream",
     "text": [
      "0\n",
      "2018-07-23\n",
      "[-0.13267169892787933, 0.9558998942375183, 0.4059107005596161, 0.1335071474313736, -0.3626460134983063]\n"
     ]
    },
    {
     "name": "stderr",
     "output_type": "stream",
     "text": [
      "127.0.0.1 - - [12/Apr/2024 21:19:20] \"GET /get_weights?date=2018-07-30 HTTP/1.1\" 200 -\n"
     ]
    },
    {
     "name": "stdout",
     "output_type": "stream",
     "text": [
      "0\n",
      "2018-07-30\n",
      "[-0.16275015473365784, 0.35534873604774475, -0.19243763387203217, 0.9547480344772339, 0.045090992003679276]\n"
     ]
    },
    {
     "name": "stderr",
     "output_type": "stream",
     "text": [
      "127.0.0.1 - - [12/Apr/2024 21:19:23] \"GET /get_weights?date=2018-08-06 HTTP/1.1\" 200 -\n"
     ]
    },
    {
     "name": "stdout",
     "output_type": "stream",
     "text": [
      "0\n",
      "2018-08-06\n",
      "[-0.11064980924129486, 0.5873033404350281, -0.47349345684051514, 0.9999270439147949, -0.003087080316618085]\n"
     ]
    },
    {
     "name": "stderr",
     "output_type": "stream",
     "text": [
      "127.0.0.1 - - [12/Apr/2024 21:19:25] \"GET /get_weights?date=2018-08-13 HTTP/1.1\" 200 -\n"
     ]
    },
    {
     "name": "stdout",
     "output_type": "stream",
     "text": [
      "0\n",
      "2018-08-13\n",
      "[0.20417200028896332, 0.01613321714103222, 0.4581269919872284, 0.5287131667137146, -0.20714540779590607]\n"
     ]
    },
    {
     "name": "stderr",
     "output_type": "stream",
     "text": [
      "127.0.0.1 - - [12/Apr/2024 21:19:28] \"GET /get_weights?date=2018-08-20 HTTP/1.1\" 200 -\n"
     ]
    },
    {
     "name": "stdout",
     "output_type": "stream",
     "text": [
      "0\n",
      "2018-08-20\n",
      "[-0.01371311116963625, -0.04570259526371956, 0.19389620423316956, 0.7591714859008789, 0.10634803771972656]\n"
     ]
    },
    {
     "name": "stderr",
     "output_type": "stream",
     "text": [
      "127.0.0.1 - - [12/Apr/2024 21:19:30] \"GET /get_weights?date=2018-08-27 HTTP/1.1\" 200 -\n"
     ]
    },
    {
     "name": "stdout",
     "output_type": "stream",
     "text": [
      "0\n",
      "2018-08-27\n",
      "[0.15652213990688324, 0.8791801929473877, -0.26463833451271057, 0.7390394806861877, -0.5101034641265869]\n"
     ]
    },
    {
     "name": "stderr",
     "output_type": "stream",
     "text": [
      "127.0.0.1 - - [12/Apr/2024 21:19:32] \"GET /get_weights?date=2018-09-04 HTTP/1.1\" 200 -\n"
     ]
    },
    {
     "name": "stdout",
     "output_type": "stream",
     "text": [
      "0\n",
      "2018-09-04\n",
      "[-0.07162019610404968, 0.20951491594314575, -0.009409177117049694, 0.9953489303588867, -0.12383449077606201]\n"
     ]
    },
    {
     "name": "stderr",
     "output_type": "stream",
     "text": [
      "127.0.0.1 - - [12/Apr/2024 21:19:35] \"GET /get_weights?date=2018-09-10 HTTP/1.1\" 200 -\n"
     ]
    },
    {
     "name": "stdout",
     "output_type": "stream",
     "text": [
      "0\n",
      "2018-09-10\n",
      "[-0.19200319051742554, 0.4592052102088928, -0.3323432505130768, 0.9999514222145081, 0.06518980860710144]\n"
     ]
    },
    {
     "name": "stderr",
     "output_type": "stream",
     "text": [
      "127.0.0.1 - - [12/Apr/2024 21:19:37] \"GET /get_weights?date=2018-09-17 HTTP/1.1\" 200 -\n"
     ]
    },
    {
     "name": "stdout",
     "output_type": "stream",
     "text": [
      "0\n",
      "2018-09-17\n",
      "[-0.3180411159992218, 0.3665107786655426, 0.12648800015449524, 0.5219196677207947, 0.3031226694583893]\n"
     ]
    },
    {
     "name": "stderr",
     "output_type": "stream",
     "text": [
      "127.0.0.1 - - [12/Apr/2024 21:19:39] \"GET /get_weights?date=2018-09-24 HTTP/1.1\" 200 -\n"
     ]
    },
    {
     "name": "stdout",
     "output_type": "stream",
     "text": [
      "0\n",
      "2018-09-24\n",
      "[-0.12350282073020935, 0.7044590711593628, -0.44144943356513977, 0.9999915957450867, -0.13949839770793915]\n"
     ]
    },
    {
     "name": "stderr",
     "output_type": "stream",
     "text": [
      "127.0.0.1 - - [12/Apr/2024 21:19:42] \"GET /get_weights?date=2018-10-01 HTTP/1.1\" 200 -\n"
     ]
    },
    {
     "name": "stdout",
     "output_type": "stream",
     "text": [
      "0\n",
      "2018-10-01\n",
      "[-0.11356140673160553, 0.4243651032447815, -0.27871447801589966, 0.8518876433372498, 0.11602309346199036]\n"
     ]
    },
    {
     "name": "stderr",
     "output_type": "stream",
     "text": [
      "127.0.0.1 - - [12/Apr/2024 21:19:45] \"GET /get_weights?date=2018-10-08 HTTP/1.1\" 200 -\n"
     ]
    },
    {
     "name": "stdout",
     "output_type": "stream",
     "text": [
      "0\n",
      "2018-10-08\n",
      "[0.34839150309562683, 0.3171164393424988, 0.5281527042388916, 0.001983820227906108, -0.19564443826675415]\n"
     ]
    },
    {
     "name": "stderr",
     "output_type": "stream",
     "text": [
      "127.0.0.1 - - [12/Apr/2024 21:19:47] \"GET /get_weights?date=2018-10-15 HTTP/1.1\" 200 -\n"
     ]
    },
    {
     "name": "stdout",
     "output_type": "stream",
     "text": [
      "0\n",
      "2018-10-15\n",
      "[0.1771809160709381, -0.013269771821796894, 0.5458135008811951, 0.251333087682724, 0.03894222900271416]\n"
     ]
    },
    {
     "name": "stderr",
     "output_type": "stream",
     "text": [
      "127.0.0.1 - - [12/Apr/2024 21:19:50] \"GET /get_weights?date=2018-10-22 HTTP/1.1\" 200 -\n"
     ]
    },
    {
     "name": "stdout",
     "output_type": "stream",
     "text": [
      "0\n",
      "2018-10-22\n",
      "[0.9999777674674988, 0.174103245139122, -0.37544193863868713, 0.42544740438461304, -0.2240864336490631]\n"
     ]
    },
    {
     "name": "stderr",
     "output_type": "stream",
     "text": [
      "127.0.0.1 - - [12/Apr/2024 21:19:52] \"GET /get_weights?date=2018-10-29 HTTP/1.1\" 200 -\n"
     ]
    },
    {
     "name": "stdout",
     "output_type": "stream",
     "text": [
      "0\n",
      "2018-10-29\n",
      "[0.020892001688480377, 0.13016414642333984, 0.31094443798065186, 0.6062275767326355, -0.06822822242975235]\n"
     ]
    },
    {
     "name": "stderr",
     "output_type": "stream",
     "text": [
      "127.0.0.1 - - [12/Apr/2024 21:19:54] \"GET /get_weights?date=2018-11-05 HTTP/1.1\" 200 -\n"
     ]
    },
    {
     "name": "stdout",
     "output_type": "stream",
     "text": [
      "0\n",
      "2018-11-05\n",
      "[-0.10266608744859695, 0.1452724039554596, -0.026856888085603714, 0.7508732676506042, 0.23337726294994354]\n"
     ]
    },
    {
     "name": "stderr",
     "output_type": "stream",
     "text": [
      "127.0.0.1 - - [12/Apr/2024 21:19:57] \"GET /get_weights?date=2018-11-12 HTTP/1.1\" 200 -\n"
     ]
    },
    {
     "name": "stdout",
     "output_type": "stream",
     "text": [
      "0\n",
      "2018-11-12\n",
      "[0.2518478035926819, 0.46372735500335693, -0.05034809187054634, 0.3201567232608795, 0.014616219326853752]\n"
     ]
    },
    {
     "name": "stderr",
     "output_type": "stream",
     "text": [
      "127.0.0.1 - - [12/Apr/2024 21:19:59] \"GET /get_weights?date=2018-11-19 HTTP/1.1\" 200 -\n"
     ]
    },
    {
     "name": "stdout",
     "output_type": "stream",
     "text": [
      "0\n",
      "2018-11-19\n",
      "[0.16093377768993378, -0.0745856836438179, 0.372724711894989, 0.49653390049934387, 0.044393304735422134]\n"
     ]
    },
    {
     "name": "stderr",
     "output_type": "stream",
     "text": [
      "127.0.0.1 - - [12/Apr/2024 21:20:02] \"GET /get_weights?date=2018-11-26 HTTP/1.1\" 200 -\n"
     ]
    },
    {
     "name": "stdout",
     "output_type": "stream",
     "text": [
      "0\n",
      "2018-11-26\n",
      "[0.107846200466156, 0.055676694959402084, 0.041167739778757095, 0.6165632009506226, 0.1787460893392563]\n"
     ]
    },
    {
     "name": "stderr",
     "output_type": "stream",
     "text": [
      "127.0.0.1 - - [12/Apr/2024 21:20:04] \"GET /get_weights?date=2018-12-03 HTTP/1.1\" 200 -\n"
     ]
    },
    {
     "name": "stdout",
     "output_type": "stream",
     "text": [
      "0\n",
      "2018-12-03\n",
      "[-0.026383046060800552, 0.6332915425300598, 0.0037019618321210146, 0.32529133558273315, 0.06409824639558792]\n"
     ]
    },
    {
     "name": "stderr",
     "output_type": "stream",
     "text": [
      "127.0.0.1 - - [12/Apr/2024 21:20:07] \"GET /get_weights?date=2018-12-10 HTTP/1.1\" 200 -\n"
     ]
    },
    {
     "name": "stdout",
     "output_type": "stream",
     "text": [
      "0\n",
      "2018-12-10\n",
      "[-0.009007714688777924, 0.1968740075826645, 0.16512300074100494, 0.5461069941520691, 0.10090383142232895]\n"
     ]
    },
    {
     "name": "stderr",
     "output_type": "stream",
     "text": [
      "127.0.0.1 - - [12/Apr/2024 21:20:11] \"GET /get_weights?date=2018-12-17 HTTP/1.1\" 200 -\n"
     ]
    },
    {
     "name": "stdout",
     "output_type": "stream",
     "text": [
      "1\n",
      "2018-12-17\n",
      "[0.4764421582221985, 0.2498188316822052, 0.13748548924922943, 0.30122110247612, -0.16496747732162476]\n"
     ]
    },
    {
     "name": "stderr",
     "output_type": "stream",
     "text": [
      "127.0.0.1 - - [12/Apr/2024 21:20:14] \"GET /get_weights?date=2018-12-24 HTTP/1.1\" 200 -\n"
     ]
    },
    {
     "name": "stdout",
     "output_type": "stream",
     "text": [
      "1\n",
      "2018-12-24\n",
      "[0.501994788646698, 0.0020254363771528006, 0.28220710158348083, 0.08664506673812866, 0.12712791562080383]\n"
     ]
    },
    {
     "name": "stderr",
     "output_type": "stream",
     "text": [
      "127.0.0.1 - - [12/Apr/2024 21:20:16] \"GET /get_weights?date=2018-12-31 HTTP/1.1\" 200 -\n"
     ]
    },
    {
     "name": "stdout",
     "output_type": "stream",
     "text": [
      "1\n",
      "2018-12-31\n",
      "[0.05380675941705704, 0.13170412182807922, -0.09965250641107559, 0.9999629259109497, -0.08582116663455963]\n",
      "1\n"
     ]
    },
    {
     "name": "stderr",
     "output_type": "stream",
     "text": [
      "127.0.0.1 - - [12/Apr/2024 21:20:19] \"GET /get_weights?date=2019-01-07 HTTP/1.1\" 200 -\n"
     ]
    },
    {
     "name": "stdout",
     "output_type": "stream",
     "text": [
      "2019-01-07\n",
      "[0.002053886651992798, 0.057119399309158325, -0.012173477560281754, 0.7621782422065735, 0.19082212448120117]\n"
     ]
    },
    {
     "name": "stderr",
     "output_type": "stream",
     "text": [
      "127.0.0.1 - - [12/Apr/2024 21:20:22] \"GET /get_weights?date=2019-01-14 HTTP/1.1\" 200 -\n"
     ]
    },
    {
     "name": "stdout",
     "output_type": "stream",
     "text": [
      "1\n",
      "2019-01-14\n",
      "[0.036187004297971725, 0.10132408142089844, 0.042935676872730255, 0.6352037787437439, 0.18434956669807434]\n"
     ]
    },
    {
     "name": "stderr",
     "output_type": "stream",
     "text": [
      "127.0.0.1 - - [12/Apr/2024 21:20:24] \"GET /get_weights?date=2019-01-22 HTTP/1.1\" 200 -\n"
     ]
    },
    {
     "name": "stdout",
     "output_type": "stream",
     "text": [
      "1\n",
      "2019-01-22\n",
      "[-0.08000699430704117, -0.16094936430454254, 0.2808222770690918, 0.7262994050979614, 0.23383477330207825]\n"
     ]
    },
    {
     "name": "stderr",
     "output_type": "stream",
     "text": [
      "127.0.0.1 - - [12/Apr/2024 21:20:27] \"GET /get_weights?date=2019-01-28 HTTP/1.1\" 200 -\n"
     ]
    },
    {
     "name": "stdout",
     "output_type": "stream",
     "text": [
      "1\n",
      "2019-01-28\n",
      "[0.058419398963451385, 0.3237326443195343, 0.14150328934192657, 0.27701684832572937, 0.19932806491851807]\n"
     ]
    },
    {
     "name": "stderr",
     "output_type": "stream",
     "text": [
      "127.0.0.1 - - [12/Apr/2024 21:20:29] \"GET /get_weights?date=2019-02-04 HTTP/1.1\" 200 -\n"
     ]
    },
    {
     "name": "stdout",
     "output_type": "stream",
     "text": [
      "1\n",
      "2019-02-04\n",
      "[-0.025677455589175224, 0.13999995589256287, -0.01893954537808895, 0.76701819896698, 0.1375989317893982]\n"
     ]
    },
    {
     "name": "stderr",
     "output_type": "stream",
     "text": [
      "127.0.0.1 - - [12/Apr/2024 21:20:32] \"GET /get_weights?date=2019-02-11 HTTP/1.1\" 200 -\n"
     ]
    },
    {
     "name": "stdout",
     "output_type": "stream",
     "text": [
      "1\n",
      "2019-02-11\n",
      "[-0.09667735546827316, 0.4989660084247589, -0.15757499635219574, 0.7220046520233154, 0.03328166902065277]\n"
     ]
    },
    {
     "name": "stderr",
     "output_type": "stream",
     "text": [
      "127.0.0.1 - - [12/Apr/2024 21:20:35] \"GET /get_weights?date=2019-02-19 HTTP/1.1\" 200 -\n"
     ]
    },
    {
     "name": "stdout",
     "output_type": "stream",
     "text": [
      "1\n",
      "2019-02-19\n",
      "[0.05395028740167618, 0.1682128608226776, -0.20721152424812317, 0.9434682130813599, 0.04158013314008713]\n"
     ]
    },
    {
     "name": "stderr",
     "output_type": "stream",
     "text": [
      "127.0.0.1 - - [12/Apr/2024 21:20:37] \"GET /get_weights?date=2019-02-25 HTTP/1.1\" 200 -\n"
     ]
    },
    {
     "name": "stdout",
     "output_type": "stream",
     "text": [
      "1\n",
      "2019-02-25\n",
      "[0.0699954405426979, 0.5106498599052429, 0.002121578436344862, 0.3864506781101227, 0.030782504007220268]\n"
     ]
    },
    {
     "name": "stderr",
     "output_type": "stream",
     "text": [
      "127.0.0.1 - - [12/Apr/2024 21:20:40] \"GET /get_weights?date=2019-03-04 HTTP/1.1\" 200 -\n"
     ]
    },
    {
     "name": "stdout",
     "output_type": "stream",
     "text": [
      "1\n",
      "2019-03-04\n",
      "[-0.005041377618908882, 0.8550525307655334, 0.21582463383674622, 0.08042970299720764, -0.14626538753509521]\n"
     ]
    },
    {
     "name": "stderr",
     "output_type": "stream",
     "text": [
      "127.0.0.1 - - [12/Apr/2024 21:20:42] \"GET /get_weights?date=2019-03-11 HTTP/1.1\" 200 -\n"
     ]
    },
    {
     "name": "stdout",
     "output_type": "stream",
     "text": [
      "1\n",
      "2019-03-11\n",
      "[-0.015848593786358833, 0.5446953177452087, 0.3309837877750397, 0.164874866604805, -0.02470540441572666]\n"
     ]
    },
    {
     "name": "stderr",
     "output_type": "stream",
     "text": [
      "127.0.0.1 - - [12/Apr/2024 21:20:45] \"GET /get_weights?date=2019-03-18 HTTP/1.1\" 200 -\n"
     ]
    },
    {
     "name": "stdout",
     "output_type": "stream",
     "text": [
      "1\n",
      "2019-03-18\n",
      "[-0.4046255052089691, 0.9999880790710449, -0.31599316000938416, 0.19778364896774292, 0.5228469967842102]\n"
     ]
    },
    {
     "name": "stderr",
     "output_type": "stream",
     "text": [
      "127.0.0.1 - - [12/Apr/2024 21:20:47] \"GET /get_weights?date=2019-03-25 HTTP/1.1\" 200 -\n"
     ]
    },
    {
     "name": "stdout",
     "output_type": "stream",
     "text": [
      "1\n",
      "2019-03-25\n",
      "[-0.07402756065130234, 0.794291079044342, -0.5624172687530518, 0.8715823888778687, -0.029428834095597267]\n"
     ]
    },
    {
     "name": "stderr",
     "output_type": "stream",
     "text": [
      "127.0.0.1 - - [12/Apr/2024 21:20:50] \"GET /get_weights?date=2019-04-01 HTTP/1.1\" 200 -\n"
     ]
    },
    {
     "name": "stdout",
     "output_type": "stream",
     "text": [
      "1\n",
      "2019-04-01\n",
      "[-0.14268901944160461, 0.3380092978477478, -0.04372846707701683, 0.08278009295463562, 0.7656281590461731]\n"
     ]
    },
    {
     "name": "stderr",
     "output_type": "stream",
     "text": [
      "127.0.0.1 - - [12/Apr/2024 21:20:52] \"GET /get_weights?date=2019-04-08 HTTP/1.1\" 200 -\n"
     ]
    },
    {
     "name": "stdout",
     "output_type": "stream",
     "text": [
      "1\n",
      "2019-04-08\n",
      "[-0.20789815485477448, 0.38167184591293335, -0.07746321707963943, 0.9550138711929321, -0.051324374973773956]\n"
     ]
    },
    {
     "name": "stderr",
     "output_type": "stream",
     "text": [
      "127.0.0.1 - - [12/Apr/2024 21:20:55] \"GET /get_weights?date=2019-04-15 HTTP/1.1\" 200 -\n"
     ]
    },
    {
     "name": "stdout",
     "output_type": "stream",
     "text": [
      "1\n",
      "2019-04-15\n",
      "[-0.3687283396720886, 0.8708400130271912, -0.2939082086086273, 0.45673754811286926, 0.3350590169429779]\n"
     ]
    },
    {
     "name": "stderr",
     "output_type": "stream",
     "text": [
      "127.0.0.1 - - [12/Apr/2024 21:20:57] \"GET /get_weights?date=2019-04-22 HTTP/1.1\" 200 -\n"
     ]
    },
    {
     "name": "stdout",
     "output_type": "stream",
     "text": [
      "1\n",
      "2019-04-22\n",
      "[0.22200295329093933, 0.9999898672103882, -0.13214333355426788, 0.13857130706310272, -0.22842073440551758]\n"
     ]
    },
    {
     "name": "stderr",
     "output_type": "stream",
     "text": [
      "127.0.0.1 - - [12/Apr/2024 21:21:00] \"GET /get_weights?date=2019-04-29 HTTP/1.1\" 200 -\n"
     ]
    },
    {
     "name": "stdout",
     "output_type": "stream",
     "text": [
      "1\n",
      "2019-04-29\n",
      "[-0.14420092105865479, 0.4818859398365021, -0.13462696969509125, 0.46254828572273254, 0.3343936502933502]\n"
     ]
    },
    {
     "name": "stderr",
     "output_type": "stream",
     "text": [
      "127.0.0.1 - - [12/Apr/2024 21:21:03] \"GET /get_weights?date=2019-05-06 HTTP/1.1\" 200 -\n"
     ]
    },
    {
     "name": "stdout",
     "output_type": "stream",
     "text": [
      "1\n",
      "2019-05-06\n",
      "[-0.06363300234079361, 0.6611956357955933, -0.18959090113639832, 0.43641725182533264, 0.15561094880104065]\n"
     ]
    },
    {
     "name": "stderr",
     "output_type": "stream",
     "text": [
      "127.0.0.1 - - [12/Apr/2024 21:21:05] \"GET /get_weights?date=2019-05-13 HTTP/1.1\" 200 -\n"
     ]
    },
    {
     "name": "stdout",
     "output_type": "stream",
     "text": [
      "1\n",
      "2019-05-13\n",
      "[0.10091541707515717, 0.45131468772888184, -0.06445480138063431, 0.5660008192062378, -0.05377612262964249]\n"
     ]
    },
    {
     "name": "stderr",
     "output_type": "stream",
     "text": [
      "127.0.0.1 - - [12/Apr/2024 21:21:08] \"GET /get_weights?date=2019-05-20 HTTP/1.1\" 200 -\n"
     ]
    },
    {
     "name": "stdout",
     "output_type": "stream",
     "text": [
      "1\n",
      "2019-05-20\n",
      "[-0.12460705637931824, 0.29105234146118164, 0.018416179344058037, 0.6347956657409668, 0.1803428679704666]\n"
     ]
    },
    {
     "name": "stderr",
     "output_type": "stream",
     "text": [
      "127.0.0.1 - - [12/Apr/2024 21:21:10] \"GET /get_weights?date=2019-05-28 HTTP/1.1\" 200 -\n"
     ]
    },
    {
     "name": "stdout",
     "output_type": "stream",
     "text": [
      "1\n",
      "2019-05-28\n",
      "[0.05836695432662964, 0.247292160987854, 0.10952237248420715, 0.7273319363594055, -0.1425134241580963]\n",
      "1\n"
     ]
    },
    {
     "name": "stderr",
     "output_type": "stream",
     "text": [
      "127.0.0.1 - - [12/Apr/2024 21:21:13] \"GET /get_weights?date=2019-06-03 HTTP/1.1\" 200 -\n"
     ]
    },
    {
     "name": "stdout",
     "output_type": "stream",
     "text": [
      "2019-06-03\n",
      "[0.5270676612854004, -0.002429950749501586, 0.3750278353691101, 0.3446873128414154, -0.24435284733772278]\n"
     ]
    },
    {
     "name": "stderr",
     "output_type": "stream",
     "text": [
      "127.0.0.1 - - [12/Apr/2024 21:21:16] \"GET /get_weights?date=2019-06-10 HTTP/1.1\" 200 -\n"
     ]
    },
    {
     "name": "stdout",
     "output_type": "stream",
     "text": [
      "1\n",
      "2019-06-10\n",
      "[0.029413318261504173, 0.3374800682067871, 0.01033993624150753, 0.4358058571815491, 0.18696081638336182]\n"
     ]
    },
    {
     "name": "stderr",
     "output_type": "stream",
     "text": [
      "127.0.0.1 - - [12/Apr/2024 21:21:18] \"GET /get_weights?date=2019-06-17 HTTP/1.1\" 200 -\n"
     ]
    },
    {
     "name": "stdout",
     "output_type": "stream",
     "text": [
      "1\n",
      "2019-06-17\n",
      "[0.1069234237074852, 0.29750341176986694, -0.0647612139582634, 0.5309634208679199, 0.1293710470199585]\n"
     ]
    },
    {
     "name": "stderr",
     "output_type": "stream",
     "text": [
      "127.0.0.1 - - [12/Apr/2024 21:21:21] \"GET /get_weights?date=2019-06-24 HTTP/1.1\" 200 -\n"
     ]
    },
    {
     "name": "stdout",
     "output_type": "stream",
     "text": [
      "1\n",
      "2019-06-24\n",
      "[-0.23299828171730042, 0.9999870657920837, -0.21583914756774902, 0.47025033831596375, -0.02139994129538536]\n"
     ]
    },
    {
     "name": "stderr",
     "output_type": "stream",
     "text": [
      "127.0.0.1 - - [12/Apr/2024 21:21:23] \"GET /get_weights?date=2019-07-01 HTTP/1.1\" 200 -\n"
     ]
    },
    {
     "name": "stdout",
     "output_type": "stream",
     "text": [
      "1\n",
      "2019-07-01\n",
      "[0.03667839989066124, 0.34268918633461, 0.16634802520275116, 0.3601813316345215, 0.09410306066274643]\n"
     ]
    },
    {
     "name": "stderr",
     "output_type": "stream",
     "text": [
      "127.0.0.1 - - [12/Apr/2024 21:21:26] \"GET /get_weights?date=2019-07-08 HTTP/1.1\" 200 -\n"
     ]
    },
    {
     "name": "stdout",
     "output_type": "stream",
     "text": [
      "1\n",
      "2019-07-08\n",
      "[0.07573223859071732, 0.32493630051612854, -0.1202821135520935, 0.6372488737106323, 0.08236470073461533]\n"
     ]
    },
    {
     "name": "stderr",
     "output_type": "stream",
     "text": [
      "127.0.0.1 - - [12/Apr/2024 21:21:29] \"GET /get_weights?date=2019-07-15 HTTP/1.1\" 200 -\n"
     ]
    },
    {
     "name": "stdout",
     "output_type": "stream",
     "text": [
      "1\n",
      "2019-07-15\n",
      "[-0.3192848265171051, 0.9999804496765137, 0.008254771120846272, 0.23687300086021423, 0.07417658716440201]\n"
     ]
    },
    {
     "name": "stderr",
     "output_type": "stream",
     "text": [
      "127.0.0.1 - - [12/Apr/2024 21:21:31] \"GET /get_weights?date=2019-07-22 HTTP/1.1\" 200 -\n"
     ]
    },
    {
     "name": "stdout",
     "output_type": "stream",
     "text": [
      "1\n",
      "2019-07-22\n",
      "[0.020170247182250023, 0.2264595925807953, 0.28362172842025757, 0.3617684245109558, 0.10798021405935287]\n"
     ]
    },
    {
     "name": "stderr",
     "output_type": "stream",
     "text": [
      "127.0.0.1 - - [12/Apr/2024 21:21:34] \"GET /get_weights?date=2019-07-29 HTTP/1.1\" 200 -\n"
     ]
    },
    {
     "name": "stdout",
     "output_type": "stream",
     "text": [
      "1\n",
      "2019-07-29\n",
      "[-0.028441235423088074, 0.1562010496854782, -0.1296720653772354, 0.7294234037399292, 0.27248892188072205]\n"
     ]
    },
    {
     "name": "stderr",
     "output_type": "stream",
     "text": [
      "127.0.0.1 - - [12/Apr/2024 21:21:36] \"GET /get_weights?date=2019-08-05 HTTP/1.1\" 200 -\n"
     ]
    },
    {
     "name": "stdout",
     "output_type": "stream",
     "text": [
      "1\n",
      "2019-08-05\n",
      "[0.014654084108769894, 0.5889303684234619, 0.10889719426631927, 0.3656749725341797, -0.07815669476985931]\n"
     ]
    },
    {
     "name": "stderr",
     "output_type": "stream",
     "text": [
      "127.0.0.1 - - [12/Apr/2024 21:21:39] \"GET /get_weights?date=2019-08-12 HTTP/1.1\" 200 -\n"
     ]
    },
    {
     "name": "stdout",
     "output_type": "stream",
     "text": [
      "1\n",
      "2019-08-12\n",
      "[0.0546504482626915, 0.07568846642971039, 0.07615608721971512, 0.43645504117012024, 0.35704994201660156]\n"
     ]
    },
    {
     "name": "stderr",
     "output_type": "stream",
     "text": [
      "127.0.0.1 - - [12/Apr/2024 21:21:41] \"GET /get_weights?date=2019-08-19 HTTP/1.1\" 200 -\n"
     ]
    },
    {
     "name": "stdout",
     "output_type": "stream",
     "text": [
      "1\n",
      "2019-08-19\n",
      "[-0.2538769245147705, 0.1758568435907364, -0.10824836045503616, 1.0000118017196655, 0.18625669181346893]\n"
     ]
    },
    {
     "name": "stderr",
     "output_type": "stream",
     "text": [
      "127.0.0.1 - - [12/Apr/2024 21:21:44] \"GET /get_weights?date=2019-08-26 HTTP/1.1\" 200 -\n"
     ]
    },
    {
     "name": "stdout",
     "output_type": "stream",
     "text": [
      "1\n",
      "2019-08-26\n",
      "[0.245148167014122, -0.07198895514011383, 0.07687804102897644, 0.700877845287323, 0.04908490553498268]\n"
     ]
    },
    {
     "name": "stderr",
     "output_type": "stream",
     "text": [
      "127.0.0.1 - - [12/Apr/2024 21:21:47] \"GET /get_weights?date=2019-09-03 HTTP/1.1\" 200 -\n"
     ]
    },
    {
     "name": "stdout",
     "output_type": "stream",
     "text": [
      "1\n",
      "2019-09-03\n",
      "[-0.07368326932191849, 0.5654211640357971, 0.16461041569709778, -0.026940269395709038, 0.3705921471118927]\n"
     ]
    },
    {
     "name": "stderr",
     "output_type": "stream",
     "text": [
      "127.0.0.1 - - [12/Apr/2024 21:21:49] \"GET /get_weights?date=2019-09-09 HTTP/1.1\" 200 -\n"
     ]
    },
    {
     "name": "stdout",
     "output_type": "stream",
     "text": [
      "1\n",
      "2019-09-09\n",
      "[-0.10420450568199158, 0.5449146032333374, 0.010347222909331322, 0.3437653183937073, 0.20517735183238983]\n"
     ]
    },
    {
     "name": "stderr",
     "output_type": "stream",
     "text": [
      "127.0.0.1 - - [12/Apr/2024 21:21:51] \"GET /get_weights?date=2019-09-16 HTTP/1.1\" 200 -\n"
     ]
    },
    {
     "name": "stdout",
     "output_type": "stream",
     "text": [
      "1\n",
      "2019-09-16\n",
      "[0.1456751972436905, 0.22251486778259277, -0.12301453948020935, 0.3462100028991699, 0.40861448645591736]\n"
     ]
    },
    {
     "name": "stderr",
     "output_type": "stream",
     "text": [
      "127.0.0.1 - - [12/Apr/2024 21:21:54] \"GET /get_weights?date=2019-09-23 HTTP/1.1\" 200 -\n"
     ]
    },
    {
     "name": "stdout",
     "output_type": "stream",
     "text": [
      "1\n",
      "2019-09-23\n",
      "[0.13757483661174774, 0.14998134970664978, -0.05119570344686508, 0.6563570499420166, 0.10728248208761215]\n"
     ]
    },
    {
     "name": "stderr",
     "output_type": "stream",
     "text": [
      "127.0.0.1 - - [12/Apr/2024 21:21:56] \"GET /get_weights?date=2019-09-30 HTTP/1.1\" 200 -\n"
     ]
    },
    {
     "name": "stdout",
     "output_type": "stream",
     "text": [
      "1\n",
      "2019-09-30\n",
      "[-0.09908364713191986, 0.5283791422843933, -0.033480849117040634, 0.5309943556785583, 0.07319124042987823]\n"
     ]
    },
    {
     "name": "stderr",
     "output_type": "stream",
     "text": [
      "127.0.0.1 - - [12/Apr/2024 21:21:58] \"GET /get_weights?date=2019-10-07 HTTP/1.1\" 200 -\n"
     ]
    },
    {
     "name": "stdout",
     "output_type": "stream",
     "text": [
      "1\n",
      "2019-10-07\n",
      "[-0.0436335951089859, 0.6126731634140015, 0.06041437387466431, 0.3742855191230774, -0.0037394759710878134]\n"
     ]
    },
    {
     "name": "stderr",
     "output_type": "stream",
     "text": [
      "127.0.0.1 - - [12/Apr/2024 21:22:01] \"GET /get_weights?date=2019-10-14 HTTP/1.1\" 200 -\n"
     ]
    },
    {
     "name": "stdout",
     "output_type": "stream",
     "text": [
      "1\n",
      "2019-10-14\n",
      "[-0.21149927377700806, 0.23961985111236572, -0.059112075716257095, 0.472507506608963, 0.5584839582443237]\n"
     ]
    },
    {
     "name": "stderr",
     "output_type": "stream",
     "text": [
      "127.0.0.1 - - [12/Apr/2024 21:22:03] \"GET /get_weights?date=2019-10-21 HTTP/1.1\" 200 -\n"
     ]
    },
    {
     "name": "stdout",
     "output_type": "stream",
     "text": [
      "1\n",
      "2019-10-21\n",
      "[0.2302975356578827, 0.24721328914165497, -0.08455923199653625, 0.20293650031089783, 0.4041118919849396]\n"
     ]
    },
    {
     "name": "stderr",
     "output_type": "stream",
     "text": [
      "127.0.0.1 - - [12/Apr/2024 21:22:05] \"GET /get_weights?date=2019-10-28 HTTP/1.1\" 200 -\n"
     ]
    },
    {
     "name": "stdout",
     "output_type": "stream",
     "text": [
      "1\n",
      "2019-10-28\n",
      "[-0.09562339633703232, 0.9639880657196045, -0.21774502098560333, 0.08788973093032837, 0.26149073243141174]\n"
     ]
    },
    {
     "name": "stderr",
     "output_type": "stream",
     "text": [
      "127.0.0.1 - - [12/Apr/2024 21:22:08] \"GET /get_weights?date=2019-11-04 HTTP/1.1\" 200 -\n"
     ]
    },
    {
     "name": "stdout",
     "output_type": "stream",
     "text": [
      "1\n",
      "2019-11-04\n",
      "[-0.10121984034776688, 0.17216195166110992, 0.4273938536643982, 0.2553173303604126, 0.24634674191474915]\n"
     ]
    },
    {
     "name": "stderr",
     "output_type": "stream",
     "text": [
      "127.0.0.1 - - [12/Apr/2024 21:22:10] \"GET /get_weights?date=2019-11-11 HTTP/1.1\" 200 -\n"
     ]
    },
    {
     "name": "stdout",
     "output_type": "stream",
     "text": [
      "1\n",
      "2019-11-11\n",
      "[0.22882895171642303, 0.32761237025260925, -0.1131841316819191, 0.4614608585834503, 0.09528197348117828]\n"
     ]
    },
    {
     "name": "stderr",
     "output_type": "stream",
     "text": [
      "127.0.0.1 - - [12/Apr/2024 21:22:12] \"GET /get_weights?date=2019-11-18 HTTP/1.1\" 200 -\n"
     ]
    },
    {
     "name": "stdout",
     "output_type": "stream",
     "text": [
      "1\n",
      "2019-11-18\n",
      "[-0.11723187565803528, 0.4998161494731903, -0.23026245832443237, 0.9999619722366333, -0.15228374302387238]\n"
     ]
    },
    {
     "name": "stderr",
     "output_type": "stream",
     "text": [
      "127.0.0.1 - - [12/Apr/2024 21:22:14] \"GET /get_weights?date=2019-11-25 HTTP/1.1\" 200 -\n"
     ]
    },
    {
     "name": "stdout",
     "output_type": "stream",
     "text": [
      "1\n",
      "2019-11-25\n",
      "[-0.23950526118278503, 0.551606297492981, -0.5717400312423706, 0.6975681781768799, 0.5620707869529724]\n"
     ]
    },
    {
     "name": "stderr",
     "output_type": "stream",
     "text": [
      "127.0.0.1 - - [12/Apr/2024 21:22:17] \"GET /get_weights?date=2019-12-02 HTTP/1.1\" 200 -\n"
     ]
    },
    {
     "name": "stdout",
     "output_type": "stream",
     "text": [
      "1\n",
      "2019-12-02\n",
      "[0.08002866059541702, 0.4686000943183899, -0.02976951375603676, 0.4040834605693817, 0.07705730199813843]\n"
     ]
    },
    {
     "name": "stderr",
     "output_type": "stream",
     "text": [
      "127.0.0.1 - - [12/Apr/2024 21:22:19] \"GET /get_weights?date=2019-12-09 HTTP/1.1\" 200 -\n"
     ]
    },
    {
     "name": "stdout",
     "output_type": "stream",
     "text": [
      "1\n",
      "2019-12-09\n",
      "[-0.174004465341568, -0.05476635694503784, 0.9523476958274841, 0.26836761832237244, 0.008055496029555798]\n"
     ]
    },
    {
     "name": "stderr",
     "output_type": "stream",
     "text": [
      "127.0.0.1 - - [12/Apr/2024 21:22:22] \"GET /get_weights?date=2019-12-16 HTTP/1.1\" 200 -\n"
     ]
    },
    {
     "name": "stdout",
     "output_type": "stream",
     "text": [
      "2\n",
      "2019-12-16\n",
      "[-0.999930739402771, 0.9999660849571228, 0.15184353291988373, 0.9999822378158569, -0.1518610119819641]\n"
     ]
    },
    {
     "name": "stderr",
     "output_type": "stream",
     "text": [
      "127.0.0.1 - - [12/Apr/2024 21:22:24] \"GET /get_weights?date=2019-12-23 HTTP/1.1\" 200 -\n"
     ]
    },
    {
     "name": "stdout",
     "output_type": "stream",
     "text": [
      "2\n",
      "2019-12-23\n",
      "[0.9999738931655884, 0.812585175037384, -1.000022292137146, 0.9999520778656006, -0.812488853931427]\n"
     ]
    },
    {
     "name": "stderr",
     "output_type": "stream",
     "text": [
      "127.0.0.1 - - [12/Apr/2024 21:22:26] \"GET /get_weights?date=2019-12-30 HTTP/1.1\" 200 -\n"
     ]
    },
    {
     "name": "stdout",
     "output_type": "stream",
     "text": [
      "2\n",
      "2019-12-30\n",
      "[1.0000487565994263, 1.0000214576721191, -0.6682724356651306, 0.668186366558075, -0.9999843835830688]\n"
     ]
    },
    {
     "name": "stderr",
     "output_type": "stream",
     "text": [
      "127.0.0.1 - - [12/Apr/2024 21:22:28] \"GET /get_weights?date=2020-01-06 HTTP/1.1\" 200 -\n"
     ]
    },
    {
     "name": "stdout",
     "output_type": "stream",
     "text": [
      "2\n",
      "2020-01-06\n",
      "[-0.9401330351829529, 0.9999912977218628, 0.32356736063957214, 0.999997615814209, -0.38342323899269104]\n"
     ]
    },
    {
     "name": "stderr",
     "output_type": "stream",
     "text": [
      "127.0.0.1 - - [12/Apr/2024 21:22:30] \"GET /get_weights?date=2020-01-13 HTTP/1.1\" 200 -\n"
     ]
    },
    {
     "name": "stdout",
     "output_type": "stream",
     "text": [
      "2\n",
      "2020-01-13\n",
      "[0.6270738840103149, 0.9999451637268066, -0.6270772218704224, 0.9998192191123962, -0.9997611045837402]\n"
     ]
    },
    {
     "name": "stderr",
     "output_type": "stream",
     "text": [
      "127.0.0.1 - - [12/Apr/2024 21:22:33] \"GET /get_weights?date=2020-01-21 HTTP/1.1\" 200 -\n"
     ]
    },
    {
     "name": "stdout",
     "output_type": "stream",
     "text": [
      "2\n",
      "2020-01-21\n",
      "[0.9997638463973999, 1.0000441074371338, -0.9999162554740906, 1.000038504600525, -0.9999303817749023]\n"
     ]
    },
    {
     "name": "stderr",
     "output_type": "stream",
     "text": [
      "127.0.0.1 - - [12/Apr/2024 21:22:35] \"GET /get_weights?date=2020-01-27 HTTP/1.1\" 200 -\n"
     ]
    },
    {
     "name": "stdout",
     "output_type": "stream",
     "text": [
      "2\n",
      "2020-01-27\n",
      "[0.9999117255210876, 0.5797703266143799, -0.5795326828956604, 0.9999351501464844, -1.000084400177002]\n"
     ]
    },
    {
     "name": "stderr",
     "output_type": "stream",
     "text": [
      "127.0.0.1 - - [12/Apr/2024 21:22:37] \"GET /get_weights?date=2020-02-03 HTTP/1.1\" 200 -\n"
     ]
    },
    {
     "name": "stdout",
     "output_type": "stream",
     "text": [
      "2\n",
      "2020-02-03\n",
      "[0.604676365852356, -0.9786872863769531, 1.0000224113464355, 1.0000184774398804, -0.6260300278663635]\n"
     ]
    },
    {
     "name": "stderr",
     "output_type": "stream",
     "text": [
      "127.0.0.1 - - [12/Apr/2024 21:22:39] \"GET /get_weights?date=2020-02-10 HTTP/1.1\" 200 -\n"
     ]
    },
    {
     "name": "stdout",
     "output_type": "stream",
     "text": [
      "2\n",
      "2020-02-10\n",
      "[-0.6677278280258179, 0.4774446487426758, 0.5766829252243042, 0.999991238117218, -0.3863909840583801]\n"
     ]
    },
    {
     "name": "stderr",
     "output_type": "stream",
     "text": [
      "127.0.0.1 - - [12/Apr/2024 21:22:42] \"GET /get_weights?date=2020-02-18 HTTP/1.1\" 200 -\n"
     ]
    },
    {
     "name": "stdout",
     "output_type": "stream",
     "text": [
      "2\n",
      "2020-02-18\n",
      "[-0.9997668266296387, 1.0000839233398438, 0.9994444251060486, 1.0000040531158447, -0.9997657537460327]\n"
     ]
    },
    {
     "name": "stderr",
     "output_type": "stream",
     "text": [
      "127.0.0.1 - - [12/Apr/2024 21:22:44] \"GET /get_weights?date=2020-02-24 HTTP/1.1\" 200 -\n"
     ]
    },
    {
     "name": "stdout",
     "output_type": "stream",
     "text": [
      "2\n",
      "2020-02-24\n",
      "[-0.30397218465805054, 0.3016151785850525, 0.9999438524246216, 0.9448202252388, -0.9424071907997131]\n"
     ]
    },
    {
     "name": "stderr",
     "output_type": "stream",
     "text": [
      "127.0.0.1 - - [12/Apr/2024 21:22:46] \"GET /get_weights?date=2020-03-02 HTTP/1.1\" 200 -\n"
     ]
    },
    {
     "name": "stdout",
     "output_type": "stream",
     "text": [
      "2\n",
      "2020-03-02\n",
      "[-0.022882061079144478, 0.528090238571167, 0.024095280095934868, 0.620373547077179, -0.14967699348926544]\n"
     ]
    },
    {
     "name": "stderr",
     "output_type": "stream",
     "text": [
      "127.0.0.1 - - [12/Apr/2024 21:22:48] \"GET /get_weights?date=2020-03-09 HTTP/1.1\" 200 -\n"
     ]
    },
    {
     "name": "stdout",
     "output_type": "stream",
     "text": [
      "2\n",
      "2020-03-09\n",
      "[0.6917639970779419, -0.13391666114330292, 0.10893215239048004, 0.2935761511325836, 0.03964431956410408]\n"
     ]
    },
    {
     "name": "stderr",
     "output_type": "stream",
     "text": [
      "127.0.0.1 - - [12/Apr/2024 21:22:50] \"GET /get_weights?date=2020-03-16 HTTP/1.1\" 200 -\n"
     ]
    },
    {
     "name": "stdout",
     "output_type": "stream",
     "text": [
      "2\n",
      "2020-03-16\n",
      "[0.010083461180329323, -0.09119290858507156, 0.14207053184509277, 0.7070109248161316, 0.23202800750732422]\n"
     ]
    },
    {
     "name": "stderr",
     "output_type": "stream",
     "text": [
      "127.0.0.1 - - [12/Apr/2024 21:22:53] \"GET /get_weights?date=2020-03-23 HTTP/1.1\" 200 -\n"
     ]
    },
    {
     "name": "stdout",
     "output_type": "stream",
     "text": [
      "2\n",
      "2020-03-23\n",
      "[-0.0760442391037941, -0.06427713483572006, -0.05859386548399925, 0.9837579131126404, 0.21515733003616333]\n"
     ]
    },
    {
     "name": "stderr",
     "output_type": "stream",
     "text": [
      "127.0.0.1 - - [12/Apr/2024 21:22:55] \"GET /get_weights?date=2020-03-30 HTTP/1.1\" 200 -\n"
     ]
    },
    {
     "name": "stdout",
     "output_type": "stream",
     "text": [
      "2\n",
      "2020-03-30\n",
      "[-0.004450276028364897, 0.4051399230957031, 0.22135807573795319, 0.4017692506313324, -0.023816442117094994]\n"
     ]
    },
    {
     "name": "stderr",
     "output_type": "stream",
     "text": [
      "127.0.0.1 - - [12/Apr/2024 21:22:57] \"GET /get_weights?date=2020-04-06 HTTP/1.1\" 200 -\n"
     ]
    },
    {
     "name": "stdout",
     "output_type": "stream",
     "text": [
      "2\n",
      "2020-04-06\n",
      "[0.061131056398153305, 0.2684846818447113, 0.1979900449514389, 0.44622573256492615, 0.026168467476963997]\n"
     ]
    },
    {
     "name": "stderr",
     "output_type": "stream",
     "text": [
      "127.0.0.1 - - [12/Apr/2024 21:22:59] \"GET /get_weights?date=2020-04-13 HTTP/1.1\" 200 -\n"
     ]
    },
    {
     "name": "stdout",
     "output_type": "stream",
     "text": [
      "2\n",
      "2020-04-13\n",
      "[-0.06632339209318161, 0.08685454726219177, 0.15677811205387115, 0.5828180909156799, 0.23987261950969696]\n"
     ]
    },
    {
     "name": "stderr",
     "output_type": "stream",
     "text": [
      "127.0.0.1 - - [12/Apr/2024 21:23:02] \"GET /get_weights?date=2020-04-20 HTTP/1.1\" 200 -\n"
     ]
    },
    {
     "name": "stdout",
     "output_type": "stream",
     "text": [
      "2\n",
      "2020-04-20\n",
      "[0.05098699405789375, 0.04335726052522659, 0.22924236953258514, 0.5264459848403931, 0.14996737241744995]\n"
     ]
    },
    {
     "name": "stderr",
     "output_type": "stream",
     "text": [
      "127.0.0.1 - - [12/Apr/2024 21:23:04] \"GET /get_weights?date=2020-04-27 HTTP/1.1\" 200 -\n"
     ]
    },
    {
     "name": "stdout",
     "output_type": "stream",
     "text": [
      "2\n",
      "2020-04-27\n",
      "[0.08125843107700348, 0.46729427576065063, 0.05371641740202904, 0.2337566614151001, 0.16397422552108765]\n"
     ]
    },
    {
     "name": "stderr",
     "output_type": "stream",
     "text": [
      "127.0.0.1 - - [12/Apr/2024 21:23:06] \"GET /get_weights?date=2020-05-04 HTTP/1.1\" 200 -\n"
     ]
    },
    {
     "name": "stdout",
     "output_type": "stream",
     "text": [
      "2\n",
      "2020-05-04\n",
      "[0.5132489800453186, 0.04839414730668068, -0.09400413185358047, 0.5232973694801331, 0.009063631296157837]\n"
     ]
    },
    {
     "name": "stderr",
     "output_type": "stream",
     "text": [
      "127.0.0.1 - - [12/Apr/2024 21:23:08] \"GET /get_weights?date=2020-05-11 HTTP/1.1\" 200 -\n"
     ]
    },
    {
     "name": "stdout",
     "output_type": "stream",
     "text": [
      "2\n",
      "2020-05-11\n",
      "[-0.09215433150529861, 0.2328556478023529, 0.37042492628097534, 0.42722272872924805, 0.061651065945625305]\n"
     ]
    },
    {
     "name": "stderr",
     "output_type": "stream",
     "text": [
      "127.0.0.1 - - [12/Apr/2024 21:23:11] \"GET /get_weights?date=2020-05-18 HTTP/1.1\" 200 -\n"
     ]
    },
    {
     "name": "stdout",
     "output_type": "stream",
     "text": [
      "2\n",
      "2020-05-18\n",
      "[-0.22392261028289795, 0.2803438603878021, 0.1458595246076584, 0.7872889041900635, 0.010430313646793365]\n"
     ]
    },
    {
     "name": "stderr",
     "output_type": "stream",
     "text": [
      "127.0.0.1 - - [12/Apr/2024 21:23:13] \"GET /get_weights?date=2020-05-26 HTTP/1.1\" 200 -\n"
     ]
    },
    {
     "name": "stdout",
     "output_type": "stream",
     "text": [
      "2\n",
      "2020-05-26\n",
      "[-0.006946404930204153, 0.42125385999679565, 0.04341248422861099, 0.514822244644165, 0.027457820251584053]\n"
     ]
    },
    {
     "name": "stderr",
     "output_type": "stream",
     "text": [
      "127.0.0.1 - - [12/Apr/2024 21:23:15] \"GET /get_weights?date=2020-06-01 HTTP/1.1\" 200 -\n"
     ]
    },
    {
     "name": "stdout",
     "output_type": "stream",
     "text": [
      "2\n",
      "2020-06-01\n",
      "[-0.03180617094039917, 0.020190827548503876, -0.024516893550753593, 0.6518964767456055, 0.3842357397079468]\n"
     ]
    },
    {
     "name": "stderr",
     "output_type": "stream",
     "text": [
      "127.0.0.1 - - [12/Apr/2024 21:23:18] \"GET /get_weights?date=2020-06-08 HTTP/1.1\" 200 -\n"
     ]
    },
    {
     "name": "stdout",
     "output_type": "stream",
     "text": [
      "2\n",
      "2020-06-08\n",
      "[0.023520028218626976, 0.4599362909793854, 0.027505578473210335, 0.44383108615875244, 0.04520702362060547]\n"
     ]
    },
    {
     "name": "stderr",
     "output_type": "stream",
     "text": [
      "127.0.0.1 - - [12/Apr/2024 21:23:20] \"GET /get_weights?date=2020-06-15 HTTP/1.1\" 200 -\n"
     ]
    },
    {
     "name": "stdout",
     "output_type": "stream",
     "text": [
      "2\n",
      "2020-06-15\n",
      "[0.3013284504413605, 0.3871484696865082, -0.06325624138116837, 0.24343281984329224, 0.13134650886058807]\n"
     ]
    },
    {
     "name": "stderr",
     "output_type": "stream",
     "text": [
      "127.0.0.1 - - [12/Apr/2024 21:23:22] \"GET /get_weights?date=2020-06-22 HTTP/1.1\" 200 -\n"
     ]
    },
    {
     "name": "stdout",
     "output_type": "stream",
     "text": [
      "2\n",
      "2020-06-22\n",
      "[-0.03433077782392502, 0.02974827215075493, -0.005574684124439955, 0.7813720107078552, 0.2287851870059967]\n"
     ]
    },
    {
     "name": "stderr",
     "output_type": "stream",
     "text": [
      "127.0.0.1 - - [12/Apr/2024 21:23:25] \"GET /get_weights?date=2020-06-29 HTTP/1.1\" 200 -\n"
     ]
    },
    {
     "name": "stdout",
     "output_type": "stream",
     "text": [
      "2\n",
      "2020-06-29\n",
      "[0.05994844436645508, 0.06538044661283493, 0.39001595973968506, 0.187815859913826, 0.29683926701545715]\n"
     ]
    },
    {
     "name": "stderr",
     "output_type": "stream",
     "text": [
      "127.0.0.1 - - [12/Apr/2024 21:23:27] \"GET /get_weights?date=2020-07-06 HTTP/1.1\" 200 -\n"
     ]
    },
    {
     "name": "stdout",
     "output_type": "stream",
     "text": [
      "2\n",
      "2020-07-06\n",
      "[0.05316733941435814, 0.12693677842617035, -0.012625370174646378, 0.6103084683418274, 0.2222127765417099]\n"
     ]
    },
    {
     "name": "stderr",
     "output_type": "stream",
     "text": [
      "127.0.0.1 - - [12/Apr/2024 21:23:29] \"GET /get_weights?date=2020-07-13 HTTP/1.1\" 200 -\n"
     ]
    },
    {
     "name": "stdout",
     "output_type": "stream",
     "text": [
      "2\n",
      "2020-07-13\n",
      "[0.20681233704090118, 0.16343045234680176, -0.08303377032279968, 0.7693963646888733, -0.05660538002848625]\n"
     ]
    },
    {
     "name": "stderr",
     "output_type": "stream",
     "text": [
      "127.0.0.1 - - [12/Apr/2024 21:23:32] \"GET /get_weights?date=2020-07-20 HTTP/1.1\" 200 -\n"
     ]
    },
    {
     "name": "stdout",
     "output_type": "stream",
     "text": [
      "2\n",
      "2020-07-20\n",
      "[-0.028506649658083916, 0.009555078111588955, 0.113190658390522, 0.7228989601135254, 0.18286195397377014]\n"
     ]
    },
    {
     "name": "stderr",
     "output_type": "stream",
     "text": [
      "127.0.0.1 - - [12/Apr/2024 21:23:34] \"GET /get_weights?date=2020-07-27 HTTP/1.1\" 200 -\n"
     ]
    },
    {
     "name": "stdout",
     "output_type": "stream",
     "text": [
      "2\n",
      "2020-07-27\n",
      "[0.22937332093715668, 0.48367995023727417, -0.2081175148487091, 0.15820512175559998, 0.3368591070175171]\n"
     ]
    },
    {
     "name": "stderr",
     "output_type": "stream",
     "text": [
      "127.0.0.1 - - [12/Apr/2024 21:23:36] \"GET /get_weights?date=2020-08-03 HTTP/1.1\" 200 -\n"
     ]
    },
    {
     "name": "stdout",
     "output_type": "stream",
     "text": [
      "2\n",
      "2020-08-03\n",
      "[-0.3010658025741577, 0.5697769522666931, -0.05761472508311272, 0.50623619556427, 0.2826673090457916]\n"
     ]
    },
    {
     "name": "stderr",
     "output_type": "stream",
     "text": [
      "127.0.0.1 - - [12/Apr/2024 21:23:38] \"GET /get_weights?date=2020-08-10 HTTP/1.1\" 200 -\n"
     ]
    },
    {
     "name": "stdout",
     "output_type": "stream",
     "text": [
      "2\n",
      "2020-08-10\n",
      "[0.0326438769698143, 0.34438496828079224, -0.13791652023792267, 0.9307536482810974, -0.16986596584320068]\n"
     ]
    },
    {
     "name": "stderr",
     "output_type": "stream",
     "text": [
      "127.0.0.1 - - [12/Apr/2024 21:23:40] \"GET /get_weights?date=2020-08-17 HTTP/1.1\" 200 -\n"
     ]
    },
    {
     "name": "stdout",
     "output_type": "stream",
     "text": [
      "2\n",
      "2020-08-17\n",
      "[-0.08542326837778091, 0.22028698027133942, 0.020377282053232193, 0.6471518278121948, 0.19760718941688538]\n"
     ]
    },
    {
     "name": "stderr",
     "output_type": "stream",
     "text": [
      "127.0.0.1 - - [12/Apr/2024 21:23:43] \"GET /get_weights?date=2020-08-24 HTTP/1.1\" 200 -\n"
     ]
    },
    {
     "name": "stdout",
     "output_type": "stream",
     "text": [
      "2\n",
      "2020-08-24\n",
      "[-0.19988928735256195, 0.06782186776399612, -0.10934162884950638, 0.857932448387146, 0.383476585149765]\n"
     ]
    },
    {
     "name": "stderr",
     "output_type": "stream",
     "text": [
      "127.0.0.1 - - [12/Apr/2024 21:23:45] \"GET /get_weights?date=2020-08-31 HTTP/1.1\" 200 -\n"
     ]
    },
    {
     "name": "stdout",
     "output_type": "stream",
     "text": [
      "2\n",
      "2020-08-31\n",
      "[-0.9999675154685974, 0.9999927878379822, 0.04035310447216034, 0.9114354848861694, 0.04818614572286606]\n"
     ]
    },
    {
     "name": "stderr",
     "output_type": "stream",
     "text": [
      "127.0.0.1 - - [12/Apr/2024 21:23:47] \"GET /get_weights?date=2020-09-08 HTTP/1.1\" 200 -\n"
     ]
    },
    {
     "name": "stdout",
     "output_type": "stream",
     "text": [
      "2\n",
      "2020-09-08\n",
      "[0.5976601839065552, -0.2691516876220703, 0.6103084683418274, 0.999898374080658, -0.9387152791023254]\n"
     ]
    },
    {
     "name": "stderr",
     "output_type": "stream",
     "text": [
      "127.0.0.1 - - [12/Apr/2024 21:23:49] \"GET /get_weights?date=2020-09-14 HTTP/1.1\" 200 -\n"
     ]
    },
    {
     "name": "stdout",
     "output_type": "stream",
     "text": [
      "2\n",
      "2020-09-14\n",
      "[-0.39027178287506104, -0.04710516333580017, 0.528502345085144, 0.9998833537101746, -0.09100861102342606]\n"
     ]
    },
    {
     "name": "stderr",
     "output_type": "stream",
     "text": [
      "127.0.0.1 - - [12/Apr/2024 21:23:52] \"GET /get_weights?date=2020-09-21 HTTP/1.1\" 200 -\n"
     ]
    },
    {
     "name": "stdout",
     "output_type": "stream",
     "text": [
      "2\n",
      "2020-09-21\n",
      "[0.38551709055900574, 0.15763339400291443, -0.06361845135688782, 0.8045223355293274, -0.28405436873435974]\n"
     ]
    },
    {
     "name": "stderr",
     "output_type": "stream",
     "text": [
      "127.0.0.1 - - [12/Apr/2024 21:23:54] \"GET /get_weights?date=2020-09-28 HTTP/1.1\" 200 -\n"
     ]
    },
    {
     "name": "stdout",
     "output_type": "stream",
     "text": [
      "2\n",
      "2020-09-28\n",
      "[-0.32573163509368896, 0.7136436700820923, 0.16136741638183594, 0.9999440908432007, -0.5492235422134399]\n"
     ]
    },
    {
     "name": "stderr",
     "output_type": "stream",
     "text": [
      "127.0.0.1 - - [12/Apr/2024 21:23:56] \"GET /get_weights?date=2020-10-05 HTTP/1.1\" 200 -\n"
     ]
    },
    {
     "name": "stdout",
     "output_type": "stream",
     "text": [
      "2\n",
      "2020-10-05\n",
      "[0.04049411416053772, 0.3340555727481842, -0.27732500433921814, 0.6791030168533325, 0.22367216646671295]\n"
     ]
    },
    {
     "name": "stderr",
     "output_type": "stream",
     "text": [
      "127.0.0.1 - - [12/Apr/2024 21:23:59] \"GET /get_weights?date=2020-10-12 HTTP/1.1\" 200 -\n"
     ]
    },
    {
     "name": "stdout",
     "output_type": "stream",
     "text": [
      "2\n",
      "2020-10-12\n",
      "[-0.27860304713249207, 0.6131942868232727, 0.3336353302001953, 0.3050934672355652, 0.026679985225200653]\n"
     ]
    },
    {
     "name": "stderr",
     "output_type": "stream",
     "text": [
      "127.0.0.1 - - [12/Apr/2024 21:24:01] \"GET /get_weights?date=2020-10-19 HTTP/1.1\" 200 -\n"
     ]
    },
    {
     "name": "stdout",
     "output_type": "stream",
     "text": [
      "2\n",
      "2020-10-19\n",
      "[0.31394463777542114, 0.5250653624534607, -0.24644507467746735, 0.6883451342582703, -0.28091007471084595]\n"
     ]
    },
    {
     "name": "stderr",
     "output_type": "stream",
     "text": [
      "127.0.0.1 - - [12/Apr/2024 21:24:03] \"GET /get_weights?date=2020-10-26 HTTP/1.1\" 200 -\n"
     ]
    },
    {
     "name": "stdout",
     "output_type": "stream",
     "text": [
      "2\n",
      "2020-10-26\n",
      "[0.3090277314186096, 0.2628348767757416, 0.0905865728855133, 0.8493432998657227, -0.5117924809455872]\n"
     ]
    },
    {
     "name": "stderr",
     "output_type": "stream",
     "text": [
      "127.0.0.1 - - [12/Apr/2024 21:24:05] \"GET /get_weights?date=2020-11-02 HTTP/1.1\" 200 -\n"
     ]
    },
    {
     "name": "stdout",
     "output_type": "stream",
     "text": [
      "2\n",
      "2020-11-02\n",
      "[0.04287237301468849, 0.6796817779541016, -0.05229315161705017, 0.35622477531433105, -0.026485780254006386]\n"
     ]
    },
    {
     "name": "stderr",
     "output_type": "stream",
     "text": [
      "127.0.0.1 - - [12/Apr/2024 21:24:08] \"GET /get_weights?date=2020-11-09 HTTP/1.1\" 200 -\n"
     ]
    },
    {
     "name": "stdout",
     "output_type": "stream",
     "text": [
      "2\n",
      "2020-11-09\n",
      "[-0.4017224609851837, 0.3602435886859894, -0.04811430349946022, 0.9958214163780212, 0.09377173334360123]\n"
     ]
    },
    {
     "name": "stderr",
     "output_type": "stream",
     "text": [
      "127.0.0.1 - - [12/Apr/2024 21:24:10] \"GET /get_weights?date=2020-11-16 HTTP/1.1\" 200 -\n"
     ]
    },
    {
     "name": "stdout",
     "output_type": "stream",
     "text": [
      "2\n",
      "2020-11-16\n",
      "[-0.24479036033153534, 0.9999799132347107, -0.3033607304096222, 0.5883668661117554, -0.04019570350646973]\n"
     ]
    },
    {
     "name": "stderr",
     "output_type": "stream",
     "text": [
      "127.0.0.1 - - [12/Apr/2024 21:24:12] \"GET /get_weights?date=2020-11-23 HTTP/1.1\" 200 -\n"
     ]
    },
    {
     "name": "stdout",
     "output_type": "stream",
     "text": [
      "2\n",
      "2020-11-23\n",
      "[-0.12669627368450165, 0.8396829962730408, 0.2869643270969391, 1.0000170469284058, -0.9999681711196899]\n"
     ]
    },
    {
     "name": "stderr",
     "output_type": "stream",
     "text": [
      "127.0.0.1 - - [12/Apr/2024 21:24:14] \"GET /get_weights?date=2020-11-30 HTTP/1.1\" 200 -\n"
     ]
    },
    {
     "name": "stdout",
     "output_type": "stream",
     "text": [
      "2\n",
      "2020-11-30\n",
      "[-0.045857980847358704, 0.9691641926765442, -0.10620022565126419, 0.22291231155395508, -0.04001835361123085]\n"
     ]
    },
    {
     "name": "stderr",
     "output_type": "stream",
     "text": [
      "127.0.0.1 - - [12/Apr/2024 21:24:17] \"GET /get_weights?date=2020-12-07 HTTP/1.1\" 200 -\n"
     ]
    },
    {
     "name": "stdout",
     "output_type": "stream",
     "text": [
      "2\n",
      "2020-12-07\n",
      "[0.057170696556568146, 0.42989543080329895, -0.07950165122747421, 0.7558295130729675, -0.1633940488100052]\n"
     ]
    },
    {
     "name": "stderr",
     "output_type": "stream",
     "text": [
      "127.0.0.1 - - [12/Apr/2024 21:24:19] \"GET /get_weights?date=2020-12-14 HTTP/1.1\" 200 -\n"
     ]
    },
    {
     "name": "stdout",
     "output_type": "stream",
     "text": [
      "2\n",
      "2020-12-14\n",
      "[-0.23286816477775574, 0.6183288097381592, -0.14159484207630157, 0.8678115010261536, -0.11167736351490021]\n"
     ]
    },
    {
     "name": "stderr",
     "output_type": "stream",
     "text": [
      "127.0.0.1 - - [12/Apr/2024 21:24:23] \"GET /get_weights?date=2017-12-18 HTTP/1.1\" 200 -\n"
     ]
    },
    {
     "name": "stdout",
     "output_type": "stream",
     "text": [
      "0\n",
      "2017-12-18\n",
      "[-0.3057824373245239, 1.0000265836715698, -0.47728288173675537, 1.0000221729278564, -0.21698348224163055]\n"
     ]
    },
    {
     "name": "stderr",
     "output_type": "stream",
     "text": [
      "127.0.0.1 - - [12/Apr/2024 21:24:26] \"GET /get_weights?date=2017-12-26 HTTP/1.1\" 200 -\n"
     ]
    },
    {
     "name": "stdout",
     "output_type": "stream",
     "text": [
      "0\n",
      "2017-12-26\n",
      "[0.22421501576900482, 0.7761840224266052, -0.4781540632247925, 0.8057823181152344, -0.32802727818489075]\n"
     ]
    },
    {
     "name": "stderr",
     "output_type": "stream",
     "text": [
      "127.0.0.1 - - [12/Apr/2024 21:24:28] \"GET /get_weights?date=2018-01-02 HTTP/1.1\" 200 -\n"
     ]
    },
    {
     "name": "stdout",
     "output_type": "stream",
     "text": [
      "0\n",
      "2018-01-02\n",
      "[-0.9979172945022583, 0.9999646544456482, -0.4916350841522217, 0.9999759793281555, 0.4896116852760315]\n"
     ]
    },
    {
     "name": "stderr",
     "output_type": "stream",
     "text": [
      "127.0.0.1 - - [12/Apr/2024 21:24:30] \"GET /get_weights?date=2018-01-08 HTTP/1.1\" 200 -\n"
     ]
    },
    {
     "name": "stdout",
     "output_type": "stream",
     "text": [
      "0\n",
      "2018-01-08\n",
      "[-0.21845830976963043, 0.9999959468841553, -0.24014900624752045, 0.9999831318855286, -0.5413717031478882]\n"
     ]
    },
    {
     "name": "stderr",
     "output_type": "stream",
     "text": [
      "127.0.0.1 - - [12/Apr/2024 21:24:32] \"GET /get_weights?date=2018-01-16 HTTP/1.1\" 200 -\n"
     ]
    },
    {
     "name": "stdout",
     "output_type": "stream",
     "text": [
      "0\n",
      "2018-01-16\n",
      "[-0.4901454448699951, 0.54108065366745, 0.1568298041820526, 0.999943196773529, -0.20770816504955292]\n"
     ]
    },
    {
     "name": "stderr",
     "output_type": "stream",
     "text": [
      "127.0.0.1 - - [12/Apr/2024 21:24:34] \"GET /get_weights?date=2018-01-22 HTTP/1.1\" 200 -\n"
     ]
    },
    {
     "name": "stdout",
     "output_type": "stream",
     "text": [
      "0\n",
      "2018-01-22\n",
      "[-0.2153618037700653, 0.9999926686286926, -0.6448965072631836, 0.8870406746864319, -0.026774978265166283]\n"
     ]
    },
    {
     "name": "stderr",
     "output_type": "stream",
     "text": [
      "127.0.0.1 - - [12/Apr/2024 21:24:36] \"GET /get_weights?date=2018-01-29 HTTP/1.1\" 200 -\n"
     ]
    },
    {
     "name": "stdout",
     "output_type": "stream",
     "text": [
      "0\n",
      "2018-01-29\n",
      "[-0.3411273956298828, 0.9985677599906921, -0.27858486771583557, -0.04406426101922989, 0.6652089953422546]\n"
     ]
    },
    {
     "name": "stderr",
     "output_type": "stream",
     "text": [
      "127.0.0.1 - - [12/Apr/2024 21:24:39] \"GET /get_weights?date=2018-02-05 HTTP/1.1\" 200 -\n"
     ]
    },
    {
     "name": "stdout",
     "output_type": "stream",
     "text": [
      "0\n",
      "2018-02-05\n",
      "[0.9355259537696838, -0.04194303974509239, -0.1985017955303192, 0.33454641699790955, -0.029627544805407524]\n"
     ]
    },
    {
     "name": "stderr",
     "output_type": "stream",
     "text": [
      "127.0.0.1 - - [12/Apr/2024 21:24:41] \"GET /get_weights?date=2018-02-12 HTTP/1.1\" 200 -\n"
     ]
    },
    {
     "name": "stdout",
     "output_type": "stream",
     "text": [
      "0\n",
      "2018-02-12\n",
      "[0.22718580067157745, -0.13211114704608917, 0.1292005032300949, 0.8679388165473938, -0.09221401065587997]\n"
     ]
    },
    {
     "name": "stderr",
     "output_type": "stream",
     "text": [
      "127.0.0.1 - - [12/Apr/2024 21:24:43] \"GET /get_weights?date=2018-02-20 HTTP/1.1\" 200 -\n"
     ]
    },
    {
     "name": "stdout",
     "output_type": "stream",
     "text": [
      "0\n",
      "2018-02-20\n",
      "[-0.1786225140094757, 0.3460707664489746, -0.08430764824151993, 0.6519954204559326, 0.2648639976978302]\n"
     ]
    },
    {
     "name": "stderr",
     "output_type": "stream",
     "text": [
      "127.0.0.1 - - [12/Apr/2024 21:24:45] \"GET /get_weights?date=2018-02-26 HTTP/1.1\" 200 -\n"
     ]
    },
    {
     "name": "stdout",
     "output_type": "stream",
     "text": [
      "0\n",
      "2018-02-26\n",
      "[-0.0032994700595736504, 0.12514173984527588, 0.6153514981269836, 0.40886566042900085, -0.14605943858623505]\n"
     ]
    },
    {
     "name": "stderr",
     "output_type": "stream",
     "text": [
      "127.0.0.1 - - [12/Apr/2024 21:24:47] \"GET /get_weights?date=2018-03-05 HTTP/1.1\" 200 -\n"
     ]
    },
    {
     "name": "stdout",
     "output_type": "stream",
     "text": [
      "0\n",
      "2018-03-05\n",
      "[-0.04263385757803917, 0.13197965919971466, 0.2691621780395508, 0.14005763828754425, 0.5014343857765198]\n"
     ]
    },
    {
     "name": "stderr",
     "output_type": "stream",
     "text": [
      "127.0.0.1 - - [12/Apr/2024 21:24:50] \"GET /get_weights?date=2018-03-12 HTTP/1.1\" 200 -\n"
     ]
    },
    {
     "name": "stdout",
     "output_type": "stream",
     "text": [
      "0\n",
      "2018-03-12\n",
      "[-0.20719575881958008, 0.47221699357032776, 0.31503981351852417, 0.18958231806755066, 0.2303566038608551]\n"
     ]
    },
    {
     "name": "stderr",
     "output_type": "stream",
     "text": [
      "127.0.0.1 - - [12/Apr/2024 21:24:52] \"GET /get_weights?date=2018-03-19 HTTP/1.1\" 200 -\n"
     ]
    },
    {
     "name": "stdout",
     "output_type": "stream",
     "text": [
      "0\n",
      "2018-03-19\n",
      "[0.042005304247140884, -0.013517330400645733, 0.11923789978027344, 0.7237767577171326, 0.12849736213684082]\n"
     ]
    },
    {
     "name": "stderr",
     "output_type": "stream",
     "text": [
      "127.0.0.1 - - [12/Apr/2024 21:24:54] \"GET /get_weights?date=2018-03-26 HTTP/1.1\" 200 -\n"
     ]
    },
    {
     "name": "stdout",
     "output_type": "stream",
     "text": [
      "0\n",
      "2018-03-26\n",
      "[-0.0257276464253664, 0.07443863153457642, 0.07768872380256653, 0.9852262735366821, -0.11162600666284561]\n"
     ]
    },
    {
     "name": "stderr",
     "output_type": "stream",
     "text": [
      "127.0.0.1 - - [12/Apr/2024 21:24:56] \"GET /get_weights?date=2018-04-02 HTTP/1.1\" 200 -\n"
     ]
    },
    {
     "name": "stdout",
     "output_type": "stream",
     "text": [
      "0\n",
      "2018-04-02\n",
      "[-0.0065589589066803455, -0.07389093935489655, 0.5370913147926331, 0.3186851143836975, 0.22467342019081116]\n"
     ]
    },
    {
     "name": "stderr",
     "output_type": "stream",
     "text": [
      "127.0.0.1 - - [12/Apr/2024 21:24:59] \"GET /get_weights?date=2018-04-09 HTTP/1.1\" 200 -\n"
     ]
    },
    {
     "name": "stdout",
     "output_type": "stream",
     "text": [
      "0\n",
      "2018-04-09\n",
      "[0.009345738217234612, 0.11291804164648056, -0.07978016138076782, 0.9536917209625244, 0.0038246423937380314]\n"
     ]
    },
    {
     "name": "stderr",
     "output_type": "stream",
     "text": [
      "127.0.0.1 - - [12/Apr/2024 21:25:01] \"GET /get_weights?date=2018-04-16 HTTP/1.1\" 200 -\n"
     ]
    },
    {
     "name": "stdout",
     "output_type": "stream",
     "text": [
      "0\n",
      "2018-04-16\n",
      "[0.01250775158405304, 0.5059396624565125, -0.02304951101541519, 0.5619631409645081, -0.057361070066690445]\n"
     ]
    },
    {
     "name": "stderr",
     "output_type": "stream",
     "text": [
      "127.0.0.1 - - [12/Apr/2024 21:25:03] \"GET /get_weights?date=2018-04-23 HTTP/1.1\" 200 -\n"
     ]
    },
    {
     "name": "stdout",
     "output_type": "stream",
     "text": [
      "0\n",
      "2018-04-23\n",
      "[0.22111399471759796, 0.09652029722929001, 0.15998564660549164, 0.4193474054336548, 0.10303264856338501]\n"
     ]
    },
    {
     "name": "stderr",
     "output_type": "stream",
     "text": [
      "127.0.0.1 - - [12/Apr/2024 21:25:05] \"GET /get_weights?date=2018-04-30 HTTP/1.1\" 200 -\n"
     ]
    },
    {
     "name": "stdout",
     "output_type": "stream",
     "text": [
      "0\n",
      "2018-04-30\n",
      "[-0.10598412156105042, 0.4967680871486664, 0.0034845094196498394, 0.7599198222160339, -0.15418824553489685]\n"
     ]
    },
    {
     "name": "stderr",
     "output_type": "stream",
     "text": [
      "127.0.0.1 - - [12/Apr/2024 21:25:08] \"GET /get_weights?date=2018-05-07 HTTP/1.1\" 200 -\n"
     ]
    },
    {
     "name": "stdout",
     "output_type": "stream",
     "text": [
      "0\n",
      "2018-05-07\n",
      "[0.011499613523483276, 0.11650651693344116, -0.11198531836271286, 0.9999643564224243, -0.01598513126373291]\n"
     ]
    },
    {
     "name": "stderr",
     "output_type": "stream",
     "text": [
      "127.0.0.1 - - [12/Apr/2024 21:25:10] \"GET /get_weights?date=2018-05-14 HTTP/1.1\" 200 -\n"
     ]
    },
    {
     "name": "stdout",
     "output_type": "stream",
     "text": [
      "0\n",
      "2018-05-14\n",
      "[-0.07827349007129669, 0.03000563569366932, 0.23277682065963745, 0.5719550251960754, 0.24353596568107605]\n"
     ]
    },
    {
     "name": "stderr",
     "output_type": "stream",
     "text": [
      "127.0.0.1 - - [12/Apr/2024 21:25:12] \"GET /get_weights?date=2018-05-21 HTTP/1.1\" 200 -\n"
     ]
    },
    {
     "name": "stdout",
     "output_type": "stream",
     "text": [
      "0\n",
      "2018-05-21\n",
      "[-0.017747102305293083, 0.2955721616744995, 0.22040653228759766, 0.5123324990272522, -0.010564099065959454]\n"
     ]
    },
    {
     "name": "stderr",
     "output_type": "stream",
     "text": [
      "127.0.0.1 - - [12/Apr/2024 21:25:15] \"GET /get_weights?date=2018-05-29 HTTP/1.1\" 200 -\n"
     ]
    },
    {
     "name": "stdout",
     "output_type": "stream",
     "text": [
      "0\n",
      "2018-05-29\n",
      "[0.23198023438453674, 0.08140439540147781, 0.14945101737976074, 0.3670204281806946, 0.17014390230178833]\n"
     ]
    },
    {
     "name": "stderr",
     "output_type": "stream",
     "text": [
      "127.0.0.1 - - [12/Apr/2024 21:25:17] \"GET /get_weights?date=2018-06-04 HTTP/1.1\" 200 -\n"
     ]
    },
    {
     "name": "stdout",
     "output_type": "stream",
     "text": [
      "0\n",
      "2018-06-04\n",
      "[0.35607701539993286, 0.6189343929290771, -0.2186814546585083, 0.23263013362884521, 0.011039907112717628]\n"
     ]
    },
    {
     "name": "stderr",
     "output_type": "stream",
     "text": [
      "127.0.0.1 - - [12/Apr/2024 21:25:19] \"GET /get_weights?date=2018-06-11 HTTP/1.1\" 200 -\n"
     ]
    },
    {
     "name": "stdout",
     "output_type": "stream",
     "text": [
      "0\n",
      "2018-06-11\n",
      "[-0.09914949536323547, 0.8995295166969299, -0.28703808784484863, 0.8383291363716125, -0.3516710698604584]\n"
     ]
    },
    {
     "name": "stderr",
     "output_type": "stream",
     "text": [
      "127.0.0.1 - - [12/Apr/2024 21:25:21] \"GET /get_weights?date=2018-06-18 HTTP/1.1\" 200 -\n"
     ]
    },
    {
     "name": "stdout",
     "output_type": "stream",
     "text": [
      "0\n",
      "2018-06-18\n",
      "[0.04504866898059845, 0.6007435321807861, -0.2550261616706848, 0.5819711685180664, 0.02726280316710472]\n"
     ]
    },
    {
     "name": "stderr",
     "output_type": "stream",
     "text": [
      "127.0.0.1 - - [12/Apr/2024 21:25:23] \"GET /get_weights?date=2018-06-25 HTTP/1.1\" 200 -\n"
     ]
    },
    {
     "name": "stdout",
     "output_type": "stream",
     "text": [
      "0\n",
      "2018-06-25\n",
      "[0.2564728558063507, 0.04292653128504753, 0.44274550676345825, 0.23870404064655304, 0.019151069223880768]\n"
     ]
    },
    {
     "name": "stderr",
     "output_type": "stream",
     "text": [
      "127.0.0.1 - - [12/Apr/2024 21:25:26] \"GET /get_weights?date=2018-07-02 HTTP/1.1\" 200 -\n"
     ]
    },
    {
     "name": "stdout",
     "output_type": "stream",
     "text": [
      "0\n",
      "2018-07-02\n",
      "[-0.16412253677845, -0.11133838444948196, 0.2509552538394928, 0.9278438687324524, 0.09666185081005096]\n"
     ]
    },
    {
     "name": "stderr",
     "output_type": "stream",
     "text": [
      "127.0.0.1 - - [12/Apr/2024 21:25:28] \"GET /get_weights?date=2018-07-09 HTTP/1.1\" 200 -\n"
     ]
    },
    {
     "name": "stdout",
     "output_type": "stream",
     "text": [
      "0\n",
      "2018-07-09\n",
      "[-0.1181277260184288, 0.27455317974090576, 0.18419839441776276, 0.8696044087409973, -0.21022821962833405]\n"
     ]
    },
    {
     "name": "stderr",
     "output_type": "stream",
     "text": [
      "127.0.0.1 - - [12/Apr/2024 21:25:30] \"GET /get_weights?date=2018-07-16 HTTP/1.1\" 200 -\n"
     ]
    },
    {
     "name": "stdout",
     "output_type": "stream",
     "text": [
      "0\n",
      "2018-07-16\n",
      "[-0.040032677352428436, 0.5056840777397156, 0.09899203479290009, 0.12219248712062836, 0.313164085149765]\n"
     ]
    },
    {
     "name": "stderr",
     "output_type": "stream",
     "text": [
      "127.0.0.1 - - [12/Apr/2024 21:25:32] \"GET /get_weights?date=2018-07-23 HTTP/1.1\" 200 -\n"
     ]
    },
    {
     "name": "stdout",
     "output_type": "stream",
     "text": [
      "0\n",
      "2018-07-23\n",
      "[-0.13267169892787933, 0.9558998942375183, 0.4059107005596161, 0.1335071474313736, -0.3626460134983063]\n"
     ]
    },
    {
     "name": "stderr",
     "output_type": "stream",
     "text": [
      "127.0.0.1 - - [12/Apr/2024 21:25:34] \"GET /get_weights?date=2018-07-30 HTTP/1.1\" 200 -\n"
     ]
    },
    {
     "name": "stdout",
     "output_type": "stream",
     "text": [
      "0\n",
      "2018-07-30\n",
      "[-0.16275015473365784, 0.35534873604774475, -0.19243763387203217, 0.9547480344772339, 0.045090992003679276]\n"
     ]
    },
    {
     "name": "stderr",
     "output_type": "stream",
     "text": [
      "127.0.0.1 - - [12/Apr/2024 21:25:36] \"GET /get_weights?date=2018-08-06 HTTP/1.1\" 200 -\n"
     ]
    },
    {
     "name": "stdout",
     "output_type": "stream",
     "text": [
      "0\n",
      "2018-08-06\n",
      "[-0.11064980924129486, 0.5873033404350281, -0.47349345684051514, 0.9999270439147949, -0.003087080316618085]\n"
     ]
    },
    {
     "name": "stderr",
     "output_type": "stream",
     "text": [
      "127.0.0.1 - - [12/Apr/2024 21:25:39] \"GET /get_weights?date=2018-08-13 HTTP/1.1\" 200 -\n"
     ]
    },
    {
     "name": "stdout",
     "output_type": "stream",
     "text": [
      "0\n",
      "2018-08-13\n",
      "[0.20417200028896332, 0.01613321714103222, 0.4581269919872284, 0.5287131667137146, -0.20714540779590607]\n"
     ]
    },
    {
     "name": "stderr",
     "output_type": "stream",
     "text": [
      "127.0.0.1 - - [12/Apr/2024 21:25:41] \"GET /get_weights?date=2018-08-20 HTTP/1.1\" 200 -\n"
     ]
    },
    {
     "name": "stdout",
     "output_type": "stream",
     "text": [
      "0\n",
      "2018-08-20\n",
      "[-0.01371311116963625, -0.04570259526371956, 0.19389620423316956, 0.7591714859008789, 0.10634803771972656]\n"
     ]
    },
    {
     "name": "stderr",
     "output_type": "stream",
     "text": [
      "127.0.0.1 - - [12/Apr/2024 21:25:43] \"GET /get_weights?date=2018-08-27 HTTP/1.1\" 200 -\n"
     ]
    },
    {
     "name": "stdout",
     "output_type": "stream",
     "text": [
      "0\n",
      "2018-08-27\n",
      "[0.15652213990688324, 0.8791801929473877, -0.26463833451271057, 0.7390394806861877, -0.5101034641265869]\n"
     ]
    },
    {
     "name": "stderr",
     "output_type": "stream",
     "text": [
      "127.0.0.1 - - [12/Apr/2024 21:25:45] \"GET /get_weights?date=2018-09-04 HTTP/1.1\" 200 -\n"
     ]
    },
    {
     "name": "stdout",
     "output_type": "stream",
     "text": [
      "0\n",
      "2018-09-04\n",
      "[-0.07162019610404968, 0.20951491594314575, -0.009409177117049694, 0.9953489303588867, -0.12383449077606201]\n"
     ]
    },
    {
     "name": "stderr",
     "output_type": "stream",
     "text": [
      "127.0.0.1 - - [12/Apr/2024 21:25:47] \"GET /get_weights?date=2018-09-10 HTTP/1.1\" 200 -\n"
     ]
    },
    {
     "name": "stdout",
     "output_type": "stream",
     "text": [
      "0\n",
      "2018-09-10\n",
      "[-0.19200319051742554, 0.4592052102088928, -0.3323432505130768, 0.9999514222145081, 0.06518980860710144]\n"
     ]
    },
    {
     "name": "stderr",
     "output_type": "stream",
     "text": [
      "127.0.0.1 - - [12/Apr/2024 21:25:50] \"GET /get_weights?date=2018-09-17 HTTP/1.1\" 200 -\n"
     ]
    },
    {
     "name": "stdout",
     "output_type": "stream",
     "text": [
      "0\n",
      "2018-09-17\n",
      "[-0.3180411159992218, 0.3665107786655426, 0.12648800015449524, 0.5219196677207947, 0.3031226694583893]\n"
     ]
    },
    {
     "name": "stderr",
     "output_type": "stream",
     "text": [
      "127.0.0.1 - - [12/Apr/2024 21:25:52] \"GET /get_weights?date=2018-09-24 HTTP/1.1\" 200 -\n"
     ]
    },
    {
     "name": "stdout",
     "output_type": "stream",
     "text": [
      "0\n",
      "2018-09-24\n",
      "[-0.12350282073020935, 0.7044590711593628, -0.44144943356513977, 0.9999915957450867, -0.13949839770793915]\n"
     ]
    },
    {
     "name": "stderr",
     "output_type": "stream",
     "text": [
      "127.0.0.1 - - [12/Apr/2024 21:25:54] \"GET /get_weights?date=2018-10-01 HTTP/1.1\" 200 -\n"
     ]
    },
    {
     "name": "stdout",
     "output_type": "stream",
     "text": [
      "0\n",
      "2018-10-01\n",
      "[-0.11356140673160553, 0.4243651032447815, -0.27871447801589966, 0.8518876433372498, 0.11602309346199036]\n"
     ]
    },
    {
     "name": "stderr",
     "output_type": "stream",
     "text": [
      "127.0.0.1 - - [12/Apr/2024 21:25:56] \"GET /get_weights?date=2018-10-08 HTTP/1.1\" 200 -\n"
     ]
    },
    {
     "name": "stdout",
     "output_type": "stream",
     "text": [
      "0\n",
      "2018-10-08\n",
      "[0.34839150309562683, 0.3171164393424988, 0.5281527042388916, 0.001983820227906108, -0.19564443826675415]\n"
     ]
    },
    {
     "name": "stderr",
     "output_type": "stream",
     "text": [
      "127.0.0.1 - - [12/Apr/2024 21:25:58] \"GET /get_weights?date=2018-10-15 HTTP/1.1\" 200 -\n"
     ]
    },
    {
     "name": "stdout",
     "output_type": "stream",
     "text": [
      "0\n",
      "2018-10-15\n",
      "[0.1771809160709381, -0.013269771821796894, 0.5458135008811951, 0.251333087682724, 0.03894222900271416]\n"
     ]
    },
    {
     "name": "stderr",
     "output_type": "stream",
     "text": [
      "127.0.0.1 - - [12/Apr/2024 21:26:01] \"GET /get_weights?date=2018-10-22 HTTP/1.1\" 200 -\n"
     ]
    },
    {
     "name": "stdout",
     "output_type": "stream",
     "text": [
      "0\n",
      "2018-10-22\n",
      "[0.9999777674674988, 0.174103245139122, -0.37544193863868713, 0.42544740438461304, -0.2240864336490631]\n"
     ]
    },
    {
     "name": "stderr",
     "output_type": "stream",
     "text": [
      "127.0.0.1 - - [12/Apr/2024 21:26:03] \"GET /get_weights?date=2018-10-29 HTTP/1.1\" 200 -\n"
     ]
    },
    {
     "name": "stdout",
     "output_type": "stream",
     "text": [
      "0\n",
      "2018-10-29\n",
      "[0.020892001688480377, 0.13016414642333984, 0.31094443798065186, 0.6062275767326355, -0.06822822242975235]\n"
     ]
    },
    {
     "name": "stderr",
     "output_type": "stream",
     "text": [
      "127.0.0.1 - - [12/Apr/2024 21:26:05] \"GET /get_weights?date=2018-11-05 HTTP/1.1\" 200 -\n"
     ]
    },
    {
     "name": "stdout",
     "output_type": "stream",
     "text": [
      "0\n",
      "2018-11-05\n",
      "[-0.10266608744859695, 0.1452724039554596, -0.026856888085603714, 0.7508732676506042, 0.23337726294994354]\n"
     ]
    },
    {
     "name": "stderr",
     "output_type": "stream",
     "text": [
      "127.0.0.1 - - [12/Apr/2024 21:26:07] \"GET /get_weights?date=2018-11-12 HTTP/1.1\" 200 -\n"
     ]
    },
    {
     "name": "stdout",
     "output_type": "stream",
     "text": [
      "0\n",
      "2018-11-12\n",
      "[0.2518478035926819, 0.46372735500335693, -0.05034809187054634, 0.3201567232608795, 0.014616219326853752]\n"
     ]
    },
    {
     "name": "stderr",
     "output_type": "stream",
     "text": [
      "127.0.0.1 - - [12/Apr/2024 21:26:09] \"GET /get_weights?date=2018-11-19 HTTP/1.1\" 200 -\n"
     ]
    },
    {
     "name": "stdout",
     "output_type": "stream",
     "text": [
      "0\n",
      "2018-11-19\n",
      "[0.16093377768993378, -0.0745856836438179, 0.372724711894989, 0.49653390049934387, 0.044393304735422134]\n"
     ]
    },
    {
     "name": "stderr",
     "output_type": "stream",
     "text": [
      "127.0.0.1 - - [12/Apr/2024 21:26:12] \"GET /get_weights?date=2018-11-26 HTTP/1.1\" 200 -\n"
     ]
    },
    {
     "name": "stdout",
     "output_type": "stream",
     "text": [
      "0\n",
      "2018-11-26\n",
      "[0.107846200466156, 0.055676694959402084, 0.041167739778757095, 0.6165632009506226, 0.1787460893392563]\n"
     ]
    },
    {
     "name": "stderr",
     "output_type": "stream",
     "text": [
      "127.0.0.1 - - [12/Apr/2024 21:26:14] \"GET /get_weights?date=2018-12-03 HTTP/1.1\" 200 -\n"
     ]
    },
    {
     "name": "stdout",
     "output_type": "stream",
     "text": [
      "0\n",
      "2018-12-03\n",
      "[-0.026383046060800552, 0.6332915425300598, 0.0037019618321210146, 0.32529133558273315, 0.06409824639558792]\n"
     ]
    },
    {
     "name": "stderr",
     "output_type": "stream",
     "text": [
      "127.0.0.1 - - [12/Apr/2024 21:26:16] \"GET /get_weights?date=2018-12-10 HTTP/1.1\" 200 -\n"
     ]
    },
    {
     "name": "stdout",
     "output_type": "stream",
     "text": [
      "0\n",
      "2018-12-10\n",
      "[-0.009007714688777924, 0.1968740075826645, 0.16512300074100494, 0.5461069941520691, 0.10090383142232895]\n"
     ]
    },
    {
     "name": "stderr",
     "output_type": "stream",
     "text": [
      "127.0.0.1 - - [12/Apr/2024 21:26:18] \"GET /get_weights?date=2018-12-17 HTTP/1.1\" 200 -\n"
     ]
    },
    {
     "name": "stdout",
     "output_type": "stream",
     "text": [
      "1\n",
      "2018-12-17\n",
      "[0.4764421582221985, 0.2498188316822052, 0.13748548924922943, 0.30122110247612, -0.16496747732162476]\n"
     ]
    },
    {
     "name": "stderr",
     "output_type": "stream",
     "text": [
      "127.0.0.1 - - [12/Apr/2024 21:26:20] \"GET /get_weights?date=2018-12-24 HTTP/1.1\" 200 -\n"
     ]
    },
    {
     "name": "stdout",
     "output_type": "stream",
     "text": [
      "1\n",
      "2018-12-24\n",
      "[0.501994788646698, 0.0020254363771528006, 0.28220710158348083, 0.08664506673812866, 0.12712791562080383]\n"
     ]
    },
    {
     "name": "stderr",
     "output_type": "stream",
     "text": [
      "127.0.0.1 - - [12/Apr/2024 21:26:23] \"GET /get_weights?date=2018-12-31 HTTP/1.1\" 200 -\n"
     ]
    },
    {
     "name": "stdout",
     "output_type": "stream",
     "text": [
      "1\n",
      "2018-12-31\n",
      "[0.05380675941705704, 0.13170412182807922, -0.09965250641107559, 0.9999629259109497, -0.08582116663455963]\n"
     ]
    },
    {
     "name": "stderr",
     "output_type": "stream",
     "text": [
      "127.0.0.1 - - [12/Apr/2024 21:26:25] \"GET /get_weights?date=2019-01-07 HTTP/1.1\" 200 -\n"
     ]
    },
    {
     "name": "stdout",
     "output_type": "stream",
     "text": [
      "1\n",
      "2019-01-07\n",
      "[0.002053886651992798, 0.057119399309158325, -0.012173477560281754, 0.7621782422065735, 0.19082212448120117]\n"
     ]
    },
    {
     "name": "stderr",
     "output_type": "stream",
     "text": [
      "127.0.0.1 - - [12/Apr/2024 21:26:27] \"GET /get_weights?date=2019-01-14 HTTP/1.1\" 200 -\n"
     ]
    },
    {
     "name": "stdout",
     "output_type": "stream",
     "text": [
      "1\n",
      "2019-01-14\n",
      "[0.036187004297971725, 0.10132408142089844, 0.042935676872730255, 0.6352037787437439, 0.18434956669807434]\n"
     ]
    },
    {
     "name": "stderr",
     "output_type": "stream",
     "text": [
      "127.0.0.1 - - [12/Apr/2024 21:26:29] \"GET /get_weights?date=2019-01-22 HTTP/1.1\" 200 -\n"
     ]
    },
    {
     "name": "stdout",
     "output_type": "stream",
     "text": [
      "1\n",
      "2019-01-22\n",
      "[-0.08000699430704117, -0.16094936430454254, 0.2808222770690918, 0.7262994050979614, 0.23383477330207825]\n"
     ]
    },
    {
     "name": "stderr",
     "output_type": "stream",
     "text": [
      "127.0.0.1 - - [12/Apr/2024 21:26:32] \"GET /get_weights?date=2019-01-28 HTTP/1.1\" 200 -\n"
     ]
    },
    {
     "name": "stdout",
     "output_type": "stream",
     "text": [
      "1\n",
      "2019-01-28\n",
      "[0.058419398963451385, 0.3237326443195343, 0.14150328934192657, 0.27701684832572937, 0.19932806491851807]\n"
     ]
    },
    {
     "name": "stderr",
     "output_type": "stream",
     "text": [
      "127.0.0.1 - - [12/Apr/2024 21:26:34] \"GET /get_weights?date=2019-02-04 HTTP/1.1\" 200 -\n"
     ]
    },
    {
     "name": "stdout",
     "output_type": "stream",
     "text": [
      "1\n",
      "2019-02-04\n",
      "[-0.025677455589175224, 0.13999995589256287, -0.01893954537808895, 0.76701819896698, 0.1375989317893982]\n"
     ]
    },
    {
     "name": "stderr",
     "output_type": "stream",
     "text": [
      "127.0.0.1 - - [12/Apr/2024 21:26:36] \"GET /get_weights?date=2019-02-11 HTTP/1.1\" 200 -\n"
     ]
    },
    {
     "name": "stdout",
     "output_type": "stream",
     "text": [
      "1\n",
      "2019-02-11\n",
      "[-0.09667735546827316, 0.4989660084247589, -0.15757499635219574, 0.7220046520233154, 0.03328166902065277]\n"
     ]
    },
    {
     "name": "stderr",
     "output_type": "stream",
     "text": [
      "127.0.0.1 - - [12/Apr/2024 21:26:38] \"GET /get_weights?date=2019-02-19 HTTP/1.1\" 200 -\n"
     ]
    },
    {
     "name": "stdout",
     "output_type": "stream",
     "text": [
      "1\n",
      "2019-02-19\n",
      "[0.05395028740167618, 0.1682128608226776, -0.20721152424812317, 0.9434682130813599, 0.04158013314008713]\n"
     ]
    },
    {
     "name": "stderr",
     "output_type": "stream",
     "text": [
      "127.0.0.1 - - [12/Apr/2024 21:26:41] \"GET /get_weights?date=2019-02-25 HTTP/1.1\" 200 -\n"
     ]
    },
    {
     "name": "stdout",
     "output_type": "stream",
     "text": [
      "1\n",
      "2019-02-25\n",
      "[0.0699954405426979, 0.5106498599052429, 0.002121578436344862, 0.3864506781101227, 0.030782504007220268]\n",
      "1\n",
      "2019-03-04\n",
      "[-0.005041377618908882, 0.8550525307655334, 0.21582463383674622, 0.08042970299720764, -0.14626538753509521]\n"
     ]
    },
    {
     "name": "stderr",
     "output_type": "stream",
     "text": [
      "127.0.0.1 - - [12/Apr/2024 21:26:43] \"GET /get_weights?date=2019-03-04 HTTP/1.1\" 200 -\n",
      "127.0.0.1 - - [12/Apr/2024 21:26:46] \"GET /get_weights?date=2019-03-11 HTTP/1.1\" 200 -\n"
     ]
    },
    {
     "name": "stdout",
     "output_type": "stream",
     "text": [
      "1\n",
      "2019-03-11\n",
      "[-0.015848593786358833, 0.5446953177452087, 0.3309837877750397, 0.164874866604805, -0.02470540441572666]\n"
     ]
    },
    {
     "name": "stderr",
     "output_type": "stream",
     "text": [
      "127.0.0.1 - - [12/Apr/2024 21:26:48] \"GET /get_weights?date=2019-03-18 HTTP/1.1\" 200 -\n"
     ]
    },
    {
     "name": "stdout",
     "output_type": "stream",
     "text": [
      "1\n",
      "2019-03-18\n",
      "[-0.4046255052089691, 0.9999880790710449, -0.31599316000938416, 0.19778364896774292, 0.5228469967842102]\n"
     ]
    },
    {
     "name": "stderr",
     "output_type": "stream",
     "text": [
      "127.0.0.1 - - [12/Apr/2024 21:26:51] \"GET /get_weights?date=2019-03-25 HTTP/1.1\" 200 -\n"
     ]
    },
    {
     "name": "stdout",
     "output_type": "stream",
     "text": [
      "1\n",
      "2019-03-25\n",
      "[-0.07402756065130234, 0.794291079044342, -0.5624172687530518, 0.8715823888778687, -0.029428834095597267]\n"
     ]
    },
    {
     "name": "stderr",
     "output_type": "stream",
     "text": [
      "127.0.0.1 - - [12/Apr/2024 21:26:53] \"GET /get_weights?date=2019-04-01 HTTP/1.1\" 200 -\n"
     ]
    },
    {
     "name": "stdout",
     "output_type": "stream",
     "text": [
      "1\n",
      "2019-04-01\n",
      "[-0.14268901944160461, 0.3380092978477478, -0.04372846707701683, 0.08278009295463562, 0.7656281590461731]\n"
     ]
    },
    {
     "name": "stderr",
     "output_type": "stream",
     "text": [
      "127.0.0.1 - - [12/Apr/2024 21:26:56] \"GET /get_weights?date=2019-04-08 HTTP/1.1\" 200 -\n"
     ]
    },
    {
     "name": "stdout",
     "output_type": "stream",
     "text": [
      "1\n",
      "2019-04-08\n",
      "[-0.20789815485477448, 0.38167184591293335, -0.07746321707963943, 0.9550138711929321, -0.051324374973773956]\n"
     ]
    },
    {
     "name": "stderr",
     "output_type": "stream",
     "text": [
      "127.0.0.1 - - [12/Apr/2024 21:26:58] \"GET /get_weights?date=2019-04-15 HTTP/1.1\" 200 -\n"
     ]
    },
    {
     "name": "stdout",
     "output_type": "stream",
     "text": [
      "1\n",
      "2019-04-15\n",
      "[-0.3687283396720886, 0.8708400130271912, -0.2939082086086273, 0.45673754811286926, 0.3350590169429779]\n"
     ]
    },
    {
     "name": "stderr",
     "output_type": "stream",
     "text": [
      "127.0.0.1 - - [12/Apr/2024 21:27:01] \"GET /get_weights?date=2019-04-22 HTTP/1.1\" 200 -\n"
     ]
    },
    {
     "name": "stdout",
     "output_type": "stream",
     "text": [
      "1\n",
      "2019-04-22\n",
      "[0.22200295329093933, 0.9999898672103882, -0.13214333355426788, 0.13857130706310272, -0.22842073440551758]\n"
     ]
    },
    {
     "name": "stderr",
     "output_type": "stream",
     "text": [
      "127.0.0.1 - - [12/Apr/2024 21:27:04] \"GET /get_weights?date=2019-04-29 HTTP/1.1\" 200 -\n"
     ]
    },
    {
     "name": "stdout",
     "output_type": "stream",
     "text": [
      "1\n",
      "2019-04-29\n",
      "[-0.14420092105865479, 0.4818859398365021, -0.13462696969509125, 0.46254828572273254, 0.3343936502933502]\n"
     ]
    },
    {
     "name": "stderr",
     "output_type": "stream",
     "text": [
      "127.0.0.1 - - [12/Apr/2024 21:27:06] \"GET /get_weights?date=2019-05-06 HTTP/1.1\" 200 -\n"
     ]
    },
    {
     "name": "stdout",
     "output_type": "stream",
     "text": [
      "1\n",
      "2019-05-06\n",
      "[-0.06363300234079361, 0.6611956357955933, -0.18959090113639832, 0.43641725182533264, 0.15561094880104065]\n"
     ]
    },
    {
     "name": "stderr",
     "output_type": "stream",
     "text": [
      "127.0.0.1 - - [12/Apr/2024 21:27:09] \"GET /get_weights?date=2019-05-13 HTTP/1.1\" 200 -\n"
     ]
    },
    {
     "name": "stdout",
     "output_type": "stream",
     "text": [
      "1\n",
      "2019-05-13\n",
      "[0.10091541707515717, 0.45131468772888184, -0.06445480138063431, 0.5660008192062378, -0.05377612262964249]\n"
     ]
    },
    {
     "name": "stderr",
     "output_type": "stream",
     "text": [
      "127.0.0.1 - - [12/Apr/2024 21:27:11] \"GET /get_weights?date=2019-05-20 HTTP/1.1\" 200 -\n"
     ]
    },
    {
     "name": "stdout",
     "output_type": "stream",
     "text": [
      "1\n",
      "2019-05-20\n",
      "[-0.12460705637931824, 0.29105234146118164, 0.018416179344058037, 0.6347956657409668, 0.1803428679704666]\n"
     ]
    },
    {
     "name": "stderr",
     "output_type": "stream",
     "text": [
      "127.0.0.1 - - [12/Apr/2024 21:27:13] \"GET /get_weights?date=2019-05-28 HTTP/1.1\" 200 -\n"
     ]
    },
    {
     "name": "stdout",
     "output_type": "stream",
     "text": [
      "1\n",
      "2019-05-28\n",
      "[0.05836695432662964, 0.247292160987854, 0.10952237248420715, 0.7273319363594055, -0.1425134241580963]\n"
     ]
    },
    {
     "name": "stderr",
     "output_type": "stream",
     "text": [
      "127.0.0.1 - - [12/Apr/2024 21:27:15] \"GET /get_weights?date=2019-06-03 HTTP/1.1\" 200 -\n"
     ]
    },
    {
     "name": "stdout",
     "output_type": "stream",
     "text": [
      "1\n",
      "2019-06-03\n",
      "[0.5270676612854004, -0.002429950749501586, 0.3750278353691101, 0.3446873128414154, -0.24435284733772278]\n"
     ]
    },
    {
     "name": "stderr",
     "output_type": "stream",
     "text": [
      "127.0.0.1 - - [12/Apr/2024 21:27:18] \"GET /get_weights?date=2019-06-10 HTTP/1.1\" 200 -\n"
     ]
    },
    {
     "name": "stdout",
     "output_type": "stream",
     "text": [
      "1\n",
      "2019-06-10\n",
      "[0.029413318261504173, 0.3374800682067871, 0.01033993624150753, 0.4358058571815491, 0.18696081638336182]\n"
     ]
    },
    {
     "name": "stderr",
     "output_type": "stream",
     "text": [
      "127.0.0.1 - - [12/Apr/2024 21:27:20] \"GET /get_weights?date=2019-06-17 HTTP/1.1\" 200 -\n"
     ]
    },
    {
     "name": "stdout",
     "output_type": "stream",
     "text": [
      "1\n",
      "2019-06-17\n",
      "[0.1069234237074852, 0.29750341176986694, -0.0647612139582634, 0.5309634208679199, 0.1293710470199585]\n"
     ]
    },
    {
     "name": "stderr",
     "output_type": "stream",
     "text": [
      "127.0.0.1 - - [12/Apr/2024 21:27:22] \"GET /get_weights?date=2019-06-24 HTTP/1.1\" 200 -\n"
     ]
    },
    {
     "name": "stdout",
     "output_type": "stream",
     "text": [
      "1\n",
      "2019-06-24\n",
      "[-0.23299828171730042, 0.9999870657920837, -0.21583914756774902, 0.47025033831596375, -0.02139994129538536]\n"
     ]
    },
    {
     "name": "stderr",
     "output_type": "stream",
     "text": [
      "127.0.0.1 - - [12/Apr/2024 21:27:25] \"GET /get_weights?date=2019-07-01 HTTP/1.1\" 200 -\n"
     ]
    },
    {
     "name": "stdout",
     "output_type": "stream",
     "text": [
      "1\n",
      "2019-07-01\n",
      "[0.03667839989066124, 0.34268918633461, 0.16634802520275116, 0.3601813316345215, 0.09410306066274643]\n"
     ]
    },
    {
     "name": "stderr",
     "output_type": "stream",
     "text": [
      "127.0.0.1 - - [12/Apr/2024 21:27:27] \"GET /get_weights?date=2019-07-08 HTTP/1.1\" 200 -\n"
     ]
    },
    {
     "name": "stdout",
     "output_type": "stream",
     "text": [
      "1\n",
      "2019-07-08\n",
      "[0.07573223859071732, 0.32493630051612854, -0.1202821135520935, 0.6372488737106323, 0.08236470073461533]\n"
     ]
    },
    {
     "name": "stderr",
     "output_type": "stream",
     "text": [
      "127.0.0.1 - - [12/Apr/2024 21:27:29] \"GET /get_weights?date=2019-07-15 HTTP/1.1\" 200 -\n"
     ]
    },
    {
     "name": "stdout",
     "output_type": "stream",
     "text": [
      "1\n",
      "2019-07-15\n",
      "[-0.3192848265171051, 0.9999804496765137, 0.008254771120846272, 0.23687300086021423, 0.07417658716440201]\n"
     ]
    },
    {
     "name": "stderr",
     "output_type": "stream",
     "text": [
      "127.0.0.1 - - [12/Apr/2024 21:27:31] \"GET /get_weights?date=2019-07-22 HTTP/1.1\" 200 -\n"
     ]
    },
    {
     "name": "stdout",
     "output_type": "stream",
     "text": [
      "1\n",
      "2019-07-22\n",
      "[0.020170247182250023, 0.2264595925807953, 0.28362172842025757, 0.3617684245109558, 0.10798021405935287]\n"
     ]
    },
    {
     "name": "stderr",
     "output_type": "stream",
     "text": [
      "127.0.0.1 - - [12/Apr/2024 21:27:34] \"GET /get_weights?date=2019-07-29 HTTP/1.1\" 200 -\n"
     ]
    },
    {
     "name": "stdout",
     "output_type": "stream",
     "text": [
      "1\n",
      "2019-07-29\n",
      "[-0.028441235423088074, 0.1562010496854782, -0.1296720653772354, 0.7294234037399292, 0.27248892188072205]\n",
      "1\n"
     ]
    },
    {
     "name": "stderr",
     "output_type": "stream",
     "text": [
      "127.0.0.1 - - [12/Apr/2024 21:27:36] \"GET /get_weights?date=2019-08-05 HTTP/1.1\" 200 -\n"
     ]
    },
    {
     "name": "stdout",
     "output_type": "stream",
     "text": [
      "2019-08-05\n",
      "[0.014654084108769894, 0.5889303684234619, 0.10889719426631927, 0.3656749725341797, -0.07815669476985931]\n"
     ]
    },
    {
     "name": "stderr",
     "output_type": "stream",
     "text": [
      "127.0.0.1 - - [12/Apr/2024 21:27:39] \"GET /get_weights?date=2019-08-12 HTTP/1.1\" 200 -\n"
     ]
    },
    {
     "name": "stdout",
     "output_type": "stream",
     "text": [
      "1\n",
      "2019-08-12\n",
      "[0.0546504482626915, 0.07568846642971039, 0.07615608721971512, 0.43645504117012024, 0.35704994201660156]\n"
     ]
    },
    {
     "name": "stderr",
     "output_type": "stream",
     "text": [
      "127.0.0.1 - - [12/Apr/2024 21:27:41] \"GET /get_weights?date=2019-08-19 HTTP/1.1\" 200 -\n"
     ]
    },
    {
     "name": "stdout",
     "output_type": "stream",
     "text": [
      "1\n",
      "2019-08-19\n",
      "[-0.2538769245147705, 0.1758568435907364, -0.10824836045503616, 1.0000118017196655, 0.18625669181346893]\n"
     ]
    },
    {
     "name": "stderr",
     "output_type": "stream",
     "text": [
      "127.0.0.1 - - [12/Apr/2024 21:27:43] \"GET /get_weights?date=2019-08-26 HTTP/1.1\" 200 -\n"
     ]
    },
    {
     "name": "stdout",
     "output_type": "stream",
     "text": [
      "1\n",
      "2019-08-26\n",
      "[0.245148167014122, -0.07198895514011383, 0.07687804102897644, 0.700877845287323, 0.04908490553498268]\n"
     ]
    },
    {
     "name": "stderr",
     "output_type": "stream",
     "text": [
      "127.0.0.1 - - [12/Apr/2024 21:27:46] \"GET /get_weights?date=2019-09-03 HTTP/1.1\" 200 -\n"
     ]
    },
    {
     "name": "stdout",
     "output_type": "stream",
     "text": [
      "1\n",
      "2019-09-03\n",
      "[-0.07368326932191849, 0.5654211640357971, 0.16461041569709778, -0.026940269395709038, 0.3705921471118927]\n"
     ]
    },
    {
     "name": "stderr",
     "output_type": "stream",
     "text": [
      "127.0.0.1 - - [12/Apr/2024 21:27:48] \"GET /get_weights?date=2019-09-09 HTTP/1.1\" 200 -\n"
     ]
    },
    {
     "name": "stdout",
     "output_type": "stream",
     "text": [
      "1\n",
      "2019-09-09\n",
      "[-0.10420450568199158, 0.5449146032333374, 0.010347222909331322, 0.3437653183937073, 0.20517735183238983]\n"
     ]
    },
    {
     "name": "stderr",
     "output_type": "stream",
     "text": [
      "127.0.0.1 - - [12/Apr/2024 21:27:50] \"GET /get_weights?date=2019-09-16 HTTP/1.1\" 200 -\n"
     ]
    },
    {
     "name": "stdout",
     "output_type": "stream",
     "text": [
      "1\n",
      "2019-09-16\n",
      "[0.1456751972436905, 0.22251486778259277, -0.12301453948020935, 0.3462100028991699, 0.40861448645591736]\n"
     ]
    },
    {
     "name": "stderr",
     "output_type": "stream",
     "text": [
      "127.0.0.1 - - [12/Apr/2024 21:27:53] \"GET /get_weights?date=2019-09-23 HTTP/1.1\" 200 -\n"
     ]
    },
    {
     "name": "stdout",
     "output_type": "stream",
     "text": [
      "1\n",
      "2019-09-23\n",
      "[0.13757483661174774, 0.14998134970664978, -0.05119570344686508, 0.6563570499420166, 0.10728248208761215]\n"
     ]
    },
    {
     "name": "stderr",
     "output_type": "stream",
     "text": [
      "127.0.0.1 - - [12/Apr/2024 21:27:55] \"GET /get_weights?date=2019-09-30 HTTP/1.1\" 200 -\n"
     ]
    },
    {
     "name": "stdout",
     "output_type": "stream",
     "text": [
      "1\n",
      "2019-09-30\n",
      "[-0.09908364713191986, 0.5283791422843933, -0.033480849117040634, 0.5309943556785583, 0.07319124042987823]\n"
     ]
    },
    {
     "name": "stderr",
     "output_type": "stream",
     "text": [
      "127.0.0.1 - - [12/Apr/2024 21:27:57] \"GET /get_weights?date=2019-10-07 HTTP/1.1\" 200 -\n"
     ]
    },
    {
     "name": "stdout",
     "output_type": "stream",
     "text": [
      "1\n",
      "2019-10-07\n",
      "[-0.0436335951089859, 0.6126731634140015, 0.06041437387466431, 0.3742855191230774, -0.0037394759710878134]\n"
     ]
    },
    {
     "name": "stderr",
     "output_type": "stream",
     "text": [
      "127.0.0.1 - - [12/Apr/2024 21:27:59] \"GET /get_weights?date=2019-10-14 HTTP/1.1\" 200 -\n"
     ]
    },
    {
     "name": "stdout",
     "output_type": "stream",
     "text": [
      "1\n",
      "2019-10-14\n",
      "[-0.21149927377700806, 0.23961985111236572, -0.059112075716257095, 0.472507506608963, 0.5584839582443237]\n"
     ]
    },
    {
     "name": "stderr",
     "output_type": "stream",
     "text": [
      "127.0.0.1 - - [12/Apr/2024 21:28:02] \"GET /get_weights?date=2019-10-21 HTTP/1.1\" 200 -\n"
     ]
    },
    {
     "name": "stdout",
     "output_type": "stream",
     "text": [
      "1\n",
      "2019-10-21\n",
      "[0.2302975356578827, 0.24721328914165497, -0.08455923199653625, 0.20293650031089783, 0.4041118919849396]\n",
      "1\n"
     ]
    },
    {
     "name": "stderr",
     "output_type": "stream",
     "text": [
      "127.0.0.1 - - [12/Apr/2024 21:28:04] \"GET /get_weights?date=2019-10-28 HTTP/1.1\" 200 -\n"
     ]
    },
    {
     "name": "stdout",
     "output_type": "stream",
     "text": [
      "2019-10-28\n",
      "[-0.09562339633703232, 0.9639880657196045, -0.21774502098560333, 0.08788973093032837, 0.26149073243141174]\n"
     ]
    },
    {
     "name": "stderr",
     "output_type": "stream",
     "text": [
      "127.0.0.1 - - [12/Apr/2024 21:28:07] \"GET /get_weights?date=2019-11-04 HTTP/1.1\" 200 -\n"
     ]
    },
    {
     "name": "stdout",
     "output_type": "stream",
     "text": [
      "1\n",
      "2019-11-04\n",
      "[-0.10121984034776688, 0.17216195166110992, 0.4273938536643982, 0.2553173303604126, 0.24634674191474915]\n"
     ]
    },
    {
     "name": "stderr",
     "output_type": "stream",
     "text": [
      "127.0.0.1 - - [12/Apr/2024 21:28:10] \"GET /get_weights?date=2019-11-11 HTTP/1.1\" 200 -\n"
     ]
    },
    {
     "name": "stdout",
     "output_type": "stream",
     "text": [
      "1\n",
      "2019-11-11\n",
      "[0.22882895171642303, 0.32761237025260925, -0.1131841316819191, 0.4614608585834503, 0.09528197348117828]\n"
     ]
    },
    {
     "name": "stderr",
     "output_type": "stream",
     "text": [
      "127.0.0.1 - - [12/Apr/2024 21:28:12] \"GET /get_weights?date=2019-11-18 HTTP/1.1\" 200 -\n"
     ]
    },
    {
     "name": "stdout",
     "output_type": "stream",
     "text": [
      "1\n",
      "2019-11-18\n",
      "[-0.11723187565803528, 0.4998161494731903, -0.23026245832443237, 0.9999619722366333, -0.15228374302387238]\n"
     ]
    },
    {
     "name": "stderr",
     "output_type": "stream",
     "text": [
      "127.0.0.1 - - [12/Apr/2024 21:28:14] \"GET /get_weights?date=2019-11-25 HTTP/1.1\" 200 -\n"
     ]
    },
    {
     "name": "stdout",
     "output_type": "stream",
     "text": [
      "1\n",
      "2019-11-25\n",
      "[-0.23950526118278503, 0.551606297492981, -0.5717400312423706, 0.6975681781768799, 0.5620707869529724]\n"
     ]
    },
    {
     "name": "stderr",
     "output_type": "stream",
     "text": [
      "127.0.0.1 - - [12/Apr/2024 21:28:17] \"GET /get_weights?date=2019-12-02 HTTP/1.1\" 200 -\n"
     ]
    },
    {
     "name": "stdout",
     "output_type": "stream",
     "text": [
      "1\n",
      "2019-12-02\n",
      "[0.08002866059541702, 0.4686000943183899, -0.02976951375603676, 0.4040834605693817, 0.07705730199813843]\n"
     ]
    },
    {
     "name": "stderr",
     "output_type": "stream",
     "text": [
      "127.0.0.1 - - [12/Apr/2024 21:28:19] \"GET /get_weights?date=2019-12-09 HTTP/1.1\" 200 -\n"
     ]
    },
    {
     "name": "stdout",
     "output_type": "stream",
     "text": [
      "1\n",
      "2019-12-09\n",
      "[-0.174004465341568, -0.05476635694503784, 0.9523476958274841, 0.26836761832237244, 0.008055496029555798]\n"
     ]
    },
    {
     "name": "stderr",
     "output_type": "stream",
     "text": [
      "127.0.0.1 - - [12/Apr/2024 21:28:21] \"GET /get_weights?date=2019-12-16 HTTP/1.1\" 200 -\n"
     ]
    },
    {
     "name": "stdout",
     "output_type": "stream",
     "text": [
      "2\n",
      "2019-12-16\n",
      "[-0.999930739402771, 0.9999660849571228, 0.15184353291988373, 0.9999822378158569, -0.1518610119819641]\n"
     ]
    },
    {
     "name": "stderr",
     "output_type": "stream",
     "text": [
      "127.0.0.1 - - [12/Apr/2024 21:28:24] \"GET /get_weights?date=2019-12-23 HTTP/1.1\" 200 -\n"
     ]
    },
    {
     "name": "stdout",
     "output_type": "stream",
     "text": [
      "2\n",
      "2019-12-23\n",
      "[0.9999738931655884, 0.812585175037384, -1.000022292137146, 0.9999520778656006, -0.812488853931427]\n"
     ]
    },
    {
     "name": "stderr",
     "output_type": "stream",
     "text": [
      "127.0.0.1 - - [12/Apr/2024 21:28:26] \"GET /get_weights?date=2019-12-30 HTTP/1.1\" 200 -\n"
     ]
    },
    {
     "name": "stdout",
     "output_type": "stream",
     "text": [
      "2\n",
      "2019-12-30\n",
      "[1.0000487565994263, 1.0000214576721191, -0.6682724356651306, 0.668186366558075, -0.9999843835830688]\n"
     ]
    },
    {
     "name": "stderr",
     "output_type": "stream",
     "text": [
      "127.0.0.1 - - [12/Apr/2024 21:28:28] \"GET /get_weights?date=2020-01-06 HTTP/1.1\" 200 -\n"
     ]
    },
    {
     "name": "stdout",
     "output_type": "stream",
     "text": [
      "2\n",
      "2020-01-06\n",
      "[-0.9401330351829529, 0.9999912977218628, 0.32356736063957214, 0.999997615814209, -0.38342323899269104]\n"
     ]
    },
    {
     "name": "stderr",
     "output_type": "stream",
     "text": [
      "127.0.0.1 - - [12/Apr/2024 21:28:30] \"GET /get_weights?date=2020-01-13 HTTP/1.1\" 200 -\n"
     ]
    },
    {
     "name": "stdout",
     "output_type": "stream",
     "text": [
      "2\n",
      "2020-01-13\n",
      "[0.6270738840103149, 0.9999451637268066, -0.6270772218704224, 0.9998192191123962, -0.9997611045837402]\n"
     ]
    },
    {
     "name": "stderr",
     "output_type": "stream",
     "text": [
      "127.0.0.1 - - [12/Apr/2024 21:28:33] \"GET /get_weights?date=2020-01-21 HTTP/1.1\" 200 -\n"
     ]
    },
    {
     "name": "stdout",
     "output_type": "stream",
     "text": [
      "2\n",
      "2020-01-21\n",
      "[0.9997638463973999, 1.0000441074371338, -0.9999162554740906, 1.000038504600525, -0.9999303817749023]\n"
     ]
    },
    {
     "name": "stderr",
     "output_type": "stream",
     "text": [
      "127.0.0.1 - - [12/Apr/2024 21:28:35] \"GET /get_weights?date=2020-01-27 HTTP/1.1\" 200 -\n"
     ]
    },
    {
     "name": "stdout",
     "output_type": "stream",
     "text": [
      "2\n",
      "2020-01-27\n",
      "[0.9999117255210876, 0.5797703266143799, -0.5795326828956604, 0.9999351501464844, -1.000084400177002]\n"
     ]
    },
    {
     "name": "stderr",
     "output_type": "stream",
     "text": [
      "127.0.0.1 - - [12/Apr/2024 21:28:37] \"GET /get_weights?date=2020-02-03 HTTP/1.1\" 200 -\n"
     ]
    },
    {
     "name": "stdout",
     "output_type": "stream",
     "text": [
      "2\n",
      "2020-02-03\n",
      "[0.604676365852356, -0.9786872863769531, 1.0000224113464355, 1.0000184774398804, -0.6260300278663635]\n"
     ]
    },
    {
     "name": "stderr",
     "output_type": "stream",
     "text": [
      "127.0.0.1 - - [12/Apr/2024 21:28:39] \"GET /get_weights?date=2020-02-10 HTTP/1.1\" 200 -\n"
     ]
    },
    {
     "name": "stdout",
     "output_type": "stream",
     "text": [
      "2\n",
      "2020-02-10\n",
      "[-0.6677278280258179, 0.4774446487426758, 0.5766829252243042, 0.999991238117218, -0.3863909840583801]\n"
     ]
    },
    {
     "name": "stderr",
     "output_type": "stream",
     "text": [
      "127.0.0.1 - - [12/Apr/2024 21:28:42] \"GET /get_weights?date=2020-02-18 HTTP/1.1\" 200 -\n"
     ]
    },
    {
     "name": "stdout",
     "output_type": "stream",
     "text": [
      "2\n",
      "2020-02-18\n",
      "[-0.9997668266296387, 1.0000839233398438, 0.9994444251060486, 1.0000040531158447, -0.9997657537460327]\n"
     ]
    },
    {
     "name": "stderr",
     "output_type": "stream",
     "text": [
      "127.0.0.1 - - [12/Apr/2024 21:28:44] \"GET /get_weights?date=2020-02-24 HTTP/1.1\" 200 -\n"
     ]
    },
    {
     "name": "stdout",
     "output_type": "stream",
     "text": [
      "2\n",
      "2020-02-24\n",
      "[-0.30397218465805054, 0.3016151785850525, 0.9999438524246216, 0.9448202252388, -0.9424071907997131]\n"
     ]
    },
    {
     "name": "stderr",
     "output_type": "stream",
     "text": [
      "127.0.0.1 - - [12/Apr/2024 21:28:46] \"GET /get_weights?date=2020-03-02 HTTP/1.1\" 200 -\n"
     ]
    },
    {
     "name": "stdout",
     "output_type": "stream",
     "text": [
      "2\n",
      "2020-03-02\n",
      "[-0.022882061079144478, 0.528090238571167, 0.024095280095934868, 0.620373547077179, -0.14967699348926544]\n"
     ]
    },
    {
     "name": "stderr",
     "output_type": "stream",
     "text": [
      "127.0.0.1 - - [12/Apr/2024 21:28:49] \"GET /get_weights?date=2020-03-09 HTTP/1.1\" 200 -\n"
     ]
    },
    {
     "name": "stdout",
     "output_type": "stream",
     "text": [
      "2\n",
      "2020-03-09\n",
      "[0.6917639970779419, -0.13391666114330292, 0.10893215239048004, 0.2935761511325836, 0.03964431956410408]\n"
     ]
    },
    {
     "name": "stderr",
     "output_type": "stream",
     "text": [
      "127.0.0.1 - - [12/Apr/2024 21:28:51] \"GET /get_weights?date=2020-03-16 HTTP/1.1\" 200 -\n"
     ]
    },
    {
     "name": "stdout",
     "output_type": "stream",
     "text": [
      "2\n",
      "2020-03-16\n",
      "[0.010083461180329323, -0.09119290858507156, 0.14207053184509277, 0.7070109248161316, 0.23202800750732422]\n"
     ]
    },
    {
     "name": "stderr",
     "output_type": "stream",
     "text": [
      "127.0.0.1 - - [12/Apr/2024 21:28:53] \"GET /get_weights?date=2020-03-23 HTTP/1.1\" 200 -\n"
     ]
    },
    {
     "name": "stdout",
     "output_type": "stream",
     "text": [
      "2\n",
      "2020-03-23\n",
      "[-0.0760442391037941, -0.06427713483572006, -0.05859386548399925, 0.9837579131126404, 0.21515733003616333]\n"
     ]
    },
    {
     "name": "stderr",
     "output_type": "stream",
     "text": [
      "127.0.0.1 - - [12/Apr/2024 21:28:56] \"GET /get_weights?date=2020-03-30 HTTP/1.1\" 200 -\n"
     ]
    },
    {
     "name": "stdout",
     "output_type": "stream",
     "text": [
      "2\n",
      "2020-03-30\n",
      "[-0.004450276028364897, 0.4051399230957031, 0.22135807573795319, 0.4017692506313324, -0.023816442117094994]\n"
     ]
    },
    {
     "name": "stderr",
     "output_type": "stream",
     "text": [
      "127.0.0.1 - - [12/Apr/2024 21:28:58] \"GET /get_weights?date=2020-04-06 HTTP/1.1\" 200 -\n"
     ]
    },
    {
     "name": "stdout",
     "output_type": "stream",
     "text": [
      "2\n",
      "2020-04-06\n",
      "[0.061131056398153305, 0.2684846818447113, 0.1979900449514389, 0.44622573256492615, 0.026168467476963997]\n"
     ]
    },
    {
     "name": "stderr",
     "output_type": "stream",
     "text": [
      "127.0.0.1 - - [12/Apr/2024 21:29:00] \"GET /get_weights?date=2020-04-13 HTTP/1.1\" 200 -\n"
     ]
    },
    {
     "name": "stdout",
     "output_type": "stream",
     "text": [
      "2\n",
      "2020-04-13\n",
      "[-0.06632339209318161, 0.08685454726219177, 0.15677811205387115, 0.5828180909156799, 0.23987261950969696]\n"
     ]
    },
    {
     "name": "stderr",
     "output_type": "stream",
     "text": [
      "127.0.0.1 - - [12/Apr/2024 21:29:02] \"GET /get_weights?date=2020-04-20 HTTP/1.1\" 200 -\n"
     ]
    },
    {
     "name": "stdout",
     "output_type": "stream",
     "text": [
      "2\n",
      "2020-04-20\n",
      "[0.05098699405789375, 0.04335726052522659, 0.22924236953258514, 0.5264459848403931, 0.14996737241744995]\n"
     ]
    },
    {
     "name": "stderr",
     "output_type": "stream",
     "text": [
      "127.0.0.1 - - [12/Apr/2024 21:29:05] \"GET /get_weights?date=2020-04-27 HTTP/1.1\" 200 -\n"
     ]
    },
    {
     "name": "stdout",
     "output_type": "stream",
     "text": [
      "2\n",
      "2020-04-27\n",
      "[0.08125843107700348, 0.46729427576065063, 0.05371641740202904, 0.2337566614151001, 0.16397422552108765]\n"
     ]
    },
    {
     "name": "stderr",
     "output_type": "stream",
     "text": [
      "127.0.0.1 - - [12/Apr/2024 21:29:07] \"GET /get_weights?date=2020-05-04 HTTP/1.1\" 200 -\n"
     ]
    },
    {
     "name": "stdout",
     "output_type": "stream",
     "text": [
      "2\n",
      "2020-05-04\n",
      "[0.5132489800453186, 0.04839414730668068, -0.09400413185358047, 0.5232973694801331, 0.009063631296157837]\n"
     ]
    },
    {
     "name": "stderr",
     "output_type": "stream",
     "text": [
      "127.0.0.1 - - [12/Apr/2024 21:29:09] \"GET /get_weights?date=2020-05-11 HTTP/1.1\" 200 -\n"
     ]
    },
    {
     "name": "stdout",
     "output_type": "stream",
     "text": [
      "2\n",
      "2020-05-11\n",
      "[-0.09215433150529861, 0.2328556478023529, 0.37042492628097534, 0.42722272872924805, 0.061651065945625305]\n"
     ]
    },
    {
     "name": "stderr",
     "output_type": "stream",
     "text": [
      "127.0.0.1 - - [12/Apr/2024 21:29:12] \"GET /get_weights?date=2020-05-18 HTTP/1.1\" 200 -\n"
     ]
    },
    {
     "name": "stdout",
     "output_type": "stream",
     "text": [
      "2\n",
      "2020-05-18\n",
      "[-0.22392261028289795, 0.2803438603878021, 0.1458595246076584, 0.7872889041900635, 0.010430313646793365]\n"
     ]
    },
    {
     "name": "stderr",
     "output_type": "stream",
     "text": [
      "127.0.0.1 - - [12/Apr/2024 21:29:14] \"GET /get_weights?date=2020-05-26 HTTP/1.1\" 200 -\n"
     ]
    },
    {
     "name": "stdout",
     "output_type": "stream",
     "text": [
      "2\n",
      "2020-05-26\n",
      "[-0.006946404930204153, 0.42125385999679565, 0.04341248422861099, 0.514822244644165, 0.027457820251584053]\n"
     ]
    },
    {
     "name": "stderr",
     "output_type": "stream",
     "text": [
      "127.0.0.1 - - [12/Apr/2024 21:29:16] \"GET /get_weights?date=2020-06-01 HTTP/1.1\" 200 -\n"
     ]
    },
    {
     "name": "stdout",
     "output_type": "stream",
     "text": [
      "2\n",
      "2020-06-01\n",
      "[-0.03180617094039917, 0.020190827548503876, -0.024516893550753593, 0.6518964767456055, 0.3842357397079468]\n"
     ]
    },
    {
     "name": "stderr",
     "output_type": "stream",
     "text": [
      "127.0.0.1 - - [12/Apr/2024 21:29:19] \"GET /get_weights?date=2020-06-08 HTTP/1.1\" 200 -\n"
     ]
    },
    {
     "name": "stdout",
     "output_type": "stream",
     "text": [
      "2\n",
      "2020-06-08\n",
      "[0.023520028218626976, 0.4599362909793854, 0.027505578473210335, 0.44383108615875244, 0.04520702362060547]\n"
     ]
    },
    {
     "name": "stderr",
     "output_type": "stream",
     "text": [
      "127.0.0.1 - - [12/Apr/2024 21:29:21] \"GET /get_weights?date=2020-06-15 HTTP/1.1\" 200 -\n"
     ]
    },
    {
     "name": "stdout",
     "output_type": "stream",
     "text": [
      "2\n",
      "2020-06-15\n",
      "[0.3013284504413605, 0.3871484696865082, -0.06325624138116837, 0.24343281984329224, 0.13134650886058807]\n"
     ]
    },
    {
     "name": "stderr",
     "output_type": "stream",
     "text": [
      "127.0.0.1 - - [12/Apr/2024 21:29:23] \"GET /get_weights?date=2020-06-22 HTTP/1.1\" 200 -\n"
     ]
    },
    {
     "name": "stdout",
     "output_type": "stream",
     "text": [
      "2\n",
      "2020-06-22\n",
      "[-0.03433077782392502, 0.02974827215075493, -0.005574684124439955, 0.7813720107078552, 0.2287851870059967]\n"
     ]
    },
    {
     "name": "stderr",
     "output_type": "stream",
     "text": [
      "127.0.0.1 - - [12/Apr/2024 21:29:26] \"GET /get_weights?date=2020-06-29 HTTP/1.1\" 200 -\n"
     ]
    },
    {
     "name": "stdout",
     "output_type": "stream",
     "text": [
      "2\n",
      "2020-06-29\n",
      "[0.05994844436645508, 0.06538044661283493, 0.39001595973968506, 0.187815859913826, 0.29683926701545715]\n"
     ]
    },
    {
     "name": "stderr",
     "output_type": "stream",
     "text": [
      "127.0.0.1 - - [12/Apr/2024 21:29:28] \"GET /get_weights?date=2020-07-06 HTTP/1.1\" 200 -\n"
     ]
    },
    {
     "name": "stdout",
     "output_type": "stream",
     "text": [
      "2\n",
      "2020-07-06\n",
      "[0.05316733941435814, 0.12693677842617035, -0.012625370174646378, 0.6103084683418274, 0.2222127765417099]\n"
     ]
    },
    {
     "name": "stderr",
     "output_type": "stream",
     "text": [
      "127.0.0.1 - - [12/Apr/2024 21:29:30] \"GET /get_weights?date=2020-07-13 HTTP/1.1\" 200 -\n"
     ]
    },
    {
     "name": "stdout",
     "output_type": "stream",
     "text": [
      "2\n",
      "2020-07-13\n",
      "[0.20681233704090118, 0.16343045234680176, -0.08303377032279968, 0.7693963646888733, -0.05660538002848625]\n"
     ]
    },
    {
     "name": "stderr",
     "output_type": "stream",
     "text": [
      "127.0.0.1 - - [12/Apr/2024 21:29:32] \"GET /get_weights?date=2020-07-20 HTTP/1.1\" 200 -\n"
     ]
    },
    {
     "name": "stdout",
     "output_type": "stream",
     "text": [
      "2\n",
      "2020-07-20\n",
      "[-0.028506649658083916, 0.009555078111588955, 0.113190658390522, 0.7228989601135254, 0.18286195397377014]\n"
     ]
    },
    {
     "name": "stderr",
     "output_type": "stream",
     "text": [
      "127.0.0.1 - - [12/Apr/2024 21:29:35] \"GET /get_weights?date=2020-07-27 HTTP/1.1\" 200 -\n"
     ]
    },
    {
     "name": "stdout",
     "output_type": "stream",
     "text": [
      "2\n",
      "2020-07-27\n",
      "[0.22937332093715668, 0.48367995023727417, -0.2081175148487091, 0.15820512175559998, 0.3368591070175171]\n"
     ]
    },
    {
     "name": "stderr",
     "output_type": "stream",
     "text": [
      "127.0.0.1 - - [12/Apr/2024 21:29:37] \"GET /get_weights?date=2020-08-03 HTTP/1.1\" 200 -\n"
     ]
    },
    {
     "name": "stdout",
     "output_type": "stream",
     "text": [
      "2\n",
      "2020-08-03\n",
      "[-0.3010658025741577, 0.5697769522666931, -0.05761472508311272, 0.50623619556427, 0.2826673090457916]\n"
     ]
    },
    {
     "name": "stderr",
     "output_type": "stream",
     "text": [
      "127.0.0.1 - - [12/Apr/2024 21:29:39] \"GET /get_weights?date=2020-08-10 HTTP/1.1\" 200 -\n"
     ]
    },
    {
     "name": "stdout",
     "output_type": "stream",
     "text": [
      "2\n",
      "2020-08-10\n",
      "[0.0326438769698143, 0.34438496828079224, -0.13791652023792267, 0.9307536482810974, -0.16986596584320068]\n"
     ]
    },
    {
     "name": "stderr",
     "output_type": "stream",
     "text": [
      "127.0.0.1 - - [12/Apr/2024 21:29:42] \"GET /get_weights?date=2020-08-17 HTTP/1.1\" 200 -\n"
     ]
    },
    {
     "name": "stdout",
     "output_type": "stream",
     "text": [
      "2\n",
      "2020-08-17\n",
      "[-0.08542326837778091, 0.22028698027133942, 0.020377282053232193, 0.6471518278121948, 0.19760718941688538]\n"
     ]
    },
    {
     "name": "stderr",
     "output_type": "stream",
     "text": [
      "127.0.0.1 - - [12/Apr/2024 21:29:44] \"GET /get_weights?date=2020-08-24 HTTP/1.1\" 200 -\n"
     ]
    },
    {
     "name": "stdout",
     "output_type": "stream",
     "text": [
      "2\n",
      "2020-08-24\n",
      "[-0.19988928735256195, 0.06782186776399612, -0.10934162884950638, 0.857932448387146, 0.383476585149765]\n"
     ]
    },
    {
     "name": "stderr",
     "output_type": "stream",
     "text": [
      "127.0.0.1 - - [12/Apr/2024 21:29:46] \"GET /get_weights?date=2020-08-31 HTTP/1.1\" 200 -\n"
     ]
    },
    {
     "name": "stdout",
     "output_type": "stream",
     "text": [
      "2\n",
      "2020-08-31\n",
      "[-0.9999675154685974, 0.9999927878379822, 0.04035310447216034, 0.9114354848861694, 0.04818614572286606]\n"
     ]
    },
    {
     "name": "stderr",
     "output_type": "stream",
     "text": [
      "127.0.0.1 - - [12/Apr/2024 21:29:49] \"GET /get_weights?date=2020-09-08 HTTP/1.1\" 200 -\n"
     ]
    },
    {
     "name": "stdout",
     "output_type": "stream",
     "text": [
      "2\n",
      "2020-09-08\n",
      "[0.5976601839065552, -0.2691516876220703, 0.6103084683418274, 0.999898374080658, -0.9387152791023254]\n"
     ]
    },
    {
     "name": "stderr",
     "output_type": "stream",
     "text": [
      "127.0.0.1 - - [12/Apr/2024 21:29:51] \"GET /get_weights?date=2020-09-14 HTTP/1.1\" 200 -\n"
     ]
    },
    {
     "name": "stdout",
     "output_type": "stream",
     "text": [
      "2\n",
      "2020-09-14\n",
      "[-0.39027178287506104, -0.04710516333580017, 0.528502345085144, 0.9998833537101746, -0.09100861102342606]\n"
     ]
    },
    {
     "name": "stderr",
     "output_type": "stream",
     "text": [
      "127.0.0.1 - - [12/Apr/2024 21:29:53] \"GET /get_weights?date=2020-09-21 HTTP/1.1\" 200 -\n"
     ]
    },
    {
     "name": "stdout",
     "output_type": "stream",
     "text": [
      "2\n",
      "2020-09-21\n",
      "[0.38551709055900574, 0.15763339400291443, -0.06361845135688782, 0.8045223355293274, -0.28405436873435974]\n",
      "2\n",
      "2020-09-28\n",
      "[-0.32573163509368896, 0.7136436700820923, 0.16136741638183594, 0.9999440908432007, -0.5492235422134399]\n"
     ]
    },
    {
     "name": "stderr",
     "output_type": "stream",
     "text": [
      "127.0.0.1 - - [12/Apr/2024 21:29:56] \"GET /get_weights?date=2020-09-28 HTTP/1.1\" 200 -\n",
      "127.0.0.1 - - [12/Apr/2024 21:29:59] \"GET /get_weights?date=2020-10-05 HTTP/1.1\" 200 -\n"
     ]
    },
    {
     "name": "stdout",
     "output_type": "stream",
     "text": [
      "2\n",
      "2020-10-05\n",
      "[0.04049411416053772, 0.3340555727481842, -0.27732500433921814, 0.6791030168533325, 0.22367216646671295]\n"
     ]
    },
    {
     "name": "stderr",
     "output_type": "stream",
     "text": [
      "127.0.0.1 - - [12/Apr/2024 21:30:01] \"GET /get_weights?date=2020-10-12 HTTP/1.1\" 200 -\n"
     ]
    },
    {
     "name": "stdout",
     "output_type": "stream",
     "text": [
      "2\n",
      "2020-10-12\n",
      "[-0.27860304713249207, 0.6131942868232727, 0.3336353302001953, 0.3050934672355652, 0.026679985225200653]\n"
     ]
    },
    {
     "name": "stderr",
     "output_type": "stream",
     "text": [
      "127.0.0.1 - - [12/Apr/2024 21:30:04] \"GET /get_weights?date=2020-10-19 HTTP/1.1\" 200 -\n"
     ]
    },
    {
     "name": "stdout",
     "output_type": "stream",
     "text": [
      "2\n",
      "2020-10-19\n",
      "[0.31394463777542114, 0.5250653624534607, -0.24644507467746735, 0.6883451342582703, -0.28091007471084595]\n"
     ]
    },
    {
     "name": "stderr",
     "output_type": "stream",
     "text": [
      "127.0.0.1 - - [12/Apr/2024 21:30:06] \"GET /get_weights?date=2020-10-26 HTTP/1.1\" 200 -\n"
     ]
    },
    {
     "name": "stdout",
     "output_type": "stream",
     "text": [
      "2\n",
      "2020-10-26\n",
      "[0.3090277314186096, 0.2628348767757416, 0.0905865728855133, 0.8493432998657227, -0.5117924809455872]\n"
     ]
    },
    {
     "name": "stderr",
     "output_type": "stream",
     "text": [
      "127.0.0.1 - - [12/Apr/2024 21:30:09] \"GET /get_weights?date=2020-11-02 HTTP/1.1\" 200 -\n"
     ]
    },
    {
     "name": "stdout",
     "output_type": "stream",
     "text": [
      "2\n",
      "2020-11-02\n",
      "[0.04287237301468849, 0.6796817779541016, -0.05229315161705017, 0.35622477531433105, -0.026485780254006386]\n"
     ]
    },
    {
     "name": "stderr",
     "output_type": "stream",
     "text": [
      "127.0.0.1 - - [12/Apr/2024 21:30:12] \"GET /get_weights?date=2020-11-09 HTTP/1.1\" 200 -\n"
     ]
    },
    {
     "name": "stdout",
     "output_type": "stream",
     "text": [
      "2\n",
      "2020-11-09\n",
      "[-0.4017224609851837, 0.3602435886859894, -0.04811430349946022, 0.9958214163780212, 0.09377173334360123]\n"
     ]
    },
    {
     "name": "stderr",
     "output_type": "stream",
     "text": [
      "127.0.0.1 - - [12/Apr/2024 21:30:14] \"GET /get_weights?date=2020-11-16 HTTP/1.1\" 200 -\n"
     ]
    },
    {
     "name": "stdout",
     "output_type": "stream",
     "text": [
      "2\n",
      "2020-11-16\n",
      "[-0.24479036033153534, 0.9999799132347107, -0.3033607304096222, 0.5883668661117554, -0.04019570350646973]\n"
     ]
    },
    {
     "name": "stderr",
     "output_type": "stream",
     "text": [
      "127.0.0.1 - - [12/Apr/2024 21:30:17] \"GET /get_weights?date=2020-11-23 HTTP/1.1\" 200 -\n"
     ]
    },
    {
     "name": "stdout",
     "output_type": "stream",
     "text": [
      "2\n",
      "2020-11-23\n",
      "[-0.12669627368450165, 0.8396829962730408, 0.2869643270969391, 1.0000170469284058, -0.9999681711196899]\n"
     ]
    },
    {
     "name": "stderr",
     "output_type": "stream",
     "text": [
      "127.0.0.1 - - [12/Apr/2024 21:30:19] \"GET /get_weights?date=2020-11-30 HTTP/1.1\" 200 -\n"
     ]
    },
    {
     "name": "stdout",
     "output_type": "stream",
     "text": [
      "2\n",
      "2020-11-30\n",
      "[-0.045857980847358704, 0.9691641926765442, -0.10620022565126419, 0.22291231155395508, -0.04001835361123085]\n"
     ]
    },
    {
     "name": "stderr",
     "output_type": "stream",
     "text": [
      "127.0.0.1 - - [12/Apr/2024 21:30:22] \"GET /get_weights?date=2020-12-07 HTTP/1.1\" 200 -\n"
     ]
    },
    {
     "name": "stdout",
     "output_type": "stream",
     "text": [
      "2\n",
      "2020-12-07\n",
      "[0.057170696556568146, 0.42989543080329895, -0.07950165122747421, 0.7558295130729675, -0.1633940488100052]\n"
     ]
    },
    {
     "name": "stderr",
     "output_type": "stream",
     "text": [
      "127.0.0.1 - - [12/Apr/2024 21:30:25] \"GET /get_weights?date=2020-12-14 HTTP/1.1\" 200 -\n"
     ]
    },
    {
     "name": "stdout",
     "output_type": "stream",
     "text": [
      "2\n",
      "2020-12-14\n",
      "[-0.23286816477775574, 0.6183288097381592, -0.14159484207630157, 0.8678115010261536, -0.11167736351490021]\n"
     ]
    }
   ],
   "source": [
    "app.run(port=5000)"
   ]
  },
  {
   "cell_type": "code",
   "execution_count": null,
   "id": "7a1839cc",
   "metadata": {},
   "outputs": [],
   "source": [
    "update the "
   ]
  },
  {
   "cell_type": "code",
   "execution_count": null,
   "id": "3894efcb",
   "metadata": {},
   "outputs": [],
   "source": []
  }
 ],
 "metadata": {
  "kernelspec": {
   "display_name": "Python 3 (ipykernel)",
   "language": "python",
   "name": "python3"
  },
  "language_info": {
   "codemirror_mode": {
    "name": "ipython",
    "version": 3
   },
   "file_extension": ".py",
   "mimetype": "text/x-python",
   "name": "python",
   "nbconvert_exporter": "python",
   "pygments_lexer": "ipython3",
   "version": "3.8.17"
  }
 },
 "nbformat": 4,
 "nbformat_minor": 5
}
