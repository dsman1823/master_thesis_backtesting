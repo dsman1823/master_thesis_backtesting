{
 "cells": [
  {
   "cell_type": "markdown",
   "id": "a388c7d0",
   "metadata": {},
   "source": [
    "# This notebook provides portfolio weights based on the historical data to the backtesting notebook"
   ]
  },
  {
   "cell_type": "code",
   "execution_count": null,
   "id": "04a4ce3b",
   "metadata": {},
   "outputs": [],
   "source": [
    "!pip uninstall deepdowmine -y\n",
    "!pip install git+https://github.com/dsman1823/deepdowmine.git"
   ]
  },
  {
   "cell_type": "code",
   "execution_count": 1,
   "id": "9b37e532",
   "metadata": {},
   "outputs": [],
   "source": [
    "import torch\n",
    "\n",
    "import pandas as pd\n",
    "import numpy as np\n",
    "\n",
    "from datetime import datetime \n",
    "from deepdowmine.nn import LinearNetMine, UpdNumericalMarkowitzWithShorting, UpdLinearNetMine, UpdDenseNet, UpdUpdLinearNetMine\n",
    "from deepdowmine.nn import DenseNetMinVar, ConvNetFullOpti, ConvNetMinVar, RnnNetMinVar, LstmNetMinVar3, RnnNetFullOpti\n",
    "from deepdowmine.nn import LstmNetFullOpti, DenseNetFullOpti2, DenseNetMinVar2, LstmNetFullOpti3, RnnNetMinVar3, RnnNetFullOpti3, ConvNetMinVar2, ConvNetFullOpti2\n",
    "from dateutil.relativedelta import relativedelta\n",
    "from datetime import datetime, date"
   ]
  },
  {
   "cell_type": "code",
   "execution_count": 2,
   "id": "78fd3bba",
   "metadata": {},
   "outputs": [],
   "source": [
    "RETS_FILE_PATH = 'historical_returns.csv'\n",
    "\n",
    "\n",
    "\n",
    "loockback, gap, horizon = 50, 0, 5\n",
    "n_assets = 5\n",
    "loockback = 50\n"
   ]
  },
  {
   "cell_type": "markdown",
   "id": "6c88f90a",
   "metadata": {},
   "source": [
    "## Load NN from dict"
   ]
  },
  {
   "cell_type": "code",
   "execution_count": 3,
   "id": "36a91bae",
   "metadata": {},
   "outputs": [],
   "source": [
    "LINEAR_NET_OSHARPE_FILE_PATH = r'./NNs/linear_net_50x5_sharpe.pth' # LinearNetMine with ordinary Sharpe cost"
   ]
  },
  {
   "cell_type": "code",
   "execution_count": 4,
   "id": "7a634b07",
   "metadata": {},
   "outputs": [],
   "source": [
    "# years parameter reprsenets amount of years after the backtest stasrt: the model dowloaded is the the model trained \n",
    "# on the period (train_start, back_test_start + years) \n",
    "\n",
    "\n",
    "# LinearNetMine with ordinary sharpe cost function\n",
    "def load_linear_net_osharpe(years=0):\n",
    "    network = LinearNetMine(1, loockback, n_assets, p=0.5)\n",
    "    network.load_state_dict(torch.load(fr'./NNs/linear_net_50x5_sharpe_{years}.pth'))\n",
    "    print(fr'./NNs/linear_net_50x5_sharpe_{years}.pth')\n",
    "    return network.eval()\n",
    "    "
   ]
  },
  {
   "cell_type": "code",
   "execution_count": 5,
   "id": "fd38307d",
   "metadata": {},
   "outputs": [],
   "source": [
    "def load_dense_net(years=0):\n",
    "    network = UpdLinearNetMine(1, loockback, n_assets, p=0.5)\n",
    "    network.load_state_dict(torch.load(fr'./NNs/dense_{years}.pth'))\n",
    "    print(fr'dense_{years}.pth')\n",
    "    return network.eval()"
   ]
  },
  {
   "cell_type": "markdown",
   "id": "a0c6d5c7",
   "metadata": {},
   "source": [
    "## Core functions"
   ]
  },
  {
   "cell_type": "code",
   "execution_count": 6,
   "id": "9b0ed9ac",
   "metadata": {},
   "outputs": [],
   "source": [
    "def transform_rets_to_NN_input(rets):\n",
    "    # tranform (loockback, n_assets) df into (1, 1, loockback, n_assets)=(sample_size, n_channels, loockback, n_assets) tensor \n",
    "    returns_np = rets.to_numpy()\n",
    "\n",
    "    # Add the required dimensions: (n_samples, n_channels, lookback, n_assets)\n",
    "    returns_np_expanded = np.expand_dims(returns_np, axis=0)  # Adds n_samples dimension\n",
    "    returns_np_expanded = np.expand_dims(returns_np_expanded, axis=0)  \n",
    "    return torch.from_numpy(returns_np_expanded).float()\n",
    "\n",
    "def weights_from_NN(rets, network):\n",
    "    X = transform_rets_to_NN_input(rets)\n",
    "    return network(X).detach().numpy()[0]\n",
    "\n",
    "# method is a function, used for obtaining the returns\n",
    "def get_weights(method):\n",
    "    rets = pd.read_csv(RETS_FILE_PATH, index_col=0)\n",
    "    return method(rets)"
   ]
  },
  {
   "cell_type": "markdown",
   "id": "e7fae4ce",
   "metadata": {},
   "source": [
    "# Server"
   ]
  },
  {
   "cell_type": "code",
   "execution_count": 13,
   "id": "be630bfa",
   "metadata": {},
   "outputs": [],
   "source": [
    "\n",
    "\n",
    "RETRAINING_DATE1 = date(2018, 12, 15)\n",
    "RETRAINING_DATE2 = date(2019, 12, 15)\n",
    "\n",
    "# RETRAINING_DATE1 = date(2021, 12, 15)\n",
    "# RETRAINING_DATE2 = date(2022, 12, 15)"
   ]
  },
  {
   "cell_type": "code",
   "execution_count": 31,
   "id": "4b691818",
   "metadata": {},
   "outputs": [],
   "source": [
    "from flask import Flask, request, jsonify\n",
    "from flask_cors import CORS \n",
    "\n",
    "import numpy as np\n",
    "\n",
    "app = Flask(__name__)\n",
    "CORS(app)  # Enable CORS for your Flask app\n",
    "\n",
    "markers = {}\n",
    "markers['net_initialized'] = False\n",
    "\n",
    "@app.route('/get_weights', methods=['GET'])\n",
    "def get_request():\n",
    "    # Extract date string from the query parameters\n",
    "    date_str = request.args.get('date', None)\n",
    "    \n",
    "    # Simple validation to check if date is provided\n",
    "    if not date_str:\n",
    "        return jsonify({\"error\": \"Missing date parameter\"}), 400\n",
    "\n",
    "    # Try to convert the date string to a datetime object\n",
    "    try:\n",
    "        # Note that now we're only parsing the date, not the time\n",
    "        date = datetime.strptime(date_str, \"%Y-%m-%d\").date()\n",
    "    except ValueError:\n",
    "        # If there is an error in parsing the date, return an error message\n",
    "        return jsonify({\"error\": \"Invalid date format. Please use YYYY-MM-DD format.\"}), 400\n",
    "    \n",
    "    years_plus = 0\n",
    "    network = LstmNetFullOpti3(5,  0.1, 'diagonal', 1)\n",
    "    \n",
    "    network.load_state_dict(torch.load(fr'./NNs/trained_on_old_data/rnn/full_opti_0.pth'))\n",
    "\n",
    "    \n",
    "    if date < RETRAINING_DATE1:\n",
    "        print(0)\n",
    "    if RETRAINING_DATE1 < date < RETRAINING_DATE2:\n",
    "        print('1')\n",
    "        network.load_state_dict(torch.load(fr'./NNs/trained_on_old_data/rnn/full_opti_1.pth'))\n",
    "    if RETRAINING_DATE2 < date:\n",
    "        print('2')\n",
    "        network.load_state_dict(torch.load(fr'./NNs/trained_on_old_data/rnn/full_opti_2.pth'))\n",
    "\n",
    "    rets = pd.read_csv(RETS_FILE_PATH, index_col=0)\n",
    "    X = transform_rets_to_NN_input(rets)\n",
    "    weights = network.eval()(X).detach().numpy()[0].tolist()\n",
    "    \n",
    "        \n",
    "    #weights = weights_from_NN(rets, linear_osharpe_networks[0]).tolist()\n",
    "    #print(weights)\n",
    "    # Return the vector as JSON, using the string representation of the date for simplicity\n",
    "    print(date)\n",
    "    print(weights)\n",
    "    return jsonify({'weights': weights})\n"
   ]
  },
  {
   "cell_type": "code",
   "execution_count": null,
   "id": "ed150707",
   "metadata": {},
   "outputs": [
    {
     "name": "stdout",
     "output_type": "stream",
     "text": [
      " * Serving Flask app '__main__'\n",
      " * Debug mode: off\n"
     ]
    },
    {
     "name": "stderr",
     "output_type": "stream",
     "text": [
      "WARNING: This is a development server. Do not use it in a production deployment. Use a production WSGI server instead.\n",
      " * Running on http://127.0.0.1:5000\n",
      "Press CTRL+C to quit\n",
      "127.0.0.1 - - [18/Apr/2024 10:26:36] \"GET /get_weights?date=2017-12-18 HTTP/1.1\" 200 -\n"
     ]
    },
    {
     "name": "stdout",
     "output_type": "stream",
     "text": [
      "0\n",
      "2017-12-18\n",
      "[-0.13245245814323425, 0.32193106412887573, 0.1399938315153122, 0.577113151550293, 0.09341443330049515]\n"
     ]
    },
    {
     "name": "stderr",
     "output_type": "stream",
     "text": [
      "127.0.0.1 - - [18/Apr/2024 10:26:38] \"GET /get_weights?date=2017-12-26 HTTP/1.1\" 200 -\n"
     ]
    },
    {
     "name": "stdout",
     "output_type": "stream",
     "text": [
      "0\n",
      "2017-12-26\n",
      "[-0.14912016689777374, -0.005225165281444788, 0.2014600932598114, 0.9999914765357971, -0.04710622504353523]\n"
     ]
    },
    {
     "name": "stderr",
     "output_type": "stream",
     "text": [
      "127.0.0.1 - - [18/Apr/2024 10:26:41] \"GET /get_weights?date=2018-01-02 HTTP/1.1\" 200 -\n"
     ]
    },
    {
     "name": "stdout",
     "output_type": "stream",
     "text": [
      "0\n",
      "2018-01-02\n",
      "[-0.10400419682264328, 0.6542668342590332, 0.15584275126457214, 0.08622359484434128, 0.20767101645469666]\n"
     ]
    },
    {
     "name": "stderr",
     "output_type": "stream",
     "text": [
      "127.0.0.1 - - [18/Apr/2024 10:26:43] \"GET /get_weights?date=2018-01-08 HTTP/1.1\" 200 -\n"
     ]
    },
    {
     "name": "stdout",
     "output_type": "stream",
     "text": [
      "0\n",
      "2018-01-08\n",
      "[-0.11254536360502243, 0.5278809666633606, -0.1402784138917923, 0.6822400093078613, 0.0427028127014637]\n"
     ]
    },
    {
     "name": "stderr",
     "output_type": "stream",
     "text": [
      "127.0.0.1 - - [18/Apr/2024 10:26:45] \"GET /get_weights?date=2018-01-16 HTTP/1.1\" 200 -\n"
     ]
    },
    {
     "name": "stdout",
     "output_type": "stream",
     "text": [
      "0\n",
      "2018-01-16\n",
      "[0.09795556217432022, 0.9999743700027466, -0.26193767786026, 0.3089934289455414, -0.14498569071292877]\n"
     ]
    },
    {
     "name": "stderr",
     "output_type": "stream",
     "text": [
      "127.0.0.1 - - [18/Apr/2024 10:26:47] \"GET /get_weights?date=2018-01-22 HTTP/1.1\" 200 -\n"
     ]
    },
    {
     "name": "stdout",
     "output_type": "stream",
     "text": [
      "0\n",
      "2018-01-22\n",
      "[-0.318673312664032, 0.18861661851406097, 0.19136586785316467, 0.6064190864562988, 0.3322717547416687]\n"
     ]
    },
    {
     "name": "stderr",
     "output_type": "stream",
     "text": [
      "127.0.0.1 - - [18/Apr/2024 10:26:49] \"GET /get_weights?date=2018-01-29 HTTP/1.1\" 200 -\n"
     ]
    },
    {
     "name": "stdout",
     "output_type": "stream",
     "text": [
      "0\n",
      "2018-01-29\n",
      "[-0.16634806990623474, 0.9999557137489319, -0.8661989569664001, 0.9999427199363708, 0.03264869004487991]\n"
     ]
    },
    {
     "name": "stderr",
     "output_type": "stream",
     "text": [
      "127.0.0.1 - - [18/Apr/2024 10:26:52] \"GET /get_weights?date=2018-02-05 HTTP/1.1\" 200 -\n"
     ]
    },
    {
     "name": "stdout",
     "output_type": "stream",
     "text": [
      "0\n",
      "2018-02-05\n",
      "[0.2724481225013733, 0.28426840901374817, 0.19746063649654388, 0.16332398355007172, 0.08249884098768234]\n"
     ]
    },
    {
     "name": "stderr",
     "output_type": "stream",
     "text": [
      "127.0.0.1 - - [18/Apr/2024 10:26:54] \"GET /get_weights?date=2018-02-12 HTTP/1.1\" 200 -\n"
     ]
    },
    {
     "name": "stdout",
     "output_type": "stream",
     "text": [
      "0\n",
      "2018-02-12\n",
      "[-0.7475742101669312, 0.7501975297927856, -0.12770777940750122, 0.5497530698776245, 0.5753313302993774]\n"
     ]
    },
    {
     "name": "stderr",
     "output_type": "stream",
     "text": [
      "127.0.0.1 - - [18/Apr/2024 10:26:56] \"GET /get_weights?date=2018-02-20 HTTP/1.1\" 200 -\n"
     ]
    },
    {
     "name": "stdout",
     "output_type": "stream",
     "text": [
      "0\n",
      "2018-02-20\n",
      "[-0.09317399561405182, 0.9999952912330627, -0.6023209691047668, 0.9999904632568359, -0.30449071526527405]\n"
     ]
    },
    {
     "name": "stderr",
     "output_type": "stream",
     "text": [
      "127.0.0.1 - - [18/Apr/2024 10:26:58] \"GET /get_weights?date=2018-02-26 HTTP/1.1\" 200 -\n"
     ]
    },
    {
     "name": "stdout",
     "output_type": "stream",
     "text": [
      "0\n",
      "2018-02-26\n",
      "[-0.47879737615585327, 0.19885538518428802, 0.07151678204536438, 0.9998025894165039, 0.2086225301027298]\n"
     ]
    },
    {
     "name": "stderr",
     "output_type": "stream",
     "text": [
      "127.0.0.1 - - [18/Apr/2024 10:27:00] \"GET /get_weights?date=2018-03-05 HTTP/1.1\" 200 -\n"
     ]
    },
    {
     "name": "stdout",
     "output_type": "stream",
     "text": [
      "0\n",
      "2018-03-05\n",
      "[-0.3573199510574341, -0.1527743935585022, 0.2524738609790802, 0.25762149691581726, 0.9999989867210388]\n"
     ]
    },
    {
     "name": "stderr",
     "output_type": "stream",
     "text": [
      "127.0.0.1 - - [18/Apr/2024 10:27:02] \"GET /get_weights?date=2018-03-12 HTTP/1.1\" 200 -\n"
     ]
    },
    {
     "name": "stdout",
     "output_type": "stream",
     "text": [
      "0\n",
      "2018-03-12\n",
      "[-0.20933738350868225, 0.941238284111023, -0.5426226258277893, 1.0001150369644165, -0.18939334154129028]\n"
     ]
    },
    {
     "name": "stderr",
     "output_type": "stream",
     "text": [
      "127.0.0.1 - - [18/Apr/2024 10:27:05] \"GET /get_weights?date=2018-03-19 HTTP/1.1\" 200 -\n"
     ]
    },
    {
     "name": "stdout",
     "output_type": "stream",
     "text": [
      "0\n",
      "2018-03-19\n",
      "[0.43664419651031494, 0.0551566518843174, -0.1752547174692154, 0.7957954406738281, -0.1123414859175682]\n"
     ]
    },
    {
     "name": "stderr",
     "output_type": "stream",
     "text": [
      "127.0.0.1 - - [18/Apr/2024 10:27:07] \"GET /get_weights?date=2018-03-26 HTTP/1.1\" 200 -\n"
     ]
    },
    {
     "name": "stdout",
     "output_type": "stream",
     "text": [
      "0\n",
      "2018-03-26\n",
      "[-0.06309787929058075, 0.22952568531036377, 0.3576057553291321, 0.22427308559417725, 0.25169333815574646]\n"
     ]
    },
    {
     "name": "stderr",
     "output_type": "stream",
     "text": [
      "127.0.0.1 - - [18/Apr/2024 10:27:09] \"GET /get_weights?date=2018-04-02 HTTP/1.1\" 200 -\n"
     ]
    },
    {
     "name": "stdout",
     "output_type": "stream",
     "text": [
      "0\n",
      "2018-04-02\n",
      "[0.24284139275550842, 0.9999410510063171, -0.05991578847169876, 0.2065393328666687, -0.3894059956073761]\n"
     ]
    },
    {
     "name": "stderr",
     "output_type": "stream",
     "text": [
      "127.0.0.1 - - [18/Apr/2024 10:27:11] \"GET /get_weights?date=2018-04-09 HTTP/1.1\" 200 -\n"
     ]
    },
    {
     "name": "stdout",
     "output_type": "stream",
     "text": [
      "0\n",
      "2018-04-09\n",
      "[-0.00023969552421476692, 0.03641582652926445, -0.05666464939713478, 0.7655503153800964, 0.25493818521499634]\n"
     ]
    },
    {
     "name": "stderr",
     "output_type": "stream",
     "text": [
      "127.0.0.1 - - [18/Apr/2024 10:27:13] \"GET /get_weights?date=2018-04-16 HTTP/1.1\" 200 -\n"
     ]
    },
    {
     "name": "stdout",
     "output_type": "stream",
     "text": [
      "0\n",
      "2018-04-16\n",
      "[0.025194818153977394, -0.15009507536888123, -0.07052406668663025, 0.9999955296516418, 0.19542881846427917]\n"
     ]
    },
    {
     "name": "stderr",
     "output_type": "stream",
     "text": [
      "127.0.0.1 - - [18/Apr/2024 10:27:16] \"GET /get_weights?date=2018-04-23 HTTP/1.1\" 200 -\n"
     ]
    },
    {
     "name": "stdout",
     "output_type": "stream",
     "text": [
      "0\n",
      "2018-04-23\n",
      "[-0.036396998912096024, 0.4179367125034332, -0.003458447754383087, 0.4593263566493988, 0.16259239614009857]\n"
     ]
    },
    {
     "name": "stderr",
     "output_type": "stream",
     "text": [
      "127.0.0.1 - - [18/Apr/2024 10:27:18] \"GET /get_weights?date=2018-04-30 HTTP/1.1\" 200 -\n"
     ]
    },
    {
     "name": "stdout",
     "output_type": "stream",
     "text": [
      "0\n",
      "2018-04-30\n",
      "[-0.06373915821313858, 0.17996129393577576, -0.10327379405498505, 0.9260935187339783, 0.060958027839660645]\n"
     ]
    },
    {
     "name": "stderr",
     "output_type": "stream",
     "text": [
      "127.0.0.1 - - [18/Apr/2024 10:27:20] \"GET /get_weights?date=2018-05-07 HTTP/1.1\" 200 -\n"
     ]
    },
    {
     "name": "stdout",
     "output_type": "stream",
     "text": [
      "0\n",
      "2018-05-07\n",
      "[-0.08007947355508804, 0.9822378754615784, -0.2956242561340332, 0.34865808486938477, 0.044807661324739456]\n"
     ]
    },
    {
     "name": "stderr",
     "output_type": "stream",
     "text": [
      "127.0.0.1 - - [18/Apr/2024 10:27:22] \"GET /get_weights?date=2018-05-14 HTTP/1.1\" 200 -\n"
     ]
    },
    {
     "name": "stdout",
     "output_type": "stream",
     "text": [
      "0\n",
      "2018-05-14\n",
      "[-0.18317541480064392, 0.9999995827674866, -0.3561837375164032, 0.46644365787506104, 0.0729159340262413]\n"
     ]
    },
    {
     "name": "stderr",
     "output_type": "stream",
     "text": [
      "127.0.0.1 - - [18/Apr/2024 10:27:24] \"GET /get_weights?date=2018-05-21 HTTP/1.1\" 200 -\n"
     ]
    },
    {
     "name": "stdout",
     "output_type": "stream",
     "text": [
      "0\n",
      "2018-05-21\n",
      "[-0.13379120826721191, -0.19779253005981445, 0.606997013092041, 0.6559444069862366, 0.06864237785339355]\n"
     ]
    },
    {
     "name": "stderr",
     "output_type": "stream",
     "text": [
      "127.0.0.1 - - [18/Apr/2024 10:27:26] \"GET /get_weights?date=2018-05-29 HTTP/1.1\" 200 -\n"
     ]
    },
    {
     "name": "stdout",
     "output_type": "stream",
     "text": [
      "0\n",
      "2018-05-29\n",
      "[0.05346730723977089, 0.08345358818769455, -0.09135425090789795, 0.9636954069137573, -0.00926210917532444]\n"
     ]
    },
    {
     "name": "stderr",
     "output_type": "stream",
     "text": [
      "127.0.0.1 - - [18/Apr/2024 10:27:29] \"GET /get_weights?date=2018-06-04 HTTP/1.1\" 200 -\n"
     ]
    },
    {
     "name": "stdout",
     "output_type": "stream",
     "text": [
      "0\n",
      "2018-06-04\n",
      "[0.014878126792609692, 0.4117860198020935, 0.03381027653813362, 0.3050592243671417, 0.2344663292169571]\n"
     ]
    },
    {
     "name": "stderr",
     "output_type": "stream",
     "text": [
      "127.0.0.1 - - [18/Apr/2024 10:27:31] \"GET /get_weights?date=2018-06-11 HTTP/1.1\" 200 -\n"
     ]
    },
    {
     "name": "stdout",
     "output_type": "stream",
     "text": [
      "0\n",
      "2018-06-11\n",
      "[0.05189201235771179, 0.2733256220817566, -0.5497152805328369, 0.9889846444129944, 0.235512837767601]\n"
     ]
    },
    {
     "name": "stderr",
     "output_type": "stream",
     "text": [
      "127.0.0.1 - - [18/Apr/2024 10:27:33] \"GET /get_weights?date=2018-06-18 HTTP/1.1\" 200 -\n"
     ]
    },
    {
     "name": "stdout",
     "output_type": "stream",
     "text": [
      "0\n",
      "2018-06-18\n",
      "[-0.07381270080804825, 0.20840632915496826, 0.17727717757225037, 0.581448495388031, 0.10668071359395981]\n"
     ]
    },
    {
     "name": "stderr",
     "output_type": "stream",
     "text": [
      "127.0.0.1 - - [18/Apr/2024 10:27:35] \"GET /get_weights?date=2018-06-25 HTTP/1.1\" 200 -\n"
     ]
    },
    {
     "name": "stdout",
     "output_type": "stream",
     "text": [
      "0\n",
      "2018-06-25\n",
      "[0.1334512084722519, 0.879051923751831, -0.03157702460885048, 0.1954420953989029, -0.1763683259487152]\n"
     ]
    },
    {
     "name": "stderr",
     "output_type": "stream",
     "text": [
      "127.0.0.1 - - [18/Apr/2024 10:27:37] \"GET /get_weights?date=2018-07-02 HTTP/1.1\" 200 -\n"
     ]
    },
    {
     "name": "stdout",
     "output_type": "stream",
     "text": [
      "0\n",
      "2018-07-02\n",
      "[0.024430617690086365, 0.6969181895256042, -0.4541126489639282, 0.9999865293502808, -0.26722264289855957]\n"
     ]
    },
    {
     "name": "stderr",
     "output_type": "stream",
     "text": [
      "127.0.0.1 - - [18/Apr/2024 10:27:39] \"GET /get_weights?date=2018-07-09 HTTP/1.1\" 200 -\n"
     ]
    },
    {
     "name": "stdout",
     "output_type": "stream",
     "text": [
      "0\n",
      "2018-07-09\n",
      "[-0.28398072719573975, 0.9999622702598572, -0.07632789015769958, 0.094882532954216, 0.26546385884284973]\n"
     ]
    },
    {
     "name": "stderr",
     "output_type": "stream",
     "text": [
      "127.0.0.1 - - [18/Apr/2024 10:27:42] \"GET /get_weights?date=2018-07-16 HTTP/1.1\" 200 -\n"
     ]
    },
    {
     "name": "stdout",
     "output_type": "stream",
     "text": [
      "0\n",
      "2018-07-16\n",
      "[0.22779296338558197, 0.8871639966964722, -0.4373231530189514, 0.4369197189807892, -0.11455344408750534]\n"
     ]
    },
    {
     "name": "stderr",
     "output_type": "stream",
     "text": [
      "127.0.0.1 - - [18/Apr/2024 10:27:44] \"GET /get_weights?date=2018-07-23 HTTP/1.1\" 200 -\n"
     ]
    },
    {
     "name": "stdout",
     "output_type": "stream",
     "text": [
      "0\n",
      "2018-07-23\n",
      "[-0.10425541549921036, 0.42752689123153687, -0.1553960144519806, 0.6372747421264648, 0.19484983384609222]\n"
     ]
    },
    {
     "name": "stderr",
     "output_type": "stream",
     "text": [
      "127.0.0.1 - - [18/Apr/2024 10:27:46] \"GET /get_weights?date=2018-07-30 HTTP/1.1\" 200 -\n"
     ]
    },
    {
     "name": "stdout",
     "output_type": "stream",
     "text": [
      "0\n",
      "2018-07-30\n",
      "[0.0964093804359436, -0.03824751079082489, -0.06587695330381393, 1.0000044107437134, 0.007710722275078297]\n"
     ]
    },
    {
     "name": "stderr",
     "output_type": "stream",
     "text": [
      "127.0.0.1 - - [18/Apr/2024 10:27:48] \"GET /get_weights?date=2018-08-06 HTTP/1.1\" 200 -\n"
     ]
    },
    {
     "name": "stdout",
     "output_type": "stream",
     "text": [
      "0\n",
      "2018-08-06\n",
      "[-0.3037970960140228, 0.8827751874923706, -0.5452987551689148, 0.9999931454658508, -0.03367244452238083]\n"
     ]
    },
    {
     "name": "stderr",
     "output_type": "stream",
     "text": [
      "127.0.0.1 - - [18/Apr/2024 10:27:50] \"GET /get_weights?date=2018-08-13 HTTP/1.1\" 200 -\n"
     ]
    },
    {
     "name": "stdout",
     "output_type": "stream",
     "text": [
      "0\n",
      "2018-08-13\n",
      "[-0.04262923076748848, 0.4647398889064789, 0.16335278749465942, 0.4447186589241028, -0.03018209896981716]\n"
     ]
    },
    {
     "name": "stderr",
     "output_type": "stream",
     "text": [
      "127.0.0.1 - - [18/Apr/2024 10:27:52] \"GET /get_weights?date=2018-08-20 HTTP/1.1\" 200 -\n"
     ]
    },
    {
     "name": "stdout",
     "output_type": "stream",
     "text": [
      "0\n",
      "2018-08-20\n",
      "[-0.03768467158079147, 0.3406766951084137, -0.3018284738063812, 0.9999914765357971, -0.0011550250928848982]\n"
     ]
    },
    {
     "name": "stderr",
     "output_type": "stream",
     "text": [
      "127.0.0.1 - - [18/Apr/2024 10:27:55] \"GET /get_weights?date=2018-08-27 HTTP/1.1\" 200 -\n"
     ]
    },
    {
     "name": "stdout",
     "output_type": "stream",
     "text": [
      "0\n",
      "2018-08-27\n",
      "[-0.21330498158931732, 1.0000181198120117, 0.04692206159234047, 0.11579311639070511, 0.05057166889309883]\n"
     ]
    },
    {
     "name": "stderr",
     "output_type": "stream",
     "text": [
      "127.0.0.1 - - [18/Apr/2024 10:27:57] \"GET /get_weights?date=2018-09-04 HTTP/1.1\" 200 -\n"
     ]
    },
    {
     "name": "stdout",
     "output_type": "stream",
     "text": [
      "0\n",
      "2018-09-04\n",
      "[-0.09389614313840866, 0.5710890293121338, -0.4566730260848999, 0.9999906420707703, -0.02051045000553131]\n"
     ]
    },
    {
     "name": "stderr",
     "output_type": "stream",
     "text": [
      "127.0.0.1 - - [18/Apr/2024 10:27:59] \"GET /get_weights?date=2018-09-10 HTTP/1.1\" 200 -\n"
     ]
    },
    {
     "name": "stdout",
     "output_type": "stream",
     "text": [
      "0\n",
      "2018-09-10\n",
      "[-0.06522712856531143, -0.047023236751556396, -0.06539307534694672, 0.9934406280517578, 0.18420280516147614]\n"
     ]
    },
    {
     "name": "stderr",
     "output_type": "stream",
     "text": [
      "127.0.0.1 - - [18/Apr/2024 10:28:01] \"GET /get_weights?date=2018-09-17 HTTP/1.1\" 200 -\n"
     ]
    },
    {
     "name": "stdout",
     "output_type": "stream",
     "text": [
      "0\n",
      "2018-09-17\n",
      "[-0.0017956753727048635, 0.5332731604576111, -0.10042550414800644, 0.5842170119285583, -0.015268923714756966]\n"
     ]
    },
    {
     "name": "stderr",
     "output_type": "stream",
     "text": [
      "127.0.0.1 - - [18/Apr/2024 10:28:03] \"GET /get_weights?date=2018-09-24 HTTP/1.1\" 200 -\n"
     ]
    },
    {
     "name": "stdout",
     "output_type": "stream",
     "text": [
      "0\n",
      "2018-09-24\n",
      "[-0.40838003158569336, 0.8545241355895996, -0.4712766408920288, 0.9999930262565613, 0.025139527395367622]\n"
     ]
    },
    {
     "name": "stderr",
     "output_type": "stream",
     "text": [
      "127.0.0.1 - - [18/Apr/2024 10:28:06] \"GET /get_weights?date=2018-10-01 HTTP/1.1\" 200 -\n"
     ]
    },
    {
     "name": "stdout",
     "output_type": "stream",
     "text": [
      "0\n",
      "2018-10-01\n",
      "[-0.21619673073291779, 0.5451579689979553, -0.02474362775683403, 0.37684565782546997, 0.3189367949962616]\n"
     ]
    },
    {
     "name": "stderr",
     "output_type": "stream",
     "text": [
      "127.0.0.1 - - [18/Apr/2024 10:28:08] \"GET /get_weights?date=2018-10-08 HTTP/1.1\" 200 -\n"
     ]
    },
    {
     "name": "stdout",
     "output_type": "stream",
     "text": [
      "0\n",
      "2018-10-08\n",
      "[0.08917278796434402, -0.08901967108249664, 0.1609593629837036, 0.09591668099164963, 0.7429708242416382]\n"
     ]
    },
    {
     "name": "stderr",
     "output_type": "stream",
     "text": [
      "127.0.0.1 - - [18/Apr/2024 10:28:10] \"GET /get_weights?date=2018-10-15 HTTP/1.1\" 200 -\n"
     ]
    },
    {
     "name": "stdout",
     "output_type": "stream",
     "text": [
      "0\n",
      "2018-10-15\n",
      "[-0.07731188833713531, 0.8562111258506775, 0.00024453477817587554, 0.37766188383102417, -0.15680572390556335]\n"
     ]
    },
    {
     "name": "stderr",
     "output_type": "stream",
     "text": [
      "127.0.0.1 - - [18/Apr/2024 10:28:12] \"GET /get_weights?date=2018-10-22 HTTP/1.1\" 200 -\n"
     ]
    },
    {
     "name": "stdout",
     "output_type": "stream",
     "text": [
      "0\n",
      "2018-10-22\n",
      "[0.05052341893315315, 0.45179036259651184, -0.7652274966239929, 1.0000569820404053, 0.26285669207572937]\n"
     ]
    },
    {
     "name": "stderr",
     "output_type": "stream",
     "text": [
      "127.0.0.1 - - [18/Apr/2024 10:28:14] \"GET /get_weights?date=2018-10-29 HTTP/1.1\" 200 -\n"
     ]
    },
    {
     "name": "stdout",
     "output_type": "stream",
     "text": [
      "0\n",
      "2018-10-29\n",
      "[0.027941804379224777, 0.04839581996202469, 0.13226178288459778, 0.8380866050720215, -0.04668593779206276]\n"
     ]
    },
    {
     "name": "stderr",
     "output_type": "stream",
     "text": [
      "127.0.0.1 - - [18/Apr/2024 10:28:16] \"GET /get_weights?date=2018-11-05 HTTP/1.1\" 200 -\n"
     ]
    },
    {
     "name": "stdout",
     "output_type": "stream",
     "text": [
      "0\n",
      "2018-11-05\n",
      "[-0.018418457359075546, 0.08727741241455078, 0.21281856298446655, 0.5688263177871704, 0.1494961678981781]\n"
     ]
    },
    {
     "name": "stderr",
     "output_type": "stream",
     "text": [
      "127.0.0.1 - - [18/Apr/2024 10:28:19] \"GET /get_weights?date=2018-11-12 HTTP/1.1\" 200 -\n"
     ]
    },
    {
     "name": "stdout",
     "output_type": "stream",
     "text": [
      "0\n",
      "2018-11-12\n",
      "[0.06911195814609528, 0.33253124356269836, 0.10009028762578964, 0.5910641551017761, -0.09279765188694]\n"
     ]
    },
    {
     "name": "stderr",
     "output_type": "stream",
     "text": [
      "127.0.0.1 - - [18/Apr/2024 10:28:21] \"GET /get_weights?date=2018-11-19 HTTP/1.1\" 200 -\n"
     ]
    },
    {
     "name": "stdout",
     "output_type": "stream",
     "text": [
      "0\n",
      "2018-11-19\n",
      "[-0.06005413457751274, 0.44910210371017456, -0.24139659106731415, 0.9999784231185913, -0.1476297825574875]\n"
     ]
    },
    {
     "name": "stderr",
     "output_type": "stream",
     "text": [
      "127.0.0.1 - - [18/Apr/2024 10:28:23] \"GET /get_weights?date=2018-11-26 HTTP/1.1\" 200 -\n"
     ]
    },
    {
     "name": "stdout",
     "output_type": "stream",
     "text": [
      "0\n",
      "2018-11-26\n",
      "[-0.06589854508638382, 0.11702460050582886, 0.220325767993927, 0.7136772274971008, 0.014870969578623772]\n"
     ]
    },
    {
     "name": "stderr",
     "output_type": "stream",
     "text": [
      "127.0.0.1 - - [18/Apr/2024 10:28:25] \"GET /get_weights?date=2018-12-03 HTTP/1.1\" 200 -\n"
     ]
    },
    {
     "name": "stdout",
     "output_type": "stream",
     "text": [
      "0\n",
      "2018-12-03\n",
      "[-0.08333833515644073, 0.36864450573921204, 0.31877392530441284, 0.39831483364105225, -0.0023949474561959505]\n"
     ]
    },
    {
     "name": "stderr",
     "output_type": "stream",
     "text": [
      "127.0.0.1 - - [18/Apr/2024 10:28:27] \"GET /get_weights?date=2018-12-10 HTTP/1.1\" 200 -\n"
     ]
    },
    {
     "name": "stdout",
     "output_type": "stream",
     "text": [
      "0\n",
      "2018-12-10\n",
      "[0.05156327039003372, 0.15520457923412323, 0.10995148122310638, 0.7068914175033569, -0.02361077442765236]\n"
     ]
    },
    {
     "name": "stderr",
     "output_type": "stream",
     "text": [
      "127.0.0.1 - - [18/Apr/2024 10:28:29] \"GET /get_weights?date=2018-12-17 HTTP/1.1\" 200 -\n"
     ]
    },
    {
     "name": "stdout",
     "output_type": "stream",
     "text": [
      "1\n",
      "2018-12-17\n",
      "[0.0558476522564888, 0.5659623146057129, -0.3015207052230835, 0.6726544499397278, 0.007056277245283127]\n"
     ]
    },
    {
     "name": "stderr",
     "output_type": "stream",
     "text": [
      "127.0.0.1 - - [18/Apr/2024 10:28:32] \"GET /get_weights?date=2018-12-24 HTTP/1.1\" 200 -\n"
     ]
    },
    {
     "name": "stdout",
     "output_type": "stream",
     "text": [
      "1\n",
      "2018-12-24\n",
      "[0.20271234214305878, 0.4279347360134125, 0.1383053958415985, 0.30621159076690674, -0.0751640796661377]\n"
     ]
    },
    {
     "name": "stderr",
     "output_type": "stream",
     "text": [
      "127.0.0.1 - - [18/Apr/2024 10:28:34] \"GET /get_weights?date=2018-12-31 HTTP/1.1\" 200 -\n"
     ]
    },
    {
     "name": "stdout",
     "output_type": "stream",
     "text": [
      "1\n",
      "2018-12-31\n",
      "[-0.0756983682513237, 0.04807061702013016, 0.019871730357408524, 0.9999880194664001, 0.007768085226416588]\n"
     ]
    },
    {
     "name": "stderr",
     "output_type": "stream",
     "text": [
      "127.0.0.1 - - [18/Apr/2024 10:28:36] \"GET /get_weights?date=2019-01-07 HTTP/1.1\" 200 -\n"
     ]
    },
    {
     "name": "stdout",
     "output_type": "stream",
     "text": [
      "1\n",
      "2019-01-07\n",
      "[-0.03750627487897873, 0.08614954352378845, 0.03331035003066063, 0.7964596152305603, 0.12158660590648651]\n"
     ]
    },
    {
     "name": "stderr",
     "output_type": "stream",
     "text": [
      "127.0.0.1 - - [18/Apr/2024 10:28:38] \"GET /get_weights?date=2019-01-14 HTTP/1.1\" 200 -\n"
     ]
    },
    {
     "name": "stdout",
     "output_type": "stream",
     "text": [
      "1\n",
      "2019-01-14\n",
      "[0.06551694869995117, 0.06383182853460312, -0.11795099079608917, 0.9998981952667236, -0.011295883916318417]\n"
     ]
    },
    {
     "name": "stderr",
     "output_type": "stream",
     "text": [
      "127.0.0.1 - - [18/Apr/2024 10:28:40] \"GET /get_weights?date=2019-01-22 HTTP/1.1\" 200 -\n"
     ]
    },
    {
     "name": "stdout",
     "output_type": "stream",
     "text": [
      "1\n",
      "2019-01-22\n",
      "[0.036963071674108505, 0.3289675712585449, -0.25361883640289307, 0.9999463558197021, -0.11225815117359161]\n"
     ]
    },
    {
     "name": "stderr",
     "output_type": "stream",
     "text": [
      "127.0.0.1 - - [18/Apr/2024 10:28:42] \"GET /get_weights?date=2019-01-28 HTTP/1.1\" 200 -\n"
     ]
    },
    {
     "name": "stdout",
     "output_type": "stream",
     "text": [
      "1\n",
      "2019-01-28\n",
      "[0.08850657194852829, 0.10483712702989578, -0.0629890188574791, 1.0000004768371582, -0.13035514950752258]\n"
     ]
    },
    {
     "name": "stderr",
     "output_type": "stream",
     "text": [
      "127.0.0.1 - - [18/Apr/2024 10:28:45] \"GET /get_weights?date=2019-02-04 HTTP/1.1\" 200 -\n"
     ]
    },
    {
     "name": "stdout",
     "output_type": "stream",
     "text": [
      "1\n",
      "2019-02-04\n",
      "[-0.023445431143045425, 0.07751546055078506, 0.0079182805493474, 0.7821359634399414, 0.15587574243545532]\n"
     ]
    },
    {
     "name": "stderr",
     "output_type": "stream",
     "text": [
      "127.0.0.1 - - [18/Apr/2024 10:28:47] \"GET /get_weights?date=2019-02-11 HTTP/1.1\" 200 -\n"
     ]
    },
    {
     "name": "stdout",
     "output_type": "stream",
     "text": [
      "1\n",
      "2019-02-11\n",
      "[0.05528053268790245, 0.021456167101860046, 0.04348863661289215, 0.8183807730674744, 0.06139387562870979]\n"
     ]
    },
    {
     "name": "stderr",
     "output_type": "stream",
     "text": [
      "127.0.0.1 - - [18/Apr/2024 10:28:49] \"GET /get_weights?date=2019-02-19 HTTP/1.1\" 200 -\n"
     ]
    },
    {
     "name": "stdout",
     "output_type": "stream",
     "text": [
      "1\n",
      "2019-02-19\n",
      "[-0.13772858679294586, 0.3968220055103302, -0.0759611502289772, 0.17611561715602875, 0.6407520771026611]\n"
     ]
    },
    {
     "name": "stderr",
     "output_type": "stream",
     "text": [
      "127.0.0.1 - - [18/Apr/2024 10:28:51] \"GET /get_weights?date=2019-02-25 HTTP/1.1\" 200 -\n"
     ]
    },
    {
     "name": "stdout",
     "output_type": "stream",
     "text": [
      "1\n",
      "2019-02-25\n",
      "[0.10319851338863373, 0.6751342415809631, -0.026289163157343864, 0.009081809781491756, 0.23887455463409424]\n"
     ]
    },
    {
     "name": "stderr",
     "output_type": "stream",
     "text": [
      "127.0.0.1 - - [18/Apr/2024 10:28:53] \"GET /get_weights?date=2019-03-04 HTTP/1.1\" 200 -\n"
     ]
    },
    {
     "name": "stdout",
     "output_type": "stream",
     "text": [
      "1\n",
      "2019-03-04\n",
      "[0.6146653294563293, 0.0679037868976593, 0.14549313485622406, 0.17704761028289795, -0.005109843797981739]\n"
     ]
    },
    {
     "name": "stderr",
     "output_type": "stream",
     "text": [
      "127.0.0.1 - - [18/Apr/2024 10:28:55] \"GET /get_weights?date=2019-03-11 HTTP/1.1\" 200 -\n"
     ]
    },
    {
     "name": "stdout",
     "output_type": "stream",
     "text": [
      "1\n",
      "2019-03-11\n",
      "[-0.006632721517235041, 0.2575635015964508, 0.20749753713607788, 0.3561813533306122, 0.18539026379585266]\n"
     ]
    },
    {
     "name": "stderr",
     "output_type": "stream",
     "text": [
      "127.0.0.1 - - [18/Apr/2024 10:28:58] \"GET /get_weights?date=2019-03-18 HTTP/1.1\" 200 -\n"
     ]
    },
    {
     "name": "stdout",
     "output_type": "stream",
     "text": [
      "1\n",
      "2019-03-18\n",
      "[-0.26419734954833984, 0.996265172958374, -0.03567948192358017, -0.026474574580788612, 0.33008629083633423]\n"
     ]
    },
    {
     "name": "stderr",
     "output_type": "stream",
     "text": [
      "127.0.0.1 - - [18/Apr/2024 10:29:00] \"GET /get_weights?date=2019-03-25 HTTP/1.1\" 200 -\n"
     ]
    },
    {
     "name": "stdout",
     "output_type": "stream",
     "text": [
      "1\n",
      "2019-03-25\n",
      "[0.10691627860069275, -0.1256098449230194, 0.12209571897983551, 0.6912716627120972, 0.20532600581645966]\n"
     ]
    },
    {
     "name": "stderr",
     "output_type": "stream",
     "text": [
      "127.0.0.1 - - [18/Apr/2024 10:29:02] \"GET /get_weights?date=2019-04-01 HTTP/1.1\" 200 -\n"
     ]
    },
    {
     "name": "stdout",
     "output_type": "stream",
     "text": [
      "1\n",
      "2019-04-01\n",
      "[-0.7200565934181213, 1.0000190734863281, 0.18587888777256012, 0.20371848344802856, 0.3304401934146881]\n"
     ]
    },
    {
     "name": "stderr",
     "output_type": "stream",
     "text": [
      "127.0.0.1 - - [18/Apr/2024 10:29:04] \"GET /get_weights?date=2019-04-08 HTTP/1.1\" 200 -\n"
     ]
    },
    {
     "name": "stdout",
     "output_type": "stream",
     "text": [
      "1\n",
      "2019-04-08\n",
      "[-0.4251258373260498, 0.9149747490882874, -0.5839034914970398, 0.9999980330467224, 0.09405651688575745]\n"
     ]
    },
    {
     "name": "stderr",
     "output_type": "stream",
     "text": [
      "127.0.0.1 - - [18/Apr/2024 10:29:06] \"GET /get_weights?date=2019-04-15 HTTP/1.1\" 200 -\n"
     ]
    },
    {
     "name": "stdout",
     "output_type": "stream",
     "text": [
      "1\n",
      "2019-04-15\n",
      "[0.05907204747200012, 1.0000234842300415, -0.8010351061820984, 0.6216028928756714, 0.12033661454916]\n"
     ]
    },
    {
     "name": "stderr",
     "output_type": "stream",
     "text": [
      "127.0.0.1 - - [18/Apr/2024 10:29:08] \"GET /get_weights?date=2019-04-22 HTTP/1.1\" 200 -\n"
     ]
    },
    {
     "name": "stdout",
     "output_type": "stream",
     "text": [
      "1\n",
      "2019-04-22\n",
      "[-0.15207093954086304, 1.000006079673767, -0.6833681464195251, 0.7734291553497314, 0.06200386956334114]\n"
     ]
    },
    {
     "name": "stderr",
     "output_type": "stream",
     "text": [
      "127.0.0.1 - - [18/Apr/2024 10:29:11] \"GET /get_weights?date=2019-04-29 HTTP/1.1\" 200 -\n"
     ]
    },
    {
     "name": "stdout",
     "output_type": "stream",
     "text": [
      "1\n",
      "2019-04-29\n",
      "[-0.062276262789964676, 0.26305311918258667, -0.12047463655471802, 0.5852307081222534, 0.3344670534133911]\n"
     ]
    },
    {
     "name": "stderr",
     "output_type": "stream",
     "text": [
      "127.0.0.1 - - [18/Apr/2024 10:29:13] \"GET /get_weights?date=2019-05-06 HTTP/1.1\" 200 -\n"
     ]
    },
    {
     "name": "stdout",
     "output_type": "stream",
     "text": [
      "1\n",
      "2019-05-06\n",
      "[-0.23709674179553986, 0.7786029577255249, -0.23349161446094513, 0.7412739396095276, -0.04928853362798691]\n"
     ]
    },
    {
     "name": "stderr",
     "output_type": "stream",
     "text": [
      "127.0.0.1 - - [18/Apr/2024 10:29:15] \"GET /get_weights?date=2019-05-13 HTTP/1.1\" 200 -\n"
     ]
    },
    {
     "name": "stdout",
     "output_type": "stream",
     "text": [
      "1\n",
      "2019-05-13\n",
      "[0.4921911656856537, 0.16160346567630768, -0.1303563117980957, 0.6534607410430908, -0.1768990308046341]\n"
     ]
    },
    {
     "name": "stderr",
     "output_type": "stream",
     "text": [
      "127.0.0.1 - - [18/Apr/2024 10:29:17] \"GET /get_weights?date=2019-05-20 HTTP/1.1\" 200 -\n"
     ]
    },
    {
     "name": "stdout",
     "output_type": "stream",
     "text": [
      "1\n",
      "2019-05-20\n",
      "[-0.07233411073684692, 0.7949032783508301, -0.4334562122821808, 0.7958176136016846, -0.08493039757013321]\n"
     ]
    },
    {
     "name": "stderr",
     "output_type": "stream",
     "text": [
      "127.0.0.1 - - [18/Apr/2024 10:29:19] \"GET /get_weights?date=2019-05-28 HTTP/1.1\" 200 -\n"
     ]
    },
    {
     "name": "stdout",
     "output_type": "stream",
     "text": [
      "1\n",
      "2019-05-28\n",
      "[0.09201573580503464, 0.9200046062469482, -0.14163875579833984, 0.14885741472244263, -0.019239027053117752]\n"
     ]
    },
    {
     "name": "stderr",
     "output_type": "stream",
     "text": [
      "127.0.0.1 - - [18/Apr/2024 10:29:21] \"GET /get_weights?date=2019-06-03 HTTP/1.1\" 200 -\n"
     ]
    },
    {
     "name": "stdout",
     "output_type": "stream",
     "text": [
      "1\n",
      "2019-06-03\n",
      "[0.1728745698928833, 0.2756780982017517, 0.125898540019989, 0.48405399918556213, -0.05850525200366974]\n"
     ]
    },
    {
     "name": "stderr",
     "output_type": "stream",
     "text": [
      "127.0.0.1 - - [18/Apr/2024 10:29:24] \"GET /get_weights?date=2019-06-10 HTTP/1.1\" 200 -\n"
     ]
    },
    {
     "name": "stdout",
     "output_type": "stream",
     "text": [
      "1\n",
      "2019-06-10\n",
      "[-0.03571585938334465, 0.5686558485031128, -0.04728560522198677, 0.34815338253974915, 0.16619211435317993]\n"
     ]
    },
    {
     "name": "stderr",
     "output_type": "stream",
     "text": [
      "127.0.0.1 - - [18/Apr/2024 10:29:26] \"GET /get_weights?date=2019-06-17 HTTP/1.1\" 200 -\n"
     ]
    },
    {
     "name": "stdout",
     "output_type": "stream",
     "text": [
      "1\n",
      "2019-06-17\n",
      "[0.15691813826560974, -0.06771935522556305, 0.033425722271203995, 0.903573751449585, -0.02619832754135132]\n"
     ]
    },
    {
     "name": "stderr",
     "output_type": "stream",
     "text": [
      "127.0.0.1 - - [18/Apr/2024 10:29:28] \"GET /get_weights?date=2019-06-24 HTTP/1.1\" 200 -\n"
     ]
    },
    {
     "name": "stdout",
     "output_type": "stream",
     "text": [
      "1\n",
      "2019-06-24\n",
      "[-0.046193595975637436, 0.7938835024833679, -0.105716772377491, 0.3358849585056305, 0.022141875699162483]\n"
     ]
    },
    {
     "name": "stderr",
     "output_type": "stream",
     "text": [
      "127.0.0.1 - - [18/Apr/2024 10:29:30] \"GET /get_weights?date=2019-07-01 HTTP/1.1\" 200 -\n"
     ]
    },
    {
     "name": "stdout",
     "output_type": "stream",
     "text": [
      "1\n",
      "2019-07-01\n",
      "[-0.03782074898481369, 0.4689584970474243, 0.21139951050281525, 0.3314244747161865, 0.026038238778710365]\n"
     ]
    },
    {
     "name": "stderr",
     "output_type": "stream",
     "text": [
      "127.0.0.1 - - [18/Apr/2024 10:29:32] \"GET /get_weights?date=2019-07-08 HTTP/1.1\" 200 -\n"
     ]
    },
    {
     "name": "stdout",
     "output_type": "stream",
     "text": [
      "1\n",
      "2019-07-08\n",
      "[0.14685209095478058, 0.7694509625434875, -0.10438995808362961, 0.2140955626964569, -0.026008736342191696]\n"
     ]
    },
    {
     "name": "stderr",
     "output_type": "stream",
     "text": [
      "127.0.0.1 - - [18/Apr/2024 10:29:34] \"GET /get_weights?date=2019-07-15 HTTP/1.1\" 200 -\n"
     ]
    },
    {
     "name": "stdout",
     "output_type": "stream",
     "text": [
      "1\n",
      "2019-07-15\n",
      "[0.18013902008533478, 1.0000274181365967, 0.02485170215368271, -0.19975487887859344, -0.005263236816972494]\n"
     ]
    },
    {
     "name": "stderr",
     "output_type": "stream",
     "text": [
      "127.0.0.1 - - [18/Apr/2024 10:29:37] \"GET /get_weights?date=2019-07-22 HTTP/1.1\" 200 -\n"
     ]
    },
    {
     "name": "stdout",
     "output_type": "stream",
     "text": [
      "1\n",
      "2019-07-22\n",
      "[0.09345220029354095, 0.3177366256713867, 0.12153816968202591, 0.2781771123409271, 0.1890958845615387]\n"
     ]
    },
    {
     "name": "stderr",
     "output_type": "stream",
     "text": [
      "127.0.0.1 - - [18/Apr/2024 10:29:39] \"GET /get_weights?date=2019-07-29 HTTP/1.1\" 200 -\n"
     ]
    },
    {
     "name": "stdout",
     "output_type": "stream",
     "text": [
      "1\n",
      "2019-07-29\n",
      "[-0.008095542900264263, 0.48460137844085693, -0.07390543073415756, 0.4529774487018585, 0.14442217350006104]\n"
     ]
    },
    {
     "name": "stderr",
     "output_type": "stream",
     "text": [
      "127.0.0.1 - - [18/Apr/2024 10:29:41] \"GET /get_weights?date=2019-08-05 HTTP/1.1\" 200 -\n"
     ]
    },
    {
     "name": "stdout",
     "output_type": "stream",
     "text": [
      "1\n",
      "2019-08-05\n",
      "[0.09324464946985245, 0.2317734807729721, 0.267050176858902, 0.5470134019851685, -0.13908174633979797]\n"
     ]
    },
    {
     "name": "stderr",
     "output_type": "stream",
     "text": [
      "127.0.0.1 - - [18/Apr/2024 10:29:43] \"GET /get_weights?date=2019-08-12 HTTP/1.1\" 200 -\n"
     ]
    },
    {
     "name": "stdout",
     "output_type": "stream",
     "text": [
      "1\n",
      "2019-08-12\n",
      "[0.17835067212581635, 0.20246568322181702, 0.2253091186285019, 0.43451470136642456, -0.04064016416668892]\n"
     ]
    },
    {
     "name": "stderr",
     "output_type": "stream",
     "text": [
      "127.0.0.1 - - [18/Apr/2024 10:29:45] \"GET /get_weights?date=2019-08-19 HTTP/1.1\" 200 -\n"
     ]
    },
    {
     "name": "stdout",
     "output_type": "stream",
     "text": [
      "1\n",
      "2019-08-19\n",
      "[-0.24488277733325958, 0.48676541447639465, 0.06135183572769165, 0.610953152179718, 0.0858122929930687]\n"
     ]
    },
    {
     "name": "stderr",
     "output_type": "stream",
     "text": [
      "127.0.0.1 - - [18/Apr/2024 10:29:47] \"GET /get_weights?date=2019-08-26 HTTP/1.1\" 200 -\n"
     ]
    },
    {
     "name": "stdout",
     "output_type": "stream",
     "text": [
      "1\n",
      "2019-08-26\n",
      "[0.12853802740573883, -0.23977111279964447, 0.07687283307313919, 0.9998461008071899, 0.03451421856880188]\n"
     ]
    },
    {
     "name": "stderr",
     "output_type": "stream",
     "text": [
      "127.0.0.1 - - [18/Apr/2024 10:29:50] \"GET /get_weights?date=2019-09-03 HTTP/1.1\" 200 -\n"
     ]
    },
    {
     "name": "stdout",
     "output_type": "stream",
     "text": [
      "1\n",
      "2019-09-03\n",
      "[0.03748469799757004, 0.3821519613265991, 0.2960875630378723, 0.341190367937088, -0.056914571672677994]\n"
     ]
    },
    {
     "name": "stderr",
     "output_type": "stream",
     "text": [
      "127.0.0.1 - - [18/Apr/2024 10:29:52] \"GET /get_weights?date=2019-09-09 HTTP/1.1\" 200 -\n"
     ]
    },
    {
     "name": "stdout",
     "output_type": "stream",
     "text": [
      "1\n",
      "2019-09-09\n",
      "[-0.2627832591533661, 0.7975733280181885, -0.1497991681098938, 0.5022819638252258, 0.1127270832657814]\n"
     ]
    },
    {
     "name": "stderr",
     "output_type": "stream",
     "text": [
      "127.0.0.1 - - [18/Apr/2024 10:29:54] \"GET /get_weights?date=2019-09-16 HTTP/1.1\" 200 -\n"
     ]
    },
    {
     "name": "stdout",
     "output_type": "stream",
     "text": [
      "1\n",
      "2019-09-16\n",
      "[-0.15979571640491486, -0.005006858147680759, 0.11031334847211838, 0.9999193549156189, 0.05456990376114845]\n"
     ]
    },
    {
     "name": "stderr",
     "output_type": "stream",
     "text": [
      "127.0.0.1 - - [18/Apr/2024 10:29:56] \"GET /get_weights?date=2019-09-23 HTTP/1.1\" 200 -\n"
     ]
    },
    {
     "name": "stdout",
     "output_type": "stream",
     "text": [
      "1\n",
      "2019-09-23\n",
      "[0.07940374314785004, 0.20813938975334167, 0.254326194524765, 0.4200359582901001, 0.03809473291039467]\n"
     ]
    },
    {
     "name": "stderr",
     "output_type": "stream",
     "text": [
      "127.0.0.1 - - [18/Apr/2024 10:29:58] \"GET /get_weights?date=2019-09-30 HTTP/1.1\" 200 -\n"
     ]
    },
    {
     "name": "stdout",
     "output_type": "stream",
     "text": [
      "1\n",
      "2019-09-30\n",
      "[0.06401774287223816, 0.2632783353328705, 0.3449930250644684, 0.31830894947052, 0.009401926770806313]\n"
     ]
    },
    {
     "name": "stderr",
     "output_type": "stream",
     "text": [
      "127.0.0.1 - - [18/Apr/2024 10:30:00] \"GET /get_weights?date=2019-10-07 HTTP/1.1\" 200 -\n"
     ]
    },
    {
     "name": "stdout",
     "output_type": "stream",
     "text": [
      "1\n",
      "2019-10-07\n",
      "[-0.19403833150863647, 0.9999348521232605, -0.1184794083237648, 0.2890906035900116, 0.02349233068525791]\n"
     ]
    },
    {
     "name": "stderr",
     "output_type": "stream",
     "text": [
      "127.0.0.1 - - [18/Apr/2024 10:30:03] \"GET /get_weights?date=2019-10-14 HTTP/1.1\" 200 -\n"
     ]
    },
    {
     "name": "stdout",
     "output_type": "stream",
     "text": [
      "1\n",
      "2019-10-14\n",
      "[-0.14700232446193695, 0.7637273073196411, -0.15573535859584808, 0.6863148212432861, -0.1473044604063034]\n"
     ]
    },
    {
     "name": "stderr",
     "output_type": "stream",
     "text": [
      "127.0.0.1 - - [18/Apr/2024 10:30:05] \"GET /get_weights?date=2019-10-21 HTTP/1.1\" 200 -\n"
     ]
    },
    {
     "name": "stdout",
     "output_type": "stream",
     "text": [
      "1\n",
      "2019-10-21\n",
      "[0.1866181641817093, -0.28903523087501526, 0.018223848193883896, 0.9285187125205994, 0.15567442774772644]\n"
     ]
    },
    {
     "name": "stderr",
     "output_type": "stream",
     "text": [
      "127.0.0.1 - - [18/Apr/2024 10:30:07] \"GET /get_weights?date=2019-10-28 HTTP/1.1\" 200 -\n"
     ]
    },
    {
     "name": "stdout",
     "output_type": "stream",
     "text": [
      "1\n",
      "2019-10-28\n",
      "[-0.14681382477283478, 0.999854326248169, -0.20086504518985748, -0.01277712732553482, 0.3606017529964447]\n"
     ]
    },
    {
     "name": "stderr",
     "output_type": "stream",
     "text": [
      "127.0.0.1 - - [18/Apr/2024 10:30:09] \"GET /get_weights?date=2019-11-04 HTTP/1.1\" 200 -\n"
     ]
    },
    {
     "name": "stdout",
     "output_type": "stream",
     "text": [
      "1\n",
      "2019-11-04\n",
      "[-0.47950759530067444, 0.9998757839202881, -0.25868546962738037, 0.5966873168945312, 0.1416298896074295]\n"
     ]
    },
    {
     "name": "stderr",
     "output_type": "stream",
     "text": [
      "127.0.0.1 - - [18/Apr/2024 10:30:11] \"GET /get_weights?date=2019-11-11 HTTP/1.1\" 200 -\n"
     ]
    },
    {
     "name": "stdout",
     "output_type": "stream",
     "text": [
      "1\n",
      "2019-11-11\n",
      "[0.4946385622024536, 0.5575698614120483, -0.08823341131210327, 0.02610158361494541, 0.009923267178237438]\n"
     ]
    },
    {
     "name": "stderr",
     "output_type": "stream",
     "text": [
      "127.0.0.1 - - [18/Apr/2024 10:30:13] \"GET /get_weights?date=2019-11-18 HTTP/1.1\" 200 -\n"
     ]
    },
    {
     "name": "stdout",
     "output_type": "stream",
     "text": [
      "1\n",
      "2019-11-18\n",
      "[0.04871741309762001, 0.08698201924562454, -0.11409948766231537, 0.9998125433921814, -0.02141248621046543]\n"
     ]
    },
    {
     "name": "stderr",
     "output_type": "stream",
     "text": [
      "127.0.0.1 - - [18/Apr/2024 10:30:16] \"GET /get_weights?date=2019-11-25 HTTP/1.1\" 200 -\n"
     ]
    },
    {
     "name": "stdout",
     "output_type": "stream",
     "text": [
      "1\n",
      "2019-11-25\n",
      "[0.0972146987915039, 0.4535551965236664, 0.01784193515777588, 0.3728921115398407, 0.05849607288837433]\n"
     ]
    },
    {
     "name": "stderr",
     "output_type": "stream",
     "text": [
      "127.0.0.1 - - [18/Apr/2024 10:30:18] \"GET /get_weights?date=2019-12-02 HTTP/1.1\" 200 -\n"
     ]
    },
    {
     "name": "stdout",
     "output_type": "stream",
     "text": [
      "1\n",
      "2019-12-02\n",
      "[0.01920115202665329, 0.9998841881752014, -0.3055533766746521, 0.3340775966644287, -0.047609444707632065]\n"
     ]
    },
    {
     "name": "stderr",
     "output_type": "stream",
     "text": [
      "127.0.0.1 - - [18/Apr/2024 10:30:20] \"GET /get_weights?date=2019-12-09 HTTP/1.1\" 200 -\n"
     ]
    },
    {
     "name": "stdout",
     "output_type": "stream",
     "text": [
      "1\n",
      "2019-12-09\n",
      "[-0.1593523621559143, 0.9998264908790588, -0.05384198948740959, 0.18130680918693542, 0.03206109628081322]\n"
     ]
    },
    {
     "name": "stderr",
     "output_type": "stream",
     "text": [
      "127.0.0.1 - - [18/Apr/2024 10:30:22] \"GET /get_weights?date=2019-12-16 HTTP/1.1\" 200 -\n"
     ]
    },
    {
     "name": "stdout",
     "output_type": "stream",
     "text": [
      "2\n",
      "2019-12-16\n",
      "[-0.36044153571128845, 0.10103589296340942, 0.1644534468650818, 0.9999666810035706, 0.0949854850769043]\n"
     ]
    },
    {
     "name": "stderr",
     "output_type": "stream",
     "text": [
      "127.0.0.1 - - [18/Apr/2024 10:30:24] \"GET /get_weights?date=2019-12-23 HTTP/1.1\" 200 -\n"
     ]
    },
    {
     "name": "stdout",
     "output_type": "stream",
     "text": [
      "2\n",
      "2019-12-23\n",
      "[0.21021771430969238, 0.8167129158973694, -0.3764311969280243, 0.2498845010995865, 0.09961612522602081]\n"
     ]
    },
    {
     "name": "stderr",
     "output_type": "stream",
     "text": [
      "127.0.0.1 - - [18/Apr/2024 10:30:26] \"GET /get_weights?date=2019-12-30 HTTP/1.1\" 200 -\n"
     ]
    },
    {
     "name": "stdout",
     "output_type": "stream",
     "text": [
      "2\n",
      "2019-12-30\n",
      "[0.08474637567996979, 0.9999856948852539, -0.27379512786865234, 0.29510360956192017, -0.10604055970907211]\n"
     ]
    },
    {
     "name": "stderr",
     "output_type": "stream",
     "text": [
      "127.0.0.1 - - [18/Apr/2024 10:30:29] \"GET /get_weights?date=2020-01-06 HTTP/1.1\" 200 -\n"
     ]
    },
    {
     "name": "stdout",
     "output_type": "stream",
     "text": [
      "2\n",
      "2020-01-06\n",
      "[-0.1270999312400818, 0.46454015374183655, 0.21868133544921875, 0.37002602219581604, 0.07385240495204926]\n"
     ]
    },
    {
     "name": "stderr",
     "output_type": "stream",
     "text": [
      "127.0.0.1 - - [18/Apr/2024 10:30:31] \"GET /get_weights?date=2020-01-13 HTTP/1.1\" 200 -\n"
     ]
    },
    {
     "name": "stdout",
     "output_type": "stream",
     "text": [
      "2\n",
      "2020-01-13\n",
      "[-0.03603038936853409, 0.5298762321472168, 0.13797679543495178, 0.3942737281322479, -0.026096317917108536]\n"
     ]
    },
    {
     "name": "stderr",
     "output_type": "stream",
     "text": [
      "127.0.0.1 - - [18/Apr/2024 10:30:33] \"GET /get_weights?date=2020-01-21 HTTP/1.1\" 200 -\n"
     ]
    },
    {
     "name": "stdout",
     "output_type": "stream",
     "text": [
      "2\n",
      "2020-01-21\n",
      "[0.20148245990276337, 0.03695058450102806, 0.05997507646679878, 0.817981481552124, -0.11638963222503662]\n"
     ]
    },
    {
     "name": "stderr",
     "output_type": "stream",
     "text": [
      "127.0.0.1 - - [18/Apr/2024 10:30:35] \"GET /get_weights?date=2020-01-27 HTTP/1.1\" 200 -\n"
     ]
    },
    {
     "name": "stdout",
     "output_type": "stream",
     "text": [
      "2\n",
      "2020-01-27\n",
      "[0.16503629088401794, 0.06850475817918777, -0.06406639516353607, 0.9774842858314514, -0.14695891737937927]\n"
     ]
    },
    {
     "name": "stderr",
     "output_type": "stream",
     "text": [
      "127.0.0.1 - - [18/Apr/2024 10:30:37] \"GET /get_weights?date=2020-02-03 HTTP/1.1\" 200 -\n"
     ]
    },
    {
     "name": "stdout",
     "output_type": "stream",
     "text": [
      "2\n",
      "2020-02-03\n",
      "[0.036655277013778687, 0.13759025931358337, 0.5285337567329407, 0.2987848222255707, -0.0015641310019418597]\n"
     ]
    },
    {
     "name": "stderr",
     "output_type": "stream",
     "text": [
      "127.0.0.1 - - [18/Apr/2024 10:30:39] \"GET /get_weights?date=2020-02-10 HTTP/1.1\" 200 -\n"
     ]
    },
    {
     "name": "stdout",
     "output_type": "stream",
     "text": [
      "2\n",
      "2020-02-10\n",
      "[0.01057528331875801, 0.26044774055480957, 0.2057739645242691, 0.4843433201313019, 0.03885970637202263]\n"
     ]
    },
    {
     "name": "stderr",
     "output_type": "stream",
     "text": [
      "127.0.0.1 - - [18/Apr/2024 10:30:42] \"GET /get_weights?date=2020-02-18 HTTP/1.1\" 200 -\n"
     ]
    },
    {
     "name": "stdout",
     "output_type": "stream",
     "text": [
      "2\n",
      "2020-02-18\n",
      "[-0.018985306844115257, 0.4136888086795807, -0.20757021009922028, 0.8477618098258972, -0.03489511460065842]\n"
     ]
    },
    {
     "name": "stderr",
     "output_type": "stream",
     "text": [
      "127.0.0.1 - - [18/Apr/2024 10:30:44] \"GET /get_weights?date=2020-02-24 HTTP/1.1\" 200 -\n"
     ]
    },
    {
     "name": "stdout",
     "output_type": "stream",
     "text": [
      "2\n",
      "2020-02-24\n",
      "[0.09422113001346588, 0.4552237391471863, 0.22107316553592682, 0.34951022267341614, -0.12002824246883392]\n"
     ]
    },
    {
     "name": "stderr",
     "output_type": "stream",
     "text": [
      "127.0.0.1 - - [18/Apr/2024 10:30:46] \"GET /get_weights?date=2020-03-02 HTTP/1.1\" 200 -\n"
     ]
    },
    {
     "name": "stdout",
     "output_type": "stream",
     "text": [
      "2\n",
      "2020-03-02\n",
      "[-0.07992931455373764, 0.6991966962814331, 0.17627392709255219, 0.2223069667816162, -0.017848294228315353]\n"
     ]
    },
    {
     "name": "stderr",
     "output_type": "stream",
     "text": [
      "127.0.0.1 - - [18/Apr/2024 10:30:48] \"GET /get_weights?date=2020-03-09 HTTP/1.1\" 200 -\n"
     ]
    },
    {
     "name": "stdout",
     "output_type": "stream",
     "text": [
      "2\n",
      "2020-03-09\n",
      "[0.14580944180488586, 0.3338031768798828, 0.21574625372886658, 0.4085123836994171, -0.10387135297060013]\n"
     ]
    },
    {
     "name": "stderr",
     "output_type": "stream",
     "text": [
      "127.0.0.1 - - [18/Apr/2024 10:30:51] \"GET /get_weights?date=2020-03-16 HTTP/1.1\" 200 -\n"
     ]
    },
    {
     "name": "stdout",
     "output_type": "stream",
     "text": [
      "2\n",
      "2020-03-16\n",
      "[0.018470389768481255, 0.14128242433071136, -0.04840311035513878, 0.990807056427002, -0.10215673595666885]\n"
     ]
    },
    {
     "name": "stderr",
     "output_type": "stream",
     "text": [
      "127.0.0.1 - - [18/Apr/2024 10:30:53] \"GET /get_weights?date=2020-03-23 HTTP/1.1\" 200 -\n"
     ]
    },
    {
     "name": "stdout",
     "output_type": "stream",
     "text": [
      "2\n",
      "2020-03-23\n",
      "[0.06557511538267136, 0.00021382217528298497, 0.5128366351127625, 0.41938260197639465, 0.0019918372854590416]\n"
     ]
    },
    {
     "name": "stderr",
     "output_type": "stream",
     "text": [
      "127.0.0.1 - - [18/Apr/2024 10:30:55] \"GET /get_weights?date=2020-03-30 HTTP/1.1\" 200 -\n"
     ]
    },
    {
     "name": "stdout",
     "output_type": "stream",
     "text": [
      "2\n",
      "2020-03-30\n",
      "[-0.050744809210300446, -0.11369947344064713, 0.22901101410388947, 0.8338379859924316, 0.10159526765346527]\n"
     ]
    },
    {
     "name": "stderr",
     "output_type": "stream",
     "text": [
      "127.0.0.1 - - [18/Apr/2024 10:30:57] \"GET /get_weights?date=2020-04-06 HTTP/1.1\" 200 -\n"
     ]
    },
    {
     "name": "stdout",
     "output_type": "stream",
     "text": [
      "2\n",
      "2020-04-06\n",
      "[0.026276741176843643, 0.4798118770122528, 0.13836029171943665, 0.3291323184967041, 0.026418769732117653]\n"
     ]
    },
    {
     "name": "stderr",
     "output_type": "stream",
     "text": [
      "127.0.0.1 - - [18/Apr/2024 10:30:59] \"GET /get_weights?date=2020-04-13 HTTP/1.1\" 200 -\n"
     ]
    },
    {
     "name": "stdout",
     "output_type": "stream",
     "text": [
      "2\n",
      "2020-04-13\n",
      "[-0.4274388551712036, 0.4955146312713623, -0.12349126487970352, 0.9999772906303406, 0.05543818697333336]\n"
     ]
    },
    {
     "name": "stderr",
     "output_type": "stream",
     "text": [
      "127.0.0.1 - - [18/Apr/2024 10:31:01] \"GET /get_weights?date=2020-04-20 HTTP/1.1\" 200 -\n"
     ]
    },
    {
     "name": "stdout",
     "output_type": "stream",
     "text": [
      "2\n",
      "2020-04-20\n",
      "[0.18910467624664307, 0.020407849922776222, 0.06291919201612473, 0.8199928402900696, -0.09242448955774307]\n"
     ]
    },
    {
     "name": "stderr",
     "output_type": "stream",
     "text": [
      "127.0.0.1 - - [18/Apr/2024 10:31:04] \"GET /get_weights?date=2020-04-27 HTTP/1.1\" 200 -\n"
     ]
    },
    {
     "name": "stdout",
     "output_type": "stream",
     "text": [
      "2\n",
      "2020-04-27\n",
      "[0.1266201287508011, 0.27153027057647705, 0.01546363066881895, 0.5403738617897034, 0.04601209983229637]\n"
     ]
    },
    {
     "name": "stderr",
     "output_type": "stream",
     "text": [
      "127.0.0.1 - - [18/Apr/2024 10:31:06] \"GET /get_weights?date=2020-05-04 HTTP/1.1\" 200 -\n"
     ]
    },
    {
     "name": "stdout",
     "output_type": "stream",
     "text": [
      "2\n",
      "2020-05-04\n",
      "[-0.050358328968286514, 0.015453829430043697, 0.05440928786993027, 0.8165748119354248, 0.16392043232917786]\n"
     ]
    },
    {
     "name": "stderr",
     "output_type": "stream",
     "text": [
      "127.0.0.1 - - [18/Apr/2024 10:31:08] \"GET /get_weights?date=2020-05-11 HTTP/1.1\" 200 -\n"
     ]
    },
    {
     "name": "stdout",
     "output_type": "stream",
     "text": [
      "2\n",
      "2020-05-11\n",
      "[-0.14291930198669434, 0.32004064321517944, -0.19924713671207428, 0.3216319680213928, 0.7004938721656799]\n"
     ]
    },
    {
     "name": "stderr",
     "output_type": "stream",
     "text": [
      "127.0.0.1 - - [18/Apr/2024 10:31:10] \"GET /get_weights?date=2020-05-18 HTTP/1.1\" 200 -\n"
     ]
    },
    {
     "name": "stdout",
     "output_type": "stream",
     "text": [
      "2\n",
      "2020-05-18\n",
      "[0.174259215593338, 0.06703082472085953, 0.2591365873813629, 0.3185367286205292, 0.18103662133216858]\n"
     ]
    },
    {
     "name": "stderr",
     "output_type": "stream",
     "text": [
      "127.0.0.1 - - [18/Apr/2024 10:31:12] \"GET /get_weights?date=2020-05-26 HTTP/1.1\" 200 -\n"
     ]
    },
    {
     "name": "stdout",
     "output_type": "stream",
     "text": [
      "2\n",
      "2020-05-26\n",
      "[-0.05225420370697975, 0.03182036429643631, 0.024679426103830338, 0.08232848346233368, 0.9134259223937988]\n"
     ]
    },
    {
     "name": "stderr",
     "output_type": "stream",
     "text": [
      "127.0.0.1 - - [18/Apr/2024 10:31:15] \"GET /get_weights?date=2020-06-01 HTTP/1.1\" 200 -\n"
     ]
    },
    {
     "name": "stdout",
     "output_type": "stream",
     "text": [
      "2\n",
      "2020-06-01\n",
      "[0.011721099726855755, 0.043670520186424255, 0.014611339196562767, 0.7841436862945557, 0.14585334062576294]\n"
     ]
    },
    {
     "name": "stderr",
     "output_type": "stream",
     "text": [
      "127.0.0.1 - - [18/Apr/2024 10:31:17] \"GET /get_weights?date=2020-06-08 HTTP/1.1\" 200 -\n"
     ]
    },
    {
     "name": "stdout",
     "output_type": "stream",
     "text": [
      "2\n",
      "2020-06-08\n",
      "[-0.04549214243888855, -0.04282718896865845, 0.10457608103752136, 0.6575003862380981, 0.3262428641319275]\n"
     ]
    },
    {
     "name": "stderr",
     "output_type": "stream",
     "text": [
      "127.0.0.1 - - [18/Apr/2024 10:31:19] \"GET /get_weights?date=2020-06-15 HTTP/1.1\" 200 -\n"
     ]
    },
    {
     "name": "stdout",
     "output_type": "stream",
     "text": [
      "2\n",
      "2020-06-15\n",
      "[-0.1357576698064804, -0.12835118174552917, 0.5671741962432861, 0.9043838977813721, -0.2074493169784546]\n"
     ]
    },
    {
     "name": "stderr",
     "output_type": "stream",
     "text": [
      "127.0.0.1 - - [18/Apr/2024 10:31:21] \"GET /get_weights?date=2020-06-22 HTTP/1.1\" 200 -\n"
     ]
    },
    {
     "name": "stdout",
     "output_type": "stream",
     "text": [
      "2\n",
      "2020-06-22\n",
      "[-0.02590268664062023, 0.41475459933280945, 0.08221834152936935, 0.45168694853782654, 0.07724279165267944]\n"
     ]
    },
    {
     "name": "stderr",
     "output_type": "stream",
     "text": [
      "127.0.0.1 - - [18/Apr/2024 10:31:23] \"GET /get_weights?date=2020-06-29 HTTP/1.1\" 200 -\n"
     ]
    },
    {
     "name": "stdout",
     "output_type": "stream",
     "text": [
      "2\n",
      "2020-06-29\n",
      "[-0.014274690300226212, 0.21862566471099854, 0.0451493114233017, 0.4768271744251251, 0.27367255091667175]\n"
     ]
    },
    {
     "name": "stderr",
     "output_type": "stream",
     "text": [
      "127.0.0.1 - - [18/Apr/2024 10:31:26] \"GET /get_weights?date=2020-07-06 HTTP/1.1\" 200 -\n"
     ]
    },
    {
     "name": "stdout",
     "output_type": "stream",
     "text": [
      "2\n",
      "2020-07-06\n",
      "[0.08463165163993835, 0.11334608495235443, 0.0647386908531189, 0.18592743575572968, 0.5513561964035034]\n"
     ]
    },
    {
     "name": "stderr",
     "output_type": "stream",
     "text": [
      "127.0.0.1 - - [18/Apr/2024 10:31:28] \"GET /get_weights?date=2020-07-13 HTTP/1.1\" 200 -\n"
     ]
    },
    {
     "name": "stdout",
     "output_type": "stream",
     "text": [
      "2\n",
      "2020-07-13\n",
      "[0.027261260896921158, 0.3358689844608307, -0.03701459988951683, 0.0596875436604023, 0.6141968369483948]\n"
     ]
    },
    {
     "name": "stderr",
     "output_type": "stream",
     "text": [
      "127.0.0.1 - - [18/Apr/2024 10:31:30] \"GET /get_weights?date=2020-07-20 HTTP/1.1\" 200 -\n"
     ]
    },
    {
     "name": "stdout",
     "output_type": "stream",
     "text": [
      "2\n",
      "2020-07-20\n",
      "[-0.03284498676657677, 0.21247299015522003, -0.34033656120300293, 0.5561375021934509, 0.6045711040496826]\n"
     ]
    },
    {
     "name": "stderr",
     "output_type": "stream",
     "text": [
      "127.0.0.1 - - [18/Apr/2024 10:31:32] \"GET /get_weights?date=2020-07-27 HTTP/1.1\" 200 -\n"
     ]
    },
    {
     "name": "stdout",
     "output_type": "stream",
     "text": [
      "2\n",
      "2020-07-27\n",
      "[0.1339276283979416, 0.33442068099975586, 0.050545211881399155, 0.36424118280410767, 0.11686532199382782]\n"
     ]
    },
    {
     "name": "stderr",
     "output_type": "stream",
     "text": [
      "127.0.0.1 - - [18/Apr/2024 10:31:34] \"GET /get_weights?date=2020-08-03 HTTP/1.1\" 200 -\n"
     ]
    },
    {
     "name": "stdout",
     "output_type": "stream",
     "text": [
      "2\n",
      "2020-08-03\n",
      "[-0.06095436215400696, 0.4387189447879791, -0.24738702178001404, 0.5047800540924072, 0.3648422658443451]\n"
     ]
    },
    {
     "name": "stderr",
     "output_type": "stream",
     "text": [
      "127.0.0.1 - - [18/Apr/2024 10:31:36] \"GET /get_weights?date=2020-08-10 HTTP/1.1\" 200 -\n"
     ]
    },
    {
     "name": "stdout",
     "output_type": "stream",
     "text": [
      "2\n",
      "2020-08-10\n",
      "[-0.03354334831237793, 0.012709120288491249, -0.11147258430719376, 0.37039780616760254, 0.7619089484214783]\n"
     ]
    },
    {
     "name": "stderr",
     "output_type": "stream",
     "text": [
      "127.0.0.1 - - [18/Apr/2024 10:31:39] \"GET /get_weights?date=2020-08-17 HTTP/1.1\" 200 -\n"
     ]
    },
    {
     "name": "stdout",
     "output_type": "stream",
     "text": [
      "2\n",
      "2020-08-17\n",
      "[-0.14232461154460907, 0.2482316941022873, 0.2073681652545929, 0.13036108016967773, 0.5563637018203735]\n"
     ]
    },
    {
     "name": "stderr",
     "output_type": "stream",
     "text": [
      "127.0.0.1 - - [18/Apr/2024 10:31:41] \"GET /get_weights?date=2020-08-24 HTTP/1.1\" 200 -\n"
     ]
    },
    {
     "name": "stdout",
     "output_type": "stream",
     "text": [
      "2\n",
      "2020-08-24\n",
      "[0.026002610102295876, 0.2800855338573456, 0.1901048719882965, 0.2126234769821167, 0.2911837697029114]\n"
     ]
    },
    {
     "name": "stderr",
     "output_type": "stream",
     "text": [
      "127.0.0.1 - - [18/Apr/2024 10:31:43] \"GET /get_weights?date=2020-08-31 HTTP/1.1\" 200 -\n"
     ]
    },
    {
     "name": "stdout",
     "output_type": "stream",
     "text": [
      "2\n",
      "2020-08-31\n",
      "[0.0996498391032219, 0.9999638199806213, -0.9367071390151978, 0.716905415058136, 0.12018807977437973]\n"
     ]
    },
    {
     "name": "stderr",
     "output_type": "stream",
     "text": [
      "127.0.0.1 - - [18/Apr/2024 10:31:45] \"GET /get_weights?date=2020-09-08 HTTP/1.1\" 200 -\n"
     ]
    },
    {
     "name": "stdout",
     "output_type": "stream",
     "text": [
      "2\n",
      "2020-09-08\n",
      "[0.04328935965895653, 0.3104614317417145, 0.07393393665552139, 0.4495061933994293, 0.12280905246734619]\n"
     ]
    },
    {
     "name": "stderr",
     "output_type": "stream",
     "text": [
      "127.0.0.1 - - [18/Apr/2024 10:31:47] \"GET /get_weights?date=2020-09-14 HTTP/1.1\" 200 -\n"
     ]
    },
    {
     "name": "stdout",
     "output_type": "stream",
     "text": [
      "2\n",
      "2020-09-14\n",
      "[-0.005755852907896042, -0.025178225710988045, 0.1448436826467514, 0.11906075477600098, 0.7670296430587769]\n"
     ]
    },
    {
     "name": "stderr",
     "output_type": "stream",
     "text": [
      "127.0.0.1 - - [18/Apr/2024 10:31:50] \"GET /get_weights?date=2020-09-21 HTTP/1.1\" 200 -\n"
     ]
    },
    {
     "name": "stdout",
     "output_type": "stream",
     "text": [
      "2\n",
      "2020-09-21\n",
      "[0.17649275064468384, 0.36761167645454407, -0.21969212591648102, 0.13235114514827728, 0.5432366132736206]\n"
     ]
    },
    {
     "name": "stderr",
     "output_type": "stream",
     "text": [
      "127.0.0.1 - - [18/Apr/2024 10:31:52] \"GET /get_weights?date=2020-09-28 HTTP/1.1\" 200 -\n"
     ]
    },
    {
     "name": "stdout",
     "output_type": "stream",
     "text": [
      "2\n",
      "2020-09-28\n",
      "[0.06940051168203354, 0.2477538287639618, 0.11681204289197922, 0.3654363453388214, 0.20059725642204285]\n"
     ]
    },
    {
     "name": "stderr",
     "output_type": "stream",
     "text": [
      "127.0.0.1 - - [18/Apr/2024 10:31:54] \"GET /get_weights?date=2020-10-05 HTTP/1.1\" 200 -\n"
     ]
    },
    {
     "name": "stdout",
     "output_type": "stream",
     "text": [
      "2\n",
      "2020-10-05\n",
      "[-0.18340106308460236, -0.3389539122581482, 0.09055661410093307, 0.4317896366119385, 1.0000087022781372]\n"
     ]
    },
    {
     "name": "stderr",
     "output_type": "stream",
     "text": [
      "127.0.0.1 - - [18/Apr/2024 10:31:56] \"GET /get_weights?date=2020-10-12 HTTP/1.1\" 200 -\n"
     ]
    },
    {
     "name": "stdout",
     "output_type": "stream",
     "text": [
      "2\n",
      "2020-10-12\n",
      "[0.001177275669761002, 0.23135125637054443, 0.33740416169166565, 0.019228843972086906, 0.4108384847640991]\n"
     ]
    },
    {
     "name": "stderr",
     "output_type": "stream",
     "text": [
      "127.0.0.1 - - [18/Apr/2024 10:31:58] \"GET /get_weights?date=2020-10-19 HTTP/1.1\" 200 -\n"
     ]
    },
    {
     "name": "stdout",
     "output_type": "stream",
     "text": [
      "2\n",
      "2020-10-19\n",
      "[0.18329359591007233, 0.3759215176105499, -0.1024942621588707, 0.21296094357967377, 0.3303182125091553]\n"
     ]
    },
    {
     "name": "stderr",
     "output_type": "stream",
     "text": [
      "127.0.0.1 - - [18/Apr/2024 10:32:01] \"GET /get_weights?date=2020-10-26 HTTP/1.1\" 200 -\n"
     ]
    },
    {
     "name": "stdout",
     "output_type": "stream",
     "text": [
      "2\n",
      "2020-10-26\n",
      "[0.2760066092014313, 0.5143126845359802, -0.21095994114875793, 0.7350142002105713, -0.314373642206192]\n"
     ]
    },
    {
     "name": "stderr",
     "output_type": "stream",
     "text": [
      "127.0.0.1 - - [18/Apr/2024 10:32:03] \"GET /get_weights?date=2020-11-02 HTTP/1.1\" 200 -\n"
     ]
    },
    {
     "name": "stdout",
     "output_type": "stream",
     "text": [
      "2\n",
      "2020-11-02\n",
      "[-0.10316038876771927, 0.051204707473516464, 0.2818728983402252, 0.6955162286758423, 0.0745665580034256]\n"
     ]
    },
    {
     "name": "stderr",
     "output_type": "stream",
     "text": [
      "127.0.0.1 - - [18/Apr/2024 10:32:05] \"GET /get_weights?date=2020-11-09 HTTP/1.1\" 200 -\n"
     ]
    },
    {
     "name": "stdout",
     "output_type": "stream",
     "text": [
      "2\n",
      "2020-11-09\n",
      "[-0.037032924592494965, 0.01614227332174778, 0.04324192553758621, 0.6132646799087524, 0.3643840551376343]\n"
     ]
    },
    {
     "name": "stderr",
     "output_type": "stream",
     "text": [
      "127.0.0.1 - - [18/Apr/2024 10:32:07] \"GET /get_weights?date=2020-11-16 HTTP/1.1\" 200 -\n"
     ]
    },
    {
     "name": "stdout",
     "output_type": "stream",
     "text": [
      "2\n",
      "2020-11-16\n",
      "[-0.15429122745990753, -0.014203187078237534, 0.19627052545547485, 0.7303034067153931, 0.2419205904006958]\n"
     ]
    },
    {
     "name": "stderr",
     "output_type": "stream",
     "text": [
      "127.0.0.1 - - [18/Apr/2024 10:32:09] \"GET /get_weights?date=2020-11-23 HTTP/1.1\" 200 -\n"
     ]
    },
    {
     "name": "stdout",
     "output_type": "stream",
     "text": [
      "2\n",
      "2020-11-23\n",
      "[0.17766349017620087, 0.30672770738601685, 0.030866829678416252, 0.37053224444389343, 0.11420974880456924]\n"
     ]
    },
    {
     "name": "stderr",
     "output_type": "stream",
     "text": [
      "127.0.0.1 - - [18/Apr/2024 10:32:11] \"GET /get_weights?date=2020-11-30 HTTP/1.1\" 200 -\n"
     ]
    },
    {
     "name": "stdout",
     "output_type": "stream",
     "text": [
      "2\n",
      "2020-11-30\n",
      "[0.05618312209844589, 0.38677218556404114, -0.009951638989150524, 0.6152380108833313, -0.048241641372442245]\n"
     ]
    },
    {
     "name": "stderr",
     "output_type": "stream",
     "text": [
      "127.0.0.1 - - [18/Apr/2024 10:32:13] \"GET /get_weights?date=2020-12-07 HTTP/1.1\" 200 -\n"
     ]
    },
    {
     "name": "stdout",
     "output_type": "stream",
     "text": [
      "2\n",
      "2020-12-07\n",
      "[-0.18904270231723785, 0.33567339181900024, -0.12142395228147507, 1.0000125169754028, -0.025219198316335678]\n"
     ]
    },
    {
     "name": "stderr",
     "output_type": "stream",
     "text": [
      "127.0.0.1 - - [18/Apr/2024 10:32:16] \"GET /get_weights?date=2020-12-14 HTTP/1.1\" 200 -\n"
     ]
    },
    {
     "name": "stdout",
     "output_type": "stream",
     "text": [
      "2\n",
      "2020-12-14\n",
      "[-0.055069733411073685, 0.21330691874027252, -0.32674551010131836, 0.8742210865020752, 0.29428720474243164]\n"
     ]
    }
   ],
   "source": [
    "app.run(port=5000)"
   ]
  },
  {
   "cell_type": "code",
   "execution_count": null,
   "id": "7a1839cc",
   "metadata": {},
   "outputs": [],
   "source": [
    "update the "
   ]
  },
  {
   "cell_type": "code",
   "execution_count": null,
   "id": "3894efcb",
   "metadata": {},
   "outputs": [],
   "source": []
  }
 ],
 "metadata": {
  "kernelspec": {
   "display_name": "Python 3 (ipykernel)",
   "language": "python",
   "name": "python3"
  },
  "language_info": {
   "codemirror_mode": {
    "name": "ipython",
    "version": 3
   },
   "file_extension": ".py",
   "mimetype": "text/x-python",
   "name": "python",
   "nbconvert_exporter": "python",
   "pygments_lexer": "ipython3",
   "version": "3.8.17"
  }
 },
 "nbformat": 4,
 "nbformat_minor": 5
}
