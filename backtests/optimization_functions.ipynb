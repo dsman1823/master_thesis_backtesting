{
 "cells": [
  {
   "cell_type": "code",
   "execution_count": 13,
   "id": "b78193b3",
   "metadata": {},
   "outputs": [],
   "source": [
    "import pandas as pd\n",
    "import cvxpy as cp"
   ]
  },
  {
   "cell_type": "code",
   "execution_count": 3,
   "id": "9cb00da0",
   "metadata": {},
   "outputs": [],
   "source": [
    "RETS_FILE_PATH = 'historical_returns.csv'\n",
    "rets = pd.read_csv(RETS_FILE_PATH, index_col=0)"
   ]
  },
  {
   "cell_type": "code",
   "execution_count": 1,
   "id": "e970e08f",
   "metadata": {},
   "outputs": [],
   "source": [
    "def full_opti(rets):\n",
    "    means = rets.mean().to_numpy()\n",
    "    cov = rets.cov().to_numpy()\n",
    "    gamma = 0.9766 # <-- obtained from trained NN\n",
    "    alpha = 0.0101 # \n",
    "    w = cp.Variable(len(means))\n",
    "    objective = cp.Maximize(means.T @ w - gamma * cp.quad_form(w, cov) - alpha * cp.norm(w, 2))\n",
    "    constraints = [cp.sum(w) == 1, w <= 1, w >= -1]\n",
    "    problem = cp.Problem(objective, constraints)\n",
    "    problem.solve()\n",
    "    return w.value\n",
    "\n",
    "\n",
    "def full_min_var(rets):\n",
    "    cov = rets.cov().to_numpy()\n",
    "    means = rets.mean().to_numpy()\n",
    "    w = cp.Variable(len(means))\n",
    "    objective = cp.Minimize(cp.quad_form(w, cov))\n",
    "    constraints = [cp.sum(w) == 1, w <= 1, w >= -1]\n",
    "    problem = cp.Problem(objective, constraints)\n",
    "    problem.solve()\n",
    "    return w.value"
   ]
  },
  {
   "cell_type": "code",
   "execution_count": 2,
   "id": "27d6c559",
   "metadata": {},
   "outputs": [
    {
     "ename": "NameError",
     "evalue": "name 'rets' is not defined",
     "output_type": "error",
     "traceback": [
      "\u001b[1;31m---------------------------------------------------------------------------\u001b[0m",
      "\u001b[1;31mNameError\u001b[0m                                 Traceback (most recent call last)",
      "Cell \u001b[1;32mIn[2], line 1\u001b[0m\n\u001b[1;32m----> 1\u001b[0m full_min_var(\u001b[43mrets\u001b[49m)\n",
      "\u001b[1;31mNameError\u001b[0m: name 'rets' is not defined"
     ]
    }
   ],
   "source": [
    "full_min_var(rets)"
   ]
  },
  {
   "cell_type": "code",
   "execution_count": null,
   "id": "ebd49494",
   "metadata": {},
   "outputs": [],
   "source": [
    "sum(w.value)"
   ]
  },
  {
   "cell_type": "code",
   "execution_count": null,
   "id": "481f7366",
   "metadata": {},
   "outputs": [],
   "source": []
  }
 ],
 "metadata": {
  "kernelspec": {
   "display_name": "Python 3 (ipykernel)",
   "language": "python",
   "name": "python3"
  },
  "language_info": {
   "codemirror_mode": {
    "name": "ipython",
    "version": 3
   },
   "file_extension": ".py",
   "mimetype": "text/x-python",
   "name": "python",
   "nbconvert_exporter": "python",
   "pygments_lexer": "ipython3",
   "version": "3.8.17"
  }
 },
 "nbformat": 4,
 "nbformat_minor": 5
}
