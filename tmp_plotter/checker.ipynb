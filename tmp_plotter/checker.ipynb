{
 "cells": [
  {
   "cell_type": "code",
   "execution_count": 2,
   "id": "7a008020",
   "metadata": {},
   "outputs": [
    {
     "name": "stderr",
     "output_type": "stream",
     "text": [
      "WARNING: Ignoring invalid distribution -epdowmine (c:\\users\\seidm\\miniconda3\\envs\\ddow\\lib\\site-packages)\n",
      "WARNING: Ignoring invalid distribution - (c:\\users\\seidm\\miniconda3\\envs\\ddow\\lib\\site-packages)\n",
      "WARNING: Ignoring invalid distribution -epdowmine (c:\\users\\seidm\\miniconda3\\envs\\ddow\\lib\\site-packages)\n",
      "WARNING: Ignoring invalid distribution -0epdowmine (c:\\users\\seidm\\miniconda3\\envs\\ddow\\lib\\site-packages)\n",
      "WARNING: Ignoring invalid distribution -1epdowmine (c:\\users\\seidm\\miniconda3\\envs\\ddow\\lib\\site-packages)\n",
      "WARNING: Ignoring invalid distribution -2epdowmine (c:\\users\\seidm\\miniconda3\\envs\\ddow\\lib\\site-packages)\n",
      "WARNING: Ignoring invalid distribution -3epdowmine (c:\\users\\seidm\\miniconda3\\envs\\ddow\\lib\\site-packages)\n",
      "WARNING: Ignoring invalid distribution -4epdowmine (c:\\users\\seidm\\miniconda3\\envs\\ddow\\lib\\site-packages)\n",
      "WARNING: Ignoring invalid distribution -5epdowmine (c:\\users\\seidm\\miniconda3\\envs\\ddow\\lib\\site-packages)\n",
      "WARNING: Ignoring invalid distribution -6epdowmine (c:\\users\\seidm\\miniconda3\\envs\\ddow\\lib\\site-packages)\n",
      "WARNING: Ignoring invalid distribution -7epdowmine (c:\\users\\seidm\\miniconda3\\envs\\ddow\\lib\\site-packages)\n",
      "WARNING: Ignoring invalid distribution -eepdowmine (c:\\users\\seidm\\miniconda3\\envs\\ddow\\lib\\site-packages)\n",
      "WARNING: Skipping deepdowmine as it is not installed.\n"
     ]
    },
    {
     "name": "stdout",
     "output_type": "stream",
     "text": [
      "Collecting git+https://github.com/dsman1823/deepdowmine.git\n",
      "  Cloning https://github.com/dsman1823/deepdowmine.git to c:\\users\\seidm\\appdata\\local\\temp\\pip-req-build-7onja88x\n",
      "  Resolved https://github.com/dsman1823/deepdowmine.git to commit ebfdf1c26052a84160d93b488e6060cb94f3d738\n",
      "  Preparing metadata (setup.py): started\n",
      "  Preparing metadata (setup.py): finished with status 'done'\n",
      "Requirement already satisfied: cvxpylayers in c:\\users\\seidm\\miniconda3\\envs\\ddow\\lib\\site-packages (from deepdowmine==0.2.3) (0.1.6)\n",
      "Requirement already satisfied: matplotlib in c:\\users\\seidm\\miniconda3\\envs\\ddow\\lib\\site-packages (from deepdowmine==0.2.3) (3.7.2)\n",
      "Requirement already satisfied: mlflow in c:\\users\\seidm\\miniconda3\\envs\\ddow\\lib\\site-packages (from deepdowmine==0.2.3) (2.6.0)\n",
      "Requirement already satisfied: numpy>=1.16.5 in c:\\users\\seidm\\miniconda3\\envs\\ddow\\lib\\site-packages (from deepdowmine==0.2.3) (1.23.5)\n",
      "Requirement already satisfied: pandas in c:\\users\\seidm\\miniconda3\\envs\\ddow\\lib\\site-packages (from deepdowmine==0.2.3) (2.0.3)\n",
      "Requirement already satisfied: pillow in c:\\users\\seidm\\miniconda3\\envs\\ddow\\lib\\site-packages (from deepdowmine==0.2.3) (10.0.0)\n",
      "Requirement already satisfied: seaborn in c:\\users\\seidm\\miniconda3\\envs\\ddow\\lib\\site-packages (from deepdowmine==0.2.3) (0.12.2)\n",
      "Requirement already satisfied: torch>=1.5 in c:\\users\\seidm\\miniconda3\\envs\\ddow\\lib\\site-packages (from deepdowmine==0.2.3) (2.0.0)\n",
      "Requirement already satisfied: tensorboard in c:\\users\\seidm\\miniconda3\\envs\\ddow\\lib\\site-packages (from deepdowmine==0.2.3) (2.14.0)\n",
      "Requirement already satisfied: tqdm in c:\\users\\seidm\\miniconda3\\envs\\ddow\\lib\\site-packages (from deepdowmine==0.2.3) (4.66.1)\n",
      "Requirement already satisfied: filelock in c:\\users\\seidm\\miniconda3\\envs\\ddow\\lib\\site-packages (from torch>=1.5->deepdowmine==0.2.3) (3.12.3)\n",
      "Requirement already satisfied: typing-extensions in c:\\users\\seidm\\miniconda3\\envs\\ddow\\lib\\site-packages (from torch>=1.5->deepdowmine==0.2.3) (4.10.0)\n",
      "Requirement already satisfied: sympy in c:\\users\\seidm\\miniconda3\\envs\\ddow\\lib\\site-packages (from torch>=1.5->deepdowmine==0.2.3) (1.12)\n",
      "Requirement already satisfied: networkx in c:\\users\\seidm\\miniconda3\\envs\\ddow\\lib\\site-packages (from torch>=1.5->deepdowmine==0.2.3) (3.1)\n",
      "Requirement already satisfied: jinja2 in c:\\users\\seidm\\miniconda3\\envs\\ddow\\lib\\site-packages (from torch>=1.5->deepdowmine==0.2.3) (3.1.2)\n",
      "Requirement already satisfied: scipy>=1.1.0 in c:\\users\\seidm\\miniconda3\\envs\\ddow\\lib\\site-packages (from cvxpylayers->deepdowmine==0.2.3) (1.10.1)\n",
      "Requirement already satisfied: diffcp>=1.0.13 in c:\\users\\seidm\\miniconda3\\envs\\ddow\\lib\\site-packages (from cvxpylayers->deepdowmine==0.2.3) (1.0.23)\n",
      "Requirement already satisfied: cvxpy>=1.1.0a4 in c:\\users\\seidm\\miniconda3\\envs\\ddow\\lib\\site-packages (from cvxpylayers->deepdowmine==0.2.3) (1.3.2)\n",
      "Requirement already satisfied: contourpy>=1.0.1 in c:\\users\\seidm\\miniconda3\\envs\\ddow\\lib\\site-packages (from matplotlib->deepdowmine==0.2.3) (1.1.0)\n",
      "Requirement already satisfied: cycler>=0.10 in c:\\users\\seidm\\miniconda3\\envs\\ddow\\lib\\site-packages (from matplotlib->deepdowmine==0.2.3) (0.11.0)\n",
      "Requirement already satisfied: fonttools>=4.22.0 in c:\\users\\seidm\\miniconda3\\envs\\ddow\\lib\\site-packages (from matplotlib->deepdowmine==0.2.3) (4.42.1)\n",
      "Requirement already satisfied: kiwisolver>=1.0.1 in c:\\users\\seidm\\miniconda3\\envs\\ddow\\lib\\site-packages (from matplotlib->deepdowmine==0.2.3) (1.4.5)\n",
      "Requirement already satisfied: packaging>=20.0 in c:\\users\\seidm\\miniconda3\\envs\\ddow\\lib\\site-packages (from matplotlib->deepdowmine==0.2.3) (23.0)\n",
      "Requirement already satisfied: pyparsing<3.1,>=2.3.1 in c:\\users\\seidm\\miniconda3\\envs\\ddow\\lib\\site-packages (from matplotlib->deepdowmine==0.2.3) (3.0.9)\n",
      "Requirement already satisfied: python-dateutil>=2.7 in c:\\users\\seidm\\miniconda3\\envs\\ddow\\lib\\site-packages (from matplotlib->deepdowmine==0.2.3) (2.8.2)\n",
      "Requirement already satisfied: importlib-resources>=3.2.0 in c:\\users\\seidm\\miniconda3\\envs\\ddow\\lib\\site-packages (from matplotlib->deepdowmine==0.2.3) (5.2.0)\n",
      "Requirement already satisfied: click<9,>=7.0 in c:\\users\\seidm\\miniconda3\\envs\\ddow\\lib\\site-packages (from mlflow->deepdowmine==0.2.3) (8.0.4)\n",
      "Requirement already satisfied: cloudpickle<3 in c:\\users\\seidm\\miniconda3\\envs\\ddow\\lib\\site-packages (from mlflow->deepdowmine==0.2.3) (2.2.1)\n",
      "Requirement already satisfied: databricks-cli<1,>=0.8.7 in c:\\users\\seidm\\miniconda3\\envs\\ddow\\lib\\site-packages (from mlflow->deepdowmine==0.2.3) (0.17.7)\n",
      "Requirement already satisfied: entrypoints<1 in c:\\users\\seidm\\miniconda3\\envs\\ddow\\lib\\site-packages (from mlflow->deepdowmine==0.2.3) (0.4)\n",
      "Requirement already satisfied: gitpython<4,>=2.1.0 in c:\\users\\seidm\\miniconda3\\envs\\ddow\\lib\\site-packages (from mlflow->deepdowmine==0.2.3) (3.1.32)\n",
      "Requirement already satisfied: pyyaml<7,>=5.1 in c:\\users\\seidm\\miniconda3\\envs\\ddow\\lib\\site-packages (from mlflow->deepdowmine==0.2.3) (6.0)\n",
      "Requirement already satisfied: protobuf<5,>=3.12.0 in c:\\users\\seidm\\miniconda3\\envs\\ddow\\lib\\site-packages (from mlflow->deepdowmine==0.2.3) (4.24.2)\n",
      "Requirement already satisfied: pytz<2024 in c:\\users\\seidm\\miniconda3\\envs\\ddow\\lib\\site-packages (from mlflow->deepdowmine==0.2.3) (2022.7)\n",
      "Requirement already satisfied: requests<3,>=2.17.3 in c:\\users\\seidm\\miniconda3\\envs\\ddow\\lib\\site-packages (from mlflow->deepdowmine==0.2.3) (2.31.0)\n",
      "Requirement already satisfied: importlib-metadata!=4.7.0,<7,>=3.7.0 in c:\\users\\seidm\\miniconda3\\envs\\ddow\\lib\\site-packages (from mlflow->deepdowmine==0.2.3) (6.0.0)\n",
      "Requirement already satisfied: sqlparse<1,>=0.4.0 in c:\\users\\seidm\\miniconda3\\envs\\ddow\\lib\\site-packages (from mlflow->deepdowmine==0.2.3) (0.4.4)\n",
      "Requirement already satisfied: alembic!=1.10.0,<2 in c:\\users\\seidm\\miniconda3\\envs\\ddow\\lib\\site-packages (from mlflow->deepdowmine==0.2.3) (1.12.0)\n",
      "Requirement already satisfied: docker<7,>=4.0.0 in c:\\users\\seidm\\miniconda3\\envs\\ddow\\lib\\site-packages (from mlflow->deepdowmine==0.2.3) (6.1.3)\n",
      "Requirement already satisfied: Flask<3 in c:\\users\\seidm\\miniconda3\\envs\\ddow\\lib\\site-packages (from mlflow->deepdowmine==0.2.3) (2.2.2)\n",
      "Requirement already satisfied: querystring-parser<2 in c:\\users\\seidm\\miniconda3\\envs\\ddow\\lib\\site-packages (from mlflow->deepdowmine==0.2.3) (1.2.4)\n",
      "Requirement already satisfied: sqlalchemy<3,>=1.4.0 in c:\\users\\seidm\\miniconda3\\envs\\ddow\\lib\\site-packages (from mlflow->deepdowmine==0.2.3) (2.0.20)\n",
      "Requirement already satisfied: scikit-learn<2 in c:\\users\\seidm\\miniconda3\\envs\\ddow\\lib\\site-packages (from mlflow->deepdowmine==0.2.3) (1.3.0)\n",
      "Requirement already satisfied: pyarrow<13,>=4.0.0 in c:\\users\\seidm\\miniconda3\\envs\\ddow\\lib\\site-packages (from mlflow->deepdowmine==0.2.3) (12.0.1)\n",
      "Requirement already satisfied: markdown<4,>=3.3 in c:\\users\\seidm\\miniconda3\\envs\\ddow\\lib\\site-packages (from mlflow->deepdowmine==0.2.3) (3.4.4)\n",
      "Requirement already satisfied: waitress<3 in c:\\users\\seidm\\miniconda3\\envs\\ddow\\lib\\site-packages (from mlflow->deepdowmine==0.2.3) (2.1.2)\n",
      "Requirement already satisfied: tzdata>=2022.1 in c:\\users\\seidm\\miniconda3\\envs\\ddow\\lib\\site-packages (from pandas->deepdowmine==0.2.3) (2023.3)\n",
      "Requirement already satisfied: absl-py>=0.4 in c:\\users\\seidm\\miniconda3\\envs\\ddow\\lib\\site-packages (from tensorboard->deepdowmine==0.2.3) (1.4.0)\n",
      "Requirement already satisfied: grpcio>=1.48.2 in c:\\users\\seidm\\miniconda3\\envs\\ddow\\lib\\site-packages (from tensorboard->deepdowmine==0.2.3) (1.57.0)\n",
      "Requirement already satisfied: google-auth<3,>=1.6.3 in c:\\users\\seidm\\miniconda3\\envs\\ddow\\lib\\site-packages (from tensorboard->deepdowmine==0.2.3) (2.22.0)\n",
      "Requirement already satisfied: google-auth-oauthlib<1.1,>=0.5 in c:\\users\\seidm\\miniconda3\\envs\\ddow\\lib\\site-packages (from tensorboard->deepdowmine==0.2.3) (1.0.0)\n",
      "Requirement already satisfied: setuptools>=41.0.0 in c:\\users\\seidm\\miniconda3\\envs\\ddow\\lib\\site-packages (from tensorboard->deepdowmine==0.2.3) (68.0.0)\n",
      "Requirement already satisfied: tensorboard-data-server<0.8.0,>=0.7.0 in c:\\users\\seidm\\miniconda3\\envs\\ddow\\lib\\site-packages (from tensorboard->deepdowmine==0.2.3) (0.7.1)\n",
      "Requirement already satisfied: werkzeug>=1.0.1 in c:\\users\\seidm\\miniconda3\\envs\\ddow\\lib\\site-packages (from tensorboard->deepdowmine==0.2.3) (2.3.7)\n",
      "Requirement already satisfied: wheel>=0.26 in c:\\users\\seidm\\miniconda3\\envs\\ddow\\lib\\site-packages (from tensorboard->deepdowmine==0.2.3) (0.38.4)\n",
      "Requirement already satisfied: colorama in c:\\users\\seidm\\miniconda3\\envs\\ddow\\lib\\site-packages (from tqdm->deepdowmine==0.2.3) (0.4.6)\n",
      "Requirement already satisfied: Mako in c:\\users\\seidm\\miniconda3\\envs\\ddow\\lib\\site-packages (from alembic!=1.10.0,<2->mlflow->deepdowmine==0.2.3) (1.2.4)\n",
      "Requirement already satisfied: osqp>=0.4.1 in c:\\users\\seidm\\miniconda3\\envs\\ddow\\lib\\site-packages (from cvxpy>=1.1.0a4->cvxpylayers->deepdowmine==0.2.3) (0.6.3)\n",
      "Requirement already satisfied: ecos>=2 in c:\\users\\seidm\\miniconda3\\envs\\ddow\\lib\\site-packages (from cvxpy>=1.1.0a4->cvxpylayers->deepdowmine==0.2.3) (2.0.12)\n",
      "Requirement already satisfied: scs>=1.1.6 in c:\\users\\seidm\\miniconda3\\envs\\ddow\\lib\\site-packages (from cvxpy>=1.1.0a4->cvxpylayers->deepdowmine==0.2.3) (3.2.3)\n",
      "Requirement already satisfied: pyjwt>=1.7.0 in c:\\users\\seidm\\miniconda3\\envs\\ddow\\lib\\site-packages (from databricks-cli<1,>=0.8.7->mlflow->deepdowmine==0.2.3) (2.8.0)\n",
      "Requirement already satisfied: oauthlib>=3.1.0 in c:\\users\\seidm\\miniconda3\\envs\\ddow\\lib\\site-packages (from databricks-cli<1,>=0.8.7->mlflow->deepdowmine==0.2.3) (3.2.2)\n",
      "Requirement already satisfied: tabulate>=0.7.7 in c:\\users\\seidm\\miniconda3\\envs\\ddow\\lib\\site-packages (from databricks-cli<1,>=0.8.7->mlflow->deepdowmine==0.2.3) (0.9.0)\n",
      "Requirement already satisfied: six>=1.10.0 in c:\\users\\seidm\\miniconda3\\envs\\ddow\\lib\\site-packages (from databricks-cli<1,>=0.8.7->mlflow->deepdowmine==0.2.3) (1.16.0)\n",
      "Requirement already satisfied: urllib3<2.0.0,>=1.26.7 in c:\\users\\seidm\\miniconda3\\envs\\ddow\\lib\\site-packages (from databricks-cli<1,>=0.8.7->mlflow->deepdowmine==0.2.3) (1.26.16)\n",
      "Requirement already satisfied: pybind11>=2.4 in c:\\users\\seidm\\miniconda3\\envs\\ddow\\lib\\site-packages (from diffcp>=1.0.13->cvxpylayers->deepdowmine==0.2.3) (2.11.1)\n",
      "Requirement already satisfied: threadpoolctl>=1.1 in c:\\users\\seidm\\miniconda3\\envs\\ddow\\lib\\site-packages (from diffcp>=1.0.13->cvxpylayers->deepdowmine==0.2.3) (3.2.0)\n",
      "Requirement already satisfied: websocket-client>=0.32.0 in c:\\users\\seidm\\miniconda3\\envs\\ddow\\lib\\site-packages (from docker<7,>=4.0.0->mlflow->deepdowmine==0.2.3) (0.58.0)\n",
      "Requirement already satisfied: pywin32>=304 in c:\\users\\seidm\\miniconda3\\envs\\ddow\\lib\\site-packages (from docker<7,>=4.0.0->mlflow->deepdowmine==0.2.3) (305.1)\n",
      "Requirement already satisfied: itsdangerous>=2.0 in c:\\users\\seidm\\miniconda3\\envs\\ddow\\lib\\site-packages (from Flask<3->mlflow->deepdowmine==0.2.3) (2.0.1)\n",
      "Requirement already satisfied: gitdb<5,>=4.0.1 in c:\\users\\seidm\\miniconda3\\envs\\ddow\\lib\\site-packages (from gitpython<4,>=2.1.0->mlflow->deepdowmine==0.2.3) (4.0.10)\n",
      "Requirement already satisfied: cachetools<6.0,>=2.0.0 in c:\\users\\seidm\\miniconda3\\envs\\ddow\\lib\\site-packages (from google-auth<3,>=1.6.3->tensorboard->deepdowmine==0.2.3) (5.3.1)\n",
      "Requirement already satisfied: pyasn1-modules>=0.2.1 in c:\\users\\seidm\\miniconda3\\envs\\ddow\\lib\\site-packages (from google-auth<3,>=1.6.3->tensorboard->deepdowmine==0.2.3) (0.3.0)\n",
      "Requirement already satisfied: rsa<5,>=3.1.4 in c:\\users\\seidm\\miniconda3\\envs\\ddow\\lib\\site-packages (from google-auth<3,>=1.6.3->tensorboard->deepdowmine==0.2.3) (4.9)\n",
      "Requirement already satisfied: requests-oauthlib>=0.7.0 in c:\\users\\seidm\\miniconda3\\envs\\ddow\\lib\\site-packages (from google-auth-oauthlib<1.1,>=0.5->tensorboard->deepdowmine==0.2.3) (1.3.1)\n",
      "Requirement already satisfied: zipp>=0.5 in c:\\users\\seidm\\miniconda3\\envs\\ddow\\lib\\site-packages (from importlib-metadata!=4.7.0,<7,>=3.7.0->mlflow->deepdowmine==0.2.3) (3.11.0)\n",
      "Requirement already satisfied: MarkupSafe>=2.0 in c:\\users\\seidm\\miniconda3\\envs\\ddow\\lib\\site-packages (from jinja2->torch>=1.5->deepdowmine==0.2.3) (2.1.1)\n",
      "Requirement already satisfied: charset-normalizer<4,>=2 in c:\\users\\seidm\\miniconda3\\envs\\ddow\\lib\\site-packages (from requests<3,>=2.17.3->mlflow->deepdowmine==0.2.3) (2.0.4)\n",
      "Requirement already satisfied: idna<4,>=2.5 in c:\\users\\seidm\\miniconda3\\envs\\ddow\\lib\\site-packages (from requests<3,>=2.17.3->mlflow->deepdowmine==0.2.3) (3.4)\n",
      "Requirement already satisfied: certifi>=2017.4.17 in c:\\users\\seidm\\miniconda3\\envs\\ddow\\lib\\site-packages (from requests<3,>=2.17.3->mlflow->deepdowmine==0.2.3) (2023.7.22)\n",
      "Requirement already satisfied: joblib>=1.1.1 in c:\\users\\seidm\\miniconda3\\envs\\ddow\\lib\\site-packages (from scikit-learn<2->mlflow->deepdowmine==0.2.3) (1.3.2)\n",
      "Requirement already satisfied: greenlet!=0.4.17 in c:\\users\\seidm\\miniconda3\\envs\\ddow\\lib\\site-packages (from sqlalchemy<3,>=1.4.0->mlflow->deepdowmine==0.2.3) (2.0.2)\n",
      "Requirement already satisfied: mpmath>=0.19 in c:\\users\\seidm\\miniconda3\\envs\\ddow\\lib\\site-packages (from sympy->torch>=1.5->deepdowmine==0.2.3) (1.3.0)\n",
      "Requirement already satisfied: smmap<6,>=3.0.1 in c:\\users\\seidm\\miniconda3\\envs\\ddow\\lib\\site-packages (from gitdb<5,>=4.0.1->gitpython<4,>=2.1.0->mlflow->deepdowmine==0.2.3) (5.0.0)\n",
      "Requirement already satisfied: qdldl in c:\\users\\seidm\\miniconda3\\envs\\ddow\\lib\\site-packages (from osqp>=0.4.1->cvxpy>=1.1.0a4->cvxpylayers->deepdowmine==0.2.3) (0.1.7.post0)\n",
      "Requirement already satisfied: pyasn1<0.6.0,>=0.4.6 in c:\\users\\seidm\\miniconda3\\envs\\ddow\\lib\\site-packages (from pyasn1-modules>=0.2.1->google-auth<3,>=1.6.3->tensorboard->deepdowmine==0.2.3) (0.5.0)\n",
      "Building wheels for collected packages: deepdowmine\n",
      "  Building wheel for deepdowmine (setup.py): started\n",
      "  Building wheel for deepdowmine (setup.py): finished with status 'done'\n",
      "  Created wheel for deepdowmine: filename=deepdowmine-0.2.3-py3-none-any.whl size=59712 sha256=bce90db37f807721367671241ad373cd2d2b85c799ea9ed89fe28c728a5a68f8\n",
      "  Stored in directory: C:\\Users\\seidm\\AppData\\Local\\Temp\\pip-ephem-wheel-cache-n61gyjcp\\wheels\\34\\6a\\e2\\d811ae5001e9041d5979f0c60b3e7fe66582099e9e229bead2\n",
      "Successfully built deepdowmine\n",
      "Installing collected packages: deepdowmine\n",
      "Successfully installed deepdowmine-0.2.3\n"
     ]
    },
    {
     "name": "stderr",
     "output_type": "stream",
     "text": [
      "WARNING: Ignoring invalid distribution -epdowmine (c:\\users\\seidm\\miniconda3\\envs\\ddow\\lib\\site-packages)\n",
      "WARNING: Ignoring invalid distribution - (c:\\users\\seidm\\miniconda3\\envs\\ddow\\lib\\site-packages)\n",
      "WARNING: Ignoring invalid distribution -epdowmine (c:\\users\\seidm\\miniconda3\\envs\\ddow\\lib\\site-packages)\n",
      "WARNING: Ignoring invalid distribution -0epdowmine (c:\\users\\seidm\\miniconda3\\envs\\ddow\\lib\\site-packages)\n",
      "WARNING: Ignoring invalid distribution -1epdowmine (c:\\users\\seidm\\miniconda3\\envs\\ddow\\lib\\site-packages)\n",
      "WARNING: Ignoring invalid distribution -2epdowmine (c:\\users\\seidm\\miniconda3\\envs\\ddow\\lib\\site-packages)\n",
      "WARNING: Ignoring invalid distribution -3epdowmine (c:\\users\\seidm\\miniconda3\\envs\\ddow\\lib\\site-packages)\n",
      "WARNING: Ignoring invalid distribution -4epdowmine (c:\\users\\seidm\\miniconda3\\envs\\ddow\\lib\\site-packages)\n",
      "WARNING: Ignoring invalid distribution -5epdowmine (c:\\users\\seidm\\miniconda3\\envs\\ddow\\lib\\site-packages)\n",
      "WARNING: Ignoring invalid distribution -6epdowmine (c:\\users\\seidm\\miniconda3\\envs\\ddow\\lib\\site-packages)\n",
      "WARNING: Ignoring invalid distribution -7epdowmine (c:\\users\\seidm\\miniconda3\\envs\\ddow\\lib\\site-packages)\n",
      "WARNING: Ignoring invalid distribution -eepdowmine (c:\\users\\seidm\\miniconda3\\envs\\ddow\\lib\\site-packages)\n",
      "  Running command git clone --filter=blob:none --quiet https://github.com/dsman1823/deepdowmine.git 'C:\\Users\\seidm\\AppData\\Local\\Temp\\pip-req-build-7onja88x'\n",
      "WARNING: Ignoring invalid distribution -epdowmine (c:\\users\\seidm\\miniconda3\\envs\\ddow\\lib\\site-packages)\n",
      "WARNING: Ignoring invalid distribution - (c:\\users\\seidm\\miniconda3\\envs\\ddow\\lib\\site-packages)\n",
      "WARNING: Ignoring invalid distribution -epdowmine (c:\\users\\seidm\\miniconda3\\envs\\ddow\\lib\\site-packages)\n",
      "WARNING: Ignoring invalid distribution -0epdowmine (c:\\users\\seidm\\miniconda3\\envs\\ddow\\lib\\site-packages)\n",
      "WARNING: Ignoring invalid distribution -1epdowmine (c:\\users\\seidm\\miniconda3\\envs\\ddow\\lib\\site-packages)\n",
      "WARNING: Ignoring invalid distribution -2epdowmine (c:\\users\\seidm\\miniconda3\\envs\\ddow\\lib\\site-packages)\n",
      "WARNING: Ignoring invalid distribution -3epdowmine (c:\\users\\seidm\\miniconda3\\envs\\ddow\\lib\\site-packages)\n",
      "WARNING: Ignoring invalid distribution -4epdowmine (c:\\users\\seidm\\miniconda3\\envs\\ddow\\lib\\site-packages)\n",
      "WARNING: Ignoring invalid distribution -5epdowmine (c:\\users\\seidm\\miniconda3\\envs\\ddow\\lib\\site-packages)\n",
      "WARNING: Ignoring invalid distribution -6epdowmine (c:\\users\\seidm\\miniconda3\\envs\\ddow\\lib\\site-packages)\n",
      "WARNING: Ignoring invalid distribution -7epdowmine (c:\\users\\seidm\\miniconda3\\envs\\ddow\\lib\\site-packages)\n",
      "WARNING: Ignoring invalid distribution -eepdowmine (c:\\users\\seidm\\miniconda3\\envs\\ddow\\lib\\site-packages)\n"
     ]
    }
   ],
   "source": [
    "!pip uninstall deepdowmine -y\n",
    "!pip install git+https://github.com/dsman1823/deepdowmine.git"
   ]
  },
  {
   "cell_type": "code",
   "execution_count": 1,
   "id": "c5fddce8",
   "metadata": {},
   "outputs": [],
   "source": [
    "import numpy as np\n",
    "import pandas as pd\n",
    "import torch\n",
    "\n",
    "from matplotlib import pyplot as plt\n",
    "from deepdowmine.data import InRAMDataset, RigidDataLoader, prepare_standard_scaler, Scale, SeqRigidDataLoader, WeeklyRigidDataLoader\n",
    "from deepdowmine.losses import MeanReturns, SharpeRatio, MaximumDrawdown, StandardDeviation\n",
    "from deepdowmine.nn import DenseNetFullOpti2, DenseNetMinVar2, RnnNetMinVar2, RnnNetMinVar, DenseNetFullOpti2, RnnNetFullOpti2, ConvNetFullOpti2\n",
    "from deepdowmine.nn import LstmNetMinVar2, LstmNetFullOpti2, RnnNetMinVar3, ConvNetMinVar2, RnnNetFullOpti3\n",
    "from deepdowmine.experiments import Run\n",
    "from deepdowmine.callbacks import EarlyStoppingCallback\n",
    "from deepdowmine.visualize import generate_metrics_table, generate_weights_table, plot_metrics, plot_weight_heatmap\n"
   ]
  },
  {
   "cell_type": "code",
   "execution_count": 7,
   "id": "20ed09e2",
   "metadata": {},
   "outputs": [
    {
     "data": {
      "text/plain": [
       "<All keys matched successfully>"
      ]
     },
     "execution_count": 7,
     "metadata": {},
     "output_type": "execute_result"
    }
   ],
   "source": [
    "np.random.seed(5)\n",
    "\n",
    "time = 2\n",
    "\n",
    "model_name = f'full_opti_{time}.pth'\n",
    "network = RnnNetFullOpti3(5,  0.2, 'diagonal', 1) \n",
    "\n",
    "# model_name = f'min_var_{time}.pth'\n",
    "# network = RnnNetMinVar3(5,  .15, None, 1)\n",
    "\n",
    "state_dict = torch.load(model_name)\n",
    "network.load_state_dict(state_dict)"
   ]
  },
  {
   "cell_type": "code",
   "execution_count": 30,
   "id": "df1032b5",
   "metadata": {},
   "outputs": [
    {
     "name": "stdout",
     "output_type": "stream",
     "text": [
      "[*********************100%%**********************]  1 of 1 completed\n",
      "The closing price of SPY on 2018-12-13 was $265.37\n"
     ]
    }
   ],
   "source": [
    "import yfinance as yf\n",
    "\n",
    "# Set the ticker symbol and the date you are interested in\n",
    "ticker = 'SPY'\n",
    "date = '2018-12-13'\n",
    "end = '2018-12-16'\n",
    "\n",
    "# Fetch the data\n",
    "data = yf.download(ticker, start=date, end=end)\n",
    "\n",
    "# Display the closing price\n",
    "closing_price = data['Close'].iloc[0]\n",
    "print(f\"The closing price of SPY on {date} was ${closing_price:.2f}\")"
   ]
  },
  {
   "cell_type": "code",
   "execution_count": null,
   "id": "99c87117",
   "metadata": {},
   "outputs": [],
   "source": [
    "#266.51"
   ]
  }
 ],
 "metadata": {
  "kernelspec": {
   "display_name": "Python 3 (ipykernel)",
   "language": "python",
   "name": "python3"
  },
  "language_info": {
   "codemirror_mode": {
    "name": "ipython",
    "version": 3
   },
   "file_extension": ".py",
   "mimetype": "text/x-python",
   "name": "python",
   "nbconvert_exporter": "python",
   "pygments_lexer": "ipython3",
   "version": "3.8.17"
  }
 },
 "nbformat": 4,
 "nbformat_minor": 5
}
