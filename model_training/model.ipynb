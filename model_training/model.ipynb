{
 "cells": [
  {
   "cell_type": "markdown",
   "metadata": {
    "id": "BlApRJuPfrxq"
   },
   "source": [
    "# Imports"
   ]
  },
  {
   "cell_type": "code",
   "execution_count": null,
   "metadata": {
    "colab": {
     "base_uri": "https://localhost:8080/"
    },
    "id": "EvaaDKBoMaO8",
    "outputId": "11c8de58-a8b7-4df1-ffd1-22e6b823df02"
   },
   "outputs": [],
   "source": [
    "!pip uninstall deepdowmine -y\n",
    "!pip install git+https://github.com/dsman1823/deepdowmine.git"
   ]
  },
  {
   "cell_type": "code",
   "execution_count": 1,
   "metadata": {
    "id": "tfN21pcMhatf"
   },
   "outputs": [],
   "source": [
    "import numpy as np\n",
    "import pandas as pd\n",
    "import torch\n",
    "\n",
    "from matplotlib import pyplot as plt\n",
    "from deepdowmine.data import InRAMDataset, RigidDataLoader, prepare_standard_scaler, Scale, SeqRigidDataLoader, WeeklyRigidDataLoader\n",
    "from deepdowmine.losses import MeanReturns, SharpeRatio, MaximumDrawdown, StandardDeviation\n",
    "from deepdowmine.nn import DenseNetFullOpti2, DenseNetMinVar2, RnnNetMinVar2, RnnNetMinVar, DenseNetFullOpti2, RnnNetFullOpti2, ConvNetFullOpti2\n",
    "from deepdowmine.nn import LstmNetMinVar2, LstmNetFullOpti2, RnnNetMinVar3, RnnNetFullOpti3\n",
    "from deepdowmine.experiments import Run\n",
    "from deepdowmine.callbacks import EarlyStoppingCallback\n",
    "from deepdowmine.visualize import generate_metrics_table, generate_weights_table, plot_metrics, plot_weight_heatmap\n",
    "\n",
    "\n"
   ]
  },
  {
   "cell_type": "markdown",
   "metadata": {
    "id": "VNqxm-tdcv3Y"
   },
   "source": [
    "# Setup"
   ]
  },
  {
   "cell_type": "code",
   "execution_count": 2,
   "metadata": {
    "id": "x-bSnRLxonV_"
   },
   "outputs": [],
   "source": [
    "np.random.seed(5)\n",
    "returns = pd.read_csv('old_train_data_0.csv', index_col = 0).to_numpy()[1:]"
   ]
  },
  {
   "cell_type": "code",
   "execution_count": 3,
   "metadata": {
    "colab": {
     "base_uri": "https://localhost:8080/"
    },
    "id": "xr7u61ueYxcB",
    "outputId": "e1e9183a-1971-46b5-ab77-f79f8ba6bb65"
   },
   "outputs": [
    {
     "data": {
      "text/plain": [
       "2757"
      ]
     },
     "execution_count": 3,
     "metadata": {},
     "output_type": "execute_result"
    }
   ],
   "source": [
    "len(returns)"
   ]
  },
  {
   "cell_type": "code",
   "execution_count": 4,
   "metadata": {
    "id": "5G-3j5QtgEH6"
   },
   "outputs": [],
   "source": [
    "n_timesteps, n_assets = len(returns), 5#11**4, 450\n",
    "\n",
    "#returns = np.random.normal(0, .2, size = (n_timesteps, n_assets))\n",
    "\n",
    "lookback, gap, horizon = 50, 0, 5# 40, 0, 5   loss=-0.09645, test_loss=-0.08003]\n",
    "n_samples = n_timesteps - lookback - horizon - gap + 1\n",
    "\n",
    "indices = np.arange(n_samples)\n",
    "split_ix = int(n_samples * 0.8)\n",
    "indices_train = indices[:split_ix]\n",
    "indices_test = indices[split_ix:]\n",
    "\n",
    "\n",
    "# print('Train range: {}:{}\\nTest range: {}:{}'.format(indices_train[0], indices_train[-1],\n",
    "#                                                      indices_test[0], indices_test[-1]))"
   ]
  },
  {
   "cell_type": "code",
   "execution_count": 5,
   "metadata": {
    "id": "3WWSpDn2IuhS"
   },
   "outputs": [],
   "source": [
    "def transform_returns_to_Xy_tensors(returns, lookback, n_timesteps, horizon, gap):\n",
    "    X_list, y_list = [], []\n",
    "\n",
    "    for i in range(lookback, n_timesteps - horizon - gap + 1):\n",
    "        X_list.append(returns[i - lookback: i, :])\n",
    "        y_list.append(returns[i + gap: i + gap + horizon, :])\n",
    "\n",
    "    X = np.stack(X_list, axis=0)[:, None, ...]\n",
    "    y = np.stack(y_list, axis=0)[:, None, ...]\n",
    "\n",
    "    return X, y"
   ]
  },
  {
   "cell_type": "code",
   "execution_count": 6,
   "metadata": {
    "id": "lw1e3TQXgHI5"
   },
   "outputs": [],
   "source": [
    "\n",
    "#returns = np.random.normal(0, .2, size = (n_timesteps, n_assets))\n",
    "\n",
    "# X_list, y_list = [], []\n",
    "\n",
    "# for i in range(lookback, n_timesteps - horizon - gap + 1):\n",
    "#     X_list.append(returns[i - lookback: i, :])\n",
    "#     y_list.append(returns[i + gap: i + gap + horizon, :])\n",
    "\n",
    "# X = np.stack(X_list, axis=0)[:, None, ...]\n",
    "# y = np.stack(y_list, axis=0)[:, None, ...]\n",
    "X, y = transform_returns_to_Xy_tensors(returns, lookback, n_timesteps, horizon, gap)\n",
    "#print('X: {}, y: {}'.format(X.shape, y.shape))\n",
    "\n",
    "# means, stds = prepare_standard_scaler(X, indices=indices_train)\n",
    "# print('mean: {}, std: {}'.format(means, stds))\n",
    "\n",
    "dataset = InRAMDataset(X, y)\n",
    "#, transform=Scale(means, stds))\n",
    "\n",
    "torch.manual_seed(32)\n",
    "\n",
    "dataloader_train = RigidDataLoader(dataset,\n",
    "                                   indices=indices_train,\n",
    "                                   batch_size=32)\n",
    "\n",
    "dataloader_test = SeqRigidDataLoader(dataset,\n",
    "                                  indices=indices_test,\n",
    "                                  batch_size=32)\n",
    "\n",
    "dataloader_train_for_retrain = RigidDataLoader(dataset,\n",
    "                                  indices=indices_test,\n",
    "                                  batch_size=32)\n",
    "dataloader_test_for_retrain = SeqRigidDataLoader(dataset,\n",
    "                                   indices=indices_train,\n",
    "                                   batch_size=32)\n"
   ]
  },
  {
   "cell_type": "markdown",
   "metadata": {
    "id": "Ka29tJgfco0Z"
   },
   "source": [
    "# Network setup"
   ]
  },
  {
   "cell_type": "code",
   "execution_count": 7,
   "metadata": {
    "colab": {
     "base_uri": "https://localhost:8080/"
    },
    "id": "DOuNfpMXgcKN",
    "outputId": "c116905c-4f66-43bc-e8e2-fd7c37945835"
   },
   "outputs": [
    {
     "name": "stdout",
     "output_type": "stream",
     "text": [
      "DenseNetMinVar2(\n",
      "  (norm_layer): BatchNorm1d(250, eps=1e-05, momentum=0.1, affine=True, track_running_stats=True)\n",
      "  (dropout_layer): Dropout(p=0.2, inplace=False)\n",
      "  (linear_for_cov): Linear(in_features=250, out_features=750, bias=True)\n",
      "  (covariance_layer): CovarianceMatrix()\n",
      "  (portfolio_opt_layer): ThesisMarkowitzMinVar(\n",
      "    (cvxpylayer): CvxpyLayer()\n",
      "  )\n",
      ")\n"
     ]
    }
   ],
   "source": [
    "network = DenseNetMinVar2(1, 50, 5,  max_weight=1, p=0.2)\n",
    "print(network)\n",
    "network = network.train()\n",
    "loss = SharpeRatio()\n",
    "run = Run(network,\n",
    "          loss,\n",
    "          dataloader_train,\n",
    "          val_dataloaders={\n",
    "              'test': dataloader_test,\n",
    "              'train': dataloader_train\n",
    "              },\n",
    "          optimizer=torch.optim.Adam(network.parameters(), amsgrad=True, lr=0.001),\n",
    "          callbacks=[EarlyStoppingCallback(metric_name='loss',\n",
    "                                           dataloader_name='test',\n",
    "                                           patience=5)]) #15 # patience controlls amount offffffffffffffffffffffffffffffffffffffffffffffffffffffffffffffffffrfvd"
   ]
  },
  {
   "cell_type": "markdown",
   "metadata": {
    "id": "sL_SktboD7l8"
   },
   "source": [
    "# Train start"
   ]
  },
  {
   "cell_type": "code",
   "execution_count": 8,
   "metadata": {
    "colab": {
     "base_uri": "https://localhost:8080/"
    },
    "id": "wo4B68DGhMjY",
    "outputId": "83c2c8a2-3768-4416-8c7b-d1c62725dc21"
   },
   "outputs": [
    {
     "name": "stderr",
     "output_type": "stream",
     "text": [
      "Epoch 0:   0%|                                                                                  | 0/68 [00:00<?, ?it/s]C:\\Users\\seidm\\miniconda3\\envs\\ddow\\lib\\site-packages\\threadpoolctl.py:1010: RuntimeWarning: \n",
      "Found Intel OpenMP ('libiomp') and LLVM OpenMP ('libomp') loaded at\n",
      "the same time. Both libraries are known to be incompatible and this\n",
      "can cause random crashes or deadlocks on Linux when loaded in the\n",
      "same Python program.\n",
      "Using threadpoolctl may cause crashes or deadlocks. For more\n",
      "information and possible workarounds, please see\n",
      "    https://github.com/joblib/threadpoolctl/blob/master/multiple_openmp.md\n",
      "\n",
      "  warnings.warn(msg, RuntimeWarning)\n",
      "Epoch 0: 100%|█████████████████| 68/68 [00:50<00:00,  1.35it/s, loss=-0.07489, test_loss=-0.08515, train_loss=-0.14565]\n",
      "Epoch 1:   0%|                                                                                  | 0/68 [00:00<?, ?it/s]C:\\Users\\seidm\\miniconda3\\envs\\ddow\\lib\\site-packages\\threadpoolctl.py:1010: RuntimeWarning: \n",
      "Found Intel OpenMP ('libiomp') and LLVM OpenMP ('libomp') loaded at\n",
      "the same time. Both libraries are known to be incompatible and this\n",
      "can cause random crashes or deadlocks on Linux when loaded in the\n",
      "same Python program.\n",
      "Using threadpoolctl may cause crashes or deadlocks. For more\n",
      "information and possible workarounds, please see\n",
      "    https://github.com/joblib/threadpoolctl/blob/master/multiple_openmp.md\n",
      "\n",
      "  warnings.warn(msg, RuntimeWarning)\n",
      "Epoch 1: 100%|█████████████████| 68/68 [00:53<00:00,  1.26it/s, loss=-0.13945, test_loss=-0.15582, train_loss=-0.24222]\n",
      "Epoch 2:   0%|                                                                                  | 0/68 [00:00<?, ?it/s]C:\\Users\\seidm\\miniconda3\\envs\\ddow\\lib\\site-packages\\threadpoolctl.py:1010: RuntimeWarning: \n",
      "Found Intel OpenMP ('libiomp') and LLVM OpenMP ('libomp') loaded at\n",
      "the same time. Both libraries are known to be incompatible and this\n",
      "can cause random crashes or deadlocks on Linux when loaded in the\n",
      "same Python program.\n",
      "Using threadpoolctl may cause crashes or deadlocks. For more\n",
      "information and possible workarounds, please see\n",
      "    https://github.com/joblib/threadpoolctl/blob/master/multiple_openmp.md\n",
      "\n",
      "  warnings.warn(msg, RuntimeWarning)\n",
      "Epoch 2: 100%|█████████████████| 68/68 [00:50<00:00,  1.36it/s, loss=-0.20042, test_loss=-0.21313, train_loss=-0.30034]\n",
      "Epoch 3:   0%|                                                                                  | 0/68 [00:00<?, ?it/s]C:\\Users\\seidm\\miniconda3\\envs\\ddow\\lib\\site-packages\\threadpoolctl.py:1010: RuntimeWarning: \n",
      "Found Intel OpenMP ('libiomp') and LLVM OpenMP ('libomp') loaded at\n",
      "the same time. Both libraries are known to be incompatible and this\n",
      "can cause random crashes or deadlocks on Linux when loaded in the\n",
      "same Python program.\n",
      "Using threadpoolctl may cause crashes or deadlocks. For more\n",
      "information and possible workarounds, please see\n",
      "    https://github.com/joblib/threadpoolctl/blob/master/multiple_openmp.md\n",
      "\n",
      "  warnings.warn(msg, RuntimeWarning)\n",
      "Epoch 3: 100%|█████████████████| 68/68 [00:49<00:00,  1.36it/s, loss=-0.24616, test_loss=-0.26664, train_loss=-0.35805]\n",
      "Epoch 4:   0%|                                                                                  | 0/68 [00:00<?, ?it/s]C:\\Users\\seidm\\miniconda3\\envs\\ddow\\lib\\site-packages\\threadpoolctl.py:1010: RuntimeWarning: \n",
      "Found Intel OpenMP ('libiomp') and LLVM OpenMP ('libomp') loaded at\n",
      "the same time. Both libraries are known to be incompatible and this\n",
      "can cause random crashes or deadlocks on Linux when loaded in the\n",
      "same Python program.\n",
      "Using threadpoolctl may cause crashes or deadlocks. For more\n",
      "information and possible workarounds, please see\n",
      "    https://github.com/joblib/threadpoolctl/blob/master/multiple_openmp.md\n",
      "\n",
      "  warnings.warn(msg, RuntimeWarning)\n",
      "Epoch 4: 100%|█████████████████| 68/68 [00:51<00:00,  1.32it/s, loss=-0.28255, test_loss=-0.30896, train_loss=-0.41924]\n",
      "Epoch 5:   0%|                                                                                  | 0/68 [00:00<?, ?it/s]C:\\Users\\seidm\\miniconda3\\envs\\ddow\\lib\\site-packages\\threadpoolctl.py:1010: RuntimeWarning: \n",
      "Found Intel OpenMP ('libiomp') and LLVM OpenMP ('libomp') loaded at\n",
      "the same time. Both libraries are known to be incompatible and this\n",
      "can cause random crashes or deadlocks on Linux when loaded in the\n",
      "same Python program.\n",
      "Using threadpoolctl may cause crashes or deadlocks. For more\n",
      "information and possible workarounds, please see\n",
      "    https://github.com/joblib/threadpoolctl/blob/master/multiple_openmp.md\n",
      "\n",
      "  warnings.warn(msg, RuntimeWarning)\n",
      "Epoch 5: 100%|█████████████████| 68/68 [01:00<00:00,  1.13it/s, loss=-0.32516, test_loss=-0.32736, train_loss=-0.43691]\n",
      "Epoch 6:   0%|                                                                                  | 0/68 [00:00<?, ?it/s]C:\\Users\\seidm\\miniconda3\\envs\\ddow\\lib\\site-packages\\threadpoolctl.py:1010: RuntimeWarning: \n",
      "Found Intel OpenMP ('libiomp') and LLVM OpenMP ('libomp') loaded at\n",
      "the same time. Both libraries are known to be incompatible and this\n",
      "can cause random crashes or deadlocks on Linux when loaded in the\n",
      "same Python program.\n",
      "Using threadpoolctl may cause crashes or deadlocks. For more\n",
      "information and possible workarounds, please see\n",
      "    https://github.com/joblib/threadpoolctl/blob/master/multiple_openmp.md\n",
      "\n",
      "  warnings.warn(msg, RuntimeWarning)\n",
      "Epoch 6: 100%|█████████████████| 68/68 [00:52<00:00,  1.29it/s, loss=-0.35400, test_loss=-0.34888, train_loss=-0.49143]\n",
      "Epoch 7:   0%|                                                                                  | 0/68 [00:00<?, ?it/s]C:\\Users\\seidm\\miniconda3\\envs\\ddow\\lib\\site-packages\\threadpoolctl.py:1010: RuntimeWarning: \n",
      "Found Intel OpenMP ('libiomp') and LLVM OpenMP ('libomp') loaded at\n",
      "the same time. Both libraries are known to be incompatible and this\n",
      "can cause random crashes or deadlocks on Linux when loaded in the\n",
      "same Python program.\n",
      "Using threadpoolctl may cause crashes or deadlocks. For more\n",
      "information and possible workarounds, please see\n",
      "    https://github.com/joblib/threadpoolctl/blob/master/multiple_openmp.md\n",
      "\n",
      "  warnings.warn(msg, RuntimeWarning)\n",
      "Epoch 7: 100%|█████████████████| 68/68 [00:54<00:00,  1.24it/s, loss=-0.38489, test_loss=-0.38472, train_loss=-0.50889]\n",
      "Epoch 8:   0%|                                                                                  | 0/68 [00:00<?, ?it/s]C:\\Users\\seidm\\miniconda3\\envs\\ddow\\lib\\site-packages\\threadpoolctl.py:1010: RuntimeWarning: \n",
      "Found Intel OpenMP ('libiomp') and LLVM OpenMP ('libomp') loaded at\n",
      "the same time. Both libraries are known to be incompatible and this\n",
      "can cause random crashes or deadlocks on Linux when loaded in the\n",
      "same Python program.\n",
      "Using threadpoolctl may cause crashes or deadlocks. For more\n",
      "information and possible workarounds, please see\n",
      "    https://github.com/joblib/threadpoolctl/blob/master/multiple_openmp.md\n",
      "\n",
      "  warnings.warn(msg, RuntimeWarning)\n",
      "Epoch 8: 100%|█████████████████| 68/68 [00:58<00:00,  1.15it/s, loss=-0.40765, test_loss=-0.39630, train_loss=-0.53798]\n",
      "Epoch 9:   0%|                                                                                  | 0/68 [00:00<?, ?it/s]C:\\Users\\seidm\\miniconda3\\envs\\ddow\\lib\\site-packages\\threadpoolctl.py:1010: RuntimeWarning: \n",
      "Found Intel OpenMP ('libiomp') and LLVM OpenMP ('libomp') loaded at\n",
      "the same time. Both libraries are known to be incompatible and this\n",
      "can cause random crashes or deadlocks on Linux when loaded in the\n",
      "same Python program.\n",
      "Using threadpoolctl may cause crashes or deadlocks. For more\n",
      "information and possible workarounds, please see\n",
      "    https://github.com/joblib/threadpoolctl/blob/master/multiple_openmp.md\n",
      "\n",
      "  warnings.warn(msg, RuntimeWarning)\n",
      "Epoch 9: 100%|█████████████████| 68/68 [00:58<00:00,  1.17it/s, loss=-0.39970, test_loss=-0.40862, train_loss=-0.55156]\n",
      "Epoch 10:   0%|                                                                                 | 0/68 [00:00<?, ?it/s]C:\\Users\\seidm\\miniconda3\\envs\\ddow\\lib\\site-packages\\threadpoolctl.py:1010: RuntimeWarning: \n",
      "Found Intel OpenMP ('libiomp') and LLVM OpenMP ('libomp') loaded at\n",
      "the same time. Both libraries are known to be incompatible and this\n",
      "can cause random crashes or deadlocks on Linux when loaded in the\n",
      "same Python program.\n",
      "Using threadpoolctl may cause crashes or deadlocks. For more\n",
      "information and possible workarounds, please see\n",
      "    https://github.com/joblib/threadpoolctl/blob/master/multiple_openmp.md\n",
      "\n",
      "  warnings.warn(msg, RuntimeWarning)\n"
     ]
    },
    {
     "name": "stderr",
     "output_type": "stream",
     "text": [
      "Epoch 10: 100%|████████████████| 68/68 [01:02<00:00,  1.08it/s, loss=-0.43183, test_loss=-0.43727, train_loss=-0.56842]\n",
      "Epoch 11:   0%|                                                                                 | 0/68 [00:00<?, ?it/s]C:\\Users\\seidm\\miniconda3\\envs\\ddow\\lib\\site-packages\\threadpoolctl.py:1010: RuntimeWarning: \n",
      "Found Intel OpenMP ('libiomp') and LLVM OpenMP ('libomp') loaded at\n",
      "the same time. Both libraries are known to be incompatible and this\n",
      "can cause random crashes or deadlocks on Linux when loaded in the\n",
      "same Python program.\n",
      "Using threadpoolctl may cause crashes or deadlocks. For more\n",
      "information and possible workarounds, please see\n",
      "    https://github.com/joblib/threadpoolctl/blob/master/multiple_openmp.md\n",
      "\n",
      "  warnings.warn(msg, RuntimeWarning)\n",
      "Epoch 11: 100%|████████████████| 68/68 [00:58<00:00,  1.17it/s, loss=-0.45627, test_loss=-0.45733, train_loss=-0.60676]\n",
      "Epoch 12:   0%|                                                                                 | 0/68 [00:00<?, ?it/s]C:\\Users\\seidm\\miniconda3\\envs\\ddow\\lib\\site-packages\\threadpoolctl.py:1010: RuntimeWarning: \n",
      "Found Intel OpenMP ('libiomp') and LLVM OpenMP ('libomp') loaded at\n",
      "the same time. Both libraries are known to be incompatible and this\n",
      "can cause random crashes or deadlocks on Linux when loaded in the\n",
      "same Python program.\n",
      "Using threadpoolctl may cause crashes or deadlocks. For more\n",
      "information and possible workarounds, please see\n",
      "    https://github.com/joblib/threadpoolctl/blob/master/multiple_openmp.md\n",
      "\n",
      "  warnings.warn(msg, RuntimeWarning)\n",
      "Epoch 12: 100%|████████████████| 68/68 [00:55<00:00,  1.23it/s, loss=-0.48568, test_loss=-0.46861, train_loss=-0.62038]\n",
      "Epoch 13:   0%|                                                                                 | 0/68 [00:00<?, ?it/s]C:\\Users\\seidm\\miniconda3\\envs\\ddow\\lib\\site-packages\\threadpoolctl.py:1010: RuntimeWarning: \n",
      "Found Intel OpenMP ('libiomp') and LLVM OpenMP ('libomp') loaded at\n",
      "the same time. Both libraries are known to be incompatible and this\n",
      "can cause random crashes or deadlocks on Linux when loaded in the\n",
      "same Python program.\n",
      "Using threadpoolctl may cause crashes or deadlocks. For more\n",
      "information and possible workarounds, please see\n",
      "    https://github.com/joblib/threadpoolctl/blob/master/multiple_openmp.md\n",
      "\n",
      "  warnings.warn(msg, RuntimeWarning)\n",
      "Epoch 13: 100%|████████████████| 68/68 [01:13<00:00,  1.08s/it, loss=-0.49531, test_loss=-0.48849, train_loss=-0.64151]\n",
      "Epoch 14:   0%|                                                                                 | 0/68 [00:00<?, ?it/s]C:\\Users\\seidm\\miniconda3\\envs\\ddow\\lib\\site-packages\\threadpoolctl.py:1010: RuntimeWarning: \n",
      "Found Intel OpenMP ('libiomp') and LLVM OpenMP ('libomp') loaded at\n",
      "the same time. Both libraries are known to be incompatible and this\n",
      "can cause random crashes or deadlocks on Linux when loaded in the\n",
      "same Python program.\n",
      "Using threadpoolctl may cause crashes or deadlocks. For more\n",
      "information and possible workarounds, please see\n",
      "    https://github.com/joblib/threadpoolctl/blob/master/multiple_openmp.md\n",
      "\n",
      "  warnings.warn(msg, RuntimeWarning)\n",
      "Epoch 14: 100%|████████████████| 68/68 [01:03<00:00,  1.07it/s, loss=-0.50686, test_loss=-0.49107, train_loss=-0.64503]\n",
      "Epoch 15:   0%|                                                                                 | 0/68 [00:00<?, ?it/s]C:\\Users\\seidm\\miniconda3\\envs\\ddow\\lib\\site-packages\\threadpoolctl.py:1010: RuntimeWarning: \n",
      "Found Intel OpenMP ('libiomp') and LLVM OpenMP ('libomp') loaded at\n",
      "the same time. Both libraries are known to be incompatible and this\n",
      "can cause random crashes or deadlocks on Linux when loaded in the\n",
      "same Python program.\n",
      "Using threadpoolctl may cause crashes or deadlocks. For more\n",
      "information and possible workarounds, please see\n",
      "    https://github.com/joblib/threadpoolctl/blob/master/multiple_openmp.md\n",
      "\n",
      "  warnings.warn(msg, RuntimeWarning)\n",
      "Epoch 15: 100%|████████████████| 68/68 [01:02<00:00,  1.10it/s, loss=-0.52010, test_loss=-0.51293, train_loss=-0.66860]\n",
      "Epoch 16:   0%|                                                                                 | 0/68 [00:00<?, ?it/s]C:\\Users\\seidm\\miniconda3\\envs\\ddow\\lib\\site-packages\\threadpoolctl.py:1010: RuntimeWarning: \n",
      "Found Intel OpenMP ('libiomp') and LLVM OpenMP ('libomp') loaded at\n",
      "the same time. Both libraries are known to be incompatible and this\n",
      "can cause random crashes or deadlocks on Linux when loaded in the\n",
      "same Python program.\n",
      "Using threadpoolctl may cause crashes or deadlocks. For more\n",
      "information and possible workarounds, please see\n",
      "    https://github.com/joblib/threadpoolctl/blob/master/multiple_openmp.md\n",
      "\n",
      "  warnings.warn(msg, RuntimeWarning)\n",
      "Epoch 16: 100%|████████████████| 68/68 [01:00<00:00,  1.13it/s, loss=-0.53034, test_loss=-0.50132, train_loss=-0.68830]\n",
      "Epoch 17:   0%|                                                                                 | 0/68 [00:00<?, ?it/s]C:\\Users\\seidm\\miniconda3\\envs\\ddow\\lib\\site-packages\\threadpoolctl.py:1010: RuntimeWarning: \n",
      "Found Intel OpenMP ('libiomp') and LLVM OpenMP ('libomp') loaded at\n",
      "the same time. Both libraries are known to be incompatible and this\n",
      "can cause random crashes or deadlocks on Linux when loaded in the\n",
      "same Python program.\n",
      "Using threadpoolctl may cause crashes or deadlocks. For more\n",
      "information and possible workarounds, please see\n",
      "    https://github.com/joblib/threadpoolctl/blob/master/multiple_openmp.md\n",
      "\n",
      "  warnings.warn(msg, RuntimeWarning)\n",
      "Epoch 17: 100%|████████████████| 68/68 [01:00<00:00,  1.13it/s, loss=-0.54360, test_loss=-0.52102, train_loss=-0.70352]\n",
      "Epoch 18:   0%|                                                                                 | 0/68 [00:00<?, ?it/s]C:\\Users\\seidm\\miniconda3\\envs\\ddow\\lib\\site-packages\\threadpoolctl.py:1010: RuntimeWarning: \n",
      "Found Intel OpenMP ('libiomp') and LLVM OpenMP ('libomp') loaded at\n",
      "the same time. Both libraries are known to be incompatible and this\n",
      "can cause random crashes or deadlocks on Linux when loaded in the\n",
      "same Python program.\n",
      "Using threadpoolctl may cause crashes or deadlocks. For more\n",
      "information and possible workarounds, please see\n",
      "    https://github.com/joblib/threadpoolctl/blob/master/multiple_openmp.md\n",
      "\n",
      "  warnings.warn(msg, RuntimeWarning)\n",
      "Epoch 18: 100%|████████████████| 68/68 [01:03<00:00,  1.06it/s, loss=-0.56409, test_loss=-0.51592, train_loss=-0.70403]\n",
      "Epoch 19:   0%|                                                                                 | 0/68 [00:00<?, ?it/s]C:\\Users\\seidm\\miniconda3\\envs\\ddow\\lib\\site-packages\\threadpoolctl.py:1010: RuntimeWarning: \n",
      "Found Intel OpenMP ('libiomp') and LLVM OpenMP ('libomp') loaded at\n",
      "the same time. Both libraries are known to be incompatible and this\n",
      "can cause random crashes or deadlocks on Linux when loaded in the\n",
      "same Python program.\n",
      "Using threadpoolctl may cause crashes or deadlocks. For more\n",
      "information and possible workarounds, please see\n",
      "    https://github.com/joblib/threadpoolctl/blob/master/multiple_openmp.md\n",
      "\n",
      "  warnings.warn(msg, RuntimeWarning)\n",
      "Epoch 19: 100%|████████████████| 68/68 [01:00<00:00,  1.12it/s, loss=-0.57723, test_loss=-0.53537, train_loss=-0.72576]\n",
      "Epoch 20:   0%|                                                                                 | 0/68 [00:00<?, ?it/s]C:\\Users\\seidm\\miniconda3\\envs\\ddow\\lib\\site-packages\\threadpoolctl.py:1010: RuntimeWarning: \n",
      "Found Intel OpenMP ('libiomp') and LLVM OpenMP ('libomp') loaded at\n",
      "the same time. Both libraries are known to be incompatible and this\n",
      "can cause random crashes or deadlocks on Linux when loaded in the\n",
      "same Python program.\n",
      "Using threadpoolctl may cause crashes or deadlocks. For more\n",
      "information and possible workarounds, please see\n",
      "    https://github.com/joblib/threadpoolctl/blob/master/multiple_openmp.md\n",
      "\n",
      "  warnings.warn(msg, RuntimeWarning)\n",
      "Epoch 20: 100%|████████████████| 68/68 [01:03<00:00,  1.07it/s, loss=-0.58516, test_loss=-0.53307, train_loss=-0.70724]\n",
      "Epoch 21:   0%|                                                                                 | 0/68 [00:00<?, ?it/s]C:\\Users\\seidm\\miniconda3\\envs\\ddow\\lib\\site-packages\\threadpoolctl.py:1010: RuntimeWarning: \n",
      "Found Intel OpenMP ('libiomp') and LLVM OpenMP ('libomp') loaded at\n",
      "the same time. Both libraries are known to be incompatible and this\n",
      "can cause random crashes or deadlocks on Linux when loaded in the\n",
      "same Python program.\n",
      "Using threadpoolctl may cause crashes or deadlocks. For more\n",
      "information and possible workarounds, please see\n",
      "    https://github.com/joblib/threadpoolctl/blob/master/multiple_openmp.md\n",
      "\n",
      "  warnings.warn(msg, RuntimeWarning)\n"
     ]
    },
    {
     "name": "stderr",
     "output_type": "stream",
     "text": [
      "Epoch 21: 100%|████████████████| 68/68 [01:06<00:00,  1.03it/s, loss=-0.55190, test_loss=-0.54495, train_loss=-0.72379]\n",
      "Epoch 22:   0%|                                                                                 | 0/68 [00:00<?, ?it/s]C:\\Users\\seidm\\miniconda3\\envs\\ddow\\lib\\site-packages\\threadpoolctl.py:1010: RuntimeWarning: \n",
      "Found Intel OpenMP ('libiomp') and LLVM OpenMP ('libomp') loaded at\n",
      "the same time. Both libraries are known to be incompatible and this\n",
      "can cause random crashes or deadlocks on Linux when loaded in the\n",
      "same Python program.\n",
      "Using threadpoolctl may cause crashes or deadlocks. For more\n",
      "information and possible workarounds, please see\n",
      "    https://github.com/joblib/threadpoolctl/blob/master/multiple_openmp.md\n",
      "\n",
      "  warnings.warn(msg, RuntimeWarning)\n",
      "Epoch 22: 100%|████████████████| 68/68 [00:59<00:00,  1.14it/s, loss=-0.58614, test_loss=-0.54375, train_loss=-0.73952]\n",
      "Epoch 23:   0%|                                                                                 | 0/68 [00:00<?, ?it/s]C:\\Users\\seidm\\miniconda3\\envs\\ddow\\lib\\site-packages\\threadpoolctl.py:1010: RuntimeWarning: \n",
      "Found Intel OpenMP ('libiomp') and LLVM OpenMP ('libomp') loaded at\n",
      "the same time. Both libraries are known to be incompatible and this\n",
      "can cause random crashes or deadlocks on Linux when loaded in the\n",
      "same Python program.\n",
      "Using threadpoolctl may cause crashes or deadlocks. For more\n",
      "information and possible workarounds, please see\n",
      "    https://github.com/joblib/threadpoolctl/blob/master/multiple_openmp.md\n",
      "\n",
      "  warnings.warn(msg, RuntimeWarning)\n",
      "Epoch 23: 100%|████████████████| 68/68 [00:58<00:00,  1.16it/s, loss=-0.60050, test_loss=-0.55248, train_loss=-0.74027]\n",
      "Epoch 24:   0%|                                                                                 | 0/68 [00:00<?, ?it/s]C:\\Users\\seidm\\miniconda3\\envs\\ddow\\lib\\site-packages\\threadpoolctl.py:1010: RuntimeWarning: \n",
      "Found Intel OpenMP ('libiomp') and LLVM OpenMP ('libomp') loaded at\n",
      "the same time. Both libraries are known to be incompatible and this\n",
      "can cause random crashes or deadlocks on Linux when loaded in the\n",
      "same Python program.\n",
      "Using threadpoolctl may cause crashes or deadlocks. For more\n",
      "information and possible workarounds, please see\n",
      "    https://github.com/joblib/threadpoolctl/blob/master/multiple_openmp.md\n",
      "\n",
      "  warnings.warn(msg, RuntimeWarning)\n",
      "Epoch 24: 100%|████████████████| 68/68 [01:01<00:00,  1.11it/s, loss=-0.58857, test_loss=-0.56191, train_loss=-0.76346]\n",
      "Epoch 25:   0%|                                                                                 | 0/68 [00:00<?, ?it/s]C:\\Users\\seidm\\miniconda3\\envs\\ddow\\lib\\site-packages\\threadpoolctl.py:1010: RuntimeWarning: \n",
      "Found Intel OpenMP ('libiomp') and LLVM OpenMP ('libomp') loaded at\n",
      "the same time. Both libraries are known to be incompatible and this\n",
      "can cause random crashes or deadlocks on Linux when loaded in the\n",
      "same Python program.\n",
      "Using threadpoolctl may cause crashes or deadlocks. For more\n",
      "information and possible workarounds, please see\n",
      "    https://github.com/joblib/threadpoolctl/blob/master/multiple_openmp.md\n",
      "\n",
      "  warnings.warn(msg, RuntimeWarning)\n",
      "Epoch 25: 100%|████████████████| 68/68 [00:58<00:00,  1.16it/s, loss=-0.61686, test_loss=-0.56192, train_loss=-0.77716]\n",
      "Epoch 26:   0%|                                                                                 | 0/68 [00:00<?, ?it/s]C:\\Users\\seidm\\miniconda3\\envs\\ddow\\lib\\site-packages\\threadpoolctl.py:1010: RuntimeWarning: \n",
      "Found Intel OpenMP ('libiomp') and LLVM OpenMP ('libomp') loaded at\n",
      "the same time. Both libraries are known to be incompatible and this\n",
      "can cause random crashes or deadlocks on Linux when loaded in the\n",
      "same Python program.\n",
      "Using threadpoolctl may cause crashes or deadlocks. For more\n",
      "information and possible workarounds, please see\n",
      "    https://github.com/joblib/threadpoolctl/blob/master/multiple_openmp.md\n",
      "\n",
      "  warnings.warn(msg, RuntimeWarning)\n",
      "Epoch 26: 100%|████████████████| 68/68 [00:56<00:00,  1.20it/s, loss=-0.62834, test_loss=-0.57586, train_loss=-0.79669]\n",
      "Epoch 27:   0%|                                                                                 | 0/68 [00:00<?, ?it/s]C:\\Users\\seidm\\miniconda3\\envs\\ddow\\lib\\site-packages\\threadpoolctl.py:1010: RuntimeWarning: \n",
      "Found Intel OpenMP ('libiomp') and LLVM OpenMP ('libomp') loaded at\n",
      "the same time. Both libraries are known to be incompatible and this\n",
      "can cause random crashes or deadlocks on Linux when loaded in the\n",
      "same Python program.\n",
      "Using threadpoolctl may cause crashes or deadlocks. For more\n",
      "information and possible workarounds, please see\n",
      "    https://github.com/joblib/threadpoolctl/blob/master/multiple_openmp.md\n",
      "\n",
      "  warnings.warn(msg, RuntimeWarning)\n",
      "Epoch 27: 100%|████████████████| 68/68 [00:53<00:00,  1.26it/s, loss=-0.64287, test_loss=-0.57325, train_loss=-0.78686]\n",
      "Epoch 28:   0%|                                                                                 | 0/68 [00:00<?, ?it/s]C:\\Users\\seidm\\miniconda3\\envs\\ddow\\lib\\site-packages\\threadpoolctl.py:1010: RuntimeWarning: \n",
      "Found Intel OpenMP ('libiomp') and LLVM OpenMP ('libomp') loaded at\n",
      "the same time. Both libraries are known to be incompatible and this\n",
      "can cause random crashes or deadlocks on Linux when loaded in the\n",
      "same Python program.\n",
      "Using threadpoolctl may cause crashes or deadlocks. For more\n",
      "information and possible workarounds, please see\n",
      "    https://github.com/joblib/threadpoolctl/blob/master/multiple_openmp.md\n",
      "\n",
      "  warnings.warn(msg, RuntimeWarning)\n",
      "Epoch 28: 100%|████████████████| 68/68 [01:07<00:00,  1.01it/s, loss=-0.62926, test_loss=-0.59434, train_loss=-0.79964]\n",
      "Epoch 29:   0%|                                                                                 | 0/68 [00:00<?, ?it/s]C:\\Users\\seidm\\miniconda3\\envs\\ddow\\lib\\site-packages\\threadpoolctl.py:1010: RuntimeWarning: \n",
      "Found Intel OpenMP ('libiomp') and LLVM OpenMP ('libomp') loaded at\n",
      "the same time. Both libraries are known to be incompatible and this\n",
      "can cause random crashes or deadlocks on Linux when loaded in the\n",
      "same Python program.\n",
      "Using threadpoolctl may cause crashes or deadlocks. For more\n",
      "information and possible workarounds, please see\n",
      "    https://github.com/joblib/threadpoolctl/blob/master/multiple_openmp.md\n",
      "\n",
      "  warnings.warn(msg, RuntimeWarning)\n",
      "Epoch 29: 100%|████████████████| 68/68 [00:58<00:00,  1.17it/s, loss=-0.64484, test_loss=-0.59504, train_loss=-0.80932]\n",
      "Epoch 30:   0%|                                                                                 | 0/68 [00:00<?, ?it/s]C:\\Users\\seidm\\miniconda3\\envs\\ddow\\lib\\site-packages\\threadpoolctl.py:1010: RuntimeWarning: \n",
      "Found Intel OpenMP ('libiomp') and LLVM OpenMP ('libomp') loaded at\n",
      "the same time. Both libraries are known to be incompatible and this\n",
      "can cause random crashes or deadlocks on Linux when loaded in the\n",
      "same Python program.\n",
      "Using threadpoolctl may cause crashes or deadlocks. For more\n",
      "information and possible workarounds, please see\n",
      "    https://github.com/joblib/threadpoolctl/blob/master/multiple_openmp.md\n",
      "\n",
      "  warnings.warn(msg, RuntimeWarning)\n",
      "Epoch 30: 100%|████████████████| 68/68 [00:56<00:00,  1.20it/s, loss=-0.65662, test_loss=-0.60304, train_loss=-0.82833]\n",
      "Epoch 31:   0%|                                                                                 | 0/68 [00:00<?, ?it/s]C:\\Users\\seidm\\miniconda3\\envs\\ddow\\lib\\site-packages\\threadpoolctl.py:1010: RuntimeWarning: \n",
      "Found Intel OpenMP ('libiomp') and LLVM OpenMP ('libomp') loaded at\n",
      "the same time. Both libraries are known to be incompatible and this\n",
      "can cause random crashes or deadlocks on Linux when loaded in the\n",
      "same Python program.\n",
      "Using threadpoolctl may cause crashes or deadlocks. For more\n",
      "information and possible workarounds, please see\n",
      "    https://github.com/joblib/threadpoolctl/blob/master/multiple_openmp.md\n",
      "\n",
      "  warnings.warn(msg, RuntimeWarning)\n",
      "Epoch 31: 100%|████████████████| 68/68 [00:55<00:00,  1.23it/s, loss=-0.68996, test_loss=-0.58718, train_loss=-0.79887]\n",
      "Epoch 32:   0%|                                                                                 | 0/68 [00:00<?, ?it/s]C:\\Users\\seidm\\miniconda3\\envs\\ddow\\lib\\site-packages\\threadpoolctl.py:1010: RuntimeWarning: \n",
      "Found Intel OpenMP ('libiomp') and LLVM OpenMP ('libomp') loaded at\n",
      "the same time. Both libraries are known to be incompatible and this\n",
      "can cause random crashes or deadlocks on Linux when loaded in the\n",
      "same Python program.\n",
      "Using threadpoolctl may cause crashes or deadlocks. For more\n",
      "information and possible workarounds, please see\n",
      "    https://github.com/joblib/threadpoolctl/blob/master/multiple_openmp.md\n",
      "\n",
      "  warnings.warn(msg, RuntimeWarning)\n"
     ]
    },
    {
     "name": "stderr",
     "output_type": "stream",
     "text": [
      "Epoch 32: 100%|████████████████| 68/68 [00:57<00:00,  1.19it/s, loss=-0.67691, test_loss=-0.58934, train_loss=-0.81971]\n",
      "Epoch 33:   0%|                                                                                 | 0/68 [00:00<?, ?it/s]C:\\Users\\seidm\\miniconda3\\envs\\ddow\\lib\\site-packages\\threadpoolctl.py:1010: RuntimeWarning: \n",
      "Found Intel OpenMP ('libiomp') and LLVM OpenMP ('libomp') loaded at\n",
      "the same time. Both libraries are known to be incompatible and this\n",
      "can cause random crashes or deadlocks on Linux when loaded in the\n",
      "same Python program.\n",
      "Using threadpoolctl may cause crashes or deadlocks. For more\n",
      "information and possible workarounds, please see\n",
      "    https://github.com/joblib/threadpoolctl/blob/master/multiple_openmp.md\n",
      "\n",
      "  warnings.warn(msg, RuntimeWarning)\n",
      "Epoch 33: 100%|████████████████| 68/68 [00:55<00:00,  1.22it/s, loss=-0.68050, test_loss=-0.60301, train_loss=-0.84295]\n",
      "Epoch 34:   0%|                                                                                 | 0/68 [00:00<?, ?it/s]C:\\Users\\seidm\\miniconda3\\envs\\ddow\\lib\\site-packages\\threadpoolctl.py:1010: RuntimeWarning: \n",
      "Found Intel OpenMP ('libiomp') and LLVM OpenMP ('libomp') loaded at\n",
      "the same time. Both libraries are known to be incompatible and this\n",
      "can cause random crashes or deadlocks on Linux when loaded in the\n",
      "same Python program.\n",
      "Using threadpoolctl may cause crashes or deadlocks. For more\n",
      "information and possible workarounds, please see\n",
      "    https://github.com/joblib/threadpoolctl/blob/master/multiple_openmp.md\n",
      "\n",
      "  warnings.warn(msg, RuntimeWarning)\n",
      "Epoch 34: 100%|████████████████| 68/68 [01:45<00:00,  1.55s/it, loss=-0.70100, test_loss=-0.61923, train_loss=-0.84116]\n",
      "Epoch 35:   0%|                                                                                 | 0/68 [00:00<?, ?it/s]C:\\Users\\seidm\\miniconda3\\envs\\ddow\\lib\\site-packages\\threadpoolctl.py:1010: RuntimeWarning: \n",
      "Found Intel OpenMP ('libiomp') and LLVM OpenMP ('libomp') loaded at\n",
      "the same time. Both libraries are known to be incompatible and this\n",
      "can cause random crashes or deadlocks on Linux when loaded in the\n",
      "same Python program.\n",
      "Using threadpoolctl may cause crashes or deadlocks. For more\n",
      "information and possible workarounds, please see\n",
      "    https://github.com/joblib/threadpoolctl/blob/master/multiple_openmp.md\n",
      "\n",
      "  warnings.warn(msg, RuntimeWarning)\n",
      "Epoch 35: 100%|████████████████| 68/68 [00:55<00:00,  1.23it/s, loss=-0.69221, test_loss=-0.58987, train_loss=-0.83782]\n",
      "Epoch 36:   0%|                                                                                 | 0/68 [00:00<?, ?it/s]C:\\Users\\seidm\\miniconda3\\envs\\ddow\\lib\\site-packages\\threadpoolctl.py:1010: RuntimeWarning: \n",
      "Found Intel OpenMP ('libiomp') and LLVM OpenMP ('libomp') loaded at\n",
      "the same time. Both libraries are known to be incompatible and this\n",
      "can cause random crashes or deadlocks on Linux when loaded in the\n",
      "same Python program.\n",
      "Using threadpoolctl may cause crashes or deadlocks. For more\n",
      "information and possible workarounds, please see\n",
      "    https://github.com/joblib/threadpoolctl/blob/master/multiple_openmp.md\n",
      "\n",
      "  warnings.warn(msg, RuntimeWarning)\n",
      "Epoch 36: 100%|████████████████| 68/68 [01:00<00:00,  1.13it/s, loss=-0.71893, test_loss=-0.58020, train_loss=-0.83090]\n",
      "Epoch 37:   0%|                                                                                 | 0/68 [00:00<?, ?it/s]C:\\Users\\seidm\\miniconda3\\envs\\ddow\\lib\\site-packages\\threadpoolctl.py:1010: RuntimeWarning: \n",
      "Found Intel OpenMP ('libiomp') and LLVM OpenMP ('libomp') loaded at\n",
      "the same time. Both libraries are known to be incompatible and this\n",
      "can cause random crashes or deadlocks on Linux when loaded in the\n",
      "same Python program.\n",
      "Using threadpoolctl may cause crashes or deadlocks. For more\n",
      "information and possible workarounds, please see\n",
      "    https://github.com/joblib/threadpoolctl/blob/master/multiple_openmp.md\n",
      "\n",
      "  warnings.warn(msg, RuntimeWarning)\n",
      "Epoch 37: 100%|████████████████| 68/68 [00:54<00:00,  1.24it/s, loss=-0.67405, test_loss=-0.61459, train_loss=-0.87609]\n",
      "Epoch 38:   0%|                                                                                 | 0/68 [00:00<?, ?it/s]C:\\Users\\seidm\\miniconda3\\envs\\ddow\\lib\\site-packages\\threadpoolctl.py:1010: RuntimeWarning: \n",
      "Found Intel OpenMP ('libiomp') and LLVM OpenMP ('libomp') loaded at\n",
      "the same time. Both libraries are known to be incompatible and this\n",
      "can cause random crashes or deadlocks on Linux when loaded in the\n",
      "same Python program.\n",
      "Using threadpoolctl may cause crashes or deadlocks. For more\n",
      "information and possible workarounds, please see\n",
      "    https://github.com/joblib/threadpoolctl/blob/master/multiple_openmp.md\n",
      "\n",
      "  warnings.warn(msg, RuntimeWarning)\n",
      "Epoch 38: 100%|████████████████| 68/68 [00:57<00:00,  1.18it/s, loss=-0.72207, test_loss=-0.61473, train_loss=-0.85709]\n",
      "Epoch 39:   0%|                                                                                 | 0/68 [00:00<?, ?it/s]C:\\Users\\seidm\\miniconda3\\envs\\ddow\\lib\\site-packages\\threadpoolctl.py:1010: RuntimeWarning: \n",
      "Found Intel OpenMP ('libiomp') and LLVM OpenMP ('libomp') loaded at\n",
      "the same time. Both libraries are known to be incompatible and this\n",
      "can cause random crashes or deadlocks on Linux when loaded in the\n",
      "same Python program.\n",
      "Using threadpoolctl may cause crashes or deadlocks. For more\n",
      "information and possible workarounds, please see\n",
      "    https://github.com/joblib/threadpoolctl/blob/master/multiple_openmp.md\n",
      "\n",
      "  warnings.warn(msg, RuntimeWarning)\n",
      "Epoch 39: 100%|████████████████| 68/68 [00:51<00:00,  1.31it/s, loss=-0.71048, test_loss=-0.60217, train_loss=-0.87091]\n"
     ]
    },
    {
     "name": "stdout",
     "output_type": "stream",
     "text": [
      "Training interrupted\n",
      "Training stopped early because there was no improvement in test_loss for 5 epochs\n"
     ]
    }
   ],
   "source": [
    "history = run.launch(200)\n",
    "torch.save(network.state_dict(), 'network.pth')"
   ]
  },
  {
   "cell_type": "code",
   "execution_count": 9,
   "metadata": {},
   "outputs": [
    {
     "data": {
      "text/plain": [
       "DenseNetMinVar2(\n",
       "  (norm_layer): BatchNorm1d(250, eps=1e-05, momentum=0.1, affine=True, track_running_stats=True)\n",
       "  (dropout_layer): Dropout(p=0.2, inplace=False)\n",
       "  (linear_for_cov): Linear(in_features=250, out_features=750, bias=True)\n",
       "  (covariance_layer): CovarianceMatrix()\n",
       "  (portfolio_opt_layer): ThesisMarkowitzMinVar(\n",
       "    (cvxpylayer): CvxpyLayer()\n",
       "  )\n",
       ")"
      ]
     },
     "execution_count": 9,
     "metadata": {},
     "output_type": "execute_result"
    }
   ],
   "source": [
    "network"
   ]
  },
  {
   "cell_type": "markdown",
   "metadata": {},
   "source": [
    "## Retrain the model on validation set with limited amount of epochs, and limited learning rate"
   ]
  },
  {
   "cell_type": "code",
   "execution_count": 11,
   "metadata": {},
   "outputs": [
    {
     "name": "stdout",
     "output_type": "stream",
     "text": [
      "DenseNetMinVar2(\n",
      "  (norm_layer): BatchNorm1d(250, eps=1e-05, momentum=0.1, affine=True, track_running_stats=True)\n",
      "  (dropout_layer): Dropout(p=0.2, inplace=False)\n",
      "  (linear_for_cov): Linear(in_features=250, out_features=750, bias=True)\n",
      "  (covariance_layer): CovarianceMatrix()\n",
      "  (portfolio_opt_layer): ThesisMarkowitzMinVar(\n",
      "    (cvxpylayer): CvxpyLayer()\n",
      "  )\n",
      ")\n"
     ]
    }
   ],
   "source": [
    "network_retrained =  DenseNetMinVar2(1, 50, 5,  max_weight=1, p=0.2)\n",
    "network_retrained.load_state_dict(network.state_dict())\n",
    "\n",
    "##!!!!!!!!!!!!!!!!!!!!!!!!\n",
    "# state_dict = torch.load('min_var_1.pth')\n",
    "# network_retrained.load_state_dict(state_dict)\n",
    "# ####\n",
    "\n",
    "\n",
    "print(network_retrained)\n",
    "network_retrained = network_retrained.train()\n",
    "loss = SharpeRatio()\n",
    "run = Run(network_retrained,\n",
    "          loss,\n",
    "          dataloader_train_for_retrain,\n",
    "          val_dataloaders={\n",
    "              'train': dataloader_train_for_retrain,\n",
    "              'test': dataloader_test_for_retrain\n",
    "              },\n",
    "          optimizer=torch.optim.Adam(network_retrained.parameters(), amsgrad=True, lr=0.0005),\n",
    ")"
   ]
  },
  {
   "cell_type": "code",
   "execution_count": 12,
   "metadata": {},
   "outputs": [
    {
     "name": "stderr",
     "output_type": "stream",
     "text": [
      "Epoch 0:   0%|                                                                                  | 0/17 [00:00<?, ?it/s]C:\\Users\\seidm\\miniconda3\\envs\\ddow\\lib\\site-packages\\threadpoolctl.py:1010: RuntimeWarning: \n",
      "Found Intel OpenMP ('libiomp') and LLVM OpenMP ('libomp') loaded at\n",
      "the same time. Both libraries are known to be incompatible and this\n",
      "can cause random crashes or deadlocks on Linux when loaded in the\n",
      "same Python program.\n",
      "Using threadpoolctl may cause crashes or deadlocks. For more\n",
      "information and possible workarounds, please see\n",
      "    https://github.com/joblib/threadpoolctl/blob/master/multiple_openmp.md\n",
      "\n",
      "  warnings.warn(msg, RuntimeWarning)\n",
      "Epoch 0: 100%|█████████████████| 17/17 [00:32<00:00,  1.94s/it, loss=-0.13171, test_loss=-0.89458, train_loss=-0.24655]\n",
      "Epoch 1:   0%|                                                                                  | 0/17 [00:00<?, ?it/s]C:\\Users\\seidm\\miniconda3\\envs\\ddow\\lib\\site-packages\\threadpoolctl.py:1010: RuntimeWarning: \n",
      "Found Intel OpenMP ('libiomp') and LLVM OpenMP ('libomp') loaded at\n",
      "the same time. Both libraries are known to be incompatible and this\n",
      "can cause random crashes or deadlocks on Linux when loaded in the\n",
      "same Python program.\n",
      "Using threadpoolctl may cause crashes or deadlocks. For more\n",
      "information and possible workarounds, please see\n",
      "    https://github.com/joblib/threadpoolctl/blob/master/multiple_openmp.md\n",
      "\n",
      "  warnings.warn(msg, RuntimeWarning)\n",
      "Epoch 1: 100%|█████████████████| 17/17 [00:30<00:00,  1.82s/it, loss=-0.21588, test_loss=-0.86966, train_loss=-0.32745]\n",
      "Epoch 2:   0%|                                                                                  | 0/17 [00:00<?, ?it/s]C:\\Users\\seidm\\miniconda3\\envs\\ddow\\lib\\site-packages\\threadpoolctl.py:1010: RuntimeWarning: \n",
      "Found Intel OpenMP ('libiomp') and LLVM OpenMP ('libomp') loaded at\n",
      "the same time. Both libraries are known to be incompatible and this\n",
      "can cause random crashes or deadlocks on Linux when loaded in the\n",
      "same Python program.\n",
      "Using threadpoolctl may cause crashes or deadlocks. For more\n",
      "information and possible workarounds, please see\n",
      "    https://github.com/joblib/threadpoolctl/blob/master/multiple_openmp.md\n",
      "\n",
      "  warnings.warn(msg, RuntimeWarning)\n",
      "Epoch 2: 100%|█████████████████| 17/17 [00:30<00:00,  1.79s/it, loss=-0.27434, test_loss=-0.85420, train_loss=-0.39538]\n",
      "Epoch 3:   0%|                                                                                  | 0/17 [00:00<?, ?it/s]C:\\Users\\seidm\\miniconda3\\envs\\ddow\\lib\\site-packages\\threadpoolctl.py:1010: RuntimeWarning: \n",
      "Found Intel OpenMP ('libiomp') and LLVM OpenMP ('libomp') loaded at\n",
      "the same time. Both libraries are known to be incompatible and this\n",
      "can cause random crashes or deadlocks on Linux when loaded in the\n",
      "same Python program.\n",
      "Using threadpoolctl may cause crashes or deadlocks. For more\n",
      "information and possible workarounds, please see\n",
      "    https://github.com/joblib/threadpoolctl/blob/master/multiple_openmp.md\n",
      "\n",
      "  warnings.warn(msg, RuntimeWarning)\n",
      "Epoch 3: 100%|█████████████████| 17/17 [00:30<00:00,  1.80s/it, loss=-0.31329, test_loss=-0.85129, train_loss=-0.45648]\n",
      "Epoch 4:   0%|                                                                                  | 0/17 [00:00<?, ?it/s]C:\\Users\\seidm\\miniconda3\\envs\\ddow\\lib\\site-packages\\threadpoolctl.py:1010: RuntimeWarning: \n",
      "Found Intel OpenMP ('libiomp') and LLVM OpenMP ('libomp') loaded at\n",
      "the same time. Both libraries are known to be incompatible and this\n",
      "can cause random crashes or deadlocks on Linux when loaded in the\n",
      "same Python program.\n",
      "Using threadpoolctl may cause crashes or deadlocks. For more\n",
      "information and possible workarounds, please see\n",
      "    https://github.com/joblib/threadpoolctl/blob/master/multiple_openmp.md\n",
      "\n",
      "  warnings.warn(msg, RuntimeWarning)\n",
      "Epoch 4: 100%|█████████████████| 17/17 [00:31<00:00,  1.83s/it, loss=-0.39373, test_loss=-0.84755, train_loss=-0.50726]\n",
      "Epoch 5:   0%|                                                                                  | 0/17 [00:00<?, ?it/s]C:\\Users\\seidm\\miniconda3\\envs\\ddow\\lib\\site-packages\\threadpoolctl.py:1010: RuntimeWarning: \n",
      "Found Intel OpenMP ('libiomp') and LLVM OpenMP ('libomp') loaded at\n",
      "the same time. Both libraries are known to be incompatible and this\n",
      "can cause random crashes or deadlocks on Linux when loaded in the\n",
      "same Python program.\n",
      "Using threadpoolctl may cause crashes or deadlocks. For more\n",
      "information and possible workarounds, please see\n",
      "    https://github.com/joblib/threadpoolctl/blob/master/multiple_openmp.md\n",
      "\n",
      "  warnings.warn(msg, RuntimeWarning)\n",
      "Epoch 5: 100%|█████████████████| 17/17 [00:33<00:00,  1.97s/it, loss=-0.41708, test_loss=-0.84882, train_loss=-0.55503]\n",
      "Epoch 6:   0%|                                                                                  | 0/17 [00:00<?, ?it/s]C:\\Users\\seidm\\miniconda3\\envs\\ddow\\lib\\site-packages\\threadpoolctl.py:1010: RuntimeWarning: \n",
      "Found Intel OpenMP ('libiomp') and LLVM OpenMP ('libomp') loaded at\n",
      "the same time. Both libraries are known to be incompatible and this\n",
      "can cause random crashes or deadlocks on Linux when loaded in the\n",
      "same Python program.\n",
      "Using threadpoolctl may cause crashes or deadlocks. For more\n",
      "information and possible workarounds, please see\n",
      "    https://github.com/joblib/threadpoolctl/blob/master/multiple_openmp.md\n",
      "\n",
      "  warnings.warn(msg, RuntimeWarning)\n",
      "Epoch 6: 100%|█████████████████| 17/17 [00:29<00:00,  1.73s/it, loss=-0.46237, test_loss=-0.84706, train_loss=-0.60519]\n",
      "Epoch 7:   0%|                                                                                  | 0/17 [00:00<?, ?it/s]C:\\Users\\seidm\\miniconda3\\envs\\ddow\\lib\\site-packages\\threadpoolctl.py:1010: RuntimeWarning: \n",
      "Found Intel OpenMP ('libiomp') and LLVM OpenMP ('libomp') loaded at\n",
      "the same time. Both libraries are known to be incompatible and this\n",
      "can cause random crashes or deadlocks on Linux when loaded in the\n",
      "same Python program.\n",
      "Using threadpoolctl may cause crashes or deadlocks. For more\n",
      "information and possible workarounds, please see\n",
      "    https://github.com/joblib/threadpoolctl/blob/master/multiple_openmp.md\n",
      "\n",
      "  warnings.warn(msg, RuntimeWarning)\n",
      "Epoch 7: 100%|█████████████████| 17/17 [00:32<00:00,  1.91s/it, loss=-0.50731, test_loss=-0.83893, train_loss=-0.63830]\n",
      "Epoch 8:   0%|                                                                                  | 0/17 [00:00<?, ?it/s]C:\\Users\\seidm\\miniconda3\\envs\\ddow\\lib\\site-packages\\threadpoolctl.py:1010: RuntimeWarning: \n",
      "Found Intel OpenMP ('libiomp') and LLVM OpenMP ('libomp') loaded at\n",
      "the same time. Both libraries are known to be incompatible and this\n",
      "can cause random crashes or deadlocks on Linux when loaded in the\n",
      "same Python program.\n",
      "Using threadpoolctl may cause crashes or deadlocks. For more\n",
      "information and possible workarounds, please see\n",
      "    https://github.com/joblib/threadpoolctl/blob/master/multiple_openmp.md\n",
      "\n",
      "  warnings.warn(msg, RuntimeWarning)\n",
      "Epoch 8: 100%|█████████████████| 17/17 [00:33<00:00,  1.97s/it, loss=-0.54931, test_loss=-0.83789, train_loss=-0.68253]\n",
      "Epoch 9:   0%|                                                                                  | 0/17 [00:00<?, ?it/s]C:\\Users\\seidm\\miniconda3\\envs\\ddow\\lib\\site-packages\\threadpoolctl.py:1010: RuntimeWarning: \n",
      "Found Intel OpenMP ('libiomp') and LLVM OpenMP ('libomp') loaded at\n",
      "the same time. Both libraries are known to be incompatible and this\n",
      "can cause random crashes or deadlocks on Linux when loaded in the\n",
      "same Python program.\n",
      "Using threadpoolctl may cause crashes or deadlocks. For more\n",
      "information and possible workarounds, please see\n",
      "    https://github.com/joblib/threadpoolctl/blob/master/multiple_openmp.md\n",
      "\n",
      "  warnings.warn(msg, RuntimeWarning)\n",
      "Epoch 9: 100%|█████████████████| 17/17 [00:30<00:00,  1.80s/it, loss=-0.57402, test_loss=-0.83687, train_loss=-0.71546]\n",
      "Epoch 10:   0%|                                                                                 | 0/17 [00:00<?, ?it/s]C:\\Users\\seidm\\miniconda3\\envs\\ddow\\lib\\site-packages\\threadpoolctl.py:1010: RuntimeWarning: \n",
      "Found Intel OpenMP ('libiomp') and LLVM OpenMP ('libomp') loaded at\n",
      "the same time. Both libraries are known to be incompatible and this\n",
      "can cause random crashes or deadlocks on Linux when loaded in the\n",
      "same Python program.\n",
      "Using threadpoolctl may cause crashes or deadlocks. For more\n",
      "information and possible workarounds, please see\n",
      "    https://github.com/joblib/threadpoolctl/blob/master/multiple_openmp.md\n",
      "\n",
      "  warnings.warn(msg, RuntimeWarning)\n"
     ]
    },
    {
     "name": "stderr",
     "output_type": "stream",
     "text": [
      "Epoch 10: 100%|████████████████| 17/17 [00:30<00:00,  1.81s/it, loss=-0.61003, test_loss=-0.83114, train_loss=-0.74325]\n",
      "Epoch 11:   0%|                                                                                 | 0/17 [00:00<?, ?it/s]C:\\Users\\seidm\\miniconda3\\envs\\ddow\\lib\\site-packages\\threadpoolctl.py:1010: RuntimeWarning: \n",
      "Found Intel OpenMP ('libiomp') and LLVM OpenMP ('libomp') loaded at\n",
      "the same time. Both libraries are known to be incompatible and this\n",
      "can cause random crashes or deadlocks on Linux when loaded in the\n",
      "same Python program.\n",
      "Using threadpoolctl may cause crashes or deadlocks. For more\n",
      "information and possible workarounds, please see\n",
      "    https://github.com/joblib/threadpoolctl/blob/master/multiple_openmp.md\n",
      "\n",
      "  warnings.warn(msg, RuntimeWarning)\n",
      "Epoch 11: 100%|████████████████| 17/17 [00:30<00:00,  1.81s/it, loss=-0.62244, test_loss=-0.82674, train_loss=-0.78274]\n",
      "Epoch 12:   0%|                                                                                 | 0/17 [00:00<?, ?it/s]C:\\Users\\seidm\\miniconda3\\envs\\ddow\\lib\\site-packages\\threadpoolctl.py:1010: RuntimeWarning: \n",
      "Found Intel OpenMP ('libiomp') and LLVM OpenMP ('libomp') loaded at\n",
      "the same time. Both libraries are known to be incompatible and this\n",
      "can cause random crashes or deadlocks on Linux when loaded in the\n",
      "same Python program.\n",
      "Using threadpoolctl may cause crashes or deadlocks. For more\n",
      "information and possible workarounds, please see\n",
      "    https://github.com/joblib/threadpoolctl/blob/master/multiple_openmp.md\n",
      "\n",
      "  warnings.warn(msg, RuntimeWarning)\n",
      "Epoch 12: 100%|████████████████| 17/17 [00:30<00:00,  1.81s/it, loss=-0.67379, test_loss=-0.82214, train_loss=-0.84102]\n",
      "Epoch 13:   0%|                                                                                 | 0/17 [00:00<?, ?it/s]C:\\Users\\seidm\\miniconda3\\envs\\ddow\\lib\\site-packages\\threadpoolctl.py:1010: RuntimeWarning: \n",
      "Found Intel OpenMP ('libiomp') and LLVM OpenMP ('libomp') loaded at\n",
      "the same time. Both libraries are known to be incompatible and this\n",
      "can cause random crashes or deadlocks on Linux when loaded in the\n",
      "same Python program.\n",
      "Using threadpoolctl may cause crashes or deadlocks. For more\n",
      "information and possible workarounds, please see\n",
      "    https://github.com/joblib/threadpoolctl/blob/master/multiple_openmp.md\n",
      "\n",
      "  warnings.warn(msg, RuntimeWarning)\n",
      "Epoch 13: 100%|████████████████| 17/17 [00:32<00:00,  1.90s/it, loss=-0.69674, test_loss=-0.81337, train_loss=-0.84050]\n",
      "Epoch 14:   0%|                                                                                 | 0/17 [00:00<?, ?it/s]C:\\Users\\seidm\\miniconda3\\envs\\ddow\\lib\\site-packages\\threadpoolctl.py:1010: RuntimeWarning: \n",
      "Found Intel OpenMP ('libiomp') and LLVM OpenMP ('libomp') loaded at\n",
      "the same time. Both libraries are known to be incompatible and this\n",
      "can cause random crashes or deadlocks on Linux when loaded in the\n",
      "same Python program.\n",
      "Using threadpoolctl may cause crashes or deadlocks. For more\n",
      "information and possible workarounds, please see\n",
      "    https://github.com/joblib/threadpoolctl/blob/master/multiple_openmp.md\n",
      "\n",
      "  warnings.warn(msg, RuntimeWarning)\n",
      "Epoch 14: 100%|████████████████| 17/17 [00:29<00:00,  1.73s/it, loss=-0.73498, test_loss=-0.80775, train_loss=-0.86853]\n",
      "Epoch 15:   0%|                                                                                 | 0/17 [00:00<?, ?it/s]C:\\Users\\seidm\\miniconda3\\envs\\ddow\\lib\\site-packages\\threadpoolctl.py:1010: RuntimeWarning: \n",
      "Found Intel OpenMP ('libiomp') and LLVM OpenMP ('libomp') loaded at\n",
      "the same time. Both libraries are known to be incompatible and this\n",
      "can cause random crashes or deadlocks on Linux when loaded in the\n",
      "same Python program.\n",
      "Using threadpoolctl may cause crashes or deadlocks. For more\n",
      "information and possible workarounds, please see\n",
      "    https://github.com/joblib/threadpoolctl/blob/master/multiple_openmp.md\n",
      "\n",
      "  warnings.warn(msg, RuntimeWarning)\n",
      "Epoch 15: 100%|████████████████| 17/17 [00:29<00:00,  1.71s/it, loss=-0.76252, test_loss=-0.80474, train_loss=-0.89334]\n",
      "Epoch 16:   0%|                                                                                 | 0/17 [00:00<?, ?it/s]C:\\Users\\seidm\\miniconda3\\envs\\ddow\\lib\\site-packages\\threadpoolctl.py:1010: RuntimeWarning: \n",
      "Found Intel OpenMP ('libiomp') and LLVM OpenMP ('libomp') loaded at\n",
      "the same time. Both libraries are known to be incompatible and this\n",
      "can cause random crashes or deadlocks on Linux when loaded in the\n",
      "same Python program.\n",
      "Using threadpoolctl may cause crashes or deadlocks. For more\n",
      "information and possible workarounds, please see\n",
      "    https://github.com/joblib/threadpoolctl/blob/master/multiple_openmp.md\n",
      "\n",
      "  warnings.warn(msg, RuntimeWarning)\n",
      "Epoch 16: 100%|████████████████| 17/17 [00:32<00:00,  1.89s/it, loss=-0.76621, test_loss=-0.79847, train_loss=-0.91147]\n",
      "Epoch 17:   0%|                                                                                 | 0/17 [00:00<?, ?it/s]C:\\Users\\seidm\\miniconda3\\envs\\ddow\\lib\\site-packages\\threadpoolctl.py:1010: RuntimeWarning: \n",
      "Found Intel OpenMP ('libiomp') and LLVM OpenMP ('libomp') loaded at\n",
      "the same time. Both libraries are known to be incompatible and this\n",
      "can cause random crashes or deadlocks on Linux when loaded in the\n",
      "same Python program.\n",
      "Using threadpoolctl may cause crashes or deadlocks. For more\n",
      "information and possible workarounds, please see\n",
      "    https://github.com/joblib/threadpoolctl/blob/master/multiple_openmp.md\n",
      "\n",
      "  warnings.warn(msg, RuntimeWarning)\n",
      "Epoch 17: 100%|████████████████| 17/17 [00:31<00:00,  1.85s/it, loss=-0.77381, test_loss=-0.79501, train_loss=-0.91113]\n",
      "Epoch 18:   0%|                                                                                 | 0/17 [00:00<?, ?it/s]C:\\Users\\seidm\\miniconda3\\envs\\ddow\\lib\\site-packages\\threadpoolctl.py:1010: RuntimeWarning: \n",
      "Found Intel OpenMP ('libiomp') and LLVM OpenMP ('libomp') loaded at\n",
      "the same time. Both libraries are known to be incompatible and this\n",
      "can cause random crashes or deadlocks on Linux when loaded in the\n",
      "same Python program.\n",
      "Using threadpoolctl may cause crashes or deadlocks. For more\n",
      "information and possible workarounds, please see\n",
      "    https://github.com/joblib/threadpoolctl/blob/master/multiple_openmp.md\n",
      "\n",
      "  warnings.warn(msg, RuntimeWarning)\n",
      "Epoch 18: 100%|████████████████| 17/17 [00:31<00:00,  1.86s/it, loss=-0.81320, test_loss=-0.79087, train_loss=-0.92223]\n",
      "Epoch 19:   0%|                                                                                 | 0/17 [00:00<?, ?it/s]C:\\Users\\seidm\\miniconda3\\envs\\ddow\\lib\\site-packages\\threadpoolctl.py:1010: RuntimeWarning: \n",
      "Found Intel OpenMP ('libiomp') and LLVM OpenMP ('libomp') loaded at\n",
      "the same time. Both libraries are known to be incompatible and this\n",
      "can cause random crashes or deadlocks on Linux when loaded in the\n",
      "same Python program.\n",
      "Using threadpoolctl may cause crashes or deadlocks. For more\n",
      "information and possible workarounds, please see\n",
      "    https://github.com/joblib/threadpoolctl/blob/master/multiple_openmp.md\n",
      "\n",
      "  warnings.warn(msg, RuntimeWarning)\n",
      "Epoch 19: 100%|████████████████| 17/17 [00:29<00:00,  1.72s/it, loss=-0.83311, test_loss=-0.78238, train_loss=-0.97174]\n"
     ]
    }
   ],
   "source": [
    "history_retrain = run.launch(20)\n",
    "torch.save(network_retrained.state_dict(), 'network_retrained.pth')"
   ]
  },
  {
   "cell_type": "code",
   "execution_count": null,
   "metadata": {},
   "outputs": [],
   "source": [
    "network.gamma"
   ]
  },
  {
   "cell_type": "markdown",
   "metadata": {
    "id": "x1ZAJiA3WIb8"
   },
   "source": [
    "# Check model perfomance"
   ]
  },
  {
   "cell_type": "code",
   "execution_count": null,
   "metadata": {
    "colab": {
     "base_uri": "https://localhost:8080/"
    },
    "id": "c_C6qYeh57N2",
    "outputId": "d7e4d6ec-0ea7-4cd8-85a1-db313452e03c"
   },
   "outputs": [],
   "source": [
    "  # network = LstmNetMinVar(5)\n",
    "  # network.load_state_dict(torch.load(fr'network_2.pth'))"
   ]
  },
  {
   "cell_type": "code",
   "execution_count": 14,
   "metadata": {
    "id": "5V7kXiXFfA29"
   },
   "outputs": [
    {
     "name": "stderr",
     "output_type": "stream",
     "text": [
      "\n",
      "KeyboardInterrupt\n",
      "\n"
     ]
    }
   ],
   "source": [
    "per_epoch_results = history.metrics.groupby(['dataloader', 'metric', 'model', 'epoch'])['value']"
   ]
  },
  {
   "cell_type": "code",
   "execution_count": null,
   "metadata": {
    "colab": {
     "base_uri": "https://localhost:8080/",
     "height": 472
    },
    "id": "A5Dtu_QyeIrf",
    "outputId": "04d75fd0-5a81-4d6f-9546-967462c18605",
    "scrolled": true
   },
   "outputs": [],
   "source": [
    "mean_test_loss = per_epoch_results.mean()['test']['loss']['network'] # tmp\n",
    "\n",
    "# Plotting the mean test loss per epoch\n",
    "mean_test_loss.plot()\n",
    "\n",
    "# Finding the epoch with the minimum test loss\n",
    "min_loss_epoch = mean_test_loss.idxmin()\n",
    "min_loss_value = mean_test_loss.min()\n",
    "\n",
    "# Adding a red vertical line at the epoch with minimum test loss\n",
    "plt.axvline(x=min_loss_epoch, color='r', linestyle='--', label=f'Min Loss at Epoch {min_loss_epoch}')\n",
    "\n",
    "# Adding some labels and title for clarity\n",
    "plt.xlabel('Epoch')\n",
    "plt.ylabel('Test Loss')\n",
    "plt.title('Validation Loss per Epoch')\n",
    "plt.legend()\n",
    "\n",
    "# Show the plot\n",
    "plt.show()"
   ]
  },
  {
   "cell_type": "markdown",
   "metadata": {
    "id": "SNjFRuqyp9R3"
   },
   "source": []
  },
  {
   "cell_type": "code",
   "execution_count": null,
   "metadata": {
    "colab": {
     "base_uri": "https://localhost:8080/"
    },
    "id": "E9tBNUrqa4qO",
    "outputId": "a4f5a9e3-da2c-4207-eee3-202084d6e215"
   },
   "outputs": [],
   "source": [
    "per_epoch_results.mean()['test']['loss']['network'].mean()"
   ]
  },
  {
   "cell_type": "code",
   "execution_count": null,
   "metadata": {
    "colab": {
     "base_uri": "https://localhost:8080/",
     "height": 472
    },
    "id": "on_gcl3zWx5p",
    "outputId": "18189bc7-f1ca-4fbc-ce19-cd5087369c35"
   },
   "outputs": [],
   "source": [
    "mean_train_loss = per_epoch_results.mean()['train']['loss']['network']\n",
    "\n",
    "# Plotting the mean test loss per epoch\n",
    "mean_train_loss.plot()\n",
    "\n",
    "\n",
    "\n",
    "# Adding some labels and title for clarity\n",
    "plt.xlabel('Epoch')\n",
    "plt.ylabel('Train Loss')\n",
    "plt.title('Train Loss per Epoch')\n",
    "plt.axvline(x=min_loss_epoch, color='r', linestyle='--', label=f'The best model {min_loss_epoch}')\n",
    "\n",
    "# Show the plot\n",
    "plt.show()"
   ]
  },
  {
   "cell_type": "code",
   "execution_count": null,
   "metadata": {},
   "outputs": [],
   "source": [
    "network.tmp['output'].shape"
   ]
  },
  {
   "cell_type": "markdown",
   "metadata": {
    "id": "P5eJGUoOGQbx"
   },
   "source": [
    "# Compute validation factor"
   ]
  },
  {
   "cell_type": "markdown",
   "metadata": {
    "id": "MYwpyZGaDw08"
   },
   "source": []
  },
  {
   "cell_type": "code",
   "execution_count": 19,
   "metadata": {
    "id": "FY1f1XULzwxF"
   },
   "outputs": [],
   "source": [
    "X_tensor = torch.tensor(X[indices_test], dtype=torch.float32)\n",
    "y_tensor = torch.tensor(y[indices_test], dtype=torch.float32)"
   ]
  },
  {
   "cell_type": "code",
   "execution_count": 20,
   "metadata": {},
   "outputs": [
    {
     "name": "stderr",
     "output_type": "stream",
     "text": [
      "C:\\Users\\seidm\\miniconda3\\envs\\ddow\\lib\\site-packages\\threadpoolctl.py:1010: RuntimeWarning: \n",
      "Found Intel OpenMP ('libiomp') and LLVM OpenMP ('libomp') loaded at\n",
      "the same time. Both libraries are known to be incompatible and this\n",
      "can cause random crashes or deadlocks on Linux when loaded in the\n",
      "same Python program.\n",
      "Using threadpoolctl may cause crashes or deadlocks. For more\n",
      "information and possible workarounds, please see\n",
      "    https://github.com/joblib/threadpoolctl/blob/master/multiple_openmp.md\n",
      "\n",
      "  warnings.warn(msg, RuntimeWarning)\n"
     ]
    }
   ],
   "source": [
    "weights = network(X_tensor)\n",
    "ewp = weights.new_full(weights.shape, 0.2)"
   ]
  },
  {
   "cell_type": "code",
   "execution_count": 21,
   "metadata": {},
   "outputs": [
    {
     "data": {
      "text/plain": [
       "tensor(1.5299, grad_fn=<DivBackward0>)"
      ]
     },
     "execution_count": 21,
     "metadata": {},
     "output_type": "execute_result"
    }
   ],
   "source": [
    "loss(weights, y_tensor).mean()  /  loss(ewp, y_tensor).mean()"
   ]
  },
  {
   "cell_type": "code",
   "execution_count": 27,
   "metadata": {},
   "outputs": [
    {
     "data": {
      "text/plain": [
       "tensor(0.8629, grad_fn=<DivBackward0>)"
      ]
     },
     "execution_count": 27,
     "metadata": {},
     "output_type": "execute_result"
    }
   ],
   "source": [
    "SPY_long = torch.zeros(742, 5)\n",
    "SPY_long[:, 1] = 1\n",
    "loss(weights, y_tensor).mean()  /  loss(SPY_long, y_tensor).mean()"
   ]
  },
  {
   "cell_type": "code",
   "execution_count": null,
   "metadata": {},
   "outputs": [],
   "source": [
    "loss(SPY_long, y_tensor).mean()"
   ]
  },
  {
   "cell_type": "code",
   "execution_count": null,
   "metadata": {},
   "outputs": [],
   "source": []
  }
 ],
 "metadata": {
  "colab": {
   "collapsed_sections": [
    "BlApRJuPfrxq",
    "VNqxm-tdcv3Y",
    "P5eJGUoOGQbx"
   ],
   "machine_shape": "hm",
   "provenance": []
  },
  "kernelspec": {
   "display_name": "Python 3 (ipykernel)",
   "language": "python",
   "name": "python3"
  },
  "language_info": {
   "codemirror_mode": {
    "name": "ipython",
    "version": 3
   },
   "file_extension": ".py",
   "mimetype": "text/x-python",
   "name": "python",
   "nbconvert_exporter": "python",
   "pygments_lexer": "ipython3",
   "version": "3.8.17"
  }
 },
 "nbformat": 4,
 "nbformat_minor": 4
}
