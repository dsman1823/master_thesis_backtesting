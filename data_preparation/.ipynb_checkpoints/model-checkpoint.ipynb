{
 "cells": [
  {
   "cell_type": "markdown",
   "id": "a388c7d0",
   "metadata": {},
   "source": [
    "# This notebook provides portfolio weights based on the historical data to the backtesting notebook"
   ]
  },
  {
   "cell_type": "code",
   "execution_count": 5,
   "id": "04a4ce3b",
   "metadata": {},
   "outputs": [],
   "source": [
    "# !pip uninstall deepdowmine\n",
    "#!pip install git+https://github.com/dsman1823/deepdowmine.git\n",
    "#!conda install pytorch torchvision torchaudio cudatoolkit=10.2 -c pytorch # <---- to Enable SVD "
   ]
  },
  {
   "cell_type": "code",
   "execution_count": 1,
   "id": "9b37e532",
   "metadata": {},
   "outputs": [],
   "source": [
    "import torch\n",
    "\n",
    "import pandas as pd\n",
    "import numpy as np\n",
    "\n",
    "from datetime import datetime \n",
    "from deepdowmine.nn import LinearNetMine, UpdNumericalMarkowitzWithShorting, UpdLinearNetMine, UpdDenseNet, UpdUpdLinearNetMine\n"
   ]
  },
  {
   "cell_type": "code",
   "execution_count": 2,
   "id": "78fd3bba",
   "metadata": {},
   "outputs": [],
   "source": [
    "RETS_FILE_PATH = 'historical_returns.csv'\n",
    "\n",
    "\n",
    "\n",
    "loockback, gap, horizon = 50, 0, 5\n",
    "n_assets = 5\n",
    "loockback = 50\n"
   ]
  },
  {
   "cell_type": "markdown",
   "id": "6c88f90a",
   "metadata": {},
   "source": [
    "## Load NN from dict"
   ]
  },
  {
   "cell_type": "code",
   "execution_count": 3,
   "id": "36a91bae",
   "metadata": {},
   "outputs": [],
   "source": [
    "LINEAR_NET_OSHARPE_FILE_PATH = r'./NNs/linear_net_50x5_sharpe.pth' # LinearNetMine with ordinary Sharpe cost"
   ]
  },
  {
   "cell_type": "code",
   "execution_count": 4,
   "id": "7a634b07",
   "metadata": {},
   "outputs": [],
   "source": [
    "# years parameter reprsenets amount of years after the backtest stasrt: the model dowloaded is the the model trained \n",
    "# on the period (train_start, back_test_start + years) \n",
    "\n",
    "\n",
    "# LinearNetMine with ordinary sharpe cost function\n",
    "def load_linear_net_osharpe(years=0):\n",
    "    network = LinearNetMine(1, loockback, n_assets, p=0.5)\n",
    "    network.load_state_dict(torch.load(fr'./NNs/linear_net_50x5_sharpe_{years}.pth'))\n",
    "    print(fr'./NNs/linear_net_50x5_sharpe_{years}.pth')\n",
    "    return network.eval()\n",
    "    "
   ]
  },
  {
   "cell_type": "code",
   "execution_count": 5,
   "id": "fd38307d",
   "metadata": {},
   "outputs": [],
   "source": [
    "def load_dense_net(years=0):\n",
    "    network = UpdLinearNetMine(1, loockback, n_assets, p=0.5)\n",
    "    network.load_state_dict(torch.load(fr'./NNs/dense_{years}.pth'))\n",
    "    print(fr'dense_{years}.pth')\n",
    "    return network.eval()"
   ]
  },
  {
   "cell_type": "markdown",
   "id": "a0c6d5c7",
   "metadata": {},
   "source": [
    "## Core functions"
   ]
  },
  {
   "cell_type": "code",
   "execution_count": 6,
   "id": "9b0ed9ac",
   "metadata": {},
   "outputs": [],
   "source": [
    "def transform_rets_to_NN_input(rets):\n",
    "    # tranform (loockback, n_assets) df into (1, 1, loockback, n_assets)=(sample_size, n_channels, loockback, n_assets) tensor \n",
    "    returns_np = rets.to_numpy()\n",
    "\n",
    "    # Add the required dimensions: (n_samples, n_channels, lookback, n_assets)\n",
    "    returns_np_expanded = np.expand_dims(returns_np, axis=0)  # Adds n_samples dimension\n",
    "    returns_np_expanded = np.expand_dims(returns_np_expanded, axis=0)  \n",
    "    return torch.from_numpy(returns_np_expanded).float()\n",
    "\n",
    "def weights_from_NN(rets, network):\n",
    "    X = transform_rets_to_NN_input(rets)\n",
    "    return network(X).detach().numpy()[0]\n",
    "\n",
    "# method is a function, used for obtaining the returns\n",
    "def get_weights(method):\n",
    "    rets = pd.read_csv(RETS_FILE_PATH, index_col=0)\n",
    "    return method(rets)"
   ]
  },
  {
   "cell_type": "code",
   "execution_count": 7,
   "id": "c21a7d4f",
   "metadata": {},
   "outputs": [
    {
     "data": {
      "text/plain": [
       "array([ 0.06418574,  0.25817055, -0.01574563,  0.60880786,  0.08458146],\n",
       "      dtype=float32)"
      ]
     },
     "execution_count": 7,
     "metadata": {},
     "output_type": "execute_result"
    }
   ],
   "source": [
    "rets = pd.read_csv(RETS_FILE_PATH, index_col=0)\n",
    "X = transform_rets_to_NN_input(rets)\n",
    "network = LinearNetMine(1, loockback, n_assets, p=0.5)\n",
    "network.load_state_dict(torch.load(fr'./NNs/linear_net_50x5_sharpe_{2}.pth'))\n",
    "network.eval()(X).detach().numpy()[0]"
   ]
  },
  {
   "cell_type": "markdown",
   "id": "7d65c2c4",
   "metadata": {},
   "source": [
    "## NNs and related methods\n",
    "\n",
    "\n",
    "### NNs\n",
    "\n",
    "networks[i] method is trained on (train_start, backtest_start + i years) data interval"
   ]
  },
  {
   "cell_type": "code",
   "execution_count": 8,
   "id": "87ac6576",
   "metadata": {},
   "outputs": [
    {
     "name": "stdout",
     "output_type": "stream",
     "text": [
      "./NNs/linear_net_50x5_sharpe_0.pth\n",
      "./NNs/linear_net_50x5_sharpe_1.pth\n",
      "./NNs/linear_net_50x5_sharpe_2.pth\n",
      "dense_0.pth\n",
      "dense_1.pth\n",
      "dense_2.pth\n"
     ]
    }
   ],
   "source": [
    "years = [0, 1, 2]#, 1, 2]\n",
    "\n",
    "linear_osharpe_networks = [load_linear_net_osharpe(years=i) for i in years]\n",
    "dense_networks = [load_dense_net(years=i) for i in years]"
   ]
  },
  {
   "cell_type": "markdown",
   "id": "db5b112d",
   "metadata": {},
   "source": [
    "### methods"
   ]
  },
  {
   "cell_type": "code",
   "execution_count": 9,
   "id": "728b35c5",
   "metadata": {},
   "outputs": [
    {
     "data": {
      "text/plain": [
       "tensor([ 0.0484,  0.0029, -0.0442], grad_fn=<SliceBackward0>)"
      ]
     },
     "execution_count": 9,
     "metadata": {},
     "output_type": "execute_result"
    }
   ],
   "source": [
    "dense_networks[1].linear0.bias[0:3]"
   ]
  },
  {
   "cell_type": "code",
   "execution_count": 10,
   "id": "35739537",
   "metadata": {},
   "outputs": [
    {
     "data": {
      "text/plain": [
       "tensor([ 0.0484,  0.0029, -0.0442], grad_fn=<SliceBackward0>)"
      ]
     },
     "execution_count": 10,
     "metadata": {},
     "output_type": "execute_result"
    }
   ],
   "source": [
    "dense_networks[2].linear0.bias[0:3]"
   ]
  },
  {
   "cell_type": "code",
   "execution_count": 11,
   "id": "28670905",
   "metadata": {},
   "outputs": [],
   "source": [
    "# note the format of lambda \n",
    "linear_osharpe_methods = [lambda r, i=i: weights_from_NN(r, linear_osharpe_networks[i]) for i in years] \n",
    "dense_methods = [lambda r, i=i: weights_from_NN(r, dense_networks[i]) for i in years] \n"
   ]
  },
  {
   "cell_type": "code",
   "execution_count": 12,
   "id": "7045f79e",
   "metadata": {},
   "outputs": [
    {
     "data": {
      "text/plain": [
       "[array([0.01819081, 0.24908274, 0.29753768, 0.41258937, 0.0225994 ],\n",
       "       dtype=float32),\n",
       " array([-0.03791929,  0.1064674 ,  0.4017897 ,  0.46670547,  0.06295667],\n",
       "       dtype=float32),\n",
       " array([-0.03175861,  0.18791872,  0.14897145,  0.48070765,  0.21416074],\n",
       "       dtype=float32)]"
      ]
     },
     "execution_count": 12,
     "metadata": {},
     "output_type": "execute_result"
    }
   ],
   "source": [
    "[get_weights(dense_methods[i]) for i in years]"
   ]
  },
  {
   "cell_type": "markdown",
   "id": "e7fae4ce",
   "metadata": {},
   "source": [
    "# Server"
   ]
  },
  {
   "cell_type": "code",
   "execution_count": 13,
   "id": "be630bfa",
   "metadata": {},
   "outputs": [],
   "source": [
    "from dateutil.relativedelta import relativedelta\n",
    "from datetime import datetime, date\n",
    "\n",
    "RETRAINING_DATE1 = date(2021, 12, 15)\n",
    "RETRAINING_DATE2 = date(2022, 12, 15)"
   ]
  },
  {
   "cell_type": "code",
   "execution_count": 14,
   "id": "62cc3389",
   "metadata": {},
   "outputs": [],
   "source": [
    "from flask import Flask, request, jsonify\n",
    "from flask_cors import CORS \n",
    "\n",
    "import numpy as np\n",
    "\n",
    "app = Flask(__name__)\n",
    "CORS(app)  # Enable CORS for your Flask app\n",
    "\n",
    "\n",
    "@app.route('/get_weights', methods=['GET'])\n",
    "def get_request():\n",
    "    # Extract date string from the query parameters\n",
    "    date_str = request.args.get('date', None)\n",
    "    \n",
    "    # Simple validation to check if date is provided\n",
    "    if not date_str:\n",
    "        return jsonify({\"error\": \"Missing date parameter\"}), 400\n",
    "\n",
    "    # Try to convert the date string to a datetime object\n",
    "    try:\n",
    "        # Note that now we're only parsing the date, not the time\n",
    "        date = datetime.strptime(date_str, \"%Y-%m-%d\").date()\n",
    "    except ValueError:\n",
    "        # If there is an error in parsing the date, return an error message\n",
    "        return jsonify({\"error\": \"Invalid date format. Please use YYYY-MM-DD format.\"}), 400\n",
    "    \n",
    "#     years_plus = 0\n",
    "#     if RETRAINING_DATE1 < date < RETRAINING_DATE2:\n",
    "#         years_plus = 1\n",
    "#         print(f'Working with model: {years_plus}')\n",
    "#     if RETRAINING_DATE2 < date:\n",
    "#         years_plus = 2\n",
    "#         print(f'Working with model: {years_plus}')\n",
    "    \n",
    "#     weights = get_weights(linear_osharpe_methods[years_plus]).tolist()\n",
    "    \n",
    "    rets = pd.read_csv(RETS_FILE_PATH, index_col=0)\n",
    "    X = transform_rets_to_NN_input(rets)\n",
    "    network = UpdUpdLinearNetMine(1, loockback, n_assets, p=0.5)\n",
    "    network.load_state_dict(torch.load(fr'./NNs/upd1_dense_0.pth'))\n",
    "    \n",
    "#     if date < RETRAINING_DATE1:\n",
    "#         print(0)\n",
    "#     if RETRAINING_DATE1 < date < RETRAINING_DATE2:\n",
    "#         print('1')\n",
    "#         network = UpdLinearNetMine(1, loockback, n_assets, p=0.5)\n",
    "#         network.load_state_dict(torch.load(fr'./NNs/dense_0.pth'))\n",
    "#     if RETRAINING_DATE2 < date:\n",
    "#         network = UpdLinearNetMine(1, loockback, n_assets, p=0.5)\n",
    "#         network.load_state_dict(torch.load(fr'./NNs/dense_0.pth'))\n",
    "#         print('2')\n",
    "    \n",
    "    weights = network.eval()(X).detach().numpy()[0].tolist()\n",
    "    \n",
    "        \n",
    "    #weights = weights_from_NN(rets, linear_osharpe_networks[0]).tolist()\n",
    "    #print(weights)\n",
    "    # Return the vector as JSON, using the string representation of the date for simplicity\n",
    "    return jsonify({'weights': weights})\n"
   ]
  },
  {
   "cell_type": "code",
   "execution_count": 15,
   "id": "1f7714c0",
   "metadata": {},
   "outputs": [
    {
     "data": {
      "text/plain": [
       "([0.15217816829681396,\n",
       "  0.7109567523002625,\n",
       "  -0.0016196349170058966,\n",
       "  0.1990373432636261,\n",
       "  -0.06055258587002754],\n",
       " 1.000000043073669)"
      ]
     },
     "execution_count": 15,
     "metadata": {},
     "output_type": "execute_result"
    }
   ],
   "source": [
    "rets = pd.read_csv(RETS_FILE_PATH, index_col=0)\n",
    "X = transform_rets_to_NN_input(rets)\n",
    "network = LinearNetMine(1, loockback, n_assets, p=0.5)\n",
    "network.load_state_dict(torch.load(fr'./NNs/linear_net_50x5_sharpe_{0}.pth'))\n",
    "weights = network.eval()(X).detach().numpy()[0].tolist()\n",
    "weights, sum(weights)"
   ]
  },
  {
   "cell_type": "code",
   "execution_count": null,
   "id": "ed150707",
   "metadata": {},
   "outputs": [
    {
     "name": "stdout",
     "output_type": "stream",
     "text": [
      " * Serving Flask app '__main__'\n",
      " * Debug mode: off\n"
     ]
    },
    {
     "name": "stderr",
     "output_type": "stream",
     "text": [
      "WARNING: This is a development server. Do not use it in a production deployment. Use a production WSGI server instead.\n",
      " * Running on http://127.0.0.1:5000\n",
      "Press CTRL+C to quit\n",
      "127.0.0.1 - - [11/Mar/2024 10:25:46] \"GET /get_weights?date=2020-12-21 HTTP/1.1\" 200 -\n",
      "127.0.0.1 - - [11/Mar/2024 10:25:48] \"GET /get_weights?date=2020-12-28 HTTP/1.1\" 200 -\n",
      "127.0.0.1 - - [11/Mar/2024 10:25:50] \"GET /get_weights?date=2021-01-04 HTTP/1.1\" 200 -\n",
      "127.0.0.1 - - [11/Mar/2024 10:25:52] \"GET /get_weights?date=2021-01-11 HTTP/1.1\" 200 -\n",
      "127.0.0.1 - - [11/Mar/2024 10:25:54] \"GET /get_weights?date=2021-01-19 HTTP/1.1\" 200 -\n",
      "127.0.0.1 - - [11/Mar/2024 10:25:56] \"GET /get_weights?date=2021-01-25 HTTP/1.1\" 200 -\n",
      "127.0.0.1 - - [11/Mar/2024 10:25:59] \"GET /get_weights?date=2021-02-01 HTTP/1.1\" 200 -\n",
      "127.0.0.1 - - [11/Mar/2024 10:26:01] \"GET /get_weights?date=2021-02-08 HTTP/1.1\" 200 -\n",
      "127.0.0.1 - - [11/Mar/2024 10:26:03] \"GET /get_weights?date=2021-02-16 HTTP/1.1\" 200 -\n",
      "127.0.0.1 - - [11/Mar/2024 10:26:05] \"GET /get_weights?date=2021-02-22 HTTP/1.1\" 200 -\n",
      "127.0.0.1 - - [11/Mar/2024 10:26:08] \"GET /get_weights?date=2021-03-01 HTTP/1.1\" 200 -\n",
      "127.0.0.1 - - [11/Mar/2024 10:26:10] \"GET /get_weights?date=2021-03-08 HTTP/1.1\" 200 -\n",
      "127.0.0.1 - - [11/Mar/2024 10:26:12] \"GET /get_weights?date=2021-03-15 HTTP/1.1\" 200 -\n",
      "127.0.0.1 - - [11/Mar/2024 10:26:15] \"GET /get_weights?date=2021-03-22 HTTP/1.1\" 200 -\n",
      "127.0.0.1 - - [11/Mar/2024 10:26:17] \"GET /get_weights?date=2021-03-29 HTTP/1.1\" 200 -\n",
      "127.0.0.1 - - [11/Mar/2024 10:26:19] \"GET /get_weights?date=2021-04-05 HTTP/1.1\" 200 -\n",
      "127.0.0.1 - - [11/Mar/2024 10:26:21] \"GET /get_weights?date=2021-04-12 HTTP/1.1\" 200 -\n",
      "127.0.0.1 - - [11/Mar/2024 10:26:23] \"GET /get_weights?date=2021-04-19 HTTP/1.1\" 200 -\n",
      "127.0.0.1 - - [11/Mar/2024 10:26:26] \"GET /get_weights?date=2021-04-26 HTTP/1.1\" 200 -\n",
      "127.0.0.1 - - [11/Mar/2024 10:26:28] \"GET /get_weights?date=2021-05-03 HTTP/1.1\" 200 -\n",
      "127.0.0.1 - - [11/Mar/2024 10:26:30] \"GET /get_weights?date=2021-05-10 HTTP/1.1\" 200 -\n",
      "127.0.0.1 - - [11/Mar/2024 10:26:32] \"GET /get_weights?date=2021-05-17 HTTP/1.1\" 200 -\n",
      "127.0.0.1 - - [11/Mar/2024 10:26:34] \"GET /get_weights?date=2021-05-24 HTTP/1.1\" 200 -\n",
      "127.0.0.1 - - [11/Mar/2024 10:26:37] \"GET /get_weights?date=2021-06-01 HTTP/1.1\" 200 -\n",
      "127.0.0.1 - - [11/Mar/2024 10:26:39] \"GET /get_weights?date=2021-06-07 HTTP/1.1\" 200 -\n",
      "127.0.0.1 - - [11/Mar/2024 10:26:41] \"GET /get_weights?date=2021-06-14 HTTP/1.1\" 200 -\n",
      "127.0.0.1 - - [11/Mar/2024 10:26:43] \"GET /get_weights?date=2021-06-21 HTTP/1.1\" 200 -\n",
      "127.0.0.1 - - [11/Mar/2024 10:26:45] \"GET /get_weights?date=2021-06-28 HTTP/1.1\" 200 -\n",
      "127.0.0.1 - - [11/Mar/2024 10:26:47] \"GET /get_weights?date=2021-07-06 HTTP/1.1\" 200 -\n",
      "127.0.0.1 - - [11/Mar/2024 10:26:50] \"GET /get_weights?date=2021-07-12 HTTP/1.1\" 200 -\n",
      "127.0.0.1 - - [11/Mar/2024 10:26:52] \"GET /get_weights?date=2021-07-19 HTTP/1.1\" 200 -\n",
      "127.0.0.1 - - [11/Mar/2024 10:26:54] \"GET /get_weights?date=2021-07-26 HTTP/1.1\" 200 -\n",
      "127.0.0.1 - - [11/Mar/2024 10:26:56] \"GET /get_weights?date=2021-08-02 HTTP/1.1\" 200 -\n",
      "127.0.0.1 - - [11/Mar/2024 10:26:58] \"GET /get_weights?date=2021-08-09 HTTP/1.1\" 200 -\n",
      "127.0.0.1 - - [11/Mar/2024 10:27:01] \"GET /get_weights?date=2021-08-16 HTTP/1.1\" 200 -\n",
      "127.0.0.1 - - [11/Mar/2024 10:27:03] \"GET /get_weights?date=2021-08-23 HTTP/1.1\" 200 -\n",
      "127.0.0.1 - - [11/Mar/2024 10:27:05] \"GET /get_weights?date=2021-08-30 HTTP/1.1\" 200 -\n",
      "127.0.0.1 - - [11/Mar/2024 10:27:07] \"GET /get_weights?date=2021-09-07 HTTP/1.1\" 200 -\n",
      "127.0.0.1 - - [11/Mar/2024 10:27:09] \"GET /get_weights?date=2021-09-13 HTTP/1.1\" 200 -\n",
      "127.0.0.1 - - [11/Mar/2024 10:27:12] \"GET /get_weights?date=2021-09-20 HTTP/1.1\" 200 -\n",
      "127.0.0.1 - - [11/Mar/2024 10:27:15] \"GET /get_weights?date=2021-09-27 HTTP/1.1\" 200 -\n",
      "127.0.0.1 - - [11/Mar/2024 10:27:17] \"GET /get_weights?date=2021-10-04 HTTP/1.1\" 200 -\n",
      "127.0.0.1 - - [11/Mar/2024 10:27:19] \"GET /get_weights?date=2021-10-11 HTTP/1.1\" 200 -\n",
      "127.0.0.1 - - [11/Mar/2024 10:27:21] \"GET /get_weights?date=2021-10-18 HTTP/1.1\" 200 -\n",
      "127.0.0.1 - - [11/Mar/2024 10:27:23] \"GET /get_weights?date=2021-10-25 HTTP/1.1\" 200 -\n",
      "127.0.0.1 - - [11/Mar/2024 10:27:26] \"GET /get_weights?date=2021-11-01 HTTP/1.1\" 200 -\n",
      "127.0.0.1 - - [11/Mar/2024 10:27:28] \"GET /get_weights?date=2021-11-08 HTTP/1.1\" 200 -\n",
      "127.0.0.1 - - [11/Mar/2024 10:27:30] \"GET /get_weights?date=2021-11-15 HTTP/1.1\" 200 -\n",
      "127.0.0.1 - - [11/Mar/2024 10:27:32] \"GET /get_weights?date=2021-11-22 HTTP/1.1\" 200 -\n",
      "127.0.0.1 - - [11/Mar/2024 10:27:34] \"GET /get_weights?date=2021-11-29 HTTP/1.1\" 200 -\n",
      "127.0.0.1 - - [11/Mar/2024 10:27:37] \"GET /get_weights?date=2021-12-06 HTTP/1.1\" 200 -\n",
      "127.0.0.1 - - [11/Mar/2024 10:27:39] \"GET /get_weights?date=2021-12-13 HTTP/1.1\" 200 -\n",
      "127.0.0.1 - - [11/Mar/2024 10:27:41] \"GET /get_weights?date=2021-12-20 HTTP/1.1\" 200 -\n",
      "127.0.0.1 - - [11/Mar/2024 10:27:43] \"GET /get_weights?date=2021-12-27 HTTP/1.1\" 200 -\n",
      "127.0.0.1 - - [11/Mar/2024 10:27:46] \"GET /get_weights?date=2022-01-03 HTTP/1.1\" 200 -\n",
      "127.0.0.1 - - [11/Mar/2024 10:27:48] \"GET /get_weights?date=2022-01-10 HTTP/1.1\" 200 -\n",
      "127.0.0.1 - - [11/Mar/2024 10:27:50] \"GET /get_weights?date=2022-01-18 HTTP/1.1\" 200 -\n",
      "127.0.0.1 - - [11/Mar/2024 10:27:52] \"GET /get_weights?date=2022-01-24 HTTP/1.1\" 200 -\n",
      "127.0.0.1 - - [11/Mar/2024 10:27:54] \"GET /get_weights?date=2022-01-31 HTTP/1.1\" 200 -\n",
      "127.0.0.1 - - [11/Mar/2024 10:27:56] \"GET /get_weights?date=2022-02-07 HTTP/1.1\" 200 -\n",
      "127.0.0.1 - - [11/Mar/2024 10:27:59] \"GET /get_weights?date=2022-02-14 HTTP/1.1\" 200 -\n",
      "127.0.0.1 - - [11/Mar/2024 10:28:01] \"GET /get_weights?date=2022-02-22 HTTP/1.1\" 200 -\n",
      "127.0.0.1 - - [11/Mar/2024 10:28:03] \"GET /get_weights?date=2022-02-28 HTTP/1.1\" 200 -\n",
      "127.0.0.1 - - [11/Mar/2024 10:28:05] \"GET /get_weights?date=2022-03-07 HTTP/1.1\" 200 -\n",
      "127.0.0.1 - - [11/Mar/2024 10:28:07] \"GET /get_weights?date=2022-03-14 HTTP/1.1\" 200 -\n",
      "127.0.0.1 - - [11/Mar/2024 10:28:09] \"GET /get_weights?date=2022-03-21 HTTP/1.1\" 200 -\n",
      "127.0.0.1 - - [11/Mar/2024 10:28:12] \"GET /get_weights?date=2022-03-28 HTTP/1.1\" 200 -\n",
      "127.0.0.1 - - [11/Mar/2024 10:28:14] \"GET /get_weights?date=2022-04-04 HTTP/1.1\" 200 -\n",
      "127.0.0.1 - - [11/Mar/2024 10:28:16] \"GET /get_weights?date=2022-04-11 HTTP/1.1\" 200 -\n",
      "127.0.0.1 - - [11/Mar/2024 10:28:18] \"GET /get_weights?date=2022-04-18 HTTP/1.1\" 200 -\n",
      "127.0.0.1 - - [11/Mar/2024 10:28:20] \"GET /get_weights?date=2022-04-25 HTTP/1.1\" 200 -\n",
      "127.0.0.1 - - [11/Mar/2024 10:28:22] \"GET /get_weights?date=2022-05-02 HTTP/1.1\" 200 -\n",
      "127.0.0.1 - - [11/Mar/2024 10:28:25] \"GET /get_weights?date=2022-05-09 HTTP/1.1\" 200 -\n",
      "127.0.0.1 - - [11/Mar/2024 10:28:27] \"GET /get_weights?date=2022-05-16 HTTP/1.1\" 200 -\n",
      "127.0.0.1 - - [11/Mar/2024 10:28:29] \"GET /get_weights?date=2022-05-23 HTTP/1.1\" 200 -\n",
      "127.0.0.1 - - [11/Mar/2024 10:28:31] \"GET /get_weights?date=2022-05-31 HTTP/1.1\" 200 -\n",
      "127.0.0.1 - - [11/Mar/2024 10:28:33] \"GET /get_weights?date=2022-06-06 HTTP/1.1\" 200 -\n",
      "127.0.0.1 - - [11/Mar/2024 10:28:35] \"GET /get_weights?date=2022-06-13 HTTP/1.1\" 200 -\n",
      "127.0.0.1 - - [11/Mar/2024 10:28:38] \"GET /get_weights?date=2022-06-20 HTTP/1.1\" 200 -\n",
      "127.0.0.1 - - [11/Mar/2024 10:28:40] \"GET /get_weights?date=2022-06-27 HTTP/1.1\" 200 -\n",
      "127.0.0.1 - - [11/Mar/2024 10:28:42] \"GET /get_weights?date=2022-07-05 HTTP/1.1\" 200 -\n",
      "127.0.0.1 - - [11/Mar/2024 10:28:44] \"GET /get_weights?date=2022-07-11 HTTP/1.1\" 200 -\n",
      "127.0.0.1 - - [11/Mar/2024 10:28:46] \"GET /get_weights?date=2022-07-18 HTTP/1.1\" 200 -\n",
      "127.0.0.1 - - [11/Mar/2024 10:28:49] \"GET /get_weights?date=2022-07-25 HTTP/1.1\" 200 -\n",
      "127.0.0.1 - - [11/Mar/2024 10:28:51] \"GET /get_weights?date=2022-08-01 HTTP/1.1\" 200 -\n",
      "127.0.0.1 - - [11/Mar/2024 10:28:53] \"GET /get_weights?date=2022-08-08 HTTP/1.1\" 200 -\n",
      "127.0.0.1 - - [11/Mar/2024 10:28:55] \"GET /get_weights?date=2022-08-15 HTTP/1.1\" 200 -\n",
      "127.0.0.1 - - [11/Mar/2024 10:28:57] \"GET /get_weights?date=2022-08-22 HTTP/1.1\" 200 -\n",
      "127.0.0.1 - - [11/Mar/2024 10:29:00] \"GET /get_weights?date=2022-08-29 HTTP/1.1\" 200 -\n",
      "127.0.0.1 - - [11/Mar/2024 10:29:02] \"GET /get_weights?date=2022-09-06 HTTP/1.1\" 200 -\n",
      "127.0.0.1 - - [11/Mar/2024 10:29:04] \"GET /get_weights?date=2022-09-12 HTTP/1.1\" 200 -\n",
      "127.0.0.1 - - [11/Mar/2024 10:29:06] \"GET /get_weights?date=2022-09-19 HTTP/1.1\" 200 -\n",
      "127.0.0.1 - - [11/Mar/2024 10:29:08] \"GET /get_weights?date=2022-09-26 HTTP/1.1\" 200 -\n",
      "127.0.0.1 - - [11/Mar/2024 10:29:10] \"GET /get_weights?date=2022-10-03 HTTP/1.1\" 200 -\n",
      "127.0.0.1 - - [11/Mar/2024 10:29:13] \"GET /get_weights?date=2022-10-10 HTTP/1.1\" 200 -\n",
      "127.0.0.1 - - [11/Mar/2024 10:29:15] \"GET /get_weights?date=2022-10-17 HTTP/1.1\" 200 -\n",
      "127.0.0.1 - - [11/Mar/2024 10:29:17] \"GET /get_weights?date=2022-10-24 HTTP/1.1\" 200 -\n",
      "127.0.0.1 - - [11/Mar/2024 10:29:19] \"GET /get_weights?date=2022-10-31 HTTP/1.1\" 200 -\n",
      "127.0.0.1 - - [11/Mar/2024 10:29:21] \"GET /get_weights?date=2022-11-07 HTTP/1.1\" 200 -\n",
      "127.0.0.1 - - [11/Mar/2024 10:29:24] \"GET /get_weights?date=2022-11-14 HTTP/1.1\" 200 -\n",
      "127.0.0.1 - - [11/Mar/2024 10:29:26] \"GET /get_weights?date=2022-11-21 HTTP/1.1\" 200 -\n",
      "127.0.0.1 - - [11/Mar/2024 10:29:28] \"GET /get_weights?date=2022-11-28 HTTP/1.1\" 200 -\n",
      "127.0.0.1 - - [11/Mar/2024 10:29:30] \"GET /get_weights?date=2022-12-05 HTTP/1.1\" 200 -\n",
      "127.0.0.1 - - [11/Mar/2024 10:29:32] \"GET /get_weights?date=2022-12-12 HTTP/1.1\" 200 -\n",
      "127.0.0.1 - - [11/Mar/2024 10:29:34] \"GET /get_weights?date=2022-12-19 HTTP/1.1\" 200 -\n",
      "127.0.0.1 - - [11/Mar/2024 10:29:37] \"GET /get_weights?date=2022-12-27 HTTP/1.1\" 200 -\n",
      "127.0.0.1 - - [11/Mar/2024 10:29:39] \"GET /get_weights?date=2023-01-03 HTTP/1.1\" 200 -\n",
      "127.0.0.1 - - [11/Mar/2024 10:29:41] \"GET /get_weights?date=2023-01-09 HTTP/1.1\" 200 -\n",
      "127.0.0.1 - - [11/Mar/2024 10:29:43] \"GET /get_weights?date=2023-01-17 HTTP/1.1\" 200 -\n",
      "127.0.0.1 - - [11/Mar/2024 10:29:45] \"GET /get_weights?date=2023-01-23 HTTP/1.1\" 200 -\n",
      "127.0.0.1 - - [11/Mar/2024 10:29:47] \"GET /get_weights?date=2023-01-30 HTTP/1.1\" 200 -\n",
      "127.0.0.1 - - [11/Mar/2024 10:29:50] \"GET /get_weights?date=2023-02-06 HTTP/1.1\" 200 -\n",
      "127.0.0.1 - - [11/Mar/2024 10:29:52] \"GET /get_weights?date=2023-02-13 HTTP/1.1\" 200 -\n",
      "127.0.0.1 - - [11/Mar/2024 10:29:54] \"GET /get_weights?date=2023-02-21 HTTP/1.1\" 200 -\n",
      "127.0.0.1 - - [11/Mar/2024 10:29:56] \"GET /get_weights?date=2023-02-27 HTTP/1.1\" 200 -\n",
      "127.0.0.1 - - [11/Mar/2024 10:29:58] \"GET /get_weights?date=2023-03-06 HTTP/1.1\" 200 -\n",
      "127.0.0.1 - - [11/Mar/2024 10:30:01] \"GET /get_weights?date=2023-03-13 HTTP/1.1\" 200 -\n",
      "127.0.0.1 - - [11/Mar/2024 10:30:03] \"GET /get_weights?date=2023-03-20 HTTP/1.1\" 200 -\n",
      "127.0.0.1 - - [11/Mar/2024 10:30:05] \"GET /get_weights?date=2023-03-27 HTTP/1.1\" 200 -\n",
      "127.0.0.1 - - [11/Mar/2024 10:30:07] \"GET /get_weights?date=2023-04-03 HTTP/1.1\" 200 -\n",
      "127.0.0.1 - - [11/Mar/2024 10:30:09] \"GET /get_weights?date=2023-04-10 HTTP/1.1\" 200 -\n",
      "127.0.0.1 - - [11/Mar/2024 10:30:11] \"GET /get_weights?date=2023-04-17 HTTP/1.1\" 200 -\n",
      "127.0.0.1 - - [11/Mar/2024 10:30:14] \"GET /get_weights?date=2023-04-24 HTTP/1.1\" 200 -\n",
      "127.0.0.1 - - [11/Mar/2024 10:30:16] \"GET /get_weights?date=2023-05-01 HTTP/1.1\" 200 -\n",
      "127.0.0.1 - - [11/Mar/2024 10:30:18] \"GET /get_weights?date=2023-05-08 HTTP/1.1\" 200 -\n",
      "127.0.0.1 - - [11/Mar/2024 10:30:20] \"GET /get_weights?date=2023-05-15 HTTP/1.1\" 200 -\n",
      "127.0.0.1 - - [11/Mar/2024 10:30:22] \"GET /get_weights?date=2023-05-22 HTTP/1.1\" 200 -\n",
      "127.0.0.1 - - [11/Mar/2024 10:30:25] \"GET /get_weights?date=2023-05-30 HTTP/1.1\" 200 -\n",
      "127.0.0.1 - - [11/Mar/2024 10:30:27] \"GET /get_weights?date=2023-06-05 HTTP/1.1\" 200 -\n",
      "127.0.0.1 - - [11/Mar/2024 10:30:29] \"GET /get_weights?date=2023-06-12 HTTP/1.1\" 200 -\n",
      "127.0.0.1 - - [11/Mar/2024 10:30:31] \"GET /get_weights?date=2023-06-19 HTTP/1.1\" 200 -\n",
      "127.0.0.1 - - [11/Mar/2024 10:30:33] \"GET /get_weights?date=2023-06-26 HTTP/1.1\" 200 -\n",
      "127.0.0.1 - - [11/Mar/2024 10:30:35] \"GET /get_weights?date=2023-07-03 HTTP/1.1\" 200 -\n",
      "127.0.0.1 - - [11/Mar/2024 10:30:38] \"GET /get_weights?date=2023-07-10 HTTP/1.1\" 200 -\n",
      "127.0.0.1 - - [11/Mar/2024 10:30:40] \"GET /get_weights?date=2023-07-17 HTTP/1.1\" 200 -\n",
      "127.0.0.1 - - [11/Mar/2024 10:30:42] \"GET /get_weights?date=2023-07-24 HTTP/1.1\" 200 -\n",
      "127.0.0.1 - - [11/Mar/2024 10:30:44] \"GET /get_weights?date=2023-07-31 HTTP/1.1\" 200 -\n",
      "127.0.0.1 - - [11/Mar/2024 10:30:46] \"GET /get_weights?date=2023-08-07 HTTP/1.1\" 200 -\n",
      "127.0.0.1 - - [11/Mar/2024 10:30:48] \"GET /get_weights?date=2023-08-14 HTTP/1.1\" 200 -\n",
      "127.0.0.1 - - [11/Mar/2024 10:30:51] \"GET /get_weights?date=2023-08-21 HTTP/1.1\" 200 -\n",
      "127.0.0.1 - - [11/Mar/2024 10:30:53] \"GET /get_weights?date=2023-08-28 HTTP/1.1\" 200 -\n",
      "127.0.0.1 - - [11/Mar/2024 10:30:55] \"GET /get_weights?date=2023-09-05 HTTP/1.1\" 200 -\n",
      "127.0.0.1 - - [11/Mar/2024 10:30:57] \"GET /get_weights?date=2023-09-11 HTTP/1.1\" 200 -\n",
      "127.0.0.1 - - [11/Mar/2024 10:31:00] \"GET /get_weights?date=2023-09-18 HTTP/1.1\" 200 -\n",
      "127.0.0.1 - - [11/Mar/2024 10:31:02] \"GET /get_weights?date=2023-09-25 HTTP/1.1\" 200 -\n",
      "127.0.0.1 - - [11/Mar/2024 10:31:04] \"GET /get_weights?date=2023-10-02 HTTP/1.1\" 200 -\n",
      "127.0.0.1 - - [11/Mar/2024 10:31:06] \"GET /get_weights?date=2023-10-09 HTTP/1.1\" 200 -\n",
      "127.0.0.1 - - [11/Mar/2024 10:31:08] \"GET /get_weights?date=2023-10-16 HTTP/1.1\" 200 -\n",
      "127.0.0.1 - - [11/Mar/2024 10:31:11] \"GET /get_weights?date=2023-10-23 HTTP/1.1\" 200 -\n",
      "127.0.0.1 - - [11/Mar/2024 10:31:13] \"GET /get_weights?date=2023-10-30 HTTP/1.1\" 200 -\n",
      "127.0.0.1 - - [11/Mar/2024 10:31:15] \"GET /get_weights?date=2023-11-06 HTTP/1.1\" 200 -\n",
      "127.0.0.1 - - [11/Mar/2024 10:31:17] \"GET /get_weights?date=2023-11-13 HTTP/1.1\" 200 -\n",
      "127.0.0.1 - - [11/Mar/2024 10:31:19] \"GET /get_weights?date=2023-11-20 HTTP/1.1\" 200 -\n",
      "127.0.0.1 - - [11/Mar/2024 10:31:21] \"GET /get_weights?date=2023-11-27 HTTP/1.1\" 200 -\n",
      "127.0.0.1 - - [11/Mar/2024 10:31:24] \"GET /get_weights?date=2023-12-04 HTTP/1.1\" 200 -\n",
      "127.0.0.1 - - [11/Mar/2024 10:31:26] \"GET /get_weights?date=2023-12-11 HTTP/1.1\" 200 -\n"
     ]
    }
   ],
   "source": [
    "app.run(port=5000)"
   ]
  },
  {
   "cell_type": "code",
   "execution_count": null,
   "id": "7a1839cc",
   "metadata": {},
   "outputs": [],
   "source": [
    "update the "
   ]
  }
 ],
 "metadata": {
  "kernelspec": {
   "display_name": "Python 3 (ipykernel)",
   "language": "python",
   "name": "python3"
  },
  "language_info": {
   "codemirror_mode": {
    "name": "ipython",
    "version": 3
   },
   "file_extension": ".py",
   "mimetype": "text/x-python",
   "name": "python",
   "nbconvert_exporter": "python",
   "pygments_lexer": "ipython3",
   "version": "3.8.13"
  }
 },
 "nbformat": 4,
 "nbformat_minor": 5
}
