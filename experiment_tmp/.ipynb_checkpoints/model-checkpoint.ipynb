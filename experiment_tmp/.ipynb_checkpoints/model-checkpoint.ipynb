{
 "cells": [
  {
   "cell_type": "markdown",
   "metadata": {
    "id": "BlApRJuPfrxq"
   },
   "source": [
    "# Imports"
   ]
  },
  {
   "cell_type": "code",
   "execution_count": 1,
   "metadata": {
    "colab": {
     "base_uri": "https://localhost:8080/"
    },
    "id": "EvaaDKBoMaO8",
    "outputId": "11c8de58-a8b7-4df1-ffd1-22e6b823df02"
   },
   "outputs": [
    {
     "name": "stdout",
     "output_type": "stream",
     "text": [
      "Collecting git+https://github.com/dsman1823/deepdowmine.git\n",
      "  Cloning https://github.com/dsman1823/deepdowmine.git to /tmp/pip-req-build-rxzjf1ql\n",
      "  Running command git clone --filter=blob:none --quiet https://github.com/dsman1823/deepdowmine.git /tmp/pip-req-build-rxzjf1ql\n",
      "  Resolved https://github.com/dsman1823/deepdowmine.git to commit 77b238ea709696ea087143ceb2f169284a3474f1\n",
      "  Preparing metadata (setup.py) ... \u001b[?25l\u001b[?25hdone\n",
      "Requirement already satisfied: cvxpylayers in /usr/local/lib/python3.10/dist-packages (from deepdowmine==0.2.3) (0.1.6)\n",
      "Requirement already satisfied: matplotlib in /usr/local/lib/python3.10/dist-packages (from deepdowmine==0.2.3) (3.7.1)\n",
      "Requirement already satisfied: mlflow in /usr/local/lib/python3.10/dist-packages (from deepdowmine==0.2.3) (2.11.1)\n",
      "Requirement already satisfied: numpy>=1.16.5 in /usr/local/lib/python3.10/dist-packages (from deepdowmine==0.2.3) (1.25.2)\n",
      "Requirement already satisfied: pandas in /usr/local/lib/python3.10/dist-packages (from deepdowmine==0.2.3) (1.5.3)\n",
      "Requirement already satisfied: pillow in /usr/local/lib/python3.10/dist-packages (from deepdowmine==0.2.3) (9.4.0)\n",
      "Requirement already satisfied: seaborn in /usr/local/lib/python3.10/dist-packages (from deepdowmine==0.2.3) (0.13.1)\n",
      "Requirement already satisfied: torch>=1.5 in /usr/local/lib/python3.10/dist-packages (from deepdowmine==0.2.3) (2.2.1+cu121)\n",
      "Requirement already satisfied: tensorboard in /usr/local/lib/python3.10/dist-packages (from deepdowmine==0.2.3) (2.15.2)\n",
      "Requirement already satisfied: tqdm in /usr/local/lib/python3.10/dist-packages (from deepdowmine==0.2.3) (4.66.2)\n",
      "Requirement already satisfied: filelock in /usr/local/lib/python3.10/dist-packages (from torch>=1.5->deepdowmine==0.2.3) (3.13.1)\n",
      "Requirement already satisfied: typing-extensions>=4.8.0 in /usr/local/lib/python3.10/dist-packages (from torch>=1.5->deepdowmine==0.2.3) (4.10.0)\n",
      "Requirement already satisfied: sympy in /usr/local/lib/python3.10/dist-packages (from torch>=1.5->deepdowmine==0.2.3) (1.12)\n",
      "Requirement already satisfied: networkx in /usr/local/lib/python3.10/dist-packages (from torch>=1.5->deepdowmine==0.2.3) (3.2.1)\n",
      "Requirement already satisfied: jinja2 in /usr/local/lib/python3.10/dist-packages (from torch>=1.5->deepdowmine==0.2.3) (3.1.3)\n",
      "Requirement already satisfied: fsspec in /usr/local/lib/python3.10/dist-packages (from torch>=1.5->deepdowmine==0.2.3) (2023.6.0)\n",
      "Requirement already satisfied: nvidia-cuda-nvrtc-cu12==12.1.105 in /usr/local/lib/python3.10/dist-packages (from torch>=1.5->deepdowmine==0.2.3) (12.1.105)\n",
      "Requirement already satisfied: nvidia-cuda-runtime-cu12==12.1.105 in /usr/local/lib/python3.10/dist-packages (from torch>=1.5->deepdowmine==0.2.3) (12.1.105)\n",
      "Requirement already satisfied: nvidia-cuda-cupti-cu12==12.1.105 in /usr/local/lib/python3.10/dist-packages (from torch>=1.5->deepdowmine==0.2.3) (12.1.105)\n",
      "Requirement already satisfied: nvidia-cudnn-cu12==8.9.2.26 in /usr/local/lib/python3.10/dist-packages (from torch>=1.5->deepdowmine==0.2.3) (8.9.2.26)\n",
      "Requirement already satisfied: nvidia-cublas-cu12==12.1.3.1 in /usr/local/lib/python3.10/dist-packages (from torch>=1.5->deepdowmine==0.2.3) (12.1.3.1)\n",
      "Requirement already satisfied: nvidia-cufft-cu12==11.0.2.54 in /usr/local/lib/python3.10/dist-packages (from torch>=1.5->deepdowmine==0.2.3) (11.0.2.54)\n",
      "Requirement already satisfied: nvidia-curand-cu12==10.3.2.106 in /usr/local/lib/python3.10/dist-packages (from torch>=1.5->deepdowmine==0.2.3) (10.3.2.106)\n",
      "Requirement already satisfied: nvidia-cusolver-cu12==11.4.5.107 in /usr/local/lib/python3.10/dist-packages (from torch>=1.5->deepdowmine==0.2.3) (11.4.5.107)\n",
      "Requirement already satisfied: nvidia-cusparse-cu12==12.1.0.106 in /usr/local/lib/python3.10/dist-packages (from torch>=1.5->deepdowmine==0.2.3) (12.1.0.106)\n",
      "Requirement already satisfied: nvidia-nccl-cu12==2.19.3 in /usr/local/lib/python3.10/dist-packages (from torch>=1.5->deepdowmine==0.2.3) (2.19.3)\n",
      "Requirement already satisfied: nvidia-nvtx-cu12==12.1.105 in /usr/local/lib/python3.10/dist-packages (from torch>=1.5->deepdowmine==0.2.3) (12.1.105)\n",
      "Requirement already satisfied: triton==2.2.0 in /usr/local/lib/python3.10/dist-packages (from torch>=1.5->deepdowmine==0.2.3) (2.2.0)\n",
      "Requirement already satisfied: nvidia-nvjitlink-cu12 in /usr/local/lib/python3.10/dist-packages (from nvidia-cusolver-cu12==11.4.5.107->torch>=1.5->deepdowmine==0.2.3) (12.4.99)\n",
      "Requirement already satisfied: scipy>=1.1.0 in /usr/local/lib/python3.10/dist-packages (from cvxpylayers->deepdowmine==0.2.3) (1.11.4)\n",
      "Requirement already satisfied: diffcp>=1.0.13 in /usr/local/lib/python3.10/dist-packages (from cvxpylayers->deepdowmine==0.2.3) (1.0.23)\n",
      "Requirement already satisfied: cvxpy>=1.1.0a4 in /usr/local/lib/python3.10/dist-packages (from cvxpylayers->deepdowmine==0.2.3) (1.3.3)\n",
      "Requirement already satisfied: contourpy>=1.0.1 in /usr/local/lib/python3.10/dist-packages (from matplotlib->deepdowmine==0.2.3) (1.2.0)\n",
      "Requirement already satisfied: cycler>=0.10 in /usr/local/lib/python3.10/dist-packages (from matplotlib->deepdowmine==0.2.3) (0.12.1)\n",
      "Requirement already satisfied: fonttools>=4.22.0 in /usr/local/lib/python3.10/dist-packages (from matplotlib->deepdowmine==0.2.3) (4.49.0)\n",
      "Requirement already satisfied: kiwisolver>=1.0.1 in /usr/local/lib/python3.10/dist-packages (from matplotlib->deepdowmine==0.2.3) (1.4.5)\n",
      "Requirement already satisfied: packaging>=20.0 in /usr/local/lib/python3.10/dist-packages (from matplotlib->deepdowmine==0.2.3) (23.2)\n",
      "Requirement already satisfied: pyparsing>=2.3.1 in /usr/local/lib/python3.10/dist-packages (from matplotlib->deepdowmine==0.2.3) (3.1.2)\n",
      "Requirement already satisfied: python-dateutil>=2.7 in /usr/local/lib/python3.10/dist-packages (from matplotlib->deepdowmine==0.2.3) (2.8.2)\n",
      "Requirement already satisfied: click<9,>=7.0 in /usr/local/lib/python3.10/dist-packages (from mlflow->deepdowmine==0.2.3) (8.1.7)\n",
      "Requirement already satisfied: cloudpickle<4 in /usr/local/lib/python3.10/dist-packages (from mlflow->deepdowmine==0.2.3) (2.2.1)\n",
      "Requirement already satisfied: entrypoints<1 in /usr/local/lib/python3.10/dist-packages (from mlflow->deepdowmine==0.2.3) (0.4)\n",
      "Requirement already satisfied: gitpython<4,>=3.1.9 in /usr/local/lib/python3.10/dist-packages (from mlflow->deepdowmine==0.2.3) (3.1.42)\n",
      "Requirement already satisfied: pyyaml<7,>=5.1 in /usr/local/lib/python3.10/dist-packages (from mlflow->deepdowmine==0.2.3) (6.0.1)\n",
      "Requirement already satisfied: protobuf<5,>=3.12.0 in /usr/local/lib/python3.10/dist-packages (from mlflow->deepdowmine==0.2.3) (3.20.3)\n",
      "Requirement already satisfied: pytz<2025 in /usr/local/lib/python3.10/dist-packages (from mlflow->deepdowmine==0.2.3) (2023.4)\n",
      "Requirement already satisfied: requests<3,>=2.17.3 in /usr/local/lib/python3.10/dist-packages (from mlflow->deepdowmine==0.2.3) (2.31.0)\n",
      "Requirement already satisfied: importlib-metadata!=4.7.0,<8,>=3.7.0 in /usr/local/lib/python3.10/dist-packages (from mlflow->deepdowmine==0.2.3) (7.0.2)\n",
      "Requirement already satisfied: sqlparse<1,>=0.4.0 in /usr/local/lib/python3.10/dist-packages (from mlflow->deepdowmine==0.2.3) (0.4.4)\n",
      "Requirement already satisfied: alembic!=1.10.0,<2 in /usr/local/lib/python3.10/dist-packages (from mlflow->deepdowmine==0.2.3) (1.13.1)\n",
      "Requirement already satisfied: docker<8,>=4.0.0 in /usr/local/lib/python3.10/dist-packages (from mlflow->deepdowmine==0.2.3) (7.0.0)\n",
      "Requirement already satisfied: Flask<4 in /usr/local/lib/python3.10/dist-packages (from mlflow->deepdowmine==0.2.3) (2.2.5)\n",
      "Requirement already satisfied: querystring-parser<2 in /usr/local/lib/python3.10/dist-packages (from mlflow->deepdowmine==0.2.3) (1.2.4)\n",
      "Requirement already satisfied: sqlalchemy<3,>=1.4.0 in /usr/local/lib/python3.10/dist-packages (from mlflow->deepdowmine==0.2.3) (2.0.28)\n",
      "Requirement already satisfied: scikit-learn<2 in /usr/local/lib/python3.10/dist-packages (from mlflow->deepdowmine==0.2.3) (1.2.2)\n",
      "Requirement already satisfied: pyarrow<16,>=4.0.0 in /usr/local/lib/python3.10/dist-packages (from mlflow->deepdowmine==0.2.3) (14.0.2)\n",
      "Requirement already satisfied: markdown<4,>=3.3 in /usr/local/lib/python3.10/dist-packages (from mlflow->deepdowmine==0.2.3) (3.5.2)\n",
      "Requirement already satisfied: graphene<4 in /usr/local/lib/python3.10/dist-packages (from mlflow->deepdowmine==0.2.3) (3.3)\n",
      "Requirement already satisfied: gunicorn<22 in /usr/local/lib/python3.10/dist-packages (from mlflow->deepdowmine==0.2.3) (21.2.0)\n",
      "Requirement already satisfied: absl-py>=0.4 in /usr/local/lib/python3.10/dist-packages (from tensorboard->deepdowmine==0.2.3) (1.4.0)\n",
      "Requirement already satisfied: grpcio>=1.48.2 in /usr/local/lib/python3.10/dist-packages (from tensorboard->deepdowmine==0.2.3) (1.62.1)\n",
      "Requirement already satisfied: google-auth<3,>=1.6.3 in /usr/local/lib/python3.10/dist-packages (from tensorboard->deepdowmine==0.2.3) (2.27.0)\n",
      "Requirement already satisfied: google-auth-oauthlib<2,>=0.5 in /usr/local/lib/python3.10/dist-packages (from tensorboard->deepdowmine==0.2.3) (1.2.0)\n",
      "Requirement already satisfied: setuptools>=41.0.0 in /usr/local/lib/python3.10/dist-packages (from tensorboard->deepdowmine==0.2.3) (67.7.2)\n",
      "Requirement already satisfied: six>1.9 in /usr/local/lib/python3.10/dist-packages (from tensorboard->deepdowmine==0.2.3) (1.16.0)\n",
      "Requirement already satisfied: tensorboard-data-server<0.8.0,>=0.7.0 in /usr/local/lib/python3.10/dist-packages (from tensorboard->deepdowmine==0.2.3) (0.7.2)\n",
      "Requirement already satisfied: werkzeug>=1.0.1 in /usr/local/lib/python3.10/dist-packages (from tensorboard->deepdowmine==0.2.3) (3.0.1)\n",
      "Requirement already satisfied: Mako in /usr/local/lib/python3.10/dist-packages (from alembic!=1.10.0,<2->mlflow->deepdowmine==0.2.3) (1.3.2)\n",
      "Requirement already satisfied: osqp>=0.4.1 in /usr/local/lib/python3.10/dist-packages (from cvxpy>=1.1.0a4->cvxpylayers->deepdowmine==0.2.3) (0.6.2.post8)\n",
      "Requirement already satisfied: ecos>=2 in /usr/local/lib/python3.10/dist-packages (from cvxpy>=1.1.0a4->cvxpylayers->deepdowmine==0.2.3) (2.0.13)\n",
      "Requirement already satisfied: scs>=1.1.6 in /usr/local/lib/python3.10/dist-packages (from cvxpy>=1.1.0a4->cvxpylayers->deepdowmine==0.2.3) (3.2.4.post1)\n",
      "Requirement already satisfied: pybind11>=2.4 in /usr/local/lib/python3.10/dist-packages (from diffcp>=1.0.13->cvxpylayers->deepdowmine==0.2.3) (2.11.1)\n",
      "Requirement already satisfied: threadpoolctl>=1.1 in /usr/local/lib/python3.10/dist-packages (from diffcp>=1.0.13->cvxpylayers->deepdowmine==0.2.3) (3.3.0)\n",
      "Requirement already satisfied: urllib3>=1.26.0 in /usr/local/lib/python3.10/dist-packages (from docker<8,>=4.0.0->mlflow->deepdowmine==0.2.3) (2.0.7)\n",
      "Requirement already satisfied: itsdangerous>=2.0 in /usr/local/lib/python3.10/dist-packages (from Flask<4->mlflow->deepdowmine==0.2.3) (2.1.2)\n",
      "Requirement already satisfied: gitdb<5,>=4.0.1 in /usr/local/lib/python3.10/dist-packages (from gitpython<4,>=3.1.9->mlflow->deepdowmine==0.2.3) (4.0.11)\n",
      "Requirement already satisfied: cachetools<6.0,>=2.0.0 in /usr/local/lib/python3.10/dist-packages (from google-auth<3,>=1.6.3->tensorboard->deepdowmine==0.2.3) (5.3.3)\n",
      "Requirement already satisfied: pyasn1-modules>=0.2.1 in /usr/local/lib/python3.10/dist-packages (from google-auth<3,>=1.6.3->tensorboard->deepdowmine==0.2.3) (0.3.0)\n",
      "Requirement already satisfied: rsa<5,>=3.1.4 in /usr/local/lib/python3.10/dist-packages (from google-auth<3,>=1.6.3->tensorboard->deepdowmine==0.2.3) (4.9)\n",
      "Requirement already satisfied: requests-oauthlib>=0.7.0 in /usr/local/lib/python3.10/dist-packages (from google-auth-oauthlib<2,>=0.5->tensorboard->deepdowmine==0.2.3) (1.4.0)\n",
      "Requirement already satisfied: graphql-core<3.3,>=3.1 in /usr/local/lib/python3.10/dist-packages (from graphene<4->mlflow->deepdowmine==0.2.3) (3.2.3)\n",
      "Requirement already satisfied: graphql-relay<3.3,>=3.1 in /usr/local/lib/python3.10/dist-packages (from graphene<4->mlflow->deepdowmine==0.2.3) (3.2.0)\n",
      "Requirement already satisfied: aniso8601<10,>=8 in /usr/local/lib/python3.10/dist-packages (from graphene<4->mlflow->deepdowmine==0.2.3) (9.0.1)\n",
      "Requirement already satisfied: zipp>=0.5 in /usr/local/lib/python3.10/dist-packages (from importlib-metadata!=4.7.0,<8,>=3.7.0->mlflow->deepdowmine==0.2.3) (3.18.0)\n",
      "Requirement already satisfied: MarkupSafe>=2.0 in /usr/local/lib/python3.10/dist-packages (from jinja2->torch>=1.5->deepdowmine==0.2.3) (2.1.5)\n",
      "Requirement already satisfied: charset-normalizer<4,>=2 in /usr/local/lib/python3.10/dist-packages (from requests<3,>=2.17.3->mlflow->deepdowmine==0.2.3) (3.3.2)\n",
      "Requirement already satisfied: idna<4,>=2.5 in /usr/local/lib/python3.10/dist-packages (from requests<3,>=2.17.3->mlflow->deepdowmine==0.2.3) (3.6)\n",
      "Requirement already satisfied: certifi>=2017.4.17 in /usr/local/lib/python3.10/dist-packages (from requests<3,>=2.17.3->mlflow->deepdowmine==0.2.3) (2024.2.2)\n",
      "Requirement already satisfied: joblib>=1.1.1 in /usr/local/lib/python3.10/dist-packages (from scikit-learn<2->mlflow->deepdowmine==0.2.3) (1.3.2)\n",
      "Requirement already satisfied: greenlet!=0.4.17 in /usr/local/lib/python3.10/dist-packages (from sqlalchemy<3,>=1.4.0->mlflow->deepdowmine==0.2.3) (3.0.3)\n",
      "Requirement already satisfied: mpmath>=0.19 in /usr/local/lib/python3.10/dist-packages (from sympy->torch>=1.5->deepdowmine==0.2.3) (1.3.0)\n",
      "Requirement already satisfied: smmap<6,>=3.0.1 in /usr/local/lib/python3.10/dist-packages (from gitdb<5,>=4.0.1->gitpython<4,>=3.1.9->mlflow->deepdowmine==0.2.3) (5.0.1)\n",
      "Requirement already satisfied: qdldl in /usr/local/lib/python3.10/dist-packages (from osqp>=0.4.1->cvxpy>=1.1.0a4->cvxpylayers->deepdowmine==0.2.3) (0.1.7.post0)\n",
      "Requirement already satisfied: pyasn1<0.6.0,>=0.4.6 in /usr/local/lib/python3.10/dist-packages (from pyasn1-modules>=0.2.1->google-auth<3,>=1.6.3->tensorboard->deepdowmine==0.2.3) (0.5.1)\n",
      "Requirement already satisfied: oauthlib>=3.0.0 in /usr/local/lib/python3.10/dist-packages (from requests-oauthlib>=0.7.0->google-auth-oauthlib<2,>=0.5->tensorboard->deepdowmine==0.2.3) (3.2.2)\n"
     ]
    }
   ],
   "source": [
    "!pip install git+https://github.com/dsman1823/deepdowmine.git"
   ]
  },
  {
   "cell_type": "code",
   "execution_count": 1,
   "metadata": {
    "id": "tfN21pcMhatf"
   },
   "outputs": [],
   "source": [
    "from deepdowmine.layers import CovarianceMatrix\n",
    "from deepdowmine.layers.allocate import NumericalMarkowitzWithShorting\n",
    "import torch\n",
    "import torch.nn.functional as F"
   ]
  },
  {
   "cell_type": "code",
   "execution_count": 2,
   "metadata": {
    "id": "eWwxa1MBf-Sk"
   },
   "outputs": [],
   "source": [
    "from deepdowmine.benchmarks import Benchmark, OneOverN, Random\n",
    "from deepdowmine.callbacks import EarlyStoppingCallback\n",
    "from deepdowmine.data import InRAMDataset, RigidDataLoader, prepare_standard_scaler, Scale, SeqRigidDataLoader, WeeklyRigidDataLoader\n",
    "from deepdowmine.data.synthetic import sin_single\n",
    "from deepdowmine.experiments import Run\n",
    "from deepdowmine.layers import SoftmaxAllocator\n",
    "from deepdowmine.losses import MeanReturns, SharpeRatio, MaximumDrawdown, StandardDeviation\n",
    "from deepdowmine.visualize import generate_metrics_table, generate_weights_table, plot_metrics, plot_weight_heatmap\n",
    "from deepdowmine.nn import BachelierNetWithShorting, BachelierNet, KeynesNet, BachelierNetWithShortingUpd, LinearNetMine\n",
    "from deepdowmine.nn import RnnNetFullOpti, LstmNetFullOpti, DenseNetMinVar, DenseNetFullOpti\n",
    "\n",
    "\n",
    "import matplotlib.pyplot as plt\n",
    "import numpy as np\n",
    "import pandas as pd\n",
    "import torch\n",
    "import matplotlib.pyplot as plt\n"
   ]
  },
  {
   "cell_type": "markdown",
   "metadata": {
    "id": "VNqxm-tdcv3Y"
   },
   "source": [
    "# Setup"
   ]
  },
  {
   "cell_type": "code",
   "execution_count": 39,
   "metadata": {
    "id": "x-bSnRLxonV_"
   },
   "outputs": [],
   "source": [
    "np.random.seed(5)\n",
    "returns = pd.read_csv('train_data_1.csv', index_col = 0).to_numpy()[1:]"
   ]
  },
  {
   "cell_type": "code",
   "execution_count": 40,
   "metadata": {
    "colab": {
     "base_uri": "https://localhost:8080/"
    },
    "id": "xr7u61ueYxcB",
    "outputId": "e1e9183a-1971-46b5-ab77-f79f8ba6bb65"
   },
   "outputs": [
    {
     "data": {
      "text/plain": [
       "3763"
      ]
     },
     "execution_count": 40,
     "metadata": {},
     "output_type": "execute_result"
    }
   ],
   "source": [
    "len(returns)"
   ]
  },
  {
   "cell_type": "code",
   "execution_count": 41,
   "metadata": {
    "id": "5G-3j5QtgEH6"
   },
   "outputs": [],
   "source": [
    "n_timesteps, n_assets = len(returns), 5#11**4, 450\n",
    "\n",
    "#returns = np.random.normal(0, .2, size = (n_timesteps, n_assets))\n",
    "\n",
    "lookback, gap, horizon = 50, 0, 5# 40, 0, 5   loss=-0.09645, test_loss=-0.08003]\n",
    "n_samples = n_timesteps - lookback - horizon - gap + 1\n",
    "\n",
    "indices = np.arange(n_samples)\n",
    "# np.random.seed(32)\n",
    "# np.random.shuffle(indices)\n",
    "split_ix = int(n_samples * 0.8)\n",
    "indices_train = list(range(split_ix))\n",
    "indices_test = list(range(split_ix + lookback + horizon, n_samples))\n",
    "\n",
    "# Split the indices array into training and test sets\n",
    "split_ix = int(n_samples * 0.9)\n",
    "indices_train = indices[:split_ix]\n",
    "indices_test = indices[split_ix:]\n",
    "\n",
    "\n",
    "# print('Train range: {}:{}\\nTest range: {}:{}'.format(indices_train[0], indices_train[-1],\n",
    "#                                                      indices_test[0], indices_test[-1]))"
   ]
  },
  {
   "cell_type": "code",
   "execution_count": 42,
   "metadata": {
    "id": "3WWSpDn2IuhS"
   },
   "outputs": [],
   "source": [
    "def transform_returns_to_Xy_tensors(returns, lookback, n_timesteps, horizon, gap):\n",
    "    X_list, y_list = [], []\n",
    "\n",
    "    for i in range(lookback, n_timesteps - horizon - gap + 1):\n",
    "        X_list.append(returns[i - lookback: i, :])\n",
    "        y_list.append(returns[i + gap: i + gap + horizon, :])\n",
    "\n",
    "    X = np.stack(X_list, axis=0)[:, None, ...]\n",
    "    y = np.stack(y_list, axis=0)[:, None, ...]\n",
    "\n",
    "    return X, y"
   ]
  },
  {
   "cell_type": "code",
   "execution_count": 43,
   "metadata": {
    "id": "lw1e3TQXgHI5"
   },
   "outputs": [],
   "source": [
    "\n",
    "#returns = np.random.normal(0, .2, size = (n_timesteps, n_assets))\n",
    "\n",
    "# X_list, y_list = [], []\n",
    "\n",
    "# for i in range(lookback, n_timesteps - horizon - gap + 1):\n",
    "#     X_list.append(returns[i - lookback: i, :])\n",
    "#     y_list.append(returns[i + gap: i + gap + horizon, :])\n",
    "\n",
    "# X = np.stack(X_list, axis=0)[:, None, ...]\n",
    "# y = np.stack(y_list, axis=0)[:, None, ...]\n",
    "X, y = transform_returns_to_Xy_tensors(returns, lookback, n_timesteps, horizon, gap)\n",
    "#print('X: {}, y: {}'.format(X.shape, y.shape))\n",
    "\n",
    "# means, stds = prepare_standard_scaler(X, indices=indices_train)\n",
    "# print('mean: {}, std: {}'.format(means, stds))\n",
    "\n",
    "dataset = InRAMDataset(X, y)\n",
    "#, transform=Scale(means, stds))\n",
    "dataloader_train = RigidDataLoader(dataset,\n",
    "                                   indices=indices_train,\n",
    "                                   batch_size=32)\n",
    "\n",
    "dataloader_test = RigidDataLoader(dataset,\n",
    "                                  indices=indices_test,\n",
    "                                  batch_size=32)\n",
    "\n"
   ]
  },
  {
   "cell_type": "markdown",
   "metadata": {
    "id": "Ka29tJgfco0Z"
   },
   "source": [
    "# Network setup"
   ]
  },
  {
   "cell_type": "code",
   "execution_count": 44,
   "metadata": {
    "id": "8DwRhcJKfRU-"
   },
   "outputs": [],
   "source": [
    "from deepdowmine.losses import SharpeRatio"
   ]
  },
  {
   "cell_type": "code",
   "execution_count": 45,
   "metadata": {
    "id": "ejAd0srJV0xX"
   },
   "outputs": [],
   "source": [
    "import cvxpy as cp\n",
    "from cvxpylayers.torch import CvxpyLayer\n",
    "import torch\n",
    "from torch.distributions import MultivariateNormal\n",
    "import torch.nn as nn\n",
    "import torch.nn.init as init\n",
    "from deepdowmine.layers.misc import Cov2Corr, CovarianceMatrix, KMeans\n",
    "# from deepdowmine.layers.transform import Cov\n",
    "import deepdowmine.layers.transform as ddt\n",
    "\n",
    "from deepdowmine.nn import UpdNumericalMarkowitzWithShorting, MinVarWithShorting, BachelierNetWithShortingUpd\n",
    "from deepdowmine.layers import RNN, AttentionCollapse, AverageCollapse\n",
    "import torch.nn.functional as F"
   ]
  },
  {
   "cell_type": "code",
   "execution_count": 46,
   "metadata": {
    "id": "278apII78IIU"
   },
   "outputs": [],
   "source": [
    "n_samples, n_input_channels, lookback, n_assets = 32, 1, 50, 5\n",
    "n_output_channels = 8\n",
    "x = torch.rand(n_samples, n_input_channels, lookback, n_assets)\n",
    "layer = nn.RNN(5, 8)"
   ]
  },
  {
   "cell_type": "code",
   "execution_count": 47,
   "metadata": {
    "id": "OoEzSLRz-pc9"
   },
   "outputs": [],
   "source": [
    "#tmp['conv_res'].shape"
   ]
  },
  {
   "cell_type": "code",
   "execution_count": 48,
   "metadata": {
    "id": "nDWQuzbCWRqA"
   },
   "outputs": [],
   "source": [
    "from deepdowmine.nn import RnnNetMinVar, LstmNetMinVar"
   ]
  },
  {
   "cell_type": "code",
   "execution_count": 49,
   "metadata": {
    "colab": {
     "base_uri": "https://localhost:8080/"
    },
    "id": "DOuNfpMXgcKN",
    "outputId": "c116905c-4f66-43bc-e8e2-fd7c37945835"
   },
   "outputs": [
    {
     "name": "stdout",
     "output_type": "stream",
     "text": [
      "DenseNetFullOpti(\n",
      "  (norm_layer): BatchNorm1d(250, eps=1e-05, momentum=0.1, affine=True, track_running_stats=True)\n",
      "  (linear_for_cov): Linear(in_features=250, out_features=250, bias=True)\n",
      "  (covariance_layer): CovarianceMatrix()\n",
      "  (linear): Linear(in_features=250, out_features=5, bias=True)\n",
      "  (dropout): Dropout(p=0.2, inplace=False)\n",
      "  (portfolio_opt_layer): UpdNumericalMarkowitzWithShorting(\n",
      "    (cvxpylayer): CvxpyLayer()\n",
      "  )\n",
      ")\n"
     ]
    }
   ],
   "source": [
    "network = DenseNetFullOpti(1, 50, 5, .2)\n",
    "print(network)\n",
    "network = network.train()\n",
    "loss = SharpeRatio()\n",
    "run = Run(network,\n",
    "          loss,\n",
    "          dataloader_train,\n",
    "          val_dataloaders={\n",
    "              'test': dataloader_test,\n",
    "              'train': dataloader_train\n",
    "              },\n",
    "          optimizer=torch.optim.Adam(network.parameters(), amsgrad=True),\n",
    "          callbacks=[EarlyStoppingCallback(metric_name='loss',\n",
    "                                           dataloader_name='test',\n",
    "                                           patience=20)]) #15 # patience controlls amount offffffffffffffffffffffffffffffffffffffffffffffffffffffffffffffffffrfvd"
   ]
  },
  {
   "cell_type": "markdown",
   "metadata": {
    "id": "sL_SktboD7l8"
   },
   "source": [
    "# Train start"
   ]
  },
  {
   "cell_type": "code",
   "execution_count": null,
   "metadata": {
    "colab": {
     "base_uri": "https://localhost:8080/"
    },
    "id": "wo4B68DGhMjY",
    "outputId": "83c2c8a2-3768-4416-8c7b-d1c62725dc21"
   },
   "outputs": [
    {
     "name": "stderr",
     "output_type": "stream",
     "text": [
      "Epoch 0:   0%|                                                                                                                                                              | 0/105 [00:00<?, ?it/s]C:\\Users\\seidm\\miniconda3\\envs\\ddow\\lib\\site-packages\\threadpoolctl.py:1010: RuntimeWarning: \n",
      "Found Intel OpenMP ('libiomp') and LLVM OpenMP ('libomp') loaded at\n",
      "the same time. Both libraries are known to be incompatible and this\n",
      "can cause random crashes or deadlocks on Linux when loaded in the\n",
      "same Python program.\n",
      "Using threadpoolctl may cause crashes or deadlocks. For more\n",
      "information and possible workarounds, please see\n",
      "    https://github.com/joblib/threadpoolctl/blob/master/multiple_openmp.md\n",
      "\n",
      "  warnings.warn(msg, RuntimeWarning)\n",
      "Epoch 0:  23%|██████████████████████████████▋                                                                                                       | 24/105 [00:11<00:36,  2.22it/s, loss=-0.03150]"
     ]
    }
   ],
   "source": [
    "history = run.launch(450)\n",
    "torch.save(network.state_dict(), 'network_2.pth')"
   ]
  },
  {
   "cell_type": "markdown",
   "metadata": {
    "id": "x1ZAJiA3WIb8"
   },
   "source": [
    "# Check model perfomance"
   ]
  },
  {
   "cell_type": "code",
   "execution_count": 18,
   "metadata": {
    "colab": {
     "base_uri": "https://localhost:8080/"
    },
    "id": "c_C6qYeh57N2",
    "outputId": "d7e4d6ec-0ea7-4cd8-85a1-db313452e03c"
   },
   "outputs": [
    {
     "name": "stderr",
     "output_type": "stream",
     "text": [
      "/usr/local/lib/python3.10/dist-packages/torch/nn/modules/rnn.py:83: UserWarning: dropout option adds dropout after all but last recurrent layer, so non-zero dropout expects num_layers greater than 1, but got dropout=0.5 and num_layers=1\n",
      "  warnings.warn(\"dropout option adds dropout after all but last \"\n"
     ]
    },
    {
     "data": {
      "text/plain": [
       "<All keys matched successfully>"
      ]
     },
     "execution_count": 18,
     "metadata": {},
     "output_type": "execute_result"
    }
   ],
   "source": [
    "  network = LstmNetMinVar(5)\n",
    "  network.load_state_dict(torch.load(fr'network_2.pth'))"
   ]
  },
  {
   "cell_type": "code",
   "execution_count": 15,
   "metadata": {
    "id": "5V7kXiXFfA29"
   },
   "outputs": [],
   "source": [
    "per_epoch_results = history.metrics.groupby(['dataloader', 'metric', 'model', 'epoch'])['value']"
   ]
  },
  {
   "cell_type": "code",
   "execution_count": null,
   "metadata": {
    "colab": {
     "background_save": true
    },
    "id": "e8UrNSPoTV4w"
   },
   "outputs": [],
   "source": []
  },
  {
   "cell_type": "code",
   "execution_count": null,
   "metadata": {},
   "outputs": [],
   "source": []
  },
  {
   "cell_type": "code",
   "execution_count": 36,
   "metadata": {
    "colab": {
     "base_uri": "https://localhost:8080/",
     "height": 472
    },
    "id": "A5Dtu_QyeIrf",
    "outputId": "04d75fd0-5a81-4d6f-9546-967462c18605"
   },
   "outputs": [
    {
     "data": {
      "image/png": "[encoded data removed]",
      "text/plain": [
       "<Figure size 640x480 with 1 Axes>"
      ]
     },
     "metadata": {},
     "output_type": "display_data"
    }
   ],
   "source": [
    "mean_test_loss = per_epoch_results.mean()['test']['loss']['network'] # tmp\n",
    "\n",
    "# Plotting the mean test loss per epoch\n",
    "mean_test_loss.plot()\n",
    "\n",
    "# Finding the epoch with the minimum test loss\n",
    "min_loss_epoch = mean_test_loss.idxmin()\n",
    "min_loss_value = mean_test_loss.min()\n",
    "\n",
    "# Adding a red vertical line at the epoch with minimum test loss\n",
    "plt.axvline(x=min_loss_epoch, color='r', linestyle='--', label=f'Min Loss at Epoch {min_loss_epoch}')\n",
    "\n",
    "# Adding some labels and title for clarity\n",
    "plt.xlabel('Epoch')\n",
    "plt.ylabel('Test Loss')\n",
    "plt.title('Validation Loss per Epoch')\n",
    "plt.legend()\n",
    "\n",
    "# Show the plot\n",
    "plt.show()"
   ]
  },
  {
   "cell_type": "markdown",
   "metadata": {
    "id": "SNjFRuqyp9R3"
   },
   "source": []
  },
  {
   "cell_type": "code",
   "execution_count": 17,
   "metadata": {
    "colab": {
     "base_uri": "https://localhost:8080/"
    },
    "id": "E9tBNUrqa4qO",
    "outputId": "a4f5a9e3-da2c-4207-eee3-202084d6e215"
   },
   "outputs": [
    {
     "data": {
      "text/plain": [
       "-0.16269118"
      ]
     },
     "execution_count": 17,
     "metadata": {},
     "output_type": "execute_result"
    }
   ],
   "source": [
    "per_epoch_results.mean()['test']['loss']['network'].mean()"
   ]
  },
  {
   "cell_type": "code",
   "execution_count": 37,
   "metadata": {
    "colab": {
     "base_uri": "https://localhost:8080/",
     "height": 472
    },
    "id": "on_gcl3zWx5p",
    "outputId": "18189bc7-f1ca-4fbc-ce19-cd5087369c35"
   },
   "outputs": [
    {
     "data": {
      "image/png": "[encoded data removed]",
      "text/plain": [
       "<Figure size 640x480 with 1 Axes>"
      ]
     },
     "metadata": {},
     "output_type": "display_data"
    }
   ],
   "source": [
    "mean_train_loss = per_epoch_results.mean()['train']['loss']['network']\n",
    "\n",
    "# Plotting the mean test loss per epoch\n",
    "mean_train_loss.plot()\n",
    "\n",
    "\n",
    "\n",
    "# Adding some labels and title for clarity\n",
    "plt.xlabel('Epoch')\n",
    "plt.ylabel('Train Loss')\n",
    "plt.title('Train Loss per Epoch')\n",
    "plt.axvline(x=min_loss_epoch, color='r', linestyle='--', label=f'The best model {min_loss_epoch}')\n",
    "\n",
    "# Show the plot\n",
    "plt.show()"
   ]
  },
  {
   "cell_type": "code",
   "execution_count": 27,
   "metadata": {
    "id": "pJDxvq5hPuml"
   },
   "outputs": [
    {
     "name": "stderr",
     "output_type": "stream",
     "text": [
      "C:\\Users\\seidm\\miniconda3\\envs\\ddow\\lib\\site-packages\\threadpoolctl.py:1010: RuntimeWarning: \n",
      "Found Intel OpenMP ('libiomp') and LLVM OpenMP ('libomp') loaded at\n",
      "the same time. Both libraries are known to be incompatible and this\n",
      "can cause random crashes or deadlocks on Linux when loaded in the\n",
      "same Python program.\n",
      "Using threadpoolctl may cause crashes or deadlocks. For more\n",
      "information and possible workarounds, please see\n",
      "    https://github.com/joblib/threadpoolctl/blob/master/multiple_openmp.md\n",
      "\n",
      "  warnings.warn(msg, RuntimeWarning)\n"
     ]
    }
   ],
   "source": [
    "from deepdowmine.benchmarks import Benchmark, OneOverN, Random\n",
    "\n",
    "benchmarks = {\n",
    "    '1overN': OneOverN(),  # each asset has weight 1 / n_assets\n",
    "    'network': network\n",
    "}\n",
    "\n",
    "metrics = {\n",
    "    'Sharpe': SharpeRatio(),\n",
    "}\n",
    "\n",
    "\n",
    "metrics_table = generate_metrics_table(benchmarks,\n",
    "                                       dataloader_test,\n",
    "                                       metrics\n",
    ")"
   ]
  },
  {
   "cell_type": "code",
   "execution_count": 28,
   "metadata": {
    "colab": {
     "base_uri": "https://localhost:8080/"
    },
    "id": "j4vNvSxtQVuj",
    "outputId": "b0c40c6c-2352-418b-b1e7-5147809bcd21"
   },
   "outputs": [
    {
     "data": {
      "text/plain": [
       "1.0182259"
      ]
     },
     "execution_count": 28,
     "metadata": {},
     "output_type": "execute_result"
    }
   ],
   "source": [
    "metrics_table[metrics_table['benchmark'] == 'network']['value'].mean() / metrics_table[metrics_table['benchmark'] == '1overN']['value'].mean()"
   ]
  },
  {
   "cell_type": "code",
   "execution_count": 29,
   "metadata": {
    "colab": {
     "background_save": true
    },
    "id": "zQ7QsvJairmN",
    "outputId": "cc860057-9bb5-4b39-a085-327a9837ab3d"
   },
   "outputs": [
    {
     "data": {
      "text/plain": [
       "-0.18057017"
      ]
     },
     "execution_count": 29,
     "metadata": {},
     "output_type": "execute_result"
    }
   ],
   "source": [
    "metrics_table[metrics_table['benchmark'] == '1overN']['value'].mean()"
   ]
  },
  {
   "cell_type": "code",
   "execution_count": null,
   "metadata": {
    "colab": {
     "background_save": true
    },
    "id": "s6rRvv1eS7kj",
    "outputId": "38f3b0b8-be12-472c-b627-c0973379e41c"
   },
   "outputs": [
    {
     "data": {
      "text/plain": [
       "-0.15169235"
      ]
     },
     "execution_count": 26,
     "metadata": {},
     "output_type": "execute_result"
    }
   ],
   "source": [
    "metrics_table[metrics_table['benchmark'] == 'network']['value'].mean()"
   ]
  },
  {
   "cell_type": "markdown",
   "metadata": {
    "id": "Ua5Bfj50VeN0"
   },
   "source": []
  },
  {
   "cell_type": "code",
   "execution_count": null,
   "metadata": {
    "colab": {
     "background_save": true
    },
    "id": "IJuWjQ14WnlV",
    "outputId": "378e7498-829e-4989-f6e0-6489756743b7"
   },
   "outputs": [
    {
     "data": {
      "text/plain": [
       "346"
      ]
     },
     "execution_count": 27,
     "metadata": {},
     "output_type": "execute_result"
    }
   ],
   "source": [
    "len(indices_test)"
   ]
  },
  {
   "cell_type": "code",
   "execution_count": null,
   "metadata": {
    "colab": {
     "background_save": true
    },
    "id": "i7oRCao6Vfj0"
   },
   "outputs": [],
   "source": [
    "one_over_n = metrics_table[metrics_table['benchmark'] == '1overN']['value']"
   ]
  },
  {
   "cell_type": "code",
   "execution_count": null,
   "metadata": {
    "colab": {
     "background_save": true
    },
    "id": "KPzn5AonWaC7",
    "outputId": "ca1934e1-9831-46de-8c12-f409297effb6"
   },
   "outputs": [
    {
     "ename": "IndexError",
     "evalue": "index 3111 is out of bounds for axis 0 with size 346",
     "output_type": "error",
     "traceback": [
      "\u001b[0;31m---------------------------------------------------------------------------\u001b[0m",
      "\u001b[0;31mIndexError\u001b[0m                                Traceback (most recent call last)",
      "\u001b[0;32m<ipython-input-29-ef515d04ffdd>\u001b[0m in \u001b[0;36m<cell line: 1>\u001b[0;34m()\u001b[0m\n\u001b[0;32m----> 1\u001b[0;31m \u001b[0mnp\u001b[0m\u001b[0;34m.\u001b[0m\u001b[0marray\u001b[0m\u001b[0;34m(\u001b[0m\u001b[0mone_over_n\u001b[0m\u001b[0;34m)\u001b[0m\u001b[0;34m[\u001b[0m\u001b[0mindices_test\u001b[0m\u001b[0;34m]\u001b[0m\u001b[0;34m\u001b[0m\u001b[0;34m\u001b[0m\u001b[0m\n\u001b[0m",
      "\u001b[0;31mIndexError\u001b[0m: index 3111 is out of bounds for axis 0 with size 346"
     ]
    }
   ],
   "source": [
    "np.array(one_over_n)[indices_test]"
   ]
  },
  {
   "cell_type": "code",
   "execution_count": null,
   "metadata": {
    "colab": {
     "background_save": true
    },
    "id": "fgUtZqOsUmXW"
   },
   "outputs": [],
   "source": [
    "# Filter the DataFrame for the two conditions\n",
    "one_over_n = -metrics_table[metrics_table['benchmark'] == '1overN']['value']\n",
    "network_res = -metrics_table[metrics_table['benchmark'] == 'network']['value']\n",
    "\n",
    "\n",
    "x_axis = np.arange(len(one_over_n))  # This will create an array [0, 1, ..., n-1]\n",
    "\n",
    "plt.figure(figsize=(10, 6))\n",
    "\n",
    "# Plot each series on the same plot\n",
    "plt.plot(x_axis, one_over_n, label='1overN', marker='o', linestyle='-')\n",
    "plt.plot(x_axis, network_res, label='Network', marker='x', linestyle='-')\n",
    "\n",
    "# Adding titles and labels\n",
    "plt.title('Sharpe Ratio Comparison')\n",
    "plt.xlabel('Index')\n",
    "plt.ylabel('Sharpe Ratio')\n",
    "\n",
    "# Show legend\n",
    "plt.legend()\n",
    "\n",
    "# Show the plot\n",
    "plt.show()"
   ]
  },
  {
   "cell_type": "code",
   "execution_count": null,
   "metadata": {
    "colab": {
     "base_uri": "https://localhost:8080/",
     "height": 141
    },
    "id": "z8OafQ7sks66",
    "outputId": "f2d25704-bec3-4a2b-a7b1-8daa75a1e096"
   },
   "outputs": [
    {
     "ename": "NameError",
     "evalue": "name 'network_res' is not defined",
     "output_type": "error",
     "traceback": [
      "\u001b[0;31m---------------------------------------------------------------------------\u001b[0m",
      "\u001b[0;31mNameError\u001b[0m                                 Traceback (most recent call last)",
      "\u001b[0;32m<ipython-input-30-f97c1788b27d>\u001b[0m in \u001b[0;36m<cell line: 1>\u001b[0;34m()\u001b[0m\n\u001b[0;32m----> 1\u001b[0;31m \u001b[0mnetwork_res\u001b[0m\u001b[0;34m\u001b[0m\u001b[0;34m\u001b[0m\u001b[0m\n\u001b[0m",
      "\u001b[0;31mNameError\u001b[0m: name 'network_res' is not defined"
     ]
    }
   ],
   "source": [
    "network_res"
   ]
  },
  {
   "cell_type": "code",
   "execution_count": null,
   "metadata": {
    "colab": {
     "background_save": true
    },
    "id": "hZrjG1lcQobW"
   },
   "outputs": [],
   "source": [
    "metrics_table[metrics_table['benchmark'] == 'network']['value'].mean()"
   ]
  },
  {
   "cell_type": "markdown",
   "metadata": {
    "id": "P5eJGUoOGQbx"
   },
   "source": [
    "# Load the results"
   ]
  },
  {
   "cell_type": "markdown",
   "metadata": {
    "id": "MYwpyZGaDw08"
   },
   "source": []
  },
  {
   "cell_type": "code",
   "execution_count": null,
   "metadata": {
    "id": "6LjHeQ5pDviF"
   },
   "outputs": [],
   "source": [
    "network = LinearNetMine(1, lookback, n_assets, p=0.5)\n",
    "network.load_state_dict(torch.load('linear_net_50x5_sharpe.pth'))"
   ]
  },
  {
   "cell_type": "code",
   "execution_count": null,
   "metadata": {
    "id": "33X2Kz5wPqQo"
   },
   "outputs": [],
   "source": []
  },
  {
   "cell_type": "markdown",
   "metadata": {
    "id": "flRu6fv_7iHV"
   },
   "source": [
    "# Supplementary code"
   ]
  },
  {
   "cell_type": "code",
   "execution_count": null,
   "metadata": {
    "id": "Hwj73IJws4sh"
   },
   "outputs": [],
   "source": [
    "# 1.363"
   ]
  },
  {
   "cell_type": "code",
   "execution_count": null,
   "metadata": {
    "id": "kkdrpOm10PR7"
   },
   "outputs": [],
   "source": [
    "X.shape"
   ]
  },
  {
   "cell_type": "code",
   "execution_count": null,
   "metadata": {
    "id": "1_zN5p6hwjbx"
   },
   "outputs": [],
   "source": [
    "test_X = torch.tensor(X[[-1]], dtype=torch.float32)#(X[indices_train], dtype=torch.float32) #indices_train\n",
    "test_X.shape"
   ]
  },
  {
   "cell_type": "code",
   "execution_count": null,
   "metadata": {
    "id": "4GLpaetmxY1j"
   },
   "outputs": [],
   "source": [
    "def get_activation(name):\n",
    "    # This function will return a hook function that stores the output in a dictionary\n",
    "    def hook(model, input, output):\n",
    "        activations[name] = output.detach()\n",
    "    return hook\n",
    "\n",
    "# Attach the hook to the covariance_layer, which precedes the channel_collapse_layer\n",
    "activations = {}\n",
    "hook = network.portfolio_opt_layer.register_forward_hook(get_activation('portfolio_opt_layer'))\n",
    "\n",
    "# Now run your data through the network. This will store the output of the covariance_layer in activations\n",
    "network(test_X)\n",
    "\n",
    "# The output you're interested in is now stored in activations['covariance_layer_output']\n",
    "input_to_channel_collapse = activations['portfolio_opt_layer']\n",
    "\n",
    "# Don't forget to remove the hook when you're done to prevent memory leaks\n",
    "hook.remove()"
   ]
  },
  {
   "cell_type": "code",
   "execution_count": null,
   "metadata": {
    "id": "zplSbU-wxa_b"
   },
   "outputs": [],
   "source": [
    "input_to_channel_collapse.shape"
   ]
  },
  {
   "cell_type": "code",
   "execution_count": null,
   "metadata": {
    "id": "VJUiUbyqyNKx"
   },
   "outputs": [],
   "source": [
    "network(test_X).shape"
   ]
  },
  {
   "cell_type": "code",
   "execution_count": null,
   "metadata": {
    "id": "FY1f1XULzwxF"
   },
   "outputs": [],
   "source": []
  }
 ],
 "metadata": {
  "colab": {
   "collapsed_sections": [
    "BlApRJuPfrxq",
    "VNqxm-tdcv3Y",
    "P5eJGUoOGQbx"
   ],
   "machine_shape": "hm",
   "provenance": []
  },
  "kernelspec": {
   "display_name": "Python 3 (ipykernel)",
   "language": "python",
   "name": "python3"
  },
  "language_info": {
   "codemirror_mode": {
    "name": "ipython",
    "version": 3
   },
   "file_extension": ".py",
   "mimetype": "text/x-python",
   "name": "python",
   "nbconvert_exporter": "python",
   "pygments_lexer": "ipython3",
   "version": "3.8.17"
  }
 },
 "nbformat": 4,
 "nbformat_minor": 1
}
