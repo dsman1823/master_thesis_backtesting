{
 "cells": [
  {
   "cell_type": "markdown",
   "metadata": {
    "id": "BlApRJuPfrxq"
   },
   "source": [
    "# Imports"
   ]
  },
  {
   "cell_type": "code",
   "execution_count": null,
   "metadata": {
    "colab": {
     "base_uri": "https://localhost:8080/"
    },
    "id": "EvaaDKBoMaO8",
    "outputId": "11c8de58-a8b7-4df1-ffd1-22e6b823df02"
   },
   "outputs": [],
   "source": [
    "!pip uninstall deepdowmine -y\n",
    "!pip install git+https://github.com/dsman1823/deepdowmine.git"
   ]
  },
  {
   "cell_type": "code",
   "execution_count": 1,
   "metadata": {
    "id": "tfN21pcMhatf"
   },
   "outputs": [],
   "source": [
    "import numpy as np\n",
    "import pandas as pd\n",
    "import torch\n",
    "\n",
    "from matplotlib import pyplot as plt\n",
    "from deepdowmine.data import InRAMDataset, RigidDataLoader, prepare_standard_scaler, Scale, SeqRigidDataLoader, WeeklyRigidDataLoader\n",
    "from deepdowmine.losses import MeanReturns, SharpeRatio, MaximumDrawdown, StandardDeviation\n",
    "from deepdowmine.nn import DenseNetFullOpti2, DenseNetMinVar2, RnnNetMinVar2, RnnNetMinVar\n",
    "from deepdowmine.experiments import Run\n",
    "from deepdowmine.callbacks import EarlyStoppingCallback\n",
    "from deepdowmine.visualize import generate_metrics_table, generate_weights_table, plot_metrics, plot_weight_heatmap\n",
    "\n",
    "\n"
   ]
  },
  {
   "cell_type": "markdown",
   "metadata": {
    "id": "VNqxm-tdcv3Y"
   },
   "source": [
    "# Setup"
   ]
  },
  {
   "cell_type": "code",
   "execution_count": 2,
   "metadata": {
    "id": "x-bSnRLxonV_"
   },
   "outputs": [],
   "source": [
    "np.random.seed(5)\n",
    "returns = pd.read_csv('old_train_data_0.csv', index_col = 0).to_numpy()[1:]"
   ]
  },
  {
   "cell_type": "code",
   "execution_count": 3,
   "metadata": {
    "colab": {
     "base_uri": "https://localhost:8080/"
    },
    "id": "xr7u61ueYxcB",
    "outputId": "e1e9183a-1971-46b5-ab77-f79f8ba6bb65"
   },
   "outputs": [
    {
     "data": {
      "text/plain": [
       "2757"
      ]
     },
     "execution_count": 3,
     "metadata": {},
     "output_type": "execute_result"
    }
   ],
   "source": [
    "len(returns)"
   ]
  },
  {
   "cell_type": "code",
   "execution_count": 4,
   "metadata": {
    "id": "5G-3j5QtgEH6"
   },
   "outputs": [],
   "source": [
    "n_timesteps, n_assets = len(returns), 5#11**4, 450\n",
    "\n",
    "#returns = np.random.normal(0, .2, size = (n_timesteps, n_assets))\n",
    "\n",
    "lookback, gap, horizon = 50, 0, 5# 40, 0, 5   loss=-0.09645, test_loss=-0.08003]\n",
    "n_samples = n_timesteps - lookback - horizon - gap + 1\n",
    "\n",
    "indices = np.arange(n_samples)\n",
    "split_ix = int(n_samples * 0.8)\n",
    "indices_train = indices[:split_ix]\n",
    "indices_test = indices[split_ix:]\n",
    "\n",
    "\n",
    "# print('Train range: {}:{}\\nTest range: {}:{}'.format(indices_train[0], indices_train[-1],\n",
    "#                                                      indices_test[0], indices_test[-1]))"
   ]
  },
  {
   "cell_type": "code",
   "execution_count": 5,
   "metadata": {
    "id": "3WWSpDn2IuhS"
   },
   "outputs": [],
   "source": [
    "def transform_returns_to_Xy_tensors(returns, lookback, n_timesteps, horizon, gap):\n",
    "    X_list, y_list = [], []\n",
    "\n",
    "    for i in range(lookback, n_timesteps - horizon - gap + 1):\n",
    "        X_list.append(returns[i - lookback: i, :])\n",
    "        y_list.append(returns[i + gap: i + gap + horizon, :])\n",
    "\n",
    "    X = np.stack(X_list, axis=0)[:, None, ...]\n",
    "    y = np.stack(y_list, axis=0)[:, None, ...]\n",
    "\n",
    "    return X, y"
   ]
  },
  {
   "cell_type": "code",
   "execution_count": 6,
   "metadata": {
    "id": "lw1e3TQXgHI5"
   },
   "outputs": [],
   "source": [
    "\n",
    "#returns = np.random.normal(0, .2, size = (n_timesteps, n_assets))\n",
    "\n",
    "# X_list, y_list = [], []\n",
    "\n",
    "# for i in range(lookback, n_timesteps - horizon - gap + 1):\n",
    "#     X_list.append(returns[i - lookback: i, :])\n",
    "#     y_list.append(returns[i + gap: i + gap + horizon, :])\n",
    "\n",
    "# X = np.stack(X_list, axis=0)[:, None, ...]\n",
    "# y = np.stack(y_list, axis=0)[:, None, ...]\n",
    "X, y = transform_returns_to_Xy_tensors(returns, lookback, n_timesteps, horizon, gap)\n",
    "#print('X: {}, y: {}'.format(X.shape, y.shape))\n",
    "\n",
    "# means, stds = prepare_standard_scaler(X, indices=indices_train)\n",
    "# print('mean: {}, std: {}'.format(means, stds))\n",
    "\n",
    "dataset = InRAMDataset(X, y)\n",
    "#, transform=Scale(means, stds))\n",
    "\n",
    "torch.manual_seed(32)\n",
    "\n",
    "dataloader_train = RigidDataLoader(dataset,\n",
    "                                   indices=indices_train,\n",
    "                                   batch_size=32)\n",
    "\n",
    "dataloader_test = SeqRigidDataLoader(dataset,\n",
    "                                  indices=indices_test,\n",
    "                                  batch_size=32)\n",
    "\n",
    "dataloader_train_for_retrain = RigidDataLoader(dataset,\n",
    "                                  indices=indices_test,\n",
    "                                  batch_size=32)\n",
    "dataloader_test_for_retrain = SeqRigidDataLoader(dataset,\n",
    "                                   indices=indices_train,\n",
    "                                   batch_size=32)\n"
   ]
  },
  {
   "cell_type": "markdown",
   "metadata": {
    "id": "Ka29tJgfco0Z"
   },
   "source": [
    "# Network setup"
   ]
  },
  {
   "cell_type": "code",
   "execution_count": 7,
   "metadata": {
    "colab": {
     "base_uri": "https://localhost:8080/"
    },
    "id": "DOuNfpMXgcKN",
    "outputId": "c116905c-4f66-43bc-e8e2-fd7c37945835"
   },
   "outputs": [
    {
     "name": "stdout",
     "output_type": "stream",
     "text": [
      "RnnNetMinVar2(\n",
      "  (norm_layer): InstanceNorm2d(1, eps=1e-05, momentum=0.1, affine=True, track_running_stats=False)\n",
      "  (dropout_layer): Dropout(p=0.15, inplace=False)\n",
      "  (transform_layer): LSTM(5, 5, num_layers=2, batch_first=True, dropout=0.15)\n",
      "  (covariance_layer): CovarianceMatrix()\n",
      "  (portfolio_layer): ThesisMarkowitzMinVar(\n",
      "    (cvxpylayer): CvxpyLayer()\n",
      "  )\n",
      ")\n"
     ]
    }
   ],
   "source": [
    "network = RnnNetMinVar2(5,  .15, None, 1)\n",
    "# network = RnnNetMinVar(5,  .15, 'diagonal', 1)\n",
    "print(network)\n",
    "network = network.train()\n",
    "loss = SharpeRatio()\n",
    "run = Run(network,\n",
    "          loss,\n",
    "          dataloader_train,\n",
    "          val_dataloaders={\n",
    "              'test': dataloader_test,\n",
    "              'train': dataloader_train\n",
    "              },\n",
    "          optimizer=torch.optim.Adam(network.parameters(), amsgrad=True, lr=0.001),\n",
    "          callbacks=[EarlyStoppingCallback(metric_name='loss',\n",
    "                                           dataloader_name='test',\n",
    "                                           patience=10)]) #15 # patience controlls amount offffffffffffffffffffffffffffffffffffffffffffffffffffffffffffffffffrfvd"
   ]
  },
  {
   "cell_type": "markdown",
   "metadata": {
    "id": "sL_SktboD7l8"
   },
   "source": [
    "# Train start"
   ]
  },
  {
   "cell_type": "code",
   "execution_count": null,
   "metadata": {
    "colab": {
     "base_uri": "https://localhost:8080/"
    },
    "id": "wo4B68DGhMjY",
    "outputId": "83c2c8a2-3768-4416-8c7b-d1c62725dc21"
   },
   "outputs": [],
   "source": [
    "history = run.launch(450)\n",
    "torch.save(network.state_dict(), 'network.pth')"
   ]
  },
  {
   "cell_type": "code",
   "execution_count": null,
   "metadata": {},
   "outputs": [],
   "source": [
    "network.tmp['output'].shape"
   ]
  },
  {
   "cell_type": "markdown",
   "metadata": {},
   "source": [
    "## Retrain the model on validation set with limited amount of epochs, and limited learning rate"
   ]
  },
  {
   "cell_type": "code",
   "execution_count": null,
   "metadata": {},
   "outputs": [],
   "source": [
    "network_retrained = RnnNetMinVar2(5,  .15, 'diagonal', 1)\n",
    "\n",
    "network_retrained.load_state_dict(network.state_dict())\n",
    "\n",
    "##!!!!!!!!!!!!!!!!!!!!!!!!\n",
    "# state_dict = torch.load('min_var_0.pth')\n",
    "# network_retrained.load_state_dict(state_dict)\n",
    "# ####\n",
    "\n",
    "\n",
    "print(network_retrained)\n",
    "network_retrained = network_retrained.train()\n",
    "loss = SharpeRatio()\n",
    "run = Run(network_retrained,\n",
    "          loss,\n",
    "          dataloader_train_for_retrain,\n",
    "          val_dataloaders={\n",
    "              'train': dataloader_train_for_retrain,\n",
    "              'test': dataloader_test_for_retrain\n",
    "              },\n",
    "          optimizer=torch.optim.Adam(network_retrained.parameters(), amsgrad=True, lr=0.0005),\n",
    ")"
   ]
  },
  {
   "cell_type": "code",
   "execution_count": null,
   "metadata": {},
   "outputs": [],
   "source": [
    "history_retrain = run.launch(60)\n",
    "torch.save(network_retrained.state_dict(), 'network_retrained.pth')"
   ]
  },
  {
   "cell_type": "markdown",
   "metadata": {
    "id": "x1ZAJiA3WIb8"
   },
   "source": [
    "# Check model perfomance"
   ]
  },
  {
   "cell_type": "code",
   "execution_count": null,
   "metadata": {
    "colab": {
     "base_uri": "https://localhost:8080/"
    },
    "id": "c_C6qYeh57N2",
    "outputId": "d7e4d6ec-0ea7-4cd8-85a1-db313452e03c"
   },
   "outputs": [],
   "source": [
    "  # network = LstmNetMinVar(5)\n",
    "  # network.load_state_dict(torch.load(fr'network_2.pth'))"
   ]
  },
  {
   "cell_type": "code",
   "execution_count": null,
   "metadata": {
    "id": "5V7kXiXFfA29"
   },
   "outputs": [],
   "source": [
    "per_epoch_results = history.metrics.groupby(['dataloader', 'metric', 'model', 'epoch'])['value']"
   ]
  },
  {
   "cell_type": "code",
   "execution_count": null,
   "metadata": {
    "colab": {
     "base_uri": "https://localhost:8080/",
     "height": 472
    },
    "id": "A5Dtu_QyeIrf",
    "outputId": "04d75fd0-5a81-4d6f-9546-967462c18605",
    "scrolled": true
   },
   "outputs": [],
   "source": [
    "mean_test_loss = per_epoch_results.mean()['test']['loss']['network'] # tmp\n",
    "\n",
    "# Plotting the mean test loss per epoch\n",
    "mean_test_loss.plot()\n",
    "\n",
    "# Finding the epoch with the minimum test loss\n",
    "min_loss_epoch = mean_test_loss.idxmin()\n",
    "min_loss_value = mean_test_loss.min()\n",
    "\n",
    "# Adding a red vertical line at the epoch with minimum test loss\n",
    "plt.axvline(x=min_loss_epoch, color='r', linestyle='--', label=f'Min Loss at Epoch {min_loss_epoch}')\n",
    "\n",
    "# Adding some labels and title for clarity\n",
    "plt.xlabel('Epoch')\n",
    "plt.ylabel('Test Loss')\n",
    "plt.title('Validation Loss per Epoch')\n",
    "plt.legend()\n",
    "\n",
    "# Show the plot\n",
    "plt.show()"
   ]
  },
  {
   "cell_type": "markdown",
   "metadata": {
    "id": "SNjFRuqyp9R3"
   },
   "source": []
  },
  {
   "cell_type": "code",
   "execution_count": null,
   "metadata": {
    "colab": {
     "base_uri": "https://localhost:8080/"
    },
    "id": "E9tBNUrqa4qO",
    "outputId": "a4f5a9e3-da2c-4207-eee3-202084d6e215"
   },
   "outputs": [],
   "source": [
    "per_epoch_results.mean()['test']['loss']['network'].mean()"
   ]
  },
  {
   "cell_type": "code",
   "execution_count": null,
   "metadata": {
    "colab": {
     "base_uri": "https://localhost:8080/",
     "height": 472
    },
    "id": "on_gcl3zWx5p",
    "outputId": "18189bc7-f1ca-4fbc-ce19-cd5087369c35"
   },
   "outputs": [],
   "source": [
    "mean_train_loss = per_epoch_results.mean()['train']['loss']['network']\n",
    "\n",
    "# Plotting the mean test loss per epoch\n",
    "mean_train_loss.plot()\n",
    "\n",
    "\n",
    "\n",
    "# Adding some labels and title for clarity\n",
    "plt.xlabel('Epoch')\n",
    "plt.ylabel('Train Loss')\n",
    "plt.title('Train Loss per Epoch')\n",
    "plt.axvline(x=min_loss_epoch, color='r', linestyle='--', label=f'The best model {min_loss_epoch}')\n",
    "\n",
    "# Show the plot\n",
    "plt.show()"
   ]
  },
  {
   "cell_type": "markdown",
   "metadata": {
    "id": "P5eJGUoOGQbx"
   },
   "source": [
    "# Compute validation factor"
   ]
  },
  {
   "cell_type": "markdown",
   "metadata": {
    "id": "MYwpyZGaDw08"
   },
   "source": []
  },
  {
   "cell_type": "code",
   "execution_count": null,
   "metadata": {
    "id": "FY1f1XULzwxF"
   },
   "outputs": [],
   "source": [
    "X_tensor = torch.tensor(X[indices_test], dtype=torch.float32)\n",
    "y_tensor = torch.tensor(y[indices_test], dtype=torch.float32)"
   ]
  },
  {
   "cell_type": "code",
   "execution_count": null,
   "metadata": {},
   "outputs": [],
   "source": [
    "weights = network(X_tensor)\n",
    "ewp = output.new_full(output.shape, 0.2)"
   ]
  },
  {
   "cell_type": "code",
   "execution_count": null,
   "metadata": {},
   "outputs": [],
   "source": [
    "loss(weights, y_tensor).mean()  /  loss(ewp, y_tensor).mean()"
   ]
  }
 ],
 "metadata": {
  "colab": {
   "collapsed_sections": [
    "BlApRJuPfrxq",
    "VNqxm-tdcv3Y",
    "P5eJGUoOGQbx"
   ],
   "machine_shape": "hm",
   "provenance": []
  },
  "kernelspec": {
   "display_name": "Python 3 (ipykernel)",
   "language": "python",
   "name": "python3"
  },
  "language_info": {
   "codemirror_mode": {
    "name": "ipython",
    "version": 3
   },
   "file_extension": ".py",
   "mimetype": "text/x-python",
   "name": "python",
   "nbconvert_exporter": "python",
   "pygments_lexer": "ipython3",
   "version": "3.8.17"
  }
 },
 "nbformat": 4,
 "nbformat_minor": 4
}
