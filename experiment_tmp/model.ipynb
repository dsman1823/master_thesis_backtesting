{
 "cells": [
  {
   "cell_type": "markdown",
   "metadata": {
    "id": "BlApRJuPfrxq"
   },
   "source": [
    "# Imports"
   ]
  },
  {
   "cell_type": "code",
   "execution_count": 117,
   "metadata": {},
   "outputs": [
    {
     "name": "stdout",
     "output_type": "stream",
     "text": [
      "Found existing installation: deepdowmine 0.2.3\n",
      "Uninstalling deepdowmine-0.2.3:\n",
      "  Successfully uninstalled deepdowmine-0.2.3\n"
     ]
    }
   ],
   "source": [
    "!pip uninstall deepdowmine -y"
   ]
  },
  {
   "cell_type": "code",
   "execution_count": 118,
   "metadata": {
    "colab": {
     "base_uri": "https://localhost:8080/"
    },
    "id": "EvaaDKBoMaO8",
    "outputId": "11c8de58-a8b7-4df1-ffd1-22e6b823df02"
   },
   "outputs": [
    {
     "name": "stdout",
     "output_type": "stream",
     "text": [
      "Collecting git+https://github.com/dsman1823/deepdowmine.git"
     ]
    },
    {
     "name": "stderr",
     "output_type": "stream",
     "text": [
      "  Running command git clone --filter=blob:none --quiet https://github.com/dsman1823/deepdowmine.git 'C:\\Users\\seidm\\AppData\\Local\\Temp\\pip-req-build-41x3go6m'\n"
     ]
    },
    {
     "name": "stdout",
     "output_type": "stream",
     "text": [
      "\n",
      "  Cloning https://github.com/dsman1823/deepdowmine.git to c:\\users\\seidm\\appdata\\local\\temp\\pip-req-build-41x3go6m\n",
      "  Resolved https://github.com/dsman1823/deepdowmine.git to commit 41051a7f693cc28dc1a8c3d10e6af02b4cc87d2b\n",
      "  Preparing metadata (setup.py): started\n",
      "  Preparing metadata (setup.py): finished with status 'done'\n",
      "Requirement already satisfied: cvxpylayers in c:\\users\\seidm\\miniconda3\\envs\\ddow\\lib\\site-packages (from deepdowmine==0.2.3) (0.1.6)\n",
      "Requirement already satisfied: matplotlib in c:\\users\\seidm\\miniconda3\\envs\\ddow\\lib\\site-packages (from deepdowmine==0.2.3) (3.7.2)\n",
      "Requirement already satisfied: mlflow in c:\\users\\seidm\\miniconda3\\envs\\ddow\\lib\\site-packages (from deepdowmine==0.2.3) (2.6.0)\n",
      "Requirement already satisfied: numpy>=1.16.5 in c:\\users\\seidm\\miniconda3\\envs\\ddow\\lib\\site-packages (from deepdowmine==0.2.3) (1.24.4)\n",
      "Requirement already satisfied: pandas in c:\\users\\seidm\\miniconda3\\envs\\ddow\\lib\\site-packages (from deepdowmine==0.2.3) (2.0.3)\n",
      "Requirement already satisfied: pillow in c:\\users\\seidm\\miniconda3\\envs\\ddow\\lib\\site-packages (from deepdowmine==0.2.3) (10.0.0)\n",
      "Requirement already satisfied: seaborn in c:\\users\\seidm\\miniconda3\\envs\\ddow\\lib\\site-packages (from deepdowmine==0.2.3) (0.12.2)\n",
      "Requirement already satisfied: torch>=1.5 in c:\\users\\seidm\\miniconda3\\envs\\ddow\\lib\\site-packages (from deepdowmine==0.2.3) (2.0.1)\n",
      "Requirement already satisfied: tensorboard in c:\\users\\seidm\\miniconda3\\envs\\ddow\\lib\\site-packages (from deepdowmine==0.2.3) (2.14.0)\n",
      "Requirement already satisfied: tqdm in c:\\users\\seidm\\miniconda3\\envs\\ddow\\lib\\site-packages (from deepdowmine==0.2.3) (4.66.1)\n",
      "Requirement already satisfied: filelock in c:\\users\\seidm\\miniconda3\\envs\\ddow\\lib\\site-packages (from torch>=1.5->deepdowmine==0.2.3) (3.12.3)\n",
      "Requirement already satisfied: typing-extensions in c:\\users\\seidm\\miniconda3\\envs\\ddow\\lib\\site-packages (from torch>=1.5->deepdowmine==0.2.3) (4.7.1)\n",
      "Requirement already satisfied: sympy in c:\\users\\seidm\\miniconda3\\envs\\ddow\\lib\\site-packages (from torch>=1.5->deepdowmine==0.2.3) (1.12)\n",
      "Requirement already satisfied: networkx in c:\\users\\seidm\\miniconda3\\envs\\ddow\\lib\\site-packages (from torch>=1.5->deepdowmine==0.2.3) (3.1)\n",
      "Requirement already satisfied: jinja2 in c:\\users\\seidm\\miniconda3\\envs\\ddow\\lib\\site-packages (from torch>=1.5->deepdowmine==0.2.3) (3.1.2)\n",
      "Requirement already satisfied: scipy>=1.1.0 in c:\\users\\seidm\\miniconda3\\envs\\ddow\\lib\\site-packages (from cvxpylayers->deepdowmine==0.2.3) (1.10.1)\n",
      "Requirement already satisfied: diffcp>=1.0.13 in c:\\users\\seidm\\miniconda3\\envs\\ddow\\lib\\site-packages (from cvxpylayers->deepdowmine==0.2.3) (1.0.23)\n",
      "Requirement already satisfied: cvxpy>=1.1.0a4 in c:\\users\\seidm\\miniconda3\\envs\\ddow\\lib\\site-packages (from cvxpylayers->deepdowmine==0.2.3) (1.3.2)\n",
      "Requirement already satisfied: contourpy>=1.0.1 in c:\\users\\seidm\\miniconda3\\envs\\ddow\\lib\\site-packages (from matplotlib->deepdowmine==0.2.3) (1.1.0)\n",
      "Requirement already satisfied: cycler>=0.10 in c:\\users\\seidm\\miniconda3\\envs\\ddow\\lib\\site-packages (from matplotlib->deepdowmine==0.2.3) (0.11.0)\n",
      "Requirement already satisfied: fonttools>=4.22.0 in c:\\users\\seidm\\miniconda3\\envs\\ddow\\lib\\site-packages (from matplotlib->deepdowmine==0.2.3) (4.42.1)\n",
      "Requirement already satisfied: kiwisolver>=1.0.1 in c:\\users\\seidm\\miniconda3\\envs\\ddow\\lib\\site-packages (from matplotlib->deepdowmine==0.2.3) (1.4.5)\n",
      "Requirement already satisfied: packaging>=20.0 in c:\\users\\seidm\\miniconda3\\envs\\ddow\\lib\\site-packages (from matplotlib->deepdowmine==0.2.3) (23.0)\n",
      "Requirement already satisfied: pyparsing<3.1,>=2.3.1 in c:\\users\\seidm\\miniconda3\\envs\\ddow\\lib\\site-packages (from matplotlib->deepdowmine==0.2.3) (3.0.9)\n",
      "Requirement already satisfied: python-dateutil>=2.7 in c:\\users\\seidm\\miniconda3\\envs\\ddow\\lib\\site-packages (from matplotlib->deepdowmine==0.2.3) (2.8.2)\n",
      "Requirement already satisfied: importlib-resources>=3.2.0 in c:\\users\\seidm\\miniconda3\\envs\\ddow\\lib\\site-packages (from matplotlib->deepdowmine==0.2.3) (5.2.0)\n",
      "Requirement already satisfied: click<9,>=7.0 in c:\\users\\seidm\\miniconda3\\envs\\ddow\\lib\\site-packages (from mlflow->deepdowmine==0.2.3) (8.0.4)\n",
      "Requirement already satisfied: cloudpickle<3 in c:\\users\\seidm\\miniconda3\\envs\\ddow\\lib\\site-packages (from mlflow->deepdowmine==0.2.3) (2.2.1)\n",
      "Requirement already satisfied: databricks-cli<1,>=0.8.7 in c:\\users\\seidm\\miniconda3\\envs\\ddow\\lib\\site-packages (from mlflow->deepdowmine==0.2.3) (0.17.7)\n",
      "Requirement already satisfied: entrypoints<1 in c:\\users\\seidm\\miniconda3\\envs\\ddow\\lib\\site-packages (from mlflow->deepdowmine==0.2.3) (0.4)\n",
      "Requirement already satisfied: gitpython<4,>=2.1.0 in c:\\users\\seidm\\miniconda3\\envs\\ddow\\lib\\site-packages (from mlflow->deepdowmine==0.2.3) (3.1.32)\n",
      "Requirement already satisfied: pyyaml<7,>=5.1 in c:\\users\\seidm\\miniconda3\\envs\\ddow\\lib\\site-packages (from mlflow->deepdowmine==0.2.3) (6.0)\n",
      "Requirement already satisfied: protobuf<5,>=3.12.0 in c:\\users\\seidm\\miniconda3\\envs\\ddow\\lib\\site-packages (from mlflow->deepdowmine==0.2.3) (4.24.2)\n",
      "Requirement already satisfied: pytz<2024 in c:\\users\\seidm\\miniconda3\\envs\\ddow\\lib\\site-packages (from mlflow->deepdowmine==0.2.3) (2022.7)\n",
      "Requirement already satisfied: requests<3,>=2.17.3 in c:\\users\\seidm\\miniconda3\\envs\\ddow\\lib\\site-packages (from mlflow->deepdowmine==0.2.3) (2.31.0)\n",
      "Requirement already satisfied: importlib-metadata!=4.7.0,<7,>=3.7.0 in c:\\users\\seidm\\miniconda3\\envs\\ddow\\lib\\site-packages (from mlflow->deepdowmine==0.2.3) (6.0.0)\n",
      "Requirement already satisfied: sqlparse<1,>=0.4.0 in c:\\users\\seidm\\miniconda3\\envs\\ddow\\lib\\site-packages (from mlflow->deepdowmine==0.2.3) (0.4.4)\n",
      "Requirement already satisfied: alembic!=1.10.0,<2 in c:\\users\\seidm\\miniconda3\\envs\\ddow\\lib\\site-packages (from mlflow->deepdowmine==0.2.3) (1.12.0)\n",
      "Requirement already satisfied: docker<7,>=4.0.0 in c:\\users\\seidm\\miniconda3\\envs\\ddow\\lib\\site-packages (from mlflow->deepdowmine==0.2.3) (6.1.3)\n",
      "Requirement already satisfied: Flask<3 in c:\\users\\seidm\\miniconda3\\envs\\ddow\\lib\\site-packages (from mlflow->deepdowmine==0.2.3) (2.2.2)\n",
      "Requirement already satisfied: querystring-parser<2 in c:\\users\\seidm\\miniconda3\\envs\\ddow\\lib\\site-packages (from mlflow->deepdowmine==0.2.3) (1.2.4)\n",
      "Requirement already satisfied: sqlalchemy<3,>=1.4.0 in c:\\users\\seidm\\miniconda3\\envs\\ddow\\lib\\site-packages (from mlflow->deepdowmine==0.2.3) (2.0.20)\n",
      "Requirement already satisfied: scikit-learn<2 in c:\\users\\seidm\\miniconda3\\envs\\ddow\\lib\\site-packages (from mlflow->deepdowmine==0.2.3) (1.3.0)\n",
      "Requirement already satisfied: pyarrow<13,>=4.0.0 in c:\\users\\seidm\\miniconda3\\envs\\ddow\\lib\\site-packages (from mlflow->deepdowmine==0.2.3) (12.0.1)\n",
      "Requirement already satisfied: markdown<4,>=3.3 in c:\\users\\seidm\\miniconda3\\envs\\ddow\\lib\\site-packages (from mlflow->deepdowmine==0.2.3) (3.4.4)\n",
      "Requirement already satisfied: waitress<3 in c:\\users\\seidm\\miniconda3\\envs\\ddow\\lib\\site-packages (from mlflow->deepdowmine==0.2.3) (2.1.2)\n",
      "Requirement already satisfied: tzdata>=2022.1 in c:\\users\\seidm\\miniconda3\\envs\\ddow\\lib\\site-packages (from pandas->deepdowmine==0.2.3) (2023.3)\n",
      "Requirement already satisfied: absl-py>=0.4 in c:\\users\\seidm\\miniconda3\\envs\\ddow\\lib\\site-packages (from tensorboard->deepdowmine==0.2.3) (1.4.0)\n",
      "Requirement already satisfied: grpcio>=1.48.2 in c:\\users\\seidm\\miniconda3\\envs\\ddow\\lib\\site-packages (from tensorboard->deepdowmine==0.2.3) (1.57.0)\n",
      "Requirement already satisfied: google-auth<3,>=1.6.3 in c:\\users\\seidm\\miniconda3\\envs\\ddow\\lib\\site-packages (from tensorboard->deepdowmine==0.2.3) (2.22.0)\n",
      "Requirement already satisfied: google-auth-oauthlib<1.1,>=0.5 in c:\\users\\seidm\\miniconda3\\envs\\ddow\\lib\\site-packages (from tensorboard->deepdowmine==0.2.3) (1.0.0)\n",
      "Requirement already satisfied: setuptools>=41.0.0 in c:\\users\\seidm\\miniconda3\\envs\\ddow\\lib\\site-packages (from tensorboard->deepdowmine==0.2.3) (68.0.0)\n",
      "Requirement already satisfied: tensorboard-data-server<0.8.0,>=0.7.0 in c:\\users\\seidm\\miniconda3\\envs\\ddow\\lib\\site-packages (from tensorboard->deepdowmine==0.2.3) (0.7.1)\n",
      "Requirement already satisfied: werkzeug>=1.0.1 in c:\\users\\seidm\\miniconda3\\envs\\ddow\\lib\\site-packages (from tensorboard->deepdowmine==0.2.3) (2.3.7)\n",
      "Requirement already satisfied: wheel>=0.26 in c:\\users\\seidm\\miniconda3\\envs\\ddow\\lib\\site-packages (from tensorboard->deepdowmine==0.2.3) (0.38.4)\n",
      "Requirement already satisfied: colorama in c:\\users\\seidm\\miniconda3\\envs\\ddow\\lib\\site-packages (from tqdm->deepdowmine==0.2.3) (0.4.6)\n",
      "Requirement already satisfied: Mako in c:\\users\\seidm\\miniconda3\\envs\\ddow\\lib\\site-packages (from alembic!=1.10.0,<2->mlflow->deepdowmine==0.2.3) (1.2.4)\n",
      "Requirement already satisfied: osqp>=0.4.1 in c:\\users\\seidm\\miniconda3\\envs\\ddow\\lib\\site-packages (from cvxpy>=1.1.0a4->cvxpylayers->deepdowmine==0.2.3) (0.6.3)\n",
      "Requirement already satisfied: ecos>=2 in c:\\users\\seidm\\miniconda3\\envs\\ddow\\lib\\site-packages (from cvxpy>=1.1.0a4->cvxpylayers->deepdowmine==0.2.3) (2.0.12)\n",
      "Requirement already satisfied: scs>=1.1.6 in c:\\users\\seidm\\miniconda3\\envs\\ddow\\lib\\site-packages (from cvxpy>=1.1.0a4->cvxpylayers->deepdowmine==0.2.3) (3.2.3)\n",
      "Requirement already satisfied: pyjwt>=1.7.0 in c:\\users\\seidm\\miniconda3\\envs\\ddow\\lib\\site-packages (from databricks-cli<1,>=0.8.7->mlflow->deepdowmine==0.2.3) (2.8.0)\n",
      "Requirement already satisfied: oauthlib>=3.1.0 in c:\\users\\seidm\\miniconda3\\envs\\ddow\\lib\\site-packages (from databricks-cli<1,>=0.8.7->mlflow->deepdowmine==0.2.3) (3.2.2)\n",
      "Requirement already satisfied: tabulate>=0.7.7 in c:\\users\\seidm\\miniconda3\\envs\\ddow\\lib\\site-packages (from databricks-cli<1,>=0.8.7->mlflow->deepdowmine==0.2.3) (0.9.0)\n",
      "Requirement already satisfied: six>=1.10.0 in c:\\users\\seidm\\miniconda3\\envs\\ddow\\lib\\site-packages (from databricks-cli<1,>=0.8.7->mlflow->deepdowmine==0.2.3) (1.16.0)\n",
      "Requirement already satisfied: urllib3<2.0.0,>=1.26.7 in c:\\users\\seidm\\miniconda3\\envs\\ddow\\lib\\site-packages (from databricks-cli<1,>=0.8.7->mlflow->deepdowmine==0.2.3) (1.26.16)\n",
      "Requirement already satisfied: pybind11>=2.4 in c:\\users\\seidm\\miniconda3\\envs\\ddow\\lib\\site-packages (from diffcp>=1.0.13->cvxpylayers->deepdowmine==0.2.3) (2.11.1)\n",
      "Requirement already satisfied: threadpoolctl>=1.1 in c:\\users\\seidm\\miniconda3\\envs\\ddow\\lib\\site-packages (from diffcp>=1.0.13->cvxpylayers->deepdowmine==0.2.3) (3.2.0)\n",
      "Requirement already satisfied: websocket-client>=0.32.0 in c:\\users\\seidm\\miniconda3\\envs\\ddow\\lib\\site-packages (from docker<7,>=4.0.0->mlflow->deepdowmine==0.2.3) (0.58.0)\n",
      "Requirement already satisfied: pywin32>=304 in c:\\users\\seidm\\miniconda3\\envs\\ddow\\lib\\site-packages (from docker<7,>=4.0.0->mlflow->deepdowmine==0.2.3) (305.1)\n",
      "Requirement already satisfied: itsdangerous>=2.0 in c:\\users\\seidm\\miniconda3\\envs\\ddow\\lib\\site-packages (from Flask<3->mlflow->deepdowmine==0.2.3) (2.0.1)\n",
      "Requirement already satisfied: gitdb<5,>=4.0.1 in c:\\users\\seidm\\miniconda3\\envs\\ddow\\lib\\site-packages (from gitpython<4,>=2.1.0->mlflow->deepdowmine==0.2.3) (4.0.10)\n",
      "Requirement already satisfied: cachetools<6.0,>=2.0.0 in c:\\users\\seidm\\miniconda3\\envs\\ddow\\lib\\site-packages (from google-auth<3,>=1.6.3->tensorboard->deepdowmine==0.2.3) (5.3.1)\n",
      "Requirement already satisfied: pyasn1-modules>=0.2.1 in c:\\users\\seidm\\miniconda3\\envs\\ddow\\lib\\site-packages (from google-auth<3,>=1.6.3->tensorboard->deepdowmine==0.2.3) (0.3.0)\n",
      "Requirement already satisfied: rsa<5,>=3.1.4 in c:\\users\\seidm\\miniconda3\\envs\\ddow\\lib\\site-packages (from google-auth<3,>=1.6.3->tensorboard->deepdowmine==0.2.3) (4.9)\n",
      "Requirement already satisfied: requests-oauthlib>=0.7.0 in c:\\users\\seidm\\miniconda3\\envs\\ddow\\lib\\site-packages (from google-auth-oauthlib<1.1,>=0.5->tensorboard->deepdowmine==0.2.3) (1.3.1)\n",
      "Requirement already satisfied: zipp>=0.5 in c:\\users\\seidm\\miniconda3\\envs\\ddow\\lib\\site-packages (from importlib-metadata!=4.7.0,<7,>=3.7.0->mlflow->deepdowmine==0.2.3) (3.11.0)\n",
      "Requirement already satisfied: MarkupSafe>=2.0 in c:\\users\\seidm\\miniconda3\\envs\\ddow\\lib\\site-packages (from jinja2->torch>=1.5->deepdowmine==0.2.3) (2.1.1)\n",
      "Requirement already satisfied: charset-normalizer<4,>=2 in c:\\users\\seidm\\miniconda3\\envs\\ddow\\lib\\site-packages (from requests<3,>=2.17.3->mlflow->deepdowmine==0.2.3) (2.0.4)\n",
      "Requirement already satisfied: idna<4,>=2.5 in c:\\users\\seidm\\miniconda3\\envs\\ddow\\lib\\site-packages (from requests<3,>=2.17.3->mlflow->deepdowmine==0.2.3) (3.4)\n",
      "Requirement already satisfied: certifi>=2017.4.17 in c:\\users\\seidm\\miniconda3\\envs\\ddow\\lib\\site-packages (from requests<3,>=2.17.3->mlflow->deepdowmine==0.2.3) (2023.7.22)\n",
      "Requirement already satisfied: joblib>=1.1.1 in c:\\users\\seidm\\miniconda3\\envs\\ddow\\lib\\site-packages (from scikit-learn<2->mlflow->deepdowmine==0.2.3) (1.3.2)\n",
      "Requirement already satisfied: greenlet!=0.4.17 in c:\\users\\seidm\\miniconda3\\envs\\ddow\\lib\\site-packages (from sqlalchemy<3,>=1.4.0->mlflow->deepdowmine==0.2.3) (2.0.2)\n",
      "Requirement already satisfied: mpmath>=0.19 in c:\\users\\seidm\\miniconda3\\envs\\ddow\\lib\\site-packages (from sympy->torch>=1.5->deepdowmine==0.2.3) (1.3.0)\n",
      "Requirement already satisfied: smmap<6,>=3.0.1 in c:\\users\\seidm\\miniconda3\\envs\\ddow\\lib\\site-packages (from gitdb<5,>=4.0.1->gitpython<4,>=2.1.0->mlflow->deepdowmine==0.2.3) (5.0.0)\n",
      "Requirement already satisfied: qdldl in c:\\users\\seidm\\miniconda3\\envs\\ddow\\lib\\site-packages (from osqp>=0.4.1->cvxpy>=1.1.0a4->cvxpylayers->deepdowmine==0.2.3) (0.1.7.post0)\n",
      "Requirement already satisfied: pyasn1<0.6.0,>=0.4.6 in c:\\users\\seidm\\miniconda3\\envs\\ddow\\lib\\site-packages (from pyasn1-modules>=0.2.1->google-auth<3,>=1.6.3->tensorboard->deepdowmine==0.2.3) (0.5.0)\n",
      "Building wheels for collected packages: deepdowmine\n",
      "  Building wheel for deepdowmine (setup.py): started\n",
      "  Building wheel for deepdowmine (setup.py): finished with status 'done'\n",
      "  Created wheel for deepdowmine: filename=deepdowmine-0.2.3-py3-none-any.whl size=58140 sha256=8548b99c452ee40c895dd9871f06b81be2fe8bd90430bda29ab289773277b9d5\n",
      "  Stored in directory: C:\\Users\\seidm\\AppData\\Local\\Temp\\pip-ephem-wheel-cache-jq_rcv78\\wheels\\34\\6a\\e2\\d811ae5001e9041d5979f0c60b3e7fe66582099e9e229bead2\n",
      "Successfully built deepdowmine\n",
      "Installing collected packages: deepdowmine\n",
      "Successfully installed deepdowmine-0.2.3\n"
     ]
    }
   ],
   "source": [
    "!pip install git+https://github.com/dsman1823/deepdowmine.git"
   ]
  },
  {
   "cell_type": "code",
   "execution_count": 1,
   "metadata": {
    "id": "tfN21pcMhatf"
   },
   "outputs": [],
   "source": [
    "from deepdowmine.layers import CovarianceMatrix\n",
    "from deepdowmine.layers.allocate import NumericalMarkowitzWithShorting\n",
    "import torch\n",
    "import torch.nn.functional as F"
   ]
  },
  {
   "cell_type": "code",
   "execution_count": 2,
   "metadata": {
    "id": "eWwxa1MBf-Sk"
   },
   "outputs": [],
   "source": [
    "from deepdowmine.benchmarks import Benchmark, OneOverN, Random\n",
    "from deepdowmine.callbacks import EarlyStoppingCallback\n",
    "from deepdowmine.data import InRAMDataset, RigidDataLoader, prepare_standard_scaler, Scale, SeqRigidDataLoader, WeeklyRigidDataLoader\n",
    "from deepdowmine.data.synthetic import sin_single\n",
    "from deepdowmine.experiments import Run\n",
    "from deepdowmine.layers import SoftmaxAllocator\n",
    "from deepdowmine.losses import MeanReturns, SharpeRatio, MaximumDrawdown, StandardDeviation\n",
    "from deepdowmine.visualize import generate_metrics_table, generate_weights_table, plot_metrics, plot_weight_heatmap\n",
    "from deepdowmine.nn import BachelierNetWithShorting, BachelierNet, KeynesNet, BachelierNetWithShortingUpd, LinearNetMine\n",
    "from deepdowmine.nn import RnnNetFullOpti, LstmNetFullOpti, DenseNetMinVar, DenseNetFullOpti, ConvNetFullOpti\n",
    "\n",
    "\n",
    "import matplotlib.pyplot as plt\n",
    "import numpy as np\n",
    "import pandas as pd\n",
    "import torch\n",
    "import matplotlib.pyplot as plt\n"
   ]
  },
  {
   "cell_type": "markdown",
   "metadata": {
    "id": "VNqxm-tdcv3Y"
   },
   "source": [
    "# Setup"
   ]
  },
  {
   "cell_type": "code",
   "execution_count": 60,
   "metadata": {
    "id": "x-bSnRLxonV_"
   },
   "outputs": [],
   "source": [
    "np.random.seed(5)\n",
    "returns = pd.read_csv('train_data_0.csv', index_col = 0).to_numpy()[1:]"
   ]
  },
  {
   "cell_type": "code",
   "execution_count": 61,
   "metadata": {
    "colab": {
     "base_uri": "https://localhost:8080/"
    },
    "id": "xr7u61ueYxcB",
    "outputId": "e1e9183a-1971-46b5-ab77-f79f8ba6bb65"
   },
   "outputs": [
    {
     "data": {
      "text/plain": [
       "3511"
      ]
     },
     "execution_count": 61,
     "metadata": {},
     "output_type": "execute_result"
    }
   ],
   "source": [
    "len(returns)"
   ]
  },
  {
   "cell_type": "code",
   "execution_count": 62,
   "metadata": {
    "id": "5G-3j5QtgEH6"
   },
   "outputs": [],
   "source": [
    "n_timesteps, n_assets = len(returns), 5#11**4, 450\n",
    "\n",
    "#returns = np.random.normal(0, .2, size = (n_timesteps, n_assets))\n",
    "\n",
    "lookback, gap, horizon = 50, 0, 5# 40, 0, 5   loss=-0.09645, test_loss=-0.08003]\n",
    "n_samples = n_timesteps - lookback - horizon - gap + 1\n",
    "\n",
    "indices = np.arange(n_samples)\n",
    "# np.random.seed(32)\n",
    "# np.random.shuffle(indices)\n",
    "split_ix = int(n_samples * 0.8)\n",
    "indices_train = list(range(split_ix))\n",
    "indices_test = list(range(split_ix + lookback + horizon, n_samples))\n",
    "\n",
    "# Split the indices array into training and test sets\n",
    "split_ix = int(n_samples * 0.9)\n",
    "indices_train = indices[:split_ix]\n",
    "indices_test = indices[split_ix:]\n",
    "\n",
    "\n",
    "# print('Train range: {}:{}\\nTest range: {}:{}'.format(indices_train[0], indices_train[-1],\n",
    "#                                                      indices_test[0], indices_test[-1]))"
   ]
  },
  {
   "cell_type": "code",
   "execution_count": 63,
   "metadata": {
    "id": "3WWSpDn2IuhS"
   },
   "outputs": [],
   "source": [
    "def transform_returns_to_Xy_tensors(returns, lookback, n_timesteps, horizon, gap):\n",
    "    X_list, y_list = [], []\n",
    "\n",
    "    for i in range(lookback, n_timesteps - horizon - gap + 1):\n",
    "        X_list.append(returns[i - lookback: i, :])\n",
    "        y_list.append(returns[i + gap: i + gap + horizon, :])\n",
    "\n",
    "    X = np.stack(X_list, axis=0)[:, None, ...]\n",
    "    y = np.stack(y_list, axis=0)[:, None, ...]\n",
    "\n",
    "    return X, y"
   ]
  },
  {
   "cell_type": "code",
   "execution_count": 64,
   "metadata": {
    "id": "lw1e3TQXgHI5"
   },
   "outputs": [],
   "source": [
    "\n",
    "#returns = np.random.normal(0, .2, size = (n_timesteps, n_assets))\n",
    "\n",
    "# X_list, y_list = [], []\n",
    "\n",
    "# for i in range(lookback, n_timesteps - horizon - gap + 1):\n",
    "#     X_list.append(returns[i - lookback: i, :])\n",
    "#     y_list.append(returns[i + gap: i + gap + horizon, :])\n",
    "\n",
    "# X = np.stack(X_list, axis=0)[:, None, ...]\n",
    "# y = np.stack(y_list, axis=0)[:, None, ...]\n",
    "X, y = transform_returns_to_Xy_tensors(returns, lookback, n_timesteps, horizon, gap)\n",
    "#print('X: {}, y: {}'.format(X.shape, y.shape))\n",
    "\n",
    "# means, stds = prepare_standard_scaler(X, indices=indices_train)\n",
    "# print('mean: {}, std: {}'.format(means, stds))\n",
    "\n",
    "dataset = InRAMDataset(X, y)\n",
    "#, transform=Scale(means, stds))\n",
    "dataloader_train = SeqRigidDataLoader(dataset,\n",
    "                                   indices=indices_train,\n",
    "                                   batch_size=32)\n",
    "\n",
    "dataloader_test = SeqRigidDataLoader(dataset,\n",
    "                                  indices=indices_test,\n",
    "                                  batch_size=32)\n",
    "\n"
   ]
  },
  {
   "cell_type": "markdown",
   "metadata": {
    "id": "Ka29tJgfco0Z"
   },
   "source": [
    "# Network setup"
   ]
  },
  {
   "cell_type": "code",
   "execution_count": 65,
   "metadata": {
    "id": "8DwRhcJKfRU-"
   },
   "outputs": [],
   "source": [
    "from deepdowmine.losses import SharpeRatio"
   ]
  },
  {
   "cell_type": "code",
   "execution_count": 66,
   "metadata": {
    "id": "ejAd0srJV0xX"
   },
   "outputs": [],
   "source": [
    "import cvxpy as cp\n",
    "from cvxpylayers.torch import CvxpyLayer\n",
    "import torch\n",
    "from torch.distributions import MultivariateNormal\n",
    "import torch.nn as nn\n",
    "import torch.nn.init as init\n",
    "from deepdowmine.layers.misc import Cov2Corr, CovarianceMatrix, KMeans\n",
    "# from deepdowmine.layers.transform import Cov\n",
    "import deepdowmine.layers.transform as ddt\n",
    "\n",
    "from deepdowmine.nn import UpdNumericalMarkowitzWithShorting, MinVarWithShorting, BachelierNetWithShortingUpd, DenseNetMinVar\n",
    "from deepdowmine.layers import RNN, AttentionCollapse, AverageCollapse\n",
    "import torch.nn.functional as F"
   ]
  },
  {
   "cell_type": "code",
   "execution_count": 67,
   "metadata": {
    "id": "278apII78IIU"
   },
   "outputs": [],
   "source": [
    "n_samples, n_input_channels, lookback, n_assets = 32, 1, 50, 5\n",
    "n_output_channels = 8\n",
    "x = torch.rand(n_samples, n_input_channels, lookback, n_assets)\n",
    "layer = nn.RNN(5, 8)"
   ]
  },
  {
   "cell_type": "code",
   "execution_count": 68,
   "metadata": {
    "id": "OoEzSLRz-pc9"
   },
   "outputs": [],
   "source": [
    "#tmp['conv_res'].shape"
   ]
  },
  {
   "cell_type": "code",
   "execution_count": 69,
   "metadata": {
    "id": "nDWQuzbCWRqA"
   },
   "outputs": [],
   "source": [
    "from deepdowmine.nn import RnnNetMinVar, LstmNetMinVar, ConvNetMinVar"
   ]
  },
  {
   "cell_type": "code",
   "execution_count": 70,
   "metadata": {
    "colab": {
     "base_uri": "https://localhost:8080/"
    },
    "id": "DOuNfpMXgcKN",
    "outputId": "c116905c-4f66-43bc-e8e2-fd7c37945835"
   },
   "outputs": [
    {
     "name": "stdout",
     "output_type": "stream",
     "text": [
      "DenseNetFullOpti(\n",
      "  (norm_layer): BatchNorm1d(250, eps=1e-05, momentum=0.1, affine=True, track_running_stats=True)\n",
      "  (linear_for_cov): Linear(in_features=250, out_features=250, bias=True)\n",
      "  (covariance_layer): CovarianceMatrix()\n",
      "  (linear): Linear(in_features=250, out_features=5, bias=True)\n",
      "  (dropout): Dropout(p=0.2, inplace=False)\n",
      "  (portfolio_opt_layer): UpdNumericalMarkowitzWithShorting(\n",
      "    (cvxpylayer): CvxpyLayer()\n",
      "  )\n",
      ")\n"
     ]
    }
   ],
   "source": [
    "network = DenseNetFullOpti(1, 50, 5, .2)\n",
    "print(network)\n",
    "network = network.train()\n",
    "loss = SharpeRatio()\n",
    "run = Run(network,\n",
    "          loss,\n",
    "          dataloader_train,\n",
    "          val_dataloaders={\n",
    "              'test': dataloader_test,\n",
    "              'train': dataloader_train\n",
    "              },\n",
    "          optimizer=torch.optim.Adam(network.parameters(), amsgrad=True),\n",
    "          callbacks=[EarlyStoppingCallback(metric_name='loss',\n",
    "                                           dataloader_name='test',\n",
    "                                           patience=15)]) #15 # patience controlls amount offffffffffffffffffffffffffffffffffffffffffffffffffffffffffffffffffrfvd"
   ]
  },
  {
   "cell_type": "markdown",
   "metadata": {
    "id": "sL_SktboD7l8"
   },
   "source": [
    "# Train start"
   ]
  },
  {
   "cell_type": "code",
   "execution_count": null,
   "metadata": {
    "colab": {
     "base_uri": "https://localhost:8080/"
    },
    "id": "wo4B68DGhMjY",
    "outputId": "83c2c8a2-3768-4416-8c7b-d1c62725dc21"
   },
   "outputs": [
    {
     "name": "stderr",
     "output_type": "stream",
     "text": [
      "Epoch 0:   0%|                                                                                  | 0/98 [00:00<?, ?it/s]C:\\Users\\seidm\\miniconda3\\envs\\ddow\\lib\\site-packages\\threadpoolctl.py:1010: RuntimeWarning: \n",
      "Found Intel OpenMP ('libiomp') and LLVM OpenMP ('libomp') loaded at\n",
      "the same time. Both libraries are known to be incompatible and this\n",
      "can cause random crashes or deadlocks on Linux when loaded in the\n",
      "same Python program.\n",
      "Using threadpoolctl may cause crashes or deadlocks. For more\n",
      "information and possible workarounds, please see\n",
      "    https://github.com/joblib/threadpoolctl/blob/master/multiple_openmp.md\n",
      "\n",
      "  warnings.warn(msg, RuntimeWarning)\n",
      "Epoch 0: 100%|█████████████████| 98/98 [01:44<00:00,  1.06s/it, loss=-0.05382, test_loss=-0.11612, train_loss=-0.12115]\n",
      "Epoch 1:   0%|                                                                                  | 0/98 [00:00<?, ?it/s]C:\\Users\\seidm\\miniconda3\\envs\\ddow\\lib\\site-packages\\threadpoolctl.py:1010: RuntimeWarning: \n",
      "Found Intel OpenMP ('libiomp') and LLVM OpenMP ('libomp') loaded at\n",
      "the same time. Both libraries are known to be incompatible and this\n",
      "can cause random crashes or deadlocks on Linux when loaded in the\n",
      "same Python program.\n",
      "Using threadpoolctl may cause crashes or deadlocks. For more\n",
      "information and possible workarounds, please see\n",
      "    https://github.com/joblib/threadpoolctl/blob/master/multiple_openmp.md\n",
      "\n",
      "  warnings.warn(msg, RuntimeWarning)\n",
      "Epoch 1: 100%|█████████████████| 98/98 [01:24<00:00,  1.16it/s, loss=-0.13375, test_loss=-0.13499, train_loss=-0.15732]\n",
      "Epoch 2:   0%|                                                                                  | 0/98 [00:00<?, ?it/s]C:\\Users\\seidm\\miniconda3\\envs\\ddow\\lib\\site-packages\\threadpoolctl.py:1010: RuntimeWarning: \n",
      "Found Intel OpenMP ('libiomp') and LLVM OpenMP ('libomp') loaded at\n",
      "the same time. Both libraries are known to be incompatible and this\n",
      "can cause random crashes or deadlocks on Linux when loaded in the\n",
      "same Python program.\n",
      "Using threadpoolctl may cause crashes or deadlocks. For more\n",
      "information and possible workarounds, please see\n",
      "    https://github.com/joblib/threadpoolctl/blob/master/multiple_openmp.md\n",
      "\n",
      "  warnings.warn(msg, RuntimeWarning)\n",
      "Epoch 2: 100%|█████████████████| 98/98 [01:19<00:00,  1.23it/s, loss=-0.14660, test_loss=-0.14836, train_loss=-0.18163]\n",
      "Epoch 3:   0%|                                                                                  | 0/98 [00:00<?, ?it/s]C:\\Users\\seidm\\miniconda3\\envs\\ddow\\lib\\site-packages\\threadpoolctl.py:1010: RuntimeWarning: \n",
      "Found Intel OpenMP ('libiomp') and LLVM OpenMP ('libomp') loaded at\n",
      "the same time. Both libraries are known to be incompatible and this\n",
      "can cause random crashes or deadlocks on Linux when loaded in the\n",
      "same Python program.\n",
      "Using threadpoolctl may cause crashes or deadlocks. For more\n",
      "information and possible workarounds, please see\n",
      "    https://github.com/joblib/threadpoolctl/blob/master/multiple_openmp.md\n",
      "\n",
      "  warnings.warn(msg, RuntimeWarning)\n",
      "Epoch 3: 100%|█████████████████| 98/98 [01:15<00:00,  1.30it/s, loss=-0.17919, test_loss=-0.16025, train_loss=-0.20288]\n",
      "Epoch 4:   0%|                                                                                  | 0/98 [00:00<?, ?it/s]C:\\Users\\seidm\\miniconda3\\envs\\ddow\\lib\\site-packages\\threadpoolctl.py:1010: RuntimeWarning: \n",
      "Found Intel OpenMP ('libiomp') and LLVM OpenMP ('libomp') loaded at\n",
      "the same time. Both libraries are known to be incompatible and this\n",
      "can cause random crashes or deadlocks on Linux when loaded in the\n",
      "same Python program.\n",
      "Using threadpoolctl may cause crashes or deadlocks. For more\n",
      "information and possible workarounds, please see\n",
      "    https://github.com/joblib/threadpoolctl/blob/master/multiple_openmp.md\n",
      "\n",
      "  warnings.warn(msg, RuntimeWarning)\n",
      "Epoch 4: 100%|█████████████████| 98/98 [01:15<00:00,  1.30it/s, loss=-0.19751, test_loss=-0.16485, train_loss=-0.22330]\n",
      "Epoch 5:   0%|                                                                                  | 0/98 [00:00<?, ?it/s]C:\\Users\\seidm\\miniconda3\\envs\\ddow\\lib\\site-packages\\threadpoolctl.py:1010: RuntimeWarning: \n",
      "Found Intel OpenMP ('libiomp') and LLVM OpenMP ('libomp') loaded at\n",
      "the same time. Both libraries are known to be incompatible and this\n",
      "can cause random crashes or deadlocks on Linux when loaded in the\n",
      "same Python program.\n",
      "Using threadpoolctl may cause crashes or deadlocks. For more\n",
      "information and possible workarounds, please see\n",
      "    https://github.com/joblib/threadpoolctl/blob/master/multiple_openmp.md\n",
      "\n",
      "  warnings.warn(msg, RuntimeWarning)\n",
      "Epoch 5: 100%|█████████████████| 98/98 [01:31<00:00,  1.07it/s, loss=-0.21961, test_loss=-0.17213, train_loss=-0.24315]\n",
      "Epoch 6:   0%|                                                                                  | 0/98 [00:00<?, ?it/s]C:\\Users\\seidm\\miniconda3\\envs\\ddow\\lib\\site-packages\\threadpoolctl.py:1010: RuntimeWarning: \n",
      "Found Intel OpenMP ('libiomp') and LLVM OpenMP ('libomp') loaded at\n",
      "the same time. Both libraries are known to be incompatible and this\n",
      "can cause random crashes or deadlocks on Linux when loaded in the\n",
      "same Python program.\n",
      "Using threadpoolctl may cause crashes or deadlocks. For more\n",
      "information and possible workarounds, please see\n",
      "    https://github.com/joblib/threadpoolctl/blob/master/multiple_openmp.md\n",
      "\n",
      "  warnings.warn(msg, RuntimeWarning)\n",
      "Epoch 6: 100%|█████████████████| 98/98 [01:29<00:00,  1.10it/s, loss=-0.24465, test_loss=-0.18237, train_loss=-0.26434]\n",
      "Epoch 7:   0%|                                                                                  | 0/98 [00:00<?, ?it/s]C:\\Users\\seidm\\miniconda3\\envs\\ddow\\lib\\site-packages\\threadpoolctl.py:1010: RuntimeWarning: \n",
      "Found Intel OpenMP ('libiomp') and LLVM OpenMP ('libomp') loaded at\n",
      "the same time. Both libraries are known to be incompatible and this\n",
      "can cause random crashes or deadlocks on Linux when loaded in the\n",
      "same Python program.\n",
      "Using threadpoolctl may cause crashes or deadlocks. For more\n",
      "information and possible workarounds, please see\n",
      "    https://github.com/joblib/threadpoolctl/blob/master/multiple_openmp.md\n",
      "\n",
      "  warnings.warn(msg, RuntimeWarning)\n",
      "Epoch 7: 100%|█████████████████| 98/98 [01:27<00:00,  1.12it/s, loss=-0.25939, test_loss=-0.18910, train_loss=-0.28070]\n",
      "Epoch 8:   0%|                                                                                  | 0/98 [00:00<?, ?it/s]C:\\Users\\seidm\\miniconda3\\envs\\ddow\\lib\\site-packages\\threadpoolctl.py:1010: RuntimeWarning: \n",
      "Found Intel OpenMP ('libiomp') and LLVM OpenMP ('libomp') loaded at\n",
      "the same time. Both libraries are known to be incompatible and this\n",
      "can cause random crashes or deadlocks on Linux when loaded in the\n",
      "same Python program.\n",
      "Using threadpoolctl may cause crashes or deadlocks. For more\n",
      "information and possible workarounds, please see\n",
      "    https://github.com/joblib/threadpoolctl/blob/master/multiple_openmp.md\n",
      "\n",
      "  warnings.warn(msg, RuntimeWarning)\n",
      "Epoch 8: 100%|█████████████████| 98/98 [01:20<00:00,  1.22it/s, loss=-0.29129, test_loss=-0.19533, train_loss=-0.29630]\n",
      "Epoch 9:   0%|                                                                                  | 0/98 [00:00<?, ?it/s]C:\\Users\\seidm\\miniconda3\\envs\\ddow\\lib\\site-packages\\threadpoolctl.py:1010: RuntimeWarning: \n",
      "Found Intel OpenMP ('libiomp') and LLVM OpenMP ('libomp') loaded at\n",
      "the same time. Both libraries are known to be incompatible and this\n",
      "can cause random crashes or deadlocks on Linux when loaded in the\n",
      "same Python program.\n",
      "Using threadpoolctl may cause crashes or deadlocks. For more\n",
      "information and possible workarounds, please see\n",
      "    https://github.com/joblib/threadpoolctl/blob/master/multiple_openmp.md\n",
      "\n",
      "  warnings.warn(msg, RuntimeWarning)\n",
      "Epoch 9: 100%|█████████████████| 98/98 [01:15<00:00,  1.30it/s, loss=-0.31417, test_loss=-0.18983, train_loss=-0.30473]\n",
      "Epoch 10:   0%|                                                                                 | 0/98 [00:00<?, ?it/s]C:\\Users\\seidm\\miniconda3\\envs\\ddow\\lib\\site-packages\\threadpoolctl.py:1010: RuntimeWarning: \n",
      "Found Intel OpenMP ('libiomp') and LLVM OpenMP ('libomp') loaded at\n",
      "the same time. Both libraries are known to be incompatible and this\n",
      "can cause random crashes or deadlocks on Linux when loaded in the\n",
      "same Python program.\n",
      "Using threadpoolctl may cause crashes or deadlocks. For more\n",
      "information and possible workarounds, please see\n",
      "    https://github.com/joblib/threadpoolctl/blob/master/multiple_openmp.md\n",
      "\n",
      "  warnings.warn(msg, RuntimeWarning)\n"
     ]
    },
    {
     "name": "stderr",
     "output_type": "stream",
     "text": [
      "Epoch 10: 100%|████████████████| 98/98 [01:12<00:00,  1.35it/s, loss=-0.32197, test_loss=-0.18892, train_loss=-0.31795]\n",
      "Epoch 11:   0%|                                                                                 | 0/98 [00:00<?, ?it/s]C:\\Users\\seidm\\miniconda3\\envs\\ddow\\lib\\site-packages\\threadpoolctl.py:1010: RuntimeWarning: \n",
      "Found Intel OpenMP ('libiomp') and LLVM OpenMP ('libomp') loaded at\n",
      "the same time. Both libraries are known to be incompatible and this\n",
      "can cause random crashes or deadlocks on Linux when loaded in the\n",
      "same Python program.\n",
      "Using threadpoolctl may cause crashes or deadlocks. For more\n",
      "information and possible workarounds, please see\n",
      "    https://github.com/joblib/threadpoolctl/blob/master/multiple_openmp.md\n",
      "\n",
      "  warnings.warn(msg, RuntimeWarning)\n",
      "Epoch 11: 100%|████████████████| 98/98 [01:47<00:00,  1.10s/it, loss=-0.33571, test_loss=-0.18369, train_loss=-0.32851]\n",
      "Epoch 12:   0%|                                                                                 | 0/98 [00:00<?, ?it/s]C:\\Users\\seidm\\miniconda3\\envs\\ddow\\lib\\site-packages\\threadpoolctl.py:1010: RuntimeWarning: \n",
      "Found Intel OpenMP ('libiomp') and LLVM OpenMP ('libomp') loaded at\n",
      "the same time. Both libraries are known to be incompatible and this\n",
      "can cause random crashes or deadlocks on Linux when loaded in the\n",
      "same Python program.\n",
      "Using threadpoolctl may cause crashes or deadlocks. For more\n",
      "information and possible workarounds, please see\n",
      "    https://github.com/joblib/threadpoolctl/blob/master/multiple_openmp.md\n",
      "\n",
      "  warnings.warn(msg, RuntimeWarning)\n",
      "Epoch 12: 100%|████████████████| 98/98 [01:12<00:00,  1.35it/s, loss=-0.34744, test_loss=-0.18974, train_loss=-0.33412]\n",
      "Epoch 13:   0%|                                                                                 | 0/98 [00:00<?, ?it/s]C:\\Users\\seidm\\miniconda3\\envs\\ddow\\lib\\site-packages\\threadpoolctl.py:1010: RuntimeWarning: \n",
      "Found Intel OpenMP ('libiomp') and LLVM OpenMP ('libomp') loaded at\n",
      "the same time. Both libraries are known to be incompatible and this\n",
      "can cause random crashes or deadlocks on Linux when loaded in the\n",
      "same Python program.\n",
      "Using threadpoolctl may cause crashes or deadlocks. For more\n",
      "information and possible workarounds, please see\n",
      "    https://github.com/joblib/threadpoolctl/blob/master/multiple_openmp.md\n",
      "\n",
      "  warnings.warn(msg, RuntimeWarning)\n",
      "Epoch 13: 100%|████████████████| 98/98 [01:10<00:00,  1.38it/s, loss=-0.36671, test_loss=-0.19679, train_loss=-0.33954]\n",
      "Epoch 14:   0%|                                                                                 | 0/98 [00:00<?, ?it/s]C:\\Users\\seidm\\miniconda3\\envs\\ddow\\lib\\site-packages\\threadpoolctl.py:1010: RuntimeWarning: \n",
      "Found Intel OpenMP ('libiomp') and LLVM OpenMP ('libomp') loaded at\n",
      "the same time. Both libraries are known to be incompatible and this\n",
      "can cause random crashes or deadlocks on Linux when loaded in the\n",
      "same Python program.\n",
      "Using threadpoolctl may cause crashes or deadlocks. For more\n",
      "information and possible workarounds, please see\n",
      "    https://github.com/joblib/threadpoolctl/blob/master/multiple_openmp.md\n",
      "\n",
      "  warnings.warn(msg, RuntimeWarning)\n",
      "Epoch 14: 100%|████████████████| 98/98 [01:11<00:00,  1.37it/s, loss=-0.37836, test_loss=-0.20543, train_loss=-0.35154]\n",
      "Epoch 15:   0%|                                                                                 | 0/98 [00:00<?, ?it/s]C:\\Users\\seidm\\miniconda3\\envs\\ddow\\lib\\site-packages\\threadpoolctl.py:1010: RuntimeWarning: \n",
      "Found Intel OpenMP ('libiomp') and LLVM OpenMP ('libomp') loaded at\n",
      "the same time. Both libraries are known to be incompatible and this\n",
      "can cause random crashes or deadlocks on Linux when loaded in the\n",
      "same Python program.\n",
      "Using threadpoolctl may cause crashes or deadlocks. For more\n",
      "information and possible workarounds, please see\n",
      "    https://github.com/joblib/threadpoolctl/blob/master/multiple_openmp.md\n",
      "\n",
      "  warnings.warn(msg, RuntimeWarning)\n",
      "Epoch 15: 100%|████████████████| 98/98 [01:11<00:00,  1.37it/s, loss=-0.38746, test_loss=-0.21194, train_loss=-0.37112]\n",
      "Epoch 16:   0%|                                                                                 | 0/98 [00:00<?, ?it/s]C:\\Users\\seidm\\miniconda3\\envs\\ddow\\lib\\site-packages\\threadpoolctl.py:1010: RuntimeWarning: \n",
      "Found Intel OpenMP ('libiomp') and LLVM OpenMP ('libomp') loaded at\n",
      "the same time. Both libraries are known to be incompatible and this\n",
      "can cause random crashes or deadlocks on Linux when loaded in the\n",
      "same Python program.\n",
      "Using threadpoolctl may cause crashes or deadlocks. For more\n",
      "information and possible workarounds, please see\n",
      "    https://github.com/joblib/threadpoolctl/blob/master/multiple_openmp.md\n",
      "\n",
      "  warnings.warn(msg, RuntimeWarning)\n",
      "Epoch 16: 100%|████████████████| 98/98 [01:12<00:00,  1.36it/s, loss=-0.41713, test_loss=-0.23323, train_loss=-0.38356]\n",
      "Epoch 17:   0%|                                                                                 | 0/98 [00:00<?, ?it/s]C:\\Users\\seidm\\miniconda3\\envs\\ddow\\lib\\site-packages\\threadpoolctl.py:1010: RuntimeWarning: \n",
      "Found Intel OpenMP ('libiomp') and LLVM OpenMP ('libomp') loaded at\n",
      "the same time. Both libraries are known to be incompatible and this\n",
      "can cause random crashes or deadlocks on Linux when loaded in the\n",
      "same Python program.\n",
      "Using threadpoolctl may cause crashes or deadlocks. For more\n",
      "information and possible workarounds, please see\n",
      "    https://github.com/joblib/threadpoolctl/blob/master/multiple_openmp.md\n",
      "\n",
      "  warnings.warn(msg, RuntimeWarning)\n",
      "Epoch 17: 100%|████████████████| 98/98 [01:11<00:00,  1.36it/s, loss=-0.41665, test_loss=-0.23403, train_loss=-0.39653]\n",
      "Epoch 18:   0%|                                                                                 | 0/98 [00:00<?, ?it/s]C:\\Users\\seidm\\miniconda3\\envs\\ddow\\lib\\site-packages\\threadpoolctl.py:1010: RuntimeWarning: \n",
      "Found Intel OpenMP ('libiomp') and LLVM OpenMP ('libomp') loaded at\n",
      "the same time. Both libraries are known to be incompatible and this\n",
      "can cause random crashes or deadlocks on Linux when loaded in the\n",
      "same Python program.\n",
      "Using threadpoolctl may cause crashes or deadlocks. For more\n",
      "information and possible workarounds, please see\n",
      "    https://github.com/joblib/threadpoolctl/blob/master/multiple_openmp.md\n",
      "\n",
      "  warnings.warn(msg, RuntimeWarning)\n",
      "Epoch 18: 100%|████████████████| 98/98 [01:10<00:00,  1.38it/s, loss=-0.44022, test_loss=-0.22115, train_loss=-0.39597]\n",
      "Epoch 19:   0%|                                                                                 | 0/98 [00:00<?, ?it/s]C:\\Users\\seidm\\miniconda3\\envs\\ddow\\lib\\site-packages\\threadpoolctl.py:1010: RuntimeWarning: \n",
      "Found Intel OpenMP ('libiomp') and LLVM OpenMP ('libomp') loaded at\n",
      "the same time. Both libraries are known to be incompatible and this\n",
      "can cause random crashes or deadlocks on Linux when loaded in the\n",
      "same Python program.\n",
      "Using threadpoolctl may cause crashes or deadlocks. For more\n",
      "information and possible workarounds, please see\n",
      "    https://github.com/joblib/threadpoolctl/blob/master/multiple_openmp.md\n",
      "\n",
      "  warnings.warn(msg, RuntimeWarning)\n",
      "Epoch 19: 100%|████████████████| 98/98 [01:11<00:00,  1.38it/s, loss=-0.44023, test_loss=-0.23595, train_loss=-0.39190]\n",
      "Epoch 20:   0%|                                                                                 | 0/98 [00:00<?, ?it/s]C:\\Users\\seidm\\miniconda3\\envs\\ddow\\lib\\site-packages\\threadpoolctl.py:1010: RuntimeWarning: \n",
      "Found Intel OpenMP ('libiomp') and LLVM OpenMP ('libomp') loaded at\n",
      "the same time. Both libraries are known to be incompatible and this\n",
      "can cause random crashes or deadlocks on Linux when loaded in the\n",
      "same Python program.\n",
      "Using threadpoolctl may cause crashes or deadlocks. For more\n",
      "information and possible workarounds, please see\n",
      "    https://github.com/joblib/threadpoolctl/blob/master/multiple_openmp.md\n",
      "\n",
      "  warnings.warn(msg, RuntimeWarning)\n",
      "Epoch 20: 100%|████████████████| 98/98 [01:11<00:00,  1.36it/s, loss=-0.44358, test_loss=-0.22265, train_loss=-0.39534]\n",
      "Epoch 21:   0%|                                                                                 | 0/98 [00:00<?, ?it/s]C:\\Users\\seidm\\miniconda3\\envs\\ddow\\lib\\site-packages\\threadpoolctl.py:1010: RuntimeWarning: \n",
      "Found Intel OpenMP ('libiomp') and LLVM OpenMP ('libomp') loaded at\n",
      "the same time. Both libraries are known to be incompatible and this\n",
      "can cause random crashes or deadlocks on Linux when loaded in the\n",
      "same Python program.\n",
      "Using threadpoolctl may cause crashes or deadlocks. For more\n",
      "information and possible workarounds, please see\n",
      "    https://github.com/joblib/threadpoolctl/blob/master/multiple_openmp.md\n",
      "\n",
      "  warnings.warn(msg, RuntimeWarning)\n"
     ]
    },
    {
     "name": "stderr",
     "output_type": "stream",
     "text": [
      "Epoch 21: 100%|████████████████| 98/98 [01:11<00:00,  1.38it/s, loss=-0.45703, test_loss=-0.21453, train_loss=-0.39727]\n",
      "Epoch 22:   0%|                                                                                 | 0/98 [00:00<?, ?it/s]C:\\Users\\seidm\\miniconda3\\envs\\ddow\\lib\\site-packages\\threadpoolctl.py:1010: RuntimeWarning: \n",
      "Found Intel OpenMP ('libiomp') and LLVM OpenMP ('libomp') loaded at\n",
      "the same time. Both libraries are known to be incompatible and this\n",
      "can cause random crashes or deadlocks on Linux when loaded in the\n",
      "same Python program.\n",
      "Using threadpoolctl may cause crashes or deadlocks. For more\n",
      "information and possible workarounds, please see\n",
      "    https://github.com/joblib/threadpoolctl/blob/master/multiple_openmp.md\n",
      "\n",
      "  warnings.warn(msg, RuntimeWarning)\n",
      "Epoch 22: 100%|████████████████| 98/98 [01:11<00:00,  1.38it/s, loss=-0.45148, test_loss=-0.22551, train_loss=-0.40590]\n",
      "Epoch 23:   0%|                                                                                 | 0/98 [00:00<?, ?it/s]C:\\Users\\seidm\\miniconda3\\envs\\ddow\\lib\\site-packages\\threadpoolctl.py:1010: RuntimeWarning: \n",
      "Found Intel OpenMP ('libiomp') and LLVM OpenMP ('libomp') loaded at\n",
      "the same time. Both libraries are known to be incompatible and this\n",
      "can cause random crashes or deadlocks on Linux when loaded in the\n",
      "same Python program.\n",
      "Using threadpoolctl may cause crashes or deadlocks. For more\n",
      "information and possible workarounds, please see\n",
      "    https://github.com/joblib/threadpoolctl/blob/master/multiple_openmp.md\n",
      "\n",
      "  warnings.warn(msg, RuntimeWarning)\n",
      "Epoch 23: 100%|████████████████| 98/98 [01:10<00:00,  1.38it/s, loss=-0.47269, test_loss=-0.24822, train_loss=-0.41315]\n",
      "Epoch 24:   0%|                                                                                 | 0/98 [00:00<?, ?it/s]C:\\Users\\seidm\\miniconda3\\envs\\ddow\\lib\\site-packages\\threadpoolctl.py:1010: RuntimeWarning: \n",
      "Found Intel OpenMP ('libiomp') and LLVM OpenMP ('libomp') loaded at\n",
      "the same time. Both libraries are known to be incompatible and this\n",
      "can cause random crashes or deadlocks on Linux when loaded in the\n",
      "same Python program.\n",
      "Using threadpoolctl may cause crashes or deadlocks. For more\n",
      "information and possible workarounds, please see\n",
      "    https://github.com/joblib/threadpoolctl/blob/master/multiple_openmp.md\n",
      "\n",
      "  warnings.warn(msg, RuntimeWarning)\n",
      "Epoch 24: 100%|████████████████| 98/98 [01:10<00:00,  1.39it/s, loss=-0.47353, test_loss=-0.24134, train_loss=-0.42297]\n",
      "Epoch 25:   0%|                                                                                 | 0/98 [00:00<?, ?it/s]C:\\Users\\seidm\\miniconda3\\envs\\ddow\\lib\\site-packages\\threadpoolctl.py:1010: RuntimeWarning: \n",
      "Found Intel OpenMP ('libiomp') and LLVM OpenMP ('libomp') loaded at\n",
      "the same time. Both libraries are known to be incompatible and this\n",
      "can cause random crashes or deadlocks on Linux when loaded in the\n",
      "same Python program.\n",
      "Using threadpoolctl may cause crashes or deadlocks. For more\n",
      "information and possible workarounds, please see\n",
      "    https://github.com/joblib/threadpoolctl/blob/master/multiple_openmp.md\n",
      "\n",
      "  warnings.warn(msg, RuntimeWarning)\n",
      "Epoch 25: 100%|████████████████| 98/98 [01:11<00:00,  1.38it/s, loss=-0.48746, test_loss=-0.24409, train_loss=-0.42843]\n",
      "Epoch 26:   0%|                                                                                 | 0/98 [00:00<?, ?it/s]C:\\Users\\seidm\\miniconda3\\envs\\ddow\\lib\\site-packages\\threadpoolctl.py:1010: RuntimeWarning: \n",
      "Found Intel OpenMP ('libiomp') and LLVM OpenMP ('libomp') loaded at\n",
      "the same time. Both libraries are known to be incompatible and this\n",
      "can cause random crashes or deadlocks on Linux when loaded in the\n",
      "same Python program.\n",
      "Using threadpoolctl may cause crashes or deadlocks. For more\n",
      "information and possible workarounds, please see\n",
      "    https://github.com/joblib/threadpoolctl/blob/master/multiple_openmp.md\n",
      "\n",
      "  warnings.warn(msg, RuntimeWarning)\n",
      "Epoch 26: 100%|████████████████| 98/98 [01:10<00:00,  1.39it/s, loss=-0.49507, test_loss=-0.23888, train_loss=-0.43540]\n",
      "Epoch 27:   0%|                                                                                 | 0/98 [00:00<?, ?it/s]C:\\Users\\seidm\\miniconda3\\envs\\ddow\\lib\\site-packages\\threadpoolctl.py:1010: RuntimeWarning: \n",
      "Found Intel OpenMP ('libiomp') and LLVM OpenMP ('libomp') loaded at\n",
      "the same time. Both libraries are known to be incompatible and this\n",
      "can cause random crashes or deadlocks on Linux when loaded in the\n",
      "same Python program.\n",
      "Using threadpoolctl may cause crashes or deadlocks. For more\n",
      "information and possible workarounds, please see\n",
      "    https://github.com/joblib/threadpoolctl/blob/master/multiple_openmp.md\n",
      "\n",
      "  warnings.warn(msg, RuntimeWarning)\n",
      "Epoch 27: 100%|████████████████| 98/98 [01:10<00:00,  1.38it/s, loss=-0.49610, test_loss=-0.23981, train_loss=-0.43874]\n",
      "Epoch 28:   0%|                                                                                 | 0/98 [00:00<?, ?it/s]C:\\Users\\seidm\\miniconda3\\envs\\ddow\\lib\\site-packages\\threadpoolctl.py:1010: RuntimeWarning: \n",
      "Found Intel OpenMP ('libiomp') and LLVM OpenMP ('libomp') loaded at\n",
      "the same time. Both libraries are known to be incompatible and this\n",
      "can cause random crashes or deadlocks on Linux when loaded in the\n",
      "same Python program.\n",
      "Using threadpoolctl may cause crashes or deadlocks. For more\n",
      "information and possible workarounds, please see\n",
      "    https://github.com/joblib/threadpoolctl/blob/master/multiple_openmp.md\n",
      "\n",
      "  warnings.warn(msg, RuntimeWarning)\n",
      "Epoch 28: 100%|████████████████| 98/98 [01:11<00:00,  1.37it/s, loss=-0.52137, test_loss=-0.24863, train_loss=-0.43738]\n",
      "Epoch 29:   0%|                                                                                 | 0/98 [00:00<?, ?it/s]C:\\Users\\seidm\\miniconda3\\envs\\ddow\\lib\\site-packages\\threadpoolctl.py:1010: RuntimeWarning: \n",
      "Found Intel OpenMP ('libiomp') and LLVM OpenMP ('libomp') loaded at\n",
      "the same time. Both libraries are known to be incompatible and this\n",
      "can cause random crashes or deadlocks on Linux when loaded in the\n",
      "same Python program.\n",
      "Using threadpoolctl may cause crashes or deadlocks. For more\n",
      "information and possible workarounds, please see\n",
      "    https://github.com/joblib/threadpoolctl/blob/master/multiple_openmp.md\n",
      "\n",
      "  warnings.warn(msg, RuntimeWarning)\n",
      "Epoch 29: 100%|████████████████| 98/98 [01:12<00:00,  1.35it/s, loss=-0.53045, test_loss=-0.24623, train_loss=-0.44611]\n",
      "Epoch 30:   0%|                                                                                 | 0/98 [00:00<?, ?it/s]C:\\Users\\seidm\\miniconda3\\envs\\ddow\\lib\\site-packages\\threadpoolctl.py:1010: RuntimeWarning: \n",
      "Found Intel OpenMP ('libiomp') and LLVM OpenMP ('libomp') loaded at\n",
      "the same time. Both libraries are known to be incompatible and this\n",
      "can cause random crashes or deadlocks on Linux when loaded in the\n",
      "same Python program.\n",
      "Using threadpoolctl may cause crashes or deadlocks. For more\n",
      "information and possible workarounds, please see\n",
      "    https://github.com/joblib/threadpoolctl/blob/master/multiple_openmp.md\n",
      "\n",
      "  warnings.warn(msg, RuntimeWarning)\n",
      "Epoch 30: 100%|████████████████| 98/98 [01:10<00:00,  1.38it/s, loss=-0.53003, test_loss=-0.24778, train_loss=-0.43949]\n",
      "Epoch 31:   0%|                                                                                 | 0/98 [00:00<?, ?it/s]C:\\Users\\seidm\\miniconda3\\envs\\ddow\\lib\\site-packages\\threadpoolctl.py:1010: RuntimeWarning: \n",
      "Found Intel OpenMP ('libiomp') and LLVM OpenMP ('libomp') loaded at\n",
      "the same time. Both libraries are known to be incompatible and this\n",
      "can cause random crashes or deadlocks on Linux when loaded in the\n",
      "same Python program.\n",
      "Using threadpoolctl may cause crashes or deadlocks. For more\n",
      "information and possible workarounds, please see\n",
      "    https://github.com/joblib/threadpoolctl/blob/master/multiple_openmp.md\n",
      "\n",
      "  warnings.warn(msg, RuntimeWarning)\n",
      "Epoch 31: 100%|████████████████| 98/98 [01:10<00:00,  1.38it/s, loss=-0.51565, test_loss=-0.24426, train_loss=-0.44495]\n",
      "Epoch 32:   0%|                                                                                 | 0/98 [00:00<?, ?it/s]C:\\Users\\seidm\\miniconda3\\envs\\ddow\\lib\\site-packages\\threadpoolctl.py:1010: RuntimeWarning: \n",
      "Found Intel OpenMP ('libiomp') and LLVM OpenMP ('libomp') loaded at\n",
      "the same time. Both libraries are known to be incompatible and this\n",
      "can cause random crashes or deadlocks on Linux when loaded in the\n",
      "same Python program.\n",
      "Using threadpoolctl may cause crashes or deadlocks. For more\n",
      "information and possible workarounds, please see\n",
      "    https://github.com/joblib/threadpoolctl/blob/master/multiple_openmp.md\n",
      "\n",
      "  warnings.warn(msg, RuntimeWarning)\n"
     ]
    },
    {
     "name": "stderr",
     "output_type": "stream",
     "text": [
      "Epoch 32: 100%|████████████████| 98/98 [01:10<00:00,  1.39it/s, loss=-0.53436, test_loss=-0.24826, train_loss=-0.44829]\n",
      "Epoch 33:   0%|                                                                                 | 0/98 [00:00<?, ?it/s]C:\\Users\\seidm\\miniconda3\\envs\\ddow\\lib\\site-packages\\threadpoolctl.py:1010: RuntimeWarning: \n",
      "Found Intel OpenMP ('libiomp') and LLVM OpenMP ('libomp') loaded at\n",
      "the same time. Both libraries are known to be incompatible and this\n",
      "can cause random crashes or deadlocks on Linux when loaded in the\n",
      "same Python program.\n",
      "Using threadpoolctl may cause crashes or deadlocks. For more\n",
      "information and possible workarounds, please see\n",
      "    https://github.com/joblib/threadpoolctl/blob/master/multiple_openmp.md\n",
      "\n",
      "  warnings.warn(msg, RuntimeWarning)\n",
      "Epoch 33: 100%|████████████████| 98/98 [01:11<00:00,  1.38it/s, loss=-0.52777, test_loss=-0.26234, train_loss=-0.45614]\n",
      "Epoch 34:   0%|                                                                                 | 0/98 [00:00<?, ?it/s]C:\\Users\\seidm\\miniconda3\\envs\\ddow\\lib\\site-packages\\threadpoolctl.py:1010: RuntimeWarning: \n",
      "Found Intel OpenMP ('libiomp') and LLVM OpenMP ('libomp') loaded at\n",
      "the same time. Both libraries are known to be incompatible and this\n",
      "can cause random crashes or deadlocks on Linux when loaded in the\n",
      "same Python program.\n",
      "Using threadpoolctl may cause crashes or deadlocks. For more\n",
      "information and possible workarounds, please see\n",
      "    https://github.com/joblib/threadpoolctl/blob/master/multiple_openmp.md\n",
      "\n",
      "  warnings.warn(msg, RuntimeWarning)\n",
      "Epoch 34: 100%|████████████████| 98/98 [01:10<00:00,  1.39it/s, loss=-0.55608, test_loss=-0.25195, train_loss=-0.45860]\n",
      "Epoch 35:   0%|                                                                                 | 0/98 [00:00<?, ?it/s]C:\\Users\\seidm\\miniconda3\\envs\\ddow\\lib\\site-packages\\threadpoolctl.py:1010: RuntimeWarning: \n",
      "Found Intel OpenMP ('libiomp') and LLVM OpenMP ('libomp') loaded at\n",
      "the same time. Both libraries are known to be incompatible and this\n",
      "can cause random crashes or deadlocks on Linux when loaded in the\n",
      "same Python program.\n",
      "Using threadpoolctl may cause crashes or deadlocks. For more\n",
      "information and possible workarounds, please see\n",
      "    https://github.com/joblib/threadpoolctl/blob/master/multiple_openmp.md\n",
      "\n",
      "  warnings.warn(msg, RuntimeWarning)\n",
      "Epoch 35: 100%|████████████████| 98/98 [01:10<00:00,  1.39it/s, loss=-0.55736, test_loss=-0.27271, train_loss=-0.46641]\n",
      "Epoch 36:   0%|                                                                                 | 0/98 [00:00<?, ?it/s]C:\\Users\\seidm\\miniconda3\\envs\\ddow\\lib\\site-packages\\threadpoolctl.py:1010: RuntimeWarning: \n",
      "Found Intel OpenMP ('libiomp') and LLVM OpenMP ('libomp') loaded at\n",
      "the same time. Both libraries are known to be incompatible and this\n",
      "can cause random crashes or deadlocks on Linux when loaded in the\n",
      "same Python program.\n",
      "Using threadpoolctl may cause crashes or deadlocks. For more\n",
      "information and possible workarounds, please see\n",
      "    https://github.com/joblib/threadpoolctl/blob/master/multiple_openmp.md\n",
      "\n",
      "  warnings.warn(msg, RuntimeWarning)\n",
      "Epoch 36: 100%|████████████████| 98/98 [01:10<00:00,  1.38it/s, loss=-0.55732, test_loss=-0.25654, train_loss=-0.46648]\n",
      "Epoch 37:   0%|                                                                                 | 0/98 [00:00<?, ?it/s]C:\\Users\\seidm\\miniconda3\\envs\\ddow\\lib\\site-packages\\threadpoolctl.py:1010: RuntimeWarning: \n",
      "Found Intel OpenMP ('libiomp') and LLVM OpenMP ('libomp') loaded at\n",
      "the same time. Both libraries are known to be incompatible and this\n",
      "can cause random crashes or deadlocks on Linux when loaded in the\n",
      "same Python program.\n",
      "Using threadpoolctl may cause crashes or deadlocks. For more\n",
      "information and possible workarounds, please see\n",
      "    https://github.com/joblib/threadpoolctl/blob/master/multiple_openmp.md\n",
      "\n",
      "  warnings.warn(msg, RuntimeWarning)\n",
      "Epoch 37: 100%|████████████████| 98/98 [01:11<00:00,  1.38it/s, loss=-0.56527, test_loss=-0.25956, train_loss=-0.47182]\n",
      "Epoch 38:   0%|                                                                                 | 0/98 [00:00<?, ?it/s]C:\\Users\\seidm\\miniconda3\\envs\\ddow\\lib\\site-packages\\threadpoolctl.py:1010: RuntimeWarning: \n",
      "Found Intel OpenMP ('libiomp') and LLVM OpenMP ('libomp') loaded at\n",
      "the same time. Both libraries are known to be incompatible and this\n",
      "can cause random crashes or deadlocks on Linux when loaded in the\n",
      "same Python program.\n",
      "Using threadpoolctl may cause crashes or deadlocks. For more\n",
      "information and possible workarounds, please see\n",
      "    https://github.com/joblib/threadpoolctl/blob/master/multiple_openmp.md\n",
      "\n",
      "  warnings.warn(msg, RuntimeWarning)\n",
      "Epoch 38: 100%|████████████████| 98/98 [01:10<00:00,  1.38it/s, loss=-0.56540, test_loss=-0.27265, train_loss=-0.47126]\n",
      "Epoch 39:   0%|                                                                                 | 0/98 [00:00<?, ?it/s]C:\\Users\\seidm\\miniconda3\\envs\\ddow\\lib\\site-packages\\threadpoolctl.py:1010: RuntimeWarning: \n",
      "Found Intel OpenMP ('libiomp') and LLVM OpenMP ('libomp') loaded at\n",
      "the same time. Both libraries are known to be incompatible and this\n",
      "can cause random crashes or deadlocks on Linux when loaded in the\n",
      "same Python program.\n",
      "Using threadpoolctl may cause crashes or deadlocks. For more\n",
      "information and possible workarounds, please see\n",
      "    https://github.com/joblib/threadpoolctl/blob/master/multiple_openmp.md\n",
      "\n",
      "  warnings.warn(msg, RuntimeWarning)\n",
      "Epoch 39: 100%|████████████████| 98/98 [01:10<00:00,  1.38it/s, loss=-0.57418, test_loss=-0.26327, train_loss=-0.47271]\n",
      "Epoch 40:   0%|                                                                                 | 0/98 [00:00<?, ?it/s]C:\\Users\\seidm\\miniconda3\\envs\\ddow\\lib\\site-packages\\threadpoolctl.py:1010: RuntimeWarning: \n",
      "Found Intel OpenMP ('libiomp') and LLVM OpenMP ('libomp') loaded at\n",
      "the same time. Both libraries are known to be incompatible and this\n",
      "can cause random crashes or deadlocks on Linux when loaded in the\n",
      "same Python program.\n",
      "Using threadpoolctl may cause crashes or deadlocks. For more\n",
      "information and possible workarounds, please see\n",
      "    https://github.com/joblib/threadpoolctl/blob/master/multiple_openmp.md\n",
      "\n",
      "  warnings.warn(msg, RuntimeWarning)\n",
      "Epoch 40: 100%|████████████████| 98/98 [01:11<00:00,  1.38it/s, loss=-0.58231, test_loss=-0.27564, train_loss=-0.47800]\n",
      "Epoch 41:   0%|                                                                                 | 0/98 [00:00<?, ?it/s]C:\\Users\\seidm\\miniconda3\\envs\\ddow\\lib\\site-packages\\threadpoolctl.py:1010: RuntimeWarning: \n",
      "Found Intel OpenMP ('libiomp') and LLVM OpenMP ('libomp') loaded at\n",
      "the same time. Both libraries are known to be incompatible and this\n",
      "can cause random crashes or deadlocks on Linux when loaded in the\n",
      "same Python program.\n",
      "Using threadpoolctl may cause crashes or deadlocks. For more\n",
      "information and possible workarounds, please see\n",
      "    https://github.com/joblib/threadpoolctl/blob/master/multiple_openmp.md\n",
      "\n",
      "  warnings.warn(msg, RuntimeWarning)\n",
      "Epoch 41: 100%|████████████████| 98/98 [01:11<00:00,  1.37it/s, loss=-0.59258, test_loss=-0.27274, train_loss=-0.48073]\n",
      "Epoch 42:   0%|                                                                                 | 0/98 [00:00<?, ?it/s]C:\\Users\\seidm\\miniconda3\\envs\\ddow\\lib\\site-packages\\threadpoolctl.py:1010: RuntimeWarning: \n",
      "Found Intel OpenMP ('libiomp') and LLVM OpenMP ('libomp') loaded at\n",
      "the same time. Both libraries are known to be incompatible and this\n",
      "can cause random crashes or deadlocks on Linux when loaded in the\n",
      "same Python program.\n",
      "Using threadpoolctl may cause crashes or deadlocks. For more\n",
      "information and possible workarounds, please see\n",
      "    https://github.com/joblib/threadpoolctl/blob/master/multiple_openmp.md\n",
      "\n",
      "  warnings.warn(msg, RuntimeWarning)\n",
      "Epoch 42: 100%|████████████████| 98/98 [01:11<00:00,  1.38it/s, loss=-0.59369, test_loss=-0.27056, train_loss=-0.48211]\n",
      "Epoch 43:   0%|                                                                                 | 0/98 [00:00<?, ?it/s]C:\\Users\\seidm\\miniconda3\\envs\\ddow\\lib\\site-packages\\threadpoolctl.py:1010: RuntimeWarning: \n",
      "Found Intel OpenMP ('libiomp') and LLVM OpenMP ('libomp') loaded at\n",
      "the same time. Both libraries are known to be incompatible and this\n",
      "can cause random crashes or deadlocks on Linux when loaded in the\n",
      "same Python program.\n",
      "Using threadpoolctl may cause crashes or deadlocks. For more\n",
      "information and possible workarounds, please see\n",
      "    https://github.com/joblib/threadpoolctl/blob/master/multiple_openmp.md\n",
      "\n",
      "  warnings.warn(msg, RuntimeWarning)\n"
     ]
    },
    {
     "name": "stderr",
     "output_type": "stream",
     "text": [
      "Epoch 43: 100%|████████████████| 98/98 [01:10<00:00,  1.39it/s, loss=-0.59911, test_loss=-0.26833, train_loss=-0.48062]\n",
      "Epoch 44:   0%|                                                                                 | 0/98 [00:00<?, ?it/s]C:\\Users\\seidm\\miniconda3\\envs\\ddow\\lib\\site-packages\\threadpoolctl.py:1010: RuntimeWarning: \n",
      "Found Intel OpenMP ('libiomp') and LLVM OpenMP ('libomp') loaded at\n",
      "the same time. Both libraries are known to be incompatible and this\n",
      "can cause random crashes or deadlocks on Linux when loaded in the\n",
      "same Python program.\n",
      "Using threadpoolctl may cause crashes or deadlocks. For more\n",
      "information and possible workarounds, please see\n",
      "    https://github.com/joblib/threadpoolctl/blob/master/multiple_openmp.md\n",
      "\n",
      "  warnings.warn(msg, RuntimeWarning)\n",
      "Epoch 44: 100%|████████████████| 98/98 [01:11<00:00,  1.38it/s, loss=-0.60319, test_loss=-0.26319, train_loss=-0.48262]\n",
      "Epoch 45:   0%|                                                                                 | 0/98 [00:00<?, ?it/s]C:\\Users\\seidm\\miniconda3\\envs\\ddow\\lib\\site-packages\\threadpoolctl.py:1010: RuntimeWarning: \n",
      "Found Intel OpenMP ('libiomp') and LLVM OpenMP ('libomp') loaded at\n",
      "the same time. Both libraries are known to be incompatible and this\n",
      "can cause random crashes or deadlocks on Linux when loaded in the\n",
      "same Python program.\n",
      "Using threadpoolctl may cause crashes or deadlocks. For more\n",
      "information and possible workarounds, please see\n",
      "    https://github.com/joblib/threadpoolctl/blob/master/multiple_openmp.md\n",
      "\n",
      "  warnings.warn(msg, RuntimeWarning)\n",
      "Epoch 45: 100%|████████████████| 98/98 [01:10<00:00,  1.39it/s, loss=-0.59897, test_loss=-0.25654, train_loss=-0.48750]\n",
      "Epoch 46:   0%|                                                                                 | 0/98 [00:00<?, ?it/s]C:\\Users\\seidm\\miniconda3\\envs\\ddow\\lib\\site-packages\\threadpoolctl.py:1010: RuntimeWarning: \n",
      "Found Intel OpenMP ('libiomp') and LLVM OpenMP ('libomp') loaded at\n",
      "the same time. Both libraries are known to be incompatible and this\n",
      "can cause random crashes or deadlocks on Linux when loaded in the\n",
      "same Python program.\n",
      "Using threadpoolctl may cause crashes or deadlocks. For more\n",
      "information and possible workarounds, please see\n",
      "    https://github.com/joblib/threadpoolctl/blob/master/multiple_openmp.md\n",
      "\n",
      "  warnings.warn(msg, RuntimeWarning)\n",
      "Epoch 46: 100%|████████████████| 98/98 [01:10<00:00,  1.38it/s, loss=-0.60781, test_loss=-0.25630, train_loss=-0.48488]\n",
      "Epoch 47:   0%|                                                                                 | 0/98 [00:00<?, ?it/s]C:\\Users\\seidm\\miniconda3\\envs\\ddow\\lib\\site-packages\\threadpoolctl.py:1010: RuntimeWarning: \n",
      "Found Intel OpenMP ('libiomp') and LLVM OpenMP ('libomp') loaded at\n",
      "the same time. Both libraries are known to be incompatible and this\n",
      "can cause random crashes or deadlocks on Linux when loaded in the\n",
      "same Python program.\n",
      "Using threadpoolctl may cause crashes or deadlocks. For more\n",
      "information and possible workarounds, please see\n",
      "    https://github.com/joblib/threadpoolctl/blob/master/multiple_openmp.md\n",
      "\n",
      "  warnings.warn(msg, RuntimeWarning)\n",
      "Epoch 47: 100%|████████████████| 98/98 [01:10<00:00,  1.39it/s, loss=-0.59884, test_loss=-0.27224, train_loss=-0.49354]\n",
      "Epoch 48:   0%|                                                                                 | 0/98 [00:00<?, ?it/s]C:\\Users\\seidm\\miniconda3\\envs\\ddow\\lib\\site-packages\\threadpoolctl.py:1010: RuntimeWarning: \n",
      "Found Intel OpenMP ('libiomp') and LLVM OpenMP ('libomp') loaded at\n",
      "the same time. Both libraries are known to be incompatible and this\n",
      "can cause random crashes or deadlocks on Linux when loaded in the\n",
      "same Python program.\n",
      "Using threadpoolctl may cause crashes or deadlocks. For more\n",
      "information and possible workarounds, please see\n",
      "    https://github.com/joblib/threadpoolctl/blob/master/multiple_openmp.md\n",
      "\n",
      "  warnings.warn(msg, RuntimeWarning)\n",
      "Epoch 48: 100%|████████████████| 98/98 [01:12<00:00,  1.35it/s, loss=-0.60224, test_loss=-0.26645, train_loss=-0.49646]\n",
      "Epoch 49:   0%|                                                                                 | 0/98 [00:00<?, ?it/s]C:\\Users\\seidm\\miniconda3\\envs\\ddow\\lib\\site-packages\\threadpoolctl.py:1010: RuntimeWarning: \n",
      "Found Intel OpenMP ('libiomp') and LLVM OpenMP ('libomp') loaded at\n",
      "the same time. Both libraries are known to be incompatible and this\n",
      "can cause random crashes or deadlocks on Linux when loaded in the\n",
      "same Python program.\n",
      "Using threadpoolctl may cause crashes or deadlocks. For more\n",
      "information and possible workarounds, please see\n",
      "    https://github.com/joblib/threadpoolctl/blob/master/multiple_openmp.md\n",
      "\n",
      "  warnings.warn(msg, RuntimeWarning)\n",
      "Epoch 49: 100%|████████████████| 98/98 [01:11<00:00,  1.37it/s, loss=-0.60809, test_loss=-0.27868, train_loss=-0.50566]\n",
      "Epoch 50:   0%|                                                                                 | 0/98 [00:00<?, ?it/s]C:\\Users\\seidm\\miniconda3\\envs\\ddow\\lib\\site-packages\\threadpoolctl.py:1010: RuntimeWarning: \n",
      "Found Intel OpenMP ('libiomp') and LLVM OpenMP ('libomp') loaded at\n",
      "the same time. Both libraries are known to be incompatible and this\n",
      "can cause random crashes or deadlocks on Linux when loaded in the\n",
      "same Python program.\n",
      "Using threadpoolctl may cause crashes or deadlocks. For more\n",
      "information and possible workarounds, please see\n",
      "    https://github.com/joblib/threadpoolctl/blob/master/multiple_openmp.md\n",
      "\n",
      "  warnings.warn(msg, RuntimeWarning)\n",
      "Epoch 50: 100%|████████████████| 98/98 [01:12<00:00,  1.35it/s, loss=-0.61800, test_loss=-0.29405, train_loss=-0.50716]\n",
      "Epoch 51:   0%|                                                                                 | 0/98 [00:00<?, ?it/s]C:\\Users\\seidm\\miniconda3\\envs\\ddow\\lib\\site-packages\\threadpoolctl.py:1010: RuntimeWarning: \n",
      "Found Intel OpenMP ('libiomp') and LLVM OpenMP ('libomp') loaded at\n",
      "the same time. Both libraries are known to be incompatible and this\n",
      "can cause random crashes or deadlocks on Linux when loaded in the\n",
      "same Python program.\n",
      "Using threadpoolctl may cause crashes or deadlocks. For more\n",
      "information and possible workarounds, please see\n",
      "    https://github.com/joblib/threadpoolctl/blob/master/multiple_openmp.md\n",
      "\n",
      "  warnings.warn(msg, RuntimeWarning)\n",
      "Epoch 51: 100%|████████████████| 98/98 [01:11<00:00,  1.37it/s, loss=-0.62366, test_loss=-0.28039, train_loss=-0.51191]\n",
      "Epoch 52:   0%|                                                                                 | 0/98 [00:00<?, ?it/s]C:\\Users\\seidm\\miniconda3\\envs\\ddow\\lib\\site-packages\\threadpoolctl.py:1010: RuntimeWarning: \n",
      "Found Intel OpenMP ('libiomp') and LLVM OpenMP ('libomp') loaded at\n",
      "the same time. Both libraries are known to be incompatible and this\n",
      "can cause random crashes or deadlocks on Linux when loaded in the\n",
      "same Python program.\n",
      "Using threadpoolctl may cause crashes or deadlocks. For more\n",
      "information and possible workarounds, please see\n",
      "    https://github.com/joblib/threadpoolctl/blob/master/multiple_openmp.md\n",
      "\n",
      "  warnings.warn(msg, RuntimeWarning)\n",
      "Epoch 52: 100%|████████████████| 98/98 [01:11<00:00,  1.37it/s, loss=-0.63273, test_loss=-0.27510, train_loss=-0.50921]\n",
      "Epoch 53:   0%|                                                                                 | 0/98 [00:00<?, ?it/s]C:\\Users\\seidm\\miniconda3\\envs\\ddow\\lib\\site-packages\\threadpoolctl.py:1010: RuntimeWarning: \n",
      "Found Intel OpenMP ('libiomp') and LLVM OpenMP ('libomp') loaded at\n",
      "the same time. Both libraries are known to be incompatible and this\n",
      "can cause random crashes or deadlocks on Linux when loaded in the\n",
      "same Python program.\n",
      "Using threadpoolctl may cause crashes or deadlocks. For more\n",
      "information and possible workarounds, please see\n",
      "    https://github.com/joblib/threadpoolctl/blob/master/multiple_openmp.md\n",
      "\n",
      "  warnings.warn(msg, RuntimeWarning)\n",
      "Epoch 53: 100%|████████████████| 98/98 [01:11<00:00,  1.37it/s, loss=-0.61402, test_loss=-0.28099, train_loss=-0.51198]\n",
      "Epoch 54:   0%|                                                                                 | 0/98 [00:00<?, ?it/s]C:\\Users\\seidm\\miniconda3\\envs\\ddow\\lib\\site-packages\\threadpoolctl.py:1010: RuntimeWarning: \n",
      "Found Intel OpenMP ('libiomp') and LLVM OpenMP ('libomp') loaded at\n",
      "the same time. Both libraries are known to be incompatible and this\n",
      "can cause random crashes or deadlocks on Linux when loaded in the\n",
      "same Python program.\n",
      "Using threadpoolctl may cause crashes or deadlocks. For more\n",
      "information and possible workarounds, please see\n",
      "    https://github.com/joblib/threadpoolctl/blob/master/multiple_openmp.md\n",
      "\n",
      "  warnings.warn(msg, RuntimeWarning)\n"
     ]
    },
    {
     "name": "stderr",
     "output_type": "stream",
     "text": [
      "Epoch 54: 100%|████████████████| 98/98 [01:12<00:00,  1.35it/s, loss=-0.63999, test_loss=-0.28442, train_loss=-0.51104]\n",
      "Epoch 55:   0%|                                                                                 | 0/98 [00:00<?, ?it/s]C:\\Users\\seidm\\miniconda3\\envs\\ddow\\lib\\site-packages\\threadpoolctl.py:1010: RuntimeWarning: \n",
      "Found Intel OpenMP ('libiomp') and LLVM OpenMP ('libomp') loaded at\n",
      "the same time. Both libraries are known to be incompatible and this\n",
      "can cause random crashes or deadlocks on Linux when loaded in the\n",
      "same Python program.\n",
      "Using threadpoolctl may cause crashes or deadlocks. For more\n",
      "information and possible workarounds, please see\n",
      "    https://github.com/joblib/threadpoolctl/blob/master/multiple_openmp.md\n",
      "\n",
      "  warnings.warn(msg, RuntimeWarning)\n",
      "Epoch 55: 100%|████████████████| 98/98 [01:10<00:00,  1.38it/s, loss=-0.64263, test_loss=-0.27984, train_loss=-0.51408]\n",
      "Epoch 56:   0%|                                                                                 | 0/98 [00:00<?, ?it/s]C:\\Users\\seidm\\miniconda3\\envs\\ddow\\lib\\site-packages\\threadpoolctl.py:1010: RuntimeWarning: \n",
      "Found Intel OpenMP ('libiomp') and LLVM OpenMP ('libomp') loaded at\n",
      "the same time. Both libraries are known to be incompatible and this\n",
      "can cause random crashes or deadlocks on Linux when loaded in the\n",
      "same Python program.\n",
      "Using threadpoolctl may cause crashes or deadlocks. For more\n",
      "information and possible workarounds, please see\n",
      "    https://github.com/joblib/threadpoolctl/blob/master/multiple_openmp.md\n",
      "\n",
      "  warnings.warn(msg, RuntimeWarning)\n",
      "Epoch 56: 100%|████████████████| 98/98 [01:10<00:00,  1.38it/s, loss=-0.63992, test_loss=-0.27070, train_loss=-0.51599]\n",
      "Epoch 57:   0%|                                                                                 | 0/98 [00:00<?, ?it/s]C:\\Users\\seidm\\miniconda3\\envs\\ddow\\lib\\site-packages\\threadpoolctl.py:1010: RuntimeWarning: \n",
      "Found Intel OpenMP ('libiomp') and LLVM OpenMP ('libomp') loaded at\n",
      "the same time. Both libraries are known to be incompatible and this\n",
      "can cause random crashes or deadlocks on Linux when loaded in the\n",
      "same Python program.\n",
      "Using threadpoolctl may cause crashes or deadlocks. For more\n",
      "information and possible workarounds, please see\n",
      "    https://github.com/joblib/threadpoolctl/blob/master/multiple_openmp.md\n",
      "\n",
      "  warnings.warn(msg, RuntimeWarning)\n",
      "Epoch 57: 100%|████████████████| 98/98 [01:37<00:00,  1.01it/s, loss=-0.64435, test_loss=-0.28304, train_loss=-0.51091]\n",
      "Epoch 58:   0%|                                                                                 | 0/98 [00:00<?, ?it/s]C:\\Users\\seidm\\miniconda3\\envs\\ddow\\lib\\site-packages\\threadpoolctl.py:1010: RuntimeWarning: \n",
      "Found Intel OpenMP ('libiomp') and LLVM OpenMP ('libomp') loaded at\n",
      "the same time. Both libraries are known to be incompatible and this\n",
      "can cause random crashes or deadlocks on Linux when loaded in the\n",
      "same Python program.\n",
      "Using threadpoolctl may cause crashes or deadlocks. For more\n",
      "information and possible workarounds, please see\n",
      "    https://github.com/joblib/threadpoolctl/blob/master/multiple_openmp.md\n",
      "\n",
      "  warnings.warn(msg, RuntimeWarning)\n",
      "Epoch 58: 100%|████████████████| 98/98 [01:11<00:00,  1.37it/s, loss=-0.64984, test_loss=-0.28570, train_loss=-0.52123]\n",
      "Epoch 59:   0%|                                                                                 | 0/98 [00:00<?, ?it/s]C:\\Users\\seidm\\miniconda3\\envs\\ddow\\lib\\site-packages\\threadpoolctl.py:1010: RuntimeWarning: \n",
      "Found Intel OpenMP ('libiomp') and LLVM OpenMP ('libomp') loaded at\n",
      "the same time. Both libraries are known to be incompatible and this\n",
      "can cause random crashes or deadlocks on Linux when loaded in the\n",
      "same Python program.\n",
      "Using threadpoolctl may cause crashes or deadlocks. For more\n",
      "information and possible workarounds, please see\n",
      "    https://github.com/joblib/threadpoolctl/blob/master/multiple_openmp.md\n",
      "\n",
      "  warnings.warn(msg, RuntimeWarning)\n",
      "Epoch 59: 100%|████████████████| 98/98 [01:11<00:00,  1.38it/s, loss=-0.65279, test_loss=-0.29200, train_loss=-0.51949]\n",
      "Epoch 60:   0%|                                                                                 | 0/98 [00:00<?, ?it/s]C:\\Users\\seidm\\miniconda3\\envs\\ddow\\lib\\site-packages\\threadpoolctl.py:1010: RuntimeWarning: \n",
      "Found Intel OpenMP ('libiomp') and LLVM OpenMP ('libomp') loaded at\n",
      "the same time. Both libraries are known to be incompatible and this\n",
      "can cause random crashes or deadlocks on Linux when loaded in the\n",
      "same Python program.\n",
      "Using threadpoolctl may cause crashes or deadlocks. For more\n",
      "information and possible workarounds, please see\n",
      "    https://github.com/joblib/threadpoolctl/blob/master/multiple_openmp.md\n",
      "\n",
      "  warnings.warn(msg, RuntimeWarning)\n",
      "Epoch 60: 100%|████████████████| 98/98 [01:10<00:00,  1.38it/s, loss=-0.64951, test_loss=-0.29756, train_loss=-0.52558]\n",
      "Epoch 61:   0%|                                                                                 | 0/98 [00:00<?, ?it/s]C:\\Users\\seidm\\miniconda3\\envs\\ddow\\lib\\site-packages\\threadpoolctl.py:1010: RuntimeWarning: \n",
      "Found Intel OpenMP ('libiomp') and LLVM OpenMP ('libomp') loaded at\n",
      "the same time. Both libraries are known to be incompatible and this\n",
      "can cause random crashes or deadlocks on Linux when loaded in the\n",
      "same Python program.\n",
      "Using threadpoolctl may cause crashes or deadlocks. For more\n",
      "information and possible workarounds, please see\n",
      "    https://github.com/joblib/threadpoolctl/blob/master/multiple_openmp.md\n",
      "\n",
      "  warnings.warn(msg, RuntimeWarning)\n",
      "Epoch 61: 100%|████████████████| 98/98 [01:33<00:00,  1.04it/s, loss=-0.66503, test_loss=-0.29111, train_loss=-0.52625]\n",
      "Epoch 62:   0%|                                                                                 | 0/98 [00:00<?, ?it/s]C:\\Users\\seidm\\miniconda3\\envs\\ddow\\lib\\site-packages\\threadpoolctl.py:1010: RuntimeWarning: \n",
      "Found Intel OpenMP ('libiomp') and LLVM OpenMP ('libomp') loaded at\n",
      "the same time. Both libraries are known to be incompatible and this\n",
      "can cause random crashes or deadlocks on Linux when loaded in the\n",
      "same Python program.\n",
      "Using threadpoolctl may cause crashes or deadlocks. For more\n",
      "information and possible workarounds, please see\n",
      "    https://github.com/joblib/threadpoolctl/blob/master/multiple_openmp.md\n",
      "\n",
      "  warnings.warn(msg, RuntimeWarning)\n",
      "Epoch 62: 100%|████████████████| 98/98 [01:10<00:00,  1.39it/s, loss=-0.66067, test_loss=-0.29926, train_loss=-0.53258]\n",
      "Epoch 63:   0%|                                                                                 | 0/98 [00:00<?, ?it/s]C:\\Users\\seidm\\miniconda3\\envs\\ddow\\lib\\site-packages\\threadpoolctl.py:1010: RuntimeWarning: \n",
      "Found Intel OpenMP ('libiomp') and LLVM OpenMP ('libomp') loaded at\n",
      "the same time. Both libraries are known to be incompatible and this\n",
      "can cause random crashes or deadlocks on Linux when loaded in the\n",
      "same Python program.\n",
      "Using threadpoolctl may cause crashes or deadlocks. For more\n",
      "information and possible workarounds, please see\n",
      "    https://github.com/joblib/threadpoolctl/blob/master/multiple_openmp.md\n",
      "\n",
      "  warnings.warn(msg, RuntimeWarning)\n",
      "Epoch 63: 100%|████████████████| 98/98 [01:11<00:00,  1.37it/s, loss=-0.64978, test_loss=-0.30665, train_loss=-0.53912]\n",
      "Epoch 64:   0%|                                                                                 | 0/98 [00:00<?, ?it/s]C:\\Users\\seidm\\miniconda3\\envs\\ddow\\lib\\site-packages\\threadpoolctl.py:1010: RuntimeWarning: \n",
      "Found Intel OpenMP ('libiomp') and LLVM OpenMP ('libomp') loaded at\n",
      "the same time. Both libraries are known to be incompatible and this\n",
      "can cause random crashes or deadlocks on Linux when loaded in the\n",
      "same Python program.\n",
      "Using threadpoolctl may cause crashes or deadlocks. For more\n",
      "information and possible workarounds, please see\n",
      "    https://github.com/joblib/threadpoolctl/blob/master/multiple_openmp.md\n",
      "\n",
      "  warnings.warn(msg, RuntimeWarning)\n",
      "Epoch 64: 100%|████████████████| 98/98 [01:34<00:00,  1.04it/s, loss=-0.66587, test_loss=-0.30595, train_loss=-0.53546]\n",
      "Epoch 65:   0%|                                                                                 | 0/98 [00:00<?, ?it/s]C:\\Users\\seidm\\miniconda3\\envs\\ddow\\lib\\site-packages\\threadpoolctl.py:1010: RuntimeWarning: \n",
      "Found Intel OpenMP ('libiomp') and LLVM OpenMP ('libomp') loaded at\n",
      "the same time. Both libraries are known to be incompatible and this\n",
      "can cause random crashes or deadlocks on Linux when loaded in the\n",
      "same Python program.\n",
      "Using threadpoolctl may cause crashes or deadlocks. For more\n",
      "information and possible workarounds, please see\n",
      "    https://github.com/joblib/threadpoolctl/blob/master/multiple_openmp.md\n",
      "\n",
      "  warnings.warn(msg, RuntimeWarning)\n"
     ]
    },
    {
     "name": "stderr",
     "output_type": "stream",
     "text": [
      "Epoch 65: 100%|████████████████| 98/98 [01:11<00:00,  1.36it/s, loss=-0.69093, test_loss=-0.31174, train_loss=-0.53299]\n",
      "Epoch 66:   0%|                                                                                 | 0/98 [00:00<?, ?it/s]C:\\Users\\seidm\\miniconda3\\envs\\ddow\\lib\\site-packages\\threadpoolctl.py:1010: RuntimeWarning: \n",
      "Found Intel OpenMP ('libiomp') and LLVM OpenMP ('libomp') loaded at\n",
      "the same time. Both libraries are known to be incompatible and this\n",
      "can cause random crashes or deadlocks on Linux when loaded in the\n",
      "same Python program.\n",
      "Using threadpoolctl may cause crashes or deadlocks. For more\n",
      "information and possible workarounds, please see\n",
      "    https://github.com/joblib/threadpoolctl/blob/master/multiple_openmp.md\n",
      "\n",
      "  warnings.warn(msg, RuntimeWarning)\n",
      "Epoch 66: 100%|████████████████| 98/98 [01:12<00:00,  1.36it/s, loss=-0.65226, test_loss=-0.29525, train_loss=-0.54031]\n",
      "Epoch 67:   0%|                                                                                 | 0/98 [00:00<?, ?it/s]C:\\Users\\seidm\\miniconda3\\envs\\ddow\\lib\\site-packages\\threadpoolctl.py:1010: RuntimeWarning: \n",
      "Found Intel OpenMP ('libiomp') and LLVM OpenMP ('libomp') loaded at\n",
      "the same time. Both libraries are known to be incompatible and this\n",
      "can cause random crashes or deadlocks on Linux when loaded in the\n",
      "same Python program.\n",
      "Using threadpoolctl may cause crashes or deadlocks. For more\n",
      "information and possible workarounds, please see\n",
      "    https://github.com/joblib/threadpoolctl/blob/master/multiple_openmp.md\n",
      "\n",
      "  warnings.warn(msg, RuntimeWarning)\n",
      "Epoch 67: 100%|████████████████| 98/98 [01:31<00:00,  1.07it/s, loss=-0.67756, test_loss=-0.30939, train_loss=-0.54309]\n",
      "Epoch 68:   0%|                                                                                 | 0/98 [00:00<?, ?it/s]C:\\Users\\seidm\\miniconda3\\envs\\ddow\\lib\\site-packages\\threadpoolctl.py:1010: RuntimeWarning: \n",
      "Found Intel OpenMP ('libiomp') and LLVM OpenMP ('libomp') loaded at\n",
      "the same time. Both libraries are known to be incompatible and this\n",
      "can cause random crashes or deadlocks on Linux when loaded in the\n",
      "same Python program.\n",
      "Using threadpoolctl may cause crashes or deadlocks. For more\n",
      "information and possible workarounds, please see\n",
      "    https://github.com/joblib/threadpoolctl/blob/master/multiple_openmp.md\n",
      "\n",
      "  warnings.warn(msg, RuntimeWarning)\n",
      "Epoch 68: 100%|████████████████| 98/98 [01:10<00:00,  1.39it/s, loss=-0.67460, test_loss=-0.31728, train_loss=-0.54637]\n",
      "Epoch 69:   0%|                                                                                 | 0/98 [00:00<?, ?it/s]C:\\Users\\seidm\\miniconda3\\envs\\ddow\\lib\\site-packages\\threadpoolctl.py:1010: RuntimeWarning: \n",
      "Found Intel OpenMP ('libiomp') and LLVM OpenMP ('libomp') loaded at\n",
      "the same time. Both libraries are known to be incompatible and this\n",
      "can cause random crashes or deadlocks on Linux when loaded in the\n",
      "same Python program.\n",
      "Using threadpoolctl may cause crashes or deadlocks. For more\n",
      "information and possible workarounds, please see\n",
      "    https://github.com/joblib/threadpoolctl/blob/master/multiple_openmp.md\n",
      "\n",
      "  warnings.warn(msg, RuntimeWarning)\n",
      "Epoch 69: 100%|████████████████| 98/98 [01:33<00:00,  1.05it/s, loss=-0.68930, test_loss=-0.32991, train_loss=-0.54052]\n",
      "Epoch 70:   0%|                                                                                 | 0/98 [00:00<?, ?it/s]C:\\Users\\seidm\\miniconda3\\envs\\ddow\\lib\\site-packages\\threadpoolctl.py:1010: RuntimeWarning: \n",
      "Found Intel OpenMP ('libiomp') and LLVM OpenMP ('libomp') loaded at\n",
      "the same time. Both libraries are known to be incompatible and this\n",
      "can cause random crashes or deadlocks on Linux when loaded in the\n",
      "same Python program.\n",
      "Using threadpoolctl may cause crashes or deadlocks. For more\n",
      "information and possible workarounds, please see\n",
      "    https://github.com/joblib/threadpoolctl/blob/master/multiple_openmp.md\n",
      "\n",
      "  warnings.warn(msg, RuntimeWarning)\n",
      "Epoch 70: 100%|████████████████| 98/98 [01:10<00:00,  1.39it/s, loss=-0.67229, test_loss=-0.32735, train_loss=-0.54585]\n",
      "Epoch 71:   0%|                                                                                 | 0/98 [00:00<?, ?it/s]C:\\Users\\seidm\\miniconda3\\envs\\ddow\\lib\\site-packages\\threadpoolctl.py:1010: RuntimeWarning: \n",
      "Found Intel OpenMP ('libiomp') and LLVM OpenMP ('libomp') loaded at\n",
      "the same time. Both libraries are known to be incompatible and this\n",
      "can cause random crashes or deadlocks on Linux when loaded in the\n",
      "same Python program.\n",
      "Using threadpoolctl may cause crashes or deadlocks. For more\n",
      "information and possible workarounds, please see\n",
      "    https://github.com/joblib/threadpoolctl/blob/master/multiple_openmp.md\n",
      "\n",
      "  warnings.warn(msg, RuntimeWarning)\n",
      "Epoch 71: 100%|████████████████| 98/98 [01:31<00:00,  1.07it/s, loss=-0.68789, test_loss=-0.31571, train_loss=-0.54919]\n",
      "Epoch 72:   0%|                                                                                 | 0/98 [00:00<?, ?it/s]C:\\Users\\seidm\\miniconda3\\envs\\ddow\\lib\\site-packages\\threadpoolctl.py:1010: RuntimeWarning: \n",
      "Found Intel OpenMP ('libiomp') and LLVM OpenMP ('libomp') loaded at\n",
      "the same time. Both libraries are known to be incompatible and this\n",
      "can cause random crashes or deadlocks on Linux when loaded in the\n",
      "same Python program.\n",
      "Using threadpoolctl may cause crashes or deadlocks. For more\n",
      "information and possible workarounds, please see\n",
      "    https://github.com/joblib/threadpoolctl/blob/master/multiple_openmp.md\n",
      "\n",
      "  warnings.warn(msg, RuntimeWarning)\n",
      "Epoch 72: 100%|████████████████| 98/98 [01:10<00:00,  1.38it/s, loss=-0.69089, test_loss=-0.31569, train_loss=-0.55267]\n",
      "Epoch 73:   0%|                                                                                 | 0/98 [00:00<?, ?it/s]C:\\Users\\seidm\\miniconda3\\envs\\ddow\\lib\\site-packages\\threadpoolctl.py:1010: RuntimeWarning: \n",
      "Found Intel OpenMP ('libiomp') and LLVM OpenMP ('libomp') loaded at\n",
      "the same time. Both libraries are known to be incompatible and this\n",
      "can cause random crashes or deadlocks on Linux when loaded in the\n",
      "same Python program.\n",
      "Using threadpoolctl may cause crashes or deadlocks. For more\n",
      "information and possible workarounds, please see\n",
      "    https://github.com/joblib/threadpoolctl/blob/master/multiple_openmp.md\n",
      "\n",
      "  warnings.warn(msg, RuntimeWarning)\n",
      "Epoch 73: 100%|████████████████| 98/98 [01:33<00:00,  1.04it/s, loss=-0.67781, test_loss=-0.32609, train_loss=-0.55026]\n",
      "Epoch 74:   0%|                                                                                 | 0/98 [00:00<?, ?it/s]C:\\Users\\seidm\\miniconda3\\envs\\ddow\\lib\\site-packages\\threadpoolctl.py:1010: RuntimeWarning: \n",
      "Found Intel OpenMP ('libiomp') and LLVM OpenMP ('libomp') loaded at\n",
      "the same time. Both libraries are known to be incompatible and this\n",
      "can cause random crashes or deadlocks on Linux when loaded in the\n",
      "same Python program.\n",
      "Using threadpoolctl may cause crashes or deadlocks. For more\n",
      "information and possible workarounds, please see\n",
      "    https://github.com/joblib/threadpoolctl/blob/master/multiple_openmp.md\n",
      "\n",
      "  warnings.warn(msg, RuntimeWarning)\n",
      "Epoch 74:  10%|█████▊                                                   | 10/98 [00:04<00:41,  2.14it/s, loss=-0.48615]"
     ]
    }
   ],
   "source": [
    "history = run.launch(450)\n",
    "torch.save(network.state_dict(), 'network_2.pth')"
   ]
  },
  {
   "cell_type": "markdown",
   "metadata": {
    "id": "x1ZAJiA3WIb8"
   },
   "source": [
    "# Check model perfomance"
   ]
  },
  {
   "cell_type": "code",
   "execution_count": 15,
   "metadata": {
    "colab": {
     "base_uri": "https://localhost:8080/"
    },
    "id": "c_C6qYeh57N2",
    "outputId": "d7e4d6ec-0ea7-4cd8-85a1-db313452e03c"
   },
   "outputs": [
    {
     "name": "stderr",
     "output_type": "stream",
     "text": [
      "C:\\Users\\seidm\\miniconda3\\envs\\ddow\\lib\\site-packages\\torch\\nn\\modules\\rnn.py:71: UserWarning: dropout option adds dropout after all but last recurrent layer, so non-zero dropout expects num_layers greater than 1, but got dropout=0.5 and num_layers=1\n",
      "  warnings.warn(\"dropout option adds dropout after all but last \"\n",
      "Exception ignored in: <function tqdm.__del__ at 0x00000280484739D0>\n",
      "Traceback (most recent call last):\n",
      "  File \"C:\\Users\\seidm\\miniconda3\\envs\\ddow\\lib\\site-packages\\tqdm\\std.py\", line 1149, in __del__\n",
      "    self.close()\n",
      "  File \"C:\\Users\\seidm\\miniconda3\\envs\\ddow\\lib\\site-packages\\tqdm\\std.py\", line 1268, in close\n",
      "    if self.disable:\n",
      "AttributeError: 'tqdm' object has no attribute 'disable'\n",
      "\n",
      "KeyboardInterrupt\n",
      "\n"
     ]
    }
   ],
   "source": [
    "  network = LstmNetMinVar(5)\n",
    "  network.load_state_dict(torch.load(fr'network_2.pth'))"
   ]
  },
  {
   "cell_type": "code",
   "execution_count": 40,
   "metadata": {
    "id": "5V7kXiXFfA29"
   },
   "outputs": [],
   "source": [
    "per_epoch_results = history.metrics.groupby(['dataloader', 'metric', 'model', 'epoch'])['value']"
   ]
  },
  {
   "cell_type": "code",
   "execution_count": null,
   "metadata": {
    "colab": {
     "background_save": true
    },
    "id": "e8UrNSPoTV4w"
   },
   "outputs": [],
   "source": []
  },
  {
   "cell_type": "code",
   "execution_count": null,
   "metadata": {},
   "outputs": [],
   "source": []
  },
  {
   "cell_type": "code",
   "execution_count": 41,
   "metadata": {
    "colab": {
     "base_uri": "https://localhost:8080/",
     "height": 472
    },
    "id": "A5Dtu_QyeIrf",
    "outputId": "04d75fd0-5a81-4d6f-9546-967462c18605"
   },
   "outputs": [
    {
     "data": {
      "image/png": "[encoded data removed]",
      "text/plain": [
       "<Figure size 640x480 with 1 Axes>"
      ]
     },
     "metadata": {},
     "output_type": "display_data"
    }
   ],
   "source": [
    "mean_test_loss = per_epoch_results.mean()['test']['loss']['network'] # tmp\n",
    "\n",
    "# Plotting the mean test loss per epoch\n",
    "mean_test_loss.plot()\n",
    "\n",
    "# Finding the epoch with the minimum test loss\n",
    "min_loss_epoch = mean_test_loss.idxmin()\n",
    "min_loss_value = mean_test_loss.min()\n",
    "\n",
    "# Adding a red vertical line at the epoch with minimum test loss\n",
    "plt.axvline(x=min_loss_epoch, color='r', linestyle='--', label=f'Min Loss at Epoch {min_loss_epoch}')\n",
    "\n",
    "# Adding some labels and title for clarity\n",
    "plt.xlabel('Epoch')\n",
    "plt.ylabel('Test Loss')\n",
    "plt.title('Validation Loss per Epoch')\n",
    "plt.legend()\n",
    "\n",
    "# Show the plot\n",
    "plt.show()"
   ]
  },
  {
   "cell_type": "markdown",
   "metadata": {
    "id": "SNjFRuqyp9R3"
   },
   "source": []
  },
  {
   "cell_type": "code",
   "execution_count": 42,
   "metadata": {
    "colab": {
     "base_uri": "https://localhost:8080/"
    },
    "id": "E9tBNUrqa4qO",
    "outputId": "a4f5a9e3-da2c-4207-eee3-202084d6e215"
   },
   "outputs": [
    {
     "data": {
      "text/plain": [
       "-0.6797077"
      ]
     },
     "execution_count": 42,
     "metadata": {},
     "output_type": "execute_result"
    }
   ],
   "source": [
    "per_epoch_results.mean()['test']['loss']['network'].mean()"
   ]
  },
  {
   "cell_type": "code",
   "execution_count": 43,
   "metadata": {
    "colab": {
     "base_uri": "https://localhost:8080/",
     "height": 472
    },
    "id": "on_gcl3zWx5p",
    "outputId": "18189bc7-f1ca-4fbc-ce19-cd5087369c35"
   },
   "outputs": [
    {
     "data": {
      "image/png": "[encoded data removed]",
      "text/plain": [
       "<Figure size 640x480 with 1 Axes>"
      ]
     },
     "metadata": {},
     "output_type": "display_data"
    }
   ],
   "source": [
    "mean_train_loss = per_epoch_results.mean()['train']['loss']['network']\n",
    "\n",
    "# Plotting the mean test loss per epoch\n",
    "mean_train_loss.plot()\n",
    "\n",
    "\n",
    "\n",
    "# Adding some labels and title for clarity\n",
    "plt.xlabel('Epoch')\n",
    "plt.ylabel('Train Loss')\n",
    "plt.title('Train Loss per Epoch')\n",
    "plt.axvline(x=min_loss_epoch, color='r', linestyle='--', label=f'The best model {min_loss_epoch}')\n",
    "\n",
    "# Show the plot\n",
    "plt.show()"
   ]
  },
  {
   "cell_type": "code",
   "execution_count": 58,
   "metadata": {
    "id": "pJDxvq5hPuml"
   },
   "outputs": [
    {
     "name": "stderr",
     "output_type": "stream",
     "text": [
      "C:\\Users\\seidm\\miniconda3\\envs\\ddow\\lib\\site-packages\\threadpoolctl.py:1010: RuntimeWarning: \n",
      "Found Intel OpenMP ('libiomp') and LLVM OpenMP ('libomp') loaded at\n",
      "the same time. Both libraries are known to be incompatible and this\n",
      "can cause random crashes or deadlocks on Linux when loaded in the\n",
      "same Python program.\n",
      "Using threadpoolctl may cause crashes or deadlocks. For more\n",
      "information and possible workarounds, please see\n",
      "    https://github.com/joblib/threadpoolctl/blob/master/multiple_openmp.md\n",
      "\n",
      "  warnings.warn(msg, RuntimeWarning)\n"
     ]
    }
   ],
   "source": [
    "from deepdowmine.benchmarks import Benchmark, OneOverN, Random\n",
    "\n",
    "benchmarks = {\n",
    "    '1overN': OneOverN(),  # each asset has weight 1 / n_assets\n",
    "    'network': network\n",
    "}\n",
    "\n",
    "metrics = {\n",
    "    'Sharpe': SharpeRatio(),\n",
    "}\n",
    "\n",
    "\n",
    "metrics_table = generate_metrics_table(benchmarks,\n",
    "                                       dataloader_test,\n",
    "                                       metrics\n",
    ")"
   ]
  },
  {
   "cell_type": "code",
   "execution_count": 59,
   "metadata": {
    "colab": {
     "base_uri": "https://localhost:8080/"
    },
    "id": "j4vNvSxtQVuj",
    "outputId": "b0c40c6c-2352-418b-b1e7-5147809bcd21"
   },
   "outputs": [
    {
     "data": {
      "text/plain": [
       "68.66514"
      ]
     },
     "execution_count": 59,
     "metadata": {},
     "output_type": "execute_result"
    }
   ],
   "source": [
    "metrics_table[metrics_table['benchmark'] == 'network']['value'].mean() / metrics_table[metrics_table['benchmark'] == '1overN']['value'].mean()"
   ]
  },
  {
   "cell_type": "code",
   "execution_count": 382,
   "metadata": {
    "colab": {
     "background_save": true
    },
    "id": "zQ7QsvJairmN",
    "outputId": "cc860057-9bb5-4b39-a085-327a9837ab3d"
   },
   "outputs": [
    {
     "data": {
      "text/plain": [
       "-0.056892693"
      ]
     },
     "execution_count": 382,
     "metadata": {},
     "output_type": "execute_result"
    }
   ],
   "source": [
    "metrics_table[metrics_table['benchmark'] == '1overN']['value'].mean()"
   ]
  },
  {
   "cell_type": "code",
   "execution_count": 246,
   "metadata": {
    "colab": {
     "background_save": true
    },
    "id": "s6rRvv1eS7kj",
    "outputId": "38f3b0b8-be12-472c-b627-c0973379e41c"
   },
   "outputs": [
    {
     "data": {
      "text/plain": [
       "-0.01617861"
      ]
     },
     "execution_count": 246,
     "metadata": {},
     "output_type": "execute_result"
    }
   ],
   "source": [
    "metrics_table[metrics_table['benchmark'] == 'network']['value'].mean()"
   ]
  },
  {
   "cell_type": "markdown",
   "metadata": {
    "id": "Ua5Bfj50VeN0"
   },
   "source": []
  },
  {
   "cell_type": "code",
   "execution_count": null,
   "metadata": {
    "colab": {
     "background_save": true
    },
    "id": "IJuWjQ14WnlV",
    "outputId": "378e7498-829e-4989-f6e0-6489756743b7"
   },
   "outputs": [
    {
     "data": {
      "text/plain": [
       "346"
      ]
     },
     "execution_count": 27,
     "metadata": {},
     "output_type": "execute_result"
    }
   ],
   "source": [
    "len(indices_test)"
   ]
  },
  {
   "cell_type": "code",
   "execution_count": null,
   "metadata": {
    "colab": {
     "background_save": true
    },
    "id": "i7oRCao6Vfj0"
   },
   "outputs": [],
   "source": [
    "one_over_n = metrics_table[metrics_table['benchmark'] == '1overN']['value']"
   ]
  },
  {
   "cell_type": "code",
   "execution_count": null,
   "metadata": {
    "colab": {
     "background_save": true
    },
    "id": "KPzn5AonWaC7",
    "outputId": "ca1934e1-9831-46de-8c12-f409297effb6"
   },
   "outputs": [
    {
     "ename": "IndexError",
     "evalue": "index 3111 is out of bounds for axis 0 with size 346",
     "output_type": "error",
     "traceback": [
      "\u001b[0;31m---------------------------------------------------------------------------\u001b[0m",
      "\u001b[0;31mIndexError\u001b[0m                                Traceback (most recent call last)",
      "\u001b[0;32m<ipython-input-29-ef515d04ffdd>\u001b[0m in \u001b[0;36m<cell line: 1>\u001b[0;34m()\u001b[0m\n\u001b[0;32m----> 1\u001b[0;31m \u001b[0mnp\u001b[0m\u001b[0;34m.\u001b[0m\u001b[0marray\u001b[0m\u001b[0;34m(\u001b[0m\u001b[0mone_over_n\u001b[0m\u001b[0;34m)\u001b[0m\u001b[0;34m[\u001b[0m\u001b[0mindices_test\u001b[0m\u001b[0;34m]\u001b[0m\u001b[0;34m\u001b[0m\u001b[0;34m\u001b[0m\u001b[0m\n\u001b[0m",
      "\u001b[0;31mIndexError\u001b[0m: index 3111 is out of bounds for axis 0 with size 346"
     ]
    }
   ],
   "source": [
    "np.array(one_over_n)[indices_test]"
   ]
  },
  {
   "cell_type": "code",
   "execution_count": null,
   "metadata": {
    "colab": {
     "background_save": true
    },
    "id": "fgUtZqOsUmXW"
   },
   "outputs": [],
   "source": [
    "# Filter the DataFrame for the two conditions\n",
    "one_over_n = -metrics_table[metrics_table['benchmark'] == '1overN']['value']\n",
    "network_res = -metrics_table[metrics_table['benchmark'] == 'network']['value']\n",
    "\n",
    "\n",
    "x_axis = np.arange(len(one_over_n))  # This will create an array [0, 1, ..., n-1]\n",
    "\n",
    "plt.figure(figsize=(10, 6))\n",
    "\n",
    "# Plot each series on the same plot\n",
    "plt.plot(x_axis, one_over_n, label='1overN', marker='o', linestyle='-')\n",
    "plt.plot(x_axis, network_res, label='Network', marker='x', linestyle='-')\n",
    "\n",
    "# Adding titles and labels\n",
    "plt.title('Sharpe Ratio Comparison')\n",
    "plt.xlabel('Index')\n",
    "plt.ylabel('Sharpe Ratio')\n",
    "\n",
    "# Show legend\n",
    "plt.legend()\n",
    "\n",
    "# Show the plot\n",
    "plt.show()"
   ]
  },
  {
   "cell_type": "code",
   "execution_count": null,
   "metadata": {
    "colab": {
     "base_uri": "https://localhost:8080/",
     "height": 141
    },
    "id": "z8OafQ7sks66",
    "outputId": "f2d25704-bec3-4a2b-a7b1-8daa75a1e096"
   },
   "outputs": [
    {
     "ename": "NameError",
     "evalue": "name 'network_res' is not defined",
     "output_type": "error",
     "traceback": [
      "\u001b[0;31m---------------------------------------------------------------------------\u001b[0m",
      "\u001b[0;31mNameError\u001b[0m                                 Traceback (most recent call last)",
      "\u001b[0;32m<ipython-input-30-f97c1788b27d>\u001b[0m in \u001b[0;36m<cell line: 1>\u001b[0;34m()\u001b[0m\n\u001b[0;32m----> 1\u001b[0;31m \u001b[0mnetwork_res\u001b[0m\u001b[0;34m\u001b[0m\u001b[0;34m\u001b[0m\u001b[0m\n\u001b[0m",
      "\u001b[0;31mNameError\u001b[0m: name 'network_res' is not defined"
     ]
    }
   ],
   "source": [
    "network_res"
   ]
  },
  {
   "cell_type": "code",
   "execution_count": null,
   "metadata": {
    "colab": {
     "background_save": true
    },
    "id": "hZrjG1lcQobW"
   },
   "outputs": [],
   "source": [
    "metrics_table[metrics_table['benchmark'] == 'network']['value'].mean()"
   ]
  },
  {
   "cell_type": "markdown",
   "metadata": {
    "id": "P5eJGUoOGQbx"
   },
   "source": [
    "# Load the results"
   ]
  },
  {
   "cell_type": "markdown",
   "metadata": {
    "id": "MYwpyZGaDw08"
   },
   "source": []
  },
  {
   "cell_type": "code",
   "execution_count": null,
   "metadata": {
    "id": "6LjHeQ5pDviF"
   },
   "outputs": [],
   "source": [
    "network = LinearNetMine(1, lookback, n_assets, p=0.5)\n",
    "network.load_state_dict(torch.load('linear_net_50x5_sharpe.pth'))"
   ]
  },
  {
   "cell_type": "code",
   "execution_count": null,
   "metadata": {
    "id": "33X2Kz5wPqQo"
   },
   "outputs": [],
   "source": []
  },
  {
   "cell_type": "markdown",
   "metadata": {
    "id": "flRu6fv_7iHV"
   },
   "source": [
    "# Supplementary code"
   ]
  },
  {
   "cell_type": "code",
   "execution_count": null,
   "metadata": {
    "id": "Hwj73IJws4sh"
   },
   "outputs": [],
   "source": [
    "# 1.363"
   ]
  },
  {
   "cell_type": "code",
   "execution_count": null,
   "metadata": {
    "id": "kkdrpOm10PR7"
   },
   "outputs": [],
   "source": [
    "X.shape"
   ]
  },
  {
   "cell_type": "code",
   "execution_count": null,
   "metadata": {
    "id": "1_zN5p6hwjbx"
   },
   "outputs": [],
   "source": [
    "test_X = torch.tensor(X[[-1]], dtype=torch.float32)#(X[indices_train], dtype=torch.float32) #indices_train\n",
    "test_X.shape"
   ]
  },
  {
   "cell_type": "code",
   "execution_count": null,
   "metadata": {
    "id": "4GLpaetmxY1j"
   },
   "outputs": [],
   "source": [
    "def get_activation(name):\n",
    "    # This function will return a hook function that stores the output in a dictionary\n",
    "    def hook(model, input, output):\n",
    "        activations[name] = output.detach()\n",
    "    return hook\n",
    "\n",
    "# Attach the hook to the covariance_layer, which precedes the channel_collapse_layer\n",
    "activations = {}\n",
    "hook = network.portfolio_opt_layer.register_forward_hook(get_activation('portfolio_opt_layer'))\n",
    "\n",
    "# Now run your data through the network. This will store the output of the covariance_layer in activations\n",
    "network(test_X)\n",
    "\n",
    "# The output you're interested in is now stored in activations['covariance_layer_output']\n",
    "input_to_channel_collapse = activations['portfolio_opt_layer']\n",
    "\n",
    "# Don't forget to remove the hook when you're done to prevent memory leaks\n",
    "hook.remove()"
   ]
  },
  {
   "cell_type": "code",
   "execution_count": null,
   "metadata": {
    "id": "zplSbU-wxa_b"
   },
   "outputs": [],
   "source": [
    "input_to_channel_collapse.shape"
   ]
  },
  {
   "cell_type": "code",
   "execution_count": null,
   "metadata": {
    "id": "VJUiUbyqyNKx"
   },
   "outputs": [],
   "source": [
    "network(test_X).shape"
   ]
  },
  {
   "cell_type": "code",
   "execution_count": null,
   "metadata": {
    "id": "FY1f1XULzwxF"
   },
   "outputs": [],
   "source": []
  }
 ],
 "metadata": {
  "colab": {
   "collapsed_sections": [
    "BlApRJuPfrxq",
    "VNqxm-tdcv3Y",
    "P5eJGUoOGQbx"
   ],
   "machine_shape": "hm",
   "provenance": []
  },
  "kernelspec": {
   "display_name": "Python 3 (ipykernel)",
   "language": "python",
   "name": "python3"
  },
  "language_info": {
   "codemirror_mode": {
    "name": "ipython",
    "version": 3
   },
   "file_extension": ".py",
   "mimetype": "text/x-python",
   "name": "python",
   "nbconvert_exporter": "python",
   "pygments_lexer": "ipython3",
   "version": "3.8.17"
  }
 },
 "nbformat": 4,
 "nbformat_minor": 1
}
